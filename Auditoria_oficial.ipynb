{
  "cells": [
    {
      "cell_type": "code",
      "execution_count": 1,
      "metadata": {
        "collapsed": true,
        "id": "WxEvABpG2aBe"
      },
      "outputs": [],
      "source": [
        "import pandas as pd\n",
        "import seaborn as sns\n",
        "import numpy as np\n",
        "import matplotlib.pyplot as plt"
      ]
    },
    {
      "cell_type": "markdown",
      "metadata": {
        "id": "rL5CQty12aBh"
      },
      "source": [
        "## Carregando os dados"
      ]
    },
    {
      "cell_type": "code",
      "source": [
        "pd.set_option('display.max_columns', 500)"
      ],
      "metadata": {
        "id": "Iexvzepdnps4"
      },
      "execution_count": 215,
      "outputs": []
    },
    {
      "cell_type": "code",
      "source": [
        "path = r\"/Users/alexecheverria/Kaggle/auditorias-em-planos-de-sade-ufg-fase-2/classificacao_binaria_train.csv\"\n",
        "pathest = r\"/Users/alexecheverria/Kaggle/auditorias-em-planos-de-sade-ufg-fase-2/classificacao_binaria_test.csv\"\n",
        "\n",
        "df = pd.read_csv(path, sep=\";\")\n",
        "df_test = pd.read_csv(pathest, sep=\";\")"
      ],
      "metadata": {
        "id": "OidY9DSY1VTj"
      },
      "execution_count": 364,
      "outputs": []
    },
    {
      "cell_type": "markdown",
      "metadata": {
        "id": "UFBla7Gg2aBk"
      },
      "source": [
        "## Overview do dataset"
      ]
    },
    {
      "cell_type": "code",
      "execution_count": 4,
      "metadata": {
        "pycharm": {
          "name": "#%%\n"
        },
        "colab": {
          "base_uri": "https://localhost:8080/"
        },
        "id": "81eWjLEk2aBk",
        "outputId": "5c48a6b1-3b05-4555-a19b-09264cec7b99"
      },
      "outputs": [
        {
          "output_type": "stream",
          "name": "stdout",
          "text": [
            "<class 'pandas.core.frame.DataFrame'>\n",
            "RangeIndex: 413266 entries, 0 to 413265\n",
            "Data columns (total 31 columns):\n",
            " #   Column                     Non-Null Count   Dtype  \n",
            "---  ------                     --------------   -----  \n",
            " 0   NR_SEQ_REQUISICAO          413266 non-null  int64  \n",
            " 1   NR_SEQ_ITEM                413266 non-null  int64  \n",
            " 2   DT_REQUISICAO              413266 non-null  int64  \n",
            " 3   DS_TIPO_GUIA               413266 non-null  object \n",
            " 4   DT_NASCIMENTO              413256 non-null  float64\n",
            " 5   NR_PRODUTO                 413266 non-null  int64  \n",
            " 6   DS_TIPO_PREST_SOLICITANTE  413266 non-null  object \n",
            " 7   DS_CBO                     413266 non-null  object \n",
            " 8   DS_TIPO_CONSULTA           15624 non-null   object \n",
            " 9   QT_TEMPO_DOENCA            303 non-null     float64\n",
            " 10  DS_UNIDADE_TEMPO_DOENCA    304 non-null     object \n",
            " 11  DS_TIPO_DOENCA             970 non-null     object \n",
            " 12  DS_INDICACAO_ACIDENTE      381251 non-null  object \n",
            " 13  DS_TIPO_SAIDA              0 non-null       float64\n",
            " 14  DS_TIPO_INTERNACAO         122044 non-null  object \n",
            " 15  DS_REGIME_INTERNACAO       122044 non-null  object \n",
            " 16  DS_CARATER_ATENDIMENTO     413266 non-null  object \n",
            " 17  DS_TIPO_ACOMODACAO         121963 non-null  object \n",
            " 18  QT_DIA_SOLICITADO          120850 non-null  float64\n",
            " 19  CD_GUIA_REFERENCIA         70526 non-null   float64\n",
            " 20  DS_TIPO_ATENDIMENTO        291925 non-null  object \n",
            " 21  CD_CID                     177972 non-null  object \n",
            " 22  DS_INDICACAO_CLINICA       325731 non-null  object \n",
            " 23  DS_TIPO_ITEM               413266 non-null  object \n",
            " 24  CD_ITEM                    413266 non-null  int64  \n",
            " 25  DS_ITEM                    413266 non-null  object \n",
            " 26  DS_CLASSE                  413266 non-null  object \n",
            " 27  DS_SUBGRUPO                413266 non-null  object \n",
            " 28  DS_GRUPO                   413266 non-null  object \n",
            " 29  QT_SOLICITADA              413266 non-null  float64\n",
            " 30  DS_STATUS_ITEM             413266 non-null  object \n",
            "dtypes: float64(6), int64(5), object(20)\n",
            "memory usage: 97.7+ MB\n"
          ]
        }
      ],
      "source": [
        "df.info()"
      ]
    },
    {
      "cell_type": "markdown",
      "metadata": {
        "id": "w5WCrqEk2aBm"
      },
      "source": [
        "### Primeiro vamos verificar nulos"
      ]
    },
    {
      "cell_type": "code",
      "execution_count": 5,
      "metadata": {
        "pycharm": {
          "name": "#%%\n"
        },
        "colab": {
          "base_uri": "https://localhost:8080/"
        },
        "id": "weem2_7q2aBm",
        "outputId": "47ab2c8b-c130-4d01-e570-a556ad4bc4ad"
      },
      "outputs": [
        {
          "output_type": "execute_result",
          "data": {
            "text/plain": [
              "(413266, 31)"
            ]
          },
          "metadata": {},
          "execution_count": 5
        }
      ],
      "source": [
        "df.shape"
      ]
    },
    {
      "cell_type": "code",
      "execution_count": 6,
      "metadata": {
        "pycharm": {
          "name": "#%%\n"
        },
        "colab": {
          "base_uri": "https://localhost:8080/"
        },
        "id": "5zfpQ35Q2aBn",
        "outputId": "2a955aa4-f20f-473f-c477-a7391a425157"
      },
      "outputs": [
        {
          "output_type": "execute_result",
          "data": {
            "text/plain": [
              "NR_SEQ_REQUISICAO                 0\n",
              "NR_SEQ_ITEM                       0\n",
              "DT_REQUISICAO                     0\n",
              "DS_TIPO_GUIA                      0\n",
              "DT_NASCIMENTO                    10\n",
              "NR_PRODUTO                        0\n",
              "DS_TIPO_PREST_SOLICITANTE         0\n",
              "DS_CBO                            0\n",
              "DS_TIPO_CONSULTA             397642\n",
              "QT_TEMPO_DOENCA              412963\n",
              "DS_UNIDADE_TEMPO_DOENCA      412962\n",
              "DS_TIPO_DOENCA               412296\n",
              "DS_INDICACAO_ACIDENTE         32015\n",
              "DS_TIPO_SAIDA                413266\n",
              "DS_TIPO_INTERNACAO           291222\n",
              "DS_REGIME_INTERNACAO         291222\n",
              "DS_CARATER_ATENDIMENTO            0\n",
              "DS_TIPO_ACOMODACAO           291303\n",
              "QT_DIA_SOLICITADO            292416\n",
              "CD_GUIA_REFERENCIA           342740\n",
              "DS_TIPO_ATENDIMENTO          121341\n",
              "CD_CID                       235294\n",
              "DS_INDICACAO_CLINICA          87535\n",
              "DS_TIPO_ITEM                      0\n",
              "CD_ITEM                           0\n",
              "DS_ITEM                           0\n",
              "DS_CLASSE                         0\n",
              "DS_SUBGRUPO                       0\n",
              "DS_GRUPO                          0\n",
              "QT_SOLICITADA                     0\n",
              "DS_STATUS_ITEM                    0\n",
              "dtype: int64"
            ]
          },
          "metadata": {},
          "execution_count": 6
        }
      ],
      "source": [
        "df.isna().sum()"
      ]
    },
    {
      "cell_type": "markdown",
      "metadata": {
        "id": "fJ9hFrCR2aBo"
      },
      "source": [
        "#### Verificando os nulos de DT_NASCIMENTO"
      ]
    },
    {
      "cell_type": "code",
      "execution_count": 7,
      "metadata": {
        "pycharm": {
          "name": "#%%\n"
        },
        "colab": {
          "base_uri": "https://localhost:8080/",
          "height": 0
        },
        "id": "8KhurXq02aBo",
        "outputId": "eb322ab2-1356-4b5e-f2c5-405e9245d0d7"
      },
      "outputs": [
        {
          "output_type": "execute_result",
          "data": {
            "text/plain": [
              "        NR_SEQ_REQUISICAO  NR_SEQ_ITEM  DT_REQUISICAO  \\\n",
              "83452              922781      2269867        2459261   \n",
              "85197              922659      2269637        2459261   \n",
              "92213              902727      2208646        2459250   \n",
              "103329             939702       873384        2459269   \n",
              "130482            1018779      2568132        2459314   \n",
              "144245             938556      2316968        2459269   \n",
              "196795             922659      2269647        2459261   \n",
              "237152             922659      2269850        2459261   \n",
              "281314             939702      2319943        2459269   \n",
              "398941            1017273      2563293        2459313   \n",
              "\n",
              "                                            DS_TIPO_GUIA  DT_NASCIMENTO  \\\n",
              "83452                        Guia de solicitac?o SP/SADT            NaN   \n",
              "85197                     Guia de solicitac?o internac?o            NaN   \n",
              "92213                        Guia de solicitac?o SP/SADT            NaN   \n",
              "103329                       Guia de solicitac?o SP/SADT            NaN   \n",
              "130482                       Guia de solicitac?o SP/SADT            NaN   \n",
              "144245  Guia de solicitac?o de prorrogac?o de internac?o            NaN   \n",
              "196795                    Guia de solicitac?o internac?o            NaN   \n",
              "237152                    Guia de solicitac?o internac?o            NaN   \n",
              "281314                       Guia de solicitac?o SP/SADT            NaN   \n",
              "398941                       Guia de solicitac?o SP/SADT            NaN   \n",
              "\n",
              "        NR_PRODUTO DS_TIPO_PREST_SOLICITANTE  \\\n",
              "83452            1         CLINICA DE IMAGEM   \n",
              "85197            1                  HOSPITAL   \n",
              "92213            1         CLINICA DE IMAGEM   \n",
              "103329           1                   CLINICA   \n",
              "130482           1                   CLINICA   \n",
              "144245           1                  HOSPITAL   \n",
              "196795           1                  HOSPITAL   \n",
              "237152           1                  HOSPITAL   \n",
              "281314           1                   CLINICA   \n",
              "398941           1                   CLINICA   \n",
              "\n",
              "                                       DS_CBO   DS_TIPO_CONSULTA  \\\n",
              "83452   Medico ortopedista e traumatologista                 NaN   \n",
              "85197   Medico cirurgi?o de cabeca e pescoco                 NaN   \n",
              "92213   Medico ortopedista e traumatologista                 NaN   \n",
              "103329  Medico ortopedista e traumatologista                 NaN   \n",
              "130482  Medico ortopedista e traumatologista   Primeira consulta   \n",
              "144245  Medico cirurgi?o de cabeca e pescoco                 NaN   \n",
              "196795  Medico cirurgi?o de cabeca e pescoco                 NaN   \n",
              "237152  Medico cirurgi?o de cabeca e pescoco                 NaN   \n",
              "281314  Medico ortopedista e traumatologista                 NaN   \n",
              "398941  Medico ortopedista e traumatologista   Primeira consulta   \n",
              "\n",
              "        QT_TEMPO_DOENCA  ... CD_CID  \\\n",
              "83452               NaN  ...    NaN   \n",
              "85197               NaN  ...    NaN   \n",
              "92213               NaN  ...    M23   \n",
              "103329              NaN  ...   M942   \n",
              "130482              NaN  ...    NaN   \n",
              "144245              NaN  ...    NaN   \n",
              "196795              NaN  ...    NaN   \n",
              "237152              NaN  ...    NaN   \n",
              "281314              NaN  ...   M942   \n",
              "398941              NaN  ...    NaN   \n",
              "\n",
              "                                     DS_INDICACAO_CLINICA   DS_TIPO_ITEM  \\\n",
              "83452   PACIENTE COM LESAO CONDROMALACIA PATELAR NO JO...  Procedimentos   \n",
              "85197   tumor de pele em regi?o da face lateral de nar...  Procedimentos   \n",
              "92213                                                 NaN  Procedimentos   \n",
              "103329  paciente com quadro de dor importante e de lon...        MAT/MED   \n",
              "130482  complemento de autorizac?o para taxa pertinent...  Procedimentos   \n",
              "144245  tumor de pele em regi?o da face lateral de nar...  Procedimentos   \n",
              "196795  tumor de pele em regi?o da face lateral de nar...  Procedimentos   \n",
              "237152  tumor de pele em regi?o da face lateral de nar...  Procedimentos   \n",
              "281314  paciente com quadro de dor importante e de lon...  Procedimentos   \n",
              "398941  complemento de autorizac?o para taxa pertinent...  Procedimentos   \n",
              "\n",
              "         CD_ITEM                                            DS_ITEM  \\\n",
              "83452   30713137  PUNCAO ARTICULAR DIAGNOSTICA OU TERAPEUTICA (I...   \n",
              "85197   30101077  BIOPSIA DE PELE, TUMORES SUPERFICIAIS, TECIDO ...   \n",
              "92213   41101316  RM - RESSONANCIA MAGNETICA - ARTICULAR (POR AR...   \n",
              "103329    144669                          SYNVISC ONE SER.6ML - SER   \n",
              "130482  60023384          TAXA DE SALA DE PROCEDIMENTO AMBULATORIAL   \n",
              "144245  60026227  TAXA DE USO DE BISTURI ELETRONICO MICROPROCESS...   \n",
              "196795  60033711              TAXA DE OBSERVAC?O DE DE 6 A 12 HORAS   \n",
              "237152  60023104                         PORTE 1 (CIRURGIA PEQUENA)   \n",
              "281314  30713137  PUNCAO ARTICULAR DIAGNOSTICA OU TERAPEUTICA (I...   \n",
              "398941  60023384          TAXA DE SALA DE PROCEDIMENTO AMBULATORIAL   \n",
              "\n",
              "                                DS_CLASSE  \\\n",
              "83452      OUTROS PROCEDIMENTOS / PUNC?ES   \n",
              "85197                       PROCEDIMENTOS   \n",
              "92213   RESSONANCIA MAGNETICA DIAGNOSTICA   \n",
              "103329                            Protese   \n",
              "130482           FORA DO CENTRO CIRURGICO   \n",
              "144245         TAXA DE USO DE EQUIPAMENTO   \n",
              "196795           FORA DO CENTRO CIRURGICO   \n",
              "237152                EM CENTRO CIRURGICO   \n",
              "281314     OUTROS PROCEDIMENTOS / PUNC?ES   \n",
              "398941           FORA DO CENTRO CIRURGICO   \n",
              "\n",
              "                                       DS_SUBGRUPO  \\\n",
              "83452   SISTEMA MUSCULO-ESQUELETICO E ARTICULAC?ES   \n",
              "85197      PELE E TECIDO CELULAR SUBCUTANEO/ANEXOS   \n",
              "92213                        RESSONANCIA MAGNETICA   \n",
              "103329                         Material Hospitalar   \n",
              "130482                                TAXA DE SALA   \n",
              "144245                  TAXA DE USO DE EQUIPAMENTO   \n",
              "196795                                TAXA DE SALA   \n",
              "237152                                TAXA DE SALA   \n",
              "281314  SISTEMA MUSCULO-ESQUELETICO E ARTICULAC?ES   \n",
              "398941                                TAXA DE SALA   \n",
              "\n",
              "                                   DS_GRUPO  QT_SOLICITADA  DS_STATUS_ITEM  \n",
              "83452       PROCED. CIRURGICOS E INVASIVOS             1.0      Autorizado  \n",
              "85197       PROCED. CIRURGICOS E INVASIVOS             1.0      Autorizado  \n",
              "92213   PROCED. DIAGNOSTICOS E TERAPEUTICOS            1.0      Autorizado  \n",
              "103329                               Simpro            1.0      Autorizado  \n",
              "130482                                TAXAS            1.0      Autorizado  \n",
              "144245                                TAXAS            1.0          Negado  \n",
              "196795                                TAXAS            1.0      Autorizado  \n",
              "237152                                TAXAS            1.0      Autorizado  \n",
              "281314      PROCED. CIRURGICOS E INVASIVOS             1.0      Autorizado  \n",
              "398941                                TAXAS            1.0          Negado  \n",
              "\n",
              "[10 rows x 31 columns]"
            ],
            "text/html": [
              "<div>\n",
              "<style scoped>\n",
              "    .dataframe tbody tr th:only-of-type {\n",
              "        vertical-align: middle;\n",
              "    }\n",
              "\n",
              "    .dataframe tbody tr th {\n",
              "        vertical-align: top;\n",
              "    }\n",
              "\n",
              "    .dataframe thead th {\n",
              "        text-align: right;\n",
              "    }\n",
              "</style>\n",
              "<table border=\"1\" class=\"dataframe\">\n",
              "  <thead>\n",
              "    <tr style=\"text-align: right;\">\n",
              "      <th></th>\n",
              "      <th>NR_SEQ_REQUISICAO</th>\n",
              "      <th>NR_SEQ_ITEM</th>\n",
              "      <th>DT_REQUISICAO</th>\n",
              "      <th>DS_TIPO_GUIA</th>\n",
              "      <th>DT_NASCIMENTO</th>\n",
              "      <th>NR_PRODUTO</th>\n",
              "      <th>DS_TIPO_PREST_SOLICITANTE</th>\n",
              "      <th>DS_CBO</th>\n",
              "      <th>DS_TIPO_CONSULTA</th>\n",
              "      <th>QT_TEMPO_DOENCA</th>\n",
              "      <th>...</th>\n",
              "      <th>CD_CID</th>\n",
              "      <th>DS_INDICACAO_CLINICA</th>\n",
              "      <th>DS_TIPO_ITEM</th>\n",
              "      <th>CD_ITEM</th>\n",
              "      <th>DS_ITEM</th>\n",
              "      <th>DS_CLASSE</th>\n",
              "      <th>DS_SUBGRUPO</th>\n",
              "      <th>DS_GRUPO</th>\n",
              "      <th>QT_SOLICITADA</th>\n",
              "      <th>DS_STATUS_ITEM</th>\n",
              "    </tr>\n",
              "  </thead>\n",
              "  <tbody>\n",
              "    <tr>\n",
              "      <th>83452</th>\n",
              "      <td>922781</td>\n",
              "      <td>2269867</td>\n",
              "      <td>2459261</td>\n",
              "      <td>Guia de solicitac?o SP/SADT</td>\n",
              "      <td>NaN</td>\n",
              "      <td>1</td>\n",
              "      <td>CLINICA DE IMAGEM</td>\n",
              "      <td>Medico ortopedista e traumatologista</td>\n",
              "      <td>NaN</td>\n",
              "      <td>NaN</td>\n",
              "      <td>...</td>\n",
              "      <td>NaN</td>\n",
              "      <td>PACIENTE COM LESAO CONDROMALACIA PATELAR NO JO...</td>\n",
              "      <td>Procedimentos</td>\n",
              "      <td>30713137</td>\n",
              "      <td>PUNCAO ARTICULAR DIAGNOSTICA OU TERAPEUTICA (I...</td>\n",
              "      <td>OUTROS PROCEDIMENTOS / PUNC?ES</td>\n",
              "      <td>SISTEMA MUSCULO-ESQUELETICO E ARTICULAC?ES</td>\n",
              "      <td>PROCED. CIRURGICOS E INVASIVOS</td>\n",
              "      <td>1.0</td>\n",
              "      <td>Autorizado</td>\n",
              "    </tr>\n",
              "    <tr>\n",
              "      <th>85197</th>\n",
              "      <td>922659</td>\n",
              "      <td>2269637</td>\n",
              "      <td>2459261</td>\n",
              "      <td>Guia de solicitac?o internac?o</td>\n",
              "      <td>NaN</td>\n",
              "      <td>1</td>\n",
              "      <td>HOSPITAL</td>\n",
              "      <td>Medico cirurgi?o de cabeca e pescoco</td>\n",
              "      <td>NaN</td>\n",
              "      <td>NaN</td>\n",
              "      <td>...</td>\n",
              "      <td>NaN</td>\n",
              "      <td>tumor de pele em regi?o da face lateral de nar...</td>\n",
              "      <td>Procedimentos</td>\n",
              "      <td>30101077</td>\n",
              "      <td>BIOPSIA DE PELE, TUMORES SUPERFICIAIS, TECIDO ...</td>\n",
              "      <td>PROCEDIMENTOS</td>\n",
              "      <td>PELE E TECIDO CELULAR SUBCUTANEO/ANEXOS</td>\n",
              "      <td>PROCED. CIRURGICOS E INVASIVOS</td>\n",
              "      <td>1.0</td>\n",
              "      <td>Autorizado</td>\n",
              "    </tr>\n",
              "    <tr>\n",
              "      <th>92213</th>\n",
              "      <td>902727</td>\n",
              "      <td>2208646</td>\n",
              "      <td>2459250</td>\n",
              "      <td>Guia de solicitac?o SP/SADT</td>\n",
              "      <td>NaN</td>\n",
              "      <td>1</td>\n",
              "      <td>CLINICA DE IMAGEM</td>\n",
              "      <td>Medico ortopedista e traumatologista</td>\n",
              "      <td>NaN</td>\n",
              "      <td>NaN</td>\n",
              "      <td>...</td>\n",
              "      <td>M23</td>\n",
              "      <td>NaN</td>\n",
              "      <td>Procedimentos</td>\n",
              "      <td>41101316</td>\n",
              "      <td>RM - RESSONANCIA MAGNETICA - ARTICULAR (POR AR...</td>\n",
              "      <td>RESSONANCIA MAGNETICA DIAGNOSTICA</td>\n",
              "      <td>RESSONANCIA MAGNETICA</td>\n",
              "      <td>PROCED. DIAGNOSTICOS E TERAPEUTICOS</td>\n",
              "      <td>1.0</td>\n",
              "      <td>Autorizado</td>\n",
              "    </tr>\n",
              "    <tr>\n",
              "      <th>103329</th>\n",
              "      <td>939702</td>\n",
              "      <td>873384</td>\n",
              "      <td>2459269</td>\n",
              "      <td>Guia de solicitac?o SP/SADT</td>\n",
              "      <td>NaN</td>\n",
              "      <td>1</td>\n",
              "      <td>CLINICA</td>\n",
              "      <td>Medico ortopedista e traumatologista</td>\n",
              "      <td>NaN</td>\n",
              "      <td>NaN</td>\n",
              "      <td>...</td>\n",
              "      <td>M942</td>\n",
              "      <td>paciente com quadro de dor importante e de lon...</td>\n",
              "      <td>MAT/MED</td>\n",
              "      <td>144669</td>\n",
              "      <td>SYNVISC ONE SER.6ML - SER</td>\n",
              "      <td>Protese</td>\n",
              "      <td>Material Hospitalar</td>\n",
              "      <td>Simpro</td>\n",
              "      <td>1.0</td>\n",
              "      <td>Autorizado</td>\n",
              "    </tr>\n",
              "    <tr>\n",
              "      <th>130482</th>\n",
              "      <td>1018779</td>\n",
              "      <td>2568132</td>\n",
              "      <td>2459314</td>\n",
              "      <td>Guia de solicitac?o SP/SADT</td>\n",
              "      <td>NaN</td>\n",
              "      <td>1</td>\n",
              "      <td>CLINICA</td>\n",
              "      <td>Medico ortopedista e traumatologista</td>\n",
              "      <td>Primeira consulta</td>\n",
              "      <td>NaN</td>\n",
              "      <td>...</td>\n",
              "      <td>NaN</td>\n",
              "      <td>complemento de autorizac?o para taxa pertinent...</td>\n",
              "      <td>Procedimentos</td>\n",
              "      <td>60023384</td>\n",
              "      <td>TAXA DE SALA DE PROCEDIMENTO AMBULATORIAL</td>\n",
              "      <td>FORA DO CENTRO CIRURGICO</td>\n",
              "      <td>TAXA DE SALA</td>\n",
              "      <td>TAXAS</td>\n",
              "      <td>1.0</td>\n",
              "      <td>Autorizado</td>\n",
              "    </tr>\n",
              "    <tr>\n",
              "      <th>144245</th>\n",
              "      <td>938556</td>\n",
              "      <td>2316968</td>\n",
              "      <td>2459269</td>\n",
              "      <td>Guia de solicitac?o de prorrogac?o de internac?o</td>\n",
              "      <td>NaN</td>\n",
              "      <td>1</td>\n",
              "      <td>HOSPITAL</td>\n",
              "      <td>Medico cirurgi?o de cabeca e pescoco</td>\n",
              "      <td>NaN</td>\n",
              "      <td>NaN</td>\n",
              "      <td>...</td>\n",
              "      <td>NaN</td>\n",
              "      <td>tumor de pele em regi?o da face lateral de nar...</td>\n",
              "      <td>Procedimentos</td>\n",
              "      <td>60026227</td>\n",
              "      <td>TAXA DE USO DE BISTURI ELETRONICO MICROPROCESS...</td>\n",
              "      <td>TAXA DE USO DE EQUIPAMENTO</td>\n",
              "      <td>TAXA DE USO DE EQUIPAMENTO</td>\n",
              "      <td>TAXAS</td>\n",
              "      <td>1.0</td>\n",
              "      <td>Negado</td>\n",
              "    </tr>\n",
              "    <tr>\n",
              "      <th>196795</th>\n",
              "      <td>922659</td>\n",
              "      <td>2269647</td>\n",
              "      <td>2459261</td>\n",
              "      <td>Guia de solicitac?o internac?o</td>\n",
              "      <td>NaN</td>\n",
              "      <td>1</td>\n",
              "      <td>HOSPITAL</td>\n",
              "      <td>Medico cirurgi?o de cabeca e pescoco</td>\n",
              "      <td>NaN</td>\n",
              "      <td>NaN</td>\n",
              "      <td>...</td>\n",
              "      <td>NaN</td>\n",
              "      <td>tumor de pele em regi?o da face lateral de nar...</td>\n",
              "      <td>Procedimentos</td>\n",
              "      <td>60033711</td>\n",
              "      <td>TAXA DE OBSERVAC?O DE DE 6 A 12 HORAS</td>\n",
              "      <td>FORA DO CENTRO CIRURGICO</td>\n",
              "      <td>TAXA DE SALA</td>\n",
              "      <td>TAXAS</td>\n",
              "      <td>1.0</td>\n",
              "      <td>Autorizado</td>\n",
              "    </tr>\n",
              "    <tr>\n",
              "      <th>237152</th>\n",
              "      <td>922659</td>\n",
              "      <td>2269850</td>\n",
              "      <td>2459261</td>\n",
              "      <td>Guia de solicitac?o internac?o</td>\n",
              "      <td>NaN</td>\n",
              "      <td>1</td>\n",
              "      <td>HOSPITAL</td>\n",
              "      <td>Medico cirurgi?o de cabeca e pescoco</td>\n",
              "      <td>NaN</td>\n",
              "      <td>NaN</td>\n",
              "      <td>...</td>\n",
              "      <td>NaN</td>\n",
              "      <td>tumor de pele em regi?o da face lateral de nar...</td>\n",
              "      <td>Procedimentos</td>\n",
              "      <td>60023104</td>\n",
              "      <td>PORTE 1 (CIRURGIA PEQUENA)</td>\n",
              "      <td>EM CENTRO CIRURGICO</td>\n",
              "      <td>TAXA DE SALA</td>\n",
              "      <td>TAXAS</td>\n",
              "      <td>1.0</td>\n",
              "      <td>Autorizado</td>\n",
              "    </tr>\n",
              "    <tr>\n",
              "      <th>281314</th>\n",
              "      <td>939702</td>\n",
              "      <td>2319943</td>\n",
              "      <td>2459269</td>\n",
              "      <td>Guia de solicitac?o SP/SADT</td>\n",
              "      <td>NaN</td>\n",
              "      <td>1</td>\n",
              "      <td>CLINICA</td>\n",
              "      <td>Medico ortopedista e traumatologista</td>\n",
              "      <td>NaN</td>\n",
              "      <td>NaN</td>\n",
              "      <td>...</td>\n",
              "      <td>M942</td>\n",
              "      <td>paciente com quadro de dor importante e de lon...</td>\n",
              "      <td>Procedimentos</td>\n",
              "      <td>30713137</td>\n",
              "      <td>PUNCAO ARTICULAR DIAGNOSTICA OU TERAPEUTICA (I...</td>\n",
              "      <td>OUTROS PROCEDIMENTOS / PUNC?ES</td>\n",
              "      <td>SISTEMA MUSCULO-ESQUELETICO E ARTICULAC?ES</td>\n",
              "      <td>PROCED. CIRURGICOS E INVASIVOS</td>\n",
              "      <td>1.0</td>\n",
              "      <td>Autorizado</td>\n",
              "    </tr>\n",
              "    <tr>\n",
              "      <th>398941</th>\n",
              "      <td>1017273</td>\n",
              "      <td>2563293</td>\n",
              "      <td>2459313</td>\n",
              "      <td>Guia de solicitac?o SP/SADT</td>\n",
              "      <td>NaN</td>\n",
              "      <td>1</td>\n",
              "      <td>CLINICA</td>\n",
              "      <td>Medico ortopedista e traumatologista</td>\n",
              "      <td>Primeira consulta</td>\n",
              "      <td>NaN</td>\n",
              "      <td>...</td>\n",
              "      <td>NaN</td>\n",
              "      <td>complemento de autorizac?o para taxa pertinent...</td>\n",
              "      <td>Procedimentos</td>\n",
              "      <td>60023384</td>\n",
              "      <td>TAXA DE SALA DE PROCEDIMENTO AMBULATORIAL</td>\n",
              "      <td>FORA DO CENTRO CIRURGICO</td>\n",
              "      <td>TAXA DE SALA</td>\n",
              "      <td>TAXAS</td>\n",
              "      <td>1.0</td>\n",
              "      <td>Negado</td>\n",
              "    </tr>\n",
              "  </tbody>\n",
              "</table>\n",
              "<p>10 rows × 31 columns</p>\n",
              "</div>"
            ]
          },
          "metadata": {},
          "execution_count": 7
        }
      ],
      "source": [
        "df[df.DT_NASCIMENTO.isnull()]"
      ]
    },
    {
      "cell_type": "markdown",
      "metadata": {
        "id": "Lc5S-g9N2aBp"
      },
      "source": [
        "> Como são apenas 10 exemplos DT_NASCIMENTO nulos, vou optar por dropar, visto que quero substituir a data de nascimento pela idade do paciente."
      ]
    },
    {
      "cell_type": "code",
      "execution_count": 8,
      "metadata": {
        "pycharm": {
          "name": "#%%\n"
        },
        "id": "_QehF52Z2aBp"
      },
      "outputs": [],
      "source": [
        "## dropando os nulls\n",
        "df.dropna(subset=[\"DT_NASCIMENTO\"], inplace=True)"
      ]
    },
    {
      "cell_type": "code",
      "execution_count": 9,
      "metadata": {
        "pycharm": {
          "name": "#%%\n"
        },
        "colab": {
          "base_uri": "https://localhost:8080/"
        },
        "id": "KNbRVhFN2aBq",
        "outputId": "0af71748-2404-42ff-cf41-6c2a1029cf54"
      },
      "outputs": [
        {
          "output_type": "execute_result",
          "data": {
            "text/plain": [
              "NR_SEQ_REQUISICAO                 0\n",
              "NR_SEQ_ITEM                       0\n",
              "DT_REQUISICAO                     0\n",
              "DS_TIPO_GUIA                      0\n",
              "DT_NASCIMENTO                     0\n",
              "NR_PRODUTO                        0\n",
              "DS_TIPO_PREST_SOLICITANTE         0\n",
              "DS_CBO                            0\n",
              "DS_TIPO_CONSULTA             397634\n",
              "QT_TEMPO_DOENCA              412953\n",
              "DS_UNIDADE_TEMPO_DOENCA      412952\n",
              "DS_TIPO_DOENCA               412286\n",
              "DS_INDICACAO_ACIDENTE         32015\n",
              "DS_TIPO_SAIDA                413256\n",
              "DS_TIPO_INTERNACAO           291216\n",
              "DS_REGIME_INTERNACAO         291216\n",
              "DS_CARATER_ATENDIMENTO            0\n",
              "DS_TIPO_ACOMODACAO           291297\n",
              "QT_DIA_SOLICITADO            292410\n",
              "CD_GUIA_REFERENCIA           342733\n",
              "DS_TIPO_ATENDIMENTO          121337\n",
              "CD_CID                       235287\n",
              "DS_INDICACAO_CLINICA          87534\n",
              "DS_TIPO_ITEM                      0\n",
              "CD_ITEM                           0\n",
              "DS_ITEM                           0\n",
              "DS_CLASSE                         0\n",
              "DS_SUBGRUPO                       0\n",
              "DS_GRUPO                          0\n",
              "QT_SOLICITADA                     0\n",
              "DS_STATUS_ITEM                    0\n",
              "dtype: int64"
            ]
          },
          "metadata": {},
          "execution_count": 9
        }
      ],
      "source": [
        "df.isnull().sum()"
      ]
    },
    {
      "cell_type": "markdown",
      "metadata": {
        "id": "ioa7gzDS2aBq"
      },
      "source": [
        "#### Verificando DS_TIPO_CONSULTA"
      ]
    },
    {
      "cell_type": "code",
      "execution_count": 10,
      "metadata": {
        "pycharm": {
          "name": "#%%\n"
        },
        "colab": {
          "base_uri": "https://localhost:8080/",
          "height": 0
        },
        "id": "yEhI7jPJ2aBr",
        "outputId": "6c2e6a24-15bb-446d-b99d-0be3b04e1553"
      },
      "outputs": [
        {
          "output_type": "execute_result",
          "data": {
            "text/plain": [
              "        NR_SEQ_REQUISICAO  NR_SEQ_ITEM  DT_REQUISICAO  \\\n",
              "11                 692837      1578261        2459137   \n",
              "45                1342691      3654489        2459482   \n",
              "66                1302232      3520043        2459461   \n",
              "89                1271547      3414434        2459446   \n",
              "124               1537573      4276450        2459587   \n",
              "...                   ...          ...            ...   \n",
              "413243             746944      1745643        2459166   \n",
              "413256            1370877      3747355        2459497   \n",
              "413259            1264164      3389559        2459443   \n",
              "413261             921592      2265626        2459259   \n",
              "413264             690055      1570248        2459136   \n",
              "\n",
              "                       DS_TIPO_GUIA  DT_NASCIMENTO  NR_PRODUTO  \\\n",
              "11      Guia de solicitac?o SP/SADT      2437132.0           1   \n",
              "45      Guia de solicitac?o SP/SADT      2438260.0           1   \n",
              "66      Guia de solicitac?o SP/SADT      2445905.0           1   \n",
              "89      Guia de solicitac?o SP/SADT      2434737.0           1   \n",
              "124     Guia de solicitac?o SP/SADT      2432429.0           1   \n",
              "...                             ...            ...         ...   \n",
              "413243  Guia de solicitac?o SP/SADT      2454254.0           1   \n",
              "413256  Guia de solicitac?o SP/SADT      2435529.0           1   \n",
              "413259  Guia de solicitac?o SP/SADT      2437160.0           1   \n",
              "413261  Guia de solicitac?o SP/SADT      2437804.0           1   \n",
              "413264  Guia de solicitac?o SP/SADT      2440704.0           1   \n",
              "\n",
              "       DS_TIPO_PREST_SOLICITANTE                                 DS_CBO  \\\n",
              "11                       CLINICA                  Medico oftalmologista   \n",
              "45                       CLINICA  Medico ortopedista e traumatologista    \n",
              "66                       CLINICA                  Medico oftalmologista   \n",
              "89                       CLINICA                  Medico oftalmologista   \n",
              "124                      CLINICA                  Medico oftalmologista   \n",
              "...                          ...                                    ...   \n",
              "413243                   CLINICA                  Medico oftalmologista   \n",
              "413256                   CLINICA                  Medico oftalmologista   \n",
              "413259                   CLINICA                  Medico oftalmologista   \n",
              "413261                    MEDICO                  Medico oftalmologista   \n",
              "413264                   CLINICA                         Medico clinico   \n",
              "\n",
              "            DS_TIPO_CONSULTA  QT_TEMPO_DOENCA  ... CD_CID  \\\n",
              "11      Retorno / Seguimento              NaN  ...   H400   \n",
              "45         Primeira consulta              NaN  ...    NaN   \n",
              "66      Retorno / Seguimento              NaN  ...    H53   \n",
              "89      Retorno / Seguimento              NaN  ...   H259   \n",
              "124     Retorno / Seguimento              NaN  ...    H40   \n",
              "...                      ...              ...  ...    ...   \n",
              "413243  Retorno / Seguimento              NaN  ...   H501   \n",
              "413256     Primeira consulta              NaN  ...   H335   \n",
              "413259  Retorno / Seguimento              NaN  ...   H182   \n",
              "413261     Primeira consulta              NaN  ...    H40   \n",
              "413264     Primeira consulta              NaN  ...    H40   \n",
              "\n",
              "                                     DS_INDICACAO_CLINICA   DS_TIPO_ITEM  \\\n",
              "11      SUSPEITA DE GLAUCOMA, MIOPIA E ASTIGMATISMO IR...  Procedimentos   \n",
              "45      INFILTRAC?O DE PONTOS GATILHOS EM CINTURA ESCA...  Procedimentos   \n",
              "66          avaliac?o e tratamento de disturbios visuais.  Procedimentos   \n",
              "89                             PRE OPERATORIO DE CATARATA  Procedimentos   \n",
              "124                               Avaliac?o e tratamento   Procedimentos   \n",
              "...                                                   ...            ...   \n",
              "413243                                                NaN  Procedimentos   \n",
              "413256                     OUTROS DESCOLAMENTOS DE RETINA  Procedimentos   \n",
              "413259  Avaliac?o e tratamento de edema de cornea + al...  Procedimentos   \n",
              "413261                                       h40 glaucoma  Procedimentos   \n",
              "413264                                           GLAUCOMA  Procedimentos   \n",
              "\n",
              "         CD_ITEM                                            DS_ITEM  \\\n",
              "11      41501128               PAQUIMETRIA ULTRASSONICA - MONOCULAR   \n",
              "45      40901220  USG - ULTRASSONOGRAFIA - ARTICULAR (POR ARTICU...   \n",
              "66      41501128               PAQUIMETRIA ULTRASSONICA - MONOCULAR   \n",
              "89      41301080           CERATOSCOPIA COMPUTADORIZADA - MONOCULAR   \n",
              "124     40103137            CAMPIMETRIA COMPUTADORIZADA - MONOCULAR   \n",
              "...          ...                                                ...   \n",
              "413243  41301200  EXAME DE MOTILIDADE OCULAR (TESTE ORTOPTICO) -...   \n",
              "413256  41301315  RETINOGRAFIA DIGITAL MONOCULAR (RETINOGRAFIA S...   \n",
              "413259  41301269        MICROSCOPIA ESPECULAR DE CORNEA - MONOCULAR   \n",
              "413261  41301250  MAPEAMENTO DE RETINA (OFTALMOSCOPIA INDIRETA) ...   \n",
              "413264  41501144  PCT-COMP - TOMOGRAFIA DE COERENCIA OPTICA - MO...   \n",
              "\n",
              "                                     DS_CLASSE  \\\n",
              "11                  PROCEDIMENTOS DIAGNOSTICOS   \n",
              "45                ULTRA-SONOGRAFIA DIAGNOSTICA   \n",
              "66                  PROCEDIMENTOS DIAGNOSTICOS   \n",
              "89                               PROCEDIMENTOS   \n",
              "124                            SISTEMA NERVOSO   \n",
              "...                                        ...   \n",
              "413243                           PROCEDIMENTOS   \n",
              "413256                           PROCEDIMENTOS   \n",
              "413259                           PROCEDIMENTOS   \n",
              "413261                           PROCEDIMENTOS   \n",
              "413264  TOMOGRAFIA COMPUTADORIZADA DIAGNOSTICA   \n",
              "\n",
              "                                        DS_SUBGRUPO  \\\n",
              "11                                           OUTROS   \n",
              "45                                 ULTRA-SONOGRAFIA   \n",
              "66                                           OUTROS   \n",
              "89                               EXAMES ESPECIFICOS   \n",
              "124     ELETROFISIOLOGICOS / MECANICOS E FUNCIONAIS   \n",
              "...                                             ...   \n",
              "413243                           EXAMES ESPECIFICOS   \n",
              "413256                           EXAMES ESPECIFICOS   \n",
              "413259                           EXAMES ESPECIFICOS   \n",
              "413261                           EXAMES ESPECIFICOS   \n",
              "413264                   TOMOGRAFIA COMPUTADORIZADA   \n",
              "\n",
              "                                   DS_GRUPO  QT_SOLICITADA  DS_STATUS_ITEM  \n",
              "11      PROCED. DIAGNOSTICOS E TERAPEUTICOS            2.0      Autorizado  \n",
              "45      PROCED. DIAGNOSTICOS E TERAPEUTICOS            2.0          Negado  \n",
              "66      PROCED. DIAGNOSTICOS E TERAPEUTICOS            2.0          Negado  \n",
              "89      PROCED. DIAGNOSTICOS E TERAPEUTICOS            1.0      Autorizado  \n",
              "124     PROCED. DIAGNOSTICOS E TERAPEUTICOS            2.0      Autorizado  \n",
              "...                                     ...            ...             ...  \n",
              "413243  PROCED. DIAGNOSTICOS E TERAPEUTICOS            1.0          Negado  \n",
              "413256  PROCED. DIAGNOSTICOS E TERAPEUTICOS            2.0      Autorizado  \n",
              "413259  PROCED. DIAGNOSTICOS E TERAPEUTICOS            2.0      Autorizado  \n",
              "413261  PROCED. DIAGNOSTICOS E TERAPEUTICOS            2.0          Negado  \n",
              "413264  PROCED. DIAGNOSTICOS E TERAPEUTICOS            2.0      Autorizado  \n",
              "\n",
              "[15622 rows x 31 columns]"
            ],
            "text/html": [
              "<div>\n",
              "<style scoped>\n",
              "    .dataframe tbody tr th:only-of-type {\n",
              "        vertical-align: middle;\n",
              "    }\n",
              "\n",
              "    .dataframe tbody tr th {\n",
              "        vertical-align: top;\n",
              "    }\n",
              "\n",
              "    .dataframe thead th {\n",
              "        text-align: right;\n",
              "    }\n",
              "</style>\n",
              "<table border=\"1\" class=\"dataframe\">\n",
              "  <thead>\n",
              "    <tr style=\"text-align: right;\">\n",
              "      <th></th>\n",
              "      <th>NR_SEQ_REQUISICAO</th>\n",
              "      <th>NR_SEQ_ITEM</th>\n",
              "      <th>DT_REQUISICAO</th>\n",
              "      <th>DS_TIPO_GUIA</th>\n",
              "      <th>DT_NASCIMENTO</th>\n",
              "      <th>NR_PRODUTO</th>\n",
              "      <th>DS_TIPO_PREST_SOLICITANTE</th>\n",
              "      <th>DS_CBO</th>\n",
              "      <th>DS_TIPO_CONSULTA</th>\n",
              "      <th>QT_TEMPO_DOENCA</th>\n",
              "      <th>...</th>\n",
              "      <th>CD_CID</th>\n",
              "      <th>DS_INDICACAO_CLINICA</th>\n",
              "      <th>DS_TIPO_ITEM</th>\n",
              "      <th>CD_ITEM</th>\n",
              "      <th>DS_ITEM</th>\n",
              "      <th>DS_CLASSE</th>\n",
              "      <th>DS_SUBGRUPO</th>\n",
              "      <th>DS_GRUPO</th>\n",
              "      <th>QT_SOLICITADA</th>\n",
              "      <th>DS_STATUS_ITEM</th>\n",
              "    </tr>\n",
              "  </thead>\n",
              "  <tbody>\n",
              "    <tr>\n",
              "      <th>11</th>\n",
              "      <td>692837</td>\n",
              "      <td>1578261</td>\n",
              "      <td>2459137</td>\n",
              "      <td>Guia de solicitac?o SP/SADT</td>\n",
              "      <td>2437132.0</td>\n",
              "      <td>1</td>\n",
              "      <td>CLINICA</td>\n",
              "      <td>Medico oftalmologista</td>\n",
              "      <td>Retorno / Seguimento</td>\n",
              "      <td>NaN</td>\n",
              "      <td>...</td>\n",
              "      <td>H400</td>\n",
              "      <td>SUSPEITA DE GLAUCOMA, MIOPIA E ASTIGMATISMO IR...</td>\n",
              "      <td>Procedimentos</td>\n",
              "      <td>41501128</td>\n",
              "      <td>PAQUIMETRIA ULTRASSONICA - MONOCULAR</td>\n",
              "      <td>PROCEDIMENTOS DIAGNOSTICOS</td>\n",
              "      <td>OUTROS</td>\n",
              "      <td>PROCED. DIAGNOSTICOS E TERAPEUTICOS</td>\n",
              "      <td>2.0</td>\n",
              "      <td>Autorizado</td>\n",
              "    </tr>\n",
              "    <tr>\n",
              "      <th>45</th>\n",
              "      <td>1342691</td>\n",
              "      <td>3654489</td>\n",
              "      <td>2459482</td>\n",
              "      <td>Guia de solicitac?o SP/SADT</td>\n",
              "      <td>2438260.0</td>\n",
              "      <td>1</td>\n",
              "      <td>CLINICA</td>\n",
              "      <td>Medico ortopedista e traumatologista</td>\n",
              "      <td>Primeira consulta</td>\n",
              "      <td>NaN</td>\n",
              "      <td>...</td>\n",
              "      <td>NaN</td>\n",
              "      <td>INFILTRAC?O DE PONTOS GATILHOS EM CINTURA ESCA...</td>\n",
              "      <td>Procedimentos</td>\n",
              "      <td>40901220</td>\n",
              "      <td>USG - ULTRASSONOGRAFIA - ARTICULAR (POR ARTICU...</td>\n",
              "      <td>ULTRA-SONOGRAFIA DIAGNOSTICA</td>\n",
              "      <td>ULTRA-SONOGRAFIA</td>\n",
              "      <td>PROCED. DIAGNOSTICOS E TERAPEUTICOS</td>\n",
              "      <td>2.0</td>\n",
              "      <td>Negado</td>\n",
              "    </tr>\n",
              "    <tr>\n",
              "      <th>66</th>\n",
              "      <td>1302232</td>\n",
              "      <td>3520043</td>\n",
              "      <td>2459461</td>\n",
              "      <td>Guia de solicitac?o SP/SADT</td>\n",
              "      <td>2445905.0</td>\n",
              "      <td>1</td>\n",
              "      <td>CLINICA</td>\n",
              "      <td>Medico oftalmologista</td>\n",
              "      <td>Retorno / Seguimento</td>\n",
              "      <td>NaN</td>\n",
              "      <td>...</td>\n",
              "      <td>H53</td>\n",
              "      <td>avaliac?o e tratamento de disturbios visuais.</td>\n",
              "      <td>Procedimentos</td>\n",
              "      <td>41501128</td>\n",
              "      <td>PAQUIMETRIA ULTRASSONICA - MONOCULAR</td>\n",
              "      <td>PROCEDIMENTOS DIAGNOSTICOS</td>\n",
              "      <td>OUTROS</td>\n",
              "      <td>PROCED. DIAGNOSTICOS E TERAPEUTICOS</td>\n",
              "      <td>2.0</td>\n",
              "      <td>Negado</td>\n",
              "    </tr>\n",
              "    <tr>\n",
              "      <th>89</th>\n",
              "      <td>1271547</td>\n",
              "      <td>3414434</td>\n",
              "      <td>2459446</td>\n",
              "      <td>Guia de solicitac?o SP/SADT</td>\n",
              "      <td>2434737.0</td>\n",
              "      <td>1</td>\n",
              "      <td>CLINICA</td>\n",
              "      <td>Medico oftalmologista</td>\n",
              "      <td>Retorno / Seguimento</td>\n",
              "      <td>NaN</td>\n",
              "      <td>...</td>\n",
              "      <td>H259</td>\n",
              "      <td>PRE OPERATORIO DE CATARATA</td>\n",
              "      <td>Procedimentos</td>\n",
              "      <td>41301080</td>\n",
              "      <td>CERATOSCOPIA COMPUTADORIZADA - MONOCULAR</td>\n",
              "      <td>PROCEDIMENTOS</td>\n",
              "      <td>EXAMES ESPECIFICOS</td>\n",
              "      <td>PROCED. DIAGNOSTICOS E TERAPEUTICOS</td>\n",
              "      <td>1.0</td>\n",
              "      <td>Autorizado</td>\n",
              "    </tr>\n",
              "    <tr>\n",
              "      <th>124</th>\n",
              "      <td>1537573</td>\n",
              "      <td>4276450</td>\n",
              "      <td>2459587</td>\n",
              "      <td>Guia de solicitac?o SP/SADT</td>\n",
              "      <td>2432429.0</td>\n",
              "      <td>1</td>\n",
              "      <td>CLINICA</td>\n",
              "      <td>Medico oftalmologista</td>\n",
              "      <td>Retorno / Seguimento</td>\n",
              "      <td>NaN</td>\n",
              "      <td>...</td>\n",
              "      <td>H40</td>\n",
              "      <td>Avaliac?o e tratamento</td>\n",
              "      <td>Procedimentos</td>\n",
              "      <td>40103137</td>\n",
              "      <td>CAMPIMETRIA COMPUTADORIZADA - MONOCULAR</td>\n",
              "      <td>SISTEMA NERVOSO</td>\n",
              "      <td>ELETROFISIOLOGICOS / MECANICOS E FUNCIONAIS</td>\n",
              "      <td>PROCED. DIAGNOSTICOS E TERAPEUTICOS</td>\n",
              "      <td>2.0</td>\n",
              "      <td>Autorizado</td>\n",
              "    </tr>\n",
              "    <tr>\n",
              "      <th>...</th>\n",
              "      <td>...</td>\n",
              "      <td>...</td>\n",
              "      <td>...</td>\n",
              "      <td>...</td>\n",
              "      <td>...</td>\n",
              "      <td>...</td>\n",
              "      <td>...</td>\n",
              "      <td>...</td>\n",
              "      <td>...</td>\n",
              "      <td>...</td>\n",
              "      <td>...</td>\n",
              "      <td>...</td>\n",
              "      <td>...</td>\n",
              "      <td>...</td>\n",
              "      <td>...</td>\n",
              "      <td>...</td>\n",
              "      <td>...</td>\n",
              "      <td>...</td>\n",
              "      <td>...</td>\n",
              "      <td>...</td>\n",
              "      <td>...</td>\n",
              "    </tr>\n",
              "    <tr>\n",
              "      <th>413243</th>\n",
              "      <td>746944</td>\n",
              "      <td>1745643</td>\n",
              "      <td>2459166</td>\n",
              "      <td>Guia de solicitac?o SP/SADT</td>\n",
              "      <td>2454254.0</td>\n",
              "      <td>1</td>\n",
              "      <td>CLINICA</td>\n",
              "      <td>Medico oftalmologista</td>\n",
              "      <td>Retorno / Seguimento</td>\n",
              "      <td>NaN</td>\n",
              "      <td>...</td>\n",
              "      <td>H501</td>\n",
              "      <td>NaN</td>\n",
              "      <td>Procedimentos</td>\n",
              "      <td>41301200</td>\n",
              "      <td>EXAME DE MOTILIDADE OCULAR (TESTE ORTOPTICO) -...</td>\n",
              "      <td>PROCEDIMENTOS</td>\n",
              "      <td>EXAMES ESPECIFICOS</td>\n",
              "      <td>PROCED. DIAGNOSTICOS E TERAPEUTICOS</td>\n",
              "      <td>1.0</td>\n",
              "      <td>Negado</td>\n",
              "    </tr>\n",
              "    <tr>\n",
              "      <th>413256</th>\n",
              "      <td>1370877</td>\n",
              "      <td>3747355</td>\n",
              "      <td>2459497</td>\n",
              "      <td>Guia de solicitac?o SP/SADT</td>\n",
              "      <td>2435529.0</td>\n",
              "      <td>1</td>\n",
              "      <td>CLINICA</td>\n",
              "      <td>Medico oftalmologista</td>\n",
              "      <td>Primeira consulta</td>\n",
              "      <td>NaN</td>\n",
              "      <td>...</td>\n",
              "      <td>H335</td>\n",
              "      <td>OUTROS DESCOLAMENTOS DE RETINA</td>\n",
              "      <td>Procedimentos</td>\n",
              "      <td>41301315</td>\n",
              "      <td>RETINOGRAFIA DIGITAL MONOCULAR (RETINOGRAFIA S...</td>\n",
              "      <td>PROCEDIMENTOS</td>\n",
              "      <td>EXAMES ESPECIFICOS</td>\n",
              "      <td>PROCED. DIAGNOSTICOS E TERAPEUTICOS</td>\n",
              "      <td>2.0</td>\n",
              "      <td>Autorizado</td>\n",
              "    </tr>\n",
              "    <tr>\n",
              "      <th>413259</th>\n",
              "      <td>1264164</td>\n",
              "      <td>3389559</td>\n",
              "      <td>2459443</td>\n",
              "      <td>Guia de solicitac?o SP/SADT</td>\n",
              "      <td>2437160.0</td>\n",
              "      <td>1</td>\n",
              "      <td>CLINICA</td>\n",
              "      <td>Medico oftalmologista</td>\n",
              "      <td>Retorno / Seguimento</td>\n",
              "      <td>NaN</td>\n",
              "      <td>...</td>\n",
              "      <td>H182</td>\n",
              "      <td>Avaliac?o e tratamento de edema de cornea + al...</td>\n",
              "      <td>Procedimentos</td>\n",
              "      <td>41301269</td>\n",
              "      <td>MICROSCOPIA ESPECULAR DE CORNEA - MONOCULAR</td>\n",
              "      <td>PROCEDIMENTOS</td>\n",
              "      <td>EXAMES ESPECIFICOS</td>\n",
              "      <td>PROCED. DIAGNOSTICOS E TERAPEUTICOS</td>\n",
              "      <td>2.0</td>\n",
              "      <td>Autorizado</td>\n",
              "    </tr>\n",
              "    <tr>\n",
              "      <th>413261</th>\n",
              "      <td>921592</td>\n",
              "      <td>2265626</td>\n",
              "      <td>2459259</td>\n",
              "      <td>Guia de solicitac?o SP/SADT</td>\n",
              "      <td>2437804.0</td>\n",
              "      <td>1</td>\n",
              "      <td>MEDICO</td>\n",
              "      <td>Medico oftalmologista</td>\n",
              "      <td>Primeira consulta</td>\n",
              "      <td>NaN</td>\n",
              "      <td>...</td>\n",
              "      <td>H40</td>\n",
              "      <td>h40 glaucoma</td>\n",
              "      <td>Procedimentos</td>\n",
              "      <td>41301250</td>\n",
              "      <td>MAPEAMENTO DE RETINA (OFTALMOSCOPIA INDIRETA) ...</td>\n",
              "      <td>PROCEDIMENTOS</td>\n",
              "      <td>EXAMES ESPECIFICOS</td>\n",
              "      <td>PROCED. DIAGNOSTICOS E TERAPEUTICOS</td>\n",
              "      <td>2.0</td>\n",
              "      <td>Negado</td>\n",
              "    </tr>\n",
              "    <tr>\n",
              "      <th>413264</th>\n",
              "      <td>690055</td>\n",
              "      <td>1570248</td>\n",
              "      <td>2459136</td>\n",
              "      <td>Guia de solicitac?o SP/SADT</td>\n",
              "      <td>2440704.0</td>\n",
              "      <td>1</td>\n",
              "      <td>CLINICA</td>\n",
              "      <td>Medico clinico</td>\n",
              "      <td>Primeira consulta</td>\n",
              "      <td>NaN</td>\n",
              "      <td>...</td>\n",
              "      <td>H40</td>\n",
              "      <td>GLAUCOMA</td>\n",
              "      <td>Procedimentos</td>\n",
              "      <td>41501144</td>\n",
              "      <td>PCT-COMP - TOMOGRAFIA DE COERENCIA OPTICA - MO...</td>\n",
              "      <td>TOMOGRAFIA COMPUTADORIZADA DIAGNOSTICA</td>\n",
              "      <td>TOMOGRAFIA COMPUTADORIZADA</td>\n",
              "      <td>PROCED. DIAGNOSTICOS E TERAPEUTICOS</td>\n",
              "      <td>2.0</td>\n",
              "      <td>Autorizado</td>\n",
              "    </tr>\n",
              "  </tbody>\n",
              "</table>\n",
              "<p>15622 rows × 31 columns</p>\n",
              "</div>"
            ]
          },
          "metadata": {},
          "execution_count": 10
        }
      ],
      "source": [
        "df[df.DS_TIPO_CONSULTA.notnull()]"
      ]
    },
    {
      "cell_type": "code",
      "execution_count": 11,
      "metadata": {
        "pycharm": {
          "name": "#%%\n"
        },
        "colab": {
          "base_uri": "https://localhost:8080/"
        },
        "id": "MyZz8S0i2aBr",
        "outputId": "f2d9ddd0-6b6d-4155-9036-52b86c7aea09"
      },
      "outputs": [
        {
          "output_type": "execute_result",
          "data": {
            "text/plain": [
              "3.7802233966354994"
            ]
          },
          "metadata": {},
          "execution_count": 11
        }
      ],
      "source": [
        "## Porcentagem de não nulos em relação a tudo\n",
        "df.DS_TIPO_CONSULTA.notnull().sum() * 100 / df.shape[0]"
      ]
    },
    {
      "cell_type": "code",
      "execution_count": 12,
      "metadata": {
        "pycharm": {
          "name": "#%%\n"
        },
        "id": "IiPRhVEa2aBs"
      },
      "outputs": [],
      "source": [
        "## Podemos dropar a coluna, já que são apenas 3.78% não nulos e, infelizmente, essa informação não tem como estimar, dado tão poucos exemplos e especificidade.\n",
        "df.drop(columns=[\"DS_TIPO_CONSULTA\"], inplace=True)"
      ]
    },
    {
      "cell_type": "code",
      "execution_count": 13,
      "metadata": {
        "pycharm": {
          "name": "#%%\n"
        },
        "colab": {
          "base_uri": "https://localhost:8080/"
        },
        "id": "6TjkOLDA2aBs",
        "outputId": "58a1f727-b269-4e9a-fb48-a2c57730efc9"
      },
      "outputs": [
        {
          "output_type": "execute_result",
          "data": {
            "text/plain": [
              "NR_SEQ_REQUISICAO                 0\n",
              "NR_SEQ_ITEM                       0\n",
              "DT_REQUISICAO                     0\n",
              "DS_TIPO_GUIA                      0\n",
              "DT_NASCIMENTO                     0\n",
              "NR_PRODUTO                        0\n",
              "DS_TIPO_PREST_SOLICITANTE         0\n",
              "DS_CBO                            0\n",
              "QT_TEMPO_DOENCA              412953\n",
              "DS_UNIDADE_TEMPO_DOENCA      412952\n",
              "DS_TIPO_DOENCA               412286\n",
              "DS_INDICACAO_ACIDENTE         32015\n",
              "DS_TIPO_SAIDA                413256\n",
              "DS_TIPO_INTERNACAO           291216\n",
              "DS_REGIME_INTERNACAO         291216\n",
              "DS_CARATER_ATENDIMENTO            0\n",
              "DS_TIPO_ACOMODACAO           291297\n",
              "QT_DIA_SOLICITADO            292410\n",
              "CD_GUIA_REFERENCIA           342733\n",
              "DS_TIPO_ATENDIMENTO          121337\n",
              "CD_CID                       235287\n",
              "DS_INDICACAO_CLINICA          87534\n",
              "DS_TIPO_ITEM                      0\n",
              "CD_ITEM                           0\n",
              "DS_ITEM                           0\n",
              "DS_CLASSE                         0\n",
              "DS_SUBGRUPO                       0\n",
              "DS_GRUPO                          0\n",
              "QT_SOLICITADA                     0\n",
              "DS_STATUS_ITEM                    0\n",
              "dtype: int64"
            ]
          },
          "metadata": {},
          "execution_count": 13
        }
      ],
      "source": [
        "df.isnull().sum()"
      ]
    },
    {
      "cell_type": "markdown",
      "metadata": {
        "id": "Gux8kOS92aBs"
      },
      "source": [
        "#### QT_TEMPO_DOENCA"
      ]
    },
    {
      "cell_type": "code",
      "execution_count": 14,
      "metadata": {
        "pycharm": {
          "name": "#%%\n"
        },
        "colab": {
          "base_uri": "https://localhost:8080/",
          "height": 0
        },
        "id": "2ccMAeti2aBs",
        "outputId": "1a55de50-61e2-415a-e097-622435b11f75"
      },
      "outputs": [
        {
          "output_type": "execute_result",
          "data": {
            "text/plain": [
              "        NR_SEQ_REQUISICAO  NR_SEQ_ITEM  DT_REQUISICAO  \\\n",
              "154                713569      1643609        2459149   \n",
              "851                874965      2123165        2459237   \n",
              "2960              1060768      2709062        2459338   \n",
              "2975               696752      1590314        2459138   \n",
              "3548               614709       829222        2459091   \n",
              "...                   ...          ...            ...   \n",
              "404508             809462      1932441        2459198   \n",
              "405898            1052369      2679552        2459333   \n",
              "406682             616698      1338540        2459093   \n",
              "410854            1225454      3255705        2459422   \n",
              "411629            1052369       887286        2459333   \n",
              "\n",
              "                          DS_TIPO_GUIA  DT_NASCIMENTO  NR_PRODUTO  \\\n",
              "154     Guia de solicitac?o internac?o      2435679.0           1   \n",
              "851     Guia de solicitac?o internac?o      2444510.0           1   \n",
              "2960    Guia de solicitac?o internac?o      2437100.0           1   \n",
              "2975       Guia de solicitac?o SP/SADT      2439286.0           1   \n",
              "3548    Guia de solicitac?o internac?o      2439276.0           1   \n",
              "...                                ...            ...         ...   \n",
              "404508     Guia de solicitac?o SP/SADT      2435679.0           1   \n",
              "405898  Guia de solicitac?o internac?o      2438347.0           1   \n",
              "406682     Guia de solicitac?o SP/SADT      2444568.0           1   \n",
              "410854  Guia de solicitac?o internac?o      2440665.0           1   \n",
              "411629  Guia de solicitac?o internac?o      2438347.0           1   \n",
              "\n",
              "       DS_TIPO_PREST_SOLICITANTE                   DS_CBO  QT_TEMPO_DOENCA  \\\n",
              "154                       MEDICO  Medico cirurgi?o geral               3.0   \n",
              "851                       MEDICO  Medico cirurgi?o geral               8.0   \n",
              "2960                    HOSPITAL           Medico clinico             11.0   \n",
              "2975                      MEDICO  Medico cirurgi?o geral               6.0   \n",
              "3548                    HOSPITAL    Medico em endoscopia               1.0   \n",
              "...                          ...                      ...              ...   \n",
              "404508                   CLINICA    Medico oftalmologista              2.0   \n",
              "405898                  HOSPITAL           Medico clinico             19.0   \n",
              "406682                   CLINICA    Medico oftalmologista              1.0   \n",
              "410854                  HOSPITAL           Medico clinico              8.0   \n",
              "411629                  HOSPITAL           Medico clinico             19.0   \n",
              "\n",
              "       DS_UNIDADE_TEMPO_DOENCA  ... CD_CID  \\\n",
              "154                      Meses  ...   K439   \n",
              "851                      Meses  ...   K439   \n",
              "2960                      Dias  ...   B342   \n",
              "2975                     Meses  ...   K808   \n",
              "3548                      Dias  ...   K359   \n",
              "...                        ...  ...    ...   \n",
              "404508                    Anos  ...    H40   \n",
              "405898                    Dias  ...   B342   \n",
              "406682                    Anos  ...   Z010   \n",
              "410854                    Dias  ...   B342   \n",
              "411629                    Dias  ...   B342   \n",
              "\n",
              "                                     DS_INDICACAO_CLINICA   DS_TIPO_ITEM  \\\n",
              "154     PACIENTE COM INCISAO DE NEFRECTOMIA QUE APRESE...  Procedimentos   \n",
              "851     PACIENTE APRESENTA UMA HERNIA HIPOGASTRICA GRA...  Procedimentos   \n",
              "2960    COVID confirmado em 19/03/21. Inicio dos sinto...  Procedimentos   \n",
              "2975    PACIENTE COM NEFRECTOMIA , COM 3 CIRURGIAS ABD...  Procedimentos   \n",
              "3548    PAciente com quadro de dor abdominal ha 36 hor...        MAT/MED   \n",
              "...                                                   ...            ...   \n",
              "404508                         Acompanhamento de GLAUCOMA  Procedimentos   \n",
              "405898  COVID 19. PACIENTE COM EXAME DETECTAVEL EM 12/...  Procedimentos   \n",
              "406682  Para diagnostico diferencial de doencas cornea...  Procedimentos   \n",
              "410854  PACIENTE MASCULINO 51 ANOS , OBESO , ( PESO = ...  Procedimentos   \n",
              "411629  COVID 19. PACIENTE COM EXAME DETECTAVEL EM 12/...        MAT/MED   \n",
              "\n",
              "         CD_ITEM                                            DS_ITEM  \\\n",
              "154     31009107                            HERNIORRAFIA INCISIONAL   \n",
              "851     31009158  HERNIORRAFIA SEM RESSECC?O INTESTINAL ENCARCERADA   \n",
              "2960    40302580                                     UREIA, DOSAGEM   \n",
              "2975    31005497  COLECISTECTOMIA SEM COLANGIOGRAFIA POR VIDEOLA...   \n",
              "3548       99952  TROCATER 10/11MM C/PTA.PROTEGIDA AMERICAN INST...   \n",
              "...          ...                                                ...   \n",
              "404508  41501128               PAQUIMETRIA ULTRASSONICA - MONOCULAR   \n",
              "405898  40805018            RX - RADIOGRAFIA - TORAX - 1 INCIDENCIA   \n",
              "406682  41501128               PAQUIMETRIA ULTRASSONICA - MONOCULAR   \n",
              "410854  60029089                      DIARIA DE ISOLAMENTO (EM UTI)   \n",
              "411629    290014                          EQUIPO BOMBA INFUSAO - UN   \n",
              "\n",
              "                         DS_CLASSE                      DS_SUBGRUPO  \\\n",
              "154      ABDOME, PAREDE E CAVIDADE       SISTEMA DIGESTIVO E ANEXOS   \n",
              "851      ABDOME, PAREDE E CAVIDADE       SISTEMA DIGESTIVO E ANEXOS   \n",
              "2960                    BIOQUIMICA           MEDICINA LABORATORIAL    \n",
              "2975        FIGADO E VIAS BILIARES       SISTEMA DIGESTIVO E ANEXOS   \n",
              "3548                       Protese              Material Hospitalar   \n",
              "...                            ...                              ...   \n",
              "404508  PROCEDIMENTOS DIAGNOSTICOS                           OUTROS   \n",
              "405898                       TORAX  METODOS DIAGNOSTICOS POR IMAGEM   \n",
              "406682  PROCEDIMENTOS DIAGNOSTICOS                           OUTROS   \n",
              "410854                     DIARIAS                          DIARIAS   \n",
              "411629         Material de consumo              Material Hospitalar   \n",
              "\n",
              "                                   DS_GRUPO  QT_SOLICITADA DS_STATUS_ITEM  \n",
              "154         PROCED. CIRURGICOS E INVASIVOS             1.0     Autorizado  \n",
              "851         PROCED. CIRURGICOS E INVASIVOS             1.0         Negado  \n",
              "2960    PROCED. DIAGNOSTICOS E TERAPEUTICOS           10.0     Autorizado  \n",
              "2975        PROCED. CIRURGICOS E INVASIVOS             1.0     Autorizado  \n",
              "3548                                 Simpro            3.0     Autorizado  \n",
              "...                                     ...            ...            ...  \n",
              "404508  PROCED. DIAGNOSTICOS E TERAPEUTICOS            2.0     Autorizado  \n",
              "405898  PROCED. DIAGNOSTICOS E TERAPEUTICOS            3.0     Autorizado  \n",
              "406682  PROCED. DIAGNOSTICOS E TERAPEUTICOS            2.0     Autorizado  \n",
              "410854                              DIARIAS            1.0     Autorizado  \n",
              "411629                               Simpro           21.0     Autorizado  \n",
              "\n",
              "[303 rows x 30 columns]"
            ],
            "text/html": [
              "<div>\n",
              "<style scoped>\n",
              "    .dataframe tbody tr th:only-of-type {\n",
              "        vertical-align: middle;\n",
              "    }\n",
              "\n",
              "    .dataframe tbody tr th {\n",
              "        vertical-align: top;\n",
              "    }\n",
              "\n",
              "    .dataframe thead th {\n",
              "        text-align: right;\n",
              "    }\n",
              "</style>\n",
              "<table border=\"1\" class=\"dataframe\">\n",
              "  <thead>\n",
              "    <tr style=\"text-align: right;\">\n",
              "      <th></th>\n",
              "      <th>NR_SEQ_REQUISICAO</th>\n",
              "      <th>NR_SEQ_ITEM</th>\n",
              "      <th>DT_REQUISICAO</th>\n",
              "      <th>DS_TIPO_GUIA</th>\n",
              "      <th>DT_NASCIMENTO</th>\n",
              "      <th>NR_PRODUTO</th>\n",
              "      <th>DS_TIPO_PREST_SOLICITANTE</th>\n",
              "      <th>DS_CBO</th>\n",
              "      <th>QT_TEMPO_DOENCA</th>\n",
              "      <th>DS_UNIDADE_TEMPO_DOENCA</th>\n",
              "      <th>...</th>\n",
              "      <th>CD_CID</th>\n",
              "      <th>DS_INDICACAO_CLINICA</th>\n",
              "      <th>DS_TIPO_ITEM</th>\n",
              "      <th>CD_ITEM</th>\n",
              "      <th>DS_ITEM</th>\n",
              "      <th>DS_CLASSE</th>\n",
              "      <th>DS_SUBGRUPO</th>\n",
              "      <th>DS_GRUPO</th>\n",
              "      <th>QT_SOLICITADA</th>\n",
              "      <th>DS_STATUS_ITEM</th>\n",
              "    </tr>\n",
              "  </thead>\n",
              "  <tbody>\n",
              "    <tr>\n",
              "      <th>154</th>\n",
              "      <td>713569</td>\n",
              "      <td>1643609</td>\n",
              "      <td>2459149</td>\n",
              "      <td>Guia de solicitac?o internac?o</td>\n",
              "      <td>2435679.0</td>\n",
              "      <td>1</td>\n",
              "      <td>MEDICO</td>\n",
              "      <td>Medico cirurgi?o geral</td>\n",
              "      <td>3.0</td>\n",
              "      <td>Meses</td>\n",
              "      <td>...</td>\n",
              "      <td>K439</td>\n",
              "      <td>PACIENTE COM INCISAO DE NEFRECTOMIA QUE APRESE...</td>\n",
              "      <td>Procedimentos</td>\n",
              "      <td>31009107</td>\n",
              "      <td>HERNIORRAFIA INCISIONAL</td>\n",
              "      <td>ABDOME, PAREDE E CAVIDADE</td>\n",
              "      <td>SISTEMA DIGESTIVO E ANEXOS</td>\n",
              "      <td>PROCED. CIRURGICOS E INVASIVOS</td>\n",
              "      <td>1.0</td>\n",
              "      <td>Autorizado</td>\n",
              "    </tr>\n",
              "    <tr>\n",
              "      <th>851</th>\n",
              "      <td>874965</td>\n",
              "      <td>2123165</td>\n",
              "      <td>2459237</td>\n",
              "      <td>Guia de solicitac?o internac?o</td>\n",
              "      <td>2444510.0</td>\n",
              "      <td>1</td>\n",
              "      <td>MEDICO</td>\n",
              "      <td>Medico cirurgi?o geral</td>\n",
              "      <td>8.0</td>\n",
              "      <td>Meses</td>\n",
              "      <td>...</td>\n",
              "      <td>K439</td>\n",
              "      <td>PACIENTE APRESENTA UMA HERNIA HIPOGASTRICA GRA...</td>\n",
              "      <td>Procedimentos</td>\n",
              "      <td>31009158</td>\n",
              "      <td>HERNIORRAFIA SEM RESSECC?O INTESTINAL ENCARCERADA</td>\n",
              "      <td>ABDOME, PAREDE E CAVIDADE</td>\n",
              "      <td>SISTEMA DIGESTIVO E ANEXOS</td>\n",
              "      <td>PROCED. CIRURGICOS E INVASIVOS</td>\n",
              "      <td>1.0</td>\n",
              "      <td>Negado</td>\n",
              "    </tr>\n",
              "    <tr>\n",
              "      <th>2960</th>\n",
              "      <td>1060768</td>\n",
              "      <td>2709062</td>\n",
              "      <td>2459338</td>\n",
              "      <td>Guia de solicitac?o internac?o</td>\n",
              "      <td>2437100.0</td>\n",
              "      <td>1</td>\n",
              "      <td>HOSPITAL</td>\n",
              "      <td>Medico clinico</td>\n",
              "      <td>11.0</td>\n",
              "      <td>Dias</td>\n",
              "      <td>...</td>\n",
              "      <td>B342</td>\n",
              "      <td>COVID confirmado em 19/03/21. Inicio dos sinto...</td>\n",
              "      <td>Procedimentos</td>\n",
              "      <td>40302580</td>\n",
              "      <td>UREIA, DOSAGEM</td>\n",
              "      <td>BIOQUIMICA</td>\n",
              "      <td>MEDICINA LABORATORIAL</td>\n",
              "      <td>PROCED. DIAGNOSTICOS E TERAPEUTICOS</td>\n",
              "      <td>10.0</td>\n",
              "      <td>Autorizado</td>\n",
              "    </tr>\n",
              "    <tr>\n",
              "      <th>2975</th>\n",
              "      <td>696752</td>\n",
              "      <td>1590314</td>\n",
              "      <td>2459138</td>\n",
              "      <td>Guia de solicitac?o SP/SADT</td>\n",
              "      <td>2439286.0</td>\n",
              "      <td>1</td>\n",
              "      <td>MEDICO</td>\n",
              "      <td>Medico cirurgi?o geral</td>\n",
              "      <td>6.0</td>\n",
              "      <td>Meses</td>\n",
              "      <td>...</td>\n",
              "      <td>K808</td>\n",
              "      <td>PACIENTE COM NEFRECTOMIA , COM 3 CIRURGIAS ABD...</td>\n",
              "      <td>Procedimentos</td>\n",
              "      <td>31005497</td>\n",
              "      <td>COLECISTECTOMIA SEM COLANGIOGRAFIA POR VIDEOLA...</td>\n",
              "      <td>FIGADO E VIAS BILIARES</td>\n",
              "      <td>SISTEMA DIGESTIVO E ANEXOS</td>\n",
              "      <td>PROCED. CIRURGICOS E INVASIVOS</td>\n",
              "      <td>1.0</td>\n",
              "      <td>Autorizado</td>\n",
              "    </tr>\n",
              "    <tr>\n",
              "      <th>3548</th>\n",
              "      <td>614709</td>\n",
              "      <td>829222</td>\n",
              "      <td>2459091</td>\n",
              "      <td>Guia de solicitac?o internac?o</td>\n",
              "      <td>2439276.0</td>\n",
              "      <td>1</td>\n",
              "      <td>HOSPITAL</td>\n",
              "      <td>Medico em endoscopia</td>\n",
              "      <td>1.0</td>\n",
              "      <td>Dias</td>\n",
              "      <td>...</td>\n",
              "      <td>K359</td>\n",
              "      <td>PAciente com quadro de dor abdominal ha 36 hor...</td>\n",
              "      <td>MAT/MED</td>\n",
              "      <td>99952</td>\n",
              "      <td>TROCATER 10/11MM C/PTA.PROTEGIDA AMERICAN INST...</td>\n",
              "      <td>Protese</td>\n",
              "      <td>Material Hospitalar</td>\n",
              "      <td>Simpro</td>\n",
              "      <td>3.0</td>\n",
              "      <td>Autorizado</td>\n",
              "    </tr>\n",
              "    <tr>\n",
              "      <th>...</th>\n",
              "      <td>...</td>\n",
              "      <td>...</td>\n",
              "      <td>...</td>\n",
              "      <td>...</td>\n",
              "      <td>...</td>\n",
              "      <td>...</td>\n",
              "      <td>...</td>\n",
              "      <td>...</td>\n",
              "      <td>...</td>\n",
              "      <td>...</td>\n",
              "      <td>...</td>\n",
              "      <td>...</td>\n",
              "      <td>...</td>\n",
              "      <td>...</td>\n",
              "      <td>...</td>\n",
              "      <td>...</td>\n",
              "      <td>...</td>\n",
              "      <td>...</td>\n",
              "      <td>...</td>\n",
              "      <td>...</td>\n",
              "      <td>...</td>\n",
              "    </tr>\n",
              "    <tr>\n",
              "      <th>404508</th>\n",
              "      <td>809462</td>\n",
              "      <td>1932441</td>\n",
              "      <td>2459198</td>\n",
              "      <td>Guia de solicitac?o SP/SADT</td>\n",
              "      <td>2435679.0</td>\n",
              "      <td>1</td>\n",
              "      <td>CLINICA</td>\n",
              "      <td>Medico oftalmologista</td>\n",
              "      <td>2.0</td>\n",
              "      <td>Anos</td>\n",
              "      <td>...</td>\n",
              "      <td>H40</td>\n",
              "      <td>Acompanhamento de GLAUCOMA</td>\n",
              "      <td>Procedimentos</td>\n",
              "      <td>41501128</td>\n",
              "      <td>PAQUIMETRIA ULTRASSONICA - MONOCULAR</td>\n",
              "      <td>PROCEDIMENTOS DIAGNOSTICOS</td>\n",
              "      <td>OUTROS</td>\n",
              "      <td>PROCED. DIAGNOSTICOS E TERAPEUTICOS</td>\n",
              "      <td>2.0</td>\n",
              "      <td>Autorizado</td>\n",
              "    </tr>\n",
              "    <tr>\n",
              "      <th>405898</th>\n",
              "      <td>1052369</td>\n",
              "      <td>2679552</td>\n",
              "      <td>2459333</td>\n",
              "      <td>Guia de solicitac?o internac?o</td>\n",
              "      <td>2438347.0</td>\n",
              "      <td>1</td>\n",
              "      <td>HOSPITAL</td>\n",
              "      <td>Medico clinico</td>\n",
              "      <td>19.0</td>\n",
              "      <td>Dias</td>\n",
              "      <td>...</td>\n",
              "      <td>B342</td>\n",
              "      <td>COVID 19. PACIENTE COM EXAME DETECTAVEL EM 12/...</td>\n",
              "      <td>Procedimentos</td>\n",
              "      <td>40805018</td>\n",
              "      <td>RX - RADIOGRAFIA - TORAX - 1 INCIDENCIA</td>\n",
              "      <td>TORAX</td>\n",
              "      <td>METODOS DIAGNOSTICOS POR IMAGEM</td>\n",
              "      <td>PROCED. DIAGNOSTICOS E TERAPEUTICOS</td>\n",
              "      <td>3.0</td>\n",
              "      <td>Autorizado</td>\n",
              "    </tr>\n",
              "    <tr>\n",
              "      <th>406682</th>\n",
              "      <td>616698</td>\n",
              "      <td>1338540</td>\n",
              "      <td>2459093</td>\n",
              "      <td>Guia de solicitac?o SP/SADT</td>\n",
              "      <td>2444568.0</td>\n",
              "      <td>1</td>\n",
              "      <td>CLINICA</td>\n",
              "      <td>Medico oftalmologista</td>\n",
              "      <td>1.0</td>\n",
              "      <td>Anos</td>\n",
              "      <td>...</td>\n",
              "      <td>Z010</td>\n",
              "      <td>Para diagnostico diferencial de doencas cornea...</td>\n",
              "      <td>Procedimentos</td>\n",
              "      <td>41501128</td>\n",
              "      <td>PAQUIMETRIA ULTRASSONICA - MONOCULAR</td>\n",
              "      <td>PROCEDIMENTOS DIAGNOSTICOS</td>\n",
              "      <td>OUTROS</td>\n",
              "      <td>PROCED. DIAGNOSTICOS E TERAPEUTICOS</td>\n",
              "      <td>2.0</td>\n",
              "      <td>Autorizado</td>\n",
              "    </tr>\n",
              "    <tr>\n",
              "      <th>410854</th>\n",
              "      <td>1225454</td>\n",
              "      <td>3255705</td>\n",
              "      <td>2459422</td>\n",
              "      <td>Guia de solicitac?o internac?o</td>\n",
              "      <td>2440665.0</td>\n",
              "      <td>1</td>\n",
              "      <td>HOSPITAL</td>\n",
              "      <td>Medico clinico</td>\n",
              "      <td>8.0</td>\n",
              "      <td>Dias</td>\n",
              "      <td>...</td>\n",
              "      <td>B342</td>\n",
              "      <td>PACIENTE MASCULINO 51 ANOS , OBESO , ( PESO = ...</td>\n",
              "      <td>Procedimentos</td>\n",
              "      <td>60029089</td>\n",
              "      <td>DIARIA DE ISOLAMENTO (EM UTI)</td>\n",
              "      <td>DIARIAS</td>\n",
              "      <td>DIARIAS</td>\n",
              "      <td>DIARIAS</td>\n",
              "      <td>1.0</td>\n",
              "      <td>Autorizado</td>\n",
              "    </tr>\n",
              "    <tr>\n",
              "      <th>411629</th>\n",
              "      <td>1052369</td>\n",
              "      <td>887286</td>\n",
              "      <td>2459333</td>\n",
              "      <td>Guia de solicitac?o internac?o</td>\n",
              "      <td>2438347.0</td>\n",
              "      <td>1</td>\n",
              "      <td>HOSPITAL</td>\n",
              "      <td>Medico clinico</td>\n",
              "      <td>19.0</td>\n",
              "      <td>Dias</td>\n",
              "      <td>...</td>\n",
              "      <td>B342</td>\n",
              "      <td>COVID 19. PACIENTE COM EXAME DETECTAVEL EM 12/...</td>\n",
              "      <td>MAT/MED</td>\n",
              "      <td>290014</td>\n",
              "      <td>EQUIPO BOMBA INFUSAO - UN</td>\n",
              "      <td>Material de consumo</td>\n",
              "      <td>Material Hospitalar</td>\n",
              "      <td>Simpro</td>\n",
              "      <td>21.0</td>\n",
              "      <td>Autorizado</td>\n",
              "    </tr>\n",
              "  </tbody>\n",
              "</table>\n",
              "<p>303 rows × 30 columns</p>\n",
              "</div>"
            ]
          },
          "metadata": {},
          "execution_count": 14
        }
      ],
      "source": [
        "df[df.QT_TEMPO_DOENCA.notnull()]"
      ]
    },
    {
      "cell_type": "markdown",
      "metadata": {
        "id": "a8A3OcKC2aBt"
      },
      "source": [
        "> Como há apenas 303 exemplos não nulos para a coluna QT_TEMPO_DOENCA, podemos dropar essa coluna."
      ]
    },
    {
      "cell_type": "code",
      "execution_count": 15,
      "metadata": {
        "pycharm": {
          "name": "#%%\n"
        },
        "id": "_cUnRBNt2aBt"
      },
      "outputs": [],
      "source": [
        "df.drop(columns=[\"QT_TEMPO_DOENCA\"], inplace=True)"
      ]
    },
    {
      "cell_type": "code",
      "execution_count": 16,
      "metadata": {
        "pycharm": {
          "name": "#%%\n"
        },
        "colab": {
          "base_uri": "https://localhost:8080/"
        },
        "id": "NzQkm9hc2aBt",
        "outputId": "b70719e3-e366-4c2c-ef20-0ff698626fd3"
      },
      "outputs": [
        {
          "output_type": "execute_result",
          "data": {
            "text/plain": [
              "NR_SEQ_REQUISICAO                 0\n",
              "NR_SEQ_ITEM                       0\n",
              "DT_REQUISICAO                     0\n",
              "DS_TIPO_GUIA                      0\n",
              "DT_NASCIMENTO                     0\n",
              "NR_PRODUTO                        0\n",
              "DS_TIPO_PREST_SOLICITANTE         0\n",
              "DS_CBO                            0\n",
              "DS_UNIDADE_TEMPO_DOENCA      412952\n",
              "DS_TIPO_DOENCA               412286\n",
              "DS_INDICACAO_ACIDENTE         32015\n",
              "DS_TIPO_SAIDA                413256\n",
              "DS_TIPO_INTERNACAO           291216\n",
              "DS_REGIME_INTERNACAO         291216\n",
              "DS_CARATER_ATENDIMENTO            0\n",
              "DS_TIPO_ACOMODACAO           291297\n",
              "QT_DIA_SOLICITADO            292410\n",
              "CD_GUIA_REFERENCIA           342733\n",
              "DS_TIPO_ATENDIMENTO          121337\n",
              "CD_CID                       235287\n",
              "DS_INDICACAO_CLINICA          87534\n",
              "DS_TIPO_ITEM                      0\n",
              "CD_ITEM                           0\n",
              "DS_ITEM                           0\n",
              "DS_CLASSE                         0\n",
              "DS_SUBGRUPO                       0\n",
              "DS_GRUPO                          0\n",
              "QT_SOLICITADA                     0\n",
              "DS_STATUS_ITEM                    0\n",
              "dtype: int64"
            ]
          },
          "metadata": {},
          "execution_count": 16
        }
      ],
      "source": [
        "df.isna().sum()"
      ]
    },
    {
      "cell_type": "markdown",
      "metadata": {
        "id": "H4uTBlHa2aBu"
      },
      "source": [
        "#### DS_UNIDADE_TEMPO_DOENCA"
      ]
    },
    {
      "cell_type": "code",
      "execution_count": 17,
      "metadata": {
        "pycharm": {
          "name": "#%%\n"
        },
        "colab": {
          "base_uri": "https://localhost:8080/",
          "height": 0
        },
        "id": "yp9JSZIJ2aBu",
        "outputId": "aa283f29-d849-4624-8bee-40d035bae0ae"
      },
      "outputs": [
        {
          "output_type": "execute_result",
          "data": {
            "text/plain": [
              "        NR_SEQ_REQUISICAO  NR_SEQ_ITEM  DT_REQUISICAO  \\\n",
              "154                713569      1643609        2459149   \n",
              "851                874965      2123165        2459237   \n",
              "2960              1060768      2709062        2459338   \n",
              "2975               696752      1590314        2459138   \n",
              "3548               614709       829222        2459091   \n",
              "...                   ...          ...            ...   \n",
              "404508             809462      1932441        2459198   \n",
              "405898            1052369      2679552        2459333   \n",
              "406682             616698      1338540        2459093   \n",
              "410854            1225454      3255705        2459422   \n",
              "411629            1052369       887286        2459333   \n",
              "\n",
              "                          DS_TIPO_GUIA  DT_NASCIMENTO  NR_PRODUTO  \\\n",
              "154     Guia de solicitac?o internac?o      2435679.0           1   \n",
              "851     Guia de solicitac?o internac?o      2444510.0           1   \n",
              "2960    Guia de solicitac?o internac?o      2437100.0           1   \n",
              "2975       Guia de solicitac?o SP/SADT      2439286.0           1   \n",
              "3548    Guia de solicitac?o internac?o      2439276.0           1   \n",
              "...                                ...            ...         ...   \n",
              "404508     Guia de solicitac?o SP/SADT      2435679.0           1   \n",
              "405898  Guia de solicitac?o internac?o      2438347.0           1   \n",
              "406682     Guia de solicitac?o SP/SADT      2444568.0           1   \n",
              "410854  Guia de solicitac?o internac?o      2440665.0           1   \n",
              "411629  Guia de solicitac?o internac?o      2438347.0           1   \n",
              "\n",
              "       DS_TIPO_PREST_SOLICITANTE                   DS_CBO  \\\n",
              "154                       MEDICO  Medico cirurgi?o geral    \n",
              "851                       MEDICO  Medico cirurgi?o geral    \n",
              "2960                    HOSPITAL           Medico clinico   \n",
              "2975                      MEDICO  Medico cirurgi?o geral    \n",
              "3548                    HOSPITAL    Medico em endoscopia    \n",
              "...                          ...                      ...   \n",
              "404508                   CLINICA    Medico oftalmologista   \n",
              "405898                  HOSPITAL           Medico clinico   \n",
              "406682                   CLINICA    Medico oftalmologista   \n",
              "410854                  HOSPITAL           Medico clinico   \n",
              "411629                  HOSPITAL           Medico clinico   \n",
              "\n",
              "       DS_UNIDADE_TEMPO_DOENCA DS_TIPO_DOENCA  ... CD_CID  \\\n",
              "154                      Meses          Aguda  ...   K439   \n",
              "851                      Meses          Aguda  ...   K439   \n",
              "2960                      Dias          Aguda  ...   B342   \n",
              "2975                     Meses            NaN  ...   K808   \n",
              "3548                      Dias          Aguda  ...   K359   \n",
              "...                        ...            ...  ...    ...   \n",
              "404508                    Anos            NaN  ...    H40   \n",
              "405898                    Dias          Aguda  ...   B342   \n",
              "406682                    Anos            NaN  ...   Z010   \n",
              "410854                    Dias          Aguda  ...   B342   \n",
              "411629                    Dias          Aguda  ...   B342   \n",
              "\n",
              "                                     DS_INDICACAO_CLINICA   DS_TIPO_ITEM  \\\n",
              "154     PACIENTE COM INCISAO DE NEFRECTOMIA QUE APRESE...  Procedimentos   \n",
              "851     PACIENTE APRESENTA UMA HERNIA HIPOGASTRICA GRA...  Procedimentos   \n",
              "2960    COVID confirmado em 19/03/21. Inicio dos sinto...  Procedimentos   \n",
              "2975    PACIENTE COM NEFRECTOMIA , COM 3 CIRURGIAS ABD...  Procedimentos   \n",
              "3548    PAciente com quadro de dor abdominal ha 36 hor...        MAT/MED   \n",
              "...                                                   ...            ...   \n",
              "404508                         Acompanhamento de GLAUCOMA  Procedimentos   \n",
              "405898  COVID 19. PACIENTE COM EXAME DETECTAVEL EM 12/...  Procedimentos   \n",
              "406682  Para diagnostico diferencial de doencas cornea...  Procedimentos   \n",
              "410854  PACIENTE MASCULINO 51 ANOS , OBESO , ( PESO = ...  Procedimentos   \n",
              "411629  COVID 19. PACIENTE COM EXAME DETECTAVEL EM 12/...        MAT/MED   \n",
              "\n",
              "         CD_ITEM                                            DS_ITEM  \\\n",
              "154     31009107                            HERNIORRAFIA INCISIONAL   \n",
              "851     31009158  HERNIORRAFIA SEM RESSECC?O INTESTINAL ENCARCERADA   \n",
              "2960    40302580                                     UREIA, DOSAGEM   \n",
              "2975    31005497  COLECISTECTOMIA SEM COLANGIOGRAFIA POR VIDEOLA...   \n",
              "3548       99952  TROCATER 10/11MM C/PTA.PROTEGIDA AMERICAN INST...   \n",
              "...          ...                                                ...   \n",
              "404508  41501128               PAQUIMETRIA ULTRASSONICA - MONOCULAR   \n",
              "405898  40805018            RX - RADIOGRAFIA - TORAX - 1 INCIDENCIA   \n",
              "406682  41501128               PAQUIMETRIA ULTRASSONICA - MONOCULAR   \n",
              "410854  60029089                      DIARIA DE ISOLAMENTO (EM UTI)   \n",
              "411629    290014                          EQUIPO BOMBA INFUSAO - UN   \n",
              "\n",
              "                         DS_CLASSE                      DS_SUBGRUPO  \\\n",
              "154      ABDOME, PAREDE E CAVIDADE       SISTEMA DIGESTIVO E ANEXOS   \n",
              "851      ABDOME, PAREDE E CAVIDADE       SISTEMA DIGESTIVO E ANEXOS   \n",
              "2960                    BIOQUIMICA           MEDICINA LABORATORIAL    \n",
              "2975        FIGADO E VIAS BILIARES       SISTEMA DIGESTIVO E ANEXOS   \n",
              "3548                       Protese              Material Hospitalar   \n",
              "...                            ...                              ...   \n",
              "404508  PROCEDIMENTOS DIAGNOSTICOS                           OUTROS   \n",
              "405898                       TORAX  METODOS DIAGNOSTICOS POR IMAGEM   \n",
              "406682  PROCEDIMENTOS DIAGNOSTICOS                           OUTROS   \n",
              "410854                     DIARIAS                          DIARIAS   \n",
              "411629         Material de consumo              Material Hospitalar   \n",
              "\n",
              "                                   DS_GRUPO QT_SOLICITADA DS_STATUS_ITEM  \n",
              "154         PROCED. CIRURGICOS E INVASIVOS            1.0     Autorizado  \n",
              "851         PROCED. CIRURGICOS E INVASIVOS            1.0         Negado  \n",
              "2960    PROCED. DIAGNOSTICOS E TERAPEUTICOS          10.0     Autorizado  \n",
              "2975        PROCED. CIRURGICOS E INVASIVOS            1.0     Autorizado  \n",
              "3548                                 Simpro           3.0     Autorizado  \n",
              "...                                     ...           ...            ...  \n",
              "404508  PROCED. DIAGNOSTICOS E TERAPEUTICOS           2.0     Autorizado  \n",
              "405898  PROCED. DIAGNOSTICOS E TERAPEUTICOS           3.0     Autorizado  \n",
              "406682  PROCED. DIAGNOSTICOS E TERAPEUTICOS           2.0     Autorizado  \n",
              "410854                              DIARIAS           1.0     Autorizado  \n",
              "411629                               Simpro          21.0     Autorizado  \n",
              "\n",
              "[304 rows x 29 columns]"
            ],
            "text/html": [
              "<div>\n",
              "<style scoped>\n",
              "    .dataframe tbody tr th:only-of-type {\n",
              "        vertical-align: middle;\n",
              "    }\n",
              "\n",
              "    .dataframe tbody tr th {\n",
              "        vertical-align: top;\n",
              "    }\n",
              "\n",
              "    .dataframe thead th {\n",
              "        text-align: right;\n",
              "    }\n",
              "</style>\n",
              "<table border=\"1\" class=\"dataframe\">\n",
              "  <thead>\n",
              "    <tr style=\"text-align: right;\">\n",
              "      <th></th>\n",
              "      <th>NR_SEQ_REQUISICAO</th>\n",
              "      <th>NR_SEQ_ITEM</th>\n",
              "      <th>DT_REQUISICAO</th>\n",
              "      <th>DS_TIPO_GUIA</th>\n",
              "      <th>DT_NASCIMENTO</th>\n",
              "      <th>NR_PRODUTO</th>\n",
              "      <th>DS_TIPO_PREST_SOLICITANTE</th>\n",
              "      <th>DS_CBO</th>\n",
              "      <th>DS_UNIDADE_TEMPO_DOENCA</th>\n",
              "      <th>DS_TIPO_DOENCA</th>\n",
              "      <th>...</th>\n",
              "      <th>CD_CID</th>\n",
              "      <th>DS_INDICACAO_CLINICA</th>\n",
              "      <th>DS_TIPO_ITEM</th>\n",
              "      <th>CD_ITEM</th>\n",
              "      <th>DS_ITEM</th>\n",
              "      <th>DS_CLASSE</th>\n",
              "      <th>DS_SUBGRUPO</th>\n",
              "      <th>DS_GRUPO</th>\n",
              "      <th>QT_SOLICITADA</th>\n",
              "      <th>DS_STATUS_ITEM</th>\n",
              "    </tr>\n",
              "  </thead>\n",
              "  <tbody>\n",
              "    <tr>\n",
              "      <th>154</th>\n",
              "      <td>713569</td>\n",
              "      <td>1643609</td>\n",
              "      <td>2459149</td>\n",
              "      <td>Guia de solicitac?o internac?o</td>\n",
              "      <td>2435679.0</td>\n",
              "      <td>1</td>\n",
              "      <td>MEDICO</td>\n",
              "      <td>Medico cirurgi?o geral</td>\n",
              "      <td>Meses</td>\n",
              "      <td>Aguda</td>\n",
              "      <td>...</td>\n",
              "      <td>K439</td>\n",
              "      <td>PACIENTE COM INCISAO DE NEFRECTOMIA QUE APRESE...</td>\n",
              "      <td>Procedimentos</td>\n",
              "      <td>31009107</td>\n",
              "      <td>HERNIORRAFIA INCISIONAL</td>\n",
              "      <td>ABDOME, PAREDE E CAVIDADE</td>\n",
              "      <td>SISTEMA DIGESTIVO E ANEXOS</td>\n",
              "      <td>PROCED. CIRURGICOS E INVASIVOS</td>\n",
              "      <td>1.0</td>\n",
              "      <td>Autorizado</td>\n",
              "    </tr>\n",
              "    <tr>\n",
              "      <th>851</th>\n",
              "      <td>874965</td>\n",
              "      <td>2123165</td>\n",
              "      <td>2459237</td>\n",
              "      <td>Guia de solicitac?o internac?o</td>\n",
              "      <td>2444510.0</td>\n",
              "      <td>1</td>\n",
              "      <td>MEDICO</td>\n",
              "      <td>Medico cirurgi?o geral</td>\n",
              "      <td>Meses</td>\n",
              "      <td>Aguda</td>\n",
              "      <td>...</td>\n",
              "      <td>K439</td>\n",
              "      <td>PACIENTE APRESENTA UMA HERNIA HIPOGASTRICA GRA...</td>\n",
              "      <td>Procedimentos</td>\n",
              "      <td>31009158</td>\n",
              "      <td>HERNIORRAFIA SEM RESSECC?O INTESTINAL ENCARCERADA</td>\n",
              "      <td>ABDOME, PAREDE E CAVIDADE</td>\n",
              "      <td>SISTEMA DIGESTIVO E ANEXOS</td>\n",
              "      <td>PROCED. CIRURGICOS E INVASIVOS</td>\n",
              "      <td>1.0</td>\n",
              "      <td>Negado</td>\n",
              "    </tr>\n",
              "    <tr>\n",
              "      <th>2960</th>\n",
              "      <td>1060768</td>\n",
              "      <td>2709062</td>\n",
              "      <td>2459338</td>\n",
              "      <td>Guia de solicitac?o internac?o</td>\n",
              "      <td>2437100.0</td>\n",
              "      <td>1</td>\n",
              "      <td>HOSPITAL</td>\n",
              "      <td>Medico clinico</td>\n",
              "      <td>Dias</td>\n",
              "      <td>Aguda</td>\n",
              "      <td>...</td>\n",
              "      <td>B342</td>\n",
              "      <td>COVID confirmado em 19/03/21. Inicio dos sinto...</td>\n",
              "      <td>Procedimentos</td>\n",
              "      <td>40302580</td>\n",
              "      <td>UREIA, DOSAGEM</td>\n",
              "      <td>BIOQUIMICA</td>\n",
              "      <td>MEDICINA LABORATORIAL</td>\n",
              "      <td>PROCED. DIAGNOSTICOS E TERAPEUTICOS</td>\n",
              "      <td>10.0</td>\n",
              "      <td>Autorizado</td>\n",
              "    </tr>\n",
              "    <tr>\n",
              "      <th>2975</th>\n",
              "      <td>696752</td>\n",
              "      <td>1590314</td>\n",
              "      <td>2459138</td>\n",
              "      <td>Guia de solicitac?o SP/SADT</td>\n",
              "      <td>2439286.0</td>\n",
              "      <td>1</td>\n",
              "      <td>MEDICO</td>\n",
              "      <td>Medico cirurgi?o geral</td>\n",
              "      <td>Meses</td>\n",
              "      <td>NaN</td>\n",
              "      <td>...</td>\n",
              "      <td>K808</td>\n",
              "      <td>PACIENTE COM NEFRECTOMIA , COM 3 CIRURGIAS ABD...</td>\n",
              "      <td>Procedimentos</td>\n",
              "      <td>31005497</td>\n",
              "      <td>COLECISTECTOMIA SEM COLANGIOGRAFIA POR VIDEOLA...</td>\n",
              "      <td>FIGADO E VIAS BILIARES</td>\n",
              "      <td>SISTEMA DIGESTIVO E ANEXOS</td>\n",
              "      <td>PROCED. CIRURGICOS E INVASIVOS</td>\n",
              "      <td>1.0</td>\n",
              "      <td>Autorizado</td>\n",
              "    </tr>\n",
              "    <tr>\n",
              "      <th>3548</th>\n",
              "      <td>614709</td>\n",
              "      <td>829222</td>\n",
              "      <td>2459091</td>\n",
              "      <td>Guia de solicitac?o internac?o</td>\n",
              "      <td>2439276.0</td>\n",
              "      <td>1</td>\n",
              "      <td>HOSPITAL</td>\n",
              "      <td>Medico em endoscopia</td>\n",
              "      <td>Dias</td>\n",
              "      <td>Aguda</td>\n",
              "      <td>...</td>\n",
              "      <td>K359</td>\n",
              "      <td>PAciente com quadro de dor abdominal ha 36 hor...</td>\n",
              "      <td>MAT/MED</td>\n",
              "      <td>99952</td>\n",
              "      <td>TROCATER 10/11MM C/PTA.PROTEGIDA AMERICAN INST...</td>\n",
              "      <td>Protese</td>\n",
              "      <td>Material Hospitalar</td>\n",
              "      <td>Simpro</td>\n",
              "      <td>3.0</td>\n",
              "      <td>Autorizado</td>\n",
              "    </tr>\n",
              "    <tr>\n",
              "      <th>...</th>\n",
              "      <td>...</td>\n",
              "      <td>...</td>\n",
              "      <td>...</td>\n",
              "      <td>...</td>\n",
              "      <td>...</td>\n",
              "      <td>...</td>\n",
              "      <td>...</td>\n",
              "      <td>...</td>\n",
              "      <td>...</td>\n",
              "      <td>...</td>\n",
              "      <td>...</td>\n",
              "      <td>...</td>\n",
              "      <td>...</td>\n",
              "      <td>...</td>\n",
              "      <td>...</td>\n",
              "      <td>...</td>\n",
              "      <td>...</td>\n",
              "      <td>...</td>\n",
              "      <td>...</td>\n",
              "      <td>...</td>\n",
              "      <td>...</td>\n",
              "    </tr>\n",
              "    <tr>\n",
              "      <th>404508</th>\n",
              "      <td>809462</td>\n",
              "      <td>1932441</td>\n",
              "      <td>2459198</td>\n",
              "      <td>Guia de solicitac?o SP/SADT</td>\n",
              "      <td>2435679.0</td>\n",
              "      <td>1</td>\n",
              "      <td>CLINICA</td>\n",
              "      <td>Medico oftalmologista</td>\n",
              "      <td>Anos</td>\n",
              "      <td>NaN</td>\n",
              "      <td>...</td>\n",
              "      <td>H40</td>\n",
              "      <td>Acompanhamento de GLAUCOMA</td>\n",
              "      <td>Procedimentos</td>\n",
              "      <td>41501128</td>\n",
              "      <td>PAQUIMETRIA ULTRASSONICA - MONOCULAR</td>\n",
              "      <td>PROCEDIMENTOS DIAGNOSTICOS</td>\n",
              "      <td>OUTROS</td>\n",
              "      <td>PROCED. DIAGNOSTICOS E TERAPEUTICOS</td>\n",
              "      <td>2.0</td>\n",
              "      <td>Autorizado</td>\n",
              "    </tr>\n",
              "    <tr>\n",
              "      <th>405898</th>\n",
              "      <td>1052369</td>\n",
              "      <td>2679552</td>\n",
              "      <td>2459333</td>\n",
              "      <td>Guia de solicitac?o internac?o</td>\n",
              "      <td>2438347.0</td>\n",
              "      <td>1</td>\n",
              "      <td>HOSPITAL</td>\n",
              "      <td>Medico clinico</td>\n",
              "      <td>Dias</td>\n",
              "      <td>Aguda</td>\n",
              "      <td>...</td>\n",
              "      <td>B342</td>\n",
              "      <td>COVID 19. PACIENTE COM EXAME DETECTAVEL EM 12/...</td>\n",
              "      <td>Procedimentos</td>\n",
              "      <td>40805018</td>\n",
              "      <td>RX - RADIOGRAFIA - TORAX - 1 INCIDENCIA</td>\n",
              "      <td>TORAX</td>\n",
              "      <td>METODOS DIAGNOSTICOS POR IMAGEM</td>\n",
              "      <td>PROCED. DIAGNOSTICOS E TERAPEUTICOS</td>\n",
              "      <td>3.0</td>\n",
              "      <td>Autorizado</td>\n",
              "    </tr>\n",
              "    <tr>\n",
              "      <th>406682</th>\n",
              "      <td>616698</td>\n",
              "      <td>1338540</td>\n",
              "      <td>2459093</td>\n",
              "      <td>Guia de solicitac?o SP/SADT</td>\n",
              "      <td>2444568.0</td>\n",
              "      <td>1</td>\n",
              "      <td>CLINICA</td>\n",
              "      <td>Medico oftalmologista</td>\n",
              "      <td>Anos</td>\n",
              "      <td>NaN</td>\n",
              "      <td>...</td>\n",
              "      <td>Z010</td>\n",
              "      <td>Para diagnostico diferencial de doencas cornea...</td>\n",
              "      <td>Procedimentos</td>\n",
              "      <td>41501128</td>\n",
              "      <td>PAQUIMETRIA ULTRASSONICA - MONOCULAR</td>\n",
              "      <td>PROCEDIMENTOS DIAGNOSTICOS</td>\n",
              "      <td>OUTROS</td>\n",
              "      <td>PROCED. DIAGNOSTICOS E TERAPEUTICOS</td>\n",
              "      <td>2.0</td>\n",
              "      <td>Autorizado</td>\n",
              "    </tr>\n",
              "    <tr>\n",
              "      <th>410854</th>\n",
              "      <td>1225454</td>\n",
              "      <td>3255705</td>\n",
              "      <td>2459422</td>\n",
              "      <td>Guia de solicitac?o internac?o</td>\n",
              "      <td>2440665.0</td>\n",
              "      <td>1</td>\n",
              "      <td>HOSPITAL</td>\n",
              "      <td>Medico clinico</td>\n",
              "      <td>Dias</td>\n",
              "      <td>Aguda</td>\n",
              "      <td>...</td>\n",
              "      <td>B342</td>\n",
              "      <td>PACIENTE MASCULINO 51 ANOS , OBESO , ( PESO = ...</td>\n",
              "      <td>Procedimentos</td>\n",
              "      <td>60029089</td>\n",
              "      <td>DIARIA DE ISOLAMENTO (EM UTI)</td>\n",
              "      <td>DIARIAS</td>\n",
              "      <td>DIARIAS</td>\n",
              "      <td>DIARIAS</td>\n",
              "      <td>1.0</td>\n",
              "      <td>Autorizado</td>\n",
              "    </tr>\n",
              "    <tr>\n",
              "      <th>411629</th>\n",
              "      <td>1052369</td>\n",
              "      <td>887286</td>\n",
              "      <td>2459333</td>\n",
              "      <td>Guia de solicitac?o internac?o</td>\n",
              "      <td>2438347.0</td>\n",
              "      <td>1</td>\n",
              "      <td>HOSPITAL</td>\n",
              "      <td>Medico clinico</td>\n",
              "      <td>Dias</td>\n",
              "      <td>Aguda</td>\n",
              "      <td>...</td>\n",
              "      <td>B342</td>\n",
              "      <td>COVID 19. PACIENTE COM EXAME DETECTAVEL EM 12/...</td>\n",
              "      <td>MAT/MED</td>\n",
              "      <td>290014</td>\n",
              "      <td>EQUIPO BOMBA INFUSAO - UN</td>\n",
              "      <td>Material de consumo</td>\n",
              "      <td>Material Hospitalar</td>\n",
              "      <td>Simpro</td>\n",
              "      <td>21.0</td>\n",
              "      <td>Autorizado</td>\n",
              "    </tr>\n",
              "  </tbody>\n",
              "</table>\n",
              "<p>304 rows × 29 columns</p>\n",
              "</div>"
            ]
          },
          "metadata": {},
          "execution_count": 17
        }
      ],
      "source": [
        "df[df.DS_UNIDADE_TEMPO_DOENCA.notnull()]"
      ]
    },
    {
      "cell_type": "markdown",
      "metadata": {
        "id": "Kpzd4Nns2aBu"
      },
      "source": [
        "> Como há apenas 304 exemplos em que a coluna DS_UNIDADE_TEMPO_DOENCA não são nulos, podemos dropar essa coluna tbm."
      ]
    },
    {
      "cell_type": "code",
      "execution_count": 18,
      "metadata": {
        "pycharm": {
          "name": "#%%\n"
        },
        "id": "FAKoCp7k2aBu"
      },
      "outputs": [],
      "source": [
        "df.drop(columns=[\"DS_UNIDADE_TEMPO_DOENCA\"], inplace=True)"
      ]
    },
    {
      "cell_type": "code",
      "execution_count": 19,
      "metadata": {
        "pycharm": {
          "name": "#%%\n"
        },
        "colab": {
          "base_uri": "https://localhost:8080/"
        },
        "id": "Oo7l-cv22aBv",
        "outputId": "c8855115-18b4-46eb-a20a-9abdc33f06d3"
      },
      "outputs": [
        {
          "output_type": "execute_result",
          "data": {
            "text/plain": [
              "NR_SEQ_REQUISICAO                 0\n",
              "NR_SEQ_ITEM                       0\n",
              "DT_REQUISICAO                     0\n",
              "DS_TIPO_GUIA                      0\n",
              "DT_NASCIMENTO                     0\n",
              "NR_PRODUTO                        0\n",
              "DS_TIPO_PREST_SOLICITANTE         0\n",
              "DS_CBO                            0\n",
              "DS_TIPO_DOENCA               412286\n",
              "DS_INDICACAO_ACIDENTE         32015\n",
              "DS_TIPO_SAIDA                413256\n",
              "DS_TIPO_INTERNACAO           291216\n",
              "DS_REGIME_INTERNACAO         291216\n",
              "DS_CARATER_ATENDIMENTO            0\n",
              "DS_TIPO_ACOMODACAO           291297\n",
              "QT_DIA_SOLICITADO            292410\n",
              "CD_GUIA_REFERENCIA           342733\n",
              "DS_TIPO_ATENDIMENTO          121337\n",
              "CD_CID                       235287\n",
              "DS_INDICACAO_CLINICA          87534\n",
              "DS_TIPO_ITEM                      0\n",
              "CD_ITEM                           0\n",
              "DS_ITEM                           0\n",
              "DS_CLASSE                         0\n",
              "DS_SUBGRUPO                       0\n",
              "DS_GRUPO                          0\n",
              "QT_SOLICITADA                     0\n",
              "DS_STATUS_ITEM                    0\n",
              "dtype: int64"
            ]
          },
          "metadata": {},
          "execution_count": 19
        }
      ],
      "source": [
        "df.isna().sum()"
      ]
    },
    {
      "cell_type": "markdown",
      "metadata": {
        "id": "XOnRbbfL2aBv"
      },
      "source": [
        "#### DS_TIPO_DOENCA"
      ]
    },
    {
      "cell_type": "code",
      "execution_count": 20,
      "metadata": {
        "pycharm": {
          "name": "#%%\n"
        },
        "colab": {
          "base_uri": "https://localhost:8080/",
          "height": 0
        },
        "id": "4fwA7l3s2aBv",
        "outputId": "375121c2-5bbf-4cf9-9c0c-835b67e6947f"
      },
      "outputs": [
        {
          "output_type": "execute_result",
          "data": {
            "text/plain": [
              "        NR_SEQ_REQUISICAO  NR_SEQ_ITEM  DT_REQUISICAO  \\\n",
              "43                1406396      3861670        2459515   \n",
              "80                1185466      3125028        2459401   \n",
              "154                713569      1643609        2459149   \n",
              "851                874965      2123165        2459237   \n",
              "1891              1270928      3412699        2459446   \n",
              "...                   ...          ...            ...   \n",
              "411275            1268805       921023        2459445   \n",
              "411629            1052369       887286        2459333   \n",
              "411850            1388025      3803114        2459507   \n",
              "412172            1061417      2710971        2459339   \n",
              "413246            1088721      2800823        2459352   \n",
              "\n",
              "                                            DS_TIPO_GUIA  DT_NASCIMENTO  \\\n",
              "43      Guia de solicitac?o de prorrogac?o de internac?o      2439209.0   \n",
              "80                        Guia de solicitac?o internac?o      2434131.0   \n",
              "154                       Guia de solicitac?o internac?o      2435679.0   \n",
              "851                       Guia de solicitac?o internac?o      2444510.0   \n",
              "1891    Guia de solicitac?o de prorrogac?o de internac?o      2431313.0   \n",
              "...                                                  ...            ...   \n",
              "411275  Guia de solicitac?o de prorrogac?o de internac?o      2426520.0   \n",
              "411629                    Guia de solicitac?o internac?o      2438347.0   \n",
              "411850  Guia de solicitac?o de prorrogac?o de internac?o      2439209.0   \n",
              "412172                    Guia de solicitac?o internac?o      2437268.0   \n",
              "413246  Guia de solicitac?o de prorrogac?o de internac?o      2433012.0   \n",
              "\n",
              "        NR_PRODUTO DS_TIPO_PREST_SOLICITANTE                   DS_CBO  \\\n",
              "43               1                  HOSPITAL           Medico clinico   \n",
              "80               1                  HOSPITAL           Medico clinico   \n",
              "154              1                    MEDICO  Medico cirurgi?o geral    \n",
              "851              1                    MEDICO  Medico cirurgi?o geral    \n",
              "1891             1                  HOSPITAL           Medico clinico   \n",
              "...            ...                       ...                      ...   \n",
              "411275           1                  HOSPITAL     Medico neurologista    \n",
              "411629           1                  HOSPITAL           Medico clinico   \n",
              "411850           1                  HOSPITAL           Medico clinico   \n",
              "412172           1                  HOSPITAL           Medico clinico   \n",
              "413246           1                  HOSPITAL           Medico clinico   \n",
              "\n",
              "       DS_TIPO_DOENCA DS_INDICACAO_ACIDENTE  ...  CD_CID  \\\n",
              "43              Aguda          N?o acidente  ...    R500   \n",
              "80              Aguda          N?o acidente  ...     N18   \n",
              "154             Aguda                Outros  ...    K439   \n",
              "851             Aguda          N?o acidente  ...    K439   \n",
              "1891            Aguda          N?o acidente  ...     I25   \n",
              "...               ...                   ...  ...     ...   \n",
              "411275          Aguda          N?o acidente  ...     G45   \n",
              "411629          Aguda          N?o acidente  ...    B342   \n",
              "411850          Aguda          N?o acidente  ...    R500   \n",
              "412172          Aguda          N?o acidente  ...     I64   \n",
              "413246        Cronica                Outros  ...     C22   \n",
              "\n",
              "                                     DS_INDICACAO_CLINICA   DS_TIPO_ITEM  \\\n",
              "43      PACIENTE 55 ANOS, COM PO DE DRENAGEM DE HEMATO...  Procedimentos   \n",
              "80      paciente idosa com anos  aneurica  apresentand...  Procedimentos   \n",
              "154     PACIENTE COM INCISAO DE NEFRECTOMIA QUE APRESE...  Procedimentos   \n",
              "851     PACIENTE APRESENTA UMA HERNIA HIPOGASTRICA GRA...  Procedimentos   \n",
              "1891    PACIENTE 77 ANOS, COM QUADRO DE DESCONFORTO RE...  Procedimentos   \n",
              "...                                                   ...            ...   \n",
              "411275  paciente 90 anos, idosa com AVEI maligno GRAVE...        MAT/MED   \n",
              "411629  COVID 19. PACIENTE COM EXAME DETECTAVEL EM 12/...        MAT/MED   \n",
              "411850                                 Descric?o em anexo  Procedimentos   \n",
              "412172                                           em anexo  Procedimentos   \n",
              "413246   PACIENTE PERMANECE ESTAVEL, ORIENTADO, AFEBRI...  Procedimentos   \n",
              "\n",
              "         CD_ITEM                                            DS_ITEM  \\\n",
              "43      20103344                                          MIOPATIAS   \n",
              "80      10104020  ATENDIMENTO MEDICO DO INTENSIVISTA EM UTI GERA...   \n",
              "154     31009107                            HERNIORRAFIA INCISIONAL   \n",
              "851     31009158  HERNIORRAFIA SEM RESSECC?O INTESTINAL ENCARCERADA   \n",
              "1891    60023112                           PORTE 2 (CIRURGIA MEDIA)   \n",
              "...          ...                                                ...   \n",
              "411275     20114               SONDA NASOENTERAL 12FR FLEXIFLO - UN   \n",
              "411629    290014                          EQUIPO BOMBA INFUSAO - UN   \n",
              "411850  31101020  ABSCESSO RENAL OU PERI-RENAL - DRENAGEM PERCUT...   \n",
              "412172  60000783                                         ENFERMARIA   \n",
              "413246  40301400                                    CALCIO, DOSAGEM   \n",
              "\n",
              "                          DS_CLASSE                           DS_SUBGRUPO  \\\n",
              "43          REABILITAC?ES - SESS?ES  PROCEDIMENTOS CLINICOS AMBULATORIAIS   \n",
              "80                              UTI                             CONSULTAS   \n",
              "154       ABDOME, PAREDE E CAVIDADE            SISTEMA DIGESTIVO E ANEXOS   \n",
              "851       ABDOME, PAREDE E CAVIDADE            SISTEMA DIGESTIVO E ANEXOS   \n",
              "1891            EM CENTRO CIRURGICO                          TAXA DE SALA   \n",
              "...                             ...                                   ...   \n",
              "411275          Material de consumo                   Material Hospitalar   \n",
              "411629          Material de consumo                   Material Hospitalar   \n",
              "411850  RIM, BACINETE E SUPRA-RENAL                      SISTEMA URINARIO   \n",
              "412172                      DIARIAS                               DIARIAS   \n",
              "413246                   BIOQUIMICA                MEDICINA LABORATORIAL    \n",
              "\n",
              "                                   DS_GRUPO QT_SOLICITADA DS_STATUS_ITEM  \n",
              "43                         PROCED. CLINICOS          12.0     Autorizado  \n",
              "80                           PROCED. GERAIS           2.0         Negado  \n",
              "154         PROCED. CIRURGICOS E INVASIVOS            1.0     Autorizado  \n",
              "851         PROCED. CIRURGICOS E INVASIVOS            1.0         Negado  \n",
              "1891                                  TAXAS           1.0         Negado  \n",
              "...                                     ...           ...            ...  \n",
              "411275                               Simpro           1.0     Autorizado  \n",
              "411629                               Simpro          21.0     Autorizado  \n",
              "411850      PROCED. CIRURGICOS E INVASIVOS            1.0         Negado  \n",
              "412172                              DIARIAS           1.0     Autorizado  \n",
              "413246  PROCED. DIAGNOSTICOS E TERAPEUTICOS           2.0         Negado  \n",
              "\n",
              "[970 rows x 28 columns]"
            ],
            "text/html": [
              "<div>\n",
              "<style scoped>\n",
              "    .dataframe tbody tr th:only-of-type {\n",
              "        vertical-align: middle;\n",
              "    }\n",
              "\n",
              "    .dataframe tbody tr th {\n",
              "        vertical-align: top;\n",
              "    }\n",
              "\n",
              "    .dataframe thead th {\n",
              "        text-align: right;\n",
              "    }\n",
              "</style>\n",
              "<table border=\"1\" class=\"dataframe\">\n",
              "  <thead>\n",
              "    <tr style=\"text-align: right;\">\n",
              "      <th></th>\n",
              "      <th>NR_SEQ_REQUISICAO</th>\n",
              "      <th>NR_SEQ_ITEM</th>\n",
              "      <th>DT_REQUISICAO</th>\n",
              "      <th>DS_TIPO_GUIA</th>\n",
              "      <th>DT_NASCIMENTO</th>\n",
              "      <th>NR_PRODUTO</th>\n",
              "      <th>DS_TIPO_PREST_SOLICITANTE</th>\n",
              "      <th>DS_CBO</th>\n",
              "      <th>DS_TIPO_DOENCA</th>\n",
              "      <th>DS_INDICACAO_ACIDENTE</th>\n",
              "      <th>...</th>\n",
              "      <th>CD_CID</th>\n",
              "      <th>DS_INDICACAO_CLINICA</th>\n",
              "      <th>DS_TIPO_ITEM</th>\n",
              "      <th>CD_ITEM</th>\n",
              "      <th>DS_ITEM</th>\n",
              "      <th>DS_CLASSE</th>\n",
              "      <th>DS_SUBGRUPO</th>\n",
              "      <th>DS_GRUPO</th>\n",
              "      <th>QT_SOLICITADA</th>\n",
              "      <th>DS_STATUS_ITEM</th>\n",
              "    </tr>\n",
              "  </thead>\n",
              "  <tbody>\n",
              "    <tr>\n",
              "      <th>43</th>\n",
              "      <td>1406396</td>\n",
              "      <td>3861670</td>\n",
              "      <td>2459515</td>\n",
              "      <td>Guia de solicitac?o de prorrogac?o de internac?o</td>\n",
              "      <td>2439209.0</td>\n",
              "      <td>1</td>\n",
              "      <td>HOSPITAL</td>\n",
              "      <td>Medico clinico</td>\n",
              "      <td>Aguda</td>\n",
              "      <td>N?o acidente</td>\n",
              "      <td>...</td>\n",
              "      <td>R500</td>\n",
              "      <td>PACIENTE 55 ANOS, COM PO DE DRENAGEM DE HEMATO...</td>\n",
              "      <td>Procedimentos</td>\n",
              "      <td>20103344</td>\n",
              "      <td>MIOPATIAS</td>\n",
              "      <td>REABILITAC?ES - SESS?ES</td>\n",
              "      <td>PROCEDIMENTOS CLINICOS AMBULATORIAIS</td>\n",
              "      <td>PROCED. CLINICOS</td>\n",
              "      <td>12.0</td>\n",
              "      <td>Autorizado</td>\n",
              "    </tr>\n",
              "    <tr>\n",
              "      <th>80</th>\n",
              "      <td>1185466</td>\n",
              "      <td>3125028</td>\n",
              "      <td>2459401</td>\n",
              "      <td>Guia de solicitac?o internac?o</td>\n",
              "      <td>2434131.0</td>\n",
              "      <td>1</td>\n",
              "      <td>HOSPITAL</td>\n",
              "      <td>Medico clinico</td>\n",
              "      <td>Aguda</td>\n",
              "      <td>N?o acidente</td>\n",
              "      <td>...</td>\n",
              "      <td>N18</td>\n",
              "      <td>paciente idosa com anos  aneurica  apresentand...</td>\n",
              "      <td>Procedimentos</td>\n",
              "      <td>10104020</td>\n",
              "      <td>ATENDIMENTO MEDICO DO INTENSIVISTA EM UTI GERA...</td>\n",
              "      <td>UTI</td>\n",
              "      <td>CONSULTAS</td>\n",
              "      <td>PROCED. GERAIS</td>\n",
              "      <td>2.0</td>\n",
              "      <td>Negado</td>\n",
              "    </tr>\n",
              "    <tr>\n",
              "      <th>154</th>\n",
              "      <td>713569</td>\n",
              "      <td>1643609</td>\n",
              "      <td>2459149</td>\n",
              "      <td>Guia de solicitac?o internac?o</td>\n",
              "      <td>2435679.0</td>\n",
              "      <td>1</td>\n",
              "      <td>MEDICO</td>\n",
              "      <td>Medico cirurgi?o geral</td>\n",
              "      <td>Aguda</td>\n",
              "      <td>Outros</td>\n",
              "      <td>...</td>\n",
              "      <td>K439</td>\n",
              "      <td>PACIENTE COM INCISAO DE NEFRECTOMIA QUE APRESE...</td>\n",
              "      <td>Procedimentos</td>\n",
              "      <td>31009107</td>\n",
              "      <td>HERNIORRAFIA INCISIONAL</td>\n",
              "      <td>ABDOME, PAREDE E CAVIDADE</td>\n",
              "      <td>SISTEMA DIGESTIVO E ANEXOS</td>\n",
              "      <td>PROCED. CIRURGICOS E INVASIVOS</td>\n",
              "      <td>1.0</td>\n",
              "      <td>Autorizado</td>\n",
              "    </tr>\n",
              "    <tr>\n",
              "      <th>851</th>\n",
              "      <td>874965</td>\n",
              "      <td>2123165</td>\n",
              "      <td>2459237</td>\n",
              "      <td>Guia de solicitac?o internac?o</td>\n",
              "      <td>2444510.0</td>\n",
              "      <td>1</td>\n",
              "      <td>MEDICO</td>\n",
              "      <td>Medico cirurgi?o geral</td>\n",
              "      <td>Aguda</td>\n",
              "      <td>N?o acidente</td>\n",
              "      <td>...</td>\n",
              "      <td>K439</td>\n",
              "      <td>PACIENTE APRESENTA UMA HERNIA HIPOGASTRICA GRA...</td>\n",
              "      <td>Procedimentos</td>\n",
              "      <td>31009158</td>\n",
              "      <td>HERNIORRAFIA SEM RESSECC?O INTESTINAL ENCARCERADA</td>\n",
              "      <td>ABDOME, PAREDE E CAVIDADE</td>\n",
              "      <td>SISTEMA DIGESTIVO E ANEXOS</td>\n",
              "      <td>PROCED. CIRURGICOS E INVASIVOS</td>\n",
              "      <td>1.0</td>\n",
              "      <td>Negado</td>\n",
              "    </tr>\n",
              "    <tr>\n",
              "      <th>1891</th>\n",
              "      <td>1270928</td>\n",
              "      <td>3412699</td>\n",
              "      <td>2459446</td>\n",
              "      <td>Guia de solicitac?o de prorrogac?o de internac?o</td>\n",
              "      <td>2431313.0</td>\n",
              "      <td>1</td>\n",
              "      <td>HOSPITAL</td>\n",
              "      <td>Medico clinico</td>\n",
              "      <td>Aguda</td>\n",
              "      <td>N?o acidente</td>\n",
              "      <td>...</td>\n",
              "      <td>I25</td>\n",
              "      <td>PACIENTE 77 ANOS, COM QUADRO DE DESCONFORTO RE...</td>\n",
              "      <td>Procedimentos</td>\n",
              "      <td>60023112</td>\n",
              "      <td>PORTE 2 (CIRURGIA MEDIA)</td>\n",
              "      <td>EM CENTRO CIRURGICO</td>\n",
              "      <td>TAXA DE SALA</td>\n",
              "      <td>TAXAS</td>\n",
              "      <td>1.0</td>\n",
              "      <td>Negado</td>\n",
              "    </tr>\n",
              "    <tr>\n",
              "      <th>...</th>\n",
              "      <td>...</td>\n",
              "      <td>...</td>\n",
              "      <td>...</td>\n",
              "      <td>...</td>\n",
              "      <td>...</td>\n",
              "      <td>...</td>\n",
              "      <td>...</td>\n",
              "      <td>...</td>\n",
              "      <td>...</td>\n",
              "      <td>...</td>\n",
              "      <td>...</td>\n",
              "      <td>...</td>\n",
              "      <td>...</td>\n",
              "      <td>...</td>\n",
              "      <td>...</td>\n",
              "      <td>...</td>\n",
              "      <td>...</td>\n",
              "      <td>...</td>\n",
              "      <td>...</td>\n",
              "      <td>...</td>\n",
              "      <td>...</td>\n",
              "    </tr>\n",
              "    <tr>\n",
              "      <th>411275</th>\n",
              "      <td>1268805</td>\n",
              "      <td>921023</td>\n",
              "      <td>2459445</td>\n",
              "      <td>Guia de solicitac?o de prorrogac?o de internac?o</td>\n",
              "      <td>2426520.0</td>\n",
              "      <td>1</td>\n",
              "      <td>HOSPITAL</td>\n",
              "      <td>Medico neurologista</td>\n",
              "      <td>Aguda</td>\n",
              "      <td>N?o acidente</td>\n",
              "      <td>...</td>\n",
              "      <td>G45</td>\n",
              "      <td>paciente 90 anos, idosa com AVEI maligno GRAVE...</td>\n",
              "      <td>MAT/MED</td>\n",
              "      <td>20114</td>\n",
              "      <td>SONDA NASOENTERAL 12FR FLEXIFLO - UN</td>\n",
              "      <td>Material de consumo</td>\n",
              "      <td>Material Hospitalar</td>\n",
              "      <td>Simpro</td>\n",
              "      <td>1.0</td>\n",
              "      <td>Autorizado</td>\n",
              "    </tr>\n",
              "    <tr>\n",
              "      <th>411629</th>\n",
              "      <td>1052369</td>\n",
              "      <td>887286</td>\n",
              "      <td>2459333</td>\n",
              "      <td>Guia de solicitac?o internac?o</td>\n",
              "      <td>2438347.0</td>\n",
              "      <td>1</td>\n",
              "      <td>HOSPITAL</td>\n",
              "      <td>Medico clinico</td>\n",
              "      <td>Aguda</td>\n",
              "      <td>N?o acidente</td>\n",
              "      <td>...</td>\n",
              "      <td>B342</td>\n",
              "      <td>COVID 19. PACIENTE COM EXAME DETECTAVEL EM 12/...</td>\n",
              "      <td>MAT/MED</td>\n",
              "      <td>290014</td>\n",
              "      <td>EQUIPO BOMBA INFUSAO - UN</td>\n",
              "      <td>Material de consumo</td>\n",
              "      <td>Material Hospitalar</td>\n",
              "      <td>Simpro</td>\n",
              "      <td>21.0</td>\n",
              "      <td>Autorizado</td>\n",
              "    </tr>\n",
              "    <tr>\n",
              "      <th>411850</th>\n",
              "      <td>1388025</td>\n",
              "      <td>3803114</td>\n",
              "      <td>2459507</td>\n",
              "      <td>Guia de solicitac?o de prorrogac?o de internac?o</td>\n",
              "      <td>2439209.0</td>\n",
              "      <td>1</td>\n",
              "      <td>HOSPITAL</td>\n",
              "      <td>Medico clinico</td>\n",
              "      <td>Aguda</td>\n",
              "      <td>N?o acidente</td>\n",
              "      <td>...</td>\n",
              "      <td>R500</td>\n",
              "      <td>Descric?o em anexo</td>\n",
              "      <td>Procedimentos</td>\n",
              "      <td>31101020</td>\n",
              "      <td>ABSCESSO RENAL OU PERI-RENAL - DRENAGEM PERCUT...</td>\n",
              "      <td>RIM, BACINETE E SUPRA-RENAL</td>\n",
              "      <td>SISTEMA URINARIO</td>\n",
              "      <td>PROCED. CIRURGICOS E INVASIVOS</td>\n",
              "      <td>1.0</td>\n",
              "      <td>Negado</td>\n",
              "    </tr>\n",
              "    <tr>\n",
              "      <th>412172</th>\n",
              "      <td>1061417</td>\n",
              "      <td>2710971</td>\n",
              "      <td>2459339</td>\n",
              "      <td>Guia de solicitac?o internac?o</td>\n",
              "      <td>2437268.0</td>\n",
              "      <td>1</td>\n",
              "      <td>HOSPITAL</td>\n",
              "      <td>Medico clinico</td>\n",
              "      <td>Aguda</td>\n",
              "      <td>N?o acidente</td>\n",
              "      <td>...</td>\n",
              "      <td>I64</td>\n",
              "      <td>em anexo</td>\n",
              "      <td>Procedimentos</td>\n",
              "      <td>60000783</td>\n",
              "      <td>ENFERMARIA</td>\n",
              "      <td>DIARIAS</td>\n",
              "      <td>DIARIAS</td>\n",
              "      <td>DIARIAS</td>\n",
              "      <td>1.0</td>\n",
              "      <td>Autorizado</td>\n",
              "    </tr>\n",
              "    <tr>\n",
              "      <th>413246</th>\n",
              "      <td>1088721</td>\n",
              "      <td>2800823</td>\n",
              "      <td>2459352</td>\n",
              "      <td>Guia de solicitac?o de prorrogac?o de internac?o</td>\n",
              "      <td>2433012.0</td>\n",
              "      <td>1</td>\n",
              "      <td>HOSPITAL</td>\n",
              "      <td>Medico clinico</td>\n",
              "      <td>Cronica</td>\n",
              "      <td>Outros</td>\n",
              "      <td>...</td>\n",
              "      <td>C22</td>\n",
              "      <td>PACIENTE PERMANECE ESTAVEL, ORIENTADO, AFEBRI...</td>\n",
              "      <td>Procedimentos</td>\n",
              "      <td>40301400</td>\n",
              "      <td>CALCIO, DOSAGEM</td>\n",
              "      <td>BIOQUIMICA</td>\n",
              "      <td>MEDICINA LABORATORIAL</td>\n",
              "      <td>PROCED. DIAGNOSTICOS E TERAPEUTICOS</td>\n",
              "      <td>2.0</td>\n",
              "      <td>Negado</td>\n",
              "    </tr>\n",
              "  </tbody>\n",
              "</table>\n",
              "<p>970 rows × 28 columns</p>\n",
              "</div>"
            ]
          },
          "metadata": {},
          "execution_count": 20
        }
      ],
      "source": [
        "df[df.DS_TIPO_DOENCA.notnull()]"
      ]
    },
    {
      "cell_type": "markdown",
      "metadata": {
        "id": "eh1HZB7p2aBv"
      },
      "source": [
        "> Como só há 970 exemplos que não são nulos, podemos dropar essa coluna também."
      ]
    },
    {
      "cell_type": "code",
      "execution_count": 21,
      "metadata": {
        "pycharm": {
          "name": "#%%\n"
        },
        "id": "vym6byfh2aBv"
      },
      "outputs": [],
      "source": [
        "df.drop(columns=[\"DS_TIPO_DOENCA\"], inplace=True)"
      ]
    },
    {
      "cell_type": "code",
      "execution_count": 22,
      "metadata": {
        "pycharm": {
          "name": "#%%\n"
        },
        "colab": {
          "base_uri": "https://localhost:8080/"
        },
        "id": "bKPCC08h2aBw",
        "outputId": "c9a4c000-673e-4d97-cc50-9691bb8c3426"
      },
      "outputs": [
        {
          "output_type": "execute_result",
          "data": {
            "text/plain": [
              "NR_SEQ_REQUISICAO                 0\n",
              "NR_SEQ_ITEM                       0\n",
              "DT_REQUISICAO                     0\n",
              "DS_TIPO_GUIA                      0\n",
              "DT_NASCIMENTO                     0\n",
              "NR_PRODUTO                        0\n",
              "DS_TIPO_PREST_SOLICITANTE         0\n",
              "DS_CBO                            0\n",
              "DS_INDICACAO_ACIDENTE         32015\n",
              "DS_TIPO_SAIDA                413256\n",
              "DS_TIPO_INTERNACAO           291216\n",
              "DS_REGIME_INTERNACAO         291216\n",
              "DS_CARATER_ATENDIMENTO            0\n",
              "DS_TIPO_ACOMODACAO           291297\n",
              "QT_DIA_SOLICITADO            292410\n",
              "CD_GUIA_REFERENCIA           342733\n",
              "DS_TIPO_ATENDIMENTO          121337\n",
              "CD_CID                       235287\n",
              "DS_INDICACAO_CLINICA          87534\n",
              "DS_TIPO_ITEM                      0\n",
              "CD_ITEM                           0\n",
              "DS_ITEM                           0\n",
              "DS_CLASSE                         0\n",
              "DS_SUBGRUPO                       0\n",
              "DS_GRUPO                          0\n",
              "QT_SOLICITADA                     0\n",
              "DS_STATUS_ITEM                    0\n",
              "dtype: int64"
            ]
          },
          "metadata": {},
          "execution_count": 22
        }
      ],
      "source": [
        "df.isna().sum()"
      ]
    },
    {
      "cell_type": "markdown",
      "metadata": {
        "id": "ptPI8SdU2aBw"
      },
      "source": [
        "#### DS_INDICACAO_ACIDENTE"
      ]
    },
    {
      "cell_type": "code",
      "execution_count": 23,
      "metadata": {
        "pycharm": {
          "name": "#%%\n"
        },
        "colab": {
          "base_uri": "https://localhost:8080/"
        },
        "id": "RQ79dSQA2aBw",
        "outputId": "7e0cc0d7-e8ea-4a05-c436-fbfa96a508f4"
      },
      "outputs": [
        {
          "output_type": "execute_result",
          "data": {
            "text/plain": [
              "array(['N?o acidente', 'Outros', 'Trabalho', 'Transito'], dtype=object)"
            ]
          },
          "metadata": {},
          "execution_count": 23
        }
      ],
      "source": [
        "## verificando os valores únicos\n",
        "df[df.DS_INDICACAO_ACIDENTE.notnull()].DS_INDICACAO_ACIDENTE.unique()"
      ]
    },
    {
      "cell_type": "code",
      "execution_count": 24,
      "metadata": {
        "pycharm": {
          "name": "#%%\n"
        },
        "colab": {
          "base_uri": "https://localhost:8080/",
          "height": 0
        },
        "id": "vSSjRc3k2aBw",
        "outputId": "6cbbb4dd-3c00-478c-9022-cd7a91cbb1d5"
      },
      "outputs": [
        {
          "output_type": "execute_result",
          "data": {
            "text/plain": [
              "        NR_SEQ_REQUISICAO  NR_SEQ_ITEM  DT_REQUISICAO  \\\n",
              "0                 1560479      4348670        2459598   \n",
              "2                  615210      1333736        2459091   \n",
              "3                 1340515      3648137        2459482   \n",
              "4                 1135757       897098        2459375   \n",
              "5                 1351610       937069        2459487   \n",
              "...                   ...          ...            ...   \n",
              "413261             921592      2265626        2459259   \n",
              "413262             608870      1313415        2459089   \n",
              "413263            1489829      4129003        2459557   \n",
              "413264             690055      1570248        2459136   \n",
              "413265            1131307      2942784        2459374   \n",
              "\n",
              "                                            DS_TIPO_GUIA  DT_NASCIMENTO  \\\n",
              "0                            Guia de solicitac?o SP/SADT      2440511.0   \n",
              "2                         Guia de solicitac?o internac?o      2443536.0   \n",
              "3                            Guia de solicitac?o SP/SADT      2429575.0   \n",
              "4                            Guia de solicitac?o SP/SADT      2439815.0   \n",
              "5                            Guia de solicitac?o SP/SADT      2441089.0   \n",
              "...                                                  ...            ...   \n",
              "413261                       Guia de solicitac?o SP/SADT      2437804.0   \n",
              "413262                       Guia de solicitac?o SP/SADT      2440041.0   \n",
              "413263  Guia de solicitac?o de prorrogac?o de internac?o      2438718.0   \n",
              "413264                       Guia de solicitac?o SP/SADT      2440704.0   \n",
              "413265                       Guia de solicitac?o SP/SADT      2441921.0   \n",
              "\n",
              "        NR_PRODUTO DS_TIPO_PREST_SOLICITANTE  \\\n",
              "0                1                  HOSPITAL   \n",
              "2                1                  HOSPITAL   \n",
              "3                1                   CLINICA   \n",
              "4                1                   CLINICA   \n",
              "5                1                  HOSPITAL   \n",
              "...            ...                       ...   \n",
              "413261           1                    MEDICO   \n",
              "413262           1                   CLINICA   \n",
              "413263           1                  HOSPITAL   \n",
              "413264           1                   CLINICA   \n",
              "413265           1         CLINICA DE IMAGEM   \n",
              "\n",
              "                                       DS_CBO DS_INDICACAO_ACIDENTE  \\\n",
              "0       Medico ortopedista e traumatologista           N?o acidente   \n",
              "2                              Medico clinico          N?o acidente   \n",
              "3                       Medico cardiologista           N?o acidente   \n",
              "4       Medico ortopedista e traumatologista           N?o acidente   \n",
              "5                              Medico clinico          N?o acidente   \n",
              "...                                       ...                   ...   \n",
              "413261                  Medico oftalmologista          N?o acidente   \n",
              "413262                  Medico oftalmologista          N?o acidente   \n",
              "413263                Medico cirurgi?o geral           N?o acidente   \n",
              "413264                         Medico clinico          N?o acidente   \n",
              "413265                         Medico clinico          N?o acidente   \n",
              "\n",
              "        DS_TIPO_SAIDA  ... CD_CID  \\\n",
              "0                 NaN  ...    NaN   \n",
              "2                 NaN  ...   B342   \n",
              "3                 NaN  ...    I10   \n",
              "4                 NaN  ...    M16   \n",
              "5                 NaN  ...    C50   \n",
              "...               ...  ...    ...   \n",
              "413261            NaN  ...    H40   \n",
              "413262            NaN  ...    NaN   \n",
              "413263            NaN  ...    NaN   \n",
              "413264            NaN  ...    H40   \n",
              "413265            NaN  ...    NaN   \n",
              "\n",
              "                                     DS_INDICACAO_CLINICA   DS_TIPO_ITEM  \\\n",
              "0                                                     NaN  Procedimentos   \n",
              "2       Paciente positivo para COVID 19 ha 10 dias com...  Procedimentos   \n",
              "3                                                     NaN  Procedimentos   \n",
              "4                  DOR CRONICA NO QUADRIL E COLUNA LOMBAR        MAT/MED   \n",
              "5                                                     C50        MAT/MED   \n",
              "...                                                   ...            ...   \n",
              "413261                                       h40 glaucoma  Procedimentos   \n",
              "413262                                                NaN  Procedimentos   \n",
              "413263  paciente com metastase de sarcona \\nData da en...  Procedimentos   \n",
              "413264                                           GLAUCOMA  Procedimentos   \n",
              "413265  PACIENTE FEMININA 47 ANOS COM HISTORIA DE CEFA...  Procedimentos   \n",
              "\n",
              "         CD_ITEM                                            DS_ITEM  \\\n",
              "0       60023104                         PORTE 1 (CIRURGIA PEQUENA)   \n",
              "2       10102019             VISITA HOSPITALAR A PACIENTE INTERNADO   \n",
              "3       40302318                                  POTASSIO, DOSAGEM   \n",
              "4          37765  NAUSEDRON 2 MG/ML SOL INJ CX 50 AMP VD INC X 2...   \n",
              "5          73512  ZEDORA 440 MG PO LIOF SOL INJ IV CT FA VD TRAN...   \n",
              "...          ...                                                ...   \n",
              "413261  41301250  MAPEAMENTO DE RETINA (OFTALMOSCOPIA INDIRETA) ...   \n",
              "413262  41301439              FUNDOSCOPIA SOB MEDRIASES - BINOCULAR   \n",
              "413263  60033711              TAXA DE OBSERVAC?O DE DE 6 A 12 HORAS   \n",
              "413264  41501144  PCT-COMP - TOMOGRAFIA DE COERENCIA OPTICA - MO...   \n",
              "413265  41101014     RM - RESSONANCIA MAGNETICA - CRANIO (ENCEFALO)   \n",
              "\n",
              "                                     DS_CLASSE  \\\n",
              "0                          EM CENTRO CIRURGICO   \n",
              "2                                      VISITAS   \n",
              "3                                   BIOQUIMICA   \n",
              "4                ANTIEMETICOS E ANTINAUSEANTES   \n",
              "5                              ANTINEOPLASICOS   \n",
              "...                                        ...   \n",
              "413261                           PROCEDIMENTOS   \n",
              "413262                           PROCEDIMENTOS   \n",
              "413263                FORA DO CENTRO CIRURGICO   \n",
              "413264  TOMOGRAFIA COMPUTADORIZADA DIAGNOSTICA   \n",
              "413265       RESSONANCIA MAGNETICA DIAGNOSTICA   \n",
              "\n",
              "                                              DS_SUBGRUPO  \\\n",
              "0                                            TAXA DE SALA   \n",
              "2                                               CONSULTAS   \n",
              "3                                  MEDICINA LABORATORIAL    \n",
              "4       SISTEMA DIGESTIVO, METABOLISMO E NUTRICAO+SIST...   \n",
              "5                                 AGENTES ANTINEOPLASICOS   \n",
              "...                                                   ...   \n",
              "413261                                 EXAMES ESPECIFICOS   \n",
              "413262                            TESTES PARA DIAGNOSTICO   \n",
              "413263                                       TAXA DE SALA   \n",
              "413264                         TOMOGRAFIA COMPUTADORIZADA   \n",
              "413265                              RESSONANCIA MAGNETICA   \n",
              "\n",
              "                                   DS_GRUPO QT_SOLICITADA DS_STATUS_ITEM  \n",
              "0                                     TAXAS           1.0         Negado  \n",
              "2                            PROCED. GERAIS           1.0     Autorizado  \n",
              "3       PROCED. DIAGNOSTICOS E TERAPEUTICOS           1.0     Autorizado  \n",
              "4                                Brasindice           1.0     Autorizado  \n",
              "5                                Brasindice         880.0     Autorizado  \n",
              "...                                     ...           ...            ...  \n",
              "413261  PROCED. DIAGNOSTICOS E TERAPEUTICOS           2.0         Negado  \n",
              "413262  PROCED. DIAGNOSTICOS E TERAPEUTICOS           1.0     Autorizado  \n",
              "413263                                TAXAS           1.0     Autorizado  \n",
              "413264  PROCED. DIAGNOSTICOS E TERAPEUTICOS           2.0     Autorizado  \n",
              "413265  PROCED. DIAGNOSTICOS E TERAPEUTICOS           1.0     Autorizado  \n",
              "\n",
              "[381241 rows x 27 columns]"
            ],
            "text/html": [
              "<div>\n",
              "<style scoped>\n",
              "    .dataframe tbody tr th:only-of-type {\n",
              "        vertical-align: middle;\n",
              "    }\n",
              "\n",
              "    .dataframe tbody tr th {\n",
              "        vertical-align: top;\n",
              "    }\n",
              "\n",
              "    .dataframe thead th {\n",
              "        text-align: right;\n",
              "    }\n",
              "</style>\n",
              "<table border=\"1\" class=\"dataframe\">\n",
              "  <thead>\n",
              "    <tr style=\"text-align: right;\">\n",
              "      <th></th>\n",
              "      <th>NR_SEQ_REQUISICAO</th>\n",
              "      <th>NR_SEQ_ITEM</th>\n",
              "      <th>DT_REQUISICAO</th>\n",
              "      <th>DS_TIPO_GUIA</th>\n",
              "      <th>DT_NASCIMENTO</th>\n",
              "      <th>NR_PRODUTO</th>\n",
              "      <th>DS_TIPO_PREST_SOLICITANTE</th>\n",
              "      <th>DS_CBO</th>\n",
              "      <th>DS_INDICACAO_ACIDENTE</th>\n",
              "      <th>DS_TIPO_SAIDA</th>\n",
              "      <th>...</th>\n",
              "      <th>CD_CID</th>\n",
              "      <th>DS_INDICACAO_CLINICA</th>\n",
              "      <th>DS_TIPO_ITEM</th>\n",
              "      <th>CD_ITEM</th>\n",
              "      <th>DS_ITEM</th>\n",
              "      <th>DS_CLASSE</th>\n",
              "      <th>DS_SUBGRUPO</th>\n",
              "      <th>DS_GRUPO</th>\n",
              "      <th>QT_SOLICITADA</th>\n",
              "      <th>DS_STATUS_ITEM</th>\n",
              "    </tr>\n",
              "  </thead>\n",
              "  <tbody>\n",
              "    <tr>\n",
              "      <th>0</th>\n",
              "      <td>1560479</td>\n",
              "      <td>4348670</td>\n",
              "      <td>2459598</td>\n",
              "      <td>Guia de solicitac?o SP/SADT</td>\n",
              "      <td>2440511.0</td>\n",
              "      <td>1</td>\n",
              "      <td>HOSPITAL</td>\n",
              "      <td>Medico ortopedista e traumatologista</td>\n",
              "      <td>N?o acidente</td>\n",
              "      <td>NaN</td>\n",
              "      <td>...</td>\n",
              "      <td>NaN</td>\n",
              "      <td>NaN</td>\n",
              "      <td>Procedimentos</td>\n",
              "      <td>60023104</td>\n",
              "      <td>PORTE 1 (CIRURGIA PEQUENA)</td>\n",
              "      <td>EM CENTRO CIRURGICO</td>\n",
              "      <td>TAXA DE SALA</td>\n",
              "      <td>TAXAS</td>\n",
              "      <td>1.0</td>\n",
              "      <td>Negado</td>\n",
              "    </tr>\n",
              "    <tr>\n",
              "      <th>2</th>\n",
              "      <td>615210</td>\n",
              "      <td>1333736</td>\n",
              "      <td>2459091</td>\n",
              "      <td>Guia de solicitac?o internac?o</td>\n",
              "      <td>2443536.0</td>\n",
              "      <td>1</td>\n",
              "      <td>HOSPITAL</td>\n",
              "      <td>Medico clinico</td>\n",
              "      <td>N?o acidente</td>\n",
              "      <td>NaN</td>\n",
              "      <td>...</td>\n",
              "      <td>B342</td>\n",
              "      <td>Paciente positivo para COVID 19 ha 10 dias com...</td>\n",
              "      <td>Procedimentos</td>\n",
              "      <td>10102019</td>\n",
              "      <td>VISITA HOSPITALAR A PACIENTE INTERNADO</td>\n",
              "      <td>VISITAS</td>\n",
              "      <td>CONSULTAS</td>\n",
              "      <td>PROCED. GERAIS</td>\n",
              "      <td>1.0</td>\n",
              "      <td>Autorizado</td>\n",
              "    </tr>\n",
              "    <tr>\n",
              "      <th>3</th>\n",
              "      <td>1340515</td>\n",
              "      <td>3648137</td>\n",
              "      <td>2459482</td>\n",
              "      <td>Guia de solicitac?o SP/SADT</td>\n",
              "      <td>2429575.0</td>\n",
              "      <td>1</td>\n",
              "      <td>CLINICA</td>\n",
              "      <td>Medico cardiologista</td>\n",
              "      <td>N?o acidente</td>\n",
              "      <td>NaN</td>\n",
              "      <td>...</td>\n",
              "      <td>I10</td>\n",
              "      <td>NaN</td>\n",
              "      <td>Procedimentos</td>\n",
              "      <td>40302318</td>\n",
              "      <td>POTASSIO, DOSAGEM</td>\n",
              "      <td>BIOQUIMICA</td>\n",
              "      <td>MEDICINA LABORATORIAL</td>\n",
              "      <td>PROCED. DIAGNOSTICOS E TERAPEUTICOS</td>\n",
              "      <td>1.0</td>\n",
              "      <td>Autorizado</td>\n",
              "    </tr>\n",
              "    <tr>\n",
              "      <th>4</th>\n",
              "      <td>1135757</td>\n",
              "      <td>897098</td>\n",
              "      <td>2459375</td>\n",
              "      <td>Guia de solicitac?o SP/SADT</td>\n",
              "      <td>2439815.0</td>\n",
              "      <td>1</td>\n",
              "      <td>CLINICA</td>\n",
              "      <td>Medico ortopedista e traumatologista</td>\n",
              "      <td>N?o acidente</td>\n",
              "      <td>NaN</td>\n",
              "      <td>...</td>\n",
              "      <td>M16</td>\n",
              "      <td>DOR CRONICA NO QUADRIL E COLUNA LOMBAR</td>\n",
              "      <td>MAT/MED</td>\n",
              "      <td>37765</td>\n",
              "      <td>NAUSEDRON 2 MG/ML SOL INJ CX 50 AMP VD INC X 2...</td>\n",
              "      <td>ANTIEMETICOS E ANTINAUSEANTES</td>\n",
              "      <td>SISTEMA DIGESTIVO, METABOLISMO E NUTRICAO+SIST...</td>\n",
              "      <td>Brasindice</td>\n",
              "      <td>1.0</td>\n",
              "      <td>Autorizado</td>\n",
              "    </tr>\n",
              "    <tr>\n",
              "      <th>5</th>\n",
              "      <td>1351610</td>\n",
              "      <td>937069</td>\n",
              "      <td>2459487</td>\n",
              "      <td>Guia de solicitac?o SP/SADT</td>\n",
              "      <td>2441089.0</td>\n",
              "      <td>1</td>\n",
              "      <td>HOSPITAL</td>\n",
              "      <td>Medico clinico</td>\n",
              "      <td>N?o acidente</td>\n",
              "      <td>NaN</td>\n",
              "      <td>...</td>\n",
              "      <td>C50</td>\n",
              "      <td>C50</td>\n",
              "      <td>MAT/MED</td>\n",
              "      <td>73512</td>\n",
              "      <td>ZEDORA 440 MG PO LIOF SOL INJ IV CT FA VD TRAN...</td>\n",
              "      <td>ANTINEOPLASICOS</td>\n",
              "      <td>AGENTES ANTINEOPLASICOS</td>\n",
              "      <td>Brasindice</td>\n",
              "      <td>880.0</td>\n",
              "      <td>Autorizado</td>\n",
              "    </tr>\n",
              "    <tr>\n",
              "      <th>...</th>\n",
              "      <td>...</td>\n",
              "      <td>...</td>\n",
              "      <td>...</td>\n",
              "      <td>...</td>\n",
              "      <td>...</td>\n",
              "      <td>...</td>\n",
              "      <td>...</td>\n",
              "      <td>...</td>\n",
              "      <td>...</td>\n",
              "      <td>...</td>\n",
              "      <td>...</td>\n",
              "      <td>...</td>\n",
              "      <td>...</td>\n",
              "      <td>...</td>\n",
              "      <td>...</td>\n",
              "      <td>...</td>\n",
              "      <td>...</td>\n",
              "      <td>...</td>\n",
              "      <td>...</td>\n",
              "      <td>...</td>\n",
              "      <td>...</td>\n",
              "    </tr>\n",
              "    <tr>\n",
              "      <th>413261</th>\n",
              "      <td>921592</td>\n",
              "      <td>2265626</td>\n",
              "      <td>2459259</td>\n",
              "      <td>Guia de solicitac?o SP/SADT</td>\n",
              "      <td>2437804.0</td>\n",
              "      <td>1</td>\n",
              "      <td>MEDICO</td>\n",
              "      <td>Medico oftalmologista</td>\n",
              "      <td>N?o acidente</td>\n",
              "      <td>NaN</td>\n",
              "      <td>...</td>\n",
              "      <td>H40</td>\n",
              "      <td>h40 glaucoma</td>\n",
              "      <td>Procedimentos</td>\n",
              "      <td>41301250</td>\n",
              "      <td>MAPEAMENTO DE RETINA (OFTALMOSCOPIA INDIRETA) ...</td>\n",
              "      <td>PROCEDIMENTOS</td>\n",
              "      <td>EXAMES ESPECIFICOS</td>\n",
              "      <td>PROCED. DIAGNOSTICOS E TERAPEUTICOS</td>\n",
              "      <td>2.0</td>\n",
              "      <td>Negado</td>\n",
              "    </tr>\n",
              "    <tr>\n",
              "      <th>413262</th>\n",
              "      <td>608870</td>\n",
              "      <td>1313415</td>\n",
              "      <td>2459089</td>\n",
              "      <td>Guia de solicitac?o SP/SADT</td>\n",
              "      <td>2440041.0</td>\n",
              "      <td>1</td>\n",
              "      <td>CLINICA</td>\n",
              "      <td>Medico oftalmologista</td>\n",
              "      <td>N?o acidente</td>\n",
              "      <td>NaN</td>\n",
              "      <td>...</td>\n",
              "      <td>NaN</td>\n",
              "      <td>NaN</td>\n",
              "      <td>Procedimentos</td>\n",
              "      <td>41301439</td>\n",
              "      <td>FUNDOSCOPIA SOB MEDRIASES - BINOCULAR</td>\n",
              "      <td>PROCEDIMENTOS</td>\n",
              "      <td>TESTES PARA DIAGNOSTICO</td>\n",
              "      <td>PROCED. DIAGNOSTICOS E TERAPEUTICOS</td>\n",
              "      <td>1.0</td>\n",
              "      <td>Autorizado</td>\n",
              "    </tr>\n",
              "    <tr>\n",
              "      <th>413263</th>\n",
              "      <td>1489829</td>\n",
              "      <td>4129003</td>\n",
              "      <td>2459557</td>\n",
              "      <td>Guia de solicitac?o de prorrogac?o de internac?o</td>\n",
              "      <td>2438718.0</td>\n",
              "      <td>1</td>\n",
              "      <td>HOSPITAL</td>\n",
              "      <td>Medico cirurgi?o geral</td>\n",
              "      <td>N?o acidente</td>\n",
              "      <td>NaN</td>\n",
              "      <td>...</td>\n",
              "      <td>NaN</td>\n",
              "      <td>paciente com metastase de sarcona \\nData da en...</td>\n",
              "      <td>Procedimentos</td>\n",
              "      <td>60033711</td>\n",
              "      <td>TAXA DE OBSERVAC?O DE DE 6 A 12 HORAS</td>\n",
              "      <td>FORA DO CENTRO CIRURGICO</td>\n",
              "      <td>TAXA DE SALA</td>\n",
              "      <td>TAXAS</td>\n",
              "      <td>1.0</td>\n",
              "      <td>Autorizado</td>\n",
              "    </tr>\n",
              "    <tr>\n",
              "      <th>413264</th>\n",
              "      <td>690055</td>\n",
              "      <td>1570248</td>\n",
              "      <td>2459136</td>\n",
              "      <td>Guia de solicitac?o SP/SADT</td>\n",
              "      <td>2440704.0</td>\n",
              "      <td>1</td>\n",
              "      <td>CLINICA</td>\n",
              "      <td>Medico clinico</td>\n",
              "      <td>N?o acidente</td>\n",
              "      <td>NaN</td>\n",
              "      <td>...</td>\n",
              "      <td>H40</td>\n",
              "      <td>GLAUCOMA</td>\n",
              "      <td>Procedimentos</td>\n",
              "      <td>41501144</td>\n",
              "      <td>PCT-COMP - TOMOGRAFIA DE COERENCIA OPTICA - MO...</td>\n",
              "      <td>TOMOGRAFIA COMPUTADORIZADA DIAGNOSTICA</td>\n",
              "      <td>TOMOGRAFIA COMPUTADORIZADA</td>\n",
              "      <td>PROCED. DIAGNOSTICOS E TERAPEUTICOS</td>\n",
              "      <td>2.0</td>\n",
              "      <td>Autorizado</td>\n",
              "    </tr>\n",
              "    <tr>\n",
              "      <th>413265</th>\n",
              "      <td>1131307</td>\n",
              "      <td>2942784</td>\n",
              "      <td>2459374</td>\n",
              "      <td>Guia de solicitac?o SP/SADT</td>\n",
              "      <td>2441921.0</td>\n",
              "      <td>1</td>\n",
              "      <td>CLINICA DE IMAGEM</td>\n",
              "      <td>Medico clinico</td>\n",
              "      <td>N?o acidente</td>\n",
              "      <td>NaN</td>\n",
              "      <td>...</td>\n",
              "      <td>NaN</td>\n",
              "      <td>PACIENTE FEMININA 47 ANOS COM HISTORIA DE CEFA...</td>\n",
              "      <td>Procedimentos</td>\n",
              "      <td>41101014</td>\n",
              "      <td>RM - RESSONANCIA MAGNETICA - CRANIO (ENCEFALO)</td>\n",
              "      <td>RESSONANCIA MAGNETICA DIAGNOSTICA</td>\n",
              "      <td>RESSONANCIA MAGNETICA</td>\n",
              "      <td>PROCED. DIAGNOSTICOS E TERAPEUTICOS</td>\n",
              "      <td>1.0</td>\n",
              "      <td>Autorizado</td>\n",
              "    </tr>\n",
              "  </tbody>\n",
              "</table>\n",
              "<p>381241 rows × 27 columns</p>\n",
              "</div>"
            ]
          },
          "metadata": {},
          "execution_count": 24
        }
      ],
      "source": [
        "## verificando os não nulos\n",
        "df[df.DS_INDICACAO_ACIDENTE.notnull()]"
      ]
    },
    {
      "cell_type": "code",
      "execution_count": 25,
      "metadata": {
        "pycharm": {
          "name": "#%%\n"
        },
        "colab": {
          "base_uri": "https://localhost:8080/"
        },
        "id": "YkI7ma7Z2aBw",
        "outputId": "0e264b94-daad-46b4-f3e4-2d08260055ac"
      },
      "outputs": [
        {
          "output_type": "execute_result",
          "data": {
            "text/plain": [
              "count           381241\n",
              "unique               4\n",
              "top       N?o acidente\n",
              "freq            319728\n",
              "Name: DS_INDICACAO_ACIDENTE, dtype: object"
            ]
          },
          "metadata": {},
          "execution_count": 25
        }
      ],
      "source": [
        "## Entendendo a moda e sua frequência.\n",
        "df.DS_INDICACAO_ACIDENTE.describe()"
      ]
    },
    {
      "cell_type": "code",
      "execution_count": 26,
      "metadata": {
        "pycharm": {
          "name": "#%%\n"
        },
        "colab": {
          "base_uri": "https://localhost:8080/"
        },
        "id": "UJy0KJVL2aBx",
        "outputId": "37f40805-2659-459b-d2c0-2a2039ae899a"
      },
      "outputs": [
        {
          "output_type": "execute_result",
          "data": {
            "text/plain": [
              "N?o acidente    319728\n",
              "Outros           60579\n",
              "Trabalho           745\n",
              "Transito           189\n",
              "Name: DS_INDICACAO_ACIDENTE, dtype: int64"
            ]
          },
          "metadata": {},
          "execution_count": 26
        }
      ],
      "source": [
        "df.DS_INDICACAO_ACIDENTE.value_counts()"
      ]
    },
    {
      "cell_type": "code",
      "execution_count": 27,
      "metadata": {
        "pycharm": {
          "name": "#%%\n"
        },
        "colab": {
          "base_uri": "https://localhost:8080/"
        },
        "id": "rAHkH_H22aBx",
        "outputId": "6d2ff3f8-bc51-4273-9edb-b8280a7c708a"
      },
      "outputs": [
        {
          "output_type": "execute_result",
          "data": {
            "text/plain": [
              "32015"
            ]
          },
          "metadata": {},
          "execution_count": 27
        }
      ],
      "source": [
        "## quantos nulos temos mesmo?\n",
        "df.DS_INDICACAO_ACIDENTE.isna().sum()"
      ]
    },
    {
      "cell_type": "markdown",
      "metadata": {
        "id": "NlBLkerm2aBx"
      },
      "source": [
        "> Como são poucos exemplos nulos e como a classe mais frequente domina as outras classes possíveis com uma grande diferença, creio que subsituir os nulos pelo valor mais frequente é o ideal."
      ]
    },
    {
      "cell_type": "code",
      "execution_count": 28,
      "metadata": {
        "pycharm": {
          "name": "#%%\n"
        },
        "id": "av_vOLu82aBy"
      },
      "outputs": [],
      "source": [
        "df.DS_INDICACAO_ACIDENTE.fillna(\"N?o acidente\", inplace=True)"
      ]
    },
    {
      "cell_type": "code",
      "execution_count": 29,
      "metadata": {
        "pycharm": {
          "name": "#%%\n"
        },
        "colab": {
          "base_uri": "https://localhost:8080/"
        },
        "id": "83oddGga2aBy",
        "outputId": "ce25323b-064a-4283-af0d-12fa3cccaa5a"
      },
      "outputs": [
        {
          "output_type": "execute_result",
          "data": {
            "text/plain": [
              "NR_SEQ_REQUISICAO                 0\n",
              "NR_SEQ_ITEM                       0\n",
              "DT_REQUISICAO                     0\n",
              "DS_TIPO_GUIA                      0\n",
              "DT_NASCIMENTO                     0\n",
              "NR_PRODUTO                        0\n",
              "DS_TIPO_PREST_SOLICITANTE         0\n",
              "DS_CBO                            0\n",
              "DS_INDICACAO_ACIDENTE             0\n",
              "DS_TIPO_SAIDA                413256\n",
              "DS_TIPO_INTERNACAO           291216\n",
              "DS_REGIME_INTERNACAO         291216\n",
              "DS_CARATER_ATENDIMENTO            0\n",
              "DS_TIPO_ACOMODACAO           291297\n",
              "QT_DIA_SOLICITADO            292410\n",
              "CD_GUIA_REFERENCIA           342733\n",
              "DS_TIPO_ATENDIMENTO          121337\n",
              "CD_CID                       235287\n",
              "DS_INDICACAO_CLINICA          87534\n",
              "DS_TIPO_ITEM                      0\n",
              "CD_ITEM                           0\n",
              "DS_ITEM                           0\n",
              "DS_CLASSE                         0\n",
              "DS_SUBGRUPO                       0\n",
              "DS_GRUPO                          0\n",
              "QT_SOLICITADA                     0\n",
              "DS_STATUS_ITEM                    0\n",
              "dtype: int64"
            ]
          },
          "metadata": {},
          "execution_count": 29
        }
      ],
      "source": [
        "df.isna().sum()"
      ]
    },
    {
      "cell_type": "markdown",
      "metadata": {
        "id": "3tCr27sA2aBy"
      },
      "source": [
        "#### DS_TIPO_SAIDA"
      ]
    },
    {
      "cell_type": "code",
      "execution_count": 30,
      "metadata": {
        "pycharm": {
          "name": "#%%\n"
        },
        "colab": {
          "base_uri": "https://localhost:8080/",
          "height": 0
        },
        "id": "DEyQqD_i2aBy",
        "outputId": "11c997af-43f2-4539-c46d-02e5929c225d"
      },
      "outputs": [
        {
          "output_type": "execute_result",
          "data": {
            "text/plain": [
              "Empty DataFrame\n",
              "Columns: [NR_SEQ_REQUISICAO, NR_SEQ_ITEM, DT_REQUISICAO, DS_TIPO_GUIA, DT_NASCIMENTO, NR_PRODUTO, DS_TIPO_PREST_SOLICITANTE, DS_CBO, DS_INDICACAO_ACIDENTE, DS_TIPO_SAIDA, DS_TIPO_INTERNACAO, DS_REGIME_INTERNACAO, DS_CARATER_ATENDIMENTO, DS_TIPO_ACOMODACAO, QT_DIA_SOLICITADO, CD_GUIA_REFERENCIA, DS_TIPO_ATENDIMENTO, CD_CID, DS_INDICACAO_CLINICA, DS_TIPO_ITEM, CD_ITEM, DS_ITEM, DS_CLASSE, DS_SUBGRUPO, DS_GRUPO, QT_SOLICITADA, DS_STATUS_ITEM]\n",
              "Index: []\n",
              "\n",
              "[0 rows x 27 columns]"
            ],
            "text/html": [
              "<div>\n",
              "<style scoped>\n",
              "    .dataframe tbody tr th:only-of-type {\n",
              "        vertical-align: middle;\n",
              "    }\n",
              "\n",
              "    .dataframe tbody tr th {\n",
              "        vertical-align: top;\n",
              "    }\n",
              "\n",
              "    .dataframe thead th {\n",
              "        text-align: right;\n",
              "    }\n",
              "</style>\n",
              "<table border=\"1\" class=\"dataframe\">\n",
              "  <thead>\n",
              "    <tr style=\"text-align: right;\">\n",
              "      <th></th>\n",
              "      <th>NR_SEQ_REQUISICAO</th>\n",
              "      <th>NR_SEQ_ITEM</th>\n",
              "      <th>DT_REQUISICAO</th>\n",
              "      <th>DS_TIPO_GUIA</th>\n",
              "      <th>DT_NASCIMENTO</th>\n",
              "      <th>NR_PRODUTO</th>\n",
              "      <th>DS_TIPO_PREST_SOLICITANTE</th>\n",
              "      <th>DS_CBO</th>\n",
              "      <th>DS_INDICACAO_ACIDENTE</th>\n",
              "      <th>DS_TIPO_SAIDA</th>\n",
              "      <th>...</th>\n",
              "      <th>CD_CID</th>\n",
              "      <th>DS_INDICACAO_CLINICA</th>\n",
              "      <th>DS_TIPO_ITEM</th>\n",
              "      <th>CD_ITEM</th>\n",
              "      <th>DS_ITEM</th>\n",
              "      <th>DS_CLASSE</th>\n",
              "      <th>DS_SUBGRUPO</th>\n",
              "      <th>DS_GRUPO</th>\n",
              "      <th>QT_SOLICITADA</th>\n",
              "      <th>DS_STATUS_ITEM</th>\n",
              "    </tr>\n",
              "  </thead>\n",
              "  <tbody>\n",
              "  </tbody>\n",
              "</table>\n",
              "<p>0 rows × 27 columns</p>\n",
              "</div>"
            ]
          },
          "metadata": {},
          "execution_count": 30
        }
      ],
      "source": [
        "df[df.DS_TIPO_SAIDA.notnull()]"
      ]
    },
    {
      "cell_type": "code",
      "execution_count": 31,
      "metadata": {
        "pycharm": {
          "name": "#%%\n"
        },
        "colab": {
          "base_uri": "https://localhost:8080/"
        },
        "id": "LDy_RvBL2aBy",
        "outputId": "8bad9bcb-2135-44ae-d810-9df25eb9c2dd"
      },
      "outputs": [
        {
          "output_type": "execute_result",
          "data": {
            "text/plain": [
              "(413256, 413256)"
            ]
          },
          "metadata": {},
          "execution_count": 31
        }
      ],
      "source": [
        "df.DS_TIPO_SAIDA.isna().sum(), df.shape[0]"
      ]
    },
    {
      "cell_type": "markdown",
      "metadata": {
        "id": "j8fAx-c72aBz"
      },
      "source": [
        "> Todos os valores da coluna são nulos, podemos dropar, tranquilamente."
      ]
    },
    {
      "cell_type": "code",
      "execution_count": 32,
      "metadata": {
        "pycharm": {
          "name": "#%%\n"
        },
        "id": "a-C6DJt62aBz"
      },
      "outputs": [],
      "source": [
        "df.drop(columns=[\"DS_TIPO_SAIDA\"], inplace=True)"
      ]
    },
    {
      "cell_type": "code",
      "execution_count": 33,
      "metadata": {
        "pycharm": {
          "name": "#%%\n"
        },
        "colab": {
          "base_uri": "https://localhost:8080/"
        },
        "id": "s9lfzKXL2aBz",
        "outputId": "b0be7608-352d-4c50-a44f-1a488f51763d"
      },
      "outputs": [
        {
          "output_type": "execute_result",
          "data": {
            "text/plain": [
              "NR_SEQ_REQUISICAO                 0\n",
              "NR_SEQ_ITEM                       0\n",
              "DT_REQUISICAO                     0\n",
              "DS_TIPO_GUIA                      0\n",
              "DT_NASCIMENTO                     0\n",
              "NR_PRODUTO                        0\n",
              "DS_TIPO_PREST_SOLICITANTE         0\n",
              "DS_CBO                            0\n",
              "DS_INDICACAO_ACIDENTE             0\n",
              "DS_TIPO_INTERNACAO           291216\n",
              "DS_REGIME_INTERNACAO         291216\n",
              "DS_CARATER_ATENDIMENTO            0\n",
              "DS_TIPO_ACOMODACAO           291297\n",
              "QT_DIA_SOLICITADO            292410\n",
              "CD_GUIA_REFERENCIA           342733\n",
              "DS_TIPO_ATENDIMENTO          121337\n",
              "CD_CID                       235287\n",
              "DS_INDICACAO_CLINICA          87534\n",
              "DS_TIPO_ITEM                      0\n",
              "CD_ITEM                           0\n",
              "DS_ITEM                           0\n",
              "DS_CLASSE                         0\n",
              "DS_SUBGRUPO                       0\n",
              "DS_GRUPO                          0\n",
              "QT_SOLICITADA                     0\n",
              "DS_STATUS_ITEM                    0\n",
              "dtype: int64"
            ]
          },
          "metadata": {},
          "execution_count": 33
        }
      ],
      "source": [
        "df.isna().sum()"
      ]
    },
    {
      "cell_type": "markdown",
      "metadata": {
        "id": "2m5FwskI2aBz"
      },
      "source": [
        "#### DS_TIPO_INTERNACAO"
      ]
    },
    {
      "cell_type": "code",
      "execution_count": 34,
      "metadata": {
        "pycharm": {
          "name": "#%%\n"
        },
        "colab": {
          "base_uri": "https://localhost:8080/"
        },
        "id": "ox0NUfSW2aBz",
        "outputId": "b88a2c4a-1c19-4212-ce5a-ea3a0db8ce22"
      },
      "outputs": [
        {
          "output_type": "stream",
          "name": "stdout",
          "text": [
            "Porcentagem de nulos em TIPO_INTERNACAO: 0.7046866833149428\n"
          ]
        }
      ],
      "source": [
        "print(\"Porcentagem de nulos em TIPO_INTERNACAO:\", df.DS_TIPO_INTERNACAO.isna().sum() / df.shape[0])"
      ]
    },
    {
      "cell_type": "code",
      "execution_count": 35,
      "metadata": {
        "pycharm": {
          "name": "#%%\n"
        },
        "colab": {
          "base_uri": "https://localhost:8080/"
        },
        "id": "AEB_77Qk2aBz",
        "outputId": "0bf247a6-220b-49c9-b53e-c08f391437c9"
      },
      "outputs": [
        {
          "output_type": "execute_result",
          "data": {
            "text/plain": [
              "Clinica         58232\n",
              "Cirurgica       58066\n",
              "Pediatrica       2579\n",
              "Obstetrica       1736\n",
              "Hemodinamica     1378\n",
              "Psiquiatrica       49\n",
              "Name: DS_TIPO_INTERNACAO, dtype: int64"
            ]
          },
          "metadata": {},
          "execution_count": 35
        }
      ],
      "source": [
        "df.DS_TIPO_INTERNACAO.value_counts()"
      ]
    },
    {
      "cell_type": "markdown",
      "metadata": {
        "id": "OU77g67o2aB0"
      },
      "source": [
        "> Será que alguma feature indica se a requisição foi internação ou não? Se não houver, podemos criar uma classe aqui que diga que os nulos não foram internação. É uma hipótese, vou verificar as outras features para ver se não há contradições."
      ]
    },
    {
      "cell_type": "code",
      "execution_count": 36,
      "metadata": {
        "pycharm": {
          "name": "#%%\n"
        },
        "colab": {
          "base_uri": "https://localhost:8080/"
        },
        "id": "D384erGR2aB0",
        "outputId": "05ad6a2d-4550-49de-b5f2-00da8d296fc8"
      },
      "outputs": [
        {
          "output_type": "execute_result",
          "data": {
            "text/plain": [
              "Hospitalar      115509\n",
              "Hospital-dia      5932\n",
              "Domiciliar         599\n",
              "Name: DS_REGIME_INTERNACAO, dtype: int64"
            ]
          },
          "metadata": {},
          "execution_count": 36
        }
      ],
      "source": [
        "## verificando se a feature regime_internacao nos dá alguma dica sobre a internação ou não.\n",
        "df.DS_REGIME_INTERNACAO.value_counts()"
      ]
    },
    {
      "cell_type": "code",
      "execution_count": 37,
      "metadata": {
        "pycharm": {
          "name": "#%%\n"
        },
        "colab": {
          "base_uri": "https://localhost:8080/"
        },
        "id": "JsXgJOm42aB0",
        "outputId": "6cdc1554-9618-4bf0-ae4e-f49c0a918365"
      },
      "outputs": [
        {
          "output_type": "execute_result",
          "data": {
            "text/plain": [
              "Eletiva                287442\n",
              "Urgencia/Emergencia    125814\n",
              "Name: DS_CARATER_ATENDIMENTO, dtype: int64"
            ]
          },
          "metadata": {},
          "execution_count": 37
        }
      ],
      "source": [
        "## será que o carater de atendimento nos revela algo?\n",
        "df.DS_CARATER_ATENDIMENTO.value_counts()"
      ]
    },
    {
      "cell_type": "markdown",
      "metadata": {
        "id": "WTaruSp_2aB0"
      },
      "source": [
        "> Opa, será que a maioria das urgencia/emergencia são internações?"
      ]
    },
    {
      "cell_type": "code",
      "execution_count": 38,
      "metadata": {
        "pycharm": {
          "name": "#%%\n"
        },
        "colab": {
          "base_uri": "https://localhost:8080/"
        },
        "id": "o7gFnIib2aB0",
        "outputId": "9abb6079-b302-4e00-caa9-eeda9de758dd"
      },
      "outputs": [
        {
          "output_type": "execute_result",
          "data": {
            "text/plain": [
              "34718"
            ]
          },
          "metadata": {},
          "execution_count": 38
        }
      ],
      "source": [
        "## vamos averiguar, para todos os casos de emergencia, se o tipo de internação está presente na maioria dos casos:\n",
        "df[df.DS_CARATER_ATENDIMENTO == \"Urgencia/Emergencia\"].DS_TIPO_INTERNACAO.isna().sum()"
      ]
    },
    {
      "cell_type": "code",
      "execution_count": 39,
      "metadata": {
        "pycharm": {
          "name": "#%%\n"
        },
        "colab": {
          "base_uri": "https://localhost:8080/"
        },
        "id": "loNoTMS-2aB1",
        "outputId": "5f4a9e7d-48f8-4466-d4c9-d1b879e5f016"
      },
      "outputs": [
        {
          "output_type": "execute_result",
          "data": {
            "text/plain": [
              "27.594703292161444"
            ]
          },
          "metadata": {},
          "execution_count": 39
        }
      ],
      "source": [
        "df[df.DS_CARATER_ATENDIMENTO == \"Urgencia/Emergencia\"].DS_TIPO_INTERNACAO.isna().sum() * 100/ df[df.DS_CARATER_ATENDIMENTO == \"Urgencia/Emergencia\"].shape[0]"
      ]
    },
    {
      "cell_type": "markdown",
      "metadata": {
        "id": "AaGBP51r2aB1"
      },
      "source": [
        "> Cerca de 27.6% das emergências não possuem o tipo de internação."
      ]
    },
    {
      "cell_type": "markdown",
      "metadata": {
        "id": "3qi7xbwg2aB1"
      },
      "source": [
        "E para os casos eletivos? Será que há internações?"
      ]
    },
    {
      "cell_type": "code",
      "execution_count": 40,
      "metadata": {
        "pycharm": {
          "name": "#%%\n"
        },
        "colab": {
          "base_uri": "https://localhost:8080/"
        },
        "id": "gVy8H1k72aB1",
        "outputId": "9e818427-4dad-4a3f-ae70-b6fef5219415"
      },
      "outputs": [
        {
          "output_type": "execute_result",
          "data": {
            "text/plain": [
              "89.23469778250917"
            ]
          },
          "metadata": {},
          "execution_count": 40
        }
      ],
      "source": [
        "df[df.DS_CARATER_ATENDIMENTO == \"Eletiva\"].DS_TIPO_INTERNACAO.isna().sum() * 100 /df[df.DS_CARATER_ATENDIMENTO == \"Eletiva\"].shape[0]"
      ]
    },
    {
      "cell_type": "markdown",
      "metadata": {
        "id": "a_GO_VcJ2aB1"
      },
      "source": [
        "> Vish, 89% dos casos eletivos não possuem o tipo de internação. Vamos explorar os casos que possuem o tipo discriminado."
      ]
    },
    {
      "cell_type": "code",
      "execution_count": 41,
      "metadata": {
        "pycharm": {
          "name": "#%%\n"
        },
        "colab": {
          "base_uri": "https://localhost:8080/",
          "height": 0
        },
        "id": "ah7mZFc72aB1",
        "outputId": "efa60698-2845-450c-e920-f70934865c64"
      },
      "outputs": [
        {
          "output_type": "execute_result",
          "data": {
            "text/plain": [
              "        NR_SEQ_REQUISICAO  NR_SEQ_ITEM  DT_REQUISICAO  \\\n",
              "363358             990008       880315        2459297   \n",
              "29401             1299240       926945        2459460   \n",
              "47674              716378      1654817        2459150   \n",
              "40759             1344167      3659965        2459485   \n",
              "248262             912377       869799        2459255   \n",
              "40654             1493908      4141055        2459558   \n",
              "103043             742096       846499        2459164   \n",
              "340333             926733      2281634        2459263   \n",
              "410921            1369171      3741757        2459496   \n",
              "404333            1278810       923253        2459450   \n",
              "\n",
              "                                            DS_TIPO_GUIA  DT_NASCIMENTO  \\\n",
              "363358  Guia de solicitac?o de prorrogac?o de internac?o      2449543.0   \n",
              "29401                     Guia de solicitac?o internac?o      2438591.0   \n",
              "47674                     Guia de solicitac?o internac?o      2438299.0   \n",
              "40759   Guia de solicitac?o de prorrogac?o de internac?o      2441915.0   \n",
              "248262                    Guia de solicitac?o internac?o      2452616.0   \n",
              "40654   Guia de solicitac?o de prorrogac?o de internac?o      2440121.0   \n",
              "103043                    Guia de solicitac?o internac?o      2434468.0   \n",
              "340333  Guia de solicitac?o de prorrogac?o de internac?o      2452367.0   \n",
              "410921                    Guia de solicitac?o internac?o      2446692.0   \n",
              "404333                    Guia de solicitac?o internac?o      2435995.0   \n",
              "\n",
              "        NR_PRODUTO DS_TIPO_PREST_SOLICITANTE  \\\n",
              "363358           1                  HOSPITAL   \n",
              "29401            1                  HOSPITAL   \n",
              "47674            1                  HOSPITAL   \n",
              "40759            1                  HOSPITAL   \n",
              "248262           1                  HOSPITAL   \n",
              "40654            1                  HOSPITAL   \n",
              "103043           1                  HOSPITAL   \n",
              "340333           1                  HOSPITAL   \n",
              "410921           1                  HOSPITAL   \n",
              "404333           1                  HOSPITAL   \n",
              "\n",
              "                                                  DS_CBO  \\\n",
              "363358             Medico ortopedista e traumatologista    \n",
              "29401                            Medico cirurgi?o geral    \n",
              "47674                             Medico  neurocirurgi?o   \n",
              "40759              Medico ortopedista e traumatologista    \n",
              "248262  Cirurgi?o dentista - ortopedista e ortodontista    \n",
              "40654                    Medico cancerologista cirurgico   \n",
              "103043                  Medico cirurgi?o cardiovascular    \n",
              "340333                    Medico otorrinolaringologista    \n",
              "410921             Medico ortopedista e traumatologista    \n",
              "404333             Medico ortopedista e traumatologista    \n",
              "\n",
              "       DS_INDICACAO_ACIDENTE DS_TIPO_INTERNACAO  ... CD_CID  \\\n",
              "363358          N?o acidente          Cirurgica  ...    S83   \n",
              "29401           N?o acidente          Cirurgica  ...    NaN   \n",
              "47674           N?o acidente          Cirurgica  ...    I67   \n",
              "40759           N?o acidente          Cirurgica  ...    NaN   \n",
              "248262          N?o acidente          Cirurgica  ...    NaN   \n",
              "40654           N?o acidente          Cirurgica  ...    NaN   \n",
              "103043                Outros          Cirurgica  ...    I82   \n",
              "340333          N?o acidente          Cirurgica  ...    J34   \n",
              "410921          N?o acidente          Cirurgica  ...    NaN   \n",
              "404333          N?o acidente          Cirurgica  ...    NaN   \n",
              "\n",
              "                                     DS_INDICACAO_CLINICA   DS_TIPO_ITEM  \\\n",
              "363358  les?o esteriocondral ou 4cm,les?o do ligamento...        MAT/MED   \n",
              "29401                                      segue em anexo        MAT/MED   \n",
              "47674   Paciente apresentou cefaleia em sentinela , re...  Procedimentos   \n",
              "40759   Solicito autorizac?o dos itens faltantes\\n*por...  Procedimentos   \n",
              "248262  Paciente com queixas para falar se alimentar c...        MAT/MED   \n",
              "40654   Solicitac?o de prorrogac?o de 2 diarias, refer...  Procedimentos   \n",
              "103043  Paciente com sindrome de may-thurner , varizes...        MAT/MED   \n",
              "340333  Indicac?o clinica: REALIZADO PROCEDIMENTO CIRU...  Procedimentos   \n",
              "410921  Paciente com dor e impotencia funcional do joe...  Procedimentos   \n",
              "404333                                       segue anexo         MAT/MED   \n",
              "\n",
              "         CD_ITEM                                            DS_ITEM  \\\n",
              "363358  74018027            TUSS - FIO OSSEO METALICO - COM 4 FUROS   \n",
              "29401     305256      PONTEIRA ABLACAO TP.CAVADO 90? 2,5X200MM - UN   \n",
              "47674   51112127                  PCT-HM - EMBOLIZAC?O DE ANEURISMA   \n",
              "40759   60023155                          PORTE 6 (CIRURGIA GRANDE)   \n",
              "248262    272347  MEMBRANA COLAGENO BOVINA REABSORVIVEL LUMINA C...   \n",
              "40654   20103344                                          MIOPATIAS   \n",
              "103043    275594  BAINHA INTRODUTORA P/CATETER MEDIKIT 5FRX11CM ...   \n",
              "340333  60023120                           PORTE 3 (CIRURGIA MEDIA)   \n",
              "410921  60023155                          PORTE 6 (CIRURGIA GRANDE)   \n",
              "404333  75309386  TUSS - ANCORA PLDL SINFIX - ANCORA PLDL 5,5 SI...   \n",
              "\n",
              "                                                DS_CLASSE  \\\n",
              "363358                                          IMPLANTE    \n",
              "29401                                             Protese   \n",
              "47674   METODOS INTERVENCIONISTAS / TERAPEUTICOS POR I...   \n",
              "40759                                 EM CENTRO CIRURGICO   \n",
              "248262                                             Ortese   \n",
              "40654                             REABILITAC?ES - SESS?ES   \n",
              "103043                                  Material especial   \n",
              "340333                                EM CENTRO CIRURGICO   \n",
              "410921                                EM CENTRO CIRURGICO   \n",
              "404333   ANCORA E SUTURA MONTADAS EM DISPOSITIVO INSERSOR   \n",
              "\n",
              "                                 DS_SUBGRUPO  \\\n",
              "363358               TUSS - Materiais e OPME   \n",
              "29401                    Material Hospitalar   \n",
              "47674        METODOS DIAGNOSTICOS POR IMAGEM   \n",
              "40759                           TAXA DE SALA   \n",
              "248262                   Material Hospitalar   \n",
              "40654   PROCEDIMENTOS CLINICOS AMBULATORIAIS   \n",
              "103043                   Material Hospitalar   \n",
              "340333                          TAXA DE SALA   \n",
              "410921                          TAXA DE SALA   \n",
              "404333               TUSS - Materiais e OPME   \n",
              "\n",
              "                                   DS_GRUPO QT_SOLICITADA  DS_STATUS_ITEM  \n",
              "363358                                 TUSS           1.0      Autorizado  \n",
              "29401                                Simpro           1.0          Negado  \n",
              "47674   PROCED. DIAGNOSTICOS E TERAPEUTICOS           3.0      Autorizado  \n",
              "40759                                 TAXAS           1.0      Autorizado  \n",
              "248262                               Simpro           2.0          Negado  \n",
              "40654                      PROCED. CLINICOS           6.0      Autorizado  \n",
              "103043                               Simpro           1.0      Autorizado  \n",
              "340333                                TAXAS           1.0      Autorizado  \n",
              "410921                                TAXAS           1.0          Negado  \n",
              "404333                                 TUSS           3.0          Negado  \n",
              "\n",
              "[10 rows x 26 columns]"
            ],
            "text/html": [
              "<div>\n",
              "<style scoped>\n",
              "    .dataframe tbody tr th:only-of-type {\n",
              "        vertical-align: middle;\n",
              "    }\n",
              "\n",
              "    .dataframe tbody tr th {\n",
              "        vertical-align: top;\n",
              "    }\n",
              "\n",
              "    .dataframe thead th {\n",
              "        text-align: right;\n",
              "    }\n",
              "</style>\n",
              "<table border=\"1\" class=\"dataframe\">\n",
              "  <thead>\n",
              "    <tr style=\"text-align: right;\">\n",
              "      <th></th>\n",
              "      <th>NR_SEQ_REQUISICAO</th>\n",
              "      <th>NR_SEQ_ITEM</th>\n",
              "      <th>DT_REQUISICAO</th>\n",
              "      <th>DS_TIPO_GUIA</th>\n",
              "      <th>DT_NASCIMENTO</th>\n",
              "      <th>NR_PRODUTO</th>\n",
              "      <th>DS_TIPO_PREST_SOLICITANTE</th>\n",
              "      <th>DS_CBO</th>\n",
              "      <th>DS_INDICACAO_ACIDENTE</th>\n",
              "      <th>DS_TIPO_INTERNACAO</th>\n",
              "      <th>...</th>\n",
              "      <th>CD_CID</th>\n",
              "      <th>DS_INDICACAO_CLINICA</th>\n",
              "      <th>DS_TIPO_ITEM</th>\n",
              "      <th>CD_ITEM</th>\n",
              "      <th>DS_ITEM</th>\n",
              "      <th>DS_CLASSE</th>\n",
              "      <th>DS_SUBGRUPO</th>\n",
              "      <th>DS_GRUPO</th>\n",
              "      <th>QT_SOLICITADA</th>\n",
              "      <th>DS_STATUS_ITEM</th>\n",
              "    </tr>\n",
              "  </thead>\n",
              "  <tbody>\n",
              "    <tr>\n",
              "      <th>363358</th>\n",
              "      <td>990008</td>\n",
              "      <td>880315</td>\n",
              "      <td>2459297</td>\n",
              "      <td>Guia de solicitac?o de prorrogac?o de internac?o</td>\n",
              "      <td>2449543.0</td>\n",
              "      <td>1</td>\n",
              "      <td>HOSPITAL</td>\n",
              "      <td>Medico ortopedista e traumatologista</td>\n",
              "      <td>N?o acidente</td>\n",
              "      <td>Cirurgica</td>\n",
              "      <td>...</td>\n",
              "      <td>S83</td>\n",
              "      <td>les?o esteriocondral ou 4cm,les?o do ligamento...</td>\n",
              "      <td>MAT/MED</td>\n",
              "      <td>74018027</td>\n",
              "      <td>TUSS - FIO OSSEO METALICO - COM 4 FUROS</td>\n",
              "      <td>IMPLANTE</td>\n",
              "      <td>TUSS - Materiais e OPME</td>\n",
              "      <td>TUSS</td>\n",
              "      <td>1.0</td>\n",
              "      <td>Autorizado</td>\n",
              "    </tr>\n",
              "    <tr>\n",
              "      <th>29401</th>\n",
              "      <td>1299240</td>\n",
              "      <td>926945</td>\n",
              "      <td>2459460</td>\n",
              "      <td>Guia de solicitac?o internac?o</td>\n",
              "      <td>2438591.0</td>\n",
              "      <td>1</td>\n",
              "      <td>HOSPITAL</td>\n",
              "      <td>Medico cirurgi?o geral</td>\n",
              "      <td>N?o acidente</td>\n",
              "      <td>Cirurgica</td>\n",
              "      <td>...</td>\n",
              "      <td>NaN</td>\n",
              "      <td>segue em anexo</td>\n",
              "      <td>MAT/MED</td>\n",
              "      <td>305256</td>\n",
              "      <td>PONTEIRA ABLACAO TP.CAVADO 90? 2,5X200MM - UN</td>\n",
              "      <td>Protese</td>\n",
              "      <td>Material Hospitalar</td>\n",
              "      <td>Simpro</td>\n",
              "      <td>1.0</td>\n",
              "      <td>Negado</td>\n",
              "    </tr>\n",
              "    <tr>\n",
              "      <th>47674</th>\n",
              "      <td>716378</td>\n",
              "      <td>1654817</td>\n",
              "      <td>2459150</td>\n",
              "      <td>Guia de solicitac?o internac?o</td>\n",
              "      <td>2438299.0</td>\n",
              "      <td>1</td>\n",
              "      <td>HOSPITAL</td>\n",
              "      <td>Medico  neurocirurgi?o</td>\n",
              "      <td>N?o acidente</td>\n",
              "      <td>Cirurgica</td>\n",
              "      <td>...</td>\n",
              "      <td>I67</td>\n",
              "      <td>Paciente apresentou cefaleia em sentinela , re...</td>\n",
              "      <td>Procedimentos</td>\n",
              "      <td>51112127</td>\n",
              "      <td>PCT-HM - EMBOLIZAC?O DE ANEURISMA</td>\n",
              "      <td>METODOS INTERVENCIONISTAS / TERAPEUTICOS POR I...</td>\n",
              "      <td>METODOS DIAGNOSTICOS POR IMAGEM</td>\n",
              "      <td>PROCED. DIAGNOSTICOS E TERAPEUTICOS</td>\n",
              "      <td>3.0</td>\n",
              "      <td>Autorizado</td>\n",
              "    </tr>\n",
              "    <tr>\n",
              "      <th>40759</th>\n",
              "      <td>1344167</td>\n",
              "      <td>3659965</td>\n",
              "      <td>2459485</td>\n",
              "      <td>Guia de solicitac?o de prorrogac?o de internac?o</td>\n",
              "      <td>2441915.0</td>\n",
              "      <td>1</td>\n",
              "      <td>HOSPITAL</td>\n",
              "      <td>Medico ortopedista e traumatologista</td>\n",
              "      <td>N?o acidente</td>\n",
              "      <td>Cirurgica</td>\n",
              "      <td>...</td>\n",
              "      <td>NaN</td>\n",
              "      <td>Solicito autorizac?o dos itens faltantes\\n*por...</td>\n",
              "      <td>Procedimentos</td>\n",
              "      <td>60023155</td>\n",
              "      <td>PORTE 6 (CIRURGIA GRANDE)</td>\n",
              "      <td>EM CENTRO CIRURGICO</td>\n",
              "      <td>TAXA DE SALA</td>\n",
              "      <td>TAXAS</td>\n",
              "      <td>1.0</td>\n",
              "      <td>Autorizado</td>\n",
              "    </tr>\n",
              "    <tr>\n",
              "      <th>248262</th>\n",
              "      <td>912377</td>\n",
              "      <td>869799</td>\n",
              "      <td>2459255</td>\n",
              "      <td>Guia de solicitac?o internac?o</td>\n",
              "      <td>2452616.0</td>\n",
              "      <td>1</td>\n",
              "      <td>HOSPITAL</td>\n",
              "      <td>Cirurgi?o dentista - ortopedista e ortodontista</td>\n",
              "      <td>N?o acidente</td>\n",
              "      <td>Cirurgica</td>\n",
              "      <td>...</td>\n",
              "      <td>NaN</td>\n",
              "      <td>Paciente com queixas para falar se alimentar c...</td>\n",
              "      <td>MAT/MED</td>\n",
              "      <td>272347</td>\n",
              "      <td>MEMBRANA COLAGENO BOVINA REABSORVIVEL LUMINA C...</td>\n",
              "      <td>Ortese</td>\n",
              "      <td>Material Hospitalar</td>\n",
              "      <td>Simpro</td>\n",
              "      <td>2.0</td>\n",
              "      <td>Negado</td>\n",
              "    </tr>\n",
              "    <tr>\n",
              "      <th>40654</th>\n",
              "      <td>1493908</td>\n",
              "      <td>4141055</td>\n",
              "      <td>2459558</td>\n",
              "      <td>Guia de solicitac?o de prorrogac?o de internac?o</td>\n",
              "      <td>2440121.0</td>\n",
              "      <td>1</td>\n",
              "      <td>HOSPITAL</td>\n",
              "      <td>Medico cancerologista cirurgico</td>\n",
              "      <td>N?o acidente</td>\n",
              "      <td>Cirurgica</td>\n",
              "      <td>...</td>\n",
              "      <td>NaN</td>\n",
              "      <td>Solicitac?o de prorrogac?o de 2 diarias, refer...</td>\n",
              "      <td>Procedimentos</td>\n",
              "      <td>20103344</td>\n",
              "      <td>MIOPATIAS</td>\n",
              "      <td>REABILITAC?ES - SESS?ES</td>\n",
              "      <td>PROCEDIMENTOS CLINICOS AMBULATORIAIS</td>\n",
              "      <td>PROCED. CLINICOS</td>\n",
              "      <td>6.0</td>\n",
              "      <td>Autorizado</td>\n",
              "    </tr>\n",
              "    <tr>\n",
              "      <th>103043</th>\n",
              "      <td>742096</td>\n",
              "      <td>846499</td>\n",
              "      <td>2459164</td>\n",
              "      <td>Guia de solicitac?o internac?o</td>\n",
              "      <td>2434468.0</td>\n",
              "      <td>1</td>\n",
              "      <td>HOSPITAL</td>\n",
              "      <td>Medico cirurgi?o cardiovascular</td>\n",
              "      <td>Outros</td>\n",
              "      <td>Cirurgica</td>\n",
              "      <td>...</td>\n",
              "      <td>I82</td>\n",
              "      <td>Paciente com sindrome de may-thurner , varizes...</td>\n",
              "      <td>MAT/MED</td>\n",
              "      <td>275594</td>\n",
              "      <td>BAINHA INTRODUTORA P/CATETER MEDIKIT 5FRX11CM ...</td>\n",
              "      <td>Material especial</td>\n",
              "      <td>Material Hospitalar</td>\n",
              "      <td>Simpro</td>\n",
              "      <td>1.0</td>\n",
              "      <td>Autorizado</td>\n",
              "    </tr>\n",
              "    <tr>\n",
              "      <th>340333</th>\n",
              "      <td>926733</td>\n",
              "      <td>2281634</td>\n",
              "      <td>2459263</td>\n",
              "      <td>Guia de solicitac?o de prorrogac?o de internac?o</td>\n",
              "      <td>2452367.0</td>\n",
              "      <td>1</td>\n",
              "      <td>HOSPITAL</td>\n",
              "      <td>Medico otorrinolaringologista</td>\n",
              "      <td>N?o acidente</td>\n",
              "      <td>Cirurgica</td>\n",
              "      <td>...</td>\n",
              "      <td>J34</td>\n",
              "      <td>Indicac?o clinica: REALIZADO PROCEDIMENTO CIRU...</td>\n",
              "      <td>Procedimentos</td>\n",
              "      <td>60023120</td>\n",
              "      <td>PORTE 3 (CIRURGIA MEDIA)</td>\n",
              "      <td>EM CENTRO CIRURGICO</td>\n",
              "      <td>TAXA DE SALA</td>\n",
              "      <td>TAXAS</td>\n",
              "      <td>1.0</td>\n",
              "      <td>Autorizado</td>\n",
              "    </tr>\n",
              "    <tr>\n",
              "      <th>410921</th>\n",
              "      <td>1369171</td>\n",
              "      <td>3741757</td>\n",
              "      <td>2459496</td>\n",
              "      <td>Guia de solicitac?o internac?o</td>\n",
              "      <td>2446692.0</td>\n",
              "      <td>1</td>\n",
              "      <td>HOSPITAL</td>\n",
              "      <td>Medico ortopedista e traumatologista</td>\n",
              "      <td>N?o acidente</td>\n",
              "      <td>Cirurgica</td>\n",
              "      <td>...</td>\n",
              "      <td>NaN</td>\n",
              "      <td>Paciente com dor e impotencia funcional do joe...</td>\n",
              "      <td>Procedimentos</td>\n",
              "      <td>60023155</td>\n",
              "      <td>PORTE 6 (CIRURGIA GRANDE)</td>\n",
              "      <td>EM CENTRO CIRURGICO</td>\n",
              "      <td>TAXA DE SALA</td>\n",
              "      <td>TAXAS</td>\n",
              "      <td>1.0</td>\n",
              "      <td>Negado</td>\n",
              "    </tr>\n",
              "    <tr>\n",
              "      <th>404333</th>\n",
              "      <td>1278810</td>\n",
              "      <td>923253</td>\n",
              "      <td>2459450</td>\n",
              "      <td>Guia de solicitac?o internac?o</td>\n",
              "      <td>2435995.0</td>\n",
              "      <td>1</td>\n",
              "      <td>HOSPITAL</td>\n",
              "      <td>Medico ortopedista e traumatologista</td>\n",
              "      <td>N?o acidente</td>\n",
              "      <td>Cirurgica</td>\n",
              "      <td>...</td>\n",
              "      <td>NaN</td>\n",
              "      <td>segue anexo</td>\n",
              "      <td>MAT/MED</td>\n",
              "      <td>75309386</td>\n",
              "      <td>TUSS - ANCORA PLDL SINFIX - ANCORA PLDL 5,5 SI...</td>\n",
              "      <td>ANCORA E SUTURA MONTADAS EM DISPOSITIVO INSERSOR</td>\n",
              "      <td>TUSS - Materiais e OPME</td>\n",
              "      <td>TUSS</td>\n",
              "      <td>3.0</td>\n",
              "      <td>Negado</td>\n",
              "    </tr>\n",
              "  </tbody>\n",
              "</table>\n",
              "<p>10 rows × 26 columns</p>\n",
              "</div>"
            ]
          },
          "metadata": {},
          "execution_count": 41
        }
      ],
      "source": [
        "eletivas = df[df.DS_CARATER_ATENDIMENTO == \"Eletiva\"]\n",
        "eletivas[eletivas.DS_TIPO_INTERNACAO.notnull()].sample(10)"
      ]
    },
    {
      "cell_type": "markdown",
      "metadata": {
        "id": "46bpSsdy2aB2"
      },
      "source": [
        "> Mas parece que as DS_TIPO_GUIA indicam se são internação ou não... Para ser, temos que averiguar se onde sabemos que é internação a DS_TIPO_GUIA afirma que é."
      ]
    },
    {
      "cell_type": "code",
      "execution_count": 42,
      "metadata": {
        "pycharm": {
          "name": "#%%\n"
        },
        "colab": {
          "base_uri": "https://localhost:8080/"
        },
        "id": "ywOkwfHo2aB2",
        "outputId": "a5a94d16-50ac-4ca1-b997-f853d328d67a"
      },
      "outputs": [
        {
          "output_type": "execute_result",
          "data": {
            "text/plain": [
              "array(['Guia de solicitac?o SP/SADT', 'Guia de solicitac?o internac?o',\n",
              "       'Guia de solicitac?o de prorrogac?o de internac?o'], dtype=object)"
            ]
          },
          "metadata": {},
          "execution_count": 42
        }
      ],
      "source": [
        "df.DS_TIPO_GUIA.unique()"
      ]
    },
    {
      "cell_type": "markdown",
      "metadata": {
        "id": "kV3wrStW2aB2"
      },
      "source": [
        "> ótimo, são apenas 3 valores únicos, facilita bastante o trabalho. Vamos ver quantos são internação."
      ]
    },
    {
      "cell_type": "code",
      "execution_count": 43,
      "metadata": {
        "pycharm": {
          "name": "#%%\n"
        },
        "colab": {
          "base_uri": "https://localhost:8080/"
        },
        "id": "_hMDPQYG2aB2",
        "outputId": "5413e126-abde-4d28-e1dc-70f951de5e60"
      },
      "outputs": [
        {
          "output_type": "execute_result",
          "data": {
            "text/plain": [
              "Guia de solicitac?o SP/SADT                         291196\n",
              "Guia de solicitac?o internac?o                       62230\n",
              "Guia de solicitac?o de prorrogac?o de internac?o     59830\n",
              "Name: DS_TIPO_GUIA, dtype: int64"
            ]
          },
          "metadata": {},
          "execution_count": 43
        }
      ],
      "source": [
        "df.DS_TIPO_GUIA.value_counts()"
      ]
    },
    {
      "cell_type": "markdown",
      "metadata": {
        "id": "FpuD8bpp2aB2"
      },
      "source": [
        "> Ok, apenas 122.060 itens são solicitações de internação ou prorrogação de internação."
      ]
    },
    {
      "cell_type": "code",
      "execution_count": 44,
      "metadata": {
        "pycharm": {
          "name": "#%%\n"
        },
        "colab": {
          "base_uri": "https://localhost:8080/"
        },
        "id": "Evw5SH5y2aB3",
        "outputId": "9533cbd3-2c5f-49db-cea2-e7c5d34d08ef"
      },
      "outputs": [
        {
          "output_type": "execute_result",
          "data": {
            "text/plain": [
              "Guia de solicitac?o internac?o                      62230\n",
              "Guia de solicitac?o de prorrogac?o de internac?o    59810\n",
              "Name: DS_TIPO_GUIA, dtype: int64"
            ]
          },
          "metadata": {},
          "execution_count": 44
        }
      ],
      "source": [
        "## Vamos verificar para onde tem o tipo de internação presente se o TIPO_GUIA fala de internação.\n",
        "internacao = df[df.DS_TIPO_INTERNACAO.notnull()]\n",
        "\n",
        "internacao.DS_TIPO_GUIA.value_counts()"
      ]
    },
    {
      "cell_type": "markdown",
      "metadata": {
        "id": "Cs8xNcJE2aB3"
      },
      "source": [
        "> Ótimo! Todos os exemplos onde o tipo de internação está presente há somente solicitação de internação ou prorrogação. Estamos a um passo de afirmar que onde não há especificado o tipo de internação e o tipo guia não consta internação podemos afirmar que não é internação."
      ]
    },
    {
      "cell_type": "code",
      "execution_count": 45,
      "metadata": {
        "pycharm": {
          "name": "#%%\n"
        },
        "colab": {
          "base_uri": "https://localhost:8080/"
        },
        "id": "HqIBR8X42aB3",
        "outputId": "e07d5721-b382-4d37-c3db-bf679d277af4"
      },
      "outputs": [
        {
          "output_type": "execute_result",
          "data": {
            "text/plain": [
              "0"
            ]
          },
          "metadata": {},
          "execution_count": 45
        }
      ],
      "source": [
        "## apenas averiguando se há valores nulos do DS_TIPO_GUIA para TIPO_INTERNACAO presente\n",
        "internacao.DS_TIPO_GUIA.isna().sum()"
      ]
    },
    {
      "cell_type": "markdown",
      "metadata": {
        "id": "-DWFQaz92aB3"
      },
      "source": [
        "> Não há nulos!! Vamos averiguar a recíproca, ou seja, se sempre quando o DS_TIPO_GUIA é sobre internação, se o TIPO_INTERNAÇÃO está presente."
      ]
    },
    {
      "cell_type": "code",
      "execution_count": 46,
      "metadata": {
        "pycharm": {
          "name": "#%%\n"
        },
        "colab": {
          "base_uri": "https://localhost:8080/"
        },
        "id": "LeYJ5jGu2aB4",
        "outputId": "b2c08a63-89cc-44a5-e49a-d92d589b2200"
      },
      "outputs": [
        {
          "output_type": "execute_result",
          "data": {
            "text/plain": [
              "Clinica         58232\n",
              "Cirurgica       58066\n",
              "Pediatrica       2579\n",
              "Obstetrica       1736\n",
              "Hemodinamica     1378\n",
              "Psiquiatrica       49\n",
              "Name: DS_TIPO_INTERNACAO, dtype: int64"
            ]
          },
          "metadata": {},
          "execution_count": 46
        }
      ],
      "source": [
        "internacao = df.query(\"DS_TIPO_GUIA == 'Guia de solicitac?o internac?o' or DS_TIPO_GUIA == 'Guia de solicitac?o de prorrogac?o de internac?o'\")\n",
        "internacao.DS_TIPO_INTERNACAO.value_counts()"
      ]
    },
    {
      "cell_type": "code",
      "execution_count": 47,
      "metadata": {
        "pycharm": {
          "name": "#%%\n"
        },
        "colab": {
          "base_uri": "https://localhost:8080/"
        },
        "id": "ku4jmiSU2aB4",
        "outputId": "0340d2f3-ad7e-4eaa-df1e-a10c62c838c5"
      },
      "outputs": [
        {
          "output_type": "execute_result",
          "data": {
            "text/plain": [
              "20"
            ]
          },
          "metadata": {},
          "execution_count": 47
        }
      ],
      "source": [
        "internacao.DS_TIPO_INTERNACAO.isna().sum()"
      ]
    },
    {
      "cell_type": "code",
      "execution_count": 48,
      "metadata": {
        "pycharm": {
          "name": "#%%\n"
        },
        "colab": {
          "base_uri": "https://localhost:8080/",
          "height": 0
        },
        "id": "ZyFs6E2g2aB4",
        "outputId": "178db40b-ef6f-467a-918a-bde0034696a6"
      },
      "outputs": [
        {
          "output_type": "execute_result",
          "data": {
            "text/plain": [
              "        NR_SEQ_REQUISICAO  NR_SEQ_ITEM  DT_REQUISICAO  \\\n",
              "15027             1135888      2957655        2459375   \n",
              "32752              925458       871757        2459262   \n",
              "33372              927028      2282329        2459263   \n",
              "41501              859203       864167        2459230   \n",
              "47682              859203       864166        2459230   \n",
              "62758              859203       864160        2459230   \n",
              "73846              945051      2336203        2459271   \n",
              "91255              859203       864164        2459230   \n",
              "168378            1129830       896301        2459373   \n",
              "186954             859203       864165        2459230   \n",
              "209111            1135888      2957661        2459375   \n",
              "253494             859203       864163        2459230   \n",
              "258256            1250930      3344279        2459436   \n",
              "265363             859203       864161        2459230   \n",
              "289081            1129830      2937582        2459373   \n",
              "298348            1098838      2834359        2459356   \n",
              "302473            1255815      3360690        2459438   \n",
              "311433            1250930      3344244        2459436   \n",
              "318043            1135888      2957659        2459375   \n",
              "371069             859203       864162        2459230   \n",
              "\n",
              "                                            DS_TIPO_GUIA  DT_NASCIMENTO  \\\n",
              "15027   Guia de solicitac?o de prorrogac?o de internac?o      2446385.0   \n",
              "32752   Guia de solicitac?o de prorrogac?o de internac?o      2432571.0   \n",
              "33372   Guia de solicitac?o de prorrogac?o de internac?o      2434220.0   \n",
              "41501   Guia de solicitac?o de prorrogac?o de internac?o      2432536.0   \n",
              "47682   Guia de solicitac?o de prorrogac?o de internac?o      2432536.0   \n",
              "62758   Guia de solicitac?o de prorrogac?o de internac?o      2432536.0   \n",
              "73846   Guia de solicitac?o de prorrogac?o de internac?o      2437441.0   \n",
              "91255   Guia de solicitac?o de prorrogac?o de internac?o      2432536.0   \n",
              "168378  Guia de solicitac?o de prorrogac?o de internac?o      2438745.0   \n",
              "186954  Guia de solicitac?o de prorrogac?o de internac?o      2432536.0   \n",
              "209111  Guia de solicitac?o de prorrogac?o de internac?o      2446385.0   \n",
              "253494  Guia de solicitac?o de prorrogac?o de internac?o      2432536.0   \n",
              "258256  Guia de solicitac?o de prorrogac?o de internac?o      2428862.0   \n",
              "265363  Guia de solicitac?o de prorrogac?o de internac?o      2432536.0   \n",
              "289081  Guia de solicitac?o de prorrogac?o de internac?o      2438745.0   \n",
              "298348  Guia de solicitac?o de prorrogac?o de internac?o      2438891.0   \n",
              "302473  Guia de solicitac?o de prorrogac?o de internac?o      2429499.0   \n",
              "311433  Guia de solicitac?o de prorrogac?o de internac?o      2428862.0   \n",
              "318043  Guia de solicitac?o de prorrogac?o de internac?o      2446385.0   \n",
              "371069  Guia de solicitac?o de prorrogac?o de internac?o      2432536.0   \n",
              "\n",
              "        NR_PRODUTO DS_TIPO_PREST_SOLICITANTE  \\\n",
              "15027            1                  HOSPITAL   \n",
              "32752            1                       UTI   \n",
              "33372            1                  HOSPITAL   \n",
              "41501            1                  HOSPITAL   \n",
              "47682            1                  HOSPITAL   \n",
              "62758            1                  HOSPITAL   \n",
              "73846            1                  HOSPITAL   \n",
              "91255            1                  HOSPITAL   \n",
              "168378           1                  HOSPITAL   \n",
              "186954           1                  HOSPITAL   \n",
              "209111           1                  HOSPITAL   \n",
              "253494           1                  HOSPITAL   \n",
              "258256           1                  HOSPITAL   \n",
              "265363           1                  HOSPITAL   \n",
              "289081           1                  HOSPITAL   \n",
              "298348           1                  HOSPITAL   \n",
              "302473           1                  HOSPITAL   \n",
              "311433           1                  HOSPITAL   \n",
              "318043           1                  HOSPITAL   \n",
              "371069           1                  HOSPITAL   \n",
              "\n",
              "                                       DS_CBO DS_INDICACAO_ACIDENTE  \\\n",
              "15027                 Medico cirurgi?o geral           N?o acidente   \n",
              "32752           Medico em medicina intensiva           N?o acidente   \n",
              "33372           Medico em medicina intensiva           N?o acidente   \n",
              "41501   Medico ortopedista e traumatologista           N?o acidente   \n",
              "47682   Medico ortopedista e traumatologista           N?o acidente   \n",
              "62758   Medico ortopedista e traumatologista           N?o acidente   \n",
              "73846         Medico cancerologista cirurgico          N?o acidente   \n",
              "91255   Medico ortopedista e traumatologista           N?o acidente   \n",
              "168378          Medico em medicina intensiva           N?o acidente   \n",
              "186954  Medico ortopedista e traumatologista           N?o acidente   \n",
              "209111                Medico cirurgi?o geral           N?o acidente   \n",
              "253494  Medico ortopedista e traumatologista           N?o acidente   \n",
              "258256                         Medico clinico          N?o acidente   \n",
              "265363  Medico ortopedista e traumatologista           N?o acidente   \n",
              "289081          Medico em medicina intensiva           N?o acidente   \n",
              "298348                         Medico clinico                Outros   \n",
              "302473                         Medico clinico          N?o acidente   \n",
              "311433                         Medico clinico          N?o acidente   \n",
              "318043                Medico cirurgi?o geral           N?o acidente   \n",
              "371069  Medico ortopedista e traumatologista           N?o acidente   \n",
              "\n",
              "       DS_TIPO_INTERNACAO  ... CD_CID  \\\n",
              "15027                 NaN  ...    NaN   \n",
              "32752                 NaN  ...    I64   \n",
              "33372                 NaN  ...    A41   \n",
              "41501                 NaN  ...    S72   \n",
              "47682                 NaN  ...    S72   \n",
              "62758                 NaN  ...    S72   \n",
              "73846                 NaN  ...    NaN   \n",
              "91255                 NaN  ...    S72   \n",
              "168378                NaN  ...    NaN   \n",
              "186954                NaN  ...    S72   \n",
              "209111                NaN  ...    NaN   \n",
              "253494                NaN  ...    S72   \n",
              "258256                NaN  ...    NaN   \n",
              "265363                NaN  ...    S72   \n",
              "289081                NaN  ...    NaN   \n",
              "298348                NaN  ...   B342   \n",
              "302473                NaN  ...    NaN   \n",
              "311433                NaN  ...    NaN   \n",
              "318043                NaN  ...    NaN   \n",
              "371069                NaN  ...    S72   \n",
              "\n",
              "                                     DS_INDICACAO_CLINICA   DS_TIPO_ITEM  \\\n",
              "15027                              Solicitac?o de taxas .  Procedimentos   \n",
              "32752   Para uso de Antibioticos e medicamentos contin...        MAT/MED   \n",
              "33372                               SEPSE, SEGUEM ANEXOS.  Procedimentos   \n",
              "41501   paciente com femur evoluindo com fratura de pl...        MAT/MED   \n",
              "47682   paciente com femur evoluindo com fratura de pl...        MAT/MED   \n",
              "62758   paciente com femur evoluindo com fratura de pl...        MAT/MED   \n",
              "73846   Paciente 59 anos, em pos operatorio de cirurgi...  Procedimentos   \n",
              "91255   paciente com femur evoluindo com fratura de pl...        MAT/MED   \n",
              "168378                                           COVID19+        MAT/MED   \n",
              "186954  paciente com femur evoluindo com fratura de pl...        MAT/MED   \n",
              "209111                             Solicitac?o de taxas .  Procedimentos   \n",
              "253494  paciente com femur evoluindo com fratura de pl...        MAT/MED   \n",
              "258256  Fisioterapia motora e respiratoria para pacien...  Procedimentos   \n",
              "265363  paciente com femur evoluindo com fratura de pl...        MAT/MED   \n",
              "289081                                           COVID19+  Procedimentos   \n",
              "298348                                paciente gravissimo  Procedimentos   \n",
              "302473                                 Covid-19/pneumonia  Procedimentos   \n",
              "311433  Fisioterapia motora e respiratoria para pacien...  Procedimentos   \n",
              "318043                             Solicitac?o de taxas .  Procedimentos   \n",
              "371069  paciente com femur evoluindo com fratura de pl...        MAT/MED   \n",
              "\n",
              "         CD_ITEM                                            DS_ITEM  \\\n",
              "15027   60031409  TAXA DE USO DE OXICAPINOGRAFO (FORA DA UTI E C...   \n",
              "32752     159905  EQUIPO P/BOMBA INFUSAO PARENTERAL 270CM COMP.C...   \n",
              "33372   20203012  ASSISTENCIA FISIATRICA RESPIRATORIA EM PACIENT...   \n",
              "41501   78529433  TUSS - CANULA DE DEBRIDAC?O RF BBT - CDRZ 002 ...   \n",
              "47682     165539  PARAFUSO CANULADO ROSCA TOTAL 7X30MM DIV.MEDID...   \n",
              "62758   78384133       TUSS - FIO GUIA PARA ARTROSCOPIA - IMPLANFIX   \n",
              "73846   31005012  ABSCESSO HEPATICO - DRENAGEM CIRURGICA (ATE 3 ...   \n",
              "91255   78529255  TUSS - CANULA DE DEBRIDAC?O RF BBT - CDRZ 002 ...   \n",
              "168378    149032  EQUIPO P/BOMBA INFUSAO PARENTERAL 270CM COMP.C...   \n",
              "186954    305225          EQUIPO IRRIGACAO P/ARTROSCOPIA 4VIAS - UN   \n",
              "209111  60026227  TAXA DE USO DE BISTURI ELETRONICO MICROPROCESS...   \n",
              "253494    310249  CANETA ABLACAO RF C/PTA.ATIVA TP.SHELL STRIPED...   \n",
              "258256  20103344                                          MIOPATIAS   \n",
              "265363  70027234  TUSS - PARAFUSO CORTICAL IOL - 40100000452 ARR...   \n",
              "289081  10102019             VISITA HOSPITALAR A PACIENTE INTERNADO   \n",
              "298348  51112532  PCT-COMP - PACOTE PARA HEMODIALISE - AGUDO - A...   \n",
              "302473  40308391  PROTEINA C REATIVA, QUANTITATIVA, DOSAGEM (TUR...   \n",
              "311433  20203047  ASSISTENCIA FISIATRICA RESPIRATORIA EM DOENTE ...   \n",
              "318043  60024380  TAXA DE USO DO APARELHO PARA VIDEOLAPAROSCOPIA...   \n",
              "371069  73227277  TUSS - SUBSTITUTO DE ENXERTO OSSEO INORGANICO ...   \n",
              "\n",
              "                                                DS_CLASSE  \\\n",
              "15027                          TAXA DE USO DE EQUIPAMENTO   \n",
              "32752                                 Material de consumo   \n",
              "33372                             REABILITAC?ES - SESS?ES   \n",
              "41501                                             CANULAS   \n",
              "47682                                             Sintese   \n",
              "62758                                            FIO GUIA   \n",
              "73846                              FIGADO E VIAS BILIARES   \n",
              "91255                                             CANULAS   \n",
              "168378                                Material de consumo   \n",
              "186954                                            Protese   \n",
              "209111                         TAXA DE USO DE EQUIPAMENTO   \n",
              "253494                                            Protese   \n",
              "258256                            REABILITAC?ES - SESS?ES   \n",
              "265363  PARAFUSO OSSEO ORTOPEDICO N?O BIOABSORVIVEL, N...   \n",
              "289081                                            VISITAS   \n",
              "298348           HEMODIALISE DE CURTA E LONGA PERMANENCIA   \n",
              "302473                                         IMUNOLOGIA   \n",
              "311433                            REABILITAC?ES - SESS?ES   \n",
              "318043                         TAXA DE USO DE EQUIPAMENTO   \n",
              "371069                                      ENXERTO OSSEO   \n",
              "\n",
              "                                 DS_SUBGRUPO  \\\n",
              "15027             TAXA DE USO DE EQUIPAMENTO   \n",
              "32752                    Material Hospitalar   \n",
              "33372    PROCEDIMENTOS CLINICOS HOSPITALARES   \n",
              "41501                TUSS - Materiais e OPME   \n",
              "47682                    Material Hospitalar   \n",
              "62758                TUSS - Materiais e OPME   \n",
              "73846             SISTEMA DIGESTIVO E ANEXOS   \n",
              "91255                TUSS - Materiais e OPME   \n",
              "168378                   Material Hospitalar   \n",
              "186954                   Material Hospitalar   \n",
              "209111            TAXA DE USO DE EQUIPAMENTO   \n",
              "253494                   Material Hospitalar   \n",
              "258256  PROCEDIMENTOS CLINICOS AMBULATORIAIS   \n",
              "265363               TUSS - Materiais e OPME   \n",
              "289081                             CONSULTAS   \n",
              "298348           SISTEMA CARDIO-CIRCULATORIO   \n",
              "302473                MEDICINA LABORATORIAL    \n",
              "311433   PROCEDIMENTOS CLINICOS HOSPITALARES   \n",
              "318043            TAXA DE USO DE EQUIPAMENTO   \n",
              "371069               TUSS - Materiais e OPME   \n",
              "\n",
              "                                   DS_GRUPO QT_SOLICITADA  DS_STATUS_ITEM  \n",
              "15027                                 TAXAS           1.0          Negado  \n",
              "32752                                Simpro           5.0      Autorizado  \n",
              "33372                      PROCED. CLINICOS          10.0          Negado  \n",
              "41501                                  TUSS           1.0      Autorizado  \n",
              "47682                                Simpro           2.0      Autorizado  \n",
              "62758                                  TUSS           1.0      Autorizado  \n",
              "73846       PROCED. CIRURGICOS E INVASIVOS            1.0      Autorizado  \n",
              "91255                                  TUSS           1.0      Autorizado  \n",
              "168378                               Simpro           6.0      Autorizado  \n",
              "186954                               Simpro           1.0      Autorizado  \n",
              "209111                                TAXAS           1.0          Negado  \n",
              "253494                               Simpro           1.0      Autorizado  \n",
              "258256                     PROCED. CLINICOS          10.0          Negado  \n",
              "265363                                 TUSS           2.0      Autorizado  \n",
              "289081                       PROCED. GERAIS           1.0          Negado  \n",
              "298348      PROCED. CIRURGICOS E INVASIVOS            7.0      Autorizado  \n",
              "302473  PROCED. DIAGNOSTICOS E TERAPEUTICOS           1.0          Negado  \n",
              "311433                     PROCED. CLINICOS          10.0          Negado  \n",
              "318043                                TAXAS           1.0      Autorizado  \n",
              "371069                                 TUSS           1.0      Autorizado  \n",
              "\n",
              "[20 rows x 26 columns]"
            ],
            "text/html": [
              "<div>\n",
              "<style scoped>\n",
              "    .dataframe tbody tr th:only-of-type {\n",
              "        vertical-align: middle;\n",
              "    }\n",
              "\n",
              "    .dataframe tbody tr th {\n",
              "        vertical-align: top;\n",
              "    }\n",
              "\n",
              "    .dataframe thead th {\n",
              "        text-align: right;\n",
              "    }\n",
              "</style>\n",
              "<table border=\"1\" class=\"dataframe\">\n",
              "  <thead>\n",
              "    <tr style=\"text-align: right;\">\n",
              "      <th></th>\n",
              "      <th>NR_SEQ_REQUISICAO</th>\n",
              "      <th>NR_SEQ_ITEM</th>\n",
              "      <th>DT_REQUISICAO</th>\n",
              "      <th>DS_TIPO_GUIA</th>\n",
              "      <th>DT_NASCIMENTO</th>\n",
              "      <th>NR_PRODUTO</th>\n",
              "      <th>DS_TIPO_PREST_SOLICITANTE</th>\n",
              "      <th>DS_CBO</th>\n",
              "      <th>DS_INDICACAO_ACIDENTE</th>\n",
              "      <th>DS_TIPO_INTERNACAO</th>\n",
              "      <th>...</th>\n",
              "      <th>CD_CID</th>\n",
              "      <th>DS_INDICACAO_CLINICA</th>\n",
              "      <th>DS_TIPO_ITEM</th>\n",
              "      <th>CD_ITEM</th>\n",
              "      <th>DS_ITEM</th>\n",
              "      <th>DS_CLASSE</th>\n",
              "      <th>DS_SUBGRUPO</th>\n",
              "      <th>DS_GRUPO</th>\n",
              "      <th>QT_SOLICITADA</th>\n",
              "      <th>DS_STATUS_ITEM</th>\n",
              "    </tr>\n",
              "  </thead>\n",
              "  <tbody>\n",
              "    <tr>\n",
              "      <th>15027</th>\n",
              "      <td>1135888</td>\n",
              "      <td>2957655</td>\n",
              "      <td>2459375</td>\n",
              "      <td>Guia de solicitac?o de prorrogac?o de internac?o</td>\n",
              "      <td>2446385.0</td>\n",
              "      <td>1</td>\n",
              "      <td>HOSPITAL</td>\n",
              "      <td>Medico cirurgi?o geral</td>\n",
              "      <td>N?o acidente</td>\n",
              "      <td>NaN</td>\n",
              "      <td>...</td>\n",
              "      <td>NaN</td>\n",
              "      <td>Solicitac?o de taxas .</td>\n",
              "      <td>Procedimentos</td>\n",
              "      <td>60031409</td>\n",
              "      <td>TAXA DE USO DE OXICAPINOGRAFO (FORA DA UTI E C...</td>\n",
              "      <td>TAXA DE USO DE EQUIPAMENTO</td>\n",
              "      <td>TAXA DE USO DE EQUIPAMENTO</td>\n",
              "      <td>TAXAS</td>\n",
              "      <td>1.0</td>\n",
              "      <td>Negado</td>\n",
              "    </tr>\n",
              "    <tr>\n",
              "      <th>32752</th>\n",
              "      <td>925458</td>\n",
              "      <td>871757</td>\n",
              "      <td>2459262</td>\n",
              "      <td>Guia de solicitac?o de prorrogac?o de internac?o</td>\n",
              "      <td>2432571.0</td>\n",
              "      <td>1</td>\n",
              "      <td>UTI</td>\n",
              "      <td>Medico em medicina intensiva</td>\n",
              "      <td>N?o acidente</td>\n",
              "      <td>NaN</td>\n",
              "      <td>...</td>\n",
              "      <td>I64</td>\n",
              "      <td>Para uso de Antibioticos e medicamentos contin...</td>\n",
              "      <td>MAT/MED</td>\n",
              "      <td>159905</td>\n",
              "      <td>EQUIPO P/BOMBA INFUSAO PARENTERAL 270CM COMP.C...</td>\n",
              "      <td>Material de consumo</td>\n",
              "      <td>Material Hospitalar</td>\n",
              "      <td>Simpro</td>\n",
              "      <td>5.0</td>\n",
              "      <td>Autorizado</td>\n",
              "    </tr>\n",
              "    <tr>\n",
              "      <th>33372</th>\n",
              "      <td>927028</td>\n",
              "      <td>2282329</td>\n",
              "      <td>2459263</td>\n",
              "      <td>Guia de solicitac?o de prorrogac?o de internac?o</td>\n",
              "      <td>2434220.0</td>\n",
              "      <td>1</td>\n",
              "      <td>HOSPITAL</td>\n",
              "      <td>Medico em medicina intensiva</td>\n",
              "      <td>N?o acidente</td>\n",
              "      <td>NaN</td>\n",
              "      <td>...</td>\n",
              "      <td>A41</td>\n",
              "      <td>SEPSE, SEGUEM ANEXOS.</td>\n",
              "      <td>Procedimentos</td>\n",
              "      <td>20203012</td>\n",
              "      <td>ASSISTENCIA FISIATRICA RESPIRATORIA EM PACIENT...</td>\n",
              "      <td>REABILITAC?ES - SESS?ES</td>\n",
              "      <td>PROCEDIMENTOS CLINICOS HOSPITALARES</td>\n",
              "      <td>PROCED. CLINICOS</td>\n",
              "      <td>10.0</td>\n",
              "      <td>Negado</td>\n",
              "    </tr>\n",
              "    <tr>\n",
              "      <th>41501</th>\n",
              "      <td>859203</td>\n",
              "      <td>864167</td>\n",
              "      <td>2459230</td>\n",
              "      <td>Guia de solicitac?o de prorrogac?o de internac?o</td>\n",
              "      <td>2432536.0</td>\n",
              "      <td>1</td>\n",
              "      <td>HOSPITAL</td>\n",
              "      <td>Medico ortopedista e traumatologista</td>\n",
              "      <td>N?o acidente</td>\n",
              "      <td>NaN</td>\n",
              "      <td>...</td>\n",
              "      <td>S72</td>\n",
              "      <td>paciente com femur evoluindo com fratura de pl...</td>\n",
              "      <td>MAT/MED</td>\n",
              "      <td>78529433</td>\n",
              "      <td>TUSS - CANULA DE DEBRIDAC?O RF BBT - CDRZ 002 ...</td>\n",
              "      <td>CANULAS</td>\n",
              "      <td>TUSS - Materiais e OPME</td>\n",
              "      <td>TUSS</td>\n",
              "      <td>1.0</td>\n",
              "      <td>Autorizado</td>\n",
              "    </tr>\n",
              "    <tr>\n",
              "      <th>47682</th>\n",
              "      <td>859203</td>\n",
              "      <td>864166</td>\n",
              "      <td>2459230</td>\n",
              "      <td>Guia de solicitac?o de prorrogac?o de internac?o</td>\n",
              "      <td>2432536.0</td>\n",
              "      <td>1</td>\n",
              "      <td>HOSPITAL</td>\n",
              "      <td>Medico ortopedista e traumatologista</td>\n",
              "      <td>N?o acidente</td>\n",
              "      <td>NaN</td>\n",
              "      <td>...</td>\n",
              "      <td>S72</td>\n",
              "      <td>paciente com femur evoluindo com fratura de pl...</td>\n",
              "      <td>MAT/MED</td>\n",
              "      <td>165539</td>\n",
              "      <td>PARAFUSO CANULADO ROSCA TOTAL 7X30MM DIV.MEDID...</td>\n",
              "      <td>Sintese</td>\n",
              "      <td>Material Hospitalar</td>\n",
              "      <td>Simpro</td>\n",
              "      <td>2.0</td>\n",
              "      <td>Autorizado</td>\n",
              "    </tr>\n",
              "    <tr>\n",
              "      <th>62758</th>\n",
              "      <td>859203</td>\n",
              "      <td>864160</td>\n",
              "      <td>2459230</td>\n",
              "      <td>Guia de solicitac?o de prorrogac?o de internac?o</td>\n",
              "      <td>2432536.0</td>\n",
              "      <td>1</td>\n",
              "      <td>HOSPITAL</td>\n",
              "      <td>Medico ortopedista e traumatologista</td>\n",
              "      <td>N?o acidente</td>\n",
              "      <td>NaN</td>\n",
              "      <td>...</td>\n",
              "      <td>S72</td>\n",
              "      <td>paciente com femur evoluindo com fratura de pl...</td>\n",
              "      <td>MAT/MED</td>\n",
              "      <td>78384133</td>\n",
              "      <td>TUSS - FIO GUIA PARA ARTROSCOPIA - IMPLANFIX</td>\n",
              "      <td>FIO GUIA</td>\n",
              "      <td>TUSS - Materiais e OPME</td>\n",
              "      <td>TUSS</td>\n",
              "      <td>1.0</td>\n",
              "      <td>Autorizado</td>\n",
              "    </tr>\n",
              "    <tr>\n",
              "      <th>73846</th>\n",
              "      <td>945051</td>\n",
              "      <td>2336203</td>\n",
              "      <td>2459271</td>\n",
              "      <td>Guia de solicitac?o de prorrogac?o de internac?o</td>\n",
              "      <td>2437441.0</td>\n",
              "      <td>1</td>\n",
              "      <td>HOSPITAL</td>\n",
              "      <td>Medico cancerologista cirurgico</td>\n",
              "      <td>N?o acidente</td>\n",
              "      <td>NaN</td>\n",
              "      <td>...</td>\n",
              "      <td>NaN</td>\n",
              "      <td>Paciente 59 anos, em pos operatorio de cirurgi...</td>\n",
              "      <td>Procedimentos</td>\n",
              "      <td>31005012</td>\n",
              "      <td>ABSCESSO HEPATICO - DRENAGEM CIRURGICA (ATE 3 ...</td>\n",
              "      <td>FIGADO E VIAS BILIARES</td>\n",
              "      <td>SISTEMA DIGESTIVO E ANEXOS</td>\n",
              "      <td>PROCED. CIRURGICOS E INVASIVOS</td>\n",
              "      <td>1.0</td>\n",
              "      <td>Autorizado</td>\n",
              "    </tr>\n",
              "    <tr>\n",
              "      <th>91255</th>\n",
              "      <td>859203</td>\n",
              "      <td>864164</td>\n",
              "      <td>2459230</td>\n",
              "      <td>Guia de solicitac?o de prorrogac?o de internac?o</td>\n",
              "      <td>2432536.0</td>\n",
              "      <td>1</td>\n",
              "      <td>HOSPITAL</td>\n",
              "      <td>Medico ortopedista e traumatologista</td>\n",
              "      <td>N?o acidente</td>\n",
              "      <td>NaN</td>\n",
              "      <td>...</td>\n",
              "      <td>S72</td>\n",
              "      <td>paciente com femur evoluindo com fratura de pl...</td>\n",
              "      <td>MAT/MED</td>\n",
              "      <td>78529255</td>\n",
              "      <td>TUSS - CANULA DE DEBRIDAC?O RF BBT - CDRZ 002 ...</td>\n",
              "      <td>CANULAS</td>\n",
              "      <td>TUSS - Materiais e OPME</td>\n",
              "      <td>TUSS</td>\n",
              "      <td>1.0</td>\n",
              "      <td>Autorizado</td>\n",
              "    </tr>\n",
              "    <tr>\n",
              "      <th>168378</th>\n",
              "      <td>1129830</td>\n",
              "      <td>896301</td>\n",
              "      <td>2459373</td>\n",
              "      <td>Guia de solicitac?o de prorrogac?o de internac?o</td>\n",
              "      <td>2438745.0</td>\n",
              "      <td>1</td>\n",
              "      <td>HOSPITAL</td>\n",
              "      <td>Medico em medicina intensiva</td>\n",
              "      <td>N?o acidente</td>\n",
              "      <td>NaN</td>\n",
              "      <td>...</td>\n",
              "      <td>NaN</td>\n",
              "      <td>COVID19+</td>\n",
              "      <td>MAT/MED</td>\n",
              "      <td>149032</td>\n",
              "      <td>EQUIPO P/BOMBA INFUSAO PARENTERAL 270CM COMP.C...</td>\n",
              "      <td>Material de consumo</td>\n",
              "      <td>Material Hospitalar</td>\n",
              "      <td>Simpro</td>\n",
              "      <td>6.0</td>\n",
              "      <td>Autorizado</td>\n",
              "    </tr>\n",
              "    <tr>\n",
              "      <th>186954</th>\n",
              "      <td>859203</td>\n",
              "      <td>864165</td>\n",
              "      <td>2459230</td>\n",
              "      <td>Guia de solicitac?o de prorrogac?o de internac?o</td>\n",
              "      <td>2432536.0</td>\n",
              "      <td>1</td>\n",
              "      <td>HOSPITAL</td>\n",
              "      <td>Medico ortopedista e traumatologista</td>\n",
              "      <td>N?o acidente</td>\n",
              "      <td>NaN</td>\n",
              "      <td>...</td>\n",
              "      <td>S72</td>\n",
              "      <td>paciente com femur evoluindo com fratura de pl...</td>\n",
              "      <td>MAT/MED</td>\n",
              "      <td>305225</td>\n",
              "      <td>EQUIPO IRRIGACAO P/ARTROSCOPIA 4VIAS - UN</td>\n",
              "      <td>Protese</td>\n",
              "      <td>Material Hospitalar</td>\n",
              "      <td>Simpro</td>\n",
              "      <td>1.0</td>\n",
              "      <td>Autorizado</td>\n",
              "    </tr>\n",
              "    <tr>\n",
              "      <th>209111</th>\n",
              "      <td>1135888</td>\n",
              "      <td>2957661</td>\n",
              "      <td>2459375</td>\n",
              "      <td>Guia de solicitac?o de prorrogac?o de internac?o</td>\n",
              "      <td>2446385.0</td>\n",
              "      <td>1</td>\n",
              "      <td>HOSPITAL</td>\n",
              "      <td>Medico cirurgi?o geral</td>\n",
              "      <td>N?o acidente</td>\n",
              "      <td>NaN</td>\n",
              "      <td>...</td>\n",
              "      <td>NaN</td>\n",
              "      <td>Solicitac?o de taxas .</td>\n",
              "      <td>Procedimentos</td>\n",
              "      <td>60026227</td>\n",
              "      <td>TAXA DE USO DE BISTURI ELETRONICO MICROPROCESS...</td>\n",
              "      <td>TAXA DE USO DE EQUIPAMENTO</td>\n",
              "      <td>TAXA DE USO DE EQUIPAMENTO</td>\n",
              "      <td>TAXAS</td>\n",
              "      <td>1.0</td>\n",
              "      <td>Negado</td>\n",
              "    </tr>\n",
              "    <tr>\n",
              "      <th>253494</th>\n",
              "      <td>859203</td>\n",
              "      <td>864163</td>\n",
              "      <td>2459230</td>\n",
              "      <td>Guia de solicitac?o de prorrogac?o de internac?o</td>\n",
              "      <td>2432536.0</td>\n",
              "      <td>1</td>\n",
              "      <td>HOSPITAL</td>\n",
              "      <td>Medico ortopedista e traumatologista</td>\n",
              "      <td>N?o acidente</td>\n",
              "      <td>NaN</td>\n",
              "      <td>...</td>\n",
              "      <td>S72</td>\n",
              "      <td>paciente com femur evoluindo com fratura de pl...</td>\n",
              "      <td>MAT/MED</td>\n",
              "      <td>310249</td>\n",
              "      <td>CANETA ABLACAO RF C/PTA.ATIVA TP.SHELL STRIPED...</td>\n",
              "      <td>Protese</td>\n",
              "      <td>Material Hospitalar</td>\n",
              "      <td>Simpro</td>\n",
              "      <td>1.0</td>\n",
              "      <td>Autorizado</td>\n",
              "    </tr>\n",
              "    <tr>\n",
              "      <th>258256</th>\n",
              "      <td>1250930</td>\n",
              "      <td>3344279</td>\n",
              "      <td>2459436</td>\n",
              "      <td>Guia de solicitac?o de prorrogac?o de internac?o</td>\n",
              "      <td>2428862.0</td>\n",
              "      <td>1</td>\n",
              "      <td>HOSPITAL</td>\n",
              "      <td>Medico clinico</td>\n",
              "      <td>N?o acidente</td>\n",
              "      <td>NaN</td>\n",
              "      <td>...</td>\n",
              "      <td>NaN</td>\n",
              "      <td>Fisioterapia motora e respiratoria para pacien...</td>\n",
              "      <td>Procedimentos</td>\n",
              "      <td>20103344</td>\n",
              "      <td>MIOPATIAS</td>\n",
              "      <td>REABILITAC?ES - SESS?ES</td>\n",
              "      <td>PROCEDIMENTOS CLINICOS AMBULATORIAIS</td>\n",
              "      <td>PROCED. CLINICOS</td>\n",
              "      <td>10.0</td>\n",
              "      <td>Negado</td>\n",
              "    </tr>\n",
              "    <tr>\n",
              "      <th>265363</th>\n",
              "      <td>859203</td>\n",
              "      <td>864161</td>\n",
              "      <td>2459230</td>\n",
              "      <td>Guia de solicitac?o de prorrogac?o de internac?o</td>\n",
              "      <td>2432536.0</td>\n",
              "      <td>1</td>\n",
              "      <td>HOSPITAL</td>\n",
              "      <td>Medico ortopedista e traumatologista</td>\n",
              "      <td>N?o acidente</td>\n",
              "      <td>NaN</td>\n",
              "      <td>...</td>\n",
              "      <td>S72</td>\n",
              "      <td>paciente com femur evoluindo com fratura de pl...</td>\n",
              "      <td>MAT/MED</td>\n",
              "      <td>70027234</td>\n",
              "      <td>TUSS - PARAFUSO CORTICAL IOL - 40100000452 ARR...</td>\n",
              "      <td>PARAFUSO OSSEO ORTOPEDICO N?O BIOABSORVIVEL, N...</td>\n",
              "      <td>TUSS - Materiais e OPME</td>\n",
              "      <td>TUSS</td>\n",
              "      <td>2.0</td>\n",
              "      <td>Autorizado</td>\n",
              "    </tr>\n",
              "    <tr>\n",
              "      <th>289081</th>\n",
              "      <td>1129830</td>\n",
              "      <td>2937582</td>\n",
              "      <td>2459373</td>\n",
              "      <td>Guia de solicitac?o de prorrogac?o de internac?o</td>\n",
              "      <td>2438745.0</td>\n",
              "      <td>1</td>\n",
              "      <td>HOSPITAL</td>\n",
              "      <td>Medico em medicina intensiva</td>\n",
              "      <td>N?o acidente</td>\n",
              "      <td>NaN</td>\n",
              "      <td>...</td>\n",
              "      <td>NaN</td>\n",
              "      <td>COVID19+</td>\n",
              "      <td>Procedimentos</td>\n",
              "      <td>10102019</td>\n",
              "      <td>VISITA HOSPITALAR A PACIENTE INTERNADO</td>\n",
              "      <td>VISITAS</td>\n",
              "      <td>CONSULTAS</td>\n",
              "      <td>PROCED. GERAIS</td>\n",
              "      <td>1.0</td>\n",
              "      <td>Negado</td>\n",
              "    </tr>\n",
              "    <tr>\n",
              "      <th>298348</th>\n",
              "      <td>1098838</td>\n",
              "      <td>2834359</td>\n",
              "      <td>2459356</td>\n",
              "      <td>Guia de solicitac?o de prorrogac?o de internac?o</td>\n",
              "      <td>2438891.0</td>\n",
              "      <td>1</td>\n",
              "      <td>HOSPITAL</td>\n",
              "      <td>Medico clinico</td>\n",
              "      <td>Outros</td>\n",
              "      <td>NaN</td>\n",
              "      <td>...</td>\n",
              "      <td>B342</td>\n",
              "      <td>paciente gravissimo</td>\n",
              "      <td>Procedimentos</td>\n",
              "      <td>51112532</td>\n",
              "      <td>PCT-COMP - PACOTE PARA HEMODIALISE - AGUDO - A...</td>\n",
              "      <td>HEMODIALISE DE CURTA E LONGA PERMANENCIA</td>\n",
              "      <td>SISTEMA CARDIO-CIRCULATORIO</td>\n",
              "      <td>PROCED. CIRURGICOS E INVASIVOS</td>\n",
              "      <td>7.0</td>\n",
              "      <td>Autorizado</td>\n",
              "    </tr>\n",
              "    <tr>\n",
              "      <th>302473</th>\n",
              "      <td>1255815</td>\n",
              "      <td>3360690</td>\n",
              "      <td>2459438</td>\n",
              "      <td>Guia de solicitac?o de prorrogac?o de internac?o</td>\n",
              "      <td>2429499.0</td>\n",
              "      <td>1</td>\n",
              "      <td>HOSPITAL</td>\n",
              "      <td>Medico clinico</td>\n",
              "      <td>N?o acidente</td>\n",
              "      <td>NaN</td>\n",
              "      <td>...</td>\n",
              "      <td>NaN</td>\n",
              "      <td>Covid-19/pneumonia</td>\n",
              "      <td>Procedimentos</td>\n",
              "      <td>40308391</td>\n",
              "      <td>PROTEINA C REATIVA, QUANTITATIVA, DOSAGEM (TUR...</td>\n",
              "      <td>IMUNOLOGIA</td>\n",
              "      <td>MEDICINA LABORATORIAL</td>\n",
              "      <td>PROCED. DIAGNOSTICOS E TERAPEUTICOS</td>\n",
              "      <td>1.0</td>\n",
              "      <td>Negado</td>\n",
              "    </tr>\n",
              "    <tr>\n",
              "      <th>311433</th>\n",
              "      <td>1250930</td>\n",
              "      <td>3344244</td>\n",
              "      <td>2459436</td>\n",
              "      <td>Guia de solicitac?o de prorrogac?o de internac?o</td>\n",
              "      <td>2428862.0</td>\n",
              "      <td>1</td>\n",
              "      <td>HOSPITAL</td>\n",
              "      <td>Medico clinico</td>\n",
              "      <td>N?o acidente</td>\n",
              "      <td>NaN</td>\n",
              "      <td>...</td>\n",
              "      <td>NaN</td>\n",
              "      <td>Fisioterapia motora e respiratoria para pacien...</td>\n",
              "      <td>Procedimentos</td>\n",
              "      <td>20203047</td>\n",
              "      <td>ASSISTENCIA FISIATRICA RESPIRATORIA EM DOENTE ...</td>\n",
              "      <td>REABILITAC?ES - SESS?ES</td>\n",
              "      <td>PROCEDIMENTOS CLINICOS HOSPITALARES</td>\n",
              "      <td>PROCED. CLINICOS</td>\n",
              "      <td>10.0</td>\n",
              "      <td>Negado</td>\n",
              "    </tr>\n",
              "    <tr>\n",
              "      <th>318043</th>\n",
              "      <td>1135888</td>\n",
              "      <td>2957659</td>\n",
              "      <td>2459375</td>\n",
              "      <td>Guia de solicitac?o de prorrogac?o de internac?o</td>\n",
              "      <td>2446385.0</td>\n",
              "      <td>1</td>\n",
              "      <td>HOSPITAL</td>\n",
              "      <td>Medico cirurgi?o geral</td>\n",
              "      <td>N?o acidente</td>\n",
              "      <td>NaN</td>\n",
              "      <td>...</td>\n",
              "      <td>NaN</td>\n",
              "      <td>Solicitac?o de taxas .</td>\n",
              "      <td>Procedimentos</td>\n",
              "      <td>60024380</td>\n",
              "      <td>TAXA DE USO DO APARELHO PARA VIDEOLAPAROSCOPIA...</td>\n",
              "      <td>TAXA DE USO DE EQUIPAMENTO</td>\n",
              "      <td>TAXA DE USO DE EQUIPAMENTO</td>\n",
              "      <td>TAXAS</td>\n",
              "      <td>1.0</td>\n",
              "      <td>Autorizado</td>\n",
              "    </tr>\n",
              "    <tr>\n",
              "      <th>371069</th>\n",
              "      <td>859203</td>\n",
              "      <td>864162</td>\n",
              "      <td>2459230</td>\n",
              "      <td>Guia de solicitac?o de prorrogac?o de internac?o</td>\n",
              "      <td>2432536.0</td>\n",
              "      <td>1</td>\n",
              "      <td>HOSPITAL</td>\n",
              "      <td>Medico ortopedista e traumatologista</td>\n",
              "      <td>N?o acidente</td>\n",
              "      <td>NaN</td>\n",
              "      <td>...</td>\n",
              "      <td>S72</td>\n",
              "      <td>paciente com femur evoluindo com fratura de pl...</td>\n",
              "      <td>MAT/MED</td>\n",
              "      <td>73227277</td>\n",
              "      <td>TUSS - SUBSTITUTO DE ENXERTO OSSEO INORGANICO ...</td>\n",
              "      <td>ENXERTO OSSEO</td>\n",
              "      <td>TUSS - Materiais e OPME</td>\n",
              "      <td>TUSS</td>\n",
              "      <td>1.0</td>\n",
              "      <td>Autorizado</td>\n",
              "    </tr>\n",
              "  </tbody>\n",
              "</table>\n",
              "<p>20 rows × 26 columns</p>\n",
              "</div>"
            ]
          },
          "metadata": {},
          "execution_count": 48
        }
      ],
      "source": [
        "internacao[internacao.DS_TIPO_INTERNACAO.isna()]"
      ]
    },
    {
      "cell_type": "markdown",
      "metadata": {
        "id": "noueeFie2aB4"
      },
      "source": [
        "> Ok, ainda assim essas são internações, ao menos solicitação de prorrogação de internação."
      ]
    },
    {
      "cell_type": "markdown",
      "metadata": {
        "id": "-E-W5cxe2aB4"
      },
      "source": [
        "Todos esses passos reforçam a ideia de que se o DS_TIPO_GUIA não for de prorrogação ou solicitação de internação, podemos afirmar que não será internação."
      ]
    },
    {
      "cell_type": "markdown",
      "metadata": {
        "id": "PYJN_0ZF2aB4"
      },
      "source": [
        "> Portanto, vamos preencher os nulls de DS_TIPO_INTERNACAO com \"Não internação\""
      ]
    },
    {
      "cell_type": "code",
      "execution_count": 49,
      "metadata": {
        "pycharm": {
          "name": "#%%\n"
        },
        "id": "qcPSXSFc2aB5"
      },
      "outputs": [],
      "source": [
        "df.DS_TIPO_INTERNACAO.fillna(\"Nao internacao\", inplace=True)"
      ]
    },
    {
      "cell_type": "code",
      "execution_count": 50,
      "metadata": {
        "pycharm": {
          "name": "#%%\n"
        },
        "colab": {
          "base_uri": "https://localhost:8080/"
        },
        "id": "7FW63aS22aB5",
        "outputId": "73847d5a-e1ad-4a95-e8d6-b58718ba5e85"
      },
      "outputs": [
        {
          "output_type": "execute_result",
          "data": {
            "text/plain": [
              "NR_SEQ_REQUISICAO                 0\n",
              "NR_SEQ_ITEM                       0\n",
              "DT_REQUISICAO                     0\n",
              "DS_TIPO_GUIA                      0\n",
              "DT_NASCIMENTO                     0\n",
              "NR_PRODUTO                        0\n",
              "DS_TIPO_PREST_SOLICITANTE         0\n",
              "DS_CBO                            0\n",
              "DS_INDICACAO_ACIDENTE             0\n",
              "DS_TIPO_INTERNACAO                0\n",
              "DS_REGIME_INTERNACAO         291216\n",
              "DS_CARATER_ATENDIMENTO            0\n",
              "DS_TIPO_ACOMODACAO           291297\n",
              "QT_DIA_SOLICITADO            292410\n",
              "CD_GUIA_REFERENCIA           342733\n",
              "DS_TIPO_ATENDIMENTO          121337\n",
              "CD_CID                       235287\n",
              "DS_INDICACAO_CLINICA          87534\n",
              "DS_TIPO_ITEM                      0\n",
              "CD_ITEM                           0\n",
              "DS_ITEM                           0\n",
              "DS_CLASSE                         0\n",
              "DS_SUBGRUPO                       0\n",
              "DS_GRUPO                          0\n",
              "QT_SOLICITADA                     0\n",
              "DS_STATUS_ITEM                    0\n",
              "dtype: int64"
            ]
          },
          "metadata": {},
          "execution_count": 50
        }
      ],
      "source": [
        "df.isna().sum()"
      ]
    },
    {
      "cell_type": "markdown",
      "metadata": {
        "id": "sg03Ju2j2aB5"
      },
      "source": [
        ""
      ]
    },
    {
      "cell_type": "markdown",
      "metadata": {
        "id": "1yuDuuXV2aB5"
      },
      "source": [
        "#### DS_REGIME_INTERNACAO"
      ]
    },
    {
      "cell_type": "code",
      "execution_count": 51,
      "metadata": {
        "pycharm": {
          "name": "#%%\n"
        },
        "colab": {
          "base_uri": "https://localhost:8080/"
        },
        "id": "d8UxT4fv2aB5",
        "outputId": "a6db79a1-1e17-468d-d2df-d24ffd51b9d6"
      },
      "outputs": [
        {
          "output_type": "stream",
          "name": "stdout",
          "text": [
            "Porcentagem de nulos em REGIME_INTERNACAO:  70.46866833149429\n"
          ]
        }
      ],
      "source": [
        "print(\"Porcentagem de nulos em REGIME_INTERNACAO: \", df.DS_REGIME_INTERNACAO.isna().sum() * 100 / df.shape[0])"
      ]
    },
    {
      "cell_type": "markdown",
      "metadata": {
        "id": "A5lseEi62aB5"
      },
      "source": [
        "> É a mesma quantidade que tínhamos na feature anterior..."
      ]
    },
    {
      "cell_type": "code",
      "execution_count": 52,
      "metadata": {
        "pycharm": {
          "name": "#%%\n"
        },
        "colab": {
          "base_uri": "https://localhost:8080/"
        },
        "id": "ZgtwfYh12aB6",
        "outputId": "49ecd58d-425a-4187-eb71-b7cd4e2a0638"
      },
      "outputs": [
        {
          "output_type": "execute_result",
          "data": {
            "text/plain": [
              "array([nan, 'Hospitalar', 'Hospital-dia', 'Domiciliar'], dtype=object)"
            ]
          },
          "metadata": {},
          "execution_count": 52
        }
      ],
      "source": [
        "df.DS_REGIME_INTERNACAO.unique()"
      ]
    },
    {
      "cell_type": "code",
      "execution_count": 53,
      "metadata": {
        "pycharm": {
          "name": "#%%\n"
        },
        "colab": {
          "base_uri": "https://localhost:8080/"
        },
        "id": "4CwZibXQ2aB6",
        "outputId": "8d4be0ef-2ba4-4ec6-930d-e14ff3599dff"
      },
      "outputs": [
        {
          "output_type": "execute_result",
          "data": {
            "text/plain": [
              "array(['Nao internacao'], dtype=object)"
            ]
          },
          "metadata": {},
          "execution_count": 53
        }
      ],
      "source": [
        "internacao = df[df.DS_REGIME_INTERNACAO.isna()]  # onde o regime de internação é nulo...\n",
        "\n",
        "internacao.DS_TIPO_INTERNACAO.unique()"
      ]
    },
    {
      "cell_type": "markdown",
      "metadata": {
        "id": "fCbK3kRu2aB6"
      },
      "source": [
        "> ... O tipo de internação também é nulo!"
      ]
    },
    {
      "cell_type": "code",
      "execution_count": 54,
      "metadata": {
        "pycharm": {
          "name": "#%%\n"
        },
        "colab": {
          "base_uri": "https://localhost:8080/"
        },
        "id": "Ta8UXJWJ2aB6",
        "outputId": "a0ba2e87-ca82-4f56-c600-d041bb3d76ed"
      },
      "outputs": [
        {
          "output_type": "execute_result",
          "data": {
            "text/plain": [
              "array([nan], dtype=object)"
            ]
          },
          "metadata": {},
          "execution_count": 54
        }
      ],
      "source": [
        "## verificando a recíproca:\n",
        "internacao = df[df.DS_TIPO_INTERNACAO == \"Nao internacao\"]  # onde o tipo de internacao é não internação...\n",
        "\n",
        "internacao.DS_REGIME_INTERNACAO.unique()"
      ]
    },
    {
      "cell_type": "markdown",
      "metadata": {
        "id": "NF-xMM9Q2aB6"
      },
      "source": [
        "> ... O regime de internação também é nulo!"
      ]
    },
    {
      "cell_type": "markdown",
      "metadata": {
        "id": "2q1cCn942aB6"
      },
      "source": [
        ""
      ]
    },
    {
      "cell_type": "markdown",
      "metadata": {
        "pycharm": {
          "name": "#%% md\n"
        },
        "id": "ASjyw6Mq2aB6"
      },
      "source": [
        "Vamos preencher os nulos com \"não internacao\" tbm."
      ]
    },
    {
      "cell_type": "code",
      "execution_count": 55,
      "metadata": {
        "pycharm": {
          "name": "#%%\n"
        },
        "id": "adxKYuHh2aB7"
      },
      "outputs": [],
      "source": [
        "df.DS_REGIME_INTERNACAO.fillna(\"Nao internacao\", inplace=True)"
      ]
    },
    {
      "cell_type": "code",
      "execution_count": 56,
      "metadata": {
        "pycharm": {
          "name": "#%%\n"
        },
        "colab": {
          "base_uri": "https://localhost:8080/"
        },
        "id": "8O8Zntes2aB7",
        "outputId": "bfac7d3a-bce7-4899-acc1-a8fa9ca6c0fe"
      },
      "outputs": [
        {
          "output_type": "execute_result",
          "data": {
            "text/plain": [
              "NR_SEQ_REQUISICAO                 0\n",
              "NR_SEQ_ITEM                       0\n",
              "DT_REQUISICAO                     0\n",
              "DS_TIPO_GUIA                      0\n",
              "DT_NASCIMENTO                     0\n",
              "NR_PRODUTO                        0\n",
              "DS_TIPO_PREST_SOLICITANTE         0\n",
              "DS_CBO                            0\n",
              "DS_INDICACAO_ACIDENTE             0\n",
              "DS_TIPO_INTERNACAO                0\n",
              "DS_REGIME_INTERNACAO              0\n",
              "DS_CARATER_ATENDIMENTO            0\n",
              "DS_TIPO_ACOMODACAO           291297\n",
              "QT_DIA_SOLICITADO            292410\n",
              "CD_GUIA_REFERENCIA           342733\n",
              "DS_TIPO_ATENDIMENTO          121337\n",
              "CD_CID                       235287\n",
              "DS_INDICACAO_CLINICA          87534\n",
              "DS_TIPO_ITEM                      0\n",
              "CD_ITEM                           0\n",
              "DS_ITEM                           0\n",
              "DS_CLASSE                         0\n",
              "DS_SUBGRUPO                       0\n",
              "DS_GRUPO                          0\n",
              "QT_SOLICITADA                     0\n",
              "DS_STATUS_ITEM                    0\n",
              "dtype: int64"
            ]
          },
          "metadata": {},
          "execution_count": 56
        }
      ],
      "source": [
        "df.isna().sum()"
      ]
    },
    {
      "cell_type": "markdown",
      "metadata": {
        "id": "5YyLZdwl2aB7"
      },
      "source": [
        "#### DS_TIPO_ACOMODACAO"
      ]
    },
    {
      "cell_type": "code",
      "execution_count": 57,
      "metadata": {
        "pycharm": {
          "name": "#%%\n"
        },
        "colab": {
          "base_uri": "https://localhost:8080/"
        },
        "id": "x5al2gQC2aB7",
        "outputId": "b7caf8b2-8841-4feb-de0b-fe8ae7dbe7b2"
      },
      "outputs": [
        {
          "output_type": "stream",
          "name": "stdout",
          "text": [
            "Porcentagem de nulos em TIPO_ACOMODACAO: 0.7048826877286718\n"
          ]
        }
      ],
      "source": [
        "print(\"Porcentagem de nulos em TIPO_ACOMODACAO:\", df.DS_TIPO_ACOMODACAO.isna().sum() / df.shape[0])"
      ]
    },
    {
      "cell_type": "code",
      "execution_count": 58,
      "metadata": {
        "pycharm": {
          "name": "#%%\n"
        },
        "colab": {
          "base_uri": "https://localhost:8080/"
        },
        "id": "NqnGkj4o2aB7",
        "outputId": "fb4cec9d-6d50-44bc-8f6c-6bf7fb78a475"
      },
      "outputs": [
        {
          "output_type": "execute_result",
          "data": {
            "text/plain": [
              "Enfermaria                                 82398\n",
              "UTI Adulto                                 22608\n",
              "UTI                                        13064\n",
              "Hospital Dia                                2085\n",
              "UTI Neo-Natal                                777\n",
              "Home Care                                    644\n",
              "Apartamento                                  349\n",
              "TSI - Unidade de Terapia semi-Intensiva       34\n",
              "Name: DS_TIPO_ACOMODACAO, dtype: int64"
            ]
          },
          "metadata": {},
          "execution_count": 58
        }
      ],
      "source": [
        "df.DS_TIPO_ACOMODACAO.value_counts()"
      ]
    },
    {
      "cell_type": "code",
      "execution_count": 59,
      "metadata": {
        "pycharm": {
          "name": "#%%\n"
        },
        "colab": {
          "base_uri": "https://localhost:8080/"
        },
        "id": "tPdJqqNr2aB7",
        "outputId": "7ff14d77-3e00-4fa5-8e1b-d3016832fa3f"
      },
      "outputs": [
        {
          "output_type": "execute_result",
          "data": {
            "text/plain": [
              "Nao internacao    291210\n",
              "Cirurgica             79\n",
              "Clinica                8\n",
              "Name: DS_TIPO_INTERNACAO, dtype: int64"
            ]
          },
          "metadata": {},
          "execution_count": 59
        }
      ],
      "source": [
        "internacao = df[df.DS_TIPO_ACOMODACAO.isna()]  # onde o tipo de acomodacao é nulo\n",
        "\n",
        "internacao.DS_TIPO_INTERNACAO.value_counts()  # será que tem elementos diferentes de nao internacao?"
      ]
    },
    {
      "cell_type": "markdown",
      "metadata": {
        "id": "EHvOBWvJ2aB8"
      },
      "source": [
        "> Até há alguns que são internação e não possuem o tipo de acomodação, mas são poucos em relação aos que não são internação: 0.02% em comparação a classe de não internação."
      ]
    },
    {
      "cell_type": "markdown",
      "metadata": {
        "id": "_kunhaWW2aB8"
      },
      "source": [
        "Então podemos, mais uma vez, substituir os faltantes em tipo_acomodacao por não internação."
      ]
    },
    {
      "cell_type": "code",
      "execution_count": 60,
      "metadata": {
        "pycharm": {
          "name": "#%%\n"
        },
        "id": "8aQl37WG2aB8"
      },
      "outputs": [],
      "source": [
        "df.DS_TIPO_ACOMODACAO.fillna(\"Nao internacao\", inplace=True)"
      ]
    },
    {
      "cell_type": "code",
      "execution_count": 61,
      "metadata": {
        "pycharm": {
          "name": "#%%\n"
        },
        "colab": {
          "base_uri": "https://localhost:8080/"
        },
        "id": "Vn_gXHR62aB8",
        "outputId": "f134f270-d0f8-47ff-d09a-647361b10974"
      },
      "outputs": [
        {
          "output_type": "execute_result",
          "data": {
            "text/plain": [
              "NR_SEQ_REQUISICAO                 0\n",
              "NR_SEQ_ITEM                       0\n",
              "DT_REQUISICAO                     0\n",
              "DS_TIPO_GUIA                      0\n",
              "DT_NASCIMENTO                     0\n",
              "NR_PRODUTO                        0\n",
              "DS_TIPO_PREST_SOLICITANTE         0\n",
              "DS_CBO                            0\n",
              "DS_INDICACAO_ACIDENTE             0\n",
              "DS_TIPO_INTERNACAO                0\n",
              "DS_REGIME_INTERNACAO              0\n",
              "DS_CARATER_ATENDIMENTO            0\n",
              "DS_TIPO_ACOMODACAO                0\n",
              "QT_DIA_SOLICITADO            292410\n",
              "CD_GUIA_REFERENCIA           342733\n",
              "DS_TIPO_ATENDIMENTO          121337\n",
              "CD_CID                       235287\n",
              "DS_INDICACAO_CLINICA          87534\n",
              "DS_TIPO_ITEM                      0\n",
              "CD_ITEM                           0\n",
              "DS_ITEM                           0\n",
              "DS_CLASSE                         0\n",
              "DS_SUBGRUPO                       0\n",
              "DS_GRUPO                          0\n",
              "QT_SOLICITADA                     0\n",
              "DS_STATUS_ITEM                    0\n",
              "dtype: int64"
            ]
          },
          "metadata": {},
          "execution_count": 61
        }
      ],
      "source": [
        "df.isna().sum()"
      ]
    },
    {
      "cell_type": "markdown",
      "metadata": {
        "id": "09saarVo2aB8"
      },
      "source": [
        "#### QT_DIA_SOLICITADO"
      ]
    },
    {
      "cell_type": "code",
      "execution_count": 62,
      "metadata": {
        "pycharm": {
          "name": "#%%\n"
        },
        "colab": {
          "base_uri": "https://localhost:8080/"
        },
        "id": "S4hPVFPN2aB8",
        "outputId": "d974e084-58a5-4a0b-e615-f5bf5b5e6220"
      },
      "outputs": [
        {
          "output_type": "stream",
          "name": "stdout",
          "text": [
            "Porcentagem de nulos em QT_DIA_SOLICITADO: 0.7075759335617632\n"
          ]
        }
      ],
      "source": [
        "print(\"Porcentagem de nulos em QT_DIA_SOLICITADO:\", df.QT_DIA_SOLICITADO.isna().sum() / df.shape[0])"
      ]
    },
    {
      "cell_type": "code",
      "execution_count": 63,
      "metadata": {
        "pycharm": {
          "name": "#%%\n"
        },
        "colab": {
          "base_uri": "https://localhost:8080/"
        },
        "id": "yFXzgizr2aB9",
        "outputId": "8d8222b3-65e1-4251-ebd4-bcd1051cb678"
      },
      "outputs": [
        {
          "output_type": "execute_result",
          "data": {
            "text/plain": [
              "count    120846.000000\n",
              "mean          2.420072\n",
              "std           3.569685\n",
              "min           0.000000\n",
              "25%           1.000000\n",
              "50%           1.000000\n",
              "75%           3.000000\n",
              "max          55.000000\n",
              "Name: QT_DIA_SOLICITADO, dtype: float64"
            ]
          },
          "metadata": {},
          "execution_count": 63
        }
      ],
      "source": [
        "df.QT_DIA_SOLICITADO.describe()"
      ]
    },
    {
      "cell_type": "code",
      "execution_count": 64,
      "metadata": {
        "pycharm": {
          "name": "#%%\n"
        },
        "colab": {
          "base_uri": "https://localhost:8080/"
        },
        "id": "pBLUTUDT2aB9",
        "outputId": "b38f9d7b-42ef-446a-f91c-50e55322f1c7"
      },
      "outputs": [
        {
          "output_type": "execute_result",
          "data": {
            "text/plain": [
              "Nao internacao    291213\n",
              "Clinica              879\n",
              "Cirurgica            257\n",
              "Pediatrica            37\n",
              "Obstetrica            16\n",
              "Psiquiatrica           8\n",
              "Name: DS_TIPO_INTERNACAO, dtype: int64"
            ]
          },
          "metadata": {},
          "execution_count": 64
        }
      ],
      "source": [
        "internacao = df[df.QT_DIA_SOLICITADO.isna()]  # onde a qtd de dias solicitados é nula\n",
        "\n",
        "internacao.DS_TIPO_INTERNACAO.value_counts()  # será que tem elementos diferentes de nao internacao?"
      ]
    },
    {
      "cell_type": "markdown",
      "metadata": {
        "id": "ct5iBHx52aB9"
      },
      "source": [
        "> Temos alguns elementos consideráveis além de \"Não internações\""
      ]
    },
    {
      "cell_type": "markdown",
      "metadata": {
        "id": "sLdigJ832aB9"
      },
      "source": [
        "> Substituir os nulos por zeros não é interessante, visto que podemos perder a informação de não internações e aquelas internações que não duram um dia completo."
      ]
    },
    {
      "cell_type": "code",
      "execution_count": 65,
      "metadata": {
        "pycharm": {
          "name": "#%%\n"
        },
        "colab": {
          "base_uri": "https://localhost:8080/",
          "height": 0
        },
        "id": "zGtARcLJ2aB9",
        "outputId": "5dfcf440-39ab-4b94-ae30-306718bfa04e"
      },
      "outputs": [
        {
          "output_type": "execute_result",
          "data": {
            "text/plain": [
              "        NR_SEQ_REQUISICAO  NR_SEQ_ITEM  DT_REQUISICAO  \\\n",
              "29                1496958       957203        2459560   \n",
              "71                1436306       949967        2459530   \n",
              "109               1269154       921174        2459445   \n",
              "142                644542       832501        2459108   \n",
              "174               1126370      2925734        2459370   \n",
              "...                   ...          ...            ...   \n",
              "413133            1006594       882129        2459308   \n",
              "413137            1129457      2936810        2459373   \n",
              "413185            1246788      3330571        2459433   \n",
              "413236            1418740       947833        2459522   \n",
              "413246            1088721      2800823        2459352   \n",
              "\n",
              "                                            DS_TIPO_GUIA  DT_NASCIMENTO  \\\n",
              "29      Guia de solicitac?o de prorrogac?o de internac?o      2441592.0   \n",
              "71      Guia de solicitac?o de prorrogac?o de internac?o      2443808.0   \n",
              "109     Guia de solicitac?o de prorrogac?o de internac?o      2427397.0   \n",
              "142     Guia de solicitac?o de prorrogac?o de internac?o      2430501.0   \n",
              "174     Guia de solicitac?o de prorrogac?o de internac?o      2458612.0   \n",
              "...                                                  ...            ...   \n",
              "413133  Guia de solicitac?o de prorrogac?o de internac?o      2458702.0   \n",
              "413137  Guia de solicitac?o de prorrogac?o de internac?o      2429383.0   \n",
              "413185  Guia de solicitac?o de prorrogac?o de internac?o      2452470.0   \n",
              "413236                    Guia de solicitac?o internac?o      2434142.0   \n",
              "413246  Guia de solicitac?o de prorrogac?o de internac?o      2433012.0   \n",
              "\n",
              "        NR_PRODUTO DS_TIPO_PREST_SOLICITANTE  \\\n",
              "29               1                  HOSPITAL   \n",
              "71               1                  HOSPITAL   \n",
              "109              1                  HOSPITAL   \n",
              "142              1                  HOSPITAL   \n",
              "174              1                  HOSPITAL   \n",
              "...            ...                       ...   \n",
              "413133           1                  HOSPITAL   \n",
              "413137           1                  HOSPITAL   \n",
              "413185           1                  HOSPITAL   \n",
              "413236           1                   CLINICA   \n",
              "413246           1                  HOSPITAL   \n",
              "\n",
              "                                         DS_CBO DS_INDICACAO_ACIDENTE  \\\n",
              "29      Medico cirurgi?o do aparelho digestivo           N?o acidente   \n",
              "71                               Medico clinico          N?o acidente   \n",
              "109                              Medico clinico          N?o acidente   \n",
              "142                     Medico anestesiologista          N?o acidente   \n",
              "174                              Medico clinico          N?o acidente   \n",
              "...                                         ...                   ...   \n",
              "413133                          Medico pediatra          N?o acidente   \n",
              "413137                      Medico Nefrologista                Outros   \n",
              "413185                           Medico clinico          N?o acidente   \n",
              "413236                   Medico  neurocirurgi?o          N?o acidente   \n",
              "413246                           Medico clinico                Outros   \n",
              "\n",
              "       DS_TIPO_INTERNACAO  ... CD_CID  \\\n",
              "29              Cirurgica  ...    NaN   \n",
              "71              Cirurgica  ...    NaN   \n",
              "109               Clinica  ...    NaN   \n",
              "142             Cirurgica  ...    C18   \n",
              "174               Clinica  ...    NaN   \n",
              "...                   ...  ...    ...   \n",
              "413133         Pediatrica  ...    NaN   \n",
              "413137            Clinica  ...    NaN   \n",
              "413185            Clinica  ...    T14   \n",
              "413236          Cirurgica  ...    NaN   \n",
              "413246            Clinica  ...    C22   \n",
              "\n",
              "                                     DS_INDICACAO_CLINICA   DS_TIPO_ITEM  \\\n",
              "29      SOLICITAC?O DE PROCEDIMENTOS REFERENTE A INTER...        MAT/MED   \n",
              "71      Paciente vitima de acidente automobilistico, o...        MAT/MED   \n",
              "109     Solicitac?o de material utilizado para procedi...        MAT/MED   \n",
              "142     Realizado acesso venoso central e cateterismo ...        MAT/MED   \n",
              "174     PACIENTE COM TOSSE, ESFORCO RESPIRATORIO, PROS...  Procedimentos   \n",
              "...                                                   ...            ...   \n",
              "413133  PACIENTE DIAGNOSTICADO COM PIELONFRITE + DESID...        MAT/MED   \n",
              "413137  PACIENTE CHEGOU GRAVE NESTA UTI, TENDO QUE SER...  Procedimentos   \n",
              "413185  Paciente com clavicula .\\n\\nATENC?O: Por favor...  Procedimentos   \n",
              "413236  PACIENTE EM INVESTIGAC?O DE ANEURISMA CEREBRAL...        MAT/MED   \n",
              "413246   PACIENTE PERMANECE ESTAVEL, ORIENTADO, AFEBRI...  Procedimentos   \n",
              "\n",
              "         CD_ITEM                                            DS_ITEM  \\\n",
              "29         39602                     BRIDION 100MG/ML 10FA 2ML - FA   \n",
              "71        275594  BAINHA INTRODUTORA P/CATETER MEDIKIT 5FRX11CM ...   \n",
              "109       257164  KIT GASTROSTOMIA ENDOSCOPICA PERCUTANEA 24FR -...   \n",
              "142        45208  CATETER VENOSO CENTRAL DUPLO LUMEN C/SER.RAULE...   \n",
              "174     60025662  TAXA DE USO DE BOMBA DE INFUS?O FORA DA UTI E ...   \n",
              "...          ...                                                ...   \n",
              "413133    283238           EQUIPO ICASET P/BOMBA INFUSAO ICATU - UN   \n",
              "413137  10101144                           SESS?O DE FONOAUDIOLOGIA   \n",
              "413185  60023112                           PORTE 2 (CIRURGIA MEDIA)   \n",
              "413236    157269           STENT REDIRECIONADOR FLUXO 3,5X20MM - UN   \n",
              "413246  40301400                                    CALCIO, DOSAGEM   \n",
              "\n",
              "                                                DS_CLASSE  \\\n",
              "29      OUTROS PRODUTOS NAO ENQUADRADOS EM CLASSE TERA...   \n",
              "71                                      Material especial   \n",
              "109                                          Instrumental   \n",
              "142                                               Protese   \n",
              "174                            TAXA DE USO DE EQUIPAMENTO   \n",
              "...                                                   ...   \n",
              "413133                                Material de consumo   \n",
              "413137                                          CONSULTAS   \n",
              "413185                                EM CENTRO CIRURGICO   \n",
              "413236                                             Ortese   \n",
              "413246                                         BIOQUIMICA   \n",
              "\n",
              "                       DS_SUBGRUPO                             DS_GRUPO  \\\n",
              "29                 SISTEMA NERVOSO                           Brasindice   \n",
              "71             Material Hospitalar                               Simpro   \n",
              "109            Material Hospitalar                               Simpro   \n",
              "142            Material Hospitalar                               Simpro   \n",
              "174     TAXA DE USO DE EQUIPAMENTO                                TAXAS   \n",
              "...                            ...                                  ...   \n",
              "413133         Material Hospitalar                               Simpro   \n",
              "413137                   CONSULTAS                       PROCED. GERAIS   \n",
              "413185                TAXA DE SALA                                TAXAS   \n",
              "413236         Material Hospitalar                               Simpro   \n",
              "413246      MEDICINA LABORATORIAL   PROCED. DIAGNOSTICOS E TERAPEUTICOS   \n",
              "\n",
              "       QT_SOLICITADA  DS_STATUS_ITEM  \n",
              "29               1.0      Autorizado  \n",
              "71               1.0          Negado  \n",
              "109              1.0      Autorizado  \n",
              "142              1.0      Autorizado  \n",
              "174              1.0      Autorizado  \n",
              "...              ...             ...  \n",
              "413133           1.0      Autorizado  \n",
              "413137           4.0      Autorizado  \n",
              "413185           1.0          Negado  \n",
              "413236           1.0      Autorizado  \n",
              "413246           2.0          Negado  \n",
              "\n",
              "[16757 rows x 26 columns]"
            ],
            "text/html": [
              "<div>\n",
              "<style scoped>\n",
              "    .dataframe tbody tr th:only-of-type {\n",
              "        vertical-align: middle;\n",
              "    }\n",
              "\n",
              "    .dataframe tbody tr th {\n",
              "        vertical-align: top;\n",
              "    }\n",
              "\n",
              "    .dataframe thead th {\n",
              "        text-align: right;\n",
              "    }\n",
              "</style>\n",
              "<table border=\"1\" class=\"dataframe\">\n",
              "  <thead>\n",
              "    <tr style=\"text-align: right;\">\n",
              "      <th></th>\n",
              "      <th>NR_SEQ_REQUISICAO</th>\n",
              "      <th>NR_SEQ_ITEM</th>\n",
              "      <th>DT_REQUISICAO</th>\n",
              "      <th>DS_TIPO_GUIA</th>\n",
              "      <th>DT_NASCIMENTO</th>\n",
              "      <th>NR_PRODUTO</th>\n",
              "      <th>DS_TIPO_PREST_SOLICITANTE</th>\n",
              "      <th>DS_CBO</th>\n",
              "      <th>DS_INDICACAO_ACIDENTE</th>\n",
              "      <th>DS_TIPO_INTERNACAO</th>\n",
              "      <th>...</th>\n",
              "      <th>CD_CID</th>\n",
              "      <th>DS_INDICACAO_CLINICA</th>\n",
              "      <th>DS_TIPO_ITEM</th>\n",
              "      <th>CD_ITEM</th>\n",
              "      <th>DS_ITEM</th>\n",
              "      <th>DS_CLASSE</th>\n",
              "      <th>DS_SUBGRUPO</th>\n",
              "      <th>DS_GRUPO</th>\n",
              "      <th>QT_SOLICITADA</th>\n",
              "      <th>DS_STATUS_ITEM</th>\n",
              "    </tr>\n",
              "  </thead>\n",
              "  <tbody>\n",
              "    <tr>\n",
              "      <th>29</th>\n",
              "      <td>1496958</td>\n",
              "      <td>957203</td>\n",
              "      <td>2459560</td>\n",
              "      <td>Guia de solicitac?o de prorrogac?o de internac?o</td>\n",
              "      <td>2441592.0</td>\n",
              "      <td>1</td>\n",
              "      <td>HOSPITAL</td>\n",
              "      <td>Medico cirurgi?o do aparelho digestivo</td>\n",
              "      <td>N?o acidente</td>\n",
              "      <td>Cirurgica</td>\n",
              "      <td>...</td>\n",
              "      <td>NaN</td>\n",
              "      <td>SOLICITAC?O DE PROCEDIMENTOS REFERENTE A INTER...</td>\n",
              "      <td>MAT/MED</td>\n",
              "      <td>39602</td>\n",
              "      <td>BRIDION 100MG/ML 10FA 2ML - FA</td>\n",
              "      <td>OUTROS PRODUTOS NAO ENQUADRADOS EM CLASSE TERA...</td>\n",
              "      <td>SISTEMA NERVOSO</td>\n",
              "      <td>Brasindice</td>\n",
              "      <td>1.0</td>\n",
              "      <td>Autorizado</td>\n",
              "    </tr>\n",
              "    <tr>\n",
              "      <th>71</th>\n",
              "      <td>1436306</td>\n",
              "      <td>949967</td>\n",
              "      <td>2459530</td>\n",
              "      <td>Guia de solicitac?o de prorrogac?o de internac?o</td>\n",
              "      <td>2443808.0</td>\n",
              "      <td>1</td>\n",
              "      <td>HOSPITAL</td>\n",
              "      <td>Medico clinico</td>\n",
              "      <td>N?o acidente</td>\n",
              "      <td>Cirurgica</td>\n",
              "      <td>...</td>\n",
              "      <td>NaN</td>\n",
              "      <td>Paciente vitima de acidente automobilistico, o...</td>\n",
              "      <td>MAT/MED</td>\n",
              "      <td>275594</td>\n",
              "      <td>BAINHA INTRODUTORA P/CATETER MEDIKIT 5FRX11CM ...</td>\n",
              "      <td>Material especial</td>\n",
              "      <td>Material Hospitalar</td>\n",
              "      <td>Simpro</td>\n",
              "      <td>1.0</td>\n",
              "      <td>Negado</td>\n",
              "    </tr>\n",
              "    <tr>\n",
              "      <th>109</th>\n",
              "      <td>1269154</td>\n",
              "      <td>921174</td>\n",
              "      <td>2459445</td>\n",
              "      <td>Guia de solicitac?o de prorrogac?o de internac?o</td>\n",
              "      <td>2427397.0</td>\n",
              "      <td>1</td>\n",
              "      <td>HOSPITAL</td>\n",
              "      <td>Medico clinico</td>\n",
              "      <td>N?o acidente</td>\n",
              "      <td>Clinica</td>\n",
              "      <td>...</td>\n",
              "      <td>NaN</td>\n",
              "      <td>Solicitac?o de material utilizado para procedi...</td>\n",
              "      <td>MAT/MED</td>\n",
              "      <td>257164</td>\n",
              "      <td>KIT GASTROSTOMIA ENDOSCOPICA PERCUTANEA 24FR -...</td>\n",
              "      <td>Instrumental</td>\n",
              "      <td>Material Hospitalar</td>\n",
              "      <td>Simpro</td>\n",
              "      <td>1.0</td>\n",
              "      <td>Autorizado</td>\n",
              "    </tr>\n",
              "    <tr>\n",
              "      <th>142</th>\n",
              "      <td>644542</td>\n",
              "      <td>832501</td>\n",
              "      <td>2459108</td>\n",
              "      <td>Guia de solicitac?o de prorrogac?o de internac?o</td>\n",
              "      <td>2430501.0</td>\n",
              "      <td>1</td>\n",
              "      <td>HOSPITAL</td>\n",
              "      <td>Medico anestesiologista</td>\n",
              "      <td>N?o acidente</td>\n",
              "      <td>Cirurgica</td>\n",
              "      <td>...</td>\n",
              "      <td>C18</td>\n",
              "      <td>Realizado acesso venoso central e cateterismo ...</td>\n",
              "      <td>MAT/MED</td>\n",
              "      <td>45208</td>\n",
              "      <td>CATETER VENOSO CENTRAL DUPLO LUMEN C/SER.RAULE...</td>\n",
              "      <td>Protese</td>\n",
              "      <td>Material Hospitalar</td>\n",
              "      <td>Simpro</td>\n",
              "      <td>1.0</td>\n",
              "      <td>Autorizado</td>\n",
              "    </tr>\n",
              "    <tr>\n",
              "      <th>174</th>\n",
              "      <td>1126370</td>\n",
              "      <td>2925734</td>\n",
              "      <td>2459370</td>\n",
              "      <td>Guia de solicitac?o de prorrogac?o de internac?o</td>\n",
              "      <td>2458612.0</td>\n",
              "      <td>1</td>\n",
              "      <td>HOSPITAL</td>\n",
              "      <td>Medico clinico</td>\n",
              "      <td>N?o acidente</td>\n",
              "      <td>Clinica</td>\n",
              "      <td>...</td>\n",
              "      <td>NaN</td>\n",
              "      <td>PACIENTE COM TOSSE, ESFORCO RESPIRATORIO, PROS...</td>\n",
              "      <td>Procedimentos</td>\n",
              "      <td>60025662</td>\n",
              "      <td>TAXA DE USO DE BOMBA DE INFUS?O FORA DA UTI E ...</td>\n",
              "      <td>TAXA DE USO DE EQUIPAMENTO</td>\n",
              "      <td>TAXA DE USO DE EQUIPAMENTO</td>\n",
              "      <td>TAXAS</td>\n",
              "      <td>1.0</td>\n",
              "      <td>Autorizado</td>\n",
              "    </tr>\n",
              "    <tr>\n",
              "      <th>...</th>\n",
              "      <td>...</td>\n",
              "      <td>...</td>\n",
              "      <td>...</td>\n",
              "      <td>...</td>\n",
              "      <td>...</td>\n",
              "      <td>...</td>\n",
              "      <td>...</td>\n",
              "      <td>...</td>\n",
              "      <td>...</td>\n",
              "      <td>...</td>\n",
              "      <td>...</td>\n",
              "      <td>...</td>\n",
              "      <td>...</td>\n",
              "      <td>...</td>\n",
              "      <td>...</td>\n",
              "      <td>...</td>\n",
              "      <td>...</td>\n",
              "      <td>...</td>\n",
              "      <td>...</td>\n",
              "      <td>...</td>\n",
              "      <td>...</td>\n",
              "    </tr>\n",
              "    <tr>\n",
              "      <th>413133</th>\n",
              "      <td>1006594</td>\n",
              "      <td>882129</td>\n",
              "      <td>2459308</td>\n",
              "      <td>Guia de solicitac?o de prorrogac?o de internac?o</td>\n",
              "      <td>2458702.0</td>\n",
              "      <td>1</td>\n",
              "      <td>HOSPITAL</td>\n",
              "      <td>Medico pediatra</td>\n",
              "      <td>N?o acidente</td>\n",
              "      <td>Pediatrica</td>\n",
              "      <td>...</td>\n",
              "      <td>NaN</td>\n",
              "      <td>PACIENTE DIAGNOSTICADO COM PIELONFRITE + DESID...</td>\n",
              "      <td>MAT/MED</td>\n",
              "      <td>283238</td>\n",
              "      <td>EQUIPO ICASET P/BOMBA INFUSAO ICATU - UN</td>\n",
              "      <td>Material de consumo</td>\n",
              "      <td>Material Hospitalar</td>\n",
              "      <td>Simpro</td>\n",
              "      <td>1.0</td>\n",
              "      <td>Autorizado</td>\n",
              "    </tr>\n",
              "    <tr>\n",
              "      <th>413137</th>\n",
              "      <td>1129457</td>\n",
              "      <td>2936810</td>\n",
              "      <td>2459373</td>\n",
              "      <td>Guia de solicitac?o de prorrogac?o de internac?o</td>\n",
              "      <td>2429383.0</td>\n",
              "      <td>1</td>\n",
              "      <td>HOSPITAL</td>\n",
              "      <td>Medico Nefrologista</td>\n",
              "      <td>Outros</td>\n",
              "      <td>Clinica</td>\n",
              "      <td>...</td>\n",
              "      <td>NaN</td>\n",
              "      <td>PACIENTE CHEGOU GRAVE NESTA UTI, TENDO QUE SER...</td>\n",
              "      <td>Procedimentos</td>\n",
              "      <td>10101144</td>\n",
              "      <td>SESS?O DE FONOAUDIOLOGIA</td>\n",
              "      <td>CONSULTAS</td>\n",
              "      <td>CONSULTAS</td>\n",
              "      <td>PROCED. GERAIS</td>\n",
              "      <td>4.0</td>\n",
              "      <td>Autorizado</td>\n",
              "    </tr>\n",
              "    <tr>\n",
              "      <th>413185</th>\n",
              "      <td>1246788</td>\n",
              "      <td>3330571</td>\n",
              "      <td>2459433</td>\n",
              "      <td>Guia de solicitac?o de prorrogac?o de internac?o</td>\n",
              "      <td>2452470.0</td>\n",
              "      <td>1</td>\n",
              "      <td>HOSPITAL</td>\n",
              "      <td>Medico clinico</td>\n",
              "      <td>N?o acidente</td>\n",
              "      <td>Clinica</td>\n",
              "      <td>...</td>\n",
              "      <td>T14</td>\n",
              "      <td>Paciente com clavicula .\\n\\nATENC?O: Por favor...</td>\n",
              "      <td>Procedimentos</td>\n",
              "      <td>60023112</td>\n",
              "      <td>PORTE 2 (CIRURGIA MEDIA)</td>\n",
              "      <td>EM CENTRO CIRURGICO</td>\n",
              "      <td>TAXA DE SALA</td>\n",
              "      <td>TAXAS</td>\n",
              "      <td>1.0</td>\n",
              "      <td>Negado</td>\n",
              "    </tr>\n",
              "    <tr>\n",
              "      <th>413236</th>\n",
              "      <td>1418740</td>\n",
              "      <td>947833</td>\n",
              "      <td>2459522</td>\n",
              "      <td>Guia de solicitac?o internac?o</td>\n",
              "      <td>2434142.0</td>\n",
              "      <td>1</td>\n",
              "      <td>CLINICA</td>\n",
              "      <td>Medico  neurocirurgi?o</td>\n",
              "      <td>N?o acidente</td>\n",
              "      <td>Cirurgica</td>\n",
              "      <td>...</td>\n",
              "      <td>NaN</td>\n",
              "      <td>PACIENTE EM INVESTIGAC?O DE ANEURISMA CEREBRAL...</td>\n",
              "      <td>MAT/MED</td>\n",
              "      <td>157269</td>\n",
              "      <td>STENT REDIRECIONADOR FLUXO 3,5X20MM - UN</td>\n",
              "      <td>Ortese</td>\n",
              "      <td>Material Hospitalar</td>\n",
              "      <td>Simpro</td>\n",
              "      <td>1.0</td>\n",
              "      <td>Autorizado</td>\n",
              "    </tr>\n",
              "    <tr>\n",
              "      <th>413246</th>\n",
              "      <td>1088721</td>\n",
              "      <td>2800823</td>\n",
              "      <td>2459352</td>\n",
              "      <td>Guia de solicitac?o de prorrogac?o de internac?o</td>\n",
              "      <td>2433012.0</td>\n",
              "      <td>1</td>\n",
              "      <td>HOSPITAL</td>\n",
              "      <td>Medico clinico</td>\n",
              "      <td>Outros</td>\n",
              "      <td>Clinica</td>\n",
              "      <td>...</td>\n",
              "      <td>C22</td>\n",
              "      <td>PACIENTE PERMANECE ESTAVEL, ORIENTADO, AFEBRI...</td>\n",
              "      <td>Procedimentos</td>\n",
              "      <td>40301400</td>\n",
              "      <td>CALCIO, DOSAGEM</td>\n",
              "      <td>BIOQUIMICA</td>\n",
              "      <td>MEDICINA LABORATORIAL</td>\n",
              "      <td>PROCED. DIAGNOSTICOS E TERAPEUTICOS</td>\n",
              "      <td>2.0</td>\n",
              "      <td>Negado</td>\n",
              "    </tr>\n",
              "  </tbody>\n",
              "</table>\n",
              "<p>16757 rows × 26 columns</p>\n",
              "</div>"
            ]
          },
          "metadata": {},
          "execution_count": 65
        }
      ],
      "source": [
        "df[df.QT_DIA_SOLICITADO == 0]"
      ]
    },
    {
      "cell_type": "code",
      "execution_count": 66,
      "metadata": {
        "pycharm": {
          "name": "#%%\n"
        },
        "colab": {
          "base_uri": "https://localhost:8080/"
        },
        "id": "1qKIlw_y2aB9",
        "outputId": "928a0478-be8f-43a2-d1bf-65ffda88e2c5"
      },
      "outputs": [
        {
          "output_type": "execute_result",
          "data": {
            "text/plain": [
              "Guia de solicitac?o de prorrogac?o de internac?o    14624\n",
              "Guia de solicitac?o internac?o                       2133\n",
              "Name: DS_TIPO_GUIA, dtype: int64"
            ]
          },
          "metadata": {},
          "execution_count": 66
        }
      ],
      "source": [
        "df[df.QT_DIA_SOLICITADO == 0].DS_TIPO_GUIA.value_counts()"
      ]
    },
    {
      "cell_type": "markdown",
      "metadata": {
        "id": "XzVVsCDx2aB-"
      },
      "source": [
        "> Já sei! Podemos adicionar 1 dia a todos os dias solicitados, pois mesmo os que estão zerados e significam que a pessoa entrou e saiu no mesmo dia vire 1, e aqueles que não passaram por internação não tem dias solicitados (0)."
      ]
    },
    {
      "cell_type": "markdown",
      "metadata": {
        "id": "p60c8BtB2aB-"
      },
      "source": [
        "> OBS: Lendo o DS_INDICACAO_CLINICA, tem casos graves que, mesmo sem ser especialista da área de saúde, dá para perceber que a pessoa não vai sair no mesmo dia, pois são acidentes gravíssimos, alguns até em coma. Portanto, não é confiável dizer que 0 dias solicitados significam que entram e saem no mesmo dia. Mas ainda assim não invalida a ideia de adicionar 1 dia a todos os preenchidos."
      ]
    },
    {
      "cell_type": "code",
      "execution_count": 67,
      "metadata": {
        "pycharm": {
          "name": "#%%\n"
        },
        "id": "ZgpuqZGf2aB-"
      },
      "outputs": [],
      "source": [
        "df.QT_DIA_SOLICITADO.fillna(-1, inplace=True)"
      ]
    },
    {
      "cell_type": "code",
      "execution_count": 68,
      "metadata": {
        "pycharm": {
          "name": "#%%\n"
        },
        "id": "TPZ705kv2aB-"
      },
      "outputs": [],
      "source": [
        "df.QT_DIA_SOLICITADO += 1"
      ]
    },
    {
      "cell_type": "code",
      "execution_count": 69,
      "metadata": {
        "pycharm": {
          "name": "#%%\n"
        },
        "colab": {
          "base_uri": "https://localhost:8080/"
        },
        "id": "RhbZx-8w2aB-",
        "outputId": "76cf29c0-9583-4778-dddf-c441ec410629"
      },
      "outputs": [
        {
          "output_type": "execute_result",
          "data": {
            "text/plain": [
              "count    413256.000000\n",
              "mean          1.000111\n",
              "std           2.479208\n",
              "min           0.000000\n",
              "25%           0.000000\n",
              "50%           0.000000\n",
              "75%           2.000000\n",
              "max          56.000000\n",
              "Name: QT_DIA_SOLICITADO, dtype: float64"
            ]
          },
          "metadata": {},
          "execution_count": 69
        }
      ],
      "source": [
        "df.QT_DIA_SOLICITADO.describe()"
      ]
    },
    {
      "cell_type": "markdown",
      "metadata": {
        "id": "Hv_fk9FB2aB-"
      },
      "source": [
        "> Feito!"
      ]
    },
    {
      "cell_type": "code",
      "execution_count": 70,
      "metadata": {
        "pycharm": {
          "name": "#%%\n"
        },
        "colab": {
          "base_uri": "https://localhost:8080/"
        },
        "id": "OLEAO3iw2aB_",
        "outputId": "637aa555-26ed-4c69-c114-da5055dfafb5"
      },
      "outputs": [
        {
          "output_type": "execute_result",
          "data": {
            "text/plain": [
              "NR_SEQ_REQUISICAO                 0\n",
              "NR_SEQ_ITEM                       0\n",
              "DT_REQUISICAO                     0\n",
              "DS_TIPO_GUIA                      0\n",
              "DT_NASCIMENTO                     0\n",
              "NR_PRODUTO                        0\n",
              "DS_TIPO_PREST_SOLICITANTE         0\n",
              "DS_CBO                            0\n",
              "DS_INDICACAO_ACIDENTE             0\n",
              "DS_TIPO_INTERNACAO                0\n",
              "DS_REGIME_INTERNACAO              0\n",
              "DS_CARATER_ATENDIMENTO            0\n",
              "DS_TIPO_ACOMODACAO                0\n",
              "QT_DIA_SOLICITADO                 0\n",
              "CD_GUIA_REFERENCIA           342733\n",
              "DS_TIPO_ATENDIMENTO          121337\n",
              "CD_CID                       235287\n",
              "DS_INDICACAO_CLINICA          87534\n",
              "DS_TIPO_ITEM                      0\n",
              "CD_ITEM                           0\n",
              "DS_ITEM                           0\n",
              "DS_CLASSE                         0\n",
              "DS_SUBGRUPO                       0\n",
              "DS_GRUPO                          0\n",
              "QT_SOLICITADA                     0\n",
              "DS_STATUS_ITEM                    0\n",
              "dtype: int64"
            ]
          },
          "metadata": {},
          "execution_count": 70
        }
      ],
      "source": [
        "df.isna().sum()"
      ]
    },
    {
      "cell_type": "markdown",
      "metadata": {
        "id": "l84YHC_F2aB_"
      },
      "source": [
        "#### CD_GUIA_REFERENCIA"
      ]
    },
    {
      "cell_type": "code",
      "execution_count": 71,
      "metadata": {
        "pycharm": {
          "name": "#%%\n"
        },
        "colab": {
          "base_uri": "https://localhost:8080/",
          "height": 0
        },
        "id": "gFwLnPwk2aB_",
        "outputId": "53f89f3b-0ee3-4b17-f2c6-ce4c4b7690b2"
      },
      "outputs": [
        {
          "output_type": "execute_result",
          "data": {
            "text/plain": [
              "        NR_SEQ_REQUISICAO  NR_SEQ_ITEM  DT_REQUISICAO  \\\n",
              "0                 1560479      4348670        2459598   \n",
              "29                1496958       957203        2459560   \n",
              "35                1495227      4145240        2459559   \n",
              "40                1412669       947049        2459517   \n",
              "43                1406396      3861670        2459515   \n",
              "...                   ...          ...            ...   \n",
              "413246            1088721      2800823        2459352   \n",
              "413247            1517446      4212743        2459572   \n",
              "413249            1474098      4080054        2459549   \n",
              "413260            1069787       889198        2459342   \n",
              "413263            1489829      4129003        2459557   \n",
              "\n",
              "                                            DS_TIPO_GUIA  DT_NASCIMENTO  \\\n",
              "0                            Guia de solicitac?o SP/SADT      2440511.0   \n",
              "29      Guia de solicitac?o de prorrogac?o de internac?o      2441592.0   \n",
              "35      Guia de solicitac?o de prorrogac?o de internac?o      2430438.0   \n",
              "40      Guia de solicitac?o de prorrogac?o de internac?o      2437050.0   \n",
              "43      Guia de solicitac?o de prorrogac?o de internac?o      2439209.0   \n",
              "...                                                  ...            ...   \n",
              "413246  Guia de solicitac?o de prorrogac?o de internac?o      2433012.0   \n",
              "413247  Guia de solicitac?o de prorrogac?o de internac?o      2451913.0   \n",
              "413249  Guia de solicitac?o de prorrogac?o de internac?o      2429762.0   \n",
              "413260  Guia de solicitac?o de prorrogac?o de internac?o      2438592.0   \n",
              "413263  Guia de solicitac?o de prorrogac?o de internac?o      2438718.0   \n",
              "\n",
              "        NR_PRODUTO DS_TIPO_PREST_SOLICITANTE  \\\n",
              "0                1                  HOSPITAL   \n",
              "29               1                  HOSPITAL   \n",
              "35               1                  HOSPITAL   \n",
              "40               1                  HOSPITAL   \n",
              "43               1                  HOSPITAL   \n",
              "...            ...                       ...   \n",
              "413246           1                  HOSPITAL   \n",
              "413247           1                  HOSPITAL   \n",
              "413249           1                       UTI   \n",
              "413260           1                  HOSPITAL   \n",
              "413263           1                  HOSPITAL   \n",
              "\n",
              "                                         DS_CBO DS_INDICACAO_ACIDENTE  \\\n",
              "0         Medico ortopedista e traumatologista           N?o acidente   \n",
              "29      Medico cirurgi?o do aparelho digestivo           N?o acidente   \n",
              "35                               Medico clinico          N?o acidente   \n",
              "40                       Medico  neurocirurgi?o          N?o acidente   \n",
              "43                               Medico clinico          N?o acidente   \n",
              "...                                         ...                   ...   \n",
              "413246                           Medico clinico                Outros   \n",
              "413247         Medico ginecologista e obstetra           N?o acidente   \n",
              "413249            Medico em medicina intensiva           N?o acidente   \n",
              "413260                       Medico urologista           N?o acidente   \n",
              "413263                  Medico cirurgi?o geral           N?o acidente   \n",
              "\n",
              "       DS_TIPO_INTERNACAO  ... CD_CID  \\\n",
              "0          Nao internacao  ...    NaN   \n",
              "29              Cirurgica  ...    NaN   \n",
              "35                Clinica  ...    NaN   \n",
              "40              Cirurgica  ...    NaN   \n",
              "43                Clinica  ...   R500   \n",
              "...                   ...  ...    ...   \n",
              "413246            Clinica  ...    C22   \n",
              "413247            Clinica  ...    NaN   \n",
              "413249            Clinica  ...    NaN   \n",
              "413260            Clinica  ...    NaN   \n",
              "413263          Cirurgica  ...    NaN   \n",
              "\n",
              "                                     DS_INDICACAO_CLINICA   DS_TIPO_ITEM  \\\n",
              "0                                                     NaN  Procedimentos   \n",
              "29      SOLICITAC?O DE PROCEDIMENTOS REFERENTE A INTER...        MAT/MED   \n",
              "35                       SOLICITACAO REFERENTE 07/12/2021  Procedimentos   \n",
              "40      # PO RESSECC?O DE TUMOR CEREBRAL\\n# TUMOR CERE...        MAT/MED   \n",
              "43      PACIENTE 55 ANOS, COM PO DE DRENAGEM DE HEMATO...  Procedimentos   \n",
              "...                                                   ...            ...   \n",
              "413246   PACIENTE PERMANECE ESTAVEL, ORIENTADO, AFEBRI...  Procedimentos   \n",
              "413247    SOLICITAC?O REFERENTE A 16/12/2021 A 19/12/2021  Procedimentos   \n",
              "413249  AVALIAC?O CONJUNTA COM EQUIPE NEUROCIRURGIA,SU...  Procedimentos   \n",
              "413260  Pcte internou com dores intensas, calculos na ...        MAT/MED   \n",
              "413263  paciente com metastase de sarcona \\nData da en...  Procedimentos   \n",
              "\n",
              "         CD_ITEM                                            DS_ITEM  \\\n",
              "0       60023104                         PORTE 1 (CIRURGIA PEQUENA)   \n",
              "29         39602                     BRIDION 100MG/ML 10FA 2ML - FA   \n",
              "35      10104011  ATENDIMENTO DO INTENSIVISTA DIARISTA (POR DIA ...   \n",
              "40         20114               SONDA NASOENTERAL 12FR FLEXIFLO - UN   \n",
              "43      20103344                                          MIOPATIAS   \n",
              "...          ...                                                ...   \n",
              "413246  40301400                                    CALCIO, DOSAGEM   \n",
              "413247  10102019             VISITA HOSPITALAR A PACIENTE INTERNADO   \n",
              "413249  20103344                                          MIOPATIAS   \n",
              "413260     64494  CLIP TITANIO TAM.MED./GRD.CART.6 CLIPS VERDE -...   \n",
              "413263  60033711              TAXA DE OBSERVAC?O DE DE 6 A 12 HORAS   \n",
              "\n",
              "                                                DS_CLASSE  \\\n",
              "0                                     EM CENTRO CIRURGICO   \n",
              "29      OUTROS PRODUTOS NAO ENQUADRADOS EM CLASSE TERA...   \n",
              "35                                                    UTI   \n",
              "40                                    Material de consumo   \n",
              "43                                REABILITAC?ES - SESS?ES   \n",
              "...                                                   ...   \n",
              "413246                                         BIOQUIMICA   \n",
              "413247                                            VISITAS   \n",
              "413249                            REABILITAC?ES - SESS?ES   \n",
              "413260                                            Protese   \n",
              "413263                           FORA DO CENTRO CIRURGICO   \n",
              "\n",
              "                                 DS_SUBGRUPO  \\\n",
              "0                               TAXA DE SALA   \n",
              "29                           SISTEMA NERVOSO   \n",
              "35                                 CONSULTAS   \n",
              "40                       Material Hospitalar   \n",
              "43      PROCEDIMENTOS CLINICOS AMBULATORIAIS   \n",
              "...                                      ...   \n",
              "413246                MEDICINA LABORATORIAL    \n",
              "413247                             CONSULTAS   \n",
              "413249  PROCEDIMENTOS CLINICOS AMBULATORIAIS   \n",
              "413260                   Material Hospitalar   \n",
              "413263                          TAXA DE SALA   \n",
              "\n",
              "                                   DS_GRUPO QT_SOLICITADA  DS_STATUS_ITEM  \n",
              "0                                     TAXAS           1.0          Negado  \n",
              "29                               Brasindice           1.0      Autorizado  \n",
              "35                           PROCED. GERAIS           1.0      Autorizado  \n",
              "40                                   Simpro           1.0      Autorizado  \n",
              "43                         PROCED. CLINICOS          12.0      Autorizado  \n",
              "...                                     ...           ...             ...  \n",
              "413246  PROCED. DIAGNOSTICOS E TERAPEUTICOS           2.0          Negado  \n",
              "413247                       PROCED. GERAIS           4.0      Autorizado  \n",
              "413249                     PROCED. CLINICOS          12.0      Autorizado  \n",
              "413260                               Simpro           3.0      Autorizado  \n",
              "413263                                TAXAS           1.0      Autorizado  \n",
              "\n",
              "[70523 rows x 26 columns]"
            ],
            "text/html": [
              "<div>\n",
              "<style scoped>\n",
              "    .dataframe tbody tr th:only-of-type {\n",
              "        vertical-align: middle;\n",
              "    }\n",
              "\n",
              "    .dataframe tbody tr th {\n",
              "        vertical-align: top;\n",
              "    }\n",
              "\n",
              "    .dataframe thead th {\n",
              "        text-align: right;\n",
              "    }\n",
              "</style>\n",
              "<table border=\"1\" class=\"dataframe\">\n",
              "  <thead>\n",
              "    <tr style=\"text-align: right;\">\n",
              "      <th></th>\n",
              "      <th>NR_SEQ_REQUISICAO</th>\n",
              "      <th>NR_SEQ_ITEM</th>\n",
              "      <th>DT_REQUISICAO</th>\n",
              "      <th>DS_TIPO_GUIA</th>\n",
              "      <th>DT_NASCIMENTO</th>\n",
              "      <th>NR_PRODUTO</th>\n",
              "      <th>DS_TIPO_PREST_SOLICITANTE</th>\n",
              "      <th>DS_CBO</th>\n",
              "      <th>DS_INDICACAO_ACIDENTE</th>\n",
              "      <th>DS_TIPO_INTERNACAO</th>\n",
              "      <th>...</th>\n",
              "      <th>CD_CID</th>\n",
              "      <th>DS_INDICACAO_CLINICA</th>\n",
              "      <th>DS_TIPO_ITEM</th>\n",
              "      <th>CD_ITEM</th>\n",
              "      <th>DS_ITEM</th>\n",
              "      <th>DS_CLASSE</th>\n",
              "      <th>DS_SUBGRUPO</th>\n",
              "      <th>DS_GRUPO</th>\n",
              "      <th>QT_SOLICITADA</th>\n",
              "      <th>DS_STATUS_ITEM</th>\n",
              "    </tr>\n",
              "  </thead>\n",
              "  <tbody>\n",
              "    <tr>\n",
              "      <th>0</th>\n",
              "      <td>1560479</td>\n",
              "      <td>4348670</td>\n",
              "      <td>2459598</td>\n",
              "      <td>Guia de solicitac?o SP/SADT</td>\n",
              "      <td>2440511.0</td>\n",
              "      <td>1</td>\n",
              "      <td>HOSPITAL</td>\n",
              "      <td>Medico ortopedista e traumatologista</td>\n",
              "      <td>N?o acidente</td>\n",
              "      <td>Nao internacao</td>\n",
              "      <td>...</td>\n",
              "      <td>NaN</td>\n",
              "      <td>NaN</td>\n",
              "      <td>Procedimentos</td>\n",
              "      <td>60023104</td>\n",
              "      <td>PORTE 1 (CIRURGIA PEQUENA)</td>\n",
              "      <td>EM CENTRO CIRURGICO</td>\n",
              "      <td>TAXA DE SALA</td>\n",
              "      <td>TAXAS</td>\n",
              "      <td>1.0</td>\n",
              "      <td>Negado</td>\n",
              "    </tr>\n",
              "    <tr>\n",
              "      <th>29</th>\n",
              "      <td>1496958</td>\n",
              "      <td>957203</td>\n",
              "      <td>2459560</td>\n",
              "      <td>Guia de solicitac?o de prorrogac?o de internac?o</td>\n",
              "      <td>2441592.0</td>\n",
              "      <td>1</td>\n",
              "      <td>HOSPITAL</td>\n",
              "      <td>Medico cirurgi?o do aparelho digestivo</td>\n",
              "      <td>N?o acidente</td>\n",
              "      <td>Cirurgica</td>\n",
              "      <td>...</td>\n",
              "      <td>NaN</td>\n",
              "      <td>SOLICITAC?O DE PROCEDIMENTOS REFERENTE A INTER...</td>\n",
              "      <td>MAT/MED</td>\n",
              "      <td>39602</td>\n",
              "      <td>BRIDION 100MG/ML 10FA 2ML - FA</td>\n",
              "      <td>OUTROS PRODUTOS NAO ENQUADRADOS EM CLASSE TERA...</td>\n",
              "      <td>SISTEMA NERVOSO</td>\n",
              "      <td>Brasindice</td>\n",
              "      <td>1.0</td>\n",
              "      <td>Autorizado</td>\n",
              "    </tr>\n",
              "    <tr>\n",
              "      <th>35</th>\n",
              "      <td>1495227</td>\n",
              "      <td>4145240</td>\n",
              "      <td>2459559</td>\n",
              "      <td>Guia de solicitac?o de prorrogac?o de internac?o</td>\n",
              "      <td>2430438.0</td>\n",
              "      <td>1</td>\n",
              "      <td>HOSPITAL</td>\n",
              "      <td>Medico clinico</td>\n",
              "      <td>N?o acidente</td>\n",
              "      <td>Clinica</td>\n",
              "      <td>...</td>\n",
              "      <td>NaN</td>\n",
              "      <td>SOLICITACAO REFERENTE 07/12/2021</td>\n",
              "      <td>Procedimentos</td>\n",
              "      <td>10104011</td>\n",
              "      <td>ATENDIMENTO DO INTENSIVISTA DIARISTA (POR DIA ...</td>\n",
              "      <td>UTI</td>\n",
              "      <td>CONSULTAS</td>\n",
              "      <td>PROCED. GERAIS</td>\n",
              "      <td>1.0</td>\n",
              "      <td>Autorizado</td>\n",
              "    </tr>\n",
              "    <tr>\n",
              "      <th>40</th>\n",
              "      <td>1412669</td>\n",
              "      <td>947049</td>\n",
              "      <td>2459517</td>\n",
              "      <td>Guia de solicitac?o de prorrogac?o de internac?o</td>\n",
              "      <td>2437050.0</td>\n",
              "      <td>1</td>\n",
              "      <td>HOSPITAL</td>\n",
              "      <td>Medico  neurocirurgi?o</td>\n",
              "      <td>N?o acidente</td>\n",
              "      <td>Cirurgica</td>\n",
              "      <td>...</td>\n",
              "      <td>NaN</td>\n",
              "      <td># PO RESSECC?O DE TUMOR CEREBRAL\\n# TUMOR CERE...</td>\n",
              "      <td>MAT/MED</td>\n",
              "      <td>20114</td>\n",
              "      <td>SONDA NASOENTERAL 12FR FLEXIFLO - UN</td>\n",
              "      <td>Material de consumo</td>\n",
              "      <td>Material Hospitalar</td>\n",
              "      <td>Simpro</td>\n",
              "      <td>1.0</td>\n",
              "      <td>Autorizado</td>\n",
              "    </tr>\n",
              "    <tr>\n",
              "      <th>43</th>\n",
              "      <td>1406396</td>\n",
              "      <td>3861670</td>\n",
              "      <td>2459515</td>\n",
              "      <td>Guia de solicitac?o de prorrogac?o de internac?o</td>\n",
              "      <td>2439209.0</td>\n",
              "      <td>1</td>\n",
              "      <td>HOSPITAL</td>\n",
              "      <td>Medico clinico</td>\n",
              "      <td>N?o acidente</td>\n",
              "      <td>Clinica</td>\n",
              "      <td>...</td>\n",
              "      <td>R500</td>\n",
              "      <td>PACIENTE 55 ANOS, COM PO DE DRENAGEM DE HEMATO...</td>\n",
              "      <td>Procedimentos</td>\n",
              "      <td>20103344</td>\n",
              "      <td>MIOPATIAS</td>\n",
              "      <td>REABILITAC?ES - SESS?ES</td>\n",
              "      <td>PROCEDIMENTOS CLINICOS AMBULATORIAIS</td>\n",
              "      <td>PROCED. CLINICOS</td>\n",
              "      <td>12.0</td>\n",
              "      <td>Autorizado</td>\n",
              "    </tr>\n",
              "    <tr>\n",
              "      <th>...</th>\n",
              "      <td>...</td>\n",
              "      <td>...</td>\n",
              "      <td>...</td>\n",
              "      <td>...</td>\n",
              "      <td>...</td>\n",
              "      <td>...</td>\n",
              "      <td>...</td>\n",
              "      <td>...</td>\n",
              "      <td>...</td>\n",
              "      <td>...</td>\n",
              "      <td>...</td>\n",
              "      <td>...</td>\n",
              "      <td>...</td>\n",
              "      <td>...</td>\n",
              "      <td>...</td>\n",
              "      <td>...</td>\n",
              "      <td>...</td>\n",
              "      <td>...</td>\n",
              "      <td>...</td>\n",
              "      <td>...</td>\n",
              "      <td>...</td>\n",
              "    </tr>\n",
              "    <tr>\n",
              "      <th>413246</th>\n",
              "      <td>1088721</td>\n",
              "      <td>2800823</td>\n",
              "      <td>2459352</td>\n",
              "      <td>Guia de solicitac?o de prorrogac?o de internac?o</td>\n",
              "      <td>2433012.0</td>\n",
              "      <td>1</td>\n",
              "      <td>HOSPITAL</td>\n",
              "      <td>Medico clinico</td>\n",
              "      <td>Outros</td>\n",
              "      <td>Clinica</td>\n",
              "      <td>...</td>\n",
              "      <td>C22</td>\n",
              "      <td>PACIENTE PERMANECE ESTAVEL, ORIENTADO, AFEBRI...</td>\n",
              "      <td>Procedimentos</td>\n",
              "      <td>40301400</td>\n",
              "      <td>CALCIO, DOSAGEM</td>\n",
              "      <td>BIOQUIMICA</td>\n",
              "      <td>MEDICINA LABORATORIAL</td>\n",
              "      <td>PROCED. DIAGNOSTICOS E TERAPEUTICOS</td>\n",
              "      <td>2.0</td>\n",
              "      <td>Negado</td>\n",
              "    </tr>\n",
              "    <tr>\n",
              "      <th>413247</th>\n",
              "      <td>1517446</td>\n",
              "      <td>4212743</td>\n",
              "      <td>2459572</td>\n",
              "      <td>Guia de solicitac?o de prorrogac?o de internac?o</td>\n",
              "      <td>2451913.0</td>\n",
              "      <td>1</td>\n",
              "      <td>HOSPITAL</td>\n",
              "      <td>Medico ginecologista e obstetra</td>\n",
              "      <td>N?o acidente</td>\n",
              "      <td>Clinica</td>\n",
              "      <td>...</td>\n",
              "      <td>NaN</td>\n",
              "      <td>SOLICITAC?O REFERENTE A 16/12/2021 A 19/12/2021</td>\n",
              "      <td>Procedimentos</td>\n",
              "      <td>10102019</td>\n",
              "      <td>VISITA HOSPITALAR A PACIENTE INTERNADO</td>\n",
              "      <td>VISITAS</td>\n",
              "      <td>CONSULTAS</td>\n",
              "      <td>PROCED. GERAIS</td>\n",
              "      <td>4.0</td>\n",
              "      <td>Autorizado</td>\n",
              "    </tr>\n",
              "    <tr>\n",
              "      <th>413249</th>\n",
              "      <td>1474098</td>\n",
              "      <td>4080054</td>\n",
              "      <td>2459549</td>\n",
              "      <td>Guia de solicitac?o de prorrogac?o de internac?o</td>\n",
              "      <td>2429762.0</td>\n",
              "      <td>1</td>\n",
              "      <td>UTI</td>\n",
              "      <td>Medico em medicina intensiva</td>\n",
              "      <td>N?o acidente</td>\n",
              "      <td>Clinica</td>\n",
              "      <td>...</td>\n",
              "      <td>NaN</td>\n",
              "      <td>AVALIAC?O CONJUNTA COM EQUIPE NEUROCIRURGIA,SU...</td>\n",
              "      <td>Procedimentos</td>\n",
              "      <td>20103344</td>\n",
              "      <td>MIOPATIAS</td>\n",
              "      <td>REABILITAC?ES - SESS?ES</td>\n",
              "      <td>PROCEDIMENTOS CLINICOS AMBULATORIAIS</td>\n",
              "      <td>PROCED. CLINICOS</td>\n",
              "      <td>12.0</td>\n",
              "      <td>Autorizado</td>\n",
              "    </tr>\n",
              "    <tr>\n",
              "      <th>413260</th>\n",
              "      <td>1069787</td>\n",
              "      <td>889198</td>\n",
              "      <td>2459342</td>\n",
              "      <td>Guia de solicitac?o de prorrogac?o de internac?o</td>\n",
              "      <td>2438592.0</td>\n",
              "      <td>1</td>\n",
              "      <td>HOSPITAL</td>\n",
              "      <td>Medico urologista</td>\n",
              "      <td>N?o acidente</td>\n",
              "      <td>Clinica</td>\n",
              "      <td>...</td>\n",
              "      <td>NaN</td>\n",
              "      <td>Pcte internou com dores intensas, calculos na ...</td>\n",
              "      <td>MAT/MED</td>\n",
              "      <td>64494</td>\n",
              "      <td>CLIP TITANIO TAM.MED./GRD.CART.6 CLIPS VERDE -...</td>\n",
              "      <td>Protese</td>\n",
              "      <td>Material Hospitalar</td>\n",
              "      <td>Simpro</td>\n",
              "      <td>3.0</td>\n",
              "      <td>Autorizado</td>\n",
              "    </tr>\n",
              "    <tr>\n",
              "      <th>413263</th>\n",
              "      <td>1489829</td>\n",
              "      <td>4129003</td>\n",
              "      <td>2459557</td>\n",
              "      <td>Guia de solicitac?o de prorrogac?o de internac?o</td>\n",
              "      <td>2438718.0</td>\n",
              "      <td>1</td>\n",
              "      <td>HOSPITAL</td>\n",
              "      <td>Medico cirurgi?o geral</td>\n",
              "      <td>N?o acidente</td>\n",
              "      <td>Cirurgica</td>\n",
              "      <td>...</td>\n",
              "      <td>NaN</td>\n",
              "      <td>paciente com metastase de sarcona \\nData da en...</td>\n",
              "      <td>Procedimentos</td>\n",
              "      <td>60033711</td>\n",
              "      <td>TAXA DE OBSERVAC?O DE DE 6 A 12 HORAS</td>\n",
              "      <td>FORA DO CENTRO CIRURGICO</td>\n",
              "      <td>TAXA DE SALA</td>\n",
              "      <td>TAXAS</td>\n",
              "      <td>1.0</td>\n",
              "      <td>Autorizado</td>\n",
              "    </tr>\n",
              "  </tbody>\n",
              "</table>\n",
              "<p>70523 rows × 26 columns</p>\n",
              "</div>"
            ]
          },
          "metadata": {},
          "execution_count": 71
        }
      ],
      "source": [
        "df[df.CD_GUIA_REFERENCIA.notnull()]"
      ]
    },
    {
      "cell_type": "markdown",
      "metadata": {
        "id": "TWTdx0_H2aB_"
      },
      "source": [
        "> É apenas um código, vamos apenas dropar. Não achei o significado dessa coluna."
      ]
    },
    {
      "cell_type": "code",
      "execution_count": 72,
      "metadata": {
        "pycharm": {
          "name": "#%%\n"
        },
        "id": "_5F_oKhX2aB_"
      },
      "outputs": [],
      "source": [
        "df.drop(columns=[\"CD_GUIA_REFERENCIA\"], inplace=True)"
      ]
    },
    {
      "cell_type": "code",
      "execution_count": 73,
      "metadata": {
        "pycharm": {
          "name": "#%%\n"
        },
        "colab": {
          "base_uri": "https://localhost:8080/"
        },
        "id": "E10eDeqU2aB_",
        "outputId": "797b05e3-4eb4-4b85-c1fe-11603411e0b7"
      },
      "outputs": [
        {
          "output_type": "execute_result",
          "data": {
            "text/plain": [
              "NR_SEQ_REQUISICAO                 0\n",
              "NR_SEQ_ITEM                       0\n",
              "DT_REQUISICAO                     0\n",
              "DS_TIPO_GUIA                      0\n",
              "DT_NASCIMENTO                     0\n",
              "NR_PRODUTO                        0\n",
              "DS_TIPO_PREST_SOLICITANTE         0\n",
              "DS_CBO                            0\n",
              "DS_INDICACAO_ACIDENTE             0\n",
              "DS_TIPO_INTERNACAO                0\n",
              "DS_REGIME_INTERNACAO              0\n",
              "DS_CARATER_ATENDIMENTO            0\n",
              "DS_TIPO_ACOMODACAO                0\n",
              "QT_DIA_SOLICITADO                 0\n",
              "DS_TIPO_ATENDIMENTO          121337\n",
              "CD_CID                       235287\n",
              "DS_INDICACAO_CLINICA          87534\n",
              "DS_TIPO_ITEM                      0\n",
              "CD_ITEM                           0\n",
              "DS_ITEM                           0\n",
              "DS_CLASSE                         0\n",
              "DS_SUBGRUPO                       0\n",
              "DS_GRUPO                          0\n",
              "QT_SOLICITADA                     0\n",
              "DS_STATUS_ITEM                    0\n",
              "dtype: int64"
            ]
          },
          "metadata": {},
          "execution_count": 73
        }
      ],
      "source": [
        "df.isna().sum()"
      ]
    },
    {
      "cell_type": "markdown",
      "metadata": {
        "id": "KFvKdRcJ2aCA"
      },
      "source": [
        "#### DS_TIPO_ATENDIMENTO"
      ]
    },
    {
      "cell_type": "code",
      "execution_count": 74,
      "metadata": {
        "pycharm": {
          "name": "#%%\n"
        },
        "colab": {
          "base_uri": "https://localhost:8080/"
        },
        "id": "KC-mQu0x2aCA",
        "outputId": "f1e404eb-949e-49ea-bc15-cc5558f955e2"
      },
      "outputs": [
        {
          "output_type": "stream",
          "name": "stdout",
          "text": [
            "Porcentagem de nulos em TIPO_ATENDIMENTO: 0.29361219195849547\n"
          ]
        }
      ],
      "source": [
        "print(\"Porcentagem de nulos em TIPO_ATENDIMENTO:\", df.DS_TIPO_ATENDIMENTO.isna().sum() / df.shape[0])"
      ]
    },
    {
      "cell_type": "code",
      "execution_count": 75,
      "metadata": {
        "pycharm": {
          "name": "#%%\n"
        },
        "colab": {
          "base_uri": "https://localhost:8080/"
        },
        "id": "nec08jGK2aCA",
        "outputId": "a20c28f5-9fe2-4519-afd4-7b618b390cae"
      },
      "outputs": [
        {
          "output_type": "execute_result",
          "data": {
            "text/plain": [
              "Exames                              189605\n",
              "Pequena cirurgia                     45715\n",
              "Quimioterapia                        19869\n",
              "Pequenos atendimentos                13117\n",
              "Pronto socorro                        9457\n",
              "Terapias                              6532\n",
              "Internac?o (SADT internado)           3719\n",
              "Terapia renal substitutiva (TRS)      1438\n",
              "Consulta                              1222\n",
              "Atendimento domiciliar                 535\n",
              "Radioterapia                           396\n",
              "Remoc?o                                207\n",
              "Terapia hiperbarica                    107\n",
              "Name: DS_TIPO_ATENDIMENTO, dtype: int64"
            ]
          },
          "metadata": {},
          "execution_count": 75
        }
      ],
      "source": [
        "df.DS_TIPO_ATENDIMENTO.value_counts()"
      ]
    },
    {
      "cell_type": "code",
      "execution_count": 76,
      "metadata": {
        "pycharm": {
          "name": "#%%\n"
        },
        "colab": {
          "base_uri": "https://localhost:8080/"
        },
        "id": "SXYqwhxs2aCA",
        "outputId": "5ee27728-b00a-40d3-acce-6357f7238e98"
      },
      "outputs": [
        {
          "output_type": "execute_result",
          "data": {
            "text/plain": [
              "count     291919\n",
              "unique        13\n",
              "top       Exames\n",
              "freq      189605\n",
              "Name: DS_TIPO_ATENDIMENTO, dtype: object"
            ]
          },
          "metadata": {},
          "execution_count": 76
        }
      ],
      "source": [
        "df.DS_TIPO_ATENDIMENTO.describe()"
      ]
    },
    {
      "cell_type": "markdown",
      "metadata": {
        "id": "9A1AnEY92aCA"
      },
      "source": [
        "> Tenho que pensar como preencher esses nulos, pois não posso desperdiçar as informações dessa coluna."
      ]
    },
    {
      "cell_type": "markdown",
      "metadata": {
        "id": "Di5SC3x92aCA"
      },
      "source": [
        "> Vamos tentar estimar, dada as outras colunas, os valores para preencher o TIPO_ATENDIMENTO"
      ]
    },
    {
      "cell_type": "code",
      "execution_count": 77,
      "metadata": {
        "pycharm": {
          "name": "#%%\n"
        },
        "colab": {
          "base_uri": "https://localhost:8080/",
          "height": 0
        },
        "id": "8Tgfrky02aCB",
        "outputId": "730e6c95-e486-461c-fb5b-b609b61a2949"
      },
      "outputs": [
        {
          "output_type": "execute_result",
          "data": {
            "text/plain": [
              "        NR_SEQ_REQUISICAO  NR_SEQ_ITEM  DT_REQUISICAO  \\\n",
              "322134            1127070       896024        2459370   \n",
              "37171             1274374      3424068        2459457   \n",
              "318128            1170208       903298        2459391   \n",
              "88556             1286683       924957        2459453   \n",
              "26430              918602      2255690        2459258   \n",
              "263173             667157      1498622        2459121   \n",
              "276221            1255330      3359445        2459438   \n",
              "305651            1125044      2920577        2459369   \n",
              "169931            1344285      3660278        2459485   \n",
              "117090            1533704      4264881        2459586   \n",
              "37783             1047560      2663485        2459331   \n",
              "172966            1366122      3731675        2459495   \n",
              "331018            1541635      4289317        2459590   \n",
              "237542             623387      1358954        2459095   \n",
              "119060             897163      2191918        2459249   \n",
              "\n",
              "                       DS_TIPO_GUIA  DT_NASCIMENTO  NR_PRODUTO  \\\n",
              "322134  Guia de solicitac?o SP/SADT      2431005.0           1   \n",
              "37171   Guia de solicitac?o SP/SADT      2435722.0           1   \n",
              "318128  Guia de solicitac?o SP/SADT      2437162.0           1   \n",
              "88556   Guia de solicitac?o SP/SADT      2451045.0           1   \n",
              "26430   Guia de solicitac?o SP/SADT      2433818.0           1   \n",
              "263173  Guia de solicitac?o SP/SADT      2438409.0           1   \n",
              "276221  Guia de solicitac?o SP/SADT      2441792.0           1   \n",
              "305651  Guia de solicitac?o SP/SADT      2440834.0           1   \n",
              "169931  Guia de solicitac?o SP/SADT      2432593.0           1   \n",
              "117090  Guia de solicitac?o SP/SADT      2442192.0           1   \n",
              "37783   Guia de solicitac?o SP/SADT      2442976.0           1   \n",
              "172966  Guia de solicitac?o SP/SADT      2440575.0           1   \n",
              "331018  Guia de solicitac?o SP/SADT      2439786.0           1   \n",
              "237542  Guia de solicitac?o SP/SADT      2441104.0           1   \n",
              "119060  Guia de solicitac?o SP/SADT      2439509.0           1   \n",
              "\n",
              "       DS_TIPO_PREST_SOLICITANTE                                 DS_CBO  \\\n",
              "322134      CLINICA  DE UROLOGIA                     Medico urologista    \n",
              "37171                    CLINICA                    Medico Mastologista   \n",
              "318128                   CLINICA  Medico ortopedista e traumatologista    \n",
              "88556                    CLINICA                 Medico reumatologista    \n",
              "26430                    CLINICA                         Nutricionista    \n",
              "263173                    MEDICO                  Medico oftalmologista   \n",
              "276221     PRESTADOR DE SERVICOS       Medico ginecologista e obstetra    \n",
              "305651                   CLINICA         Medico otorrinolaringologista    \n",
              "169931                   CLINICA                  Medico oftalmologista   \n",
              "117090                   CLINICA                  Medico proctologista    \n",
              "37783                    CLINICA                  Medico oftalmologista   \n",
              "172966                  HOSPITAL  Medico ortopedista e traumatologista    \n",
              "331018               LABORATORIO         Medico em medicina de trafego    \n",
              "237542               LABORATORIO                         Medico clinico   \n",
              "119060               LABORATORIO                         Medico clinico   \n",
              "\n",
              "       DS_INDICACAO_ACIDENTE DS_TIPO_INTERNACAO  ... CD_CID  \\\n",
              "322134                Outros     Nao internacao  ...    N40   \n",
              "37171           N?o acidente     Nao internacao  ...    NaN   \n",
              "318128                Outros     Nao internacao  ...    NaN   \n",
              "88556           N?o acidente     Nao internacao  ...   M321   \n",
              "26430           N?o acidente     Nao internacao  ...    E66   \n",
              "263173                Outros     Nao internacao  ...   H500   \n",
              "276221          N?o acidente     Nao internacao  ...    NaN   \n",
              "305651          N?o acidente     Nao internacao  ...    NaN   \n",
              "169931          N?o acidente     Nao internacao  ...    NaN   \n",
              "117090          N?o acidente     Nao internacao  ...    NaN   \n",
              "37783                 Outros     Nao internacao  ...   Z460   \n",
              "172966          N?o acidente     Nao internacao  ...   G560   \n",
              "331018          N?o acidente     Nao internacao  ...   Z412   \n",
              "237542          N?o acidente     Nao internacao  ...    NaN   \n",
              "119060          N?o acidente     Nao internacao  ...    Z00   \n",
              "\n",
              "                                     DS_INDICACAO_CLINICA   DS_TIPO_ITEM  \\\n",
              "322134                           Em Anexo o pedido medico        MAT/MED   \n",
              "37171                                                 NaN  Procedimentos   \n",
              "318128  Solicitamos autorizac?o para procedimento conf...        MAT/MED   \n",
              "88556   PACIENTE LUPICO APRESENTANDO HA 02 MESES AUMEN...        MAT/MED   \n",
              "26430                                                 NaN  Procedimentos   \n",
              "263173                                                NaN  Procedimentos   \n",
              "276221                                                NaN  Procedimentos   \n",
              "305651                                                NaN  Procedimentos   \n",
              "169931     PACIENTE COM GLAUCOMA E CATARTA EM AMBOS OLHOS  Procedimentos   \n",
              "117090                                                NaN  Procedimentos   \n",
              "37783        Avaliac?o e Adaptac?o para lentes de contato  Procedimentos   \n",
              "172966                  SINDROME DO TUNEL CARPO BILATERAL  Procedimentos   \n",
              "331018                                insuficiencia renal  Procedimentos   \n",
              "237542  DM2 \\nDISLIPIDEMIA SECUNDARIA \\nHIPOTIREOIDISM...  Procedimentos   \n",
              "119060                                                NaN  Procedimentos   \n",
              "\n",
              "         CD_ITEM                                            DS_ITEM  \\\n",
              "322134     39939  AGULHA BIOPSIA P/USO PRO-MAG ULTRA 18GAX25CM - UN   \n",
              "37171   40901211  USG - ULTRASSONOGRAFIA - ESTRUTURAS SUPERFICIA...   \n",
              "318128     97045                           AGULHA 13X4,5 DESC. - UN   \n",
              "88556      32198  GENUXAL 1000 MG PO SOL INJ IV CX 10 FA VD INC ...   \n",
              "26430   40302040                                            GLICOSE   \n",
              "263173  40901530  USG - ULTRASSONOGRAFIA - ULTRASSONOGRAFIA DIAG...   \n",
              "276221  41101189  RM - RESSONANCIA MAGNETICA - PELVE (NAO INCLUI...   \n",
              "305651  41401379            TESTES CUTANEO-ALERGICOS PARA ALIMENTOS   \n",
              "169931  41501128               PAQUIMETRIA ULTRASSONICA - MONOCULAR   \n",
              "117090  60201082  PCT-COMP - PACOTE COLONOSCOPIA (INCLUI A RETOS...   \n",
              "37783   41501128               PAQUIMETRIA ULTRASSONICA - MONOCULAR   \n",
              "172966  60034424                DAY CLINIC (ATE 12H DE PERMANENCIA)   \n",
              "331018  40308383          PROTEINA C REATIVA, QUALITATIVA, PESQUISA   \n",
              "237542  40302580                                     UREIA, DOSAGEM   \n",
              "119060  40311171                         MICROALBUMINURIAM, DOSAGEM   \n",
              "\n",
              "                                DS_CLASSE                      DS_SUBGRUPO  \\\n",
              "322134                            Protese              Material Hospitalar   \n",
              "37171        ULTRA-SONOGRAFIA DIAGNOSTICA                 ULTRA-SONOGRAFIA   \n",
              "318128                Material de consumo              Material Hospitalar   \n",
              "88556                     ANTINEOPLASICOS          AGENTES ANTINEOPLASICOS   \n",
              "26430                          BIOQUIMICA           MEDICINA LABORATORIAL    \n",
              "263173       ULTRA-SONOGRAFIA DIAGNOSTICA                 ULTRA-SONOGRAFIA   \n",
              "276221  RESSONANCIA MAGNETICA DIAGNOSTICA            RESSONANCIA MAGNETICA   \n",
              "305651                      PROCEDIMENTOS          TESTES PARA DIAGNOSTICO   \n",
              "169931         PROCEDIMENTOS DIAGNOSTICOS                           OUTROS   \n",
              "117090                  SISTEMA DIGESTIVO  METODOS DIAGNOSTICOS POR IMAGEM   \n",
              "37783          PROCEDIMENTOS DIAGNOSTICOS                           OUTROS   \n",
              "172966                            DIARIAS                          DIARIAS   \n",
              "331018                         IMUNOLOGIA           MEDICINA LABORATORIAL    \n",
              "237542                         BIOQUIMICA           MEDICINA LABORATORIAL    \n",
              "119060                          URINALISE           MEDICINA LABORATORIAL    \n",
              "\n",
              "                                   DS_GRUPO  QT_SOLICITADA DS_STATUS_ITEM  \n",
              "322134                               Simpro            1.0         Negado  \n",
              "37171   PROCED. DIAGNOSTICOS E TERAPEUTICOS            2.0         Negado  \n",
              "318128                               Simpro            1.0     Autorizado  \n",
              "88556                            Brasindice         1000.0     Autorizado  \n",
              "26430   PROCED. DIAGNOSTICOS E TERAPEUTICOS            1.0     Autorizado  \n",
              "263173  PROCED. DIAGNOSTICOS E TERAPEUTICOS            2.0     Autorizado  \n",
              "276221  PROCED. DIAGNOSTICOS E TERAPEUTICOS            1.0     Autorizado  \n",
              "305651  PROCED. DIAGNOSTICOS E TERAPEUTICOS            3.0         Negado  \n",
              "169931  PROCED. DIAGNOSTICOS E TERAPEUTICOS            2.0     Autorizado  \n",
              "117090  PROCED. DIAGNOSTICOS E TERAPEUTICOS            1.0     Autorizado  \n",
              "37783   PROCED. DIAGNOSTICOS E TERAPEUTICOS            2.0         Negado  \n",
              "172966                              DIARIAS            1.0     Autorizado  \n",
              "331018  PROCED. DIAGNOSTICOS E TERAPEUTICOS            1.0     Autorizado  \n",
              "237542  PROCED. DIAGNOSTICOS E TERAPEUTICOS            1.0     Autorizado  \n",
              "119060  PROCED. DIAGNOSTICOS E TERAPEUTICOS            1.0     Autorizado  \n",
              "\n",
              "[15 rows x 25 columns]"
            ],
            "text/html": [
              "<div>\n",
              "<style scoped>\n",
              "    .dataframe tbody tr th:only-of-type {\n",
              "        vertical-align: middle;\n",
              "    }\n",
              "\n",
              "    .dataframe tbody tr th {\n",
              "        vertical-align: top;\n",
              "    }\n",
              "\n",
              "    .dataframe thead th {\n",
              "        text-align: right;\n",
              "    }\n",
              "</style>\n",
              "<table border=\"1\" class=\"dataframe\">\n",
              "  <thead>\n",
              "    <tr style=\"text-align: right;\">\n",
              "      <th></th>\n",
              "      <th>NR_SEQ_REQUISICAO</th>\n",
              "      <th>NR_SEQ_ITEM</th>\n",
              "      <th>DT_REQUISICAO</th>\n",
              "      <th>DS_TIPO_GUIA</th>\n",
              "      <th>DT_NASCIMENTO</th>\n",
              "      <th>NR_PRODUTO</th>\n",
              "      <th>DS_TIPO_PREST_SOLICITANTE</th>\n",
              "      <th>DS_CBO</th>\n",
              "      <th>DS_INDICACAO_ACIDENTE</th>\n",
              "      <th>DS_TIPO_INTERNACAO</th>\n",
              "      <th>...</th>\n",
              "      <th>CD_CID</th>\n",
              "      <th>DS_INDICACAO_CLINICA</th>\n",
              "      <th>DS_TIPO_ITEM</th>\n",
              "      <th>CD_ITEM</th>\n",
              "      <th>DS_ITEM</th>\n",
              "      <th>DS_CLASSE</th>\n",
              "      <th>DS_SUBGRUPO</th>\n",
              "      <th>DS_GRUPO</th>\n",
              "      <th>QT_SOLICITADA</th>\n",
              "      <th>DS_STATUS_ITEM</th>\n",
              "    </tr>\n",
              "  </thead>\n",
              "  <tbody>\n",
              "    <tr>\n",
              "      <th>322134</th>\n",
              "      <td>1127070</td>\n",
              "      <td>896024</td>\n",
              "      <td>2459370</td>\n",
              "      <td>Guia de solicitac?o SP/SADT</td>\n",
              "      <td>2431005.0</td>\n",
              "      <td>1</td>\n",
              "      <td>CLINICA  DE UROLOGIA</td>\n",
              "      <td>Medico urologista</td>\n",
              "      <td>Outros</td>\n",
              "      <td>Nao internacao</td>\n",
              "      <td>...</td>\n",
              "      <td>N40</td>\n",
              "      <td>Em Anexo o pedido medico</td>\n",
              "      <td>MAT/MED</td>\n",
              "      <td>39939</td>\n",
              "      <td>AGULHA BIOPSIA P/USO PRO-MAG ULTRA 18GAX25CM - UN</td>\n",
              "      <td>Protese</td>\n",
              "      <td>Material Hospitalar</td>\n",
              "      <td>Simpro</td>\n",
              "      <td>1.0</td>\n",
              "      <td>Negado</td>\n",
              "    </tr>\n",
              "    <tr>\n",
              "      <th>37171</th>\n",
              "      <td>1274374</td>\n",
              "      <td>3424068</td>\n",
              "      <td>2459457</td>\n",
              "      <td>Guia de solicitac?o SP/SADT</td>\n",
              "      <td>2435722.0</td>\n",
              "      <td>1</td>\n",
              "      <td>CLINICA</td>\n",
              "      <td>Medico Mastologista</td>\n",
              "      <td>N?o acidente</td>\n",
              "      <td>Nao internacao</td>\n",
              "      <td>...</td>\n",
              "      <td>NaN</td>\n",
              "      <td>NaN</td>\n",
              "      <td>Procedimentos</td>\n",
              "      <td>40901211</td>\n",
              "      <td>USG - ULTRASSONOGRAFIA - ESTRUTURAS SUPERFICIA...</td>\n",
              "      <td>ULTRA-SONOGRAFIA DIAGNOSTICA</td>\n",
              "      <td>ULTRA-SONOGRAFIA</td>\n",
              "      <td>PROCED. DIAGNOSTICOS E TERAPEUTICOS</td>\n",
              "      <td>2.0</td>\n",
              "      <td>Negado</td>\n",
              "    </tr>\n",
              "    <tr>\n",
              "      <th>318128</th>\n",
              "      <td>1170208</td>\n",
              "      <td>903298</td>\n",
              "      <td>2459391</td>\n",
              "      <td>Guia de solicitac?o SP/SADT</td>\n",
              "      <td>2437162.0</td>\n",
              "      <td>1</td>\n",
              "      <td>CLINICA</td>\n",
              "      <td>Medico ortopedista e traumatologista</td>\n",
              "      <td>Outros</td>\n",
              "      <td>Nao internacao</td>\n",
              "      <td>...</td>\n",
              "      <td>NaN</td>\n",
              "      <td>Solicitamos autorizac?o para procedimento conf...</td>\n",
              "      <td>MAT/MED</td>\n",
              "      <td>97045</td>\n",
              "      <td>AGULHA 13X4,5 DESC. - UN</td>\n",
              "      <td>Material de consumo</td>\n",
              "      <td>Material Hospitalar</td>\n",
              "      <td>Simpro</td>\n",
              "      <td>1.0</td>\n",
              "      <td>Autorizado</td>\n",
              "    </tr>\n",
              "    <tr>\n",
              "      <th>88556</th>\n",
              "      <td>1286683</td>\n",
              "      <td>924957</td>\n",
              "      <td>2459453</td>\n",
              "      <td>Guia de solicitac?o SP/SADT</td>\n",
              "      <td>2451045.0</td>\n",
              "      <td>1</td>\n",
              "      <td>CLINICA</td>\n",
              "      <td>Medico reumatologista</td>\n",
              "      <td>N?o acidente</td>\n",
              "      <td>Nao internacao</td>\n",
              "      <td>...</td>\n",
              "      <td>M321</td>\n",
              "      <td>PACIENTE LUPICO APRESENTANDO HA 02 MESES AUMEN...</td>\n",
              "      <td>MAT/MED</td>\n",
              "      <td>32198</td>\n",
              "      <td>GENUXAL 1000 MG PO SOL INJ IV CX 10 FA VD INC ...</td>\n",
              "      <td>ANTINEOPLASICOS</td>\n",
              "      <td>AGENTES ANTINEOPLASICOS</td>\n",
              "      <td>Brasindice</td>\n",
              "      <td>1000.0</td>\n",
              "      <td>Autorizado</td>\n",
              "    </tr>\n",
              "    <tr>\n",
              "      <th>26430</th>\n",
              "      <td>918602</td>\n",
              "      <td>2255690</td>\n",
              "      <td>2459258</td>\n",
              "      <td>Guia de solicitac?o SP/SADT</td>\n",
              "      <td>2433818.0</td>\n",
              "      <td>1</td>\n",
              "      <td>CLINICA</td>\n",
              "      <td>Nutricionista</td>\n",
              "      <td>N?o acidente</td>\n",
              "      <td>Nao internacao</td>\n",
              "      <td>...</td>\n",
              "      <td>E66</td>\n",
              "      <td>NaN</td>\n",
              "      <td>Procedimentos</td>\n",
              "      <td>40302040</td>\n",
              "      <td>GLICOSE</td>\n",
              "      <td>BIOQUIMICA</td>\n",
              "      <td>MEDICINA LABORATORIAL</td>\n",
              "      <td>PROCED. DIAGNOSTICOS E TERAPEUTICOS</td>\n",
              "      <td>1.0</td>\n",
              "      <td>Autorizado</td>\n",
              "    </tr>\n",
              "    <tr>\n",
              "      <th>263173</th>\n",
              "      <td>667157</td>\n",
              "      <td>1498622</td>\n",
              "      <td>2459121</td>\n",
              "      <td>Guia de solicitac?o SP/SADT</td>\n",
              "      <td>2438409.0</td>\n",
              "      <td>1</td>\n",
              "      <td>MEDICO</td>\n",
              "      <td>Medico oftalmologista</td>\n",
              "      <td>Outros</td>\n",
              "      <td>Nao internacao</td>\n",
              "      <td>...</td>\n",
              "      <td>H500</td>\n",
              "      <td>NaN</td>\n",
              "      <td>Procedimentos</td>\n",
              "      <td>40901530</td>\n",
              "      <td>USG - ULTRASSONOGRAFIA - ULTRASSONOGRAFIA DIAG...</td>\n",
              "      <td>ULTRA-SONOGRAFIA DIAGNOSTICA</td>\n",
              "      <td>ULTRA-SONOGRAFIA</td>\n",
              "      <td>PROCED. DIAGNOSTICOS E TERAPEUTICOS</td>\n",
              "      <td>2.0</td>\n",
              "      <td>Autorizado</td>\n",
              "    </tr>\n",
              "    <tr>\n",
              "      <th>276221</th>\n",
              "      <td>1255330</td>\n",
              "      <td>3359445</td>\n",
              "      <td>2459438</td>\n",
              "      <td>Guia de solicitac?o SP/SADT</td>\n",
              "      <td>2441792.0</td>\n",
              "      <td>1</td>\n",
              "      <td>PRESTADOR DE SERVICOS</td>\n",
              "      <td>Medico ginecologista e obstetra</td>\n",
              "      <td>N?o acidente</td>\n",
              "      <td>Nao internacao</td>\n",
              "      <td>...</td>\n",
              "      <td>NaN</td>\n",
              "      <td>NaN</td>\n",
              "      <td>Procedimentos</td>\n",
              "      <td>41101189</td>\n",
              "      <td>RM - RESSONANCIA MAGNETICA - PELVE (NAO INCLUI...</td>\n",
              "      <td>RESSONANCIA MAGNETICA DIAGNOSTICA</td>\n",
              "      <td>RESSONANCIA MAGNETICA</td>\n",
              "      <td>PROCED. DIAGNOSTICOS E TERAPEUTICOS</td>\n",
              "      <td>1.0</td>\n",
              "      <td>Autorizado</td>\n",
              "    </tr>\n",
              "    <tr>\n",
              "      <th>305651</th>\n",
              "      <td>1125044</td>\n",
              "      <td>2920577</td>\n",
              "      <td>2459369</td>\n",
              "      <td>Guia de solicitac?o SP/SADT</td>\n",
              "      <td>2440834.0</td>\n",
              "      <td>1</td>\n",
              "      <td>CLINICA</td>\n",
              "      <td>Medico otorrinolaringologista</td>\n",
              "      <td>N?o acidente</td>\n",
              "      <td>Nao internacao</td>\n",
              "      <td>...</td>\n",
              "      <td>NaN</td>\n",
              "      <td>NaN</td>\n",
              "      <td>Procedimentos</td>\n",
              "      <td>41401379</td>\n",
              "      <td>TESTES CUTANEO-ALERGICOS PARA ALIMENTOS</td>\n",
              "      <td>PROCEDIMENTOS</td>\n",
              "      <td>TESTES PARA DIAGNOSTICO</td>\n",
              "      <td>PROCED. DIAGNOSTICOS E TERAPEUTICOS</td>\n",
              "      <td>3.0</td>\n",
              "      <td>Negado</td>\n",
              "    </tr>\n",
              "    <tr>\n",
              "      <th>169931</th>\n",
              "      <td>1344285</td>\n",
              "      <td>3660278</td>\n",
              "      <td>2459485</td>\n",
              "      <td>Guia de solicitac?o SP/SADT</td>\n",
              "      <td>2432593.0</td>\n",
              "      <td>1</td>\n",
              "      <td>CLINICA</td>\n",
              "      <td>Medico oftalmologista</td>\n",
              "      <td>N?o acidente</td>\n",
              "      <td>Nao internacao</td>\n",
              "      <td>...</td>\n",
              "      <td>NaN</td>\n",
              "      <td>PACIENTE COM GLAUCOMA E CATARTA EM AMBOS OLHOS</td>\n",
              "      <td>Procedimentos</td>\n",
              "      <td>41501128</td>\n",
              "      <td>PAQUIMETRIA ULTRASSONICA - MONOCULAR</td>\n",
              "      <td>PROCEDIMENTOS DIAGNOSTICOS</td>\n",
              "      <td>OUTROS</td>\n",
              "      <td>PROCED. DIAGNOSTICOS E TERAPEUTICOS</td>\n",
              "      <td>2.0</td>\n",
              "      <td>Autorizado</td>\n",
              "    </tr>\n",
              "    <tr>\n",
              "      <th>117090</th>\n",
              "      <td>1533704</td>\n",
              "      <td>4264881</td>\n",
              "      <td>2459586</td>\n",
              "      <td>Guia de solicitac?o SP/SADT</td>\n",
              "      <td>2442192.0</td>\n",
              "      <td>1</td>\n",
              "      <td>CLINICA</td>\n",
              "      <td>Medico proctologista</td>\n",
              "      <td>N?o acidente</td>\n",
              "      <td>Nao internacao</td>\n",
              "      <td>...</td>\n",
              "      <td>NaN</td>\n",
              "      <td>NaN</td>\n",
              "      <td>Procedimentos</td>\n",
              "      <td>60201082</td>\n",
              "      <td>PCT-COMP - PACOTE COLONOSCOPIA (INCLUI A RETOS...</td>\n",
              "      <td>SISTEMA DIGESTIVO</td>\n",
              "      <td>METODOS DIAGNOSTICOS POR IMAGEM</td>\n",
              "      <td>PROCED. DIAGNOSTICOS E TERAPEUTICOS</td>\n",
              "      <td>1.0</td>\n",
              "      <td>Autorizado</td>\n",
              "    </tr>\n",
              "    <tr>\n",
              "      <th>37783</th>\n",
              "      <td>1047560</td>\n",
              "      <td>2663485</td>\n",
              "      <td>2459331</td>\n",
              "      <td>Guia de solicitac?o SP/SADT</td>\n",
              "      <td>2442976.0</td>\n",
              "      <td>1</td>\n",
              "      <td>CLINICA</td>\n",
              "      <td>Medico oftalmologista</td>\n",
              "      <td>Outros</td>\n",
              "      <td>Nao internacao</td>\n",
              "      <td>...</td>\n",
              "      <td>Z460</td>\n",
              "      <td>Avaliac?o e Adaptac?o para lentes de contato</td>\n",
              "      <td>Procedimentos</td>\n",
              "      <td>41501128</td>\n",
              "      <td>PAQUIMETRIA ULTRASSONICA - MONOCULAR</td>\n",
              "      <td>PROCEDIMENTOS DIAGNOSTICOS</td>\n",
              "      <td>OUTROS</td>\n",
              "      <td>PROCED. DIAGNOSTICOS E TERAPEUTICOS</td>\n",
              "      <td>2.0</td>\n",
              "      <td>Negado</td>\n",
              "    </tr>\n",
              "    <tr>\n",
              "      <th>172966</th>\n",
              "      <td>1366122</td>\n",
              "      <td>3731675</td>\n",
              "      <td>2459495</td>\n",
              "      <td>Guia de solicitac?o SP/SADT</td>\n",
              "      <td>2440575.0</td>\n",
              "      <td>1</td>\n",
              "      <td>HOSPITAL</td>\n",
              "      <td>Medico ortopedista e traumatologista</td>\n",
              "      <td>N?o acidente</td>\n",
              "      <td>Nao internacao</td>\n",
              "      <td>...</td>\n",
              "      <td>G560</td>\n",
              "      <td>SINDROME DO TUNEL CARPO BILATERAL</td>\n",
              "      <td>Procedimentos</td>\n",
              "      <td>60034424</td>\n",
              "      <td>DAY CLINIC (ATE 12H DE PERMANENCIA)</td>\n",
              "      <td>DIARIAS</td>\n",
              "      <td>DIARIAS</td>\n",
              "      <td>DIARIAS</td>\n",
              "      <td>1.0</td>\n",
              "      <td>Autorizado</td>\n",
              "    </tr>\n",
              "    <tr>\n",
              "      <th>331018</th>\n",
              "      <td>1541635</td>\n",
              "      <td>4289317</td>\n",
              "      <td>2459590</td>\n",
              "      <td>Guia de solicitac?o SP/SADT</td>\n",
              "      <td>2439786.0</td>\n",
              "      <td>1</td>\n",
              "      <td>LABORATORIO</td>\n",
              "      <td>Medico em medicina de trafego</td>\n",
              "      <td>N?o acidente</td>\n",
              "      <td>Nao internacao</td>\n",
              "      <td>...</td>\n",
              "      <td>Z412</td>\n",
              "      <td>insuficiencia renal</td>\n",
              "      <td>Procedimentos</td>\n",
              "      <td>40308383</td>\n",
              "      <td>PROTEINA C REATIVA, QUALITATIVA, PESQUISA</td>\n",
              "      <td>IMUNOLOGIA</td>\n",
              "      <td>MEDICINA LABORATORIAL</td>\n",
              "      <td>PROCED. DIAGNOSTICOS E TERAPEUTICOS</td>\n",
              "      <td>1.0</td>\n",
              "      <td>Autorizado</td>\n",
              "    </tr>\n",
              "    <tr>\n",
              "      <th>237542</th>\n",
              "      <td>623387</td>\n",
              "      <td>1358954</td>\n",
              "      <td>2459095</td>\n",
              "      <td>Guia de solicitac?o SP/SADT</td>\n",
              "      <td>2441104.0</td>\n",
              "      <td>1</td>\n",
              "      <td>LABORATORIO</td>\n",
              "      <td>Medico clinico</td>\n",
              "      <td>N?o acidente</td>\n",
              "      <td>Nao internacao</td>\n",
              "      <td>...</td>\n",
              "      <td>NaN</td>\n",
              "      <td>DM2 \\nDISLIPIDEMIA SECUNDARIA \\nHIPOTIREOIDISM...</td>\n",
              "      <td>Procedimentos</td>\n",
              "      <td>40302580</td>\n",
              "      <td>UREIA, DOSAGEM</td>\n",
              "      <td>BIOQUIMICA</td>\n",
              "      <td>MEDICINA LABORATORIAL</td>\n",
              "      <td>PROCED. DIAGNOSTICOS E TERAPEUTICOS</td>\n",
              "      <td>1.0</td>\n",
              "      <td>Autorizado</td>\n",
              "    </tr>\n",
              "    <tr>\n",
              "      <th>119060</th>\n",
              "      <td>897163</td>\n",
              "      <td>2191918</td>\n",
              "      <td>2459249</td>\n",
              "      <td>Guia de solicitac?o SP/SADT</td>\n",
              "      <td>2439509.0</td>\n",
              "      <td>1</td>\n",
              "      <td>LABORATORIO</td>\n",
              "      <td>Medico clinico</td>\n",
              "      <td>N?o acidente</td>\n",
              "      <td>Nao internacao</td>\n",
              "      <td>...</td>\n",
              "      <td>Z00</td>\n",
              "      <td>NaN</td>\n",
              "      <td>Procedimentos</td>\n",
              "      <td>40311171</td>\n",
              "      <td>MICROALBUMINURIAM, DOSAGEM</td>\n",
              "      <td>URINALISE</td>\n",
              "      <td>MEDICINA LABORATORIAL</td>\n",
              "      <td>PROCED. DIAGNOSTICOS E TERAPEUTICOS</td>\n",
              "      <td>1.0</td>\n",
              "      <td>Autorizado</td>\n",
              "    </tr>\n",
              "  </tbody>\n",
              "</table>\n",
              "<p>15 rows × 25 columns</p>\n",
              "</div>"
            ]
          },
          "metadata": {},
          "execution_count": 77
        }
      ],
      "source": [
        "df[df.DS_TIPO_ATENDIMENTO.notnull()].sample(15)"
      ]
    },
    {
      "cell_type": "markdown",
      "metadata": {
        "id": "ZCX3xgbc2aCB"
      },
      "source": [
        "> Por ora, vamos apenas colocar um termo genérico \"Não especificado\"."
      ]
    },
    {
      "cell_type": "code",
      "execution_count": 78,
      "metadata": {
        "pycharm": {
          "name": "#%%\n"
        },
        "id": "M2SzEHPs2aCB"
      },
      "outputs": [],
      "source": [
        "df.DS_TIPO_ATENDIMENTO.fillna(\"Nao especificado\", inplace=True)"
      ]
    },
    {
      "cell_type": "code",
      "execution_count": 79,
      "metadata": {
        "pycharm": {
          "name": "#%%\n"
        },
        "colab": {
          "base_uri": "https://localhost:8080/"
        },
        "id": "hGXqTX-K2aCB",
        "outputId": "5c87335c-af5a-4b93-b8ce-2c05e17035a6"
      },
      "outputs": [
        {
          "output_type": "execute_result",
          "data": {
            "text/plain": [
              "NR_SEQ_REQUISICAO                 0\n",
              "NR_SEQ_ITEM                       0\n",
              "DT_REQUISICAO                     0\n",
              "DS_TIPO_GUIA                      0\n",
              "DT_NASCIMENTO                     0\n",
              "NR_PRODUTO                        0\n",
              "DS_TIPO_PREST_SOLICITANTE         0\n",
              "DS_CBO                            0\n",
              "DS_INDICACAO_ACIDENTE             0\n",
              "DS_TIPO_INTERNACAO                0\n",
              "DS_REGIME_INTERNACAO              0\n",
              "DS_CARATER_ATENDIMENTO            0\n",
              "DS_TIPO_ACOMODACAO                0\n",
              "QT_DIA_SOLICITADO                 0\n",
              "DS_TIPO_ATENDIMENTO               0\n",
              "CD_CID                       235287\n",
              "DS_INDICACAO_CLINICA          87534\n",
              "DS_TIPO_ITEM                      0\n",
              "CD_ITEM                           0\n",
              "DS_ITEM                           0\n",
              "DS_CLASSE                         0\n",
              "DS_SUBGRUPO                       0\n",
              "DS_GRUPO                          0\n",
              "QT_SOLICITADA                     0\n",
              "DS_STATUS_ITEM                    0\n",
              "dtype: int64"
            ]
          },
          "metadata": {},
          "execution_count": 79
        }
      ],
      "source": [
        "df.isna().sum()"
      ]
    },
    {
      "cell_type": "markdown",
      "metadata": {
        "id": "oYkwsUzq2aCB"
      },
      "source": [
        "#### CD_CID"
      ]
    },
    {
      "cell_type": "code",
      "execution_count": 80,
      "metadata": {
        "pycharm": {
          "name": "#%%\n"
        },
        "colab": {
          "base_uri": "https://localhost:8080/"
        },
        "id": "jkAS-GeK2aCB",
        "outputId": "244d4617-6f0c-479c-bfbf-0da5cb366aa1"
      },
      "outputs": [
        {
          "output_type": "stream",
          "name": "stdout",
          "text": [
            "Porcentagem de nulos em CD_CID: 0.5693492653464196\n"
          ]
        }
      ],
      "source": [
        "print(\"Porcentagem de nulos em CD_CID:\", df.CD_CID.isna().sum() / df.shape[0])"
      ]
    },
    {
      "cell_type": "code",
      "execution_count": 81,
      "metadata": {
        "pycharm": {
          "name": "#%%\n"
        },
        "colab": {
          "base_uri": "https://localhost:8080/"
        },
        "id": "XM79TGPJ2aCC",
        "outputId": "c77cf540-2887-486e-d56c-199d4e2a6d4e"
      },
      "outputs": [
        {
          "output_type": "execute_result",
          "data": {
            "text/plain": [
              "Z00     15751\n",
              "H40     10628\n",
              "Z10      9314\n",
              "B342     9277\n",
              "C50      6404\n",
              "        ...  \n",
              "D329        1\n",
              "C798        1\n",
              "R065        1\n",
              "O243        1\n",
              "C051        1\n",
              "Name: CD_CID, Length: 1849, dtype: int64"
            ]
          },
          "metadata": {},
          "execution_count": 81
        }
      ],
      "source": [
        "df.CD_CID.value_counts()"
      ]
    },
    {
      "cell_type": "code",
      "execution_count": 82,
      "metadata": {
        "pycharm": {
          "name": "#%%\n"
        },
        "colab": {
          "base_uri": "https://localhost:8080/",
          "height": 0
        },
        "id": "THIcs1UT2aCC",
        "outputId": "9eb105e4-2a57-4f28-c26a-1fcf5c2b2b65"
      },
      "outputs": [
        {
          "output_type": "execute_result",
          "data": {
            "text/plain": [
              "        NR_SEQ_REQUISICAO  NR_SEQ_ITEM  DT_REQUISICAO  \\\n",
              "342556             837154       861353        2459220   \n",
              "35476             1007942       882311        2459310   \n",
              "257214            1044410       886418        2459328   \n",
              "144637            1230876      3275321        2459425   \n",
              "260743            1276877      3433621        2459450   \n",
              "370435            1287786       925115        2459454   \n",
              "345057            1518180      4214732        2459572   \n",
              "116710             938384       873166        2459269   \n",
              "130061             988290       879976        2459297   \n",
              "349833            1191825       906527        2459403   \n",
              "174048            1495276      4145454        2459559   \n",
              "217667            1281531      3449134        2459451   \n",
              "96716              942779       873997        2459270   \n",
              "34416              839631      2018365        2459221   \n",
              "357281            1203197      3179849        2459410   \n",
              "\n",
              "                                            DS_TIPO_GUIA  DT_NASCIMENTO  \\\n",
              "342556                       Guia de solicitac?o SP/SADT      2442486.0   \n",
              "35476                        Guia de solicitac?o SP/SADT      2439060.0   \n",
              "257214                       Guia de solicitac?o SP/SADT      2434164.0   \n",
              "144637                       Guia de solicitac?o SP/SADT      2440413.0   \n",
              "260743                       Guia de solicitac?o SP/SADT      2437050.0   \n",
              "370435                       Guia de solicitac?o SP/SADT      2435032.0   \n",
              "345057                       Guia de solicitac?o SP/SADT      2435177.0   \n",
              "116710                       Guia de solicitac?o SP/SADT      2442554.0   \n",
              "130061                       Guia de solicitac?o SP/SADT      2439060.0   \n",
              "349833                       Guia de solicitac?o SP/SADT      2441089.0   \n",
              "174048  Guia de solicitac?o de prorrogac?o de internac?o      2442486.0   \n",
              "217667                       Guia de solicitac?o SP/SADT      2445583.0   \n",
              "96716                        Guia de solicitac?o SP/SADT      2434302.0   \n",
              "34416                        Guia de solicitac?o SP/SADT      2439897.0   \n",
              "357281                       Guia de solicitac?o SP/SADT      2442565.0   \n",
              "\n",
              "        NR_PRODUTO DS_TIPO_PREST_SOLICITANTE                      DS_CBO  \\\n",
              "342556           1                   CLINICA  Medico oncologista clinico   \n",
              "35476            1                   CLINICA  Medico oncologista clinico   \n",
              "257214           1                   CLINICA  Medico oncologista clinico   \n",
              "144637           1                  HOSPITAL              Medico clinico   \n",
              "260743           1                  HOSPITAL              Medico clinico   \n",
              "370435           1                  HOSPITAL              Medico clinico   \n",
              "345057           1                   CLINICA  Medico oncologista clinico   \n",
              "116710           1                   CLINICA  Medico oncologista clinico   \n",
              "130061           1                   CLINICA  Medico oncologista clinico   \n",
              "349833           1                  HOSPITAL              Medico clinico   \n",
              "174048           1                  HOSPITAL              Medico clinico   \n",
              "217667           1                  HOSPITAL              Medico clinico   \n",
              "96716            1                   CLINICA  Medico oncologista clinico   \n",
              "34416            1     CLINICA DE RADIOLOGIA      Medico radioterapeuta    \n",
              "357281           1                   CLINICA  Medico oncologista clinico   \n",
              "\n",
              "       DS_INDICACAO_ACIDENTE DS_TIPO_INTERNACAO  ... CD_CID  \\\n",
              "342556          N?o acidente     Nao internacao  ...    C50   \n",
              "35476                 Outros     Nao internacao  ...    C50   \n",
              "257214          N?o acidente     Nao internacao  ...    C50   \n",
              "144637          N?o acidente     Nao internacao  ...    C50   \n",
              "260743          N?o acidente     Nao internacao  ...    C50   \n",
              "370435          N?o acidente     Nao internacao  ...    C50   \n",
              "345057          N?o acidente     Nao internacao  ...    C50   \n",
              "116710          N?o acidente     Nao internacao  ...    C50   \n",
              "130061                Outros     Nao internacao  ...    C50   \n",
              "349833          N?o acidente     Nao internacao  ...    C50   \n",
              "174048          N?o acidente            Clinica  ...    C50   \n",
              "217667          N?o acidente     Nao internacao  ...    C50   \n",
              "96716           N?o acidente     Nao internacao  ...    C50   \n",
              "34416                 Outros     Nao internacao  ...    C50   \n",
              "357281          N?o acidente     Nao internacao  ...    C50   \n",
              "\n",
              "                                     DS_INDICACAO_CLINICA   DS_TIPO_ITEM  \\\n",
              "342556                                         CA DE MAMA        MAT/MED   \n",
              "35476                                   NEOPLASIA DE MAMA        MAT/MED   \n",
              "257214                          C50   Neopl malig da mama        MAT/MED   \n",
              "144637                                                C50  Procedimentos   \n",
              "260743                                         ca de mama  Procedimentos   \n",
              "370435                                                C50        MAT/MED   \n",
              "345057                          C50   Neopl malig da mama  Procedimentos   \n",
              "116710                                         CA DE MAMA        MAT/MED   \n",
              "130061                                  NEOPLASIA DE MAMA        MAT/MED   \n",
              "349833                                         CA DE MAMA        MAT/MED   \n",
              "174048  SOLICITAC?O DE PROCEDIMENTOS REALIZADOS NA INT...  Procedimentos   \n",
              "217667                                                c50  Procedimentos   \n",
              "96716                                          CA DE MAMA        MAT/MED   \n",
              "34416   Solicito liberac?o de tratamento referente a p...  Procedimentos   \n",
              "357281                                         CA DE MAMA  Procedimentos   \n",
              "\n",
              "           CD_ITEM                                            DS_ITEM  \\\n",
              "342556       54173  PERJETA 420 MG SOL DIL INFUS IV CT FA VD TRANS...   \n",
              "35476   2000002113  TAXOL 6 MG/ML SOL INJ IV CT FA VD INC X 16,7 M...   \n",
              "257214       77195  FULVESTRANTO 50MG/ML SOL.INJ.SER.PREENCH.5ML+A...   \n",
              "144637    60023406  TAXA DE SALA DE QUIMIOTERAPIA (QUIMIOTERAPICOS...   \n",
              "260743    60023406  TAXA DE SALA DE QUIMIOTERAPIA (QUIMIOTERAPICOS...   \n",
              "370435       74153  IBRANCE 125 MG CAP DURA CT FR PLAS OPC X 21 - CAP   \n",
              "345057    20104308  TERAPIA ONCOLOGICA - POR DIA SUBSEQUENTE DE TR...   \n",
              "116710       74188                  ANASTROZOL 1MG 30CPDS REV. - CPDS   \n",
              "130061  2000002111  TAXOL 6 MG/ML SOL INJ IV CT FA VD INC X 5 ML - MG   \n",
              "349833      149032  EQUIPO P/BOMBA INFUSAO PARENTERAL 270CM COMP.C...   \n",
              "174048    10102019             VISITA HOSPITALAR A PACIENTE INTERNADO   \n",
              "217667    60025662  TAXA DE USO DE BOMBA DE INFUS?O FORA DA UTI E ...   \n",
              "96716        33538                       LETROZOL 2,5MG 30CPDS - CPDS   \n",
              "34416     41203062  PCT-COMP - RADIOTERAPIA CONFORMADA TRIDIMENSIO...   \n",
              "357281    20104308  TERAPIA ONCOLOGICA - POR DIA SUBSEQUENTE DE TR...   \n",
              "\n",
              "                                               DS_CLASSE  \\\n",
              "342556                                   ANTINEOPLASICOS   \n",
              "35476                                    ANTINEOPLASICOS   \n",
              "257214                                   ANTINEOPLASICOS   \n",
              "144637                          FORA DO CENTRO CIRURGICO   \n",
              "260743                          FORA DO CENTRO CIRURGICO   \n",
              "370435                                   ANTINEOPLASICOS   \n",
              "345057                                       TERAPEUTICA   \n",
              "116710                ANTINEOPLASICOS E IMUNOMODULADORES   \n",
              "130061                                   ANTINEOPLASICOS   \n",
              "349833                               Material de consumo   \n",
              "174048                                           VISITAS   \n",
              "217667                        TAXA DE USO DE EQUIPAMENTO   \n",
              "96716                                    ANTINEOPLASICOS   \n",
              "34416   PROCEDIMENTOS / TECNICAS DE RADIOTERAPIA EXTERNA   \n",
              "357281                                       TERAPEUTICA   \n",
              "\n",
              "                                 DS_SUBGRUPO  \\\n",
              "342556               AGENTES ANTINEOPLASICOS   \n",
              "35476                AGENTES ANTINEOPLASICOS   \n",
              "257214               AGENTES ANTINEOPLASICOS   \n",
              "144637                          TAXA DE SALA   \n",
              "260743                          TAXA DE SALA   \n",
              "370435               AGENTES ANTINEOPLASICOS   \n",
              "345057  PROCEDIMENTOS CLINICOS AMBULATORIAIS   \n",
              "116710               AGENTES ANTINEOPLASICOS   \n",
              "130061               AGENTES ANTINEOPLASICOS   \n",
              "349833                   Material Hospitalar   \n",
              "174048                             CONSULTAS   \n",
              "217667            TAXA DE USO DE EQUIPAMENTO   \n",
              "96716                AGENTES ANTINEOPLASICOS   \n",
              "34416                           RADIOTERAPIA   \n",
              "357281  PROCEDIMENTOS CLINICOS AMBULATORIAIS   \n",
              "\n",
              "                                   DS_GRUPO  QT_SOLICITADA DS_STATUS_ITEM  \n",
              "342556                           Brasindice          420.0     Autorizado  \n",
              "35476                            Brasindice          100.0         Negado  \n",
              "257214                           Brasindice            2.0     Autorizado  \n",
              "144637                                TAXAS            1.0     Autorizado  \n",
              "260743                                TAXAS            2.0     Autorizado  \n",
              "370435                           Brasindice           21.0     Autorizado  \n",
              "345057                     PROCED. CLINICOS            1.0     Autorizado  \n",
              "116710                           Brasindice           30.0     Autorizado  \n",
              "130061                           Brasindice           30.0     Autorizado  \n",
              "349833                               Simpro            1.0     Autorizado  \n",
              "174048                       PROCED. GERAIS            5.0     Autorizado  \n",
              "217667                                TAXAS            1.0     Autorizado  \n",
              "96716                            Brasindice           30.0     Autorizado  \n",
              "34416   PROCED. DIAGNOSTICOS E TERAPEUTICOS            1.0     Autorizado  \n",
              "357281                     PROCED. CLINICOS            1.0         Negado  \n",
              "\n",
              "[15 rows x 25 columns]"
            ],
            "text/html": [
              "<div>\n",
              "<style scoped>\n",
              "    .dataframe tbody tr th:only-of-type {\n",
              "        vertical-align: middle;\n",
              "    }\n",
              "\n",
              "    .dataframe tbody tr th {\n",
              "        vertical-align: top;\n",
              "    }\n",
              "\n",
              "    .dataframe thead th {\n",
              "        text-align: right;\n",
              "    }\n",
              "</style>\n",
              "<table border=\"1\" class=\"dataframe\">\n",
              "  <thead>\n",
              "    <tr style=\"text-align: right;\">\n",
              "      <th></th>\n",
              "      <th>NR_SEQ_REQUISICAO</th>\n",
              "      <th>NR_SEQ_ITEM</th>\n",
              "      <th>DT_REQUISICAO</th>\n",
              "      <th>DS_TIPO_GUIA</th>\n",
              "      <th>DT_NASCIMENTO</th>\n",
              "      <th>NR_PRODUTO</th>\n",
              "      <th>DS_TIPO_PREST_SOLICITANTE</th>\n",
              "      <th>DS_CBO</th>\n",
              "      <th>DS_INDICACAO_ACIDENTE</th>\n",
              "      <th>DS_TIPO_INTERNACAO</th>\n",
              "      <th>...</th>\n",
              "      <th>CD_CID</th>\n",
              "      <th>DS_INDICACAO_CLINICA</th>\n",
              "      <th>DS_TIPO_ITEM</th>\n",
              "      <th>CD_ITEM</th>\n",
              "      <th>DS_ITEM</th>\n",
              "      <th>DS_CLASSE</th>\n",
              "      <th>DS_SUBGRUPO</th>\n",
              "      <th>DS_GRUPO</th>\n",
              "      <th>QT_SOLICITADA</th>\n",
              "      <th>DS_STATUS_ITEM</th>\n",
              "    </tr>\n",
              "  </thead>\n",
              "  <tbody>\n",
              "    <tr>\n",
              "      <th>342556</th>\n",
              "      <td>837154</td>\n",
              "      <td>861353</td>\n",
              "      <td>2459220</td>\n",
              "      <td>Guia de solicitac?o SP/SADT</td>\n",
              "      <td>2442486.0</td>\n",
              "      <td>1</td>\n",
              "      <td>CLINICA</td>\n",
              "      <td>Medico oncologista clinico</td>\n",
              "      <td>N?o acidente</td>\n",
              "      <td>Nao internacao</td>\n",
              "      <td>...</td>\n",
              "      <td>C50</td>\n",
              "      <td>CA DE MAMA</td>\n",
              "      <td>MAT/MED</td>\n",
              "      <td>54173</td>\n",
              "      <td>PERJETA 420 MG SOL DIL INFUS IV CT FA VD TRANS...</td>\n",
              "      <td>ANTINEOPLASICOS</td>\n",
              "      <td>AGENTES ANTINEOPLASICOS</td>\n",
              "      <td>Brasindice</td>\n",
              "      <td>420.0</td>\n",
              "      <td>Autorizado</td>\n",
              "    </tr>\n",
              "    <tr>\n",
              "      <th>35476</th>\n",
              "      <td>1007942</td>\n",
              "      <td>882311</td>\n",
              "      <td>2459310</td>\n",
              "      <td>Guia de solicitac?o SP/SADT</td>\n",
              "      <td>2439060.0</td>\n",
              "      <td>1</td>\n",
              "      <td>CLINICA</td>\n",
              "      <td>Medico oncologista clinico</td>\n",
              "      <td>Outros</td>\n",
              "      <td>Nao internacao</td>\n",
              "      <td>...</td>\n",
              "      <td>C50</td>\n",
              "      <td>NEOPLASIA DE MAMA</td>\n",
              "      <td>MAT/MED</td>\n",
              "      <td>2000002113</td>\n",
              "      <td>TAXOL 6 MG/ML SOL INJ IV CT FA VD INC X 16,7 M...</td>\n",
              "      <td>ANTINEOPLASICOS</td>\n",
              "      <td>AGENTES ANTINEOPLASICOS</td>\n",
              "      <td>Brasindice</td>\n",
              "      <td>100.0</td>\n",
              "      <td>Negado</td>\n",
              "    </tr>\n",
              "    <tr>\n",
              "      <th>257214</th>\n",
              "      <td>1044410</td>\n",
              "      <td>886418</td>\n",
              "      <td>2459328</td>\n",
              "      <td>Guia de solicitac?o SP/SADT</td>\n",
              "      <td>2434164.0</td>\n",
              "      <td>1</td>\n",
              "      <td>CLINICA</td>\n",
              "      <td>Medico oncologista clinico</td>\n",
              "      <td>N?o acidente</td>\n",
              "      <td>Nao internacao</td>\n",
              "      <td>...</td>\n",
              "      <td>C50</td>\n",
              "      <td>C50   Neopl malig da mama</td>\n",
              "      <td>MAT/MED</td>\n",
              "      <td>77195</td>\n",
              "      <td>FULVESTRANTO 50MG/ML SOL.INJ.SER.PREENCH.5ML+A...</td>\n",
              "      <td>ANTINEOPLASICOS</td>\n",
              "      <td>AGENTES ANTINEOPLASICOS</td>\n",
              "      <td>Brasindice</td>\n",
              "      <td>2.0</td>\n",
              "      <td>Autorizado</td>\n",
              "    </tr>\n",
              "    <tr>\n",
              "      <th>144637</th>\n",
              "      <td>1230876</td>\n",
              "      <td>3275321</td>\n",
              "      <td>2459425</td>\n",
              "      <td>Guia de solicitac?o SP/SADT</td>\n",
              "      <td>2440413.0</td>\n",
              "      <td>1</td>\n",
              "      <td>HOSPITAL</td>\n",
              "      <td>Medico clinico</td>\n",
              "      <td>N?o acidente</td>\n",
              "      <td>Nao internacao</td>\n",
              "      <td>...</td>\n",
              "      <td>C50</td>\n",
              "      <td>C50</td>\n",
              "      <td>Procedimentos</td>\n",
              "      <td>60023406</td>\n",
              "      <td>TAXA DE SALA DE QUIMIOTERAPIA (QUIMIOTERAPICOS...</td>\n",
              "      <td>FORA DO CENTRO CIRURGICO</td>\n",
              "      <td>TAXA DE SALA</td>\n",
              "      <td>TAXAS</td>\n",
              "      <td>1.0</td>\n",
              "      <td>Autorizado</td>\n",
              "    </tr>\n",
              "    <tr>\n",
              "      <th>260743</th>\n",
              "      <td>1276877</td>\n",
              "      <td>3433621</td>\n",
              "      <td>2459450</td>\n",
              "      <td>Guia de solicitac?o SP/SADT</td>\n",
              "      <td>2437050.0</td>\n",
              "      <td>1</td>\n",
              "      <td>HOSPITAL</td>\n",
              "      <td>Medico clinico</td>\n",
              "      <td>N?o acidente</td>\n",
              "      <td>Nao internacao</td>\n",
              "      <td>...</td>\n",
              "      <td>C50</td>\n",
              "      <td>ca de mama</td>\n",
              "      <td>Procedimentos</td>\n",
              "      <td>60023406</td>\n",
              "      <td>TAXA DE SALA DE QUIMIOTERAPIA (QUIMIOTERAPICOS...</td>\n",
              "      <td>FORA DO CENTRO CIRURGICO</td>\n",
              "      <td>TAXA DE SALA</td>\n",
              "      <td>TAXAS</td>\n",
              "      <td>2.0</td>\n",
              "      <td>Autorizado</td>\n",
              "    </tr>\n",
              "    <tr>\n",
              "      <th>370435</th>\n",
              "      <td>1287786</td>\n",
              "      <td>925115</td>\n",
              "      <td>2459454</td>\n",
              "      <td>Guia de solicitac?o SP/SADT</td>\n",
              "      <td>2435032.0</td>\n",
              "      <td>1</td>\n",
              "      <td>HOSPITAL</td>\n",
              "      <td>Medico clinico</td>\n",
              "      <td>N?o acidente</td>\n",
              "      <td>Nao internacao</td>\n",
              "      <td>...</td>\n",
              "      <td>C50</td>\n",
              "      <td>C50</td>\n",
              "      <td>MAT/MED</td>\n",
              "      <td>74153</td>\n",
              "      <td>IBRANCE 125 MG CAP DURA CT FR PLAS OPC X 21 - CAP</td>\n",
              "      <td>ANTINEOPLASICOS</td>\n",
              "      <td>AGENTES ANTINEOPLASICOS</td>\n",
              "      <td>Brasindice</td>\n",
              "      <td>21.0</td>\n",
              "      <td>Autorizado</td>\n",
              "    </tr>\n",
              "    <tr>\n",
              "      <th>345057</th>\n",
              "      <td>1518180</td>\n",
              "      <td>4214732</td>\n",
              "      <td>2459572</td>\n",
              "      <td>Guia de solicitac?o SP/SADT</td>\n",
              "      <td>2435177.0</td>\n",
              "      <td>1</td>\n",
              "      <td>CLINICA</td>\n",
              "      <td>Medico oncologista clinico</td>\n",
              "      <td>N?o acidente</td>\n",
              "      <td>Nao internacao</td>\n",
              "      <td>...</td>\n",
              "      <td>C50</td>\n",
              "      <td>C50   Neopl malig da mama</td>\n",
              "      <td>Procedimentos</td>\n",
              "      <td>20104308</td>\n",
              "      <td>TERAPIA ONCOLOGICA - POR DIA SUBSEQUENTE DE TR...</td>\n",
              "      <td>TERAPEUTICA</td>\n",
              "      <td>PROCEDIMENTOS CLINICOS AMBULATORIAIS</td>\n",
              "      <td>PROCED. CLINICOS</td>\n",
              "      <td>1.0</td>\n",
              "      <td>Autorizado</td>\n",
              "    </tr>\n",
              "    <tr>\n",
              "      <th>116710</th>\n",
              "      <td>938384</td>\n",
              "      <td>873166</td>\n",
              "      <td>2459269</td>\n",
              "      <td>Guia de solicitac?o SP/SADT</td>\n",
              "      <td>2442554.0</td>\n",
              "      <td>1</td>\n",
              "      <td>CLINICA</td>\n",
              "      <td>Medico oncologista clinico</td>\n",
              "      <td>N?o acidente</td>\n",
              "      <td>Nao internacao</td>\n",
              "      <td>...</td>\n",
              "      <td>C50</td>\n",
              "      <td>CA DE MAMA</td>\n",
              "      <td>MAT/MED</td>\n",
              "      <td>74188</td>\n",
              "      <td>ANASTROZOL 1MG 30CPDS REV. - CPDS</td>\n",
              "      <td>ANTINEOPLASICOS E IMUNOMODULADORES</td>\n",
              "      <td>AGENTES ANTINEOPLASICOS</td>\n",
              "      <td>Brasindice</td>\n",
              "      <td>30.0</td>\n",
              "      <td>Autorizado</td>\n",
              "    </tr>\n",
              "    <tr>\n",
              "      <th>130061</th>\n",
              "      <td>988290</td>\n",
              "      <td>879976</td>\n",
              "      <td>2459297</td>\n",
              "      <td>Guia de solicitac?o SP/SADT</td>\n",
              "      <td>2439060.0</td>\n",
              "      <td>1</td>\n",
              "      <td>CLINICA</td>\n",
              "      <td>Medico oncologista clinico</td>\n",
              "      <td>Outros</td>\n",
              "      <td>Nao internacao</td>\n",
              "      <td>...</td>\n",
              "      <td>C50</td>\n",
              "      <td>NEOPLASIA DE MAMA</td>\n",
              "      <td>MAT/MED</td>\n",
              "      <td>2000002111</td>\n",
              "      <td>TAXOL 6 MG/ML SOL INJ IV CT FA VD INC X 5 ML - MG</td>\n",
              "      <td>ANTINEOPLASICOS</td>\n",
              "      <td>AGENTES ANTINEOPLASICOS</td>\n",
              "      <td>Brasindice</td>\n",
              "      <td>30.0</td>\n",
              "      <td>Autorizado</td>\n",
              "    </tr>\n",
              "    <tr>\n",
              "      <th>349833</th>\n",
              "      <td>1191825</td>\n",
              "      <td>906527</td>\n",
              "      <td>2459403</td>\n",
              "      <td>Guia de solicitac?o SP/SADT</td>\n",
              "      <td>2441089.0</td>\n",
              "      <td>1</td>\n",
              "      <td>HOSPITAL</td>\n",
              "      <td>Medico clinico</td>\n",
              "      <td>N?o acidente</td>\n",
              "      <td>Nao internacao</td>\n",
              "      <td>...</td>\n",
              "      <td>C50</td>\n",
              "      <td>CA DE MAMA</td>\n",
              "      <td>MAT/MED</td>\n",
              "      <td>149032</td>\n",
              "      <td>EQUIPO P/BOMBA INFUSAO PARENTERAL 270CM COMP.C...</td>\n",
              "      <td>Material de consumo</td>\n",
              "      <td>Material Hospitalar</td>\n",
              "      <td>Simpro</td>\n",
              "      <td>1.0</td>\n",
              "      <td>Autorizado</td>\n",
              "    </tr>\n",
              "    <tr>\n",
              "      <th>174048</th>\n",
              "      <td>1495276</td>\n",
              "      <td>4145454</td>\n",
              "      <td>2459559</td>\n",
              "      <td>Guia de solicitac?o de prorrogac?o de internac?o</td>\n",
              "      <td>2442486.0</td>\n",
              "      <td>1</td>\n",
              "      <td>HOSPITAL</td>\n",
              "      <td>Medico clinico</td>\n",
              "      <td>N?o acidente</td>\n",
              "      <td>Clinica</td>\n",
              "      <td>...</td>\n",
              "      <td>C50</td>\n",
              "      <td>SOLICITAC?O DE PROCEDIMENTOS REALIZADOS NA INT...</td>\n",
              "      <td>Procedimentos</td>\n",
              "      <td>10102019</td>\n",
              "      <td>VISITA HOSPITALAR A PACIENTE INTERNADO</td>\n",
              "      <td>VISITAS</td>\n",
              "      <td>CONSULTAS</td>\n",
              "      <td>PROCED. GERAIS</td>\n",
              "      <td>5.0</td>\n",
              "      <td>Autorizado</td>\n",
              "    </tr>\n",
              "    <tr>\n",
              "      <th>217667</th>\n",
              "      <td>1281531</td>\n",
              "      <td>3449134</td>\n",
              "      <td>2459451</td>\n",
              "      <td>Guia de solicitac?o SP/SADT</td>\n",
              "      <td>2445583.0</td>\n",
              "      <td>1</td>\n",
              "      <td>HOSPITAL</td>\n",
              "      <td>Medico clinico</td>\n",
              "      <td>N?o acidente</td>\n",
              "      <td>Nao internacao</td>\n",
              "      <td>...</td>\n",
              "      <td>C50</td>\n",
              "      <td>c50</td>\n",
              "      <td>Procedimentos</td>\n",
              "      <td>60025662</td>\n",
              "      <td>TAXA DE USO DE BOMBA DE INFUS?O FORA DA UTI E ...</td>\n",
              "      <td>TAXA DE USO DE EQUIPAMENTO</td>\n",
              "      <td>TAXA DE USO DE EQUIPAMENTO</td>\n",
              "      <td>TAXAS</td>\n",
              "      <td>1.0</td>\n",
              "      <td>Autorizado</td>\n",
              "    </tr>\n",
              "    <tr>\n",
              "      <th>96716</th>\n",
              "      <td>942779</td>\n",
              "      <td>873997</td>\n",
              "      <td>2459270</td>\n",
              "      <td>Guia de solicitac?o SP/SADT</td>\n",
              "      <td>2434302.0</td>\n",
              "      <td>1</td>\n",
              "      <td>CLINICA</td>\n",
              "      <td>Medico oncologista clinico</td>\n",
              "      <td>N?o acidente</td>\n",
              "      <td>Nao internacao</td>\n",
              "      <td>...</td>\n",
              "      <td>C50</td>\n",
              "      <td>CA DE MAMA</td>\n",
              "      <td>MAT/MED</td>\n",
              "      <td>33538</td>\n",
              "      <td>LETROZOL 2,5MG 30CPDS - CPDS</td>\n",
              "      <td>ANTINEOPLASICOS</td>\n",
              "      <td>AGENTES ANTINEOPLASICOS</td>\n",
              "      <td>Brasindice</td>\n",
              "      <td>30.0</td>\n",
              "      <td>Autorizado</td>\n",
              "    </tr>\n",
              "    <tr>\n",
              "      <th>34416</th>\n",
              "      <td>839631</td>\n",
              "      <td>2018365</td>\n",
              "      <td>2459221</td>\n",
              "      <td>Guia de solicitac?o SP/SADT</td>\n",
              "      <td>2439897.0</td>\n",
              "      <td>1</td>\n",
              "      <td>CLINICA DE RADIOLOGIA</td>\n",
              "      <td>Medico radioterapeuta</td>\n",
              "      <td>Outros</td>\n",
              "      <td>Nao internacao</td>\n",
              "      <td>...</td>\n",
              "      <td>C50</td>\n",
              "      <td>Solicito liberac?o de tratamento referente a p...</td>\n",
              "      <td>Procedimentos</td>\n",
              "      <td>41203062</td>\n",
              "      <td>PCT-COMP - RADIOTERAPIA CONFORMADA TRIDIMENSIO...</td>\n",
              "      <td>PROCEDIMENTOS / TECNICAS DE RADIOTERAPIA EXTERNA</td>\n",
              "      <td>RADIOTERAPIA</td>\n",
              "      <td>PROCED. DIAGNOSTICOS E TERAPEUTICOS</td>\n",
              "      <td>1.0</td>\n",
              "      <td>Autorizado</td>\n",
              "    </tr>\n",
              "    <tr>\n",
              "      <th>357281</th>\n",
              "      <td>1203197</td>\n",
              "      <td>3179849</td>\n",
              "      <td>2459410</td>\n",
              "      <td>Guia de solicitac?o SP/SADT</td>\n",
              "      <td>2442565.0</td>\n",
              "      <td>1</td>\n",
              "      <td>CLINICA</td>\n",
              "      <td>Medico oncologista clinico</td>\n",
              "      <td>N?o acidente</td>\n",
              "      <td>Nao internacao</td>\n",
              "      <td>...</td>\n",
              "      <td>C50</td>\n",
              "      <td>CA DE MAMA</td>\n",
              "      <td>Procedimentos</td>\n",
              "      <td>20104308</td>\n",
              "      <td>TERAPIA ONCOLOGICA - POR DIA SUBSEQUENTE DE TR...</td>\n",
              "      <td>TERAPEUTICA</td>\n",
              "      <td>PROCEDIMENTOS CLINICOS AMBULATORIAIS</td>\n",
              "      <td>PROCED. CLINICOS</td>\n",
              "      <td>1.0</td>\n",
              "      <td>Negado</td>\n",
              "    </tr>\n",
              "  </tbody>\n",
              "</table>\n",
              "<p>15 rows × 25 columns</p>\n",
              "</div>"
            ]
          },
          "metadata": {},
          "execution_count": 82
        }
      ],
      "source": [
        "df[df.CD_CID == \"C50\"].sample(15)"
      ]
    },
    {
      "cell_type": "markdown",
      "metadata": {
        "id": "8TYXgM7b2aCC"
      },
      "source": [
        "> Tanto o código CID quanto a coluna TIPO_ATENDIMENTO são redundantes entre si. Podemos usar o CID para encontrar os valores faltantes da coluna TIPO_ATENDIMENTO."
      ]
    },
    {
      "cell_type": "code",
      "execution_count": 83,
      "metadata": {
        "pycharm": {
          "name": "#%%\n"
        },
        "colab": {
          "base_uri": "https://localhost:8080/"
        },
        "id": "k3vC3obT2aCC",
        "outputId": "b6160679-0b7a-4fe0-84be-b917a917b8bf"
      },
      "outputs": [
        {
          "output_type": "execute_result",
          "data": {
            "text/plain": [
              "B342    8011\n",
              "U071    1782\n",
              "I200     657\n",
              "B34      636\n",
              "N20      633\n",
              "        ... \n",
              "S81        1\n",
              "N02        1\n",
              "A81        1\n",
              "K36        1\n",
              "G431       1\n",
              "Name: CD_CID, Length: 870, dtype: int64"
            ]
          },
          "metadata": {},
          "execution_count": 83
        }
      ],
      "source": [
        "## Verificando o CID para os casos de TIPO_ATENDIMENTO nao especificados.\n",
        "df[df.DS_TIPO_ATENDIMENTO == \"Nao especificado\"].CD_CID.value_counts()"
      ]
    },
    {
      "cell_type": "code",
      "execution_count": 84,
      "metadata": {
        "pycharm": {
          "name": "#%%\n"
        },
        "id": "cgcWU0Il2aCC"
      },
      "outputs": [],
      "source": [
        "## CID B342 é infecção por coronavirus\n",
        "df.loc[df.CD_CID == \"B342\", \"DS_TIPO_ATENDIMENTO\"] = \"COVID\""
      ]
    },
    {
      "cell_type": "code",
      "execution_count": 85,
      "metadata": {
        "pycharm": {
          "name": "#%%\n"
        },
        "id": "kksf3Myv2aCD"
      },
      "outputs": [],
      "source": [
        "## CID U071 também está relacionado com o coronavirus\n",
        "df.loc[df.CD_CID == \"U071\", \"DS_TIPO_ATENDIMENTO\"] = \"COVID\""
      ]
    },
    {
      "cell_type": "markdown",
      "metadata": {
        "id": "yarMNwue2aCD"
      },
      "source": [
        "I200 já é angina, a partir daí vamos desconsiderar e manter com \"nao especificado\" a classe."
      ]
    },
    {
      "cell_type": "code",
      "execution_count": 86,
      "metadata": {
        "pycharm": {
          "name": "#%%\n"
        },
        "colab": {
          "base_uri": "https://localhost:8080/"
        },
        "id": "nchHw8px2aCD",
        "outputId": "cad371f5-9d62-4a93-c8b6-12fa2928fd6b"
      },
      "outputs": [
        {
          "output_type": "execute_result",
          "data": {
            "text/plain": [
              "Exames                              189281\n",
              "Nao especificado                    111544\n",
              "Pequena cirurgia                     45714\n",
              "Quimioterapia                        19869\n",
              "Pequenos atendimentos                13113\n",
              "COVID                                11073\n",
              "Pronto socorro                        9327\n",
              "Terapias                              6532\n",
              "Internac?o (SADT internado)           2908\n",
              "Terapia renal substitutiva (TRS)      1438\n",
              "Consulta                              1219\n",
              "Atendimento domiciliar                 529\n",
              "Radioterapia                           396\n",
              "Remoc?o                                206\n",
              "Terapia hiperbarica                    107\n",
              "Name: DS_TIPO_ATENDIMENTO, dtype: int64"
            ]
          },
          "metadata": {},
          "execution_count": 86
        }
      ],
      "source": [
        "df.DS_TIPO_ATENDIMENTO.value_counts()"
      ]
    },
    {
      "cell_type": "code",
      "execution_count": 87,
      "metadata": {
        "pycharm": {
          "name": "#%%\n"
        },
        "id": "ZCopyyU92aCD"
      },
      "outputs": [],
      "source": [
        "## Vamos dropar a coluna CID\n",
        "df.drop(columns=[\"CD_CID\"], inplace=True)"
      ]
    },
    {
      "cell_type": "code",
      "execution_count": 88,
      "metadata": {
        "pycharm": {
          "name": "#%%\n"
        },
        "colab": {
          "base_uri": "https://localhost:8080/"
        },
        "id": "pbzw81Ra2aCD",
        "outputId": "2b513d9c-6a56-4bf7-aa57-ef58fe89ce48"
      },
      "outputs": [
        {
          "output_type": "execute_result",
          "data": {
            "text/plain": [
              "NR_SEQ_REQUISICAO                0\n",
              "NR_SEQ_ITEM                      0\n",
              "DT_REQUISICAO                    0\n",
              "DS_TIPO_GUIA                     0\n",
              "DT_NASCIMENTO                    0\n",
              "NR_PRODUTO                       0\n",
              "DS_TIPO_PREST_SOLICITANTE        0\n",
              "DS_CBO                           0\n",
              "DS_INDICACAO_ACIDENTE            0\n",
              "DS_TIPO_INTERNACAO               0\n",
              "DS_REGIME_INTERNACAO             0\n",
              "DS_CARATER_ATENDIMENTO           0\n",
              "DS_TIPO_ACOMODACAO               0\n",
              "QT_DIA_SOLICITADO                0\n",
              "DS_TIPO_ATENDIMENTO              0\n",
              "DS_INDICACAO_CLINICA         87534\n",
              "DS_TIPO_ITEM                     0\n",
              "CD_ITEM                          0\n",
              "DS_ITEM                          0\n",
              "DS_CLASSE                        0\n",
              "DS_SUBGRUPO                      0\n",
              "DS_GRUPO                         0\n",
              "QT_SOLICITADA                    0\n",
              "DS_STATUS_ITEM                   0\n",
              "dtype: int64"
            ]
          },
          "metadata": {},
          "execution_count": 88
        }
      ],
      "source": [
        "df.isna().sum()"
      ]
    },
    {
      "cell_type": "markdown",
      "metadata": {
        "id": "rpNgezWM2aCE"
      },
      "source": [
        "#### DS_INDICACAO_CLINICA"
      ]
    },
    {
      "cell_type": "code",
      "execution_count": 89,
      "metadata": {
        "pycharm": {
          "name": "#%%\n"
        },
        "colab": {
          "base_uri": "https://localhost:8080/"
        },
        "id": "R40Eevcs2aCE",
        "outputId": "d2f8f141-240f-4472-e247-dc7b7fd668ad"
      },
      "outputs": [
        {
          "output_type": "execute_result",
          "data": {
            "text/plain": [
              "count       325722\n",
              "unique       68495\n",
              "top       EM ANEXO\n",
              "freq          7828\n",
              "Name: DS_INDICACAO_CLINICA, dtype: object"
            ]
          },
          "metadata": {},
          "execution_count": 89
        }
      ],
      "source": [
        "df.DS_INDICACAO_CLINICA.describe()"
      ]
    },
    {
      "cell_type": "code",
      "execution_count": 90,
      "metadata": {
        "pycharm": {
          "name": "#%%\n"
        },
        "colab": {
          "base_uri": "https://localhost:8080/"
        },
        "id": "Af580PWF2aCE",
        "outputId": "ba4491bd-8788-4969-dbe1-6466bdb0a930"
      },
      "outputs": [
        {
          "output_type": "execute_result",
          "data": {
            "text/plain": [
              "EM ANEXO                                                                                                                                                                                                                                                                                         7828\n",
              "Em anexo                                                                                                                                                                                                                                                                                         2044\n",
              "GLAUCOMA                                                                                                                                                                                                                                                                                         1722\n",
              "em anexo                                                                                                                                                                                                                                                                                         1590\n",
              "CA DE MAMA                                                                                                                                                                                                                                                                                       1314\n",
              "                                                                                                                                                                                                                                                                                                 ... \n",
              "PACIENTE COM CRISES DE DOR ABDOMINAL COM COLICAS BILIAR                                                                                                                                                                                                                                             1\n",
              "ALTERAC?ES DE ENZIMAS PALEOFITICOS. SOLICITO USG DE ABDOME TOTAL                                                                                                                                                                                                                                    1\n",
              "Solicitac?o\\nPaciente com quadro de dor miofascial no ombro direito.\\nsolicito 10 sessoes  de acupuntura                                                                                                                                                                                            1\n",
              " PACIENTE 18 ANOS COM QUADRO DE TPM, ASSOCIADO A NAUSEAS E VOMITOS, SEM MELHORA A MEDICAC?O ORAL.\\nPERIODO DE INTERNACAO 15/12 AS 00:06 E ALTA 15/12 AS 13: 00 HORAS\\n\\nDIARIA DE ENFERMARIA N?O EXECUTADA DEVIDO PACIENTE PERMANECER MENOS DE 1 DIA INTERNADA. SOLICITO AUTORIZAC?O DE TAXA.       1\n",
              "PACIENTE COM GRAU DE MIOPIA DEGENARATIVA E DESLOCAMENTO DE RETINA                                                                                                                                                                                                                                   1\n",
              "Name: DS_INDICACAO_CLINICA, Length: 68495, dtype: int64"
            ]
          },
          "metadata": {},
          "execution_count": 90
        }
      ],
      "source": [
        "df.DS_INDICACAO_CLINICA.value_counts()"
      ]
    },
    {
      "cell_type": "markdown",
      "metadata": {
        "id": "2wvFHJ9X2aCE"
      },
      "source": [
        "> Vou dropar essa coluna por ora, mas ela pode ser interessante em extrairmos a informação de que é um comentário rápido, apressado, ou se é um comentário mais detalhado, descritivo da doença. Se for algum que repetiu muitas vezes também, tirando o \"em anexo\", mas frases maiores que se repetem, talvez seja suspeito."
      ]
    },
    {
      "cell_type": "code",
      "execution_count": 91,
      "metadata": {
        "pycharm": {
          "name": "#%%\n"
        },
        "id": "w9ggpMHG2aCE"
      },
      "outputs": [],
      "source": [
        "aux = []\n",
        "\n",
        "for i in df.DS_INDICACAO_CLINICA:\n",
        "    if isinstance(i, float):\n",
        "        aux.append(\"Sem descricao\")\n",
        "    elif \" mama\" in i.lower():\n",
        "        aux.append(\"Cancer de mama\")\n",
        "    elif \"anexo\" in i.lower():\n",
        "        aux.append(\"Documento anexo\")\n",
        "    elif \"glaucoma\" in i.lower():\n",
        "        aux.append(\"Glaucoma\")\n",
        "    elif len(i) < 30:\n",
        "        aux.append(\"Curto\")\n",
        "    elif 30 <= len(i) <= 70:\n",
        "        aux.append(\"Medio\")\n",
        "    elif len(i) > 70:\n",
        "        aux.append(\"Detalhado\")"
      ]
    },
    {
      "cell_type": "code",
      "execution_count": 92,
      "metadata": {
        "pycharm": {
          "name": "#%%\n"
        },
        "id": "XPEL8IGi2aCF"
      },
      "outputs": [],
      "source": [
        "df.DS_INDICACAO_CLINICA = aux"
      ]
    },
    {
      "cell_type": "code",
      "execution_count": 93,
      "metadata": {
        "pycharm": {
          "name": "#%%\n"
        },
        "colab": {
          "base_uri": "https://localhost:8080/"
        },
        "id": "JSB4t_H32aCF",
        "outputId": "8b40e370-a996-42f7-fcd6-f5c3d4468cd8"
      },
      "outputs": [
        {
          "output_type": "execute_result",
          "data": {
            "text/plain": [
              "Detalhado          117437\n",
              "Sem descricao       87534\n",
              "Curto               77031\n",
              "Medio               57144\n",
              "Documento anexo     49516\n",
              "Glaucoma            14163\n",
              "Cancer de mama      10431\n",
              "Name: DS_INDICACAO_CLINICA, dtype: int64"
            ]
          },
          "metadata": {},
          "execution_count": 93
        }
      ],
      "source": [
        "df.DS_INDICACAO_CLINICA.value_counts()"
      ]
    },
    {
      "cell_type": "code",
      "execution_count": 94,
      "metadata": {
        "pycharm": {
          "name": "#%%\n"
        },
        "colab": {
          "base_uri": "https://localhost:8080/"
        },
        "id": "IOHeH0p22aCF",
        "outputId": "35c8064f-e2fc-4561-97f0-495aa1c90722"
      },
      "outputs": [
        {
          "output_type": "execute_result",
          "data": {
            "text/plain": [
              "NR_SEQ_REQUISICAO            0\n",
              "NR_SEQ_ITEM                  0\n",
              "DT_REQUISICAO                0\n",
              "DS_TIPO_GUIA                 0\n",
              "DT_NASCIMENTO                0\n",
              "NR_PRODUTO                   0\n",
              "DS_TIPO_PREST_SOLICITANTE    0\n",
              "DS_CBO                       0\n",
              "DS_INDICACAO_ACIDENTE        0\n",
              "DS_TIPO_INTERNACAO           0\n",
              "DS_REGIME_INTERNACAO         0\n",
              "DS_CARATER_ATENDIMENTO       0\n",
              "DS_TIPO_ACOMODACAO           0\n",
              "QT_DIA_SOLICITADO            0\n",
              "DS_TIPO_ATENDIMENTO          0\n",
              "DS_INDICACAO_CLINICA         0\n",
              "DS_TIPO_ITEM                 0\n",
              "CD_ITEM                      0\n",
              "DS_ITEM                      0\n",
              "DS_CLASSE                    0\n",
              "DS_SUBGRUPO                  0\n",
              "DS_GRUPO                     0\n",
              "QT_SOLICITADA                0\n",
              "DS_STATUS_ITEM               0\n",
              "dtype: int64"
            ]
          },
          "metadata": {},
          "execution_count": 94
        }
      ],
      "source": [
        "df.isna().sum()"
      ]
    },
    {
      "cell_type": "markdown",
      "metadata": {
        "id": "OkHQqtuu2aCF"
      },
      "source": [
        "### Recapitulação:"
      ]
    },
    {
      "cell_type": "markdown",
      "metadata": {
        "id": "VO-OkMyh2aCF"
      },
      "source": [
        "Removi 7 colunas, as quais eram:\n",
        "- CD_CID (redundante com TIPO_ATENDIMENTO)\n",
        "- CD_GUIA_REFERENCIA (Apenas um código de identificação sem significado)\n",
        "- DS_TIPO_CONSULTA (96% dos valores nulos, não podemos estimar a informação)\n",
        "- DS_TIPO_DOENCA (Apenas 970 valores não nulos...)\n",
        "- DS_TIPO_SAIDA (Todos valores nulos)\n",
        "- DS_UNIDADE_TEMPO_DOENCA (Apenas 304 valores não nulos)\n",
        "- QT_TEMPO_DOENCA (Apenas 303 valores não nulos)"
      ]
    },
    {
      "cell_type": "markdown",
      "metadata": {
        "id": "YZG1PIYR2aCG"
      },
      "source": [
        "Limpamos e preenchemos os valores nulos das colunas:"
      ]
    },
    {
      "cell_type": "markdown",
      "metadata": {
        "id": "AsiS0jit2aCG"
      },
      "source": [
        "## EDA"
      ]
    },
    {
      "cell_type": "code",
      "execution_count": 95,
      "metadata": {
        "pycharm": {
          "name": "#%%\n"
        },
        "id": "wz-sf6Q42aCG"
      },
      "outputs": [],
      "source": [
        "#from pandas_profiling import ProfileReport\n",
        "#prof = ProfileReport(df)\n",
        "#prof.to_notebook_iframe()"
      ]
    },
    {
      "cell_type": "markdown",
      "metadata": {
        "id": "CCG8C96_2aCG"
      },
      "source": [
        "#### NR_PRODUTO tem valor único"
      ]
    },
    {
      "cell_type": "code",
      "execution_count": 96,
      "metadata": {
        "pycharm": {
          "name": "#%%\n"
        },
        "colab": {
          "base_uri": "https://localhost:8080/"
        },
        "id": "97IvFN-C2aCG",
        "outputId": "b150a3c8-3f45-4728-f900-3364b049dd69"
      },
      "outputs": [
        {
          "output_type": "execute_result",
          "data": {
            "text/plain": [
              "array([1])"
            ]
          },
          "metadata": {},
          "execution_count": 96
        }
      ],
      "source": [
        "df.NR_PRODUTO.unique()"
      ]
    },
    {
      "cell_type": "code",
      "execution_count": 97,
      "metadata": {
        "pycharm": {
          "name": "#%%\n"
        },
        "id": "TW4g84ae2aCG"
      },
      "outputs": [],
      "source": [
        "## podemos dropar logo de cara\n",
        "df.drop(columns=[\"NR_PRODUTO\"], inplace=True)"
      ]
    },
    {
      "cell_type": "markdown",
      "metadata": {
        "id": "BQwnauiz2aCG"
      },
      "source": [
        "#### DS_CBO tem alta cardinalidade"
      ]
    },
    {
      "cell_type": "code",
      "execution_count": 98,
      "metadata": {
        "pycharm": {
          "name": "#%%\n"
        },
        "colab": {
          "base_uri": "https://localhost:8080/"
        },
        "id": "qZzEjqId2aCH",
        "outputId": "66937a3d-8262-4758-a288-13d2f51f8eb5"
      },
      "outputs": [
        {
          "output_type": "execute_result",
          "data": {
            "text/plain": [
              "Medico clinico                            110979\n",
              "Medico oftalmologista                      63597\n",
              "Medico ortopedista e traumatologista       62223\n",
              "Medico ginecologista e obstetra            29699\n",
              "Medico oncologista clinico                 16453\n",
              "                                           ...  \n",
              "Medico acupunturista                           4\n",
              "Cirurgi?o dentista - implantodontista          3\n",
              "Psicologo clinico                              3\n",
              "Medico fisiatra                                1\n",
              "Cirurgi?o dentista - dentistica                1\n",
              "Name: DS_CBO, Length: 66, dtype: int64"
            ]
          },
          "metadata": {},
          "execution_count": 98
        }
      ],
      "source": [
        "df.DS_CBO.value_counts()"
      ]
    },
    {
      "cell_type": "markdown",
      "metadata": {
        "id": "ie5KXUdH2aCH"
      },
      "source": [
        "Vamos averiguar como está a distribuição de frequência do CBO para as solicitações negadas."
      ]
    },
    {
      "cell_type": "code",
      "execution_count": 99,
      "metadata": {
        "pycharm": {
          "name": "#%%\n"
        },
        "colab": {
          "base_uri": "https://localhost:8080/"
        },
        "id": "gH8XOwtP2aCH",
        "outputId": "edaf7bc8-577d-4b38-93f6-3bae3512b9f3"
      },
      "outputs": [
        {
          "output_type": "execute_result",
          "data": {
            "text/plain": [
              "Medico clinico                                                 32672\n",
              "Medico ortopedista e traumatologista                           23654\n",
              "Medico oftalmologista                                          17063\n",
              "Medico ginecologista e obstetra                                 9911\n",
              "Medico urologista                                               4910\n",
              "Medico em medicina intensiva                                    4338\n",
              "Medico cardiologista                                            4049\n",
              "Medico  neurocirurgi?o                                          3976\n",
              "Medico cirurgi?o geral                                          3673\n",
              "Medico otorrinolaringologista                                   3436\n",
              "Medico oncologista clinico                                      2520\n",
              "Medico pediatra                                                 1893\n",
              "Medico cirurgi?o cardiovascular                                 1274\n",
              "Medico Mastologista                                             1190\n",
              "Medico endocrinologista e metabologista                          990\n",
              "Medico em cirurgia vascular                                      979\n",
              "Medico dermatologista                                            969\n",
              "Medico em endoscopia                                             922\n",
              "Medico cirurgi?o de cabeca e pescoco                             886\n",
              "Medico reumatologista                                            759\n",
              "Medico cancerologista cirurgico                                  709\n",
              "Medico proctologista                                             637\n",
              "Medico em radiologia e diagnostico por imagem                    526\n",
              "Medico neurologista                                              436\n",
              "Medico gastroenterologista                                       432\n",
              "Medico Nefrologista                                              425\n",
              "Medico cirurgi?o plastico                                        403\n",
              "Medico Hematologista                                             347\n",
              "Medico cirurgi?o da m?o                                          331\n",
              "Medico anestesiologista                                          323\n",
              "Nutricionista                                                    309\n",
              "Medico cirurgi?o do aparelho digestivo                           305\n",
              "Cirurgi?o dentista - traumatologista bucomaxilofacial            289\n",
              "Cirurgi?o dentista - ortopedista e ortodontista                  287\n",
              "Medico pneumologista                                             234\n",
              "Medico geriatra                                                  214\n",
              "Medico nutrologista                                              204\n",
              "Medico radioterapeuta                                            194\n",
              "Medico angiologista                                              192\n",
              "Medico infectologista                                            187\n",
              "Medico cirurgi?o toracico                                        154\n",
              "Cirurgi?o dentista - protesiologo bucomaxilofacial               139\n",
              "Medico de familia e comunidade                                   100\n",
              "Medico cirurgi?o pediatrico                                       86\n",
              "Medico do trabalho                                                79\n",
              "CBO do prestador solicitante desconhecido ou n?o informado        50\n",
              "Fisioterapeuta geral                                              40\n",
              "Medico psiquiatra                                                 30\n",
              "Medico em medicina de trafego                                     30\n",
              "Medico generalista                                                17\n",
              "Fonoaudiologo                                                     16\n",
              "Ortoptista                                                        15\n",
              "Medico patologista                                                 8\n",
              "Cirurgi?o dentista - clinico geral                                 6\n",
              "Medico alergista e imunologista                                    3\n",
              "Medico geneticista                                                 1\n",
              "Psicologo clinico                                                  1\n",
              "Medico Homeopata                                                   1\n",
              "Medico patologista clinico / medicina laboratorial                 1\n",
              "Name: DS_CBO, dtype: int64"
            ]
          },
          "metadata": {},
          "execution_count": 99
        }
      ],
      "source": [
        "df[df.DS_STATUS_ITEM == \"Negado\"].DS_CBO.value_counts()"
      ]
    },
    {
      "cell_type": "markdown",
      "metadata": {
        "id": "GDajPzXC2aCH"
      },
      "source": [
        "> Não podemos usar uma técnica como one hot encoder para discretizar essa feature, pois aumentaria muito a dimensão do problema. O ideal será buscar um encoder que não aumente a dimensionalidade."
      ]
    },
    {
      "cell_type": "markdown",
      "metadata": {
        "id": "dAZ-SEpY2aCH"
      },
      "source": [
        "#### DS_CLASSE tem alta cardinalidade"
      ]
    },
    {
      "cell_type": "code",
      "execution_count": 100,
      "metadata": {
        "pycharm": {
          "name": "#%%\n"
        },
        "colab": {
          "base_uri": "https://localhost:8080/"
        },
        "id": "gw2Vn7Lv2aCH",
        "outputId": "daf62f80-d4a6-4b42-c66e-dc208a612d6a"
      },
      "outputs": [
        {
          "output_type": "execute_result",
          "data": {
            "text/plain": [
              "PROCEDIMENTOS                                                  43128\n",
              "ULTRA-SONOGRAFIA DIAGNOSTICA                                   36352\n",
              "BIOQUIMICA                                                     27627\n",
              "Material de consumo                                            27520\n",
              "EM CENTRO CIRURGICO                                            21456\n",
              "                                                               ...  \n",
              "MANIPULADOR UTERINO                                                1\n",
              "OUTROS PRODUTOS COM ACAO NO MIOCARDIO E SISTEMA DE CONDUCAO        1\n",
              "ANTICONVULSIVANTES                                                 1\n",
              "COMPRESSA ABSORVENTE PARA NEUROCIRURGIA                            1\n",
              "NEUROLEPTICOS                                                      1\n",
              "Name: DS_CLASSE, Length: 501, dtype: int64"
            ]
          },
          "metadata": {},
          "execution_count": 100
        }
      ],
      "source": [
        "df.DS_CLASSE.value_counts()"
      ]
    },
    {
      "cell_type": "markdown",
      "metadata": {
        "id": "xJ7TEmuD2aCH"
      },
      "source": [
        "> Não podemos usar uma técnica como one hot encoder para discretizar essa feature, pois aumentaria muito a dimensão do problema. O ideal será buscar um encoder que não aumente a dimensionalidade."
      ]
    },
    {
      "cell_type": "markdown",
      "metadata": {
        "id": "ggB9omhv2aCI"
      },
      "source": [
        "#### DS_SUBGRUPO tem alta cardinalidade"
      ]
    },
    {
      "cell_type": "code",
      "execution_count": 101,
      "metadata": {
        "pycharm": {
          "name": "#%%\n"
        },
        "colab": {
          "base_uri": "https://localhost:8080/"
        },
        "id": "Kq9A2ztV2aCI",
        "outputId": "533951fd-314e-434f-9f5c-49392ace34e6"
      },
      "outputs": [
        {
          "output_type": "execute_result",
          "data": {
            "text/plain": [
              "MEDICINA LABORATORIAL                                                                      62604\n",
              "Material Hospitalar                                                                        51662\n",
              "ULTRA-SONOGRAFIA                                                                           36467\n",
              "EXAMES ESPECIFICOS                                                                         33757\n",
              "TAXA DE SALA                                                                               30049\n",
              "                                                                                           ...  \n",
              "AGENTES IMUNIZANTES                                                                            4\n",
              "PRODUTOS DERMATOLOGICOS E MEMBRANAS MUCOSAS                                                    3\n",
              "SISTEMA DIGESTIVO, METABOLISMO E NUTRICAO+SISTEMA GENITO URINARIO E HORMONIOS SEXUAIS          2\n",
              "PRODUTOS DERMATOLOGICOS E MEMBRANAS MUCOSAS+SISTEMA GENITO URINARIO E HORMONIOS SEXUAIS        2\n",
              "SISTEMA DIGESTIVO+METABOLISMO E NUTRICAO                                                       1\n",
              "Name: DS_SUBGRUPO, Length: 73, dtype: int64"
            ]
          },
          "metadata": {},
          "execution_count": 101
        }
      ],
      "source": [
        "df.DS_SUBGRUPO.value_counts()"
      ]
    },
    {
      "cell_type": "markdown",
      "metadata": {
        "id": "gBpjQe9r2aCI"
      },
      "source": [
        "> Não podemos usar uma técnica como one hot encoder para discretizar essa feature, pois aumentaria muito a dimensão do problema. O ideal será buscar um encoder que não aumente a dimensionalidade."
      ]
    },
    {
      "cell_type": "markdown",
      "metadata": {
        "id": "emDYwtW42aCI"
      },
      "source": [
        "Uma ideia seria pegar os 4 valroes mais frequentes filtrados pelos pedidos que foram negados."
      ]
    },
    {
      "cell_type": "markdown",
      "metadata": {
        "id": "E7ictSAt2aCI"
      },
      "source": [
        "### Verificando as features e seus significados:"
      ]
    },
    {
      "cell_type": "code",
      "execution_count": 102,
      "metadata": {
        "pycharm": {
          "name": "#%%\n"
        },
        "colab": {
          "base_uri": "https://localhost:8080/"
        },
        "id": "VwXIU8AN2aCI",
        "outputId": "7667d6c6-7909-4fb1-f904-1567a3613aae"
      },
      "outputs": [
        {
          "output_type": "stream",
          "name": "stdout",
          "text": [
            "<class 'pandas.core.frame.DataFrame'>\n",
            "Int64Index: 413256 entries, 0 to 413265\n",
            "Data columns (total 23 columns):\n",
            " #   Column                     Non-Null Count   Dtype  \n",
            "---  ------                     --------------   -----  \n",
            " 0   NR_SEQ_REQUISICAO          413256 non-null  int64  \n",
            " 1   NR_SEQ_ITEM                413256 non-null  int64  \n",
            " 2   DT_REQUISICAO              413256 non-null  int64  \n",
            " 3   DS_TIPO_GUIA               413256 non-null  object \n",
            " 4   DT_NASCIMENTO              413256 non-null  float64\n",
            " 5   DS_TIPO_PREST_SOLICITANTE  413256 non-null  object \n",
            " 6   DS_CBO                     413256 non-null  object \n",
            " 7   DS_INDICACAO_ACIDENTE      413256 non-null  object \n",
            " 8   DS_TIPO_INTERNACAO         413256 non-null  object \n",
            " 9   DS_REGIME_INTERNACAO       413256 non-null  object \n",
            " 10  DS_CARATER_ATENDIMENTO     413256 non-null  object \n",
            " 11  DS_TIPO_ACOMODACAO         413256 non-null  object \n",
            " 12  QT_DIA_SOLICITADO          413256 non-null  float64\n",
            " 13  DS_TIPO_ATENDIMENTO        413256 non-null  object \n",
            " 14  DS_INDICACAO_CLINICA       413256 non-null  object \n",
            " 15  DS_TIPO_ITEM               413256 non-null  object \n",
            " 16  CD_ITEM                    413256 non-null  int64  \n",
            " 17  DS_ITEM                    413256 non-null  object \n",
            " 18  DS_CLASSE                  413256 non-null  object \n",
            " 19  DS_SUBGRUPO                413256 non-null  object \n",
            " 20  DS_GRUPO                   413256 non-null  object \n",
            " 21  QT_SOLICITADA              413256 non-null  float64\n",
            " 22  DS_STATUS_ITEM             413256 non-null  object \n",
            "dtypes: float64(3), int64(4), object(16)\n",
            "memory usage: 75.7+ MB\n"
          ]
        }
      ],
      "source": [
        "df.info()"
      ]
    },
    {
      "cell_type": "markdown",
      "metadata": {
        "id": "ZMK00Gbc2aCI"
      },
      "source": [
        "#### NR_SEQ_REQUISICAO"
      ]
    },
    {
      "cell_type": "markdown",
      "metadata": {
        "id": "4sEXPNYv2aCJ"
      },
      "source": [
        "Sabemos que essa feature é um identificador de itens que estão em uma mesma requisição."
      ]
    },
    {
      "cell_type": "code",
      "execution_count": 103,
      "metadata": {
        "pycharm": {
          "name": "#%%\n"
        },
        "colab": {
          "base_uri": "https://localhost:8080/"
        },
        "id": "NXSh5lyU2aCJ",
        "outputId": "1ff1d449-4a69-422e-8548-35f823bbc54c"
      },
      "outputs": [
        {
          "output_type": "execute_result",
          "data": {
            "text/plain": [
              "1106816    78\n",
              "907187     69\n",
              "1489051    67\n",
              "905164     66\n",
              "889257     66\n",
              "           ..\n",
              "1457281     1\n",
              "1470829     1\n",
              "1464680     1\n",
              "959634      1\n",
              "958548      1\n",
              "Name: NR_SEQ_REQUISICAO, Length: 141692, dtype: int64"
            ]
          },
          "metadata": {},
          "execution_count": 103
        }
      ],
      "source": [
        "df.NR_SEQ_REQUISICAO.value_counts()"
      ]
    },
    {
      "cell_type": "markdown",
      "metadata": {
        "id": "rSGL51St2aCJ"
      },
      "source": [
        "> Algumas requisições possuem mais de 50 itens juntos."
      ]
    },
    {
      "cell_type": "markdown",
      "metadata": {
        "id": "nniV9AP42aCJ"
      },
      "source": [
        "> Podemos dropar essa feature, pois o auditor deve avaliar cada item sozinho. Também devemos remover qualquer indicador que possa relacionar que dois itens estão em uma mesma requisição. Já que queremos que nosso modelo aprenda a classificar cada item particulamente."
      ]
    },
    {
      "cell_type": "code",
      "execution_count": 104,
      "metadata": {
        "pycharm": {
          "name": "#%%\n"
        },
        "id": "-qROjyZG2aCJ"
      },
      "outputs": [],
      "source": [
        "df.drop(columns=[\"NR_SEQ_REQUISICAO\"], inplace=True)"
      ]
    },
    {
      "cell_type": "markdown",
      "metadata": {
        "id": "a1S9CFg72aCJ"
      },
      "source": [
        "#### NR_SEQ_ITEM"
      ]
    },
    {
      "cell_type": "code",
      "execution_count": 105,
      "metadata": {
        "pycharm": {
          "name": "#%%\n"
        },
        "colab": {
          "base_uri": "https://localhost:8080/"
        },
        "id": "YPP-GTFS2aCJ",
        "outputId": "46db0a51-cdba-4a6c-d192-20adfdca6755"
      },
      "outputs": [
        {
          "output_type": "execute_result",
          "data": {
            "text/plain": [
              "4194304    1\n",
              "962178     1\n",
              "929426     1\n",
              "4116110    1\n",
              "2023052    1\n",
              "          ..\n",
              "3221640    1\n",
              "4278404    1\n",
              "3242114    1\n",
              "3238016    1\n",
              "3147775    1\n",
              "Name: NR_SEQ_ITEM, Length: 413256, dtype: int64"
            ]
          },
          "metadata": {},
          "execution_count": 105
        }
      ],
      "source": [
        "df.NR_SEQ_ITEM.value_counts()"
      ]
    },
    {
      "cell_type": "markdown",
      "metadata": {
        "id": "RcKdxuMJ2aCK"
      },
      "source": [
        "> Cada item aqui é único, também um identificador de itens. Não carrega informação consigo, podemos dropar."
      ]
    },
    {
      "cell_type": "code",
      "execution_count": 106,
      "metadata": {
        "pycharm": {
          "name": "#%%\n"
        },
        "id": "0rF9mslw2aCK"
      },
      "outputs": [],
      "source": [
        "df.drop(columns=[\"NR_SEQ_ITEM\"], inplace=True)"
      ]
    },
    {
      "cell_type": "markdown",
      "metadata": {
        "id": "xc6QFSNo2aCK"
      },
      "source": [
        "#### DT_REQUISICAO"
      ]
    },
    {
      "cell_type": "markdown",
      "metadata": {
        "id": "_1O7bSax2aCK"
      },
      "source": [
        "A data de requisição é uma feature que não traz consigo muita informação discriminatória dos exemplos no dataset, visto que não vejo como a \"temporada\" influenciaria na aprovação ou desaprovação dos auditores, ao menos não deveria influenciar. Podemos averiguar essa relação depois."
      ]
    },
    {
      "cell_type": "code",
      "execution_count": 107,
      "metadata": {
        "pycharm": {
          "name": "#%%\n"
        },
        "id": "SVtUqwCS2aCK"
      },
      "outputs": [],
      "source": [
        "df.DT_REQUISICAO = pd.to_datetime(df.DT_REQUISICAO, unit=\"D\", origin=\"julian\")"
      ]
    },
    {
      "cell_type": "code",
      "execution_count": 108,
      "metadata": {
        "pycharm": {
          "name": "#%%\n"
        },
        "id": "ZImDxMxA2aCK"
      },
      "outputs": [],
      "source": [
        "df.DT_REQUISICAO = [x.month for x in df.DT_REQUISICAO]"
      ]
    },
    {
      "cell_type": "code",
      "execution_count": 109,
      "metadata": {
        "pycharm": {
          "name": "#%%\n"
        },
        "colab": {
          "base_uri": "https://localhost:8080/"
        },
        "id": "yZrDLwtN2aCK",
        "outputId": "d7670adf-7f31-40b3-94ab-ae433fa645aa"
      },
      "outputs": [
        {
          "output_type": "execute_result",
          "data": {
            "text/plain": [
              "9     16024\n",
              "8     13659\n",
              "1     13425\n",
              "12    13080\n",
              "11    12902\n",
              "10    11263\n",
              "2     11257\n",
              "6      8271\n",
              "5      7429\n",
              "4      7147\n",
              "3      6778\n",
              "7      6590\n",
              "Name: DT_REQUISICAO, dtype: int64"
            ]
          },
          "metadata": {},
          "execution_count": 109
        }
      ],
      "source": [
        "df[df.DS_STATUS_ITEM==\"Negado\"].DT_REQUISICAO.value_counts()"
      ]
    },
    {
      "cell_type": "code",
      "execution_count": 110,
      "metadata": {
        "pycharm": {
          "name": "#%%\n"
        },
        "colab": {
          "base_uri": "https://localhost:8080/"
        },
        "id": "E6YtwT0e2aCL",
        "outputId": "ffd3c5dc-0e07-4c68-890c-43851a12772c"
      },
      "outputs": [
        {
          "output_type": "execute_result",
          "data": {
            "text/plain": [
              "9     42154\n",
              "8     32220\n",
              "10    29386\n",
              "2     28453\n",
              "1     27920\n",
              "11    24913\n",
              "12    23895\n",
              "6     18972\n",
              "7     17544\n",
              "5     16023\n",
              "3     12511\n",
              "4     11440\n",
              "Name: DT_REQUISICAO, dtype: int64"
            ]
          },
          "metadata": {},
          "execution_count": 110
        }
      ],
      "source": [
        "df[df.DS_STATUS_ITEM==\"Autorizado\"].DT_REQUISICAO.value_counts()"
      ]
    },
    {
      "cell_type": "markdown",
      "metadata": {
        "id": "6qftoUNu2aCL"
      },
      "source": [
        "> De fato, parece não fazer sentido."
      ]
    },
    {
      "cell_type": "code",
      "execution_count": 111,
      "metadata": {
        "pycharm": {
          "name": "#%%\n"
        },
        "id": "YJjFfnU52aCL"
      },
      "outputs": [],
      "source": [
        "df.drop(columns=[\"DT_REQUISICAO\"], inplace=True)"
      ]
    },
    {
      "cell_type": "markdown",
      "metadata": {
        "id": "ccfdgyE82aCL"
      },
      "source": [
        "#### DS_TIPO_GUIA"
      ]
    },
    {
      "cell_type": "code",
      "execution_count": 112,
      "metadata": {
        "pycharm": {
          "name": "#%%\n"
        },
        "colab": {
          "base_uri": "https://localhost:8080/"
        },
        "id": "RLmpgpL82aCL",
        "outputId": "8e96fdb4-debb-4ac7-fb09-187d2764caac"
      },
      "outputs": [
        {
          "output_type": "execute_result",
          "data": {
            "text/plain": [
              "Guia de solicitac?o SP/SADT                         291196\n",
              "Guia de solicitac?o internac?o                       62230\n",
              "Guia de solicitac?o de prorrogac?o de internac?o     59830\n",
              "Name: DS_TIPO_GUIA, dtype: int64"
            ]
          },
          "metadata": {},
          "execution_count": 112
        }
      ],
      "source": [
        "df.DS_TIPO_GUIA.value_counts()"
      ]
    },
    {
      "cell_type": "markdown",
      "metadata": {
        "id": "Felmkt-I2aCL"
      },
      "source": [
        "> Essa feature é interessante, baixa cardinalidade, apenas desbalanceada, mas pode ser bastante útil."
      ]
    },
    {
      "cell_type": "code",
      "execution_count": 113,
      "metadata": {
        "pycharm": {
          "name": "#%%\n"
        },
        "id": "hn34-9bl2aCL"
      },
      "outputs": [],
      "source": [
        "## apenas ajeitando-a para ficar um pouco mais fácil de ler\n",
        "\n",
        "df.DS_TIPO_GUIA = df.DS_TIPO_GUIA.map({\"Guia de solicitac?o SP/SADT\":\"SADT\",\n",
        "                                       \"Guia de solicitac?o internac?o\":\"Internacao\",\n",
        "                                       \"Guia de solicitac?o de prorrogac?o de internac?o\":\"Prorrogacao\"})"
      ]
    },
    {
      "cell_type": "code",
      "execution_count": 114,
      "metadata": {
        "pycharm": {
          "name": "#%%\n"
        },
        "colab": {
          "base_uri": "https://localhost:8080/"
        },
        "id": "f4mgbQvD2aCM",
        "outputId": "df1561fc-f20f-4b67-c052-52fa5f8d12ef"
      },
      "outputs": [
        {
          "output_type": "execute_result",
          "data": {
            "text/plain": [
              "SADT           291196\n",
              "Internacao      62230\n",
              "Prorrogacao     59830\n",
              "Name: DS_TIPO_GUIA, dtype: int64"
            ]
          },
          "metadata": {},
          "execution_count": 114
        }
      ],
      "source": [
        "df.DS_TIPO_GUIA.value_counts()"
      ]
    },
    {
      "cell_type": "markdown",
      "metadata": {
        "id": "sV55J57e2aCM"
      },
      "source": [
        "#### DT_NASCIMENTO"
      ]
    },
    {
      "cell_type": "markdown",
      "metadata": {
        "id": "M2J4Ckod2aCM"
      },
      "source": [
        "Aqui temos uma feature interessante, que devemos retirar a data de nascimento e substituir pela idade do indivíduo, pois a idade contém informação discriminatória, já a data contém informação que identifica a pessoa, o que pode enviesar o modelo."
      ]
    },
    {
      "cell_type": "code",
      "execution_count": 115,
      "metadata": {
        "pycharm": {
          "name": "#%%\n"
        },
        "id": "wuEi-i8o2aCM"
      },
      "outputs": [],
      "source": [
        "df.DT_NASCIMENTO = pd.to_datetime(df.DT_NASCIMENTO, unit=\"D\", origin=\"julian\")"
      ]
    },
    {
      "cell_type": "code",
      "execution_count": 116,
      "metadata": {
        "pycharm": {
          "name": "#%%\n"
        },
        "id": "uAXqaeAQ2aCM"
      },
      "outputs": [],
      "source": [
        "df.DT_NASCIMENTO = [x.year for x in df.DT_NASCIMENTO]  # pegando apenas o ano de nascimento"
      ]
    },
    {
      "cell_type": "code",
      "execution_count": 117,
      "metadata": {
        "pycharm": {
          "name": "#%%\n"
        },
        "id": "NHgQhrVF2aCM"
      },
      "outputs": [],
      "source": [
        "df.DT_NASCIMENTO = [2022 - x for x in df.DT_NASCIMENTO]  # pegando apenas a idade agora (sem muito rigor)"
      ]
    },
    {
      "cell_type": "code",
      "execution_count": 118,
      "metadata": {
        "pycharm": {
          "name": "#%%\n"
        },
        "colab": {
          "base_uri": "https://localhost:8080/"
        },
        "id": "3dmThb5G2aCN",
        "outputId": "58e1c42b-ce61-4386-fd80-64c185d7021a"
      },
      "outputs": [
        {
          "output_type": "execute_result",
          "data": {
            "text/plain": [
              "count    413256.000000\n",
              "mean         55.341481\n",
              "std          18.791339\n",
              "min           1.000000\n",
              "25%          45.000000\n",
              "50%          57.000000\n",
              "75%          69.000000\n",
              "max         104.000000\n",
              "Name: DT_NASCIMENTO, dtype: float64"
            ]
          },
          "metadata": {},
          "execution_count": 118
        }
      ],
      "source": [
        "df.DT_NASCIMENTO.describe()"
      ]
    },
    {
      "cell_type": "code",
      "execution_count": 119,
      "metadata": {
        "pycharm": {
          "name": "#%%\n"
        },
        "colab": {
          "base_uri": "https://localhost:8080/",
          "height": 0
        },
        "id": "8h0nmG-T2aCN",
        "outputId": "1fa4e3fc-9f37-4a4f-e9e4-44087ea0d348"
      },
      "outputs": [
        {
          "output_type": "execute_result",
          "data": {
            "text/plain": [
              "<AxesSubplot:ylabel='DT_NASCIMENTO'>"
            ]
          },
          "metadata": {},
          "execution_count": 119
        },
        {
          "output_type": "display_data",
          "data": {
            "text/plain": [
              "<Figure size 432x288 with 1 Axes>"
            ],
            "image/png": "[encoded data removed]"
          },
          "metadata": {
            "needs_background": "light"
          }
        }
      ],
      "source": [
        "sns.boxplot(y=df.DT_NASCIMENTO)"
      ]
    },
    {
      "cell_type": "markdown",
      "metadata": {
        "id": "4jAUCAnZ2aCN"
      },
      "source": [
        "#### Ds_TIPO_PREST_SOLICITANTE"
      ]
    },
    {
      "cell_type": "code",
      "execution_count": 120,
      "metadata": {
        "pycharm": {
          "name": "#%%\n"
        },
        "colab": {
          "base_uri": "https://localhost:8080/"
        },
        "id": "gG_s-Jep2aCN",
        "outputId": "ab9a9534-f7f1-4ca2-f286-ef7d9323dbb0"
      },
      "outputs": [
        {
          "output_type": "execute_result",
          "data": {
            "text/plain": [
              "CLINICA                  162842\n",
              "HOSPITAL                 154356\n",
              "LABORATORIO               42094\n",
              "CLINICA DE IMAGEM         20616\n",
              "PRESTADOR DE SERVICOS     14528\n",
              "MEDICO                     6739\n",
              "UTI                        6462\n",
              "CLINICA  DE UROLOGIA       3994\n",
              "HOME CARE                   799\n",
              "CLINICA DE RADIOLOGIA       424\n",
              "INTERCAMBIO                 265\n",
              "COOPERATIVA                 137\n",
              "Name: DS_TIPO_PREST_SOLICITANTE, dtype: int64"
            ]
          },
          "metadata": {},
          "execution_count": 120
        }
      ],
      "source": [
        "df.DS_TIPO_PREST_SOLICITANTE.value_counts()"
      ]
    },
    {
      "cell_type": "markdown",
      "metadata": {
        "id": "Fg0bPnCA2aCN"
      },
      "source": [
        "> Tenho que pensar em uma forma de reduzir a dimensionalidade apenas para essa feature."
      ]
    },
    {
      "cell_type": "markdown",
      "metadata": {
        "id": "RQcpWD4w2aCN"
      },
      "source": [
        "#### DS_CBO"
      ]
    },
    {
      "cell_type": "code",
      "execution_count": 121,
      "metadata": {
        "pycharm": {
          "name": "#%%\n"
        },
        "colab": {
          "base_uri": "https://localhost:8080/"
        },
        "id": "INFsYKHh2aCN",
        "outputId": "ae716a18-9090-4f4b-d040-f852de463487"
      },
      "outputs": [
        {
          "output_type": "execute_result",
          "data": {
            "text/plain": [
              "Medico clinico                            110979\n",
              "Medico oftalmologista                      63597\n",
              "Medico ortopedista e traumatologista       62223\n",
              "Medico ginecologista e obstetra            29699\n",
              "Medico oncologista clinico                 16453\n",
              "                                           ...  \n",
              "Medico acupunturista                           4\n",
              "Cirurgi?o dentista - implantodontista          3\n",
              "Psicologo clinico                              3\n",
              "Medico fisiatra                                1\n",
              "Cirurgi?o dentista - dentistica                1\n",
              "Name: DS_CBO, Length: 66, dtype: int64"
            ]
          },
          "metadata": {},
          "execution_count": 121
        }
      ],
      "source": [
        "df.DS_CBO.value_counts()"
      ]
    },
    {
      "cell_type": "markdown",
      "metadata": {
        "id": "nxFbYdCm2aCO"
      },
      "source": [
        "> Devo pensar em como reduzir dimensionalidade desse carinha também."
      ]
    },
    {
      "cell_type": "markdown",
      "metadata": {
        "id": "q9YwVMHC2aCO"
      },
      "source": [
        "#### DS_INDICACAO_ACIDENTE"
      ]
    },
    {
      "cell_type": "code",
      "execution_count": 122,
      "metadata": {
        "pycharm": {
          "name": "#%%\n"
        },
        "colab": {
          "base_uri": "https://localhost:8080/"
        },
        "id": "mpwv4qrz2aCO",
        "outputId": "40ff0e24-eedd-421f-d51f-7ec0574310ed"
      },
      "outputs": [
        {
          "output_type": "execute_result",
          "data": {
            "text/plain": [
              "N?o acidente    351743\n",
              "Outros           60579\n",
              "Trabalho           745\n",
              "Transito           189\n",
              "Name: DS_INDICACAO_ACIDENTE, dtype: int64"
            ]
          },
          "metadata": {},
          "execution_count": 122
        }
      ],
      "source": [
        "df.DS_INDICACAO_ACIDENTE.value_counts()"
      ]
    },
    {
      "cell_type": "markdown",
      "metadata": {
        "id": "O75xg4Ux2aCO"
      },
      "source": [
        "> Há pouquíssimos exemplos dessa feature em cada categoria. Vou remover essa feature"
      ]
    },
    {
      "cell_type": "code",
      "execution_count": 123,
      "metadata": {
        "pycharm": {
          "name": "#%%\n"
        },
        "id": "Qlx6RH_V2aCO"
      },
      "outputs": [],
      "source": [
        "negado = df[df.DS_STATUS_ITEM == \"Negado\"]"
      ]
    },
    {
      "cell_type": "code",
      "execution_count": 124,
      "metadata": {
        "pycharm": {
          "name": "#%%\n"
        },
        "colab": {
          "base_uri": "https://localhost:8080/"
        },
        "id": "4Xjy0qIJ2aCO",
        "outputId": "25c79445-310e-4e50-e755-d42174d6f206"
      },
      "outputs": [
        {
          "output_type": "execute_result",
          "data": {
            "text/plain": [
              "N?o acidente    104367\n",
              "Outros           23064\n",
              "Trabalho           323\n",
              "Transito            71\n",
              "Name: DS_INDICACAO_ACIDENTE, dtype: int64"
            ]
          },
          "metadata": {},
          "execution_count": 124
        }
      ],
      "source": [
        "negado.DS_INDICACAO_ACIDENTE.value_counts()"
      ]
    },
    {
      "cell_type": "markdown",
      "metadata": {
        "id": "5XzFESOG2aCO"
      },
      "source": [
        "> Ainda manteve a proporção em todas as classes quando filtramos pelas negadas, não serve pra muita coisa."
      ]
    },
    {
      "cell_type": "code",
      "execution_count": 125,
      "metadata": {
        "pycharm": {
          "name": "#%%\n"
        },
        "id": "RbH74I0m2aCP"
      },
      "outputs": [],
      "source": [
        "df.drop(columns=[\"DS_INDICACAO_ACIDENTE\"], inplace=True)"
      ]
    },
    {
      "cell_type": "markdown",
      "metadata": {
        "id": "dC7yBtZv2aCP"
      },
      "source": [
        "#### DS_TIPO_INTERNACAO"
      ]
    },
    {
      "cell_type": "code",
      "execution_count": 126,
      "metadata": {
        "pycharm": {
          "name": "#%%\n"
        },
        "colab": {
          "base_uri": "https://localhost:8080/"
        },
        "id": "yposOQPo2aCP",
        "outputId": "47d6cc7b-7637-4083-dffb-ff4a993d64f4"
      },
      "outputs": [
        {
          "output_type": "execute_result",
          "data": {
            "text/plain": [
              "Nao internacao    291216\n",
              "Clinica            58232\n",
              "Cirurgica          58066\n",
              "Pediatrica          2579\n",
              "Obstetrica          1736\n",
              "Hemodinamica        1378\n",
              "Psiquiatrica          49\n",
              "Name: DS_TIPO_INTERNACAO, dtype: int64"
            ]
          },
          "metadata": {},
          "execution_count": 126
        }
      ],
      "source": [
        "df.DS_TIPO_INTERNACAO.value_counts()"
      ]
    },
    {
      "cell_type": "markdown",
      "metadata": {
        "id": "XJmJKXFP2aCP"
      },
      "source": [
        "> Apenas reduzir a dimensionalidade."
      ]
    },
    {
      "cell_type": "markdown",
      "metadata": {
        "id": "T4DX2Qjw2aCP"
      },
      "source": [
        "#### DS_REGIME_INTERNACAO"
      ]
    },
    {
      "cell_type": "code",
      "execution_count": 127,
      "metadata": {
        "pycharm": {
          "name": "#%%\n"
        },
        "colab": {
          "base_uri": "https://localhost:8080/"
        },
        "id": "gPFQIg9I2aCP",
        "outputId": "a70bb337-47ec-4ef0-9bd4-4b5db1be4aab"
      },
      "outputs": [
        {
          "output_type": "execute_result",
          "data": {
            "text/plain": [
              "Nao internacao    291216\n",
              "Hospitalar        115509\n",
              "Hospital-dia        5932\n",
              "Domiciliar           599\n",
              "Name: DS_REGIME_INTERNACAO, dtype: int64"
            ]
          },
          "metadata": {},
          "execution_count": 127
        }
      ],
      "source": [
        "df.DS_REGIME_INTERNACAO.value_counts()"
      ]
    },
    {
      "cell_type": "markdown",
      "metadata": {
        "id": "pvq37_rM2aCP"
      },
      "source": [
        "> Essa feature está altamente correlacionada com a o tipo de internação. Como Tipo de internação há mais categorias, vou optar por remover essa feature aqui."
      ]
    },
    {
      "cell_type": "code",
      "execution_count": 128,
      "metadata": {
        "pycharm": {
          "name": "#%%\n"
        },
        "id": "QD43svdn2aCP"
      },
      "outputs": [],
      "source": [
        "df.drop(columns=[\"DS_REGIME_INTERNACAO\"], inplace=True)"
      ]
    },
    {
      "cell_type": "markdown",
      "metadata": {
        "id": "guvm1dsJ2aCQ"
      },
      "source": [
        "#### DS_CARATER_ATENDIMENTO"
      ]
    },
    {
      "cell_type": "code",
      "execution_count": 129,
      "metadata": {
        "pycharm": {
          "name": "#%%\n"
        },
        "colab": {
          "base_uri": "https://localhost:8080/"
        },
        "id": "MMLlpoqI2aCQ",
        "outputId": "a2ec5d57-f27b-4672-f424-71a6a6be3507"
      },
      "outputs": [
        {
          "output_type": "execute_result",
          "data": {
            "text/plain": [
              "Eletiva                287442\n",
              "Urgencia/Emergencia    125814\n",
              "Name: DS_CARATER_ATENDIMENTO, dtype: int64"
            ]
          },
          "metadata": {},
          "execution_count": 129
        }
      ],
      "source": [
        "df.DS_CARATER_ATENDIMENTO.value_counts()"
      ]
    },
    {
      "cell_type": "markdown",
      "metadata": {
        "id": "iCieHRtI2aCQ"
      },
      "source": [
        "> Nada mau, apenas reescrever essa emergencia."
      ]
    },
    {
      "cell_type": "code",
      "execution_count": 130,
      "metadata": {
        "pycharm": {
          "name": "#%%\n"
        },
        "id": "EKmr4aV12aCQ"
      },
      "outputs": [],
      "source": [
        "df.DS_CARATER_ATENDIMENTO = df.DS_CARATER_ATENDIMENTO.map({\"Eletiva\":\"Eletiva\",\n",
        "                                                           \"Urgencia/Emergencia\":\"Emergencia\"})"
      ]
    },
    {
      "cell_type": "markdown",
      "metadata": {
        "id": "2yOmUy_R2aCQ"
      },
      "source": [
        "#### DS_TIPO_ACOMODACAO"
      ]
    },
    {
      "cell_type": "code",
      "execution_count": 131,
      "metadata": {
        "pycharm": {
          "name": "#%%\n"
        },
        "colab": {
          "base_uri": "https://localhost:8080/"
        },
        "id": "CSrSh2YY2aCQ",
        "outputId": "b7d79b4a-9d2a-4eb3-8497-8779042cf4ad"
      },
      "outputs": [
        {
          "output_type": "execute_result",
          "data": {
            "text/plain": [
              "Nao internacao                             291297\n",
              "Enfermaria                                  82398\n",
              "UTI Adulto                                  22608\n",
              "UTI                                         13064\n",
              "Hospital Dia                                 2085\n",
              "UTI Neo-Natal                                 777\n",
              "Home Care                                     644\n",
              "Apartamento                                   349\n",
              "TSI - Unidade de Terapia semi-Intensiva        34\n",
              "Name: DS_TIPO_ACOMODACAO, dtype: int64"
            ]
          },
          "metadata": {},
          "execution_count": 131
        }
      ],
      "source": [
        "df.DS_TIPO_ACOMODACAO.value_counts()"
      ]
    },
    {
      "cell_type": "markdown",
      "metadata": {
        "id": "9rnKJOkW2aCQ"
      },
      "source": [
        "> Vou manter essa feature para internações ao invés de tipo de internação, pois também está altamente correlacionada com a mesma."
      ]
    },
    {
      "cell_type": "code",
      "execution_count": 132,
      "metadata": {
        "pycharm": {
          "name": "#%%\n"
        },
        "id": "lHD5j9pz2aCR"
      },
      "outputs": [],
      "source": [
        "df.drop(columns=[\"DS_TIPO_INTERNACAO\"], inplace=True)"
      ]
    },
    {
      "cell_type": "markdown",
      "metadata": {
        "id": "YW0M1TxY2aCR"
      },
      "source": [
        "#### QT_DIA_SOLICITADO"
      ]
    },
    {
      "cell_type": "code",
      "execution_count": 133,
      "metadata": {
        "pycharm": {
          "name": "#%%\n"
        },
        "colab": {
          "base_uri": "https://localhost:8080/"
        },
        "id": "GXQuAOT22aCR",
        "outputId": "1d6123cb-b428-4061-80ef-09373f96cd9c"
      },
      "outputs": [
        {
          "output_type": "execute_result",
          "data": {
            "text/plain": [
              "count    413256.000000\n",
              "mean          1.000111\n",
              "std           2.479208\n",
              "min           0.000000\n",
              "25%           0.000000\n",
              "50%           0.000000\n",
              "75%           2.000000\n",
              "max          56.000000\n",
              "Name: QT_DIA_SOLICITADO, dtype: float64"
            ]
          },
          "metadata": {},
          "execution_count": 133
        }
      ],
      "source": [
        "df.QT_DIA_SOLICITADO.describe()"
      ]
    },
    {
      "cell_type": "code",
      "execution_count": 134,
      "metadata": {
        "pycharm": {
          "name": "#%%\n"
        },
        "colab": {
          "base_uri": "https://localhost:8080/",
          "height": 0
        },
        "id": "5s2PoI2u2aCR",
        "outputId": "f62448db-b57d-4d2a-9e23-c2401822b7d0"
      },
      "outputs": [
        {
          "output_type": "execute_result",
          "data": {
            "text/plain": [
              "<AxesSubplot:ylabel='QT_DIA_SOLICITADO'>"
            ]
          },
          "metadata": {},
          "execution_count": 134
        },
        {
          "output_type": "display_data",
          "data": {
            "text/plain": [
              "<Figure size 432x288 with 1 Axes>"
            ],
            "image/png": "[encoded data removed]"
          },
          "metadata": {
            "needs_background": "light"
          }
        }
      ],
      "source": [
        "sns.boxplot(y=df.QT_DIA_SOLICITADO)"
      ]
    },
    {
      "cell_type": "markdown",
      "metadata": {
        "id": "7af3TYb62aCR"
      },
      "source": [
        "> Há outliers aqui, devemos dropá-los."
      ]
    },
    {
      "cell_type": "code",
      "execution_count": 135,
      "metadata": {
        "pycharm": {
          "name": "#%%\n"
        },
        "id": "dV6WoPxP2aCR"
      },
      "outputs": [],
      "source": [
        "IQR = np.percentile(df.QT_DIA_SOLICITADO, 75) - np.percentile(df.QT_DIA_SOLICITADO, 25)\n",
        "max = np.percentile(df.QT_DIA_SOLICITADO, 75) + 1.5 * IQR\n",
        "min = np.percentile(df.QT_DIA_SOLICITADO, 25) - 1.5 * IQR"
      ]
    },
    {
      "cell_type": "code",
      "execution_count": 136,
      "metadata": {
        "pycharm": {
          "name": "#%%\n"
        },
        "colab": {
          "base_uri": "https://localhost:8080/"
        },
        "id": "C0br5dpe2aCR",
        "outputId": "60083239-6734-4b2a-a81d-a76281f88807"
      },
      "outputs": [
        {
          "output_type": "execute_result",
          "data": {
            "text/plain": [
              "5.0"
            ]
          },
          "metadata": {},
          "execution_count": 136
        }
      ],
      "source": [
        "max"
      ]
    },
    {
      "cell_type": "code",
      "execution_count": 137,
      "metadata": {
        "pycharm": {
          "name": "#%%\n"
        },
        "id": "-vXMKJb72aCR"
      },
      "outputs": [],
      "source": [
        "df = df[df.QT_DIA_SOLICITADO <= 5]  # removendo outliers"
      ]
    },
    {
      "cell_type": "code",
      "execution_count": 138,
      "metadata": {
        "pycharm": {
          "name": "#%%\n"
        },
        "colab": {
          "base_uri": "https://localhost:8080/"
        },
        "id": "GHpaaBEa2aCS",
        "outputId": "e82b38f4-3f36-40f6-c3ef-aaa1d70e75e0"
      },
      "outputs": [
        {
          "output_type": "execute_result",
          "data": {
            "text/plain": [
              "count    395965.000000\n",
              "mean          0.606122\n",
              "std           1.140367\n",
              "min           0.000000\n",
              "25%           0.000000\n",
              "50%           0.000000\n",
              "75%           1.000000\n",
              "max           5.000000\n",
              "Name: QT_DIA_SOLICITADO, dtype: float64"
            ]
          },
          "metadata": {},
          "execution_count": 138
        }
      ],
      "source": [
        "df.QT_DIA_SOLICITADO.describe()"
      ]
    },
    {
      "cell_type": "markdown",
      "metadata": {
        "id": "nCbV74Fv2aCS"
      },
      "source": [
        "#### DS_TIPO_ATENDIMENTO"
      ]
    },
    {
      "cell_type": "code",
      "execution_count": 139,
      "metadata": {
        "pycharm": {
          "name": "#%%\n"
        },
        "colab": {
          "base_uri": "https://localhost:8080/"
        },
        "id": "D-MAzCnu2aCS",
        "outputId": "7a50b084-ed2d-4183-80af-cdfeddd495c0"
      },
      "outputs": [
        {
          "output_type": "execute_result",
          "data": {
            "text/plain": [
              "Exames                              189271\n",
              "Nao especificado                     98927\n",
              "Pequena cirurgia                     45709\n",
              "Quimioterapia                        19869\n",
              "Pequenos atendimentos                13113\n",
              "Pronto socorro                        9327\n",
              "Terapias                              6532\n",
              "COVID                                 6495\n",
              "Internac?o (SADT internado)           2834\n",
              "Terapia renal substitutiva (TRS)      1438\n",
              "Consulta                              1219\n",
              "Atendimento domiciliar                 522\n",
              "Radioterapia                           396\n",
              "Remoc?o                                206\n",
              "Terapia hiperbarica                    107\n",
              "Name: DS_TIPO_ATENDIMENTO, dtype: int64"
            ]
          },
          "metadata": {},
          "execution_count": 139
        }
      ],
      "source": [
        "df.DS_TIPO_ATENDIMENTO.value_counts()"
      ]
    },
    {
      "cell_type": "markdown",
      "metadata": {
        "id": "B3upRo5b2aCS"
      },
      "source": [
        "> Tenho que reduzir a dimensionalidade."
      ]
    },
    {
      "cell_type": "markdown",
      "metadata": {
        "id": "LdzcTGpC2aCS"
      },
      "source": [
        "#### DS_INDICACAO_CLINICA"
      ]
    },
    {
      "cell_type": "code",
      "execution_count": 140,
      "metadata": {
        "pycharm": {
          "name": "#%%\n"
        },
        "colab": {
          "base_uri": "https://localhost:8080/"
        },
        "id": "kLl8wyKl2aCS",
        "outputId": "67e154ce-689f-4ee6-f75f-b9d557924f10"
      },
      "outputs": [
        {
          "output_type": "execute_result",
          "data": {
            "text/plain": [
              "Detalhado          108404\n",
              "Sem descricao       87534\n",
              "Curto               76559\n",
              "Medio               55341\n",
              "Documento anexo     43789\n",
              "Glaucoma            14138\n",
              "Cancer de mama      10200\n",
              "Name: DS_INDICACAO_CLINICA, dtype: int64"
            ]
          },
          "metadata": {},
          "execution_count": 140
        }
      ],
      "source": [
        "df.DS_INDICACAO_CLINICA.value_counts()"
      ]
    },
    {
      "cell_type": "markdown",
      "metadata": {
        "id": "m_wZwC0k2aCS"
      },
      "source": [
        "> ótimo, já está bonitinho."
      ]
    },
    {
      "cell_type": "code",
      "execution_count": 141,
      "metadata": {
        "pycharm": {
          "name": "#%%\n"
        },
        "id": "kK15Dpuh2aCT"
      },
      "outputs": [],
      "source": [
        "negado = df[df.DS_STATUS_ITEM == \"Negado\"]"
      ]
    },
    {
      "cell_type": "code",
      "execution_count": 142,
      "metadata": {
        "pycharm": {
          "name": "#%%\n"
        },
        "colab": {
          "base_uri": "https://localhost:8080/"
        },
        "id": "kU9yiGcR2aCT",
        "outputId": "912687e1-fa70-4db2-c4e8-d748d47a7e17"
      },
      "outputs": [
        {
          "output_type": "execute_result",
          "data": {
            "text/plain": [
              "Detalhado          35950\n",
              "Sem descricao      30187\n",
              "Curto              20108\n",
              "Documento anexo    16148\n",
              "Medio              14857\n",
              "Glaucoma            3961\n",
              "Cancer de mama      1843\n",
              "Name: DS_INDICACAO_CLINICA, dtype: int64"
            ]
          },
          "metadata": {},
          "execution_count": 142
        }
      ],
      "source": [
        "negado.DS_INDICACAO_CLINICA.value_counts()"
      ]
    },
    {
      "cell_type": "markdown",
      "metadata": {
        "id": "0LX7Q6bE2aCT"
      },
      "source": [
        "> Em conjunto com outras features deve discriminar bem."
      ]
    },
    {
      "cell_type": "markdown",
      "metadata": {
        "id": "5S-Iw4tn2aCT"
      },
      "source": [
        "#### DS_TIPO_ITEM"
      ]
    },
    {
      "cell_type": "code",
      "execution_count": 143,
      "metadata": {
        "pycharm": {
          "name": "#%%\n"
        },
        "colab": {
          "base_uri": "https://localhost:8080/"
        },
        "id": "YjD-NnJb2aCT",
        "outputId": "899d43d9-94f3-4ad8-95ee-facf3d74a86a"
      },
      "outputs": [
        {
          "output_type": "execute_result",
          "data": {
            "text/plain": [
              "Procedimentos    323032\n",
              "MAT/MED           72933\n",
              "Name: DS_TIPO_ITEM, dtype: int64"
            ]
          },
          "metadata": {},
          "execution_count": 143
        }
      ],
      "source": [
        "df.DS_TIPO_ITEM.value_counts()"
      ]
    },
    {
      "cell_type": "markdown",
      "metadata": {
        "id": "MUiSkmII2aCT"
      },
      "source": [
        "> Já está no grau."
      ]
    },
    {
      "cell_type": "markdown",
      "metadata": {
        "id": "t9iVb7zk2aCT"
      },
      "source": [
        "#### CD_iTEM"
      ]
    },
    {
      "cell_type": "code",
      "execution_count": 144,
      "metadata": {
        "pycharm": {
          "name": "#%%\n"
        },
        "colab": {
          "base_uri": "https://localhost:8080/"
        },
        "id": "aEvKL4QJ2aCT",
        "outputId": "dd0c914b-0471-4ae3-f0ca-25e853c56581"
      },
      "outputs": [
        {
          "output_type": "execute_result",
          "data": {
            "text/plain": [
              "count    3.959650e+05\n",
              "mean     5.941002e+07\n",
              "std      2.164059e+08\n",
              "min      4.200000e+01\n",
              "25%      3.030602e+07\n",
              "50%      4.081103e+07\n",
              "75%      4.140141e+07\n",
              "max      3.000079e+09\n",
              "Name: CD_ITEM, dtype: float64"
            ]
          },
          "metadata": {},
          "execution_count": 144
        }
      ],
      "source": [
        "df.CD_ITEM.describe()"
      ]
    },
    {
      "cell_type": "markdown",
      "metadata": {
        "id": "iP0S9NZ_2aCU"
      },
      "source": [
        "> São apenas códigos, vamos dropar essa coluna também."
      ]
    },
    {
      "cell_type": "code",
      "execution_count": 145,
      "metadata": {
        "pycharm": {
          "name": "#%%\n"
        },
        "id": "zwj78sSq2aCU"
      },
      "outputs": [],
      "source": [
        "df.drop(columns=[\"CD_ITEM\"], inplace=True)"
      ]
    },
    {
      "cell_type": "markdown",
      "metadata": {
        "id": "8jlskDDb2aCU"
      },
      "source": [
        "#### DS_ITEM"
      ]
    },
    {
      "cell_type": "code",
      "execution_count": 146,
      "metadata": {
        "pycharm": {
          "name": "#%%\n"
        },
        "colab": {
          "base_uri": "https://localhost:8080/"
        },
        "id": "rWg-DqoU2aCU",
        "outputId": "bd83cd33-224e-4b5a-dd61-4b9a7f76fca9"
      },
      "outputs": [
        {
          "output_type": "execute_result",
          "data": {
            "text/plain": [
              "ENFERMARIA                                                                                                     7539\n",
              "PAQUIMETRIA ULTRASSONICA - MONOCULAR                                                                           7534\n",
              "PORTE 3 (CIRURGIA MEDIA)                                                                                       7344\n",
              "MAPEAMENTO DE RETINA (OFTALMOSCOPIA INDIRETA) - MONOCULAR                                                      6861\n",
              "USG - ULTRASSONOGRAFIA - ABDOME TOTAL (ABDOME SUPERIOR, RINS, BEXIGA, AORTA, VEIA CAVA INFERIOR E ADRENAIS)    6846\n",
              "                                                                                                               ... \n",
              "PCT-HM - FECHAMENTO DE FISTULA TRAQUEO-CUTANEA                                                                    1\n",
              "FIO GUIA 0,014\" ATTAIN HYBRID 108CM - UN                                                                          1\n",
              "CANULA CARDIOPLEGIA 06FR 2,0MM C/BALAO/GUIA RETROGRADA - UN                                                       1\n",
              "SEQUELAS EM POLITRAUMATIZADOS (EM DIFERENTES SEGMENTOS)                                                           1\n",
              "KIT CANULA ENDOTRAQUEAL RICHARDS ENT C/SONDA ESTIMULADORA 6,0X9,3MM - KIT                                         1\n",
              "Name: DS_ITEM, Length: 7568, dtype: int64"
            ]
          },
          "metadata": {},
          "execution_count": 146
        }
      ],
      "source": [
        "df.DS_ITEM.value_counts()"
      ]
    },
    {
      "cell_type": "markdown",
      "metadata": {
        "id": "SCKRBlJu2aCU"
      },
      "source": [
        "> Isso tem uma cardinalidade muito alta. Embora possa pensar em uma forma de extrair informações daqui, já que é texto livre. Vou dropar a coluna, mas posso pensar em algo a se fazer com isso..."
      ]
    },
    {
      "cell_type": "code",
      "execution_count": 147,
      "metadata": {
        "pycharm": {
          "name": "#%%\n"
        },
        "id": "JtnEGned2aCU"
      },
      "outputs": [],
      "source": [
        "df.drop(columns=[\"DS_ITEM\"], inplace=True)"
      ]
    },
    {
      "cell_type": "markdown",
      "metadata": {
        "id": "5ouJ9Vs32aCU"
      },
      "source": [
        "#### DS_CLASSE"
      ]
    },
    {
      "cell_type": "code",
      "execution_count": 148,
      "metadata": {
        "pycharm": {
          "name": "#%%\n"
        },
        "colab": {
          "base_uri": "https://localhost:8080/"
        },
        "id": "AKvs7xp72aCV",
        "outputId": "cda1974e-a36e-41f2-88d6-ccc5ef6ff908"
      },
      "outputs": [
        {
          "output_type": "execute_result",
          "data": {
            "text/plain": [
              "PROCEDIMENTOS                                     43107\n",
              "ULTRA-SONOGRAFIA DIAGNOSTICA                      36339\n",
              "BIOQUIMICA                                        26994\n",
              "Material de consumo                               25101\n",
              "EM CENTRO CIRURGICO                               21124\n",
              "                                                  ...  \n",
              "ANTICONVULSIVANTES                                    1\n",
              "MANIPULADOR UTERINO                                   1\n",
              "TELA ADESIVA                                          1\n",
              "FILTRO INTRAVASCULAR E DISPOSITIVOS ASSOCIADOS        1\n",
              "FIXADORES EXTERNOS                                    1\n",
              "Name: DS_CLASSE, Length: 490, dtype: int64"
            ]
          },
          "metadata": {},
          "execution_count": 148
        }
      ],
      "source": [
        "df.DS_CLASSE.value_counts()"
      ]
    },
    {
      "cell_type": "markdown",
      "metadata": {
        "id": "uR5i2ZPR2aCV"
      },
      "source": [
        "> Terie que reduzir a cardinalidade"
      ]
    },
    {
      "cell_type": "markdown",
      "metadata": {
        "id": "YFUG45fo2aCV"
      },
      "source": [
        "#### DS_SUBGRUPO"
      ]
    },
    {
      "cell_type": "code",
      "execution_count": 149,
      "metadata": {
        "pycharm": {
          "name": "#%%\n"
        },
        "colab": {
          "base_uri": "https://localhost:8080/"
        },
        "id": "SGdReIHj2aCV",
        "outputId": "7f4e7fab-33ac-427d-e225-ff9134643dea"
      },
      "outputs": [
        {
          "output_type": "execute_result",
          "data": {
            "text/plain": [
              "MEDICINA LABORATORIAL                                                                      61772\n",
              "Material Hospitalar                                                                        48553\n",
              "ULTRA-SONOGRAFIA                                                                           36454\n",
              "EXAMES ESPECIFICOS                                                                         33757\n",
              "TAXA DE SALA                                                                               29715\n",
              "                                                                                           ...  \n",
              "SISTEMA CARDIOVASCULAR                                                                         5\n",
              "PRODUTOS DERMATOLOGICOS E MEMBRANAS MUCOSAS                                                    3\n",
              "AGENTES IMUNIZANTES                                                                            3\n",
              "PRODUTOS DERMATOLOGICOS E MEMBRANAS MUCOSAS+SISTEMA GENITO URINARIO E HORMONIOS SEXUAIS        2\n",
              "SISTEMA DIGESTIVO, METABOLISMO E NUTRICAO+SISTEMA GENITO URINARIO E HORMONIOS SEXUAIS          1\n",
              "Name: DS_SUBGRUPO, Length: 72, dtype: int64"
            ]
          },
          "metadata": {},
          "execution_count": 149
        }
      ],
      "source": [
        "df.DS_SUBGRUPO.value_counts()"
      ]
    },
    {
      "cell_type": "markdown",
      "metadata": {
        "id": "NVtyw00e2aCV"
      },
      "source": [
        "> Percebi que DS_SUBGRUPO está altamente redundante com DS_CLASSE... vou manter o SUBGRUPO por ter uma acrdinalidade menor, o que facilitará na hora de diminuir a cardinalidade."
      ]
    },
    {
      "cell_type": "code",
      "execution_count": 150,
      "metadata": {
        "pycharm": {
          "name": "#%%\n"
        },
        "id": "OTUf7dzs2aCV"
      },
      "outputs": [],
      "source": [
        "df.drop(columns=[\"DS_CLASSE\"], inplace=True)"
      ]
    },
    {
      "cell_type": "markdown",
      "metadata": {
        "id": "8tS2g6152aCV"
      },
      "source": [
        "#### DS_GRUPO"
      ]
    },
    {
      "cell_type": "code",
      "execution_count": 151,
      "metadata": {
        "pycharm": {
          "name": "#%%\n"
        },
        "colab": {
          "base_uri": "https://localhost:8080/"
        },
        "id": "jtpmMec42aCW",
        "outputId": "b0c99d0c-69dd-49f9-8ed8-36fed5271e7e"
      },
      "outputs": [
        {
          "output_type": "execute_result",
          "data": {
            "text/plain": [
              "PROCED. DIAGNOSTICOS E TERAPEUTICOS    195300\n",
              "Simpro                                  49321\n",
              "TAXAS                                   41390\n",
              "PROCED. CIRURGICOS E INVASIVOS          38997\n",
              "Brasindice                              21425\n",
              "PROCED. CLINICOS                        21093\n",
              "PROCED. GERAIS                          13871\n",
              "DIARIAS                                 12381\n",
              "TUSS                                     2187\n",
              "Name: DS_GRUPO, dtype: int64"
            ]
          },
          "metadata": {},
          "execution_count": 151
        }
      ],
      "source": [
        "df.DS_GRUPO.value_counts()"
      ]
    },
    {
      "cell_type": "markdown",
      "metadata": {
        "id": "BwMZcrxm2aCW"
      },
      "source": [
        "> Não está tão discriminativo quanto o subgrupo. Vou manter, mas posso jogar fora a qualquer momento."
      ]
    },
    {
      "cell_type": "markdown",
      "metadata": {
        "id": "CD7VLv8T2aCW"
      },
      "source": [
        "#### QT_SOLICITADA"
      ]
    },
    {
      "cell_type": "code",
      "execution_count": 152,
      "metadata": {
        "pycharm": {
          "name": "#%%\n"
        },
        "colab": {
          "base_uri": "https://localhost:8080/"
        },
        "id": "mzpJCYEm2aCW",
        "outputId": "c9d98cbb-89c7-4655-8272-a54ee530e17a"
      },
      "outputs": [
        {
          "output_type": "execute_result",
          "data": {
            "text/plain": [
              "count    395965.000000\n",
              "mean         60.427139\n",
              "std        4203.364381\n",
              "min           1.000000\n",
              "25%           1.000000\n",
              "50%           1.000000\n",
              "75%           2.000000\n",
              "max      600343.000000\n",
              "Name: QT_SOLICITADA, dtype: float64"
            ]
          },
          "metadata": {},
          "execution_count": 152
        }
      ],
      "source": [
        "df.QT_SOLICITADA.describe()"
      ]
    },
    {
      "cell_type": "markdown",
      "metadata": {
        "id": "fxBRGPvG2aCW"
      },
      "source": [
        "> Tem outliers, vamos remover"
      ]
    },
    {
      "cell_type": "code",
      "execution_count": 153,
      "metadata": {
        "pycharm": {
          "name": "#%%\n"
        },
        "id": "pGQEBURP2aCW"
      },
      "outputs": [],
      "source": [
        "IQR = np.percentile(df.QT_SOLICITADA, 75) - np.percentile(df.QT_SOLICITADA, 25)\n",
        "max = np.percentile(df.QT_SOLICITADA, 75) + 1.5 * IQR"
      ]
    },
    {
      "cell_type": "code",
      "execution_count": 154,
      "metadata": {
        "pycharm": {
          "name": "#%%\n"
        },
        "colab": {
          "base_uri": "https://localhost:8080/"
        },
        "id": "MUDIIUaT2aCW",
        "outputId": "b33c39fb-1523-4bd2-9136-1262500ebff5"
      },
      "outputs": [
        {
          "output_type": "execute_result",
          "data": {
            "text/plain": [
              "3.5"
            ]
          },
          "metadata": {},
          "execution_count": 154
        }
      ],
      "source": [
        "max"
      ]
    },
    {
      "cell_type": "code",
      "execution_count": 155,
      "metadata": {
        "pycharm": {
          "name": "#%%\n"
        },
        "colab": {
          "base_uri": "https://localhost:8080/"
        },
        "id": "DiuV5vzG2aCf",
        "outputId": "b9863882-26c5-42fa-cefd-bdd329427ced"
      },
      "outputs": [
        {
          "output_type": "execute_result",
          "data": {
            "text/plain": [
              "Autorizado    22822\n",
              "Negado        11392\n",
              "Name: DS_STATUS_ITEM, dtype: int64"
            ]
          },
          "metadata": {},
          "execution_count": 155
        }
      ],
      "source": [
        "df[df.QT_SOLICITADA > 3.5].DS_STATUS_ITEM.value_counts()"
      ]
    },
    {
      "cell_type": "code",
      "execution_count": 156,
      "metadata": {
        "pycharm": {
          "name": "#%%\n"
        },
        "colab": {
          "base_uri": "https://localhost:8080/"
        },
        "id": "Zb2iCucn2aCg",
        "outputId": "619b149d-6fcd-4d28-93c0-f84468569df4"
      },
      "outputs": [
        {
          "output_type": "execute_result",
          "data": {
            "text/plain": [
              "count     34214.000000\n",
              "mean        685.829134\n",
              "std       14284.800717\n",
              "min           4.000000\n",
              "25%           5.000000\n",
              "50%          10.000000\n",
              "75%          21.000000\n",
              "max      600343.000000\n",
              "Name: QT_SOLICITADA, dtype: float64"
            ]
          },
          "metadata": {},
          "execution_count": 156
        }
      ],
      "source": [
        "df[df.QT_SOLICITADA > 3.5].QT_SOLICITADA.describe()"
      ]
    },
    {
      "cell_type": "code",
      "execution_count": 157,
      "metadata": {
        "pycharm": {
          "name": "#%%\n"
        },
        "colab": {
          "base_uri": "https://localhost:8080/"
        },
        "id": "mkStWy5Y2aCg",
        "outputId": "4a5f7ec8-81c9-43d7-e2ce-fa506dde768f"
      },
      "outputs": [
        {
          "output_type": "execute_result",
          "data": {
            "text/plain": [
              "Autorizado    250089\n",
              "Negado        111662\n",
              "Name: DS_STATUS_ITEM, dtype: int64"
            ]
          },
          "metadata": {},
          "execution_count": 157
        }
      ],
      "source": [
        "df[df.QT_SOLICITADA <= 3.5].DS_STATUS_ITEM.value_counts()"
      ]
    },
    {
      "cell_type": "code",
      "execution_count": 158,
      "metadata": {
        "pycharm": {
          "name": "#%%\n"
        },
        "colab": {
          "base_uri": "https://localhost:8080/"
        },
        "id": "bWdXJ3662aCg",
        "outputId": "e0f50285-7019-4a82-b54c-21690b0e1e1f"
      },
      "outputs": [
        {
          "output_type": "execute_result",
          "data": {
            "text/plain": [
              "Autorizado    6244\n",
              "Negado        2062\n",
              "Name: DS_STATUS_ITEM, dtype: int64"
            ]
          },
          "metadata": {},
          "execution_count": 158
        }
      ],
      "source": [
        "df[df.QT_SOLICITADA > 25].DS_STATUS_ITEM.value_counts()"
      ]
    },
    {
      "cell_type": "markdown",
      "metadata": {
        "id": "VniunIJS2aCg"
      },
      "source": [
        "> 25 é um bom ponto de corte pois o ganho de informação é maior."
      ]
    },
    {
      "cell_type": "code",
      "execution_count": 159,
      "metadata": {
        "pycharm": {
          "name": "#%%\n"
        },
        "id": "pYgp6tJH2aCh"
      },
      "outputs": [],
      "source": [
        "df = df[df.QT_SOLICITADA <= 25]"
      ]
    },
    {
      "cell_type": "markdown",
      "metadata": {
        "id": "WaJx4JbD2aCh"
      },
      "source": [
        "#### DS_STATUS_ITEM"
      ]
    },
    {
      "cell_type": "code",
      "execution_count": 160,
      "metadata": {
        "pycharm": {
          "name": "#%%\n"
        },
        "colab": {
          "base_uri": "https://localhost:8080/"
        },
        "id": "1_m8Cgo82aCh",
        "outputId": "fc7476b4-9251-4bef-81c6-a38a002ae879"
      },
      "outputs": [
        {
          "output_type": "execute_result",
          "data": {
            "text/plain": [
              "Autorizado    266667\n",
              "Negado        120992\n",
              "Name: DS_STATUS_ITEM, dtype: int64"
            ]
          },
          "metadata": {},
          "execution_count": 160
        }
      ],
      "source": [
        "df.DS_STATUS_ITEM.value_counts()"
      ]
    },
    {
      "cell_type": "markdown",
      "metadata": {
        "pycharm": {
          "name": "#%% md\n"
        },
        "id": "6Z6PuSxA2aCh"
      },
      "source": [
        "### Mais um profiling"
      ]
    },
    {
      "cell_type": "code",
      "execution_count": null,
      "metadata": {
        "pycharm": {
          "is_executing": true,
          "name": "#%%\n"
        },
        "id": "zKq0nv8G2aCh"
      },
      "outputs": [],
      "source": [
        "from pandas_profiling import ProfileReport\n",
        "prof = ProfileReport(df)\n",
        "prof.to_notebook_iframe()"
      ]
    },
    {
      "cell_type": "markdown",
      "metadata": {
        "id": "78mXS7Oe2aCl"
      },
      "source": [
        "## Reduzindo a cardinalidade"
      ]
    },
    {
      "cell_type": "code",
      "execution_count": 162,
      "metadata": {
        "id": "0W-OEdrO2aCl"
      },
      "outputs": [],
      "source": [
        "df_ = df.copy()"
      ]
    },
    {
      "cell_type": "markdown",
      "source": [
        "Para o DS_CBO:"
      ],
      "metadata": {
        "id": "n_KDbk1jC6HH"
      }
    },
    {
      "cell_type": "code",
      "source": [
        "## para o ds_cbo\n",
        "df_.DS_CBO.value_counts()"
      ],
      "metadata": {
        "colab": {
          "base_uri": "https://localhost:8080/"
        },
        "id": "KEgOziqtCF4k",
        "outputId": "ba01e247-c3a4-4d59-a757-612e0b0131d1"
      },
      "execution_count": 163,
      "outputs": [
        {
          "output_type": "execute_result",
          "data": {
            "text/plain": [
              "Medico clinico                            100689\n",
              "Medico oftalmologista                      63596\n",
              "Medico ortopedista e traumatologista       60554\n",
              "Medico ginecologista e obstetra            29365\n",
              "Medico urologista                          13840\n",
              "                                           ...  \n",
              "Medico acupunturista                           4\n",
              "Cirurgi?o dentista - implantodontista          3\n",
              "Psicologo clinico                              3\n",
              "Medico fisiatra                                1\n",
              "Cirurgi?o dentista - dentistica                1\n",
              "Name: DS_CBO, Length: 66, dtype: int64"
            ]
          },
          "metadata": {},
          "execution_count": 163
        }
      ]
    },
    {
      "cell_type": "markdown",
      "source": [
        "> Vamos até o urologista, ou seja, pegar as 5 classes mais frequentes e criar uma \"Outros\" para o restante."
      ],
      "metadata": {
        "id": "APpKgPCUCcP6"
      }
    },
    {
      "cell_type": "code",
      "source": [
        "def ds_cbo(df_1):\n",
        "    classes= [\"Medico clinico\", \"Medico oftalmologista\", \"Medico ortopedista e traumatologista \",\n",
        "              \"Medico ginecologista e obstetra \", \"Medico urologista \"]\n",
        "    aux = []\n",
        "\n",
        "    for i in df_1.DS_CBO:\n",
        "        if i in classes:\n",
        "            aux.append(i)\n",
        "        else:\n",
        "            aux.append(\"Outros\")\n",
        "    \n",
        "    df_1.DS_CBO = aux"
      ],
      "metadata": {
        "id": "0UaBiL1QRCHR"
      },
      "execution_count": 357,
      "outputs": []
    },
    {
      "cell_type": "code",
      "source": [
        "ds_cbo(df_)"
      ],
      "metadata": {
        "id": "8u0FQJ8uX10V"
      },
      "execution_count": 165,
      "outputs": []
    },
    {
      "cell_type": "code",
      "source": [
        "df_.DS_CBO.value_counts()"
      ],
      "metadata": {
        "colab": {
          "base_uri": "https://localhost:8080/"
        },
        "id": "7y6leZfrFsAh",
        "outputId": "a59f986c-0c58-4312-cda7-5ff3afe0ad75"
      },
      "execution_count": 166,
      "outputs": [
        {
          "output_type": "execute_result",
          "data": {
            "text/plain": [
              "Outros                                   119615\n",
              "Medico clinico                           100689\n",
              "Medico oftalmologista                     63596\n",
              "Medico ortopedista e traumatologista      60554\n",
              "Medico ginecologista e obstetra           29365\n",
              "Medico urologista                         13840\n",
              "Name: DS_CBO, dtype: int64"
            ]
          },
          "metadata": {},
          "execution_count": 166
        }
      ]
    },
    {
      "cell_type": "markdown",
      "source": [
        "Para o DS_SUBGRUPO:"
      ],
      "metadata": {
        "id": "NrBBBIfSOhyX"
      }
    },
    {
      "cell_type": "code",
      "source": [
        "df_.DS_SUBGRUPO.value_counts()"
      ],
      "metadata": {
        "colab": {
          "base_uri": "https://localhost:8080/"
        },
        "id": "96aR7-m3Ogfq",
        "outputId": "e62adda7-4d93-4167-9419-5f0c802c6ba6"
      },
      "execution_count": 167,
      "outputs": [
        {
          "output_type": "execute_result",
          "data": {
            "text/plain": [
              "MEDICINA LABORATORIAL                                                                      61614\n",
              "Material Hospitalar                                                                        47940\n",
              "ULTRA-SONOGRAFIA                                                                           36453\n",
              "EXAMES ESPECIFICOS                                                                         33757\n",
              "TAXA DE SALA                                                                               29713\n",
              "                                                                                           ...  \n",
              "TRANSPLANTES DE ORG?OS                                                                         5\n",
              "SISTEMA CARDIOVASCULAR                                                                         5\n",
              "PRODUTOS DERMATOLOGICOS E MEMBRANAS MUCOSAS                                                    3\n",
              "AGENTES IMUNIZANTES                                                                            3\n",
              "PRODUTOS DERMATOLOGICOS E MEMBRANAS MUCOSAS+SISTEMA GENITO URINARIO E HORMONIOS SEXUAIS        2\n",
              "Name: DS_SUBGRUPO, Length: 71, dtype: int64"
            ]
          },
          "metadata": {},
          "execution_count": 167
        }
      ]
    },
    {
      "cell_type": "markdown",
      "source": [
        "> Também vamos pegar os 5 valores mais frequentes."
      ],
      "metadata": {
        "id": "QE6zQUHOO3_M"
      }
    },
    {
      "cell_type": "code",
      "source": [
        "def ds_subgrupo(df_1):\n",
        "    classes= [\"MEDICINA LABORATORIAL \", \"Material Hospitalar\", \"ULTRA-SONOGRAFIA\",\n",
        "            \"EXAMES ESPECIFICOS\", \"TAXA DE SALA\"]\n",
        "    aux = []\n",
        "\n",
        "    for i in df_1.DS_SUBGRUPO:\n",
        "        if i in classes:\n",
        "            aux.append(i)\n",
        "        else:\n",
        "            aux.append(\"Outros\")\n",
        "    \n",
        "    df_1.DS_SUBGRUPO = aux"
      ],
      "metadata": {
        "id": "aPtfjy1FPZZ8"
      },
      "execution_count": 358,
      "outputs": []
    },
    {
      "cell_type": "code",
      "source": [
        "ds_subgrupo(df_)"
      ],
      "metadata": {
        "id": "Sk3bVHoQX6zX"
      },
      "execution_count": 169,
      "outputs": []
    },
    {
      "cell_type": "code",
      "source": [
        "df_.DS_SUBGRUPO.value_counts()"
      ],
      "metadata": {
        "colab": {
          "base_uri": "https://localhost:8080/"
        },
        "id": "AIU9ePgGQBIk",
        "outputId": "4f323f20-3d35-4b1c-9ad3-4efb33454b4a"
      },
      "execution_count": 170,
      "outputs": [
        {
          "output_type": "execute_result",
          "data": {
            "text/plain": [
              "Outros                    178182\n",
              "MEDICINA LABORATORIAL      61614\n",
              "Material Hospitalar        47940\n",
              "ULTRA-SONOGRAFIA           36453\n",
              "EXAMES ESPECIFICOS         33757\n",
              "TAXA DE SALA               29713\n",
              "Name: DS_SUBGRUPO, dtype: int64"
            ]
          },
          "metadata": {},
          "execution_count": 170
        }
      ]
    },
    {
      "cell_type": "markdown",
      "source": [
        "Para o DS_TIPO_PREST_SOLICITANTE:"
      ],
      "metadata": {
        "id": "WwfWRpjcTKiU"
      }
    },
    {
      "cell_type": "code",
      "source": [
        "df_.DS_TIPO_PREST_SOLICITANTE.value_counts()"
      ],
      "metadata": {
        "colab": {
          "base_uri": "https://localhost:8080/"
        },
        "id": "pbZ-yrPDQCOq",
        "outputId": "c76852d4-41fb-466d-a312-1f01282a8b16"
      },
      "execution_count": 171,
      "outputs": [
        {
          "output_type": "execute_result",
          "data": {
            "text/plain": [
              "CLINICA                  157065\n",
              "HOSPITAL                 137222\n",
              "LABORATORIO               42036\n",
              "CLINICA DE IMAGEM         20616\n",
              "PRESTADOR DE SERVICOS     14517\n",
              "MEDICO                     6732\n",
              "UTI                        4534\n",
              "CLINICA  DE UROLOGIA       3966\n",
              "CLINICA DE RADIOLOGIA       391\n",
              "HOME CARE                   225\n",
              "INTERCAMBIO                 218\n",
              "COOPERATIVA                 137\n",
              "Name: DS_TIPO_PREST_SOLICITANTE, dtype: int64"
            ]
          },
          "metadata": {},
          "execution_count": 171
        }
      ]
    },
    {
      "cell_type": "code",
      "source": [
        "def tipo_prest_solicitante(df_1):\n",
        "    classes = [\"CLINICA\", \"HOSPITAL\", \"LABORATORIO\", \"CLINICA DE IMAGEM\",\n",
        "               \"PRESTADOR DE SERVICOS\"]\n",
        "    \n",
        "    aux = []\n",
        "\n",
        "    for i in df_1.DS_TIPO_PREST_SOLICITANTE:\n",
        "        if i in classes:\n",
        "            aux.append(i)\n",
        "        else:\n",
        "            aux.append(\"Outros\")\n",
        "\n",
        "    df_1.DS_TIPO_PREST_SOLICITANTE = aux"
      ],
      "metadata": {
        "id": "X6W9hsddVd2w"
      },
      "execution_count": 359,
      "outputs": []
    },
    {
      "cell_type": "code",
      "source": [
        "tipo_prest_solicitante(df_)"
      ],
      "metadata": {
        "id": "wa-ISuXvWvx6"
      },
      "execution_count": 173,
      "outputs": []
    },
    {
      "cell_type": "code",
      "source": [
        "df_.DS_TIPO_PREST_SOLICITANTE.value_counts()"
      ],
      "metadata": {
        "colab": {
          "base_uri": "https://localhost:8080/"
        },
        "id": "S8WBX0KiWxpc",
        "outputId": "9ac0b7d5-7311-4a96-f45b-ca741f3bff6a"
      },
      "execution_count": 174,
      "outputs": [
        {
          "output_type": "execute_result",
          "data": {
            "text/plain": [
              "CLINICA                  157065\n",
              "HOSPITAL                 137222\n",
              "LABORATORIO               42036\n",
              "CLINICA DE IMAGEM         20616\n",
              "Outros                    16203\n",
              "PRESTADOR DE SERVICOS     14517\n",
              "Name: DS_TIPO_PREST_SOLICITANTE, dtype: int64"
            ]
          },
          "metadata": {},
          "execution_count": 174
        }
      ]
    },
    {
      "cell_type": "markdown",
      "source": [
        "Para o DS_TIPO_ACOMODACAO:\n"
      ],
      "metadata": {
        "id": "5Ar9_92KXI_o"
      }
    },
    {
      "cell_type": "code",
      "source": [
        "df_.DS_TIPO_ACOMODACAO.value_counts()"
      ],
      "metadata": {
        "id": "g9GbcQDDWy8Z",
        "colab": {
          "base_uri": "https://localhost:8080/"
        },
        "outputId": "477cbe37-1a55-42c1-c0dd-da7d88335f03"
      },
      "execution_count": 175,
      "outputs": [
        {
          "output_type": "execute_result",
          "data": {
            "text/plain": [
              "Nao internacao                             283899\n",
              "Enfermaria                                  77604\n",
              "UTI Adulto                                  15129\n",
              "UTI                                          8265\n",
              "Hospital Dia                                 2026\n",
              "Apartamento                                   318\n",
              "UTI Neo-Natal                                 255\n",
              "Home Care                                     141\n",
              "TSI - Unidade de Terapia semi-Intensiva        22\n",
              "Name: DS_TIPO_ACOMODACAO, dtype: int64"
            ]
          },
          "metadata": {},
          "execution_count": 175
        }
      ]
    },
    {
      "cell_type": "code",
      "source": [
        "def tipo_acomodacao(df_1):\n",
        "    classes = [\"Nao internacao\", \"Enfermaria\", \"UTI Adulto\", \"UTI\", \"Hospital Dia\"]\n",
        "    \n",
        "    aux = []\n",
        "\n",
        "    for i in df_1.DS_TIPO_ACOMODACAO:\n",
        "        if i in classes:\n",
        "            aux.append(i)\n",
        "        else:\n",
        "            aux.append(\"Outros\")\n",
        "\n",
        "    df_1.DS_TIPO_ACOMODACAO = aux"
      ],
      "metadata": {
        "id": "RIMH8V5ZZTE9"
      },
      "execution_count": 360,
      "outputs": []
    },
    {
      "cell_type": "code",
      "source": [
        "tipo_acomodacao(df_)"
      ],
      "metadata": {
        "id": "00wqOKTPZ7Ey"
      },
      "execution_count": 177,
      "outputs": []
    },
    {
      "cell_type": "code",
      "source": [
        "df_.DS_TIPO_ACOMODACAO.value_counts()"
      ],
      "metadata": {
        "colab": {
          "base_uri": "https://localhost:8080/"
        },
        "id": "EiOLjDfxZ9tk",
        "outputId": "510976e5-0304-449a-8227-51f75b950b9c"
      },
      "execution_count": 178,
      "outputs": [
        {
          "output_type": "execute_result",
          "data": {
            "text/plain": [
              "Nao internacao    283899\n",
              "Enfermaria         77604\n",
              "UTI Adulto         15129\n",
              "UTI                 8265\n",
              "Hospital Dia        2026\n",
              "Outros               736\n",
              "Name: DS_TIPO_ACOMODACAO, dtype: int64"
            ]
          },
          "metadata": {},
          "execution_count": 178
        }
      ]
    },
    {
      "cell_type": "markdown",
      "source": [
        "Para o DS_TIPO_ATENDIMENTO:"
      ],
      "metadata": {
        "id": "N_V_JOjyak1Q"
      }
    },
    {
      "cell_type": "code",
      "source": [
        "df_.DS_TIPO_ATENDIMENTO.value_counts()"
      ],
      "metadata": {
        "colab": {
          "base_uri": "https://localhost:8080/"
        },
        "id": "msGvXeBjaBHH",
        "outputId": "34b0a1f8-263b-43f7-dae1-92327002642a"
      },
      "execution_count": 179,
      "outputs": [
        {
          "output_type": "execute_result",
          "data": {
            "text/plain": [
              "Exames                              189107\n",
              "Nao especificado                     98169\n",
              "Pequena cirurgia                     45097\n",
              "Quimioterapia                        14177\n",
              "Pequenos atendimentos                12579\n",
              "Pronto socorro                        9318\n",
              "Terapias                              6520\n",
              "COVID                                 6237\n",
              "Internac?o (SADT internado)           2681\n",
              "Terapia renal substitutiva (TRS)      1435\n",
              "Consulta                              1219\n",
              "Atendimento domiciliar                 497\n",
              "Radioterapia                           359\n",
              "Remoc?o                                157\n",
              "Terapia hiperbarica                    107\n",
              "Name: DS_TIPO_ATENDIMENTO, dtype: int64"
            ]
          },
          "metadata": {},
          "execution_count": 179
        }
      ]
    },
    {
      "cell_type": "code",
      "source": [
        "def tipo_atendimento(df_1):\n",
        "    classes = [\"Exames\", \"Nao especificado\", \"Pequena cirurgia\", \"Quimioterapia\", \"Pequenos atendimentos\"]\n",
        "    \n",
        "    aux = []\n",
        "\n",
        "    for i in df_1.DS_TIPO_ATENDIMENTO:\n",
        "        if i in classes:\n",
        "            aux.append(i)\n",
        "        else:\n",
        "            aux.append(\"Outros\")\n",
        "\n",
        "    df_1.DS_TIPO_ATENDIMENTO = aux"
      ],
      "metadata": {
        "id": "PJoNaPqYaq_c"
      },
      "execution_count": 361,
      "outputs": []
    },
    {
      "cell_type": "code",
      "source": [
        "tipo_atendimento(df_)"
      ],
      "metadata": {
        "id": "WFwkdfOha-ZQ"
      },
      "execution_count": 181,
      "outputs": []
    },
    {
      "cell_type": "code",
      "source": [
        "df_.DS_TIPO_ATENDIMENTO.value_counts()"
      ],
      "metadata": {
        "colab": {
          "base_uri": "https://localhost:8080/"
        },
        "id": "5LzMGMyPbAK7",
        "outputId": "dc81569f-6500-49d4-9bb9-49442b06b3e0"
      },
      "execution_count": 182,
      "outputs": [
        {
          "output_type": "execute_result",
          "data": {
            "text/plain": [
              "Exames                   189107\n",
              "Nao especificado          98169\n",
              "Pequena cirurgia          45097\n",
              "Outros                    28530\n",
              "Quimioterapia             14177\n",
              "Pequenos atendimentos     12579\n",
              "Name: DS_TIPO_ATENDIMENTO, dtype: int64"
            ]
          },
          "metadata": {},
          "execution_count": 182
        }
      ]
    },
    {
      "cell_type": "markdown",
      "source": [
        "Para o DS_GRUPO:"
      ],
      "metadata": {
        "id": "iWu7FD6obbmP"
      }
    },
    {
      "cell_type": "code",
      "source": [
        "df_.DS_GRUPO.value_counts()"
      ],
      "metadata": {
        "colab": {
          "base_uri": "https://localhost:8080/"
        },
        "id": "9izW4nQvbQuN",
        "outputId": "2e6ecf99-a449-480a-e7f6-6509fe9f72ed"
      },
      "execution_count": 183,
      "outputs": [
        {
          "output_type": "execute_result",
          "data": {
            "text/plain": [
              "PROCED. DIAGNOSTICOS E TERAPEUTICOS    195104\n",
              "Simpro                                  48657\n",
              "TAXAS                                   40952\n",
              "PROCED. CIRURGICOS E INVASIVOS          38994\n",
              "PROCED. CLINICOS                        20703\n",
              "Brasindice                              14880\n",
              "PROCED. GERAIS                          13825\n",
              "DIARIAS                                 12376\n",
              "TUSS                                     2168\n",
              "Name: DS_GRUPO, dtype: int64"
            ]
          },
          "metadata": {},
          "execution_count": 183
        }
      ]
    },
    {
      "cell_type": "code",
      "source": [
        "def grupo(df_1):\n",
        "    classes = [\"PROCED. DIAGNOSTICOS E TERAPEUTICOS\",\n",
        "               \"Simpro\", \"TAXAS\", \"PROCED. CIRURGICOS E INVASIVOS \", \"PROCED. CLINICOS\"]\n",
        "    \n",
        "    aux = []\n",
        "\n",
        "    for i in df_1.DS_GRUPO:\n",
        "        if i in classes:\n",
        "            aux.append(i)\n",
        "        else:\n",
        "            aux.append(\"Outros\")\n",
        "\n",
        "    df_1.DS_GRUPO = aux"
      ],
      "metadata": {
        "id": "t2NJnY6SbiH3"
      },
      "execution_count": 362,
      "outputs": []
    },
    {
      "cell_type": "code",
      "source": [
        "grupo(df_)"
      ],
      "metadata": {
        "id": "HhCa94Vvb64W"
      },
      "execution_count": 185,
      "outputs": []
    },
    {
      "cell_type": "code",
      "source": [
        "df_.DS_GRUPO.value_counts()"
      ],
      "metadata": {
        "colab": {
          "base_uri": "https://localhost:8080/"
        },
        "id": "jYZ0jsXSb8VU",
        "outputId": "74fc8aa6-67cd-43b4-952e-42d249e14411"
      },
      "execution_count": 186,
      "outputs": [
        {
          "output_type": "execute_result",
          "data": {
            "text/plain": [
              "PROCED. DIAGNOSTICOS E TERAPEUTICOS    195104\n",
              "Simpro                                  48657\n",
              "Outros                                  43249\n",
              "TAXAS                                   40952\n",
              "PROCED. CIRURGICOS E INVASIVOS          38994\n",
              "PROCED. CLINICOS                        20703\n",
              "Name: DS_GRUPO, dtype: int64"
            ]
          },
          "metadata": {},
          "execution_count": 186
        }
      ]
    },
    {
      "cell_type": "markdown",
      "source": [
        "##### Averiguando as mudanças:"
      ],
      "metadata": {
        "id": "jpbaDshHcqbI"
      }
    },
    {
      "cell_type": "code",
      "source": [
        "from pandas_profiling import ProfileReport\n",
        "prof = ProfileReport(df_)\n",
        "prof.to_notebook_iframe()"
      ],
      "metadata": {
        "id": "H4dL2DQ5cpdN"
      },
      "execution_count": null,
      "outputs": []
    },
    {
      "cell_type": "markdown",
      "source": [
        "## Funções auxiliares"
      ],
      "metadata": {
        "id": "BRsYW8oHkZnH"
      }
    },
    {
      "cell_type": "markdown",
      "source": [
        "#### FUNÇÃO PREPARA SUBMISSÃO"
      ],
      "metadata": {
        "id": "xj2eH4xLjdXe"
      }
    },
    {
      "cell_type": "code",
      "source": [
        "def submeta_papai(nome, predicoes):\n",
        "    from pandas import DataFrame, Series\n",
        "\n",
        "    index = Series(range(1, len(predicoes)+1))\n",
        "    predicoes = DataFrame(predicoes, columns=[\"DS_STATUS_ITEM\"], index=index)\n",
        "    predicoes.DS_STATUS_ITEM = predicoes.DS_STATUS_ITEM.map({0:\"Autorizado\", 1:\"Negado\"})\n",
        "    predicoes.to_csv(rf\"C:\\Users\\alexv\\Desktop\\AuditoriaOmniSaude\\{nome}.csv\", index=True, index_label=\"ID\")"
      ],
      "metadata": {
        "id": "7WrZtOnEi4jq"
      },
      "execution_count": 189,
      "outputs": []
    },
    {
      "cell_type": "markdown",
      "source": [
        "##### Função que ajeita dados de teste:"
      ],
      "metadata": {
        "id": "rny2nliYz8aK"
      }
    },
    {
      "cell_type": "code",
      "source": [
        "def ajeita_dados(df):\n",
        "    df.loc[df.CD_CID == \"B342\", \"DS_TIPO_ATENDIMENTO\"] = \"COVID\"\n",
        "    df.loc[df.CD_CID == \"U071\", \"DS_TIPO_ATENDIMENTO\"] = \"COVID\"\n",
        "\n",
        "    new_df = df.drop(columns=['CD_CID',\n",
        "                              'CD_GUIA_REFERENCIA',\n",
        "                              'CD_ITEM',\n",
        "                              'DS_CLASSE',\n",
        "                              'DS_INDICACAO_ACIDENTE',\n",
        "                              'DS_ITEM',\n",
        "                              'DS_REGIME_INTERNACAO',\n",
        "                              'DS_TIPO_CONSULTA',\n",
        "                              'DS_TIPO_DOENCA',\n",
        "                              'DS_TIPO_INTERNACAO',\n",
        "                              'DS_TIPO_SAIDA',\n",
        "                              'DS_UNIDADE_TEMPO_DOENCA',\n",
        "                              'DT_REQUISICAO',\n",
        "                              'NR_PRODUTO',\n",
        "                              'NR_SEQ_ITEM',\n",
        "                              'NR_SEQ_REQUISICAO',\n",
        "                              'QT_TEMPO_DOENCA'])\n",
        "    \n",
        "    new_df.DS_TIPO_ACOMODACAO.fillna(\"Nao internacao\", inplace=True)\n",
        "\n",
        "    new_df.DT_NASCIMENTO = pd.to_datetime(new_df.DT_NASCIMENTO, unit=\"D\", origin=\"julian\")\n",
        "    new_df.DT_NASCIMENTO = [2022 - x.year for x in new_df.DT_NASCIMENTO]\n",
        "    new_df.DT_NASCIMENTO.fillna(new_df.DT_NASCIMENTO.mean(), inplace=True)\n",
        "\n",
        "    new_df.DS_TIPO_GUIA = new_df.DS_TIPO_GUIA.map({\"Guia de solicitac?o SP/SADT\":\"SADT\",\n",
        "                                           \"Guia de solicitac?o internac?o\":\"Internacao\",\n",
        "                                           \"Guia de solicitac?o de prorrogac?o de internac?o\":\"Prorrogacao\"})\n",
        "\n",
        "    new_df.DS_CARATER_ATENDIMENTO = new_df.DS_CARATER_ATENDIMENTO.map({\"Eletiva\":\"Eletiva\", \"Urgencia/Emergencia\":\"Emergencia\"})\n",
        "\n",
        "    new_df.QT_DIA_SOLICITADO.fillna(-1, inplace=True)\n",
        "    new_df.QT_DIA_SOLICITADO += 1\n",
        "\n",
        "\n",
        "    aux = []\n",
        "\n",
        "    for i in df.DS_INDICACAO_CLINICA:\n",
        "        if isinstance(i, float):\n",
        "            aux.append(\"Sem descricao\")\n",
        "        elif \" mama\" in i.lower():\n",
        "            aux.append(\"Cancer de mama\")\n",
        "        elif \"anexo\" in i.lower():\n",
        "            aux.append(\"Documento anexo\")\n",
        "        elif \"glaucoma\" in i.lower():\n",
        "            aux.append(\"Glaucoma\")\n",
        "        elif len(i) < 30:\n",
        "            aux.append(\"Curto\")\n",
        "        elif 30 <= len(i) <= 70:\n",
        "            aux.append(\"Medio\")\n",
        "        elif len(i) > 70:\n",
        "            aux.append(\"Detalhado\")\n",
        "\n",
        "    new_df.DS_INDICACAO_CLINICA = aux\n",
        "    new_df.QT_DIA_SOLICITADO = new_df.QT_DIA_SOLICITADO.where(new_df.QT_DIA_SOLICITADO <= 5, 5)\n",
        "    new_df.DS_TIPO_ATENDIMENTO.fillna(\"Nao especificado\", inplace=True)\n",
        "    new_df.QT_SOLICITADA = new_df.QT_SOLICITADA.where(new_df.QT_SOLICITADA <= 25, 25)\n",
        "\n",
        "    ds_cbo(new_df)\n",
        "    ds_subgrupo(new_df)\n",
        "    tipo_prest_solicitante(new_df)\n",
        "    tipo_acomodacao(new_df)\n",
        "    tipo_atendimento(new_df)\n",
        "    grupo(new_df)\n",
        "\n",
        "    return new_df"
      ],
      "metadata": {
        "id": "8GaJf7vG0AXx"
      },
      "execution_count": 363,
      "outputs": []
    },
    {
      "cell_type": "code",
      "source": [
        "def ajeita_dados_2(df):\n",
        "    df.loc[df.CD_CID == \"B342\", \"DS_TIPO_ATENDIMENTO\"] = \"COVID\"\n",
        "    df.loc[df.CD_CID == \"U071\", \"DS_TIPO_ATENDIMENTO\"] = \"COVID\"\n",
        "\n",
        "    new_df = df.drop(columns=['CD_CID',\n",
        "                              'CD_GUIA_REFERENCIA',\n",
        "                              'CD_ITEM',\n",
        "                              'DS_CLASSE',\n",
        "                              'DS_INDICACAO_ACIDENTE',\n",
        "                              'DS_ITEM',\n",
        "                              'DS_REGIME_INTERNACAO',\n",
        "                              'DS_TIPO_CONSULTA',\n",
        "                              'DS_TIPO_DOENCA',\n",
        "                              'DS_TIPO_INTERNACAO',\n",
        "                              'DS_TIPO_SAIDA',\n",
        "                              'DS_UNIDADE_TEMPO_DOENCA',\n",
        "                              'DT_REQUISICAO',\n",
        "                              'NR_PRODUTO',\n",
        "                              'NR_SEQ_ITEM',\n",
        "                              'NR_SEQ_REQUISICAO',\n",
        "                              'QT_TEMPO_DOENCA'])\n",
        "    \n",
        "    new_df.DS_TIPO_ACOMODACAO.fillna(\"Nao internacao\", inplace=True)\n",
        "\n",
        "    new_df.DT_NASCIMENTO = pd.to_datetime(new_df.DT_NASCIMENTO, unit=\"D\", origin=\"julian\")\n",
        "    new_df.DT_NASCIMENTO = [2022 - x.year for x in new_df.DT_NASCIMENTO]\n",
        "    new_df.DT_NASCIMENTO.fillna(new_df.DT_NASCIMENTO.mean(), inplace=True)\n",
        "\n",
        "    new_df.DS_TIPO_GUIA = new_df.DS_TIPO_GUIA.map({\"Guia de solicitac?o SP/SADT\":\"SADT\",\n",
        "                                           \"Guia de solicitac?o internac?o\":\"Internacao\",\n",
        "                                           \"Guia de solicitac?o de prorrogac?o de internac?o\":\"Prorrogacao\"})\n",
        "\n",
        "    new_df.DS_CARATER_ATENDIMENTO = new_df.DS_CARATER_ATENDIMENTO.map({\"Eletiva\":\"Eletiva\", \"Urgencia/Emergencia\":\"Emergencia\"})\n",
        "\n",
        "    new_df.QT_DIA_SOLICITADO.fillna(-1, inplace=True)\n",
        "    new_df.QT_DIA_SOLICITADO += 1\n",
        "\n",
        "\n",
        "    aux = []\n",
        "\n",
        "    for i in df.DS_INDICACAO_CLINICA:\n",
        "        if isinstance(i, float):\n",
        "            aux.append(\"Sem descricao\")\n",
        "        elif \" mama\" in i.lower():\n",
        "            aux.append(\"Cancer de mama\")\n",
        "        elif \"anexo\" in i.lower():\n",
        "            aux.append(\"Documento anexo\")\n",
        "        elif \"glaucoma\" in i.lower():\n",
        "            aux.append(\"Glaucoma\")\n",
        "        elif len(i) < 30:\n",
        "            aux.append(\"Curto\")\n",
        "        elif 30 <= len(i) <= 70:\n",
        "            aux.append(\"Medio\")\n",
        "        elif len(i) > 70:\n",
        "            aux.append(\"Detalhado\")\n",
        "\n",
        "    new_df.DS_INDICACAO_CLINICA = aux\n",
        "    new_df.QT_DIA_SOLICITADO = new_df.QT_DIA_SOLICITADO.where(new_df.QT_DIA_SOLICITADO <= 5, 5)\n",
        "    new_df.DS_TIPO_ATENDIMENTO.fillna(\"Nao especificado\", inplace=True)\n",
        "    new_df.QT_SOLICITADA = new_df.QT_SOLICITADA.where(new_df.QT_SOLICITADA <= 25, 25)\n",
        "\n",
        "    return new_df"
      ],
      "metadata": {
        "id": "ZNbGieav7WVY"
      },
      "execution_count": 191,
      "outputs": []
    },
    {
      "cell_type": "markdown",
      "source": [
        "##### Train test split"
      ],
      "metadata": {
        "id": "qXXK_8Z4hzhx"
      }
    },
    {
      "cell_type": "code",
      "source": [
        "def train_val_test(X, y):\n",
        "    from sklearn.model_selection import train_test_split\n",
        "    X_train, X_test, y_train, y_test = train_test_split(X, y, test_size=0.25, random_state=42)  # treino e teste\n",
        "    X_train, X_val, y_train, y_val = train_test_split(X_train, y_train, test_size=0.25, random_state=42)  # treino e val\n",
        "\n",
        "    return X_train, X_test, X_val, y_train, y_test, y_val"
      ],
      "metadata": {
        "id": "s8L3ZvVLVulZ"
      },
      "execution_count": 192,
      "outputs": []
    },
    {
      "cell_type": "markdown",
      "metadata": {
        "id": "91bFbkLu2aCk"
      },
      "source": [
        "##### Tem que criar uma função para ajeitar os dados do teste:"
      ]
    },
    {
      "cell_type": "code",
      "execution_count": 193,
      "metadata": {
        "pycharm": {
          "name": "#%%\n"
        },
        "id": "uEPV0TSi2aCk"
      },
      "outputs": [],
      "source": [
        "def ajeita_dados(df):\n",
        "    df.loc[df.CD_CID == \"B342\", \"DS_TIPO_ATENDIMENTO\"] = \"COVID\"\n",
        "    df.loc[df.CD_CID == \"U071\", \"DS_TIPO_ATENDIMENTO\"] = \"COVID\"\n",
        "\n",
        "    new_df = df.drop(columns=['CD_CID',\n",
        "                              'CD_GUIA_REFERENCIA',\n",
        "                              'CD_ITEM',\n",
        "                              'DS_CBO',\n",
        "                              'DS_CLASSE',\n",
        "                              'DS_INDICACAO_ACIDENTE',\n",
        "                              'DS_ITEM',\n",
        "                              'DS_REGIME_INTERNACAO',\n",
        "                              'DS_SUBGRUPO',\n",
        "                              'DS_TIPO_CONSULTA',\n",
        "                              'DS_TIPO_DOENCA',\n",
        "                              'DS_TIPO_INTERNACAO',\n",
        "                              'DS_TIPO_SAIDA',\n",
        "                              'DS_UNIDADE_TEMPO_DOENCA',\n",
        "                              'DT_REQUISICAO',\n",
        "                              'NR_PRODUTO',\n",
        "                              'NR_SEQ_ITEM',\n",
        "                              'NR_SEQ_REQUISICAO',\n",
        "                              'QT_TEMPO_DOENCA'])\n",
        "\n",
        "    new_df.DT_NASCIMENTO = pd.to_datetime(new_df.DT_NASCIMENTO, unit=\"D\", origin=\"julian\")\n",
        "    new_df.DT_NASCIMENTO = [2022 - x.year for x in new_df.DT_NASCIMENTO]\n",
        "    new_df.DT_NASCIMENTO.fillna(new_df.DT_NASCIMENTO.mean(), inplace=True)\n",
        "\n",
        "    new_df.DS_TIPO_GUIA = new_df.DS_TIPO_GUIA.map({\"Guia de solicitac?o SP/SADT\":\"SADT\",\n",
        "                                           \"Guia de solicitac?o internac?o\":\"Internacao\",\n",
        "                                           \"Guia de solicitac?o de prorrogac?o de internac?o\":\"Prorrogacao\"})\n",
        "\n",
        "    new_df.DS_CARATER_ATENDIMENTO = new_df.DS_CARATER_ATENDIMENTO.map({\"Eletiva\":\"Eletiva\", \"Urgencia/Emergencia\":\"Emergencia\"})\n",
        "\n",
        "    new_df.QT_DIA_SOLICITADO.fillna(-1, inplace=True)\n",
        "    new_df.QT_DIA_SOLICITADO += 1\n",
        "\n",
        "\n",
        "    aux = []\n",
        "\n",
        "    for i in df.DS_INDICACAO_CLINICA:\n",
        "        if isinstance(i, float):\n",
        "            aux.append(\"Sem descricao\")\n",
        "        elif \" mama\" in i.lower():\n",
        "            aux.append(\"Cancer de mama\")\n",
        "        elif \"anexo\" in i.lower():\n",
        "            aux.append(\"Documento anexo\")\n",
        "        elif \"glaucoma\" in i.lower():\n",
        "            aux.append(\"Glaucoma\")\n",
        "        elif len(i) < 30:\n",
        "            aux.append(\"Curto\")\n",
        "        elif 30 <= len(i) <= 70:\n",
        "            aux.append(\"Medio\")\n",
        "        elif len(i) > 70:\n",
        "            aux.append(\"Detalhado\")\n",
        "\n",
        "    new_df.DS_INDICACAO_CLINICA = aux\n",
        "\n",
        "    return new_df"
      ]
    },
    {
      "cell_type": "code",
      "execution_count": 194,
      "metadata": {
        "pycharm": {
          "name": "#%%\n"
        },
        "id": "kVMWxak-2aCl"
      },
      "outputs": [],
      "source": [
        "df_test_copy = ajeita_dados(df_test)"
      ]
    },
    {
      "cell_type": "markdown",
      "metadata": {
        "id": "lz4k_wv92aCh"
      },
      "source": [
        "## Modelando"
      ]
    },
    {
      "cell_type": "markdown",
      "metadata": {
        "id": "_YlScxmy2aCh"
      },
      "source": [
        "### Baseline"
      ]
    },
    {
      "cell_type": "markdown",
      "metadata": {
        "id": "0ruQq1Pe2aCh"
      },
      "source": [
        "#### Decision trees"
      ]
    },
    {
      "cell_type": "markdown",
      "metadata": {
        "pycharm": {
          "name": "#%% md\n"
        },
        "id": "P9jsG_kt2aCh"
      },
      "source": [
        "##### Transformando os dados para numéricos de forma bem ingênua, ou seja, usando one hot encoder:"
      ]
    },
    {
      "cell_type": "code",
      "execution_count": 260,
      "metadata": {
        "pycharm": {
          "name": "#%%\n"
        },
        "id": "G9pMM4S02aCi"
      },
      "outputs": [],
      "source": [
        "df_copy = df_.copy()"
      ]
    },
    {
      "cell_type": "code",
      "source": [
        "df_copy.info()"
      ],
      "metadata": {
        "colab": {
          "base_uri": "https://localhost:8080/"
        },
        "id": "qjJ9e-9aj78q",
        "outputId": "acc84ab4-008a-4974-b495-43129ff4e2df"
      },
      "execution_count": 261,
      "outputs": [
        {
          "output_type": "stream",
          "name": "stdout",
          "text": [
            "<class 'pandas.core.frame.DataFrame'>\n",
            "Int64Index: 387659 entries, 0 to 413265\n",
            "Data columns (total 14 columns):\n",
            " #   Column                     Non-Null Count   Dtype  \n",
            "---  ------                     --------------   -----  \n",
            " 0   DS_TIPO_GUIA               387659 non-null  object \n",
            " 1   DT_NASCIMENTO              387659 non-null  int64  \n",
            " 2   DS_TIPO_PREST_SOLICITANTE  387659 non-null  object \n",
            " 3   DS_CBO                     387659 non-null  object \n",
            " 4   DS_CARATER_ATENDIMENTO     387659 non-null  object \n",
            " 5   DS_TIPO_ACOMODACAO         387659 non-null  object \n",
            " 6   QT_DIA_SOLICITADO          387659 non-null  float64\n",
            " 7   DS_TIPO_ATENDIMENTO        387659 non-null  object \n",
            " 8   DS_INDICACAO_CLINICA       387659 non-null  object \n",
            " 9   DS_TIPO_ITEM               387659 non-null  object \n",
            " 10  DS_SUBGRUPO                387659 non-null  object \n",
            " 11  DS_GRUPO                   387659 non-null  object \n",
            " 12  QT_SOLICITADA              387659 non-null  float64\n",
            " 13  DS_STATUS_ITEM             387659 non-null  object \n",
            "dtypes: float64(2), int64(1), object(11)\n",
            "memory usage: 52.4+ MB\n"
          ]
        }
      ]
    },
    {
      "cell_type": "code",
      "execution_count": 197,
      "metadata": {
        "pycharm": {
          "is_executing": true,
          "name": "#%%\n"
        },
        "id": "Mu8UIlay2aCi"
      },
      "outputs": [],
      "source": [
        "#df_copy.drop(columns=[\"DS_CBO\", \"DS_SUBGRUPO\"], inplace=True)"
      ]
    },
    {
      "cell_type": "markdown",
      "source": [
        "> Temos 13 features apenas."
      ],
      "metadata": {
        "id": "in-_iAVLjKJK"
      }
    },
    {
      "cell_type": "code",
      "execution_count": 262,
      "metadata": {
        "pycharm": {
          "name": "#%%\n"
        },
        "id": "szOZLdzI2aCi"
      },
      "outputs": [],
      "source": [
        "y = df_copy.DS_STATUS_ITEM.map({\"Autorizado\":0, \"Negado\":1})"
      ]
    },
    {
      "cell_type": "code",
      "execution_count": 263,
      "metadata": {
        "pycharm": {
          "is_executing": true,
          "name": "#%%\n"
        },
        "id": "4WQeYiB72aCi"
      },
      "outputs": [],
      "source": [
        "df_copy.drop(columns=[\"DS_STATUS_ITEM\"], inplace=True)"
      ]
    },
    {
      "cell_type": "code",
      "execution_count": 264,
      "metadata": {
        "pycharm": {
          "name": "#%%\n"
        },
        "id": "4V3QDXpw2aCi"
      },
      "outputs": [],
      "source": [
        "X = pd.get_dummies(df_copy)"
      ]
    },
    {
      "cell_type": "code",
      "source": [
        "X.shape"
      ],
      "metadata": {
        "colab": {
          "base_uri": "https://localhost:8080/"
        },
        "id": "AMSuuREHjOT4",
        "outputId": "971301b8-3feb-4769-da6d-327ebaf4b027"
      },
      "execution_count": 265,
      "outputs": [
        {
          "output_type": "execute_result",
          "data": {
            "text/plain": [
              "(387659, 53)"
            ]
          },
          "metadata": {},
          "execution_count": 265
        }
      ]
    },
    {
      "cell_type": "markdown",
      "source": [
        "> Com o one hot encoder, a quantidade de \"features\" cresceu para 53!!! É uma medida perigosa, pois a matriz de dados fica muito, muito esparsa, ou seja, a maior parte são zeros!"
      ],
      "metadata": {
        "id": "m_Xo6mMujRjK"
      }
    },
    {
      "cell_type": "markdown",
      "metadata": {
        "id": "Repnd0jK2aCi"
      },
      "source": [
        "Separando em treino, teste e validação"
      ]
    },
    {
      "cell_type": "code",
      "execution_count": 216,
      "metadata": {
        "pycharm": {
          "name": "#%%\n"
        },
        "id": "-zmKQCGM2aCi"
      },
      "outputs": [],
      "source": [
        "from sklearn.model_selection import train_test_split"
      ]
    },
    {
      "cell_type": "code",
      "execution_count": 217,
      "metadata": {
        "pycharm": {
          "name": "#%%\n"
        },
        "id": "oHDltK6R2aCi"
      },
      "outputs": [],
      "source": [
        "X_train, X_test, y_train, y_test = train_test_split(X, y, test_size=0.25, random_state=42)  # treino e teste"
      ]
    },
    {
      "cell_type": "code",
      "execution_count": 218,
      "metadata": {
        "pycharm": {
          "name": "#%%\n"
        },
        "id": "1uUCjEAH2aCi"
      },
      "outputs": [],
      "source": [
        "X_train, X_val, y_train, y_val = train_test_split(X_train, y_train, test_size=0.25, random_state=42) # train e val"
      ]
    },
    {
      "cell_type": "code",
      "execution_count": 219,
      "metadata": {
        "pycharm": {
          "name": "#%%\n"
        },
        "colab": {
          "base_uri": "https://localhost:8080/"
        },
        "id": "lSvLu9IS2aCi",
        "outputId": "902c5b61-a7a6-4466-f5c4-b688e9196f77"
      },
      "outputs": [
        {
          "output_type": "stream",
          "name": "stdout",
          "text": [
            "X treino: 218058,\n",
            "X teste: 96915,\n",
            "X validation: 72686\n",
            "df shape: 387659\n"
          ]
        }
      ],
      "source": [
        "print(f\"X treino: {len(X_train)},\\n\"\n",
        "      f\"X teste: {len(X_test)},\\n\"\n",
        "      f\"X validation: {len(X_val)}\\n\"\n",
        "      f\"df shape: {df.shape[0]}\")"
      ]
    },
    {
      "cell_type": "markdown",
      "metadata": {
        "id": "IZrTyw9X2aCj"
      },
      "source": [
        "### Usando Random Forest para o treinamento:"
      ]
    },
    {
      "cell_type": "code",
      "source": [
        "X_train.shape"
      ],
      "metadata": {
        "colab": {
          "base_uri": "https://localhost:8080/"
        },
        "id": "cbiKJ3HDisd7",
        "outputId": "a6d68516-6320-439c-96af-2c3d98cd1f7f"
      },
      "execution_count": 220,
      "outputs": [
        {
          "output_type": "execute_result",
          "data": {
            "text/plain": [
              "(218058, 53)"
            ]
          },
          "metadata": {},
          "execution_count": 220
        }
      ]
    },
    {
      "cell_type": "markdown",
      "source": [
        "Deixando tudo no deafault para um baseline:"
      ],
      "metadata": {
        "id": "akIhlC-joLpF"
      }
    },
    {
      "cell_type": "code",
      "source": [
        "from sklearn.ensemble import RandomForestClassifier\n",
        "\n",
        "clf = RandomForestClassifier(n_jobs=-1, verbose = 1)"
      ],
      "metadata": {
        "id": "xobXv6t3n5ns"
      },
      "execution_count": 228,
      "outputs": []
    },
    {
      "cell_type": "code",
      "execution_count": 229,
      "metadata": {
        "pycharm": {
          "name": "#%%\n"
        },
        "colab": {
          "base_uri": "https://localhost:8080/"
        },
        "id": "IKaw9nl92aCj",
        "outputId": "7c3a88b7-5416-43ed-e08a-30082585b01e"
      },
      "outputs": [
        {
          "output_type": "stream",
          "name": "stderr",
          "text": [
            "[Parallel(n_jobs=-1)]: Using backend ThreadingBackend with 8 concurrent workers.\n",
            "[Parallel(n_jobs=-1)]: Done  34 tasks      | elapsed:    2.1s\n",
            "[Parallel(n_jobs=-1)]: Done 100 out of 100 | elapsed:    5.2s finished\n"
          ]
        },
        {
          "output_type": "execute_result",
          "data": {
            "text/plain": [
              "RandomForestClassifier(n_jobs=-1, verbose=1)"
            ]
          },
          "metadata": {},
          "execution_count": 229
        }
      ],
      "source": [
        "clf.fit(X_train, y_train)"
      ]
    },
    {
      "cell_type": "code",
      "execution_count": 230,
      "metadata": {
        "pycharm": {
          "name": "#%%\n"
        },
        "id": "W9rDUOh72aCk",
        "colab": {
          "base_uri": "https://localhost:8080/"
        },
        "outputId": "1bc202b5-2730-432e-b313-fbbaf7bfb47a"
      },
      "outputs": [
        {
          "output_type": "stream",
          "name": "stderr",
          "text": [
            "[Parallel(n_jobs=8)]: Using backend ThreadingBackend with 8 concurrent workers.\n",
            "[Parallel(n_jobs=8)]: Done  34 tasks      | elapsed:    0.3s\n",
            "[Parallel(n_jobs=8)]: Done 100 out of 100 | elapsed:    0.8s finished\n"
          ]
        }
      ],
      "source": [
        "predicitions = clf.predict(X_val)"
      ]
    },
    {
      "cell_type": "code",
      "execution_count": 231,
      "metadata": {
        "pycharm": {
          "name": "#%%\n"
        },
        "id": "asI_Ulbp2aCk"
      },
      "outputs": [],
      "source": [
        "import sklearn.metrics as mtr"
      ]
    },
    {
      "cell_type": "code",
      "execution_count": 232,
      "metadata": {
        "pycharm": {
          "name": "#%%\n"
        },
        "colab": {
          "base_uri": "https://localhost:8080/"
        },
        "id": "8FBSV2Pt2aCk",
        "outputId": "20b578e1-7a03-43c2-c1db-885fa65ee2aa"
      },
      "outputs": [
        {
          "output_type": "execute_result",
          "data": {
            "text/plain": [
              "0.5326926887259757"
            ]
          },
          "metadata": {},
          "execution_count": 232
        }
      ],
      "source": [
        "mtr.f1_score(y_val, predicitions)"
      ]
    },
    {
      "cell_type": "code",
      "execution_count": 233,
      "metadata": {
        "pycharm": {
          "name": "#%%\n"
        },
        "colab": {
          "base_uri": "https://localhost:8080/"
        },
        "id": "-2YQGwsp2aCk",
        "outputId": "1c838289-290e-4d2d-c690-972d7029a857"
      },
      "outputs": [
        {
          "output_type": "execute_result",
          "data": {
            "text/plain": [
              "0.7404176870373937"
            ]
          },
          "metadata": {},
          "execution_count": 233
        }
      ],
      "source": [
        "mtr.accuracy_score(y_val, predicitions)"
      ]
    },
    {
      "cell_type": "markdown",
      "metadata": {
        "id": "JTzTDUWv2aCk"
      },
      "source": [
        "> Ok! Para um primeiro baseline, sem qualquer preocupação com balanceamento e ajustes de hiper parâmetros do modelo, 53% de F1 é válido."
      ]
    },
    {
      "cell_type": "markdown",
      "source": [
        "###Verificando o balanceamento das classes:"
      ],
      "metadata": {
        "id": "peVlHra66-gK"
      }
    },
    {
      "cell_type": "code",
      "source": [
        "y.value_counts()"
      ],
      "metadata": {
        "colab": {
          "base_uri": "https://localhost:8080/"
        },
        "id": "2CBQ2IKq63o_",
        "outputId": "e7927bc5-aa5c-4de3-9033-c16c5b965804"
      },
      "execution_count": 269,
      "outputs": [
        {
          "output_type": "execute_result",
          "data": {
            "text/plain": [
              "0    266667\n",
              "1    120992\n",
              "Name: DS_STATUS_ITEM, dtype: int64"
            ]
          },
          "metadata": {},
          "execution_count": 269
        }
      ]
    },
    {
      "cell_type": "markdown",
      "source": [
        "> Está muito desbalanceado! Isso implica em um viés em acertar a classe majoritária, no caso de Autorizados.\n",
        "\n",
        "> Preciso usar técnicas de balancemanto nesses dados."
      ],
      "metadata": {
        "id": "Tj7hKbXP7H1W"
      }
    },
    {
      "cell_type": "markdown",
      "source": [
        "### Balanceando"
      ],
      "metadata": {
        "id": "_D4N1RFheLTw"
      }
    },
    {
      "cell_type": "code",
      "source": [
        "df_train = df_copy.copy()\n",
        "df_train[\"DS_STATUS_ITEM\"] = df_.DS_STATUS_ITEM.map({\"Autorizado\":0, \"Negado\":1})"
      ],
      "metadata": {
        "id": "u60eWKCf7nv8"
      },
      "execution_count": 303,
      "outputs": []
    },
    {
      "cell_type": "code",
      "source": [
        "y = df_train.DS_STATUS_ITEM.map({\"Autorizado\":0, \"Negado\":1})\n",
        "X = pd.get_dummies(df_train)"
      ],
      "metadata": {
        "id": "IS5i5nqigITj"
      },
      "execution_count": 304,
      "outputs": []
    },
    {
      "cell_type": "code",
      "source": [
        "X.shape"
      ],
      "metadata": {
        "colab": {
          "base_uri": "https://localhost:8080/"
        },
        "id": "7TLqSpCJgOdU",
        "outputId": "cb753162-079b-4198-9cc4-b48c96ad90ac"
      },
      "execution_count": 272,
      "outputs": [
        {
          "output_type": "execute_result",
          "data": {
            "text/plain": [
              "(387659, 53)"
            ]
          },
          "metadata": {},
          "execution_count": 272
        }
      ]
    },
    {
      "cell_type": "code",
      "source": [
        "y.value_counts()"
      ],
      "metadata": {
        "colab": {
          "base_uri": "https://localhost:8080/"
        },
        "id": "RY8J9l-xgQRL",
        "outputId": "1526fc92-7f59-47d1-cbf8-b6a29446c07b"
      },
      "execution_count": 273,
      "outputs": [
        {
          "output_type": "execute_result",
          "data": {
            "text/plain": [
              "0    266667\n",
              "1    120992\n",
              "Name: DS_STATUS_ITEM, dtype: int64"
            ]
          },
          "metadata": {},
          "execution_count": 273
        }
      ]
    },
    {
      "cell_type": "markdown",
      "source": [
        "##### Under Sampling"
      ],
      "metadata": {
        "id": "TN0W-8nPgS8m"
      }
    },
    {
      "cell_type": "markdown",
      "source": [
        "O under sampling é uma técnica em que se remove aleatoriamente elementos pertencentes à classe majoritária até que ela se nivele à minoritária. Essa técnica pode ser usada aqui pois temos uma quantidade relevante de dados na classe minoritária, que viabiliza a modelagem em cima desses dados."
      ],
      "metadata": {
        "id": "jXiqJfXesRZx"
      }
    },
    {
      "cell_type": "code",
      "source": [
        "## Caso não tenha o imbalanced learn instalado, rode essa célula\n",
        "!pip install imbalanced-learn"
      ],
      "metadata": {
        "id": "7GQfXKfygexz"
      },
      "execution_count": null,
      "outputs": []
    },
    {
      "cell_type": "code",
      "source": [
        "from imblearn.under_sampling import RandomUnderSampler"
      ],
      "metadata": {
        "id": "X6CsF-kHgRxv"
      },
      "execution_count": 274,
      "outputs": []
    },
    {
      "cell_type": "code",
      "source": [
        "RUS = RandomUnderSampler(sampling_strategy=\"majority\")"
      ],
      "metadata": {
        "id": "ku28nXx3hDOF"
      },
      "execution_count": 275,
      "outputs": []
    },
    {
      "cell_type": "code",
      "source": [
        "X_under, y_under = RUS.fit_resample(X, y)"
      ],
      "metadata": {
        "id": "u2FbFSYGhOHM"
      },
      "execution_count": 276,
      "outputs": []
    },
    {
      "cell_type": "code",
      "source": [
        "y_under.value_counts()"
      ],
      "metadata": {
        "colab": {
          "base_uri": "https://localhost:8080/"
        },
        "id": "Nwt2qUiZhTdH",
        "outputId": "bc1aec37-17b3-4c2f-f69b-b9fd940ae533"
      },
      "execution_count": 277,
      "outputs": [
        {
          "output_type": "execute_result",
          "data": {
            "text/plain": [
              "0    120992\n",
              "1    120992\n",
              "Name: DS_STATUS_ITEM, dtype: int64"
            ]
          },
          "metadata": {},
          "execution_count": 277
        }
      ]
    },
    {
      "cell_type": "markdown",
      "source": [
        "> Viu só? Agora as duas classes estão balanceadas."
      ],
      "metadata": {
        "id": "dfjemq1QtFZp"
      }
    },
    {
      "cell_type": "markdown",
      "source": [
        "##### Aplicando os algoritmos"
      ],
      "metadata": {
        "id": "JO8daF6xhdS_"
      }
    },
    {
      "cell_type": "code",
      "source": [
        "from sklearn.ensemble import RandomForestClassifier\n",
        "import sklearn.metrics as mtrcs"
      ],
      "metadata": {
        "id": "IuCndLrohbq3"
      },
      "execution_count": 278,
      "outputs": []
    },
    {
      "cell_type": "code",
      "source": [
        "clf = RandomForestClassifier(n_jobs=-1, verbose=1)"
      ],
      "metadata": {
        "id": "C-8UUGQnhpJ3"
      },
      "execution_count": 281,
      "outputs": []
    },
    {
      "cell_type": "code",
      "source": [
        "clf.fit(X_train, y_train)"
      ],
      "metadata": {
        "colab": {
          "base_uri": "https://localhost:8080/"
        },
        "id": "HLiSxpGYiOqX",
        "outputId": "1cb7fcc7-6cfd-40dd-aa5c-9de9820d3fc6"
      },
      "execution_count": 282,
      "outputs": [
        {
          "output_type": "stream",
          "name": "stderr",
          "text": [
            "[Parallel(n_jobs=-1)]: Using backend ThreadingBackend with 8 concurrent workers.\n",
            "[Parallel(n_jobs=-1)]: Done  34 tasks      | elapsed:    2.3s\n",
            "[Parallel(n_jobs=-1)]: Done 100 out of 100 | elapsed:    5.7s finished\n"
          ]
        },
        {
          "output_type": "execute_result",
          "data": {
            "text/plain": [
              "RandomForestClassifier(n_jobs=-1, verbose=1)"
            ]
          },
          "metadata": {},
          "execution_count": 282
        }
      ]
    },
    {
      "cell_type": "code",
      "source": [
        "## averiguando o desempenho\n",
        "predicitions = clf.predict(X_val)"
      ],
      "metadata": {
        "id": "x-stmq_GiSGl",
        "colab": {
          "base_uri": "https://localhost:8080/"
        },
        "outputId": "42a562a2-4fe4-4fc4-fe82-16e995154742"
      },
      "execution_count": 283,
      "outputs": [
        {
          "output_type": "stream",
          "name": "stderr",
          "text": [
            "[Parallel(n_jobs=8)]: Using backend ThreadingBackend with 8 concurrent workers.\n",
            "[Parallel(n_jobs=8)]: Done  34 tasks      | elapsed:    0.3s\n",
            "[Parallel(n_jobs=8)]: Done 100 out of 100 | elapsed:    0.7s finished\n"
          ]
        }
      ]
    },
    {
      "cell_type": "code",
      "source": [
        "mtrcs.f1_score(y_val, predicitions)"
      ],
      "metadata": {
        "colab": {
          "base_uri": "https://localhost:8080/"
        },
        "id": "JkIhcCv4iZ6h",
        "outputId": "b8fafabe-df36-4c27-f6c6-3ce274c26466"
      },
      "execution_count": 284,
      "outputs": [
        {
          "output_type": "execute_result",
          "data": {
            "text/plain": [
              "0.5317910484729894"
            ]
          },
          "metadata": {},
          "execution_count": 284
        }
      ]
    },
    {
      "cell_type": "markdown",
      "source": [
        "> Parece que não teve ganhos significativos usando o Rando Under Sampling. Tudo bem, temos mais ferramentas para usar. Próximo!"
      ],
      "metadata": {
        "id": "AA_thCPMtXdJ"
      }
    },
    {
      "cell_type": "code",
      "source": [
        "## gerando predições para a segunda submissao:\n",
        "df_test = pd.read_csv(r\"C:\\Users\\alexv\\Desktop\\AuditoriaOmniSaude\\getdummies_test.csv\")"
      ],
      "metadata": {
        "id": "GvlYP24OieEh"
      },
      "execution_count": null,
      "outputs": []
    },
    {
      "cell_type": "code",
      "source": [
        "test = clf.predict(df_test)"
      ],
      "metadata": {
        "id": "BbNMgpOWi1Sd"
      },
      "execution_count": null,
      "outputs": []
    },
    {
      "cell_type": "markdown",
      "source": [
        "#### Submissão 2"
      ],
      "metadata": {
        "id": "Sj_m7tRclyyu"
      }
    },
    {
      "cell_type": "code",
      "source": [
        "## gerando predições para a segunda submissao:\n",
        "df_test = pd.read_csv(r\"C:\\Users\\alexv\\Desktop\\AuditoriaOmniSaude\\getdummies_test.csv\")\n",
        "test = clf.predict(df_test)"
      ],
      "metadata": {
        "id": "N5-8lJSXl7Gp"
      },
      "execution_count": null,
      "outputs": []
    },
    {
      "cell_type": "code",
      "source": [
        "submeta_papai(\"submissao2\", test)"
      ],
      "metadata": {
        "id": "AV1RD-Bsksxu"
      },
      "execution_count": null,
      "outputs": []
    },
    {
      "cell_type": "markdown",
      "source": [
        "> Bati 61% de F1 Score no Kaggle. Legal! Tive um crescimento de 10% em relação à última submissão. (A última não está aqui, pois removi a bagunça em que estava inserida hehe)"
      ],
      "metadata": {
        "id": "NvdI1qYLtijz"
      }
    },
    {
      "cell_type": "markdown",
      "source": [
        "### Perdendo a ingenuidade"
      ],
      "metadata": {
        "id": "a4fUbHT6o1fv"
      }
    },
    {
      "cell_type": "markdown",
      "source": [
        "#### Ainda utilizando o one hot encoder, mas agora vamos aplicar o cross validation."
      ],
      "metadata": {
        "id": "UUBMkfnzo4es"
      }
    },
    {
      "cell_type": "code",
      "source": [
        "from sklearn.model_selection import cross_validate"
      ],
      "metadata": {
        "id": "yfsX82rmkwl1"
      },
      "execution_count": 285,
      "outputs": []
    },
    {
      "cell_type": "code",
      "source": [
        "from sklearn.ensemble import RandomForestClassifier\n",
        "\n",
        "clf = RandomForestClassifier(n_jobs=-1)"
      ],
      "metadata": {
        "id": "XxUkzZHFpuU2"
      },
      "execution_count": 286,
      "outputs": []
    },
    {
      "cell_type": "code",
      "source": [
        "scores = cross_validate(clf, X_train, y_train, cv=5, scoring=\"f1\", n_jobs=-1, verbose=2, return_train_score=True)"
      ],
      "metadata": {
        "colab": {
          "base_uri": "https://localhost:8080/"
        },
        "id": "8Z7qinIypIHs",
        "outputId": "c598c5bc-8e8e-4943-a39d-ddb733ac5603"
      },
      "execution_count": 287,
      "outputs": [
        {
          "output_type": "stream",
          "name": "stderr",
          "text": [
            "[Parallel(n_jobs=-1)]: Using backend LokyBackend with 8 concurrent workers.\n",
            "[Parallel(n_jobs=-1)]: Done   2 out of   5 | elapsed:   32.5s remaining:   48.8s\n",
            "[Parallel(n_jobs=-1)]: Done   5 out of   5 | elapsed:   32.6s remaining:    0.0s\n",
            "[Parallel(n_jobs=-1)]: Done   5 out of   5 | elapsed:   32.6s finished\n"
          ]
        }
      ]
    },
    {
      "cell_type": "code",
      "source": [
        "scores"
      ],
      "metadata": {
        "colab": {
          "base_uri": "https://localhost:8080/"
        },
        "id": "RPxb4zsVqut7",
        "outputId": "de15a563-b0bf-405f-f8fd-558cb5c82621"
      },
      "execution_count": 288,
      "outputs": [
        {
          "output_type": "execute_result",
          "data": {
            "text/plain": [
              "{'fit_time': array([21.63696599, 21.57716084, 21.69859505, 21.68605304, 21.68996787]),\n",
              " 'score_time': array([2.28937316, 2.26936507, 2.23011398, 2.25101495, 2.25718713]),\n",
              " 'test_score': array([0.5172728 , 0.52381536, 0.52010768, 0.5260378 , 0.52261556]),\n",
              " 'train_score': array([0.73587613, 0.73861262, 0.73594792, 0.73689516, 0.73576434])}"
            ]
          },
          "metadata": {},
          "execution_count": 288
        }
      ]
    },
    {
      "cell_type": "markdown",
      "source": [
        "> Nosso modelo overfittou! E isso não é ruim, vamos buscar otimizar os parâmetros."
      ],
      "metadata": {
        "id": "F3GKc4dir7jO"
      }
    },
    {
      "cell_type": "markdown",
      "source": [
        "Vamos buscar os melhores parâmetros:"
      ],
      "metadata": {
        "id": "XzUT8tHgsLPU"
      }
    },
    {
      "cell_type": "code",
      "source": [
        "from sklearn.model_selection import GridSearchCV"
      ],
      "metadata": {
        "id": "xJd_tdRrq2Ub"
      },
      "execution_count": 289,
      "outputs": []
    },
    {
      "cell_type": "code",
      "source": [
        "params = {\"n_estimators\":[2, 5, 10, 100], \"criterion\":[\"gini\", \"entropy\"], \"max_depth\":[1, 2, 5, 10, 50], \"min_samples_split\":[2, 5, 10, 20], \"n_jobs\":[-1]}"
      ],
      "metadata": {
        "id": "i2wnApIYsyUv"
      },
      "execution_count": 290,
      "outputs": []
    },
    {
      "cell_type": "code",
      "source": [
        "grid = GridSearchCV(clf, params, scoring=\"f1\", n_jobs=-1, verbose=2, return_train_score=True, cv=5)"
      ],
      "metadata": {
        "id": "i9ujM3mPsWb_"
      },
      "execution_count": 291,
      "outputs": []
    },
    {
      "cell_type": "code",
      "source": [
        "grid.fit(X_train, y_train)"
      ],
      "metadata": {
        "colab": {
          "base_uri": "https://localhost:8080/"
        },
        "id": "zHZavLmJumdB",
        "outputId": "d2c1fb96-bfaf-4561-bae7-f87d484d8228"
      },
      "execution_count": 292,
      "outputs": [
        {
          "output_type": "stream",
          "name": "stdout",
          "text": [
            "Fitting 5 folds for each of 160 candidates, totalling 800 fits\n"
          ]
        },
        {
          "output_type": "execute_result",
          "data": {
            "text/plain": [
              "GridSearchCV(cv=5, estimator=RandomForestClassifier(n_jobs=-1), n_jobs=-1,\n",
              "             param_grid={'criterion': ['gini', 'entropy'],\n",
              "                         'max_depth': [1, 2, 5, 10, 50],\n",
              "                         'min_samples_split': [2, 5, 10, 20],\n",
              "                         'n_estimators': [2, 5, 10, 100], 'n_jobs': [-1]},\n",
              "             return_train_score=True, scoring='f1', verbose=2)"
            ]
          },
          "metadata": {},
          "execution_count": 292
        }
      ]
    },
    {
      "cell_type": "code",
      "source": [
        "grid.best_estimator_"
      ],
      "metadata": {
        "colab": {
          "base_uri": "https://localhost:8080/"
        },
        "id": "NFD65JtlusgM",
        "outputId": "d05eeca6-3676-4eb4-b7c6-7820a18c2f56"
      },
      "execution_count": 293,
      "outputs": [
        {
          "output_type": "execute_result",
          "data": {
            "text/plain": [
              "RandomForestClassifier(criterion='entropy', max_depth=50, n_jobs=-1)"
            ]
          },
          "metadata": {},
          "execution_count": 293
        }
      ]
    },
    {
      "cell_type": "code",
      "source": [
        "grid.best_params_"
      ],
      "metadata": {
        "colab": {
          "base_uri": "https://localhost:8080/"
        },
        "id": "JScbmhUQwI86",
        "outputId": "3c512723-dcd8-41bc-aa56-3b35c8542752"
      },
      "execution_count": 294,
      "outputs": [
        {
          "output_type": "execute_result",
          "data": {
            "text/plain": [
              "{'criterion': 'entropy',\n",
              " 'max_depth': 50,\n",
              " 'min_samples_split': 2,\n",
              " 'n_estimators': 100,\n",
              " 'n_jobs': -1}"
            ]
          },
          "metadata": {},
          "execution_count": 294
        }
      ]
    },
    {
      "cell_type": "code",
      "source": [
        "grid.best_score_"
      ],
      "metadata": {
        "colab": {
          "base_uri": "https://localhost:8080/"
        },
        "id": "WpqNicHGwODr",
        "outputId": "1e6a8c3a-3618-4171-f6be-95dbd4f87335"
      },
      "execution_count": 295,
      "outputs": [
        {
          "output_type": "execute_result",
          "data": {
            "text/plain": [
              "0.5213277497973374"
            ]
          },
          "metadata": {},
          "execution_count": 295
        }
      ]
    },
    {
      "cell_type": "code",
      "source": [
        "grid.cv_results_"
      ],
      "metadata": {
        "id": "yFgyzSoPwQRT"
      },
      "execution_count": null,
      "outputs": []
    },
    {
      "cell_type": "markdown",
      "source": [
        "> Ainda está overfitado. Pode ser por conta da alta cardinalidade. Vamos buscar outros modelos."
      ],
      "metadata": {
        "id": "pAChoh3dw0IK"
      }
    },
    {
      "cell_type": "markdown",
      "source": [
        "> Mas antes, vamos recortar a lista de parâmetros para orbitar em torno dos melhores obtidos até agora:"
      ],
      "metadata": {
        "id": "VGlqMmaYFVTO"
      }
    },
    {
      "cell_type": "code",
      "source": [
        "params = {\"n_estimators\":[100, 200], \"criterion\":[\"entropy\"], \"max_depth\":[40, 50, 55, 60], \"min_samples_split\":[20, 50, 100, 500], \"n_jobs\":[-1]}"
      ],
      "metadata": {
        "id": "pbx0_0gRFcHD"
      },
      "execution_count": 297,
      "outputs": []
    },
    {
      "cell_type": "code",
      "source": [
        "grid = GridSearchCV(clf, params, scoring=\"f1\", n_jobs=-1, verbose=2, return_train_score=True, cv=10)"
      ],
      "metadata": {
        "id": "IWXdwCyDGngr"
      },
      "execution_count": 298,
      "outputs": []
    },
    {
      "cell_type": "code",
      "source": [
        "grid.fit(X_train, y_train)"
      ],
      "metadata": {
        "id": "C6aGnQ0dGnYu"
      },
      "execution_count": null,
      "outputs": []
    },
    {
      "cell_type": "code",
      "source": [
        "grid.best_params_"
      ],
      "metadata": {
        "id": "nxNodGXILLB7"
      },
      "execution_count": null,
      "outputs": []
    },
    {
      "cell_type": "code",
      "source": [
        "grid.best_score_"
      ],
      "metadata": {
        "id": "qaj5jtDgLRQr"
      },
      "execution_count": null,
      "outputs": []
    },
    {
      "cell_type": "code",
      "source": [
        "grid.cv_results_"
      ],
      "metadata": {
        "id": "ceV-UesOLSYb"
      },
      "execution_count": null,
      "outputs": []
    },
    {
      "cell_type": "markdown",
      "source": [
        "#### Vamos testar o Random Over Sampling"
      ],
      "metadata": {
        "id": "9SXkU2LFNpjh"
      }
    },
    {
      "cell_type": "code",
      "source": [
        "from imblearn.over_sampling import RandomOverSampler\n",
        "import pandas as pd\n",
        "\n",
        "ros = RandomOverSampler()"
      ],
      "metadata": {
        "id": "jjIyuAF8QqHU"
      },
      "execution_count": 301,
      "outputs": []
    },
    {
      "cell_type": "code",
      "source": [
        "y = df_.DS_STATUS_ITEM.map({\"Autorizado\":0, \"Negado\":1})\n",
        "X = pd.get_dummies(df_train).drop(columns=[\"DS_STATUS_ITEM\"])"
      ],
      "metadata": {
        "id": "gAkohShQVIA1"
      },
      "execution_count": 373,
      "outputs": []
    },
    {
      "cell_type": "code",
      "source": [
        "## balanceando\n",
        "X, y = ros.fit_resample(X,y)"
      ],
      "metadata": {
        "id": "OZTIRQX_YhGQ"
      },
      "execution_count": 374,
      "outputs": []
    },
    {
      "cell_type": "code",
      "source": [
        "y.value_counts()"
      ],
      "metadata": {
        "colab": {
          "base_uri": "https://localhost:8080/"
        },
        "id": "y0pjHIlNYpDu",
        "outputId": "6832783f-32e5-4680-c5f5-6107cfaf75b8"
      },
      "execution_count": 376,
      "outputs": [
        {
          "output_type": "execute_result",
          "data": {
            "text/plain": [
              "0    266667\n",
              "1    266667\n",
              "Name: DS_STATUS_ITEM, dtype: int64"
            ]
          },
          "metadata": {},
          "execution_count": 376
        }
      ]
    },
    {
      "cell_type": "code",
      "source": [
        "X_train, X_test, X_val, y_train, y_test, y_val = train_val_test(X, y)"
      ],
      "metadata": {
        "id": "_-TTK7tBVJ8W"
      },
      "execution_count": 377,
      "outputs": []
    },
    {
      "cell_type": "code",
      "source": [
        "y_train.value_counts()"
      ],
      "metadata": {
        "colab": {
          "base_uri": "https://localhost:8080/"
        },
        "id": "fWlsERvjXZ0T",
        "outputId": "d59c3af0-1790-4871-cec5-e34636185781"
      },
      "execution_count": 378,
      "outputs": [
        {
          "output_type": "execute_result",
          "data": {
            "text/plain": [
              "1    150177\n",
              "0    149823\n",
              "Name: DS_STATUS_ITEM, dtype: int64"
            ]
          },
          "metadata": {},
          "execution_count": 378
        }
      ]
    },
    {
      "cell_type": "markdown",
      "source": [
        "##### Aplicando o random forest"
      ],
      "metadata": {
        "id": "PfzwtgSVYtSN"
      }
    },
    {
      "cell_type": "code",
      "source": [
        "from sklearn.model_selection import cross_validate\n",
        "from sklearn.ensemble import RandomForestClassifier"
      ],
      "metadata": {
        "id": "EL1HOEn_bERk"
      },
      "execution_count": 379,
      "outputs": []
    },
    {
      "cell_type": "code",
      "source": [
        "clf = RandomForestClassifier(n_estimators=100, criterion=\"entropy\", max_depth=None, min_samples_split=40, n_jobs=-1)\n",
        "\n",
        "cval = cross_validate(clf, X_train, y_train, scoring=\"f1\", cv=10, return_train_score=True, n_jobs=-1)"
      ],
      "metadata": {
        "id": "9H3LcodmZG1L"
      },
      "execution_count": 380,
      "outputs": []
    },
    {
      "cell_type": "code",
      "source": [
        "cval"
      ],
      "metadata": {
        "id": "r2hcYg0NaINM",
        "colab": {
          "base_uri": "https://localhost:8080/"
        },
        "outputId": "351c4952-dfa6-4085-ef37-ca1926144436"
      },
      "execution_count": 381,
      "outputs": [
        {
          "output_type": "execute_result",
          "data": {
            "text/plain": [
              "{'fit_time': array([57.68032789, 57.66719007, 57.71498489, 57.66113782, 57.59932733,\n",
              "        57.63915491, 57.61697483, 57.59516382, 13.28958702, 13.23475981]),\n",
              " 'score_time': array([1.87207508, 1.95170712, 1.88200402, 1.89110708, 1.92204976,\n",
              "        1.90600109, 1.76080918, 1.78455806, 0.49139905, 0.52424192]),\n",
              " 'test_score': array([0.70398192, 0.70306985, 0.70431518, 0.70356073, 0.70994374,\n",
              "        0.70923164, 0.70285924, 0.69809937, 0.70721876, 0.70558578]),\n",
              " 'train_score': array([0.74811028, 0.74782054, 0.74860575, 0.74816322, 0.74782035,\n",
              "        0.74884969, 0.74809642, 0.74844655, 0.7471887 , 0.74821439])}"
            ]
          },
          "metadata": {},
          "execution_count": 381
        }
      ]
    },
    {
      "cell_type": "code",
      "source": [
        "## fitando o modelo para fazer uma matriz de confusão\n",
        "clf.fit(X_train, y_train)"
      ],
      "metadata": {
        "colab": {
          "base_uri": "https://localhost:8080/"
        },
        "id": "fzKPsL-Q9LeS",
        "outputId": "c6aaa5ac-8eb2-4425-f1ea-d54ce9b04f58"
      },
      "execution_count": 382,
      "outputs": [
        {
          "output_type": "execute_result",
          "data": {
            "text/plain": [
              "RandomForestClassifier(criterion='entropy', min_samples_split=40, n_jobs=-1)"
            ]
          },
          "metadata": {},
          "execution_count": 382
        }
      ]
    },
    {
      "cell_type": "code",
      "source": [
        "predictions = clf.predict(X_test) # fazendo predicoes em cima dos dados de teste"
      ],
      "metadata": {
        "id": "e8l4T_gQ9uat"
      },
      "execution_count": 384,
      "outputs": []
    },
    {
      "cell_type": "code",
      "source": [
        "mtrcs.f1_score(y_test, predictions)"
      ],
      "metadata": {
        "colab": {
          "base_uri": "https://localhost:8080/"
        },
        "id": "H1ox8NnX-Aog",
        "outputId": "eb205019-8ff5-4981-c479-d7c2e1b8e214"
      },
      "execution_count": 385,
      "outputs": [
        {
          "output_type": "execute_result",
          "data": {
            "text/plain": [
              "0.7053546649865364"
            ]
          },
          "metadata": {},
          "execution_count": 385
        }
      ]
    },
    {
      "cell_type": "markdown",
      "source": [
        "## Plotando matriz de confusão\n"
      ],
      "metadata": {
        "id": "MwvPvC4IfJfb"
      }
    },
    {
      "cell_type": "code",
      "source": [
        "## Plotando a matriz de confusão das predições\n",
        "CF = mtrcs.confusion_matrix(y_test, predictions)\n",
        "Conf = mtrcs.ConfusionMatrixDisplay(CF, display_labels=[\"Autorizado\", \"Negado\"])\n",
        "Conf.plot()"
      ],
      "metadata": {
        "colab": {
          "base_uri": "https://localhost:8080/",
          "height": 297
        },
        "id": "c26ncmRlVfHd",
        "outputId": "90dd0106-ee59-4941-e63c-4c5562014952"
      },
      "execution_count": 399,
      "outputs": [
        {
          "output_type": "execute_result",
          "data": {
            "text/plain": [
              "<sklearn.metrics._plot.confusion_matrix.ConfusionMatrixDisplay at 0x7fe0f23b81f0>"
            ]
          },
          "metadata": {},
          "execution_count": 399
        },
        {
          "output_type": "display_data",
          "data": {
            "text/plain": [
              "<Figure size 432x288 with 2 Axes>"
            ],
            "image/png": "[encoded data removed]"
          },
          "metadata": {
            "needs_background": "light"
          }
        }
      ]
    },
    {
      "cell_type": "code",
      "source": [
        "print(\"Acurácia:\", mtrcs.accuracy_score(y_test, predictions))\n",
        "print(\"F1_score:\", mtrcs.f1_score(y_test, predictions))"
      ],
      "metadata": {
        "colab": {
          "base_uri": "https://localhost:8080/"
        },
        "id": "PVXzf0tjZXvM",
        "outputId": "ab2f4688-4335-4e7b-d1a1-07b601adbf53"
      },
      "execution_count": 401,
      "outputs": [
        {
          "output_type": "stream",
          "name": "stdout",
          "text": [
            "Acurácia: 0.7053789731051344\n",
            "F1_score: 0.7053546649865364\n"
          ]
        }
      ]
    },
    {
      "cell_type": "markdown",
      "source": [
        "> 70.5% de Acurácia e F1, muito interessante!"
      ],
      "metadata": {
        "id": "yIagPlCIcV-c"
      }
    },
    {
      "cell_type": "markdown",
      "source": [
        "> Percebi que, aumentando o valor de max_deth o modelo tende a overfittar, e aumentando o valor de min_samples_split o overfit tende a diminuir.\n",
        "\n",
        "> Agora tem que achar um valor bom entre o test score e o train_score"
      ],
      "metadata": {
        "id": "lmaQGIkIehTB"
      }
    },
    {
      "cell_type": "markdown",
      "source": [
        "> O melhor Random Forest até agora é esse:\n",
        "\n",
        "RandomForestClassifier(n_estimators=100, criterion=\"entropy\", max_depth=None, min_samples_split=40, n_jobs=-1)\n"
      ],
      "metadata": {
        "id": "_8470ATIhx6S"
      }
    },
    {
      "cell_type": "markdown",
      "source": [
        "#### Submissão 3:"
      ],
      "metadata": {
        "id": "iCvI9sV3lC9x"
      }
    },
    {
      "cell_type": "code",
      "source": [
        "## Usando o dataset inteiro para treinar:\n",
        "y = df_train.DS_STATUS_ITEM.map({\"Autorizado\":0, \"Negado\":1})\n",
        "X = df_train.drop(columns=[\"DS_STATUS_ITEM\"])"
      ],
      "metadata": {
        "id": "s2QgUGdNlHm4"
      },
      "execution_count": null,
      "outputs": []
    },
    {
      "cell_type": "code",
      "source": [
        "clf = RandomForestClassifier(n_estimators=100, criterion=\"entropy\", max_depth=None, min_samples_split=40, n_jobs=-1)\n",
        "\n",
        "clf.fit(X, y)"
      ],
      "metadata": {
        "colab": {
          "base_uri": "https://localhost:8080/"
        },
        "id": "A_VgVMeplhjU",
        "outputId": "38d5d9cc-cdb8-4731-de1f-1b9549f0c20e"
      },
      "execution_count": null,
      "outputs": [
        {
          "output_type": "execute_result",
          "data": {
            "text/plain": [
              "RandomForestClassifier(bootstrap=True, ccp_alpha=0.0, class_weight=None,\n",
              "                       criterion='entropy', max_depth=None, max_features='auto',\n",
              "                       max_leaf_nodes=None, max_samples=None,\n",
              "                       min_impurity_decrease=0.0, min_impurity_split=None,\n",
              "                       min_samples_leaf=1, min_samples_split=40,\n",
              "                       min_weight_fraction_leaf=0.0, n_estimators=100,\n",
              "                       n_jobs=-1, oob_score=False, random_state=None, verbose=0,\n",
              "                       warm_start=False)"
            ]
          },
          "metadata": {},
          "execution_count": 260
        }
      ]
    },
    {
      "cell_type": "code",
      "source": [
        "## gerando predições para a terceira submissao:\n",
        "\n",
        "test = clf.predict(df_test)"
      ],
      "metadata": {
        "id": "BZJOp0PDlmUs"
      },
      "execution_count": null,
      "outputs": []
    },
    {
      "cell_type": "code",
      "source": [
        "submeta_papai(\"submissao3\", test)"
      ],
      "metadata": {
        "id": "f3LX2Li7mIeh"
      },
      "execution_count": null,
      "outputs": []
    },
    {
      "cell_type": "markdown",
      "source": [
        "> Legal, bati 71% no Kaggle! Foi o melhor resultado que obtive utilizando essa pouca quantidade de features."
      ],
      "metadata": {
        "id": "wxtwEf2V8L1z"
      }
    },
    {
      "cell_type": "markdown",
      "source": [
        "#### Feature selection"
      ],
      "metadata": {
        "id": "nBy5n-cYDFhN"
      }
    },
    {
      "cell_type": "code",
      "source": [
        "from sklearn.ensemble import RandomForestClassifier"
      ],
      "metadata": {
        "id": "1Qb2p8DFEugE"
      },
      "execution_count": null,
      "outputs": []
    },
    {
      "cell_type": "code",
      "source": [
        "clf = RandomForestClassifier(n_estimators=100, criterion=\"entropy\", max_depth=None, min_samples_split=40, n_jobs=-1)"
      ],
      "metadata": {
        "id": "kcStnutgE1Ts"
      },
      "execution_count": null,
      "outputs": []
    },
    {
      "cell_type": "code",
      "source": [
        "from mlxtend.feature_selection import SequentialFeatureSelector as SFS"
      ],
      "metadata": {
        "id": "LeKBi491DE2k"
      },
      "execution_count": null,
      "outputs": []
    },
    {
      "cell_type": "code",
      "source": [
        "## 1 feature\n",
        "sfs = SFS(clf, forward=True, cv=10, n_jobs=-1, k_features=1, verbose=2)\n",
        "sfs.fit(X_train, y_train)"
      ],
      "metadata": {
        "colab": {
          "base_uri": "https://localhost:8080/"
        },
        "id": "TgLOsLFUDJ02",
        "outputId": "8164a9f2-00a9-41d6-e2fa-f0aea84bdd43"
      },
      "execution_count": null,
      "outputs": [
        {
          "output_type": "stream",
          "name": "stderr",
          "text": [
            "[Parallel(n_jobs=-1)]: Using backend LokyBackend with 16 concurrent workers.\n",
            "[Parallel(n_jobs=-1)]: Done   9 tasks      | elapsed:   55.2s\n",
            "[Parallel(n_jobs=-1)]: Done  49 out of  53 | elapsed:  2.7min remaining:   13.3s\n",
            "[Parallel(n_jobs=-1)]: Done  53 out of  53 | elapsed:  2.7min finished\n",
            "\n",
            "[2022-04-21 12:19:02] Features: 1/1 -- score: 0.5670457123224022"
          ]
        },
        {
          "output_type": "execute_result",
          "data": {
            "text/plain": [
              "SequentialFeatureSelector(clone_estimator=True, cv=10,\n",
              "                          estimator=RandomForestClassifier(bootstrap=True,\n",
              "                                                           ccp_alpha=0.0,\n",
              "                                                           class_weight=None,\n",
              "                                                           criterion='entropy',\n",
              "                                                           max_depth=None,\n",
              "                                                           max_features='auto',\n",
              "                                                           max_leaf_nodes=None,\n",
              "                                                           max_samples=None,\n",
              "                                                           min_impurity_decrease=0.0,\n",
              "                                                           min_impurity_split=None,\n",
              "                                                           min_samples_leaf=1,\n",
              "                                                           min_samples_split=40,\n",
              "                                                           min_weight_fraction_leaf=0.0,\n",
              "                                                           n_estimators=100,\n",
              "                                                           n_jobs=-1,\n",
              "                                                           oob_score=False,\n",
              "                                                           random_state=None,\n",
              "                                                           verbose=0,\n",
              "                                                           warm_start=False),\n",
              "                          fixed_features=None, floating=False, forward=True,\n",
              "                          k_features=1, n_jobs=-1, pre_dispatch='2*n_jobs',\n",
              "                          scoring=None, verbose=2)"
            ]
          },
          "metadata": {},
          "execution_count": 267
        }
      ]
    },
    {
      "cell_type": "code",
      "source": [
        "sfs.k_feature_names_, sfs.k_score_"
      ],
      "metadata": {
        "colab": {
          "base_uri": "https://localhost:8080/"
        },
        "id": "9cmKEMXZshkJ",
        "outputId": "adc05798-fc74-4e42-b8c3-c435a1357623"
      },
      "execution_count": null,
      "outputs": [
        {
          "output_type": "execute_result",
          "data": {
            "text/plain": [
              "(('DS_TIPO_PREST_SOLICITANTE_HOSPITAL',), 0.5670457123224022)"
            ]
          },
          "metadata": {},
          "execution_count": 268
        }
      ]
    },
    {
      "cell_type": "markdown",
      "source": [
        "> Então apenas 1 feature já resulta em 0.56"
      ],
      "metadata": {
        "id": "nj2silLSu6ff"
      }
    },
    {
      "cell_type": "code",
      "source": [
        "## vamos achar agora as 5 features mais importantes\n",
        "sfs = SFS(clf, forward=True, cv=10, n_jobs=-1, k_features=5, verbose=2, fixed_features=sfs.k_feature_names_)\n",
        "sfs.fit(X_train, y_train)"
      ],
      "metadata": {
        "colab": {
          "base_uri": "https://localhost:8080/"
        },
        "id": "Qiy5Jd49u1Ik",
        "outputId": "a4118abb-a9de-4c24-c3f0-dcbc416ccae5"
      },
      "execution_count": null,
      "outputs": [
        {
          "output_type": "stream",
          "name": "stderr",
          "text": [
            "[Parallel(n_jobs=-1)]: Using backend LokyBackend with 16 concurrent workers.\n",
            "[Parallel(n_jobs=-1)]: Done   9 tasks      | elapsed:   57.4s\n",
            "[Parallel(n_jobs=-1)]: Done  48 out of  52 | elapsed:  3.1min remaining:   15.2s\n",
            "[Parallel(n_jobs=-1)]: Done  52 out of  52 | elapsed:  3.1min finished\n",
            "\n",
            "[2022-04-21 12:39:20] Features: 2/5 -- score: 0.5832157457301965[Parallel(n_jobs=-1)]: Using backend LokyBackend with 16 concurrent workers.\n",
            "[Parallel(n_jobs=-1)]: Done   9 tasks      | elapsed:  1.0min\n",
            "[Parallel(n_jobs=-1)]: Done  46 out of  51 | elapsed:  3.4min remaining:   21.9s\n",
            "[Parallel(n_jobs=-1)]: Done  51 out of  51 | elapsed:  3.6min finished\n",
            "\n",
            "[2022-04-21 12:42:58] Features: 3/5 -- score: 0.5872123273787236[Parallel(n_jobs=-1)]: Using backend LokyBackend with 16 concurrent workers.\n",
            "[Parallel(n_jobs=-1)]: Done   9 tasks      | elapsed:  1.5min\n",
            "[Parallel(n_jobs=-1)]: Done  45 out of  50 | elapsed:  4.4min remaining:   29.3s\n",
            "[Parallel(n_jobs=-1)]: Done  50 out of  50 | elapsed:  4.6min finished\n",
            "\n",
            "[2022-04-21 12:47:34] Features: 4/5 -- score: 0.5957124325101089[Parallel(n_jobs=-1)]: Using backend LokyBackend with 16 concurrent workers.\n",
            "[Parallel(n_jobs=-1)]: Done   9 tasks      | elapsed:  1.7min\n",
            "[Parallel(n_jobs=-1)]: Done  43 out of  49 | elapsed:  5.1min remaining:   42.7s\n",
            "[Parallel(n_jobs=-1)]: Done  49 out of  49 | elapsed:  5.2min finished\n",
            "\n",
            "[2022-04-21 12:52:48] Features: 5/5 -- score: 0.6028460903290503"
          ]
        },
        {
          "output_type": "execute_result",
          "data": {
            "text/plain": [
              "SequentialFeatureSelector(clone_estimator=True, cv=10,\n",
              "                          estimator=RandomForestClassifier(bootstrap=True,\n",
              "                                                           ccp_alpha=0.0,\n",
              "                                                           class_weight=None,\n",
              "                                                           criterion='entropy',\n",
              "                                                           max_depth=None,\n",
              "                                                           max_features='auto',\n",
              "                                                           max_leaf_nodes=None,\n",
              "                                                           max_samples=None,\n",
              "                                                           min_impurity_decrease=0.0,\n",
              "                                                           min_impurity_split=None,\n",
              "                                                           min_samples_leaf=1,\n",
              "                                                           min_samples_split=40,\n",
              "                                                           min_weight_fraction_leaf=0.0,\n",
              "                                                           n_estimators=100,\n",
              "                                                           n_jobs=-1,\n",
              "                                                           oob_score=False,\n",
              "                                                           random_state=None,\n",
              "                                                           verbose=0,\n",
              "                                                           warm_start=False),\n",
              "                          fixed_features=('DS_TIPO_PREST_SOLICITANTE_HOSPITAL',),\n",
              "                          floating=False, forward=True, k_features=5, n_jobs=-1,\n",
              "                          pre_dispatch='2*n_jobs', scoring=None, verbose=2)"
            ]
          },
          "metadata": {},
          "execution_count": 282
        }
      ]
    },
    {
      "cell_type": "code",
      "source": [
        "sfs.k_feature_names_, sfs.k_score_"
      ],
      "metadata": {
        "colab": {
          "base_uri": "https://localhost:8080/"
        },
        "id": "_NuVflvpytcz",
        "outputId": "3632c899-2d46-4d45-fe9d-f6fa1b33cd63"
      },
      "execution_count": null,
      "outputs": [
        {
          "output_type": "execute_result",
          "data": {
            "text/plain": [
              "(('DT_NASCIMENTO',\n",
              "  'QT_DIA_SOLICITADO',\n",
              "  'QT_SOLICITADA',\n",
              "  'DS_TIPO_PREST_SOLICITANTE_HOSPITAL',\n",
              "  'DS_TIPO_ATENDIMENTO_Pequenos atendimentos'),\n",
              " 0.6028460903290503)"
            ]
          },
          "metadata": {},
          "execution_count": 283
        }
      ]
    },
    {
      "cell_type": "code",
      "source": [
        "sfs.subsets_"
      ],
      "metadata": {
        "colab": {
          "base_uri": "https://localhost:8080/"
        },
        "id": "hMQV6sXW4ytW",
        "outputId": "735d3ca9-958f-4dfe-d337-cc545d486b4d"
      },
      "execution_count": null,
      "outputs": [
        {
          "output_type": "execute_result",
          "data": {
            "text/plain": [
              "{1: {'feature_idx': (8,),\n",
              "  'cv_scores': array([0.56832207, 0.56832207, 0.56325301, 0.57368498, 0.56575081,\n",
              "         0.56876286, 0.56887811, 0.56167805, 0.55998824, 0.57181691]),\n",
              "  'avg_score': 0.5670457123224022,\n",
              "  'feature_names': ('DS_TIPO_PREST_SOLICITANTE_HOSPITAL',)},\n",
              " 2: {'feature_idx': (8, 30),\n",
              "  'cv_scores': array([0.58154569, 0.58389656, 0.58154569, 0.59028798, 0.58228034,\n",
              "         0.58529239, 0.58291088, 0.57828227, 0.57828227, 0.58783337]),\n",
              "  'avg_score': 0.5832157457301965,\n",
              "  'feature_names': ('DS_TIPO_PREST_SOLICITANTE_HOSPITAL',\n",
              "   'DS_TIPO_ATENDIMENTO_Pequenos atendimentos')},\n",
              " 3: {'feature_idx': (2, 8, 30),\n",
              "  'cv_scores': array([0.58588011, 0.58896562, 0.58676168, 0.59484279, 0.58654129,\n",
              "         0.587129  , 0.58621703, 0.58129454, 0.58026596, 0.59422526]),\n",
              "  'avg_score': 0.5872123273787236,\n",
              "  'feature_names': ('QT_SOLICITADA',\n",
              "   'DS_TIPO_PREST_SOLICITANTE_HOSPITAL',\n",
              "   'DS_TIPO_ATENDIMENTO_Pequenos atendimentos')},\n",
              " 4: {'feature_idx': (1, 2, 8, 30),\n",
              "  'cv_scores': array([0.59366735, 0.59888334, 0.5941816 , 0.60277696, 0.5979283 ,\n",
              "         0.59337349, 0.59459261, 0.59128646, 0.58915583, 0.60127838]),\n",
              "  'avg_score': 0.5957124325101089,\n",
              "  'feature_names': ('QT_DIA_SOLICITADO',\n",
              "   'QT_SOLICITADA',\n",
              "   'DS_TIPO_PREST_SOLICITANTE_HOSPITAL',\n",
              "   'DS_TIPO_ATENDIMENTO_Pequenos atendimentos')},\n",
              " 5: {'feature_idx': (0, 1, 2, 8, 30),\n",
              "  'cv_scores': array([0.60512783, 0.60571555, 0.59866294, 0.60138113, 0.60468704,\n",
              "         0.60307082, 0.60568658, 0.59687018, 0.59819264, 0.6090662 ]),\n",
              "  'avg_score': 0.6028460903290503,\n",
              "  'feature_names': ('DT_NASCIMENTO',\n",
              "   'QT_DIA_SOLICITADO',\n",
              "   'QT_SOLICITADA',\n",
              "   'DS_TIPO_PREST_SOLICITANTE_HOSPITAL',\n",
              "   'DS_TIPO_ATENDIMENTO_Pequenos atendimentos')}}"
            ]
          },
          "metadata": {},
          "execution_count": 284
        }
      ]
    },
    {
      "cell_type": "code",
      "source": [
        "## 10 features\n",
        "sfs = SFS(clf, forward=True, cv=5, n_jobs=-1, k_features=10, verbose=2, fixed_features=sfs.k_feature_names_)\n",
        "sfs.fit(X_train, y_train)"
      ],
      "metadata": {
        "colab": {
          "base_uri": "https://localhost:8080/"
        },
        "id": "yEc38ecP4-9R",
        "outputId": "e1e8d810-cd03-4bb5-cfcf-d693e00edaba"
      },
      "execution_count": null,
      "outputs": [
        {
          "output_type": "stream",
          "name": "stderr",
          "text": [
            "[Parallel(n_jobs=-1)]: Using backend LokyBackend with 16 concurrent workers.\n",
            "[Parallel(n_jobs=-1)]: Done   9 tasks      | elapsed:  1.4min\n",
            "[Parallel(n_jobs=-1)]: Done  42 out of  48 | elapsed:  3.7min remaining:   31.9s\n",
            "[Parallel(n_jobs=-1)]: Done  48 out of  48 | elapsed:  3.8min finished\n",
            "\n",
            "[2022-04-21 13:15:21] Features: 6/10 -- score: 0.608804251439518[Parallel(n_jobs=-1)]: Using backend LokyBackend with 16 concurrent workers.\n",
            "[Parallel(n_jobs=-1)]: Done   9 tasks      | elapsed:  1.3min\n",
            "[Parallel(n_jobs=-1)]: Done  40 out of  47 | elapsed:  3.7min remaining:   38.9s\n",
            "[Parallel(n_jobs=-1)]: Done  47 out of  47 | elapsed:  3.7min finished\n",
            "\n",
            "[2022-04-21 13:19:04] Features: 7/10 -- score: 0.6169002794574331[Parallel(n_jobs=-1)]: Using backend LokyBackend with 16 concurrent workers.\n",
            "[Parallel(n_jobs=-1)]: Done   9 tasks      | elapsed:  1.3min\n",
            "[Parallel(n_jobs=-1)]: Done  39 out of  46 | elapsed:  3.6min remaining:   38.7s\n",
            "[Parallel(n_jobs=-1)]: Done  46 out of  46 | elapsed:  3.6min finished\n",
            "\n",
            "[2022-04-21 13:22:42] Features: 8/10 -- score: 0.6255325989828417[Parallel(n_jobs=-1)]: Using backend LokyBackend with 16 concurrent workers.\n",
            "[Parallel(n_jobs=-1)]: Done   9 tasks      | elapsed:  1.5min\n",
            "[Parallel(n_jobs=-1)]: Done  37 out of  45 | elapsed:  4.1min remaining:   53.6s\n",
            "[Parallel(n_jobs=-1)]: Done  45 out of  45 | elapsed:  4.1min finished\n",
            "\n",
            "[2022-04-21 13:26:51] Features: 9/10 -- score: 0.6319829950860574[Parallel(n_jobs=-1)]: Using backend LokyBackend with 16 concurrent workers.\n",
            "[Parallel(n_jobs=-1)]: Done   9 tasks      | elapsed:  1.5min\n",
            "[Parallel(n_jobs=-1)]: Done  36 out of  44 | elapsed:  4.1min remaining:   54.4s\n",
            "[Parallel(n_jobs=-1)]: Done  44 out of  44 | elapsed:  4.1min finished\n",
            "\n",
            "[2022-04-21 13:30:57] Features: 10/10 -- score: 0.6375150411751985"
          ]
        },
        {
          "output_type": "execute_result",
          "data": {
            "text/plain": [
              "SequentialFeatureSelector(clone_estimator=True, cv=5,\n",
              "                          estimator=RandomForestClassifier(bootstrap=True,\n",
              "                                                           ccp_alpha=0.0,\n",
              "                                                           class_weight=None,\n",
              "                                                           criterion='entropy',\n",
              "                                                           max_depth=None,\n",
              "                                                           max_features='auto',\n",
              "                                                           max_leaf_nodes=None,\n",
              "                                                           max_samples=None,\n",
              "                                                           min_impurity_decrease=0.0,\n",
              "                                                           min_impurity_split=None,\n",
              "                                                           min_samples_leaf=1,\n",
              "                                                           min_samples_split=40,\n",
              "                                                           min_weight_fraction_leaf=0.0,\n",
              "                                                           n_estimators=100,\n",
              "                                                           n_jobs=-1,\n",
              "                                                           oob_score=False,\n",
              "                                                           random_state=None,\n",
              "                                                           verbose=0,\n",
              "                                                           warm_start=False),\n",
              "                          fixed_features=('DT_NASCIMENTO', 'QT_DIA_SOLICITADO',\n",
              "                                          'QT_SOLICITADA',\n",
              "                                          'DS_TIPO_PREST_SOLICITANTE_HOSPITAL',\n",
              "                                          'DS_TIPO_ATENDIMENTO_Pequenos '\n",
              "                                          'atendimentos'),\n",
              "                          floating=False, forward=True, k_features=10,\n",
              "                          n_jobs=-1, pre_dispatch='2*n_jobs', scoring=None,\n",
              "                          verbose=2)"
            ]
          },
          "metadata": {},
          "execution_count": 285
        }
      ]
    },
    {
      "cell_type": "code",
      "source": [
        "sfs.k_feature_names_, sfs.k_score_"
      ],
      "metadata": {
        "colab": {
          "base_uri": "https://localhost:8080/"
        },
        "id": "myA97pUe5JJi",
        "outputId": "18075a61-0736-4953-f75d-860555c1c441"
      },
      "execution_count": null,
      "outputs": [
        {
          "output_type": "execute_result",
          "data": {
            "text/plain": [
              "(('DT_NASCIMENTO',\n",
              "  'QT_DIA_SOLICITADO',\n",
              "  'QT_SOLICITADA',\n",
              "  'DS_TIPO_PREST_SOLICITANTE_HOSPITAL',\n",
              "  'DS_CBO_Medico clinico',\n",
              "  'DS_CARATER_ATENDIMENTO_Emergencia',\n",
              "  'DS_TIPO_ATENDIMENTO_Pequenos atendimentos',\n",
              "  'DS_INDICACAO_CLINICA_Curto',\n",
              "  'DS_INDICACAO_CLINICA_Sem descricao',\n",
              "  'DS_SUBGRUPO_MEDICINA LABORATORIAL '),\n",
              " 0.6375150411751985)"
            ]
          },
          "metadata": {},
          "execution_count": 286
        }
      ]
    },
    {
      "cell_type": "markdown",
      "source": [
        "### Pycaret"
      ],
      "metadata": {
        "id": "G5NyvKh0-Arq"
      }
    },
    {
      "cell_type": "markdown",
      "source": [
        "#### Invocando o pycaret para nos auxiliar a encontrar modelos"
      ],
      "metadata": {
        "id": "-8DJvjl7xJZi"
      }
    },
    {
      "cell_type": "code",
      "source": [
        "from pycaret.classification import *"
      ],
      "metadata": {
        "id": "NUejqDnaxO37"
      },
      "execution_count": null,
      "outputs": []
    },
    {
      "cell_type": "code",
      "source": [
        "df_train = pd.read_csv(r\"C:\\Users\\alexv\\Desktop\\AuditoriaOmniSaude\\getdummies_train.csv\")"
      ],
      "metadata": {
        "id": "nGxCKpT5BPs1"
      },
      "execution_count": null,
      "outputs": []
    },
    {
      "cell_type": "code",
      "source": [
        "s = setup(df_train, target = \"DS_STATUS_ITEM\", use_gpu=True)"
      ],
      "metadata": {
        "id": "_9DW8QsXyGlr",
        "colab": {
          "base_uri": "https://localhost:8080/",
          "height": 1000,
          "referenced_widgets": [
            "2e7b6a72de75441aa405574ba622be0a",
            "1b935fc587c946b69ed60e5f3a72795d",
            "7630fd318b704c849c4601fd0fdd4c09",
            "2588751dc5dd4b34ab9206a9adff5517",
            "8ee6816c16a34b7e9d9a55d9a3fb0b75",
            "7fc860ae2ba84f2b93b03cc7072bacc8"
          ]
        },
        "outputId": "cfa9fc43-35fd-4647-bff9-d799dd9aeb85"
      },
      "execution_count": null,
      "outputs": [
        {
          "output_type": "display_data",
          "data": {
            "text/plain": [
              "<pandas.io.formats.style.Styler at 0x2732ee9df40>"
            ],
            "text/html": [
              "<style type=\"text/css\">\n",
              "#T_00984_row18_col1, #T_00984_row44_col1 {\n",
              "  background-color: lightgreen;\n",
              "}\n",
              "</style>\n",
              "<table id=\"T_00984\">\n",
              "  <thead>\n",
              "    <tr>\n",
              "      <th class=\"blank level0\" >&nbsp;</th>\n",
              "      <th id=\"T_00984_level0_col0\" class=\"col_heading level0 col0\" >Description</th>\n",
              "      <th id=\"T_00984_level0_col1\" class=\"col_heading level0 col1\" >Value</th>\n",
              "    </tr>\n",
              "  </thead>\n",
              "  <tbody>\n",
              "    <tr>\n",
              "      <th id=\"T_00984_level0_row0\" class=\"row_heading level0 row0\" >0</th>\n",
              "      <td id=\"T_00984_row0_col0\" class=\"data row0 col0\" >session_id</td>\n",
              "      <td id=\"T_00984_row0_col1\" class=\"data row0 col1\" >7214</td>\n",
              "    </tr>\n",
              "    <tr>\n",
              "      <th id=\"T_00984_level0_row1\" class=\"row_heading level0 row1\" >1</th>\n",
              "      <td id=\"T_00984_row1_col0\" class=\"data row1 col0\" >Target</td>\n",
              "      <td id=\"T_00984_row1_col1\" class=\"data row1 col1\" >DS_STATUS_ITEM</td>\n",
              "    </tr>\n",
              "    <tr>\n",
              "      <th id=\"T_00984_level0_row2\" class=\"row_heading level0 row2\" >2</th>\n",
              "      <td id=\"T_00984_row2_col0\" class=\"data row2 col0\" >Target Type</td>\n",
              "      <td id=\"T_00984_row2_col1\" class=\"data row2 col1\" >Binary</td>\n",
              "    </tr>\n",
              "    <tr>\n",
              "      <th id=\"T_00984_level0_row3\" class=\"row_heading level0 row3\" >3</th>\n",
              "      <td id=\"T_00984_row3_col0\" class=\"data row3 col0\" >Label Encoded</td>\n",
              "      <td id=\"T_00984_row3_col1\" class=\"data row3 col1\" >Autorizado: 0, Negado: 1</td>\n",
              "    </tr>\n",
              "    <tr>\n",
              "      <th id=\"T_00984_level0_row4\" class=\"row_heading level0 row4\" >4</th>\n",
              "      <td id=\"T_00984_row4_col0\" class=\"data row4 col0\" >Original Data</td>\n",
              "      <td id=\"T_00984_row4_col1\" class=\"data row4 col1\" >(387659, 54)</td>\n",
              "    </tr>\n",
              "    <tr>\n",
              "      <th id=\"T_00984_level0_row5\" class=\"row_heading level0 row5\" >5</th>\n",
              "      <td id=\"T_00984_row5_col0\" class=\"data row5 col0\" >Missing Values</td>\n",
              "      <td id=\"T_00984_row5_col1\" class=\"data row5 col1\" >False</td>\n",
              "    </tr>\n",
              "    <tr>\n",
              "      <th id=\"T_00984_level0_row6\" class=\"row_heading level0 row6\" >6</th>\n",
              "      <td id=\"T_00984_row6_col0\" class=\"data row6 col0\" >Numeric Features</td>\n",
              "      <td id=\"T_00984_row6_col1\" class=\"data row6 col1\" >3</td>\n",
              "    </tr>\n",
              "    <tr>\n",
              "      <th id=\"T_00984_level0_row7\" class=\"row_heading level0 row7\" >7</th>\n",
              "      <td id=\"T_00984_row7_col0\" class=\"data row7 col0\" >Categorical Features</td>\n",
              "      <td id=\"T_00984_row7_col1\" class=\"data row7 col1\" >50</td>\n",
              "    </tr>\n",
              "    <tr>\n",
              "      <th id=\"T_00984_level0_row8\" class=\"row_heading level0 row8\" >8</th>\n",
              "      <td id=\"T_00984_row8_col0\" class=\"data row8 col0\" >Ordinal Features</td>\n",
              "      <td id=\"T_00984_row8_col1\" class=\"data row8 col1\" >False</td>\n",
              "    </tr>\n",
              "    <tr>\n",
              "      <th id=\"T_00984_level0_row9\" class=\"row_heading level0 row9\" >9</th>\n",
              "      <td id=\"T_00984_row9_col0\" class=\"data row9 col0\" >High Cardinality Features</td>\n",
              "      <td id=\"T_00984_row9_col1\" class=\"data row9 col1\" >False</td>\n",
              "    </tr>\n",
              "    <tr>\n",
              "      <th id=\"T_00984_level0_row10\" class=\"row_heading level0 row10\" >10</th>\n",
              "      <td id=\"T_00984_row10_col0\" class=\"data row10 col0\" >High Cardinality Method</td>\n",
              "      <td id=\"T_00984_row10_col1\" class=\"data row10 col1\" >None</td>\n",
              "    </tr>\n",
              "    <tr>\n",
              "      <th id=\"T_00984_level0_row11\" class=\"row_heading level0 row11\" >11</th>\n",
              "      <td id=\"T_00984_row11_col0\" class=\"data row11 col0\" >Transformed Train Set</td>\n",
              "      <td id=\"T_00984_row11_col1\" class=\"data row11 col1\" >(271361, 49)</td>\n",
              "    </tr>\n",
              "    <tr>\n",
              "      <th id=\"T_00984_level0_row12\" class=\"row_heading level0 row12\" >12</th>\n",
              "      <td id=\"T_00984_row12_col0\" class=\"data row12 col0\" >Transformed Test Set</td>\n",
              "      <td id=\"T_00984_row12_col1\" class=\"data row12 col1\" >(116298, 49)</td>\n",
              "    </tr>\n",
              "    <tr>\n",
              "      <th id=\"T_00984_level0_row13\" class=\"row_heading level0 row13\" >13</th>\n",
              "      <td id=\"T_00984_row13_col0\" class=\"data row13 col0\" >Shuffle Train-Test</td>\n",
              "      <td id=\"T_00984_row13_col1\" class=\"data row13 col1\" >True</td>\n",
              "    </tr>\n",
              "    <tr>\n",
              "      <th id=\"T_00984_level0_row14\" class=\"row_heading level0 row14\" >14</th>\n",
              "      <td id=\"T_00984_row14_col0\" class=\"data row14 col0\" >Stratify Train-Test</td>\n",
              "      <td id=\"T_00984_row14_col1\" class=\"data row14 col1\" >False</td>\n",
              "    </tr>\n",
              "    <tr>\n",
              "      <th id=\"T_00984_level0_row15\" class=\"row_heading level0 row15\" >15</th>\n",
              "      <td id=\"T_00984_row15_col0\" class=\"data row15 col0\" >Fold Generator</td>\n",
              "      <td id=\"T_00984_row15_col1\" class=\"data row15 col1\" >StratifiedKFold</td>\n",
              "    </tr>\n",
              "    <tr>\n",
              "      <th id=\"T_00984_level0_row16\" class=\"row_heading level0 row16\" >16</th>\n",
              "      <td id=\"T_00984_row16_col0\" class=\"data row16 col0\" >Fold Number</td>\n",
              "      <td id=\"T_00984_row16_col1\" class=\"data row16 col1\" >10</td>\n",
              "    </tr>\n",
              "    <tr>\n",
              "      <th id=\"T_00984_level0_row17\" class=\"row_heading level0 row17\" >17</th>\n",
              "      <td id=\"T_00984_row17_col0\" class=\"data row17 col0\" >CPU Jobs</td>\n",
              "      <td id=\"T_00984_row17_col1\" class=\"data row17 col1\" >-1</td>\n",
              "    </tr>\n",
              "    <tr>\n",
              "      <th id=\"T_00984_level0_row18\" class=\"row_heading level0 row18\" >18</th>\n",
              "      <td id=\"T_00984_row18_col0\" class=\"data row18 col0\" >Use GPU</td>\n",
              "      <td id=\"T_00984_row18_col1\" class=\"data row18 col1\" >True</td>\n",
              "    </tr>\n",
              "    <tr>\n",
              "      <th id=\"T_00984_level0_row19\" class=\"row_heading level0 row19\" >19</th>\n",
              "      <td id=\"T_00984_row19_col0\" class=\"data row19 col0\" >Log Experiment</td>\n",
              "      <td id=\"T_00984_row19_col1\" class=\"data row19 col1\" >False</td>\n",
              "    </tr>\n",
              "    <tr>\n",
              "      <th id=\"T_00984_level0_row20\" class=\"row_heading level0 row20\" >20</th>\n",
              "      <td id=\"T_00984_row20_col0\" class=\"data row20 col0\" >Experiment Name</td>\n",
              "      <td id=\"T_00984_row20_col1\" class=\"data row20 col1\" >clf-default-name</td>\n",
              "    </tr>\n",
              "    <tr>\n",
              "      <th id=\"T_00984_level0_row21\" class=\"row_heading level0 row21\" >21</th>\n",
              "      <td id=\"T_00984_row21_col0\" class=\"data row21 col0\" >USI</td>\n",
              "      <td id=\"T_00984_row21_col1\" class=\"data row21 col1\" >7e82</td>\n",
              "    </tr>\n",
              "    <tr>\n",
              "      <th id=\"T_00984_level0_row22\" class=\"row_heading level0 row22\" >22</th>\n",
              "      <td id=\"T_00984_row22_col0\" class=\"data row22 col0\" >Imputation Type</td>\n",
              "      <td id=\"T_00984_row22_col1\" class=\"data row22 col1\" >simple</td>\n",
              "    </tr>\n",
              "    <tr>\n",
              "      <th id=\"T_00984_level0_row23\" class=\"row_heading level0 row23\" >23</th>\n",
              "      <td id=\"T_00984_row23_col0\" class=\"data row23 col0\" >Iterative Imputation Iteration</td>\n",
              "      <td id=\"T_00984_row23_col1\" class=\"data row23 col1\" >None</td>\n",
              "    </tr>\n",
              "    <tr>\n",
              "      <th id=\"T_00984_level0_row24\" class=\"row_heading level0 row24\" >24</th>\n",
              "      <td id=\"T_00984_row24_col0\" class=\"data row24 col0\" >Numeric Imputer</td>\n",
              "      <td id=\"T_00984_row24_col1\" class=\"data row24 col1\" >mean</td>\n",
              "    </tr>\n",
              "    <tr>\n",
              "      <th id=\"T_00984_level0_row25\" class=\"row_heading level0 row25\" >25</th>\n",
              "      <td id=\"T_00984_row25_col0\" class=\"data row25 col0\" >Iterative Imputation Numeric Model</td>\n",
              "      <td id=\"T_00984_row25_col1\" class=\"data row25 col1\" >None</td>\n",
              "    </tr>\n",
              "    <tr>\n",
              "      <th id=\"T_00984_level0_row26\" class=\"row_heading level0 row26\" >26</th>\n",
              "      <td id=\"T_00984_row26_col0\" class=\"data row26 col0\" >Categorical Imputer</td>\n",
              "      <td id=\"T_00984_row26_col1\" class=\"data row26 col1\" >constant</td>\n",
              "    </tr>\n",
              "    <tr>\n",
              "      <th id=\"T_00984_level0_row27\" class=\"row_heading level0 row27\" >27</th>\n",
              "      <td id=\"T_00984_row27_col0\" class=\"data row27 col0\" >Iterative Imputation Categorical Model</td>\n",
              "      <td id=\"T_00984_row27_col1\" class=\"data row27 col1\" >None</td>\n",
              "    </tr>\n",
              "    <tr>\n",
              "      <th id=\"T_00984_level0_row28\" class=\"row_heading level0 row28\" >28</th>\n",
              "      <td id=\"T_00984_row28_col0\" class=\"data row28 col0\" >Unknown Categoricals Handling</td>\n",
              "      <td id=\"T_00984_row28_col1\" class=\"data row28 col1\" >least_frequent</td>\n",
              "    </tr>\n",
              "    <tr>\n",
              "      <th id=\"T_00984_level0_row29\" class=\"row_heading level0 row29\" >29</th>\n",
              "      <td id=\"T_00984_row29_col0\" class=\"data row29 col0\" >Normalize</td>\n",
              "      <td id=\"T_00984_row29_col1\" class=\"data row29 col1\" >False</td>\n",
              "    </tr>\n",
              "    <tr>\n",
              "      <th id=\"T_00984_level0_row30\" class=\"row_heading level0 row30\" >30</th>\n",
              "      <td id=\"T_00984_row30_col0\" class=\"data row30 col0\" >Normalize Method</td>\n",
              "      <td id=\"T_00984_row30_col1\" class=\"data row30 col1\" >None</td>\n",
              "    </tr>\n",
              "    <tr>\n",
              "      <th id=\"T_00984_level0_row31\" class=\"row_heading level0 row31\" >31</th>\n",
              "      <td id=\"T_00984_row31_col0\" class=\"data row31 col0\" >Transformation</td>\n",
              "      <td id=\"T_00984_row31_col1\" class=\"data row31 col1\" >False</td>\n",
              "    </tr>\n",
              "    <tr>\n",
              "      <th id=\"T_00984_level0_row32\" class=\"row_heading level0 row32\" >32</th>\n",
              "      <td id=\"T_00984_row32_col0\" class=\"data row32 col0\" >Transformation Method</td>\n",
              "      <td id=\"T_00984_row32_col1\" class=\"data row32 col1\" >None</td>\n",
              "    </tr>\n",
              "    <tr>\n",
              "      <th id=\"T_00984_level0_row33\" class=\"row_heading level0 row33\" >33</th>\n",
              "      <td id=\"T_00984_row33_col0\" class=\"data row33 col0\" >PCA</td>\n",
              "      <td id=\"T_00984_row33_col1\" class=\"data row33 col1\" >False</td>\n",
              "    </tr>\n",
              "    <tr>\n",
              "      <th id=\"T_00984_level0_row34\" class=\"row_heading level0 row34\" >34</th>\n",
              "      <td id=\"T_00984_row34_col0\" class=\"data row34 col0\" >PCA Method</td>\n",
              "      <td id=\"T_00984_row34_col1\" class=\"data row34 col1\" >None</td>\n",
              "    </tr>\n",
              "    <tr>\n",
              "      <th id=\"T_00984_level0_row35\" class=\"row_heading level0 row35\" >35</th>\n",
              "      <td id=\"T_00984_row35_col0\" class=\"data row35 col0\" >PCA Components</td>\n",
              "      <td id=\"T_00984_row35_col1\" class=\"data row35 col1\" >None</td>\n",
              "    </tr>\n",
              "    <tr>\n",
              "      <th id=\"T_00984_level0_row36\" class=\"row_heading level0 row36\" >36</th>\n",
              "      <td id=\"T_00984_row36_col0\" class=\"data row36 col0\" >Ignore Low Variance</td>\n",
              "      <td id=\"T_00984_row36_col1\" class=\"data row36 col1\" >False</td>\n",
              "    </tr>\n",
              "    <tr>\n",
              "      <th id=\"T_00984_level0_row37\" class=\"row_heading level0 row37\" >37</th>\n",
              "      <td id=\"T_00984_row37_col0\" class=\"data row37 col0\" >Combine Rare Levels</td>\n",
              "      <td id=\"T_00984_row37_col1\" class=\"data row37 col1\" >False</td>\n",
              "    </tr>\n",
              "    <tr>\n",
              "      <th id=\"T_00984_level0_row38\" class=\"row_heading level0 row38\" >38</th>\n",
              "      <td id=\"T_00984_row38_col0\" class=\"data row38 col0\" >Rare Level Threshold</td>\n",
              "      <td id=\"T_00984_row38_col1\" class=\"data row38 col1\" >None</td>\n",
              "    </tr>\n",
              "    <tr>\n",
              "      <th id=\"T_00984_level0_row39\" class=\"row_heading level0 row39\" >39</th>\n",
              "      <td id=\"T_00984_row39_col0\" class=\"data row39 col0\" >Numeric Binning</td>\n",
              "      <td id=\"T_00984_row39_col1\" class=\"data row39 col1\" >False</td>\n",
              "    </tr>\n",
              "    <tr>\n",
              "      <th id=\"T_00984_level0_row40\" class=\"row_heading level0 row40\" >40</th>\n",
              "      <td id=\"T_00984_row40_col0\" class=\"data row40 col0\" >Remove Outliers</td>\n",
              "      <td id=\"T_00984_row40_col1\" class=\"data row40 col1\" >False</td>\n",
              "    </tr>\n",
              "    <tr>\n",
              "      <th id=\"T_00984_level0_row41\" class=\"row_heading level0 row41\" >41</th>\n",
              "      <td id=\"T_00984_row41_col0\" class=\"data row41 col0\" >Outliers Threshold</td>\n",
              "      <td id=\"T_00984_row41_col1\" class=\"data row41 col1\" >None</td>\n",
              "    </tr>\n",
              "    <tr>\n",
              "      <th id=\"T_00984_level0_row42\" class=\"row_heading level0 row42\" >42</th>\n",
              "      <td id=\"T_00984_row42_col0\" class=\"data row42 col0\" >Remove Multicollinearity</td>\n",
              "      <td id=\"T_00984_row42_col1\" class=\"data row42 col1\" >False</td>\n",
              "    </tr>\n",
              "    <tr>\n",
              "      <th id=\"T_00984_level0_row43\" class=\"row_heading level0 row43\" >43</th>\n",
              "      <td id=\"T_00984_row43_col0\" class=\"data row43 col0\" >Multicollinearity Threshold</td>\n",
              "      <td id=\"T_00984_row43_col1\" class=\"data row43 col1\" >None</td>\n",
              "    </tr>\n",
              "    <tr>\n",
              "      <th id=\"T_00984_level0_row44\" class=\"row_heading level0 row44\" >44</th>\n",
              "      <td id=\"T_00984_row44_col0\" class=\"data row44 col0\" >Remove Perfect Collinearity</td>\n",
              "      <td id=\"T_00984_row44_col1\" class=\"data row44 col1\" >True</td>\n",
              "    </tr>\n",
              "    <tr>\n",
              "      <th id=\"T_00984_level0_row45\" class=\"row_heading level0 row45\" >45</th>\n",
              "      <td id=\"T_00984_row45_col0\" class=\"data row45 col0\" >Clustering</td>\n",
              "      <td id=\"T_00984_row45_col1\" class=\"data row45 col1\" >False</td>\n",
              "    </tr>\n",
              "    <tr>\n",
              "      <th id=\"T_00984_level0_row46\" class=\"row_heading level0 row46\" >46</th>\n",
              "      <td id=\"T_00984_row46_col0\" class=\"data row46 col0\" >Clustering Iteration</td>\n",
              "      <td id=\"T_00984_row46_col1\" class=\"data row46 col1\" >None</td>\n",
              "    </tr>\n",
              "    <tr>\n",
              "      <th id=\"T_00984_level0_row47\" class=\"row_heading level0 row47\" >47</th>\n",
              "      <td id=\"T_00984_row47_col0\" class=\"data row47 col0\" >Polynomial Features</td>\n",
              "      <td id=\"T_00984_row47_col1\" class=\"data row47 col1\" >False</td>\n",
              "    </tr>\n",
              "    <tr>\n",
              "      <th id=\"T_00984_level0_row48\" class=\"row_heading level0 row48\" >48</th>\n",
              "      <td id=\"T_00984_row48_col0\" class=\"data row48 col0\" >Polynomial Degree</td>\n",
              "      <td id=\"T_00984_row48_col1\" class=\"data row48 col1\" >None</td>\n",
              "    </tr>\n",
              "    <tr>\n",
              "      <th id=\"T_00984_level0_row49\" class=\"row_heading level0 row49\" >49</th>\n",
              "      <td id=\"T_00984_row49_col0\" class=\"data row49 col0\" >Trignometry Features</td>\n",
              "      <td id=\"T_00984_row49_col1\" class=\"data row49 col1\" >False</td>\n",
              "    </tr>\n",
              "    <tr>\n",
              "      <th id=\"T_00984_level0_row50\" class=\"row_heading level0 row50\" >50</th>\n",
              "      <td id=\"T_00984_row50_col0\" class=\"data row50 col0\" >Polynomial Threshold</td>\n",
              "      <td id=\"T_00984_row50_col1\" class=\"data row50 col1\" >None</td>\n",
              "    </tr>\n",
              "    <tr>\n",
              "      <th id=\"T_00984_level0_row51\" class=\"row_heading level0 row51\" >51</th>\n",
              "      <td id=\"T_00984_row51_col0\" class=\"data row51 col0\" >Group Features</td>\n",
              "      <td id=\"T_00984_row51_col1\" class=\"data row51 col1\" >False</td>\n",
              "    </tr>\n",
              "    <tr>\n",
              "      <th id=\"T_00984_level0_row52\" class=\"row_heading level0 row52\" >52</th>\n",
              "      <td id=\"T_00984_row52_col0\" class=\"data row52 col0\" >Feature Selection</td>\n",
              "      <td id=\"T_00984_row52_col1\" class=\"data row52 col1\" >False</td>\n",
              "    </tr>\n",
              "    <tr>\n",
              "      <th id=\"T_00984_level0_row53\" class=\"row_heading level0 row53\" >53</th>\n",
              "      <td id=\"T_00984_row53_col0\" class=\"data row53 col0\" >Feature Selection Method</td>\n",
              "      <td id=\"T_00984_row53_col1\" class=\"data row53 col1\" >classic</td>\n",
              "    </tr>\n",
              "    <tr>\n",
              "      <th id=\"T_00984_level0_row54\" class=\"row_heading level0 row54\" >54</th>\n",
              "      <td id=\"T_00984_row54_col0\" class=\"data row54 col0\" >Features Selection Threshold</td>\n",
              "      <td id=\"T_00984_row54_col1\" class=\"data row54 col1\" >None</td>\n",
              "    </tr>\n",
              "    <tr>\n",
              "      <th id=\"T_00984_level0_row55\" class=\"row_heading level0 row55\" >55</th>\n",
              "      <td id=\"T_00984_row55_col0\" class=\"data row55 col0\" >Feature Interaction</td>\n",
              "      <td id=\"T_00984_row55_col1\" class=\"data row55 col1\" >False</td>\n",
              "    </tr>\n",
              "    <tr>\n",
              "      <th id=\"T_00984_level0_row56\" class=\"row_heading level0 row56\" >56</th>\n",
              "      <td id=\"T_00984_row56_col0\" class=\"data row56 col0\" >Feature Ratio</td>\n",
              "      <td id=\"T_00984_row56_col1\" class=\"data row56 col1\" >False</td>\n",
              "    </tr>\n",
              "    <tr>\n",
              "      <th id=\"T_00984_level0_row57\" class=\"row_heading level0 row57\" >57</th>\n",
              "      <td id=\"T_00984_row57_col0\" class=\"data row57 col0\" >Interaction Threshold</td>\n",
              "      <td id=\"T_00984_row57_col1\" class=\"data row57 col1\" >None</td>\n",
              "    </tr>\n",
              "    <tr>\n",
              "      <th id=\"T_00984_level0_row58\" class=\"row_heading level0 row58\" >58</th>\n",
              "      <td id=\"T_00984_row58_col0\" class=\"data row58 col0\" >Fix Imbalance</td>\n",
              "      <td id=\"T_00984_row58_col1\" class=\"data row58 col1\" >False</td>\n",
              "    </tr>\n",
              "    <tr>\n",
              "      <th id=\"T_00984_level0_row59\" class=\"row_heading level0 row59\" >59</th>\n",
              "      <td id=\"T_00984_row59_col0\" class=\"data row59 col0\" >Fix Imbalance Method</td>\n",
              "      <td id=\"T_00984_row59_col1\" class=\"data row59 col1\" >SMOTE</td>\n",
              "    </tr>\n",
              "  </tbody>\n",
              "</table>\n"
            ]
          },
          "metadata": {}
        }
      ]
    },
    {
      "cell_type": "code",
      "source": [
        "best = compare_models()"
      ],
      "metadata": {
        "colab": {
          "base_uri": "https://localhost:8080/",
          "height": 333,
          "referenced_widgets": [
            "9d2b32234e684193b739b4a9813a7a25",
            "ad38df3aea244b0e84cfa96bcb004b3a",
            "ef861d231e8040cd8e3d2804012080a3"
          ]
        },
        "id": "sNOr2YgpBSq8",
        "outputId": "242794d8-af7d-4ee3-b387-d442e09183f3"
      },
      "execution_count": null,
      "outputs": [
        {
          "output_type": "display_data",
          "data": {
            "text/plain": [
              "<pandas.io.formats.style.Styler at 0x273016cecd0>"
            ],
            "text/html": [
              "<style type=\"text/css\">\n",
              "#T_ad35a th {\n",
              "  text-align: left;\n",
              "}\n",
              "#T_ad35a_row0_col0, #T_ad35a_row0_col2, #T_ad35a_row0_col3, #T_ad35a_row0_col4, #T_ad35a_row0_col5, #T_ad35a_row1_col0, #T_ad35a_row1_col1, #T_ad35a_row1_col2, #T_ad35a_row1_col3, #T_ad35a_row1_col4, #T_ad35a_row1_col5, #T_ad35a_row1_col6, #T_ad35a_row1_col7, #T_ad35a_row2_col0, #T_ad35a_row2_col1, #T_ad35a_row2_col3, #T_ad35a_row2_col4, #T_ad35a_row2_col6, #T_ad35a_row2_col7, #T_ad35a_row3_col0, #T_ad35a_row3_col1, #T_ad35a_row3_col2, #T_ad35a_row3_col3, #T_ad35a_row3_col4, #T_ad35a_row3_col5, #T_ad35a_row3_col6, #T_ad35a_row3_col7, #T_ad35a_row4_col0, #T_ad35a_row4_col1, #T_ad35a_row4_col2, #T_ad35a_row4_col3, #T_ad35a_row4_col5, #T_ad35a_row4_col6, #T_ad35a_row4_col7, #T_ad35a_row5_col0, #T_ad35a_row5_col1, #T_ad35a_row5_col2, #T_ad35a_row5_col3, #T_ad35a_row5_col4, #T_ad35a_row5_col5, #T_ad35a_row5_col6, #T_ad35a_row5_col7, #T_ad35a_row6_col0, #T_ad35a_row6_col1, #T_ad35a_row6_col2, #T_ad35a_row6_col3, #T_ad35a_row6_col4, #T_ad35a_row6_col5, #T_ad35a_row6_col6, #T_ad35a_row6_col7, #T_ad35a_row7_col0, #T_ad35a_row7_col1, #T_ad35a_row7_col2, #T_ad35a_row7_col3, #T_ad35a_row7_col4, #T_ad35a_row7_col5, #T_ad35a_row7_col6, #T_ad35a_row7_col7, #T_ad35a_row8_col0, #T_ad35a_row8_col1, #T_ad35a_row8_col2, #T_ad35a_row8_col3, #T_ad35a_row8_col4, #T_ad35a_row8_col5, #T_ad35a_row8_col6, #T_ad35a_row8_col7, #T_ad35a_row9_col0, #T_ad35a_row9_col1, #T_ad35a_row9_col2, #T_ad35a_row9_col3, #T_ad35a_row9_col4, #T_ad35a_row9_col5, #T_ad35a_row9_col6, #T_ad35a_row9_col7, #T_ad35a_row10_col0, #T_ad35a_row10_col1, #T_ad35a_row10_col2, #T_ad35a_row10_col3, #T_ad35a_row10_col4, #T_ad35a_row10_col5, #T_ad35a_row10_col6, #T_ad35a_row10_col7, #T_ad35a_row11_col0, #T_ad35a_row11_col1, #T_ad35a_row11_col2, #T_ad35a_row11_col3, #T_ad35a_row11_col4, #T_ad35a_row11_col5, #T_ad35a_row11_col6, #T_ad35a_row11_col7, #T_ad35a_row12_col0, #T_ad35a_row12_col1, #T_ad35a_row12_col2, #T_ad35a_row12_col3, #T_ad35a_row12_col4, #T_ad35a_row12_col5, #T_ad35a_row12_col6, #T_ad35a_row12_col7, #T_ad35a_row13_col0, #T_ad35a_row13_col1, #T_ad35a_row13_col2, #T_ad35a_row13_col4, #T_ad35a_row13_col5, #T_ad35a_row13_col6, #T_ad35a_row13_col7 {\n",
              "  text-align: left;\n",
              "}\n",
              "#T_ad35a_row0_col1, #T_ad35a_row0_col6, #T_ad35a_row0_col7, #T_ad35a_row2_col2, #T_ad35a_row2_col5, #T_ad35a_row4_col4, #T_ad35a_row13_col3 {\n",
              "  text-align: left;\n",
              "  background-color: yellow;\n",
              "}\n",
              "#T_ad35a_row0_col8, #T_ad35a_row1_col8, #T_ad35a_row2_col8, #T_ad35a_row3_col8, #T_ad35a_row4_col8, #T_ad35a_row5_col8, #T_ad35a_row6_col8, #T_ad35a_row7_col8, #T_ad35a_row8_col8, #T_ad35a_row9_col8, #T_ad35a_row11_col8, #T_ad35a_row12_col8, #T_ad35a_row13_col8 {\n",
              "  text-align: left;\n",
              "  background-color: lightgrey;\n",
              "}\n",
              "#T_ad35a_row10_col8 {\n",
              "  text-align: left;\n",
              "  background-color: yellow;\n",
              "  background-color: lightgrey;\n",
              "}\n",
              "</style>\n",
              "<table id=\"T_ad35a\">\n",
              "  <thead>\n",
              "    <tr>\n",
              "      <th class=\"blank level0\" >&nbsp;</th>\n",
              "      <th id=\"T_ad35a_level0_col0\" class=\"col_heading level0 col0\" >Model</th>\n",
              "      <th id=\"T_ad35a_level0_col1\" class=\"col_heading level0 col1\" >Accuracy</th>\n",
              "      <th id=\"T_ad35a_level0_col2\" class=\"col_heading level0 col2\" >AUC</th>\n",
              "      <th id=\"T_ad35a_level0_col3\" class=\"col_heading level0 col3\" >Recall</th>\n",
              "      <th id=\"T_ad35a_level0_col4\" class=\"col_heading level0 col4\" >Prec.</th>\n",
              "      <th id=\"T_ad35a_level0_col5\" class=\"col_heading level0 col5\" >F1</th>\n",
              "      <th id=\"T_ad35a_level0_col6\" class=\"col_heading level0 col6\" >Kappa</th>\n",
              "      <th id=\"T_ad35a_level0_col7\" class=\"col_heading level0 col7\" >MCC</th>\n",
              "      <th id=\"T_ad35a_level0_col8\" class=\"col_heading level0 col8\" >TT (Sec)</th>\n",
              "    </tr>\n",
              "  </thead>\n",
              "  <tbody>\n",
              "    <tr>\n",
              "      <th id=\"T_ad35a_level0_row0\" class=\"row_heading level0 row0\" >dt</th>\n",
              "      <td id=\"T_ad35a_row0_col0\" class=\"data row0 col0\" >Decision Tree Classifier</td>\n",
              "      <td id=\"T_ad35a_row0_col1\" class=\"data row0 col1\" >0.7464</td>\n",
              "      <td id=\"T_ad35a_row0_col2\" class=\"data row0 col2\" >0.7331</td>\n",
              "      <td id=\"T_ad35a_row0_col3\" class=\"data row0 col3\" >0.4519</td>\n",
              "      <td id=\"T_ad35a_row0_col4\" class=\"data row0 col4\" >0.6280</td>\n",
              "      <td id=\"T_ad35a_row0_col5\" class=\"data row0 col5\" >0.5256</td>\n",
              "      <td id=\"T_ad35a_row0_col6\" class=\"data row0 col6\" >0.3587</td>\n",
              "      <td id=\"T_ad35a_row0_col7\" class=\"data row0 col7\" >0.3678</td>\n",
              "      <td id=\"T_ad35a_row0_col8\" class=\"data row0 col8\" >1.7200</td>\n",
              "    </tr>\n",
              "    <tr>\n",
              "      <th id=\"T_ad35a_level0_row1\" class=\"row_heading level0 row1\" >et</th>\n",
              "      <td id=\"T_ad35a_row1_col0\" class=\"data row1 col0\" >Extra Trees Classifier</td>\n",
              "      <td id=\"T_ad35a_row1_col1\" class=\"data row1 col1\" >0.7425</td>\n",
              "      <td id=\"T_ad35a_row1_col2\" class=\"data row1 col2\" >0.7410</td>\n",
              "      <td id=\"T_ad35a_row1_col3\" class=\"data row1 col3\" >0.4435</td>\n",
              "      <td id=\"T_ad35a_row1_col4\" class=\"data row1 col4\" >0.6199</td>\n",
              "      <td id=\"T_ad35a_row1_col5\" class=\"data row1 col5\" >0.5171</td>\n",
              "      <td id=\"T_ad35a_row1_col6\" class=\"data row1 col6\" >0.3480</td>\n",
              "      <td id=\"T_ad35a_row1_col7\" class=\"data row1 col7\" >0.3571</td>\n",
              "      <td id=\"T_ad35a_row1_col8\" class=\"data row1 col8\" >14.6560</td>\n",
              "    </tr>\n",
              "    <tr>\n",
              "      <th id=\"T_ad35a_level0_row2\" class=\"row_heading level0 row2\" >rf</th>\n",
              "      <td id=\"T_ad35a_row2_col0\" class=\"data row2 col0\" >Random Forest Classifier</td>\n",
              "      <td id=\"T_ad35a_row2_col1\" class=\"data row2 col1\" >0.7411</td>\n",
              "      <td id=\"T_ad35a_row2_col2\" class=\"data row2 col2\" >0.7542</td>\n",
              "      <td id=\"T_ad35a_row2_col3\" class=\"data row2 col3\" >0.4685</td>\n",
              "      <td id=\"T_ad35a_row2_col4\" class=\"data row2 col4\" >0.6087</td>\n",
              "      <td id=\"T_ad35a_row2_col5\" class=\"data row2 col5\" >0.5295</td>\n",
              "      <td id=\"T_ad35a_row2_col6\" class=\"data row2 col6\" >0.3551</td>\n",
              "      <td id=\"T_ad35a_row2_col7\" class=\"data row2 col7\" >0.3609</td>\n",
              "      <td id=\"T_ad35a_row2_col8\" class=\"data row2 col8\" >11.0110</td>\n",
              "    </tr>\n",
              "    <tr>\n",
              "      <th id=\"T_ad35a_level0_row3\" class=\"row_heading level0 row3\" >knn</th>\n",
              "      <td id=\"T_ad35a_row3_col0\" class=\"data row3 col0\" >K Neighbors Classifier</td>\n",
              "      <td id=\"T_ad35a_row3_col1\" class=\"data row3 col1\" >0.7243</td>\n",
              "      <td id=\"T_ad35a_row3_col2\" class=\"data row3 col2\" >0.7196</td>\n",
              "      <td id=\"T_ad35a_row3_col3\" class=\"data row3 col3\" >0.4438</td>\n",
              "      <td id=\"T_ad35a_row3_col4\" class=\"data row3 col4\" >0.5732</td>\n",
              "      <td id=\"T_ad35a_row3_col5\" class=\"data row3 col5\" >0.5002</td>\n",
              "      <td id=\"T_ad35a_row3_col6\" class=\"data row3 col6\" >0.3141</td>\n",
              "      <td id=\"T_ad35a_row3_col7\" class=\"data row3 col7\" >0.3191</td>\n",
              "      <td id=\"T_ad35a_row3_col8\" class=\"data row3 col8\" >16.0990</td>\n",
              "    </tr>\n",
              "    <tr>\n",
              "      <th id=\"T_ad35a_level0_row4\" class=\"row_heading level0 row4\" >lightgbm</th>\n",
              "      <td id=\"T_ad35a_row4_col0\" class=\"data row4 col0\" >Light Gradient Boosting Machine</td>\n",
              "      <td id=\"T_ad35a_row4_col1\" class=\"data row4 col1\" >0.7184</td>\n",
              "      <td id=\"T_ad35a_row4_col2\" class=\"data row4 col2\" >0.7107</td>\n",
              "      <td id=\"T_ad35a_row4_col3\" class=\"data row4 col3\" >0.1982</td>\n",
              "      <td id=\"T_ad35a_row4_col4\" class=\"data row4 col4\" >0.6563</td>\n",
              "      <td id=\"T_ad35a_row4_col5\" class=\"data row4 col5\" >0.3045</td>\n",
              "      <td id=\"T_ad35a_row4_col6\" class=\"data row4 col6\" >0.1872</td>\n",
              "      <td id=\"T_ad35a_row4_col7\" class=\"data row4 col7\" >0.2402</td>\n",
              "      <td id=\"T_ad35a_row4_col8\" class=\"data row4 col8\" >2.4000</td>\n",
              "    </tr>\n",
              "    <tr>\n",
              "      <th id=\"T_ad35a_level0_row5\" class=\"row_heading level0 row5\" >gbc</th>\n",
              "      <td id=\"T_ad35a_row5_col0\" class=\"data row5 col0\" >Gradient Boosting Classifier</td>\n",
              "      <td id=\"T_ad35a_row5_col1\" class=\"data row5 col1\" >0.7080</td>\n",
              "      <td id=\"T_ad35a_row5_col2\" class=\"data row5 col2\" >0.6709</td>\n",
              "      <td id=\"T_ad35a_row5_col3\" class=\"data row5 col3\" >0.1347</td>\n",
              "      <td id=\"T_ad35a_row5_col4\" class=\"data row5 col4\" >0.6461</td>\n",
              "      <td id=\"T_ad35a_row5_col5\" class=\"data row5 col5\" >0.2229</td>\n",
              "      <td id=\"T_ad35a_row5_col6\" class=\"data row5 col6\" >0.1296</td>\n",
              "      <td id=\"T_ad35a_row5_col7\" class=\"data row5 col7\" >0.1906</td>\n",
              "      <td id=\"T_ad35a_row5_col8\" class=\"data row5 col8\" >32.6480</td>\n",
              "    </tr>\n",
              "    <tr>\n",
              "      <th id=\"T_ad35a_level0_row6\" class=\"row_heading level0 row6\" >lr</th>\n",
              "      <td id=\"T_ad35a_row6_col0\" class=\"data row6 col0\" >Logistic Regression</td>\n",
              "      <td id=\"T_ad35a_row6_col1\" class=\"data row6 col1\" >0.6995</td>\n",
              "      <td id=\"T_ad35a_row6_col2\" class=\"data row6 col2\" >0.6361</td>\n",
              "      <td id=\"T_ad35a_row6_col3\" class=\"data row6 col3\" >0.1448</td>\n",
              "      <td id=\"T_ad35a_row6_col4\" class=\"data row6 col4\" >0.5652</td>\n",
              "      <td id=\"T_ad35a_row6_col5\" class=\"data row6 col5\" >0.2306</td>\n",
              "      <td id=\"T_ad35a_row6_col6\" class=\"data row6 col6\" >0.1188</td>\n",
              "      <td id=\"T_ad35a_row6_col7\" class=\"data row6 col7\" >0.1617</td>\n",
              "      <td id=\"T_ad35a_row6_col8\" class=\"data row6 col8\" >11.3370</td>\n",
              "    </tr>\n",
              "    <tr>\n",
              "      <th id=\"T_ad35a_level0_row7\" class=\"row_heading level0 row7\" >ridge</th>\n",
              "      <td id=\"T_ad35a_row7_col0\" class=\"data row7 col0\" >Ridge Classifier</td>\n",
              "      <td id=\"T_ad35a_row7_col1\" class=\"data row7 col1\" >0.6991</td>\n",
              "      <td id=\"T_ad35a_row7_col2\" class=\"data row7 col2\" >0.0000</td>\n",
              "      <td id=\"T_ad35a_row7_col3\" class=\"data row7 col3\" >0.1294</td>\n",
              "      <td id=\"T_ad35a_row7_col4\" class=\"data row7 col4\" >0.5709</td>\n",
              "      <td id=\"T_ad35a_row7_col5\" class=\"data row7 col5\" >0.2110</td>\n",
              "      <td id=\"T_ad35a_row7_col6\" class=\"data row7 col6\" >0.1086</td>\n",
              "      <td id=\"T_ad35a_row7_col7\" class=\"data row7 col7\" >0.1547</td>\n",
              "      <td id=\"T_ad35a_row7_col8\" class=\"data row7 col8\" >0.1990</td>\n",
              "    </tr>\n",
              "    <tr>\n",
              "      <th id=\"T_ad35a_level0_row8\" class=\"row_heading level0 row8\" >lda</th>\n",
              "      <td id=\"T_ad35a_row8_col0\" class=\"data row8 col0\" >Linear Discriminant Analysis</td>\n",
              "      <td id=\"T_ad35a_row8_col1\" class=\"data row8 col1\" >0.6987</td>\n",
              "      <td id=\"T_ad35a_row8_col2\" class=\"data row8 col2\" >0.6355</td>\n",
              "      <td id=\"T_ad35a_row8_col3\" class=\"data row8 col3\" >0.1625</td>\n",
              "      <td id=\"T_ad35a_row8_col4\" class=\"data row8 col4\" >0.5528</td>\n",
              "      <td id=\"T_ad35a_row8_col5\" class=\"data row8 col5\" >0.2511</td>\n",
              "      <td id=\"T_ad35a_row8_col6\" class=\"data row8 col6\" >0.1280</td>\n",
              "      <td id=\"T_ad35a_row8_col7\" class=\"data row8 col7\" >0.1657</td>\n",
              "      <td id=\"T_ad35a_row8_col8\" class=\"data row8 col8\" >1.7780</td>\n",
              "    </tr>\n",
              "    <tr>\n",
              "      <th id=\"T_ad35a_level0_row9\" class=\"row_heading level0 row9\" >ada</th>\n",
              "      <td id=\"T_ad35a_row9_col0\" class=\"data row9 col0\" >Ada Boost Classifier</td>\n",
              "      <td id=\"T_ad35a_row9_col1\" class=\"data row9 col1\" >0.6985</td>\n",
              "      <td id=\"T_ad35a_row9_col2\" class=\"data row9 col2\" >0.6410</td>\n",
              "      <td id=\"T_ad35a_row9_col3\" class=\"data row9 col3\" >0.1305</td>\n",
              "      <td id=\"T_ad35a_row9_col4\" class=\"data row9 col4\" >0.5657</td>\n",
              "      <td id=\"T_ad35a_row9_col5\" class=\"data row9 col5\" >0.2120</td>\n",
              "      <td id=\"T_ad35a_row9_col6\" class=\"data row9 col6\" >0.1081</td>\n",
              "      <td id=\"T_ad35a_row9_col7\" class=\"data row9 col7\" >0.1530</td>\n",
              "      <td id=\"T_ad35a_row9_col8\" class=\"data row9 col8\" >8.1170</td>\n",
              "    </tr>\n",
              "    <tr>\n",
              "      <th id=\"T_ad35a_level0_row10\" class=\"row_heading level0 row10\" >dummy</th>\n",
              "      <td id=\"T_ad35a_row10_col0\" class=\"data row10 col0\" >Dummy Classifier</td>\n",
              "      <td id=\"T_ad35a_row10_col1\" class=\"data row10 col1\" >0.6891</td>\n",
              "      <td id=\"T_ad35a_row10_col2\" class=\"data row10 col2\" >0.5000</td>\n",
              "      <td id=\"T_ad35a_row10_col3\" class=\"data row10 col3\" >0.0000</td>\n",
              "      <td id=\"T_ad35a_row10_col4\" class=\"data row10 col4\" >0.0000</td>\n",
              "      <td id=\"T_ad35a_row10_col5\" class=\"data row10 col5\" >0.0000</td>\n",
              "      <td id=\"T_ad35a_row10_col6\" class=\"data row10 col6\" >0.0000</td>\n",
              "      <td id=\"T_ad35a_row10_col7\" class=\"data row10 col7\" >0.0000</td>\n",
              "      <td id=\"T_ad35a_row10_col8\" class=\"data row10 col8\" >0.0810</td>\n",
              "    </tr>\n",
              "    <tr>\n",
              "      <th id=\"T_ad35a_level0_row11\" class=\"row_heading level0 row11\" >nb</th>\n",
              "      <td id=\"T_ad35a_row11_col0\" class=\"data row11 col0\" >Naive Bayes</td>\n",
              "      <td id=\"T_ad35a_row11_col1\" class=\"data row11 col1\" >0.6301</td>\n",
              "      <td id=\"T_ad35a_row11_col2\" class=\"data row11 col2\" >0.6077</td>\n",
              "      <td id=\"T_ad35a_row11_col3\" class=\"data row11 col3\" >0.4464</td>\n",
              "      <td id=\"T_ad35a_row11_col4\" class=\"data row11 col4\" >0.4123</td>\n",
              "      <td id=\"T_ad35a_row11_col5\" class=\"data row11 col5\" >0.4287</td>\n",
              "      <td id=\"T_ad35a_row11_col6\" class=\"data row11 col6\" >0.1558</td>\n",
              "      <td id=\"T_ad35a_row11_col7\" class=\"data row11 col7\" >0.1561</td>\n",
              "      <td id=\"T_ad35a_row11_col8\" class=\"data row11 col8\" >0.2300</td>\n",
              "    </tr>\n",
              "    <tr>\n",
              "      <th id=\"T_ad35a_level0_row12\" class=\"row_heading level0 row12\" >svm</th>\n",
              "      <td id=\"T_ad35a_row12_col0\" class=\"data row12 col0\" >SVM - Linear Kernel</td>\n",
              "      <td id=\"T_ad35a_row12_col1\" class=\"data row12 col1\" >0.6155</td>\n",
              "      <td id=\"T_ad35a_row12_col2\" class=\"data row12 col2\" >0.0000</td>\n",
              "      <td id=\"T_ad35a_row12_col3\" class=\"data row12 col3\" >0.3093</td>\n",
              "      <td id=\"T_ad35a_row12_col4\" class=\"data row12 col4\" >0.5199</td>\n",
              "      <td id=\"T_ad35a_row12_col5\" class=\"data row12 col5\" >0.2422</td>\n",
              "      <td id=\"T_ad35a_row12_col6\" class=\"data row12 col6\" >0.0638</td>\n",
              "      <td id=\"T_ad35a_row12_col7\" class=\"data row12 col7\" >0.0966</td>\n",
              "      <td id=\"T_ad35a_row12_col8\" class=\"data row12 col8\" >10.9340</td>\n",
              "    </tr>\n",
              "    <tr>\n",
              "      <th id=\"T_ad35a_level0_row13\" class=\"row_heading level0 row13\" >qda</th>\n",
              "      <td id=\"T_ad35a_row13_col0\" class=\"data row13 col0\" >Quadratic Discriminant Analysis</td>\n",
              "      <td id=\"T_ad35a_row13_col1\" class=\"data row13 col1\" >0.4782</td>\n",
              "      <td id=\"T_ad35a_row13_col2\" class=\"data row13 col2\" >0.5116</td>\n",
              "      <td id=\"T_ad35a_row13_col3\" class=\"data row13 col3\" >0.6000</td>\n",
              "      <td id=\"T_ad35a_row13_col4\" class=\"data row13 col4\" >0.3301</td>\n",
              "      <td id=\"T_ad35a_row13_col5\" class=\"data row13 col5\" >0.3935</td>\n",
              "      <td id=\"T_ad35a_row13_col6\" class=\"data row13 col6\" >0.0208</td>\n",
              "      <td id=\"T_ad35a_row13_col7\" class=\"data row13 col7\" >0.0248</td>\n",
              "      <td id=\"T_ad35a_row13_col8\" class=\"data row13 col8\" >0.7810</td>\n",
              "    </tr>\n",
              "  </tbody>\n",
              "</table>\n"
            ]
          },
          "metadata": {}
        }
      ]
    },
    {
      "cell_type": "markdown",
      "source": [
        "> Essa abordagem está com o one hot encoder, ficou pior do que a que fiz com Random Forest com Undersampling... Deve ser por conta do Smote e da alta dimensionalidade. Vamos passar o dataset sem one hot."
      ],
      "metadata": {
        "id": "fek2MPBiJvfa"
      }
    },
    {
      "cell_type": "markdown",
      "source": [
        "#### Sem one hot encoder:"
      ],
      "metadata": {
        "id": "7UQL8WpAJ8hq"
      }
    },
    {
      "cell_type": "code",
      "source": [
        "df_train = df.copy()"
      ],
      "metadata": {
        "id": "CLryq4RACfzY"
      },
      "execution_count": null,
      "outputs": []
    },
    {
      "cell_type": "code",
      "source": [
        "s = setup(df_train, target = \"DS_STATUS_ITEM\", use_gpu=True)"
      ],
      "metadata": {
        "colab": {
          "base_uri": "https://localhost:8080/",
          "height": 1000,
          "referenced_widgets": [
            "1ad9252ea12b4838a74f4357034137a5",
            "505152af18ad408d99d9e4b40b04f16b",
            "8268b6a0d19442d093cf0f84dfe2eac0",
            "56f14da56f3e4ef496b68849b0c30bda",
            "4c720a1776d54234b94921dc8aa35cf2",
            "a6ffe07a24554bdd910a07e506bf6996"
          ]
        },
        "id": "7Wm9lDxxKCw2",
        "outputId": "36a4a7ad-61c6-4570-a6af-915f1894d6e4"
      },
      "execution_count": null,
      "outputs": [
        {
          "output_type": "display_data",
          "data": {
            "text/plain": [
              "<pandas.io.formats.style.Styler at 0x2734e206cd0>"
            ],
            "text/html": [
              "<style type=\"text/css\">\n",
              "#T_a855a_row18_col1, #T_a855a_row44_col1 {\n",
              "  background-color: lightgreen;\n",
              "}\n",
              "</style>\n",
              "<table id=\"T_a855a\">\n",
              "  <thead>\n",
              "    <tr>\n",
              "      <th class=\"blank level0\" >&nbsp;</th>\n",
              "      <th id=\"T_a855a_level0_col0\" class=\"col_heading level0 col0\" >Description</th>\n",
              "      <th id=\"T_a855a_level0_col1\" class=\"col_heading level0 col1\" >Value</th>\n",
              "    </tr>\n",
              "  </thead>\n",
              "  <tbody>\n",
              "    <tr>\n",
              "      <th id=\"T_a855a_level0_row0\" class=\"row_heading level0 row0\" >0</th>\n",
              "      <td id=\"T_a855a_row0_col0\" class=\"data row0 col0\" >session_id</td>\n",
              "      <td id=\"T_a855a_row0_col1\" class=\"data row0 col1\" >3307</td>\n",
              "    </tr>\n",
              "    <tr>\n",
              "      <th id=\"T_a855a_level0_row1\" class=\"row_heading level0 row1\" >1</th>\n",
              "      <td id=\"T_a855a_row1_col0\" class=\"data row1 col0\" >Target</td>\n",
              "      <td id=\"T_a855a_row1_col1\" class=\"data row1 col1\" >DS_STATUS_ITEM</td>\n",
              "    </tr>\n",
              "    <tr>\n",
              "      <th id=\"T_a855a_level0_row2\" class=\"row_heading level0 row2\" >2</th>\n",
              "      <td id=\"T_a855a_row2_col0\" class=\"data row2 col0\" >Target Type</td>\n",
              "      <td id=\"T_a855a_row2_col1\" class=\"data row2 col1\" >Binary</td>\n",
              "    </tr>\n",
              "    <tr>\n",
              "      <th id=\"T_a855a_level0_row3\" class=\"row_heading level0 row3\" >3</th>\n",
              "      <td id=\"T_a855a_row3_col0\" class=\"data row3 col0\" >Label Encoded</td>\n",
              "      <td id=\"T_a855a_row3_col1\" class=\"data row3 col1\" >Autorizado: 0, Negado: 1</td>\n",
              "    </tr>\n",
              "    <tr>\n",
              "      <th id=\"T_a855a_level0_row4\" class=\"row_heading level0 row4\" >4</th>\n",
              "      <td id=\"T_a855a_row4_col0\" class=\"data row4 col0\" >Original Data</td>\n",
              "      <td id=\"T_a855a_row4_col1\" class=\"data row4 col1\" >(387659, 14)</td>\n",
              "    </tr>\n",
              "    <tr>\n",
              "      <th id=\"T_a855a_level0_row5\" class=\"row_heading level0 row5\" >5</th>\n",
              "      <td id=\"T_a855a_row5_col0\" class=\"data row5 col0\" >Missing Values</td>\n",
              "      <td id=\"T_a855a_row5_col1\" class=\"data row5 col1\" >False</td>\n",
              "    </tr>\n",
              "    <tr>\n",
              "      <th id=\"T_a855a_level0_row6\" class=\"row_heading level0 row6\" >6</th>\n",
              "      <td id=\"T_a855a_row6_col0\" class=\"data row6 col0\" >Numeric Features</td>\n",
              "      <td id=\"T_a855a_row6_col1\" class=\"data row6 col1\" >3</td>\n",
              "    </tr>\n",
              "    <tr>\n",
              "      <th id=\"T_a855a_level0_row7\" class=\"row_heading level0 row7\" >7</th>\n",
              "      <td id=\"T_a855a_row7_col0\" class=\"data row7 col0\" >Categorical Features</td>\n",
              "      <td id=\"T_a855a_row7_col1\" class=\"data row7 col1\" >10</td>\n",
              "    </tr>\n",
              "    <tr>\n",
              "      <th id=\"T_a855a_level0_row8\" class=\"row_heading level0 row8\" >8</th>\n",
              "      <td id=\"T_a855a_row8_col0\" class=\"data row8 col0\" >Ordinal Features</td>\n",
              "      <td id=\"T_a855a_row8_col1\" class=\"data row8 col1\" >False</td>\n",
              "    </tr>\n",
              "    <tr>\n",
              "      <th id=\"T_a855a_level0_row9\" class=\"row_heading level0 row9\" >9</th>\n",
              "      <td id=\"T_a855a_row9_col0\" class=\"data row9 col0\" >High Cardinality Features</td>\n",
              "      <td id=\"T_a855a_row9_col1\" class=\"data row9 col1\" >False</td>\n",
              "    </tr>\n",
              "    <tr>\n",
              "      <th id=\"T_a855a_level0_row10\" class=\"row_heading level0 row10\" >10</th>\n",
              "      <td id=\"T_a855a_row10_col0\" class=\"data row10 col0\" >High Cardinality Method</td>\n",
              "      <td id=\"T_a855a_row10_col1\" class=\"data row10 col1\" >None</td>\n",
              "    </tr>\n",
              "    <tr>\n",
              "      <th id=\"T_a855a_level0_row11\" class=\"row_heading level0 row11\" >11</th>\n",
              "      <td id=\"T_a855a_row11_col0\" class=\"data row11 col0\" >Transformed Train Set</td>\n",
              "      <td id=\"T_a855a_row11_col1\" class=\"data row11 col1\" >(271361, 194)</td>\n",
              "    </tr>\n",
              "    <tr>\n",
              "      <th id=\"T_a855a_level0_row12\" class=\"row_heading level0 row12\" >12</th>\n",
              "      <td id=\"T_a855a_row12_col0\" class=\"data row12 col0\" >Transformed Test Set</td>\n",
              "      <td id=\"T_a855a_row12_col1\" class=\"data row12 col1\" >(116298, 194)</td>\n",
              "    </tr>\n",
              "    <tr>\n",
              "      <th id=\"T_a855a_level0_row13\" class=\"row_heading level0 row13\" >13</th>\n",
              "      <td id=\"T_a855a_row13_col0\" class=\"data row13 col0\" >Shuffle Train-Test</td>\n",
              "      <td id=\"T_a855a_row13_col1\" class=\"data row13 col1\" >True</td>\n",
              "    </tr>\n",
              "    <tr>\n",
              "      <th id=\"T_a855a_level0_row14\" class=\"row_heading level0 row14\" >14</th>\n",
              "      <td id=\"T_a855a_row14_col0\" class=\"data row14 col0\" >Stratify Train-Test</td>\n",
              "      <td id=\"T_a855a_row14_col1\" class=\"data row14 col1\" >False</td>\n",
              "    </tr>\n",
              "    <tr>\n",
              "      <th id=\"T_a855a_level0_row15\" class=\"row_heading level0 row15\" >15</th>\n",
              "      <td id=\"T_a855a_row15_col0\" class=\"data row15 col0\" >Fold Generator</td>\n",
              "      <td id=\"T_a855a_row15_col1\" class=\"data row15 col1\" >StratifiedKFold</td>\n",
              "    </tr>\n",
              "    <tr>\n",
              "      <th id=\"T_a855a_level0_row16\" class=\"row_heading level0 row16\" >16</th>\n",
              "      <td id=\"T_a855a_row16_col0\" class=\"data row16 col0\" >Fold Number</td>\n",
              "      <td id=\"T_a855a_row16_col1\" class=\"data row16 col1\" >10</td>\n",
              "    </tr>\n",
              "    <tr>\n",
              "      <th id=\"T_a855a_level0_row17\" class=\"row_heading level0 row17\" >17</th>\n",
              "      <td id=\"T_a855a_row17_col0\" class=\"data row17 col0\" >CPU Jobs</td>\n",
              "      <td id=\"T_a855a_row17_col1\" class=\"data row17 col1\" >-1</td>\n",
              "    </tr>\n",
              "    <tr>\n",
              "      <th id=\"T_a855a_level0_row18\" class=\"row_heading level0 row18\" >18</th>\n",
              "      <td id=\"T_a855a_row18_col0\" class=\"data row18 col0\" >Use GPU</td>\n",
              "      <td id=\"T_a855a_row18_col1\" class=\"data row18 col1\" >True</td>\n",
              "    </tr>\n",
              "    <tr>\n",
              "      <th id=\"T_a855a_level0_row19\" class=\"row_heading level0 row19\" >19</th>\n",
              "      <td id=\"T_a855a_row19_col0\" class=\"data row19 col0\" >Log Experiment</td>\n",
              "      <td id=\"T_a855a_row19_col1\" class=\"data row19 col1\" >False</td>\n",
              "    </tr>\n",
              "    <tr>\n",
              "      <th id=\"T_a855a_level0_row20\" class=\"row_heading level0 row20\" >20</th>\n",
              "      <td id=\"T_a855a_row20_col0\" class=\"data row20 col0\" >Experiment Name</td>\n",
              "      <td id=\"T_a855a_row20_col1\" class=\"data row20 col1\" >clf-default-name</td>\n",
              "    </tr>\n",
              "    <tr>\n",
              "      <th id=\"T_a855a_level0_row21\" class=\"row_heading level0 row21\" >21</th>\n",
              "      <td id=\"T_a855a_row21_col0\" class=\"data row21 col0\" >USI</td>\n",
              "      <td id=\"T_a855a_row21_col1\" class=\"data row21 col1\" >952b</td>\n",
              "    </tr>\n",
              "    <tr>\n",
              "      <th id=\"T_a855a_level0_row22\" class=\"row_heading level0 row22\" >22</th>\n",
              "      <td id=\"T_a855a_row22_col0\" class=\"data row22 col0\" >Imputation Type</td>\n",
              "      <td id=\"T_a855a_row22_col1\" class=\"data row22 col1\" >simple</td>\n",
              "    </tr>\n",
              "    <tr>\n",
              "      <th id=\"T_a855a_level0_row23\" class=\"row_heading level0 row23\" >23</th>\n",
              "      <td id=\"T_a855a_row23_col0\" class=\"data row23 col0\" >Iterative Imputation Iteration</td>\n",
              "      <td id=\"T_a855a_row23_col1\" class=\"data row23 col1\" >None</td>\n",
              "    </tr>\n",
              "    <tr>\n",
              "      <th id=\"T_a855a_level0_row24\" class=\"row_heading level0 row24\" >24</th>\n",
              "      <td id=\"T_a855a_row24_col0\" class=\"data row24 col0\" >Numeric Imputer</td>\n",
              "      <td id=\"T_a855a_row24_col1\" class=\"data row24 col1\" >mean</td>\n",
              "    </tr>\n",
              "    <tr>\n",
              "      <th id=\"T_a855a_level0_row25\" class=\"row_heading level0 row25\" >25</th>\n",
              "      <td id=\"T_a855a_row25_col0\" class=\"data row25 col0\" >Iterative Imputation Numeric Model</td>\n",
              "      <td id=\"T_a855a_row25_col1\" class=\"data row25 col1\" >None</td>\n",
              "    </tr>\n",
              "    <tr>\n",
              "      <th id=\"T_a855a_level0_row26\" class=\"row_heading level0 row26\" >26</th>\n",
              "      <td id=\"T_a855a_row26_col0\" class=\"data row26 col0\" >Categorical Imputer</td>\n",
              "      <td id=\"T_a855a_row26_col1\" class=\"data row26 col1\" >constant</td>\n",
              "    </tr>\n",
              "    <tr>\n",
              "      <th id=\"T_a855a_level0_row27\" class=\"row_heading level0 row27\" >27</th>\n",
              "      <td id=\"T_a855a_row27_col0\" class=\"data row27 col0\" >Iterative Imputation Categorical Model</td>\n",
              "      <td id=\"T_a855a_row27_col1\" class=\"data row27 col1\" >None</td>\n",
              "    </tr>\n",
              "    <tr>\n",
              "      <th id=\"T_a855a_level0_row28\" class=\"row_heading level0 row28\" >28</th>\n",
              "      <td id=\"T_a855a_row28_col0\" class=\"data row28 col0\" >Unknown Categoricals Handling</td>\n",
              "      <td id=\"T_a855a_row28_col1\" class=\"data row28 col1\" >least_frequent</td>\n",
              "    </tr>\n",
              "    <tr>\n",
              "      <th id=\"T_a855a_level0_row29\" class=\"row_heading level0 row29\" >29</th>\n",
              "      <td id=\"T_a855a_row29_col0\" class=\"data row29 col0\" >Normalize</td>\n",
              "      <td id=\"T_a855a_row29_col1\" class=\"data row29 col1\" >False</td>\n",
              "    </tr>\n",
              "    <tr>\n",
              "      <th id=\"T_a855a_level0_row30\" class=\"row_heading level0 row30\" >30</th>\n",
              "      <td id=\"T_a855a_row30_col0\" class=\"data row30 col0\" >Normalize Method</td>\n",
              "      <td id=\"T_a855a_row30_col1\" class=\"data row30 col1\" >None</td>\n",
              "    </tr>\n",
              "    <tr>\n",
              "      <th id=\"T_a855a_level0_row31\" class=\"row_heading level0 row31\" >31</th>\n",
              "      <td id=\"T_a855a_row31_col0\" class=\"data row31 col0\" >Transformation</td>\n",
              "      <td id=\"T_a855a_row31_col1\" class=\"data row31 col1\" >False</td>\n",
              "    </tr>\n",
              "    <tr>\n",
              "      <th id=\"T_a855a_level0_row32\" class=\"row_heading level0 row32\" >32</th>\n",
              "      <td id=\"T_a855a_row32_col0\" class=\"data row32 col0\" >Transformation Method</td>\n",
              "      <td id=\"T_a855a_row32_col1\" class=\"data row32 col1\" >None</td>\n",
              "    </tr>\n",
              "    <tr>\n",
              "      <th id=\"T_a855a_level0_row33\" class=\"row_heading level0 row33\" >33</th>\n",
              "      <td id=\"T_a855a_row33_col0\" class=\"data row33 col0\" >PCA</td>\n",
              "      <td id=\"T_a855a_row33_col1\" class=\"data row33 col1\" >False</td>\n",
              "    </tr>\n",
              "    <tr>\n",
              "      <th id=\"T_a855a_level0_row34\" class=\"row_heading level0 row34\" >34</th>\n",
              "      <td id=\"T_a855a_row34_col0\" class=\"data row34 col0\" >PCA Method</td>\n",
              "      <td id=\"T_a855a_row34_col1\" class=\"data row34 col1\" >None</td>\n",
              "    </tr>\n",
              "    <tr>\n",
              "      <th id=\"T_a855a_level0_row35\" class=\"row_heading level0 row35\" >35</th>\n",
              "      <td id=\"T_a855a_row35_col0\" class=\"data row35 col0\" >PCA Components</td>\n",
              "      <td id=\"T_a855a_row35_col1\" class=\"data row35 col1\" >None</td>\n",
              "    </tr>\n",
              "    <tr>\n",
              "      <th id=\"T_a855a_level0_row36\" class=\"row_heading level0 row36\" >36</th>\n",
              "      <td id=\"T_a855a_row36_col0\" class=\"data row36 col0\" >Ignore Low Variance</td>\n",
              "      <td id=\"T_a855a_row36_col1\" class=\"data row36 col1\" >False</td>\n",
              "    </tr>\n",
              "    <tr>\n",
              "      <th id=\"T_a855a_level0_row37\" class=\"row_heading level0 row37\" >37</th>\n",
              "      <td id=\"T_a855a_row37_col0\" class=\"data row37 col0\" >Combine Rare Levels</td>\n",
              "      <td id=\"T_a855a_row37_col1\" class=\"data row37 col1\" >False</td>\n",
              "    </tr>\n",
              "    <tr>\n",
              "      <th id=\"T_a855a_level0_row38\" class=\"row_heading level0 row38\" >38</th>\n",
              "      <td id=\"T_a855a_row38_col0\" class=\"data row38 col0\" >Rare Level Threshold</td>\n",
              "      <td id=\"T_a855a_row38_col1\" class=\"data row38 col1\" >None</td>\n",
              "    </tr>\n",
              "    <tr>\n",
              "      <th id=\"T_a855a_level0_row39\" class=\"row_heading level0 row39\" >39</th>\n",
              "      <td id=\"T_a855a_row39_col0\" class=\"data row39 col0\" >Numeric Binning</td>\n",
              "      <td id=\"T_a855a_row39_col1\" class=\"data row39 col1\" >False</td>\n",
              "    </tr>\n",
              "    <tr>\n",
              "      <th id=\"T_a855a_level0_row40\" class=\"row_heading level0 row40\" >40</th>\n",
              "      <td id=\"T_a855a_row40_col0\" class=\"data row40 col0\" >Remove Outliers</td>\n",
              "      <td id=\"T_a855a_row40_col1\" class=\"data row40 col1\" >False</td>\n",
              "    </tr>\n",
              "    <tr>\n",
              "      <th id=\"T_a855a_level0_row41\" class=\"row_heading level0 row41\" >41</th>\n",
              "      <td id=\"T_a855a_row41_col0\" class=\"data row41 col0\" >Outliers Threshold</td>\n",
              "      <td id=\"T_a855a_row41_col1\" class=\"data row41 col1\" >None</td>\n",
              "    </tr>\n",
              "    <tr>\n",
              "      <th id=\"T_a855a_level0_row42\" class=\"row_heading level0 row42\" >42</th>\n",
              "      <td id=\"T_a855a_row42_col0\" class=\"data row42 col0\" >Remove Multicollinearity</td>\n",
              "      <td id=\"T_a855a_row42_col1\" class=\"data row42 col1\" >False</td>\n",
              "    </tr>\n",
              "    <tr>\n",
              "      <th id=\"T_a855a_level0_row43\" class=\"row_heading level0 row43\" >43</th>\n",
              "      <td id=\"T_a855a_row43_col0\" class=\"data row43 col0\" >Multicollinearity Threshold</td>\n",
              "      <td id=\"T_a855a_row43_col1\" class=\"data row43 col1\" >None</td>\n",
              "    </tr>\n",
              "    <tr>\n",
              "      <th id=\"T_a855a_level0_row44\" class=\"row_heading level0 row44\" >44</th>\n",
              "      <td id=\"T_a855a_row44_col0\" class=\"data row44 col0\" >Remove Perfect Collinearity</td>\n",
              "      <td id=\"T_a855a_row44_col1\" class=\"data row44 col1\" >True</td>\n",
              "    </tr>\n",
              "    <tr>\n",
              "      <th id=\"T_a855a_level0_row45\" class=\"row_heading level0 row45\" >45</th>\n",
              "      <td id=\"T_a855a_row45_col0\" class=\"data row45 col0\" >Clustering</td>\n",
              "      <td id=\"T_a855a_row45_col1\" class=\"data row45 col1\" >False</td>\n",
              "    </tr>\n",
              "    <tr>\n",
              "      <th id=\"T_a855a_level0_row46\" class=\"row_heading level0 row46\" >46</th>\n",
              "      <td id=\"T_a855a_row46_col0\" class=\"data row46 col0\" >Clustering Iteration</td>\n",
              "      <td id=\"T_a855a_row46_col1\" class=\"data row46 col1\" >None</td>\n",
              "    </tr>\n",
              "    <tr>\n",
              "      <th id=\"T_a855a_level0_row47\" class=\"row_heading level0 row47\" >47</th>\n",
              "      <td id=\"T_a855a_row47_col0\" class=\"data row47 col0\" >Polynomial Features</td>\n",
              "      <td id=\"T_a855a_row47_col1\" class=\"data row47 col1\" >False</td>\n",
              "    </tr>\n",
              "    <tr>\n",
              "      <th id=\"T_a855a_level0_row48\" class=\"row_heading level0 row48\" >48</th>\n",
              "      <td id=\"T_a855a_row48_col0\" class=\"data row48 col0\" >Polynomial Degree</td>\n",
              "      <td id=\"T_a855a_row48_col1\" class=\"data row48 col1\" >None</td>\n",
              "    </tr>\n",
              "    <tr>\n",
              "      <th id=\"T_a855a_level0_row49\" class=\"row_heading level0 row49\" >49</th>\n",
              "      <td id=\"T_a855a_row49_col0\" class=\"data row49 col0\" >Trignometry Features</td>\n",
              "      <td id=\"T_a855a_row49_col1\" class=\"data row49 col1\" >False</td>\n",
              "    </tr>\n",
              "    <tr>\n",
              "      <th id=\"T_a855a_level0_row50\" class=\"row_heading level0 row50\" >50</th>\n",
              "      <td id=\"T_a855a_row50_col0\" class=\"data row50 col0\" >Polynomial Threshold</td>\n",
              "      <td id=\"T_a855a_row50_col1\" class=\"data row50 col1\" >None</td>\n",
              "    </tr>\n",
              "    <tr>\n",
              "      <th id=\"T_a855a_level0_row51\" class=\"row_heading level0 row51\" >51</th>\n",
              "      <td id=\"T_a855a_row51_col0\" class=\"data row51 col0\" >Group Features</td>\n",
              "      <td id=\"T_a855a_row51_col1\" class=\"data row51 col1\" >False</td>\n",
              "    </tr>\n",
              "    <tr>\n",
              "      <th id=\"T_a855a_level0_row52\" class=\"row_heading level0 row52\" >52</th>\n",
              "      <td id=\"T_a855a_row52_col0\" class=\"data row52 col0\" >Feature Selection</td>\n",
              "      <td id=\"T_a855a_row52_col1\" class=\"data row52 col1\" >False</td>\n",
              "    </tr>\n",
              "    <tr>\n",
              "      <th id=\"T_a855a_level0_row53\" class=\"row_heading level0 row53\" >53</th>\n",
              "      <td id=\"T_a855a_row53_col0\" class=\"data row53 col0\" >Feature Selection Method</td>\n",
              "      <td id=\"T_a855a_row53_col1\" class=\"data row53 col1\" >classic</td>\n",
              "    </tr>\n",
              "    <tr>\n",
              "      <th id=\"T_a855a_level0_row54\" class=\"row_heading level0 row54\" >54</th>\n",
              "      <td id=\"T_a855a_row54_col0\" class=\"data row54 col0\" >Features Selection Threshold</td>\n",
              "      <td id=\"T_a855a_row54_col1\" class=\"data row54 col1\" >None</td>\n",
              "    </tr>\n",
              "    <tr>\n",
              "      <th id=\"T_a855a_level0_row55\" class=\"row_heading level0 row55\" >55</th>\n",
              "      <td id=\"T_a855a_row55_col0\" class=\"data row55 col0\" >Feature Interaction</td>\n",
              "      <td id=\"T_a855a_row55_col1\" class=\"data row55 col1\" >False</td>\n",
              "    </tr>\n",
              "    <tr>\n",
              "      <th id=\"T_a855a_level0_row56\" class=\"row_heading level0 row56\" >56</th>\n",
              "      <td id=\"T_a855a_row56_col0\" class=\"data row56 col0\" >Feature Ratio</td>\n",
              "      <td id=\"T_a855a_row56_col1\" class=\"data row56 col1\" >False</td>\n",
              "    </tr>\n",
              "    <tr>\n",
              "      <th id=\"T_a855a_level0_row57\" class=\"row_heading level0 row57\" >57</th>\n",
              "      <td id=\"T_a855a_row57_col0\" class=\"data row57 col0\" >Interaction Threshold</td>\n",
              "      <td id=\"T_a855a_row57_col1\" class=\"data row57 col1\" >None</td>\n",
              "    </tr>\n",
              "    <tr>\n",
              "      <th id=\"T_a855a_level0_row58\" class=\"row_heading level0 row58\" >58</th>\n",
              "      <td id=\"T_a855a_row58_col0\" class=\"data row58 col0\" >Fix Imbalance</td>\n",
              "      <td id=\"T_a855a_row58_col1\" class=\"data row58 col1\" >False</td>\n",
              "    </tr>\n",
              "    <tr>\n",
              "      <th id=\"T_a855a_level0_row59\" class=\"row_heading level0 row59\" >59</th>\n",
              "      <td id=\"T_a855a_row59_col0\" class=\"data row59 col0\" >Fix Imbalance Method</td>\n",
              "      <td id=\"T_a855a_row59_col1\" class=\"data row59 col1\" >SMOTE</td>\n",
              "    </tr>\n",
              "  </tbody>\n",
              "</table>\n"
            ]
          },
          "metadata": {}
        }
      ]
    },
    {
      "cell_type": "code",
      "source": [
        "best = compare_models()"
      ],
      "metadata": {
        "colab": {
          "base_uri": "https://localhost:8080/",
          "height": 333,
          "referenced_widgets": [
            "98d24e3b012345bda4a663e4c4b234d8",
            "85c96c84e2ac429da1909a93c5a4f954",
            "71685cb0a28f4a1c87c5cbfa016da663"
          ]
        },
        "outputId": "7fdf383e-cbf1-445d-8fd2-f63cb7aa52ef",
        "id": "nO7cU3nAKfBW"
      },
      "execution_count": null,
      "outputs": [
        {
          "output_type": "display_data",
          "data": {
            "text/plain": [
              "<pandas.io.formats.style.Styler at 0x273774d0970>"
            ],
            "text/html": [
              "<style type=\"text/css\">\n",
              "#T_24325 th {\n",
              "  text-align: left;\n",
              "}\n",
              "#T_24325_row0_col0, #T_24325_row0_col2, #T_24325_row0_col3, #T_24325_row0_col4, #T_24325_row0_col5, #T_24325_row1_col0, #T_24325_row1_col1, #T_24325_row1_col3, #T_24325_row1_col4, #T_24325_row1_col6, #T_24325_row1_col7, #T_24325_row2_col0, #T_24325_row2_col1, #T_24325_row2_col2, #T_24325_row2_col3, #T_24325_row2_col4, #T_24325_row2_col5, #T_24325_row2_col6, #T_24325_row2_col7, #T_24325_row3_col0, #T_24325_row3_col1, #T_24325_row3_col2, #T_24325_row3_col3, #T_24325_row3_col4, #T_24325_row3_col5, #T_24325_row3_col6, #T_24325_row3_col7, #T_24325_row4_col0, #T_24325_row4_col1, #T_24325_row4_col2, #T_24325_row4_col3, #T_24325_row4_col4, #T_24325_row4_col5, #T_24325_row4_col6, #T_24325_row4_col7, #T_24325_row5_col0, #T_24325_row5_col1, #T_24325_row5_col2, #T_24325_row5_col3, #T_24325_row5_col5, #T_24325_row5_col6, #T_24325_row5_col7, #T_24325_row6_col0, #T_24325_row6_col1, #T_24325_row6_col2, #T_24325_row6_col3, #T_24325_row6_col4, #T_24325_row6_col5, #T_24325_row6_col6, #T_24325_row6_col7, #T_24325_row7_col0, #T_24325_row7_col1, #T_24325_row7_col2, #T_24325_row7_col3, #T_24325_row7_col4, #T_24325_row7_col5, #T_24325_row7_col6, #T_24325_row7_col7, #T_24325_row8_col0, #T_24325_row8_col1, #T_24325_row8_col2, #T_24325_row8_col3, #T_24325_row8_col4, #T_24325_row8_col5, #T_24325_row8_col6, #T_24325_row8_col7, #T_24325_row9_col0, #T_24325_row9_col1, #T_24325_row9_col2, #T_24325_row9_col3, #T_24325_row9_col4, #T_24325_row9_col5, #T_24325_row9_col6, #T_24325_row9_col7, #T_24325_row10_col0, #T_24325_row10_col1, #T_24325_row10_col2, #T_24325_row10_col3, #T_24325_row10_col4, #T_24325_row10_col5, #T_24325_row10_col6, #T_24325_row10_col7, #T_24325_row11_col0, #T_24325_row11_col1, #T_24325_row11_col2, #T_24325_row11_col3, #T_24325_row11_col4, #T_24325_row11_col5, #T_24325_row11_col6, #T_24325_row11_col7, #T_24325_row12_col0, #T_24325_row12_col1, #T_24325_row12_col2, #T_24325_row12_col3, #T_24325_row12_col4, #T_24325_row12_col5, #T_24325_row12_col6, #T_24325_row12_col7, #T_24325_row13_col0, #T_24325_row13_col1, #T_24325_row13_col2, #T_24325_row13_col4, #T_24325_row13_col5, #T_24325_row13_col6, #T_24325_row13_col7 {\n",
              "  text-align: left;\n",
              "}\n",
              "#T_24325_row0_col1, #T_24325_row0_col6, #T_24325_row0_col7, #T_24325_row1_col2, #T_24325_row1_col5, #T_24325_row5_col4, #T_24325_row13_col3 {\n",
              "  text-align: left;\n",
              "  background-color: yellow;\n",
              "}\n",
              "#T_24325_row0_col8, #T_24325_row1_col8, #T_24325_row2_col8, #T_24325_row3_col8, #T_24325_row4_col8, #T_24325_row5_col8, #T_24325_row6_col8, #T_24325_row7_col8, #T_24325_row8_col8, #T_24325_row9_col8, #T_24325_row11_col8, #T_24325_row12_col8, #T_24325_row13_col8 {\n",
              "  text-align: left;\n",
              "  background-color: lightgrey;\n",
              "}\n",
              "#T_24325_row10_col8 {\n",
              "  text-align: left;\n",
              "  background-color: yellow;\n",
              "  background-color: lightgrey;\n",
              "}\n",
              "</style>\n",
              "<table id=\"T_24325\">\n",
              "  <thead>\n",
              "    <tr>\n",
              "      <th class=\"blank level0\" >&nbsp;</th>\n",
              "      <th id=\"T_24325_level0_col0\" class=\"col_heading level0 col0\" >Model</th>\n",
              "      <th id=\"T_24325_level0_col1\" class=\"col_heading level0 col1\" >Accuracy</th>\n",
              "      <th id=\"T_24325_level0_col2\" class=\"col_heading level0 col2\" >AUC</th>\n",
              "      <th id=\"T_24325_level0_col3\" class=\"col_heading level0 col3\" >Recall</th>\n",
              "      <th id=\"T_24325_level0_col4\" class=\"col_heading level0 col4\" >Prec.</th>\n",
              "      <th id=\"T_24325_level0_col5\" class=\"col_heading level0 col5\" >F1</th>\n",
              "      <th id=\"T_24325_level0_col6\" class=\"col_heading level0 col6\" >Kappa</th>\n",
              "      <th id=\"T_24325_level0_col7\" class=\"col_heading level0 col7\" >MCC</th>\n",
              "      <th id=\"T_24325_level0_col8\" class=\"col_heading level0 col8\" >TT (Sec)</th>\n",
              "    </tr>\n",
              "  </thead>\n",
              "  <tbody>\n",
              "    <tr>\n",
              "      <th id=\"T_24325_level0_row0\" class=\"row_heading level0 row0\" >dt</th>\n",
              "      <td id=\"T_24325_row0_col0\" class=\"data row0 col0\" >Decision Tree Classifier</td>\n",
              "      <td id=\"T_24325_row0_col1\" class=\"data row0 col1\" >0.7529</td>\n",
              "      <td id=\"T_24325_row0_col2\" class=\"data row0 col2\" >0.7360</td>\n",
              "      <td id=\"T_24325_row0_col3\" class=\"data row0 col3\" >0.4915</td>\n",
              "      <td id=\"T_24325_row0_col4\" class=\"data row0 col4\" >0.6338</td>\n",
              "      <td id=\"T_24325_row0_col5\" class=\"data row0 col5\" >0.5537</td>\n",
              "      <td id=\"T_24325_row0_col6\" class=\"data row0 col6\" >0.3866</td>\n",
              "      <td id=\"T_24325_row0_col7\" class=\"data row0 col7\" >0.3926</td>\n",
              "      <td id=\"T_24325_row0_col8\" class=\"data row0 col8\" >5.8180</td>\n",
              "    </tr>\n",
              "    <tr>\n",
              "      <th id=\"T_24325_level0_row1\" class=\"row_heading level0 row1\" >rf</th>\n",
              "      <td id=\"T_24325_row1_col0\" class=\"data row1 col0\" >Random Forest Classifier</td>\n",
              "      <td id=\"T_24325_row1_col1\" class=\"data row1 col1\" >0.7498</td>\n",
              "      <td id=\"T_24325_row1_col2\" class=\"data row1 col2\" >0.7692</td>\n",
              "      <td id=\"T_24325_row1_col3\" class=\"data row1 col3\" >0.4998</td>\n",
              "      <td id=\"T_24325_row1_col4\" class=\"data row1 col4\" >0.6233</td>\n",
              "      <td id=\"T_24325_row1_col5\" class=\"data row1 col5\" >0.5547</td>\n",
              "      <td id=\"T_24325_row1_col6\" class=\"data row1 col6\" >0.3837</td>\n",
              "      <td id=\"T_24325_row1_col7\" class=\"data row1 col7\" >0.3882</td>\n",
              "      <td id=\"T_24325_row1_col8\" class=\"data row1 col8\" >21.3210</td>\n",
              "    </tr>\n",
              "    <tr>\n",
              "      <th id=\"T_24325_level0_row2\" class=\"row_heading level0 row2\" >et</th>\n",
              "      <td id=\"T_24325_row2_col0\" class=\"data row2 col0\" >Extra Trees Classifier</td>\n",
              "      <td id=\"T_24325_row2_col1\" class=\"data row2 col1\" >0.7487</td>\n",
              "      <td id=\"T_24325_row2_col2\" class=\"data row2 col2\" >0.7494</td>\n",
              "      <td id=\"T_24325_row2_col3\" class=\"data row2 col3\" >0.4796</td>\n",
              "      <td id=\"T_24325_row2_col4\" class=\"data row2 col4\" >0.6268</td>\n",
              "      <td id=\"T_24325_row2_col5\" class=\"data row2 col5\" >0.5434</td>\n",
              "      <td id=\"T_24325_row2_col6\" class=\"data row2 col6\" >0.3742</td>\n",
              "      <td id=\"T_24325_row2_col7\" class=\"data row2 col7\" >0.3806</td>\n",
              "      <td id=\"T_24325_row2_col8\" class=\"data row2 col8\" >28.5780</td>\n",
              "    </tr>\n",
              "    <tr>\n",
              "      <th id=\"T_24325_level0_row3\" class=\"row_heading level0 row3\" >knn</th>\n",
              "      <td id=\"T_24325_row3_col0\" class=\"data row3 col0\" >K Neighbors Classifier</td>\n",
              "      <td id=\"T_24325_row3_col1\" class=\"data row3 col1\" >0.7375</td>\n",
              "      <td id=\"T_24325_row3_col2\" class=\"data row3 col2\" >0.7414</td>\n",
              "      <td id=\"T_24325_row3_col3\" class=\"data row3 col3\" >0.4747</td>\n",
              "      <td id=\"T_24325_row3_col4\" class=\"data row3 col4\" >0.6000</td>\n",
              "      <td id=\"T_24325_row3_col5\" class=\"data row3 col5\" >0.5300</td>\n",
              "      <td id=\"T_24325_row3_col6\" class=\"data row3 col6\" >0.3513</td>\n",
              "      <td id=\"T_24325_row3_col7\" class=\"data row3 col7\" >0.3560</td>\n",
              "      <td id=\"T_24325_row3_col8\" class=\"data row3 col8\" >34.3940</td>\n",
              "    </tr>\n",
              "    <tr>\n",
              "      <th id=\"T_24325_level0_row4\" class=\"row_heading level0 row4\" >lightgbm</th>\n",
              "      <td id=\"T_24325_row4_col0\" class=\"data row4 col0\" >Light Gradient Boosting Machine</td>\n",
              "      <td id=\"T_24325_row4_col1\" class=\"data row4 col1\" >0.7262</td>\n",
              "      <td id=\"T_24325_row4_col2\" class=\"data row4 col2\" >0.7211</td>\n",
              "      <td id=\"T_24325_row4_col3\" class=\"data row4 col3\" >0.2423</td>\n",
              "      <td id=\"T_24325_row4_col4\" class=\"data row4 col4\" >0.6683</td>\n",
              "      <td id=\"T_24325_row4_col5\" class=\"data row4 col5\" >0.3557</td>\n",
              "      <td id=\"T_24325_row4_col6\" class=\"data row4 col6\" >0.2275</td>\n",
              "      <td id=\"T_24325_row4_col7\" class=\"data row4 col7\" >0.2748</td>\n",
              "      <td id=\"T_24325_row4_col8\" class=\"data row4 col8\" >2.3440</td>\n",
              "    </tr>\n",
              "    <tr>\n",
              "      <th id=\"T_24325_level0_row5\" class=\"row_heading level0 row5\" >gbc</th>\n",
              "      <td id=\"T_24325_row5_col0\" class=\"data row5 col0\" >Gradient Boosting Classifier</td>\n",
              "      <td id=\"T_24325_row5_col1\" class=\"data row5 col1\" >0.7098</td>\n",
              "      <td id=\"T_24325_row5_col2\" class=\"data row5 col2\" >0.6764</td>\n",
              "      <td id=\"T_24325_row5_col3\" class=\"data row5 col3\" >0.1374</td>\n",
              "      <td id=\"T_24325_row5_col4\" class=\"data row5 col4\" >0.6686</td>\n",
              "      <td id=\"T_24325_row5_col5\" class=\"data row5 col5\" >0.2279</td>\n",
              "      <td id=\"T_24325_row5_col6\" class=\"data row5 col6\" >0.1361</td>\n",
              "      <td id=\"T_24325_row5_col7\" class=\"data row5 col7\" >0.2015</td>\n",
              "      <td id=\"T_24325_row5_col8\" class=\"data row5 col8\" >79.7300</td>\n",
              "    </tr>\n",
              "    <tr>\n",
              "      <th id=\"T_24325_level0_row6\" class=\"row_heading level0 row6\" >lr</th>\n",
              "      <td id=\"T_24325_row6_col0\" class=\"data row6 col0\" >Logistic Regression</td>\n",
              "      <td id=\"T_24325_row6_col1\" class=\"data row6 col1\" >0.7057</td>\n",
              "      <td id=\"T_24325_row6_col2\" class=\"data row6 col2\" >0.6546</td>\n",
              "      <td id=\"T_24325_row6_col3\" class=\"data row6 col3\" >0.1728</td>\n",
              "      <td id=\"T_24325_row6_col4\" class=\"data row6 col4\" >0.5970</td>\n",
              "      <td id=\"T_24325_row6_col5\" class=\"data row6 col5\" >0.2680</td>\n",
              "      <td id=\"T_24325_row6_col6\" class=\"data row6 col6\" >0.1489</td>\n",
              "      <td id=\"T_24325_row6_col7\" class=\"data row6 col7\" >0.1939</td>\n",
              "      <td id=\"T_24325_row6_col8\" class=\"data row6 col8\" >43.0670</td>\n",
              "    </tr>\n",
              "    <tr>\n",
              "      <th id=\"T_24325_level0_row7\" class=\"row_heading level0 row7\" >ridge</th>\n",
              "      <td id=\"T_24325_row7_col0\" class=\"data row7 col0\" >Ridge Classifier</td>\n",
              "      <td id=\"T_24325_row7_col1\" class=\"data row7 col1\" >0.7053</td>\n",
              "      <td id=\"T_24325_row7_col2\" class=\"data row7 col2\" >0.0000</td>\n",
              "      <td id=\"T_24325_row7_col3\" class=\"data row7 col3\" >0.1645</td>\n",
              "      <td id=\"T_24325_row7_col4\" class=\"data row7 col4\" >0.6004</td>\n",
              "      <td id=\"T_24325_row7_col5\" class=\"data row7 col5\" >0.2583</td>\n",
              "      <td id=\"T_24325_row7_col6\" class=\"data row7 col6\" >0.1434</td>\n",
              "      <td id=\"T_24325_row7_col7\" class=\"data row7 col7\" >0.1904</td>\n",
              "      <td id=\"T_24325_row7_col8\" class=\"data row7 col8\" >0.5640</td>\n",
              "    </tr>\n",
              "    <tr>\n",
              "      <th id=\"T_24325_level0_row8\" class=\"row_heading level0 row8\" >lda</th>\n",
              "      <td id=\"T_24325_row8_col0\" class=\"data row8 col0\" >Linear Discriminant Analysis</td>\n",
              "      <td id=\"T_24325_row8_col1\" class=\"data row8 col1\" >0.7029</td>\n",
              "      <td id=\"T_24325_row8_col2\" class=\"data row8 col2\" >0.6534</td>\n",
              "      <td id=\"T_24325_row8_col3\" class=\"data row8 col3\" >0.1899</td>\n",
              "      <td id=\"T_24325_row8_col4\" class=\"data row8 col4\" >0.5713</td>\n",
              "      <td id=\"T_24325_row8_col5\" class=\"data row8 col5\" >0.2851</td>\n",
              "      <td id=\"T_24325_row8_col6\" class=\"data row8 col6\" >0.1533</td>\n",
              "      <td id=\"T_24325_row8_col7\" class=\"data row8 col7\" >0.1905</td>\n",
              "      <td id=\"T_24325_row8_col8\" class=\"data row8 col8\" >7.6800</td>\n",
              "    </tr>\n",
              "    <tr>\n",
              "      <th id=\"T_24325_level0_row9\" class=\"row_heading level0 row9\" >ada</th>\n",
              "      <td id=\"T_24325_row9_col0\" class=\"data row9 col0\" >Ada Boost Classifier</td>\n",
              "      <td id=\"T_24325_row9_col1\" class=\"data row9 col1\" >0.7010</td>\n",
              "      <td id=\"T_24325_row9_col2\" class=\"data row9 col2\" >0.6524</td>\n",
              "      <td id=\"T_24325_row9_col3\" class=\"data row9 col3\" >0.1584</td>\n",
              "      <td id=\"T_24325_row9_col4\" class=\"data row9 col4\" >0.5748</td>\n",
              "      <td id=\"T_24325_row9_col5\" class=\"data row9 col5\" >0.2483</td>\n",
              "      <td id=\"T_24325_row9_col6\" class=\"data row9 col6\" >0.1312</td>\n",
              "      <td id=\"T_24325_row9_col7\" class=\"data row9 col7\" >0.1739</td>\n",
              "      <td id=\"T_24325_row9_col8\" class=\"data row9 col8\" >17.2780</td>\n",
              "    </tr>\n",
              "    <tr>\n",
              "      <th id=\"T_24325_level0_row10\" class=\"row_heading level0 row10\" >dummy</th>\n",
              "      <td id=\"T_24325_row10_col0\" class=\"data row10 col0\" >Dummy Classifier</td>\n",
              "      <td id=\"T_24325_row10_col1\" class=\"data row10 col1\" >0.6882</td>\n",
              "      <td id=\"T_24325_row10_col2\" class=\"data row10 col2\" >0.5000</td>\n",
              "      <td id=\"T_24325_row10_col3\" class=\"data row10 col3\" >0.0000</td>\n",
              "      <td id=\"T_24325_row10_col4\" class=\"data row10 col4\" >0.0000</td>\n",
              "      <td id=\"T_24325_row10_col5\" class=\"data row10 col5\" >0.0000</td>\n",
              "      <td id=\"T_24325_row10_col6\" class=\"data row10 col6\" >0.0000</td>\n",
              "      <td id=\"T_24325_row10_col7\" class=\"data row10 col7\" >0.0000</td>\n",
              "      <td id=\"T_24325_row10_col8\" class=\"data row10 col8\" >0.1300</td>\n",
              "    </tr>\n",
              "    <tr>\n",
              "      <th id=\"T_24325_level0_row11\" class=\"row_heading level0 row11\" >svm</th>\n",
              "      <td id=\"T_24325_row11_col0\" class=\"data row11 col0\" >SVM - Linear Kernel</td>\n",
              "      <td id=\"T_24325_row11_col1\" class=\"data row11 col1\" >0.5985</td>\n",
              "      <td id=\"T_24325_row11_col2\" class=\"data row11 col2\" >0.0000</td>\n",
              "      <td id=\"T_24325_row11_col3\" class=\"data row11 col3\" >0.3663</td>\n",
              "      <td id=\"T_24325_row11_col4\" class=\"data row11 col4\" >0.5366</td>\n",
              "      <td id=\"T_24325_row11_col5\" class=\"data row11 col5\" >0.2788</td>\n",
              "      <td id=\"T_24325_row11_col6\" class=\"data row11 col6\" >0.0802</td>\n",
              "      <td id=\"T_24325_row11_col7\" class=\"data row11 col7\" >0.1241</td>\n",
              "      <td id=\"T_24325_row11_col8\" class=\"data row11 col8\" >22.8770</td>\n",
              "    </tr>\n",
              "    <tr>\n",
              "      <th id=\"T_24325_level0_row12\" class=\"row_heading level0 row12\" >qda</th>\n",
              "      <td id=\"T_24325_row12_col0\" class=\"data row12 col0\" >Quadratic Discriminant Analysis</td>\n",
              "      <td id=\"T_24325_row12_col1\" class=\"data row12 col1\" >0.5258</td>\n",
              "      <td id=\"T_24325_row12_col2\" class=\"data row12 col2\" >0.5105</td>\n",
              "      <td id=\"T_24325_row12_col3\" class=\"data row12 col3\" >0.4697</td>\n",
              "      <td id=\"T_24325_row12_col4\" class=\"data row12 col4\" >0.3235</td>\n",
              "      <td id=\"T_24325_row12_col5\" class=\"data row12 col5\" >0.3654</td>\n",
              "      <td id=\"T_24325_row12_col6\" class=\"data row12 col6\" >0.0192</td>\n",
              "      <td id=\"T_24325_row12_col7\" class=\"data row12 col7\" >0.0205</td>\n",
              "      <td id=\"T_24325_row12_col8\" class=\"data row12 col8\" >4.2270</td>\n",
              "    </tr>\n",
              "    <tr>\n",
              "      <th id=\"T_24325_level0_row13\" class=\"row_heading level0 row13\" >nb</th>\n",
              "      <td id=\"T_24325_row13_col0\" class=\"data row13 col0\" >Naive Bayes</td>\n",
              "      <td id=\"T_24325_row13_col1\" class=\"data row13 col1\" >0.4951</td>\n",
              "      <td id=\"T_24325_row13_col2\" class=\"data row13 col2\" >0.6182</td>\n",
              "      <td id=\"T_24325_row13_col3\" class=\"data row13 col3\" >0.7641</td>\n",
              "      <td id=\"T_24325_row13_col4\" class=\"data row13 col4\" >0.3580</td>\n",
              "      <td id=\"T_24325_row13_col5\" class=\"data row13 col5\" >0.4852</td>\n",
              "      <td id=\"T_24325_row13_col6\" class=\"data row13 col6\" >0.1060</td>\n",
              "      <td id=\"T_24325_row13_col7\" class=\"data row13 col7\" >0.1372</td>\n",
              "      <td id=\"T_24325_row13_col8\" class=\"data row13 col8\" >0.6530</td>\n",
              "    </tr>\n",
              "  </tbody>\n",
              "</table>\n"
            ]
          },
          "metadata": {}
        }
      ]
    },
    {
      "cell_type": "markdown",
      "source": [
        "> Os resultados não estão bons... Vamos ter que fazer um feature selection."
      ],
      "metadata": {
        "id": "ctoEGUJtC_HJ"
      }
    },
    {
      "cell_type": "markdown",
      "source": [
        "### SVM"
      ],
      "metadata": {
        "id": "YYlhKerI-GTB"
      }
    },
    {
      "cell_type": "markdown",
      "source": [
        "Vamos testar modelos SVM agora. Kernel linear não é uma opção, conforme pudemos notar com o pycaret."
      ],
      "metadata": {
        "id": "hQbHNoBG-KJf"
      }
    },
    {
      "cell_type": "code",
      "source": [
        "from sklearn.model_selection import cross_validate\n",
        "from sklearn.svm import SVC\n",
        "from sklearn.model_selection import GridSearchCV"
      ],
      "metadata": {
        "id": "_J7Q7IVC-Jmp"
      },
      "execution_count": null,
      "outputs": []
    },
    {
      "cell_type": "code",
      "source": [
        "params_poly = {\"C\":[0.1, 1, 10, 100], \"kernel\":['poly'], \"degree\":[5, 10, 20, 50]}\n",
        "params_rbf = {\"C\":[0.1, 1, 10, 100], \"kernel\":['rbf']}\n",
        "params_sig = {\"C\":[0.1, 1, 10, 100], \"kernel\":['sigmoid']}"
      ],
      "metadata": {
        "id": "CLtR5eW7Am9M"
      },
      "execution_count": null,
      "outputs": []
    },
    {
      "cell_type": "code",
      "source": [
        "clf = SVC()"
      ],
      "metadata": {
        "id": "W-BgNmcmAkei"
      },
      "execution_count": null,
      "outputs": []
    },
    {
      "cell_type": "code",
      "source": [
        "grid = GridSearchCV(clf, params_sig, scoring=\"f1\", n_jobs=-1, cv=5, verbose=3, return_train_score=True)"
      ],
      "metadata": {
        "id": "79OQUb80EV0O"
      },
      "execution_count": null,
      "outputs": []
    },
    {
      "cell_type": "code",
      "source": [
        "grid.fit(X_train, y_train)  # estou usando o oversampling"
      ],
      "metadata": {
        "colab": {
          "base_uri": "https://localhost:8080/"
        },
        "id": "Xv7PiGFdE7BD",
        "outputId": "e8009997-49f0-4909-f212-b3859f5bde4b"
      },
      "execution_count": null,
      "outputs": [
        {
          "output_type": "stream",
          "name": "stdout",
          "text": [
            "Fitting 5 folds for each of 4 candidates, totalling 20 fits\n"
          ]
        },
        {
          "output_type": "stream",
          "name": "stderr",
          "text": [
            "[Parallel(n_jobs=-1)]: Using backend LokyBackend with 16 concurrent workers.\n"
          ]
        }
      ]
    },
    {
      "cell_type": "code",
      "source": [
        "clf = SVC(C=1, kernel=\"sigmoid\")\n",
        "\n",
        "clf.fit(X_train, y_train)"
      ],
      "metadata": {
        "id": "iXInJmE-FGe9"
      },
      "execution_count": null,
      "outputs": []
    },
    {
      "cell_type": "markdown",
      "source": [
        "> O SVM não está rodando bem com essa dimensionalidade alta. Vamos ter que adiar seu uso para outros encoders."
      ],
      "metadata": {
        "id": "dUWAPyaomqJN"
      }
    },
    {
      "cell_type": "markdown",
      "source": [
        "### Outros encoders:"
      ],
      "metadata": {
        "id": "mExnjQwLmx9t"
      }
    },
    {
      "cell_type": "code",
      "source": [
        "!pip install category_encoders"
      ],
      "metadata": {
        "id": "qYF9VIPxmhqH"
      },
      "execution_count": null,
      "outputs": []
    },
    {
      "cell_type": "code",
      "source": [
        "df_.info()"
      ],
      "metadata": {
        "id": "PEh_X3lWqPEc"
      },
      "execution_count": null,
      "outputs": []
    },
    {
      "cell_type": "markdown",
      "source": [
        "##### Random Over sampling + target encoder"
      ],
      "metadata": {
        "id": "ctuwd3Hi2yMl"
      }
    },
    {
      "cell_type": "code",
      "source": [
        "## Balanceando os dados\n",
        "from imblearn.over_sampling import RandomOverSampler\n",
        "\n",
        "ros = RandomOverSampler()\n",
        "\n",
        "y = df_.DS_STATUS_ITEM.map({\"Autorizado\":0, \"Negado\":1})\n",
        "X = df_.drop(columns=[\"DS_STATUS_ITEM\"])\n",
        "\n",
        "## balanceando\n",
        "X, y = ros.fit_resample(X,y)\n",
        "\n",
        "## dividindo em treino e teste\n",
        "X_train, X_test, X_val, y_train, y_test, y_val = train_val_test(X, y)\n",
        "\n",
        "\n",
        "enc.fit(X_train, y_train)\n",
        "\n",
        "X_train = enc.transform(X_train, y_train)\n",
        "X_val = enc.transform(X_val, y_val)\n",
        "X_test = enc.transform(X_test, y_test)\n",
        "\n",
        "## já tranformando o df_test tambem\n",
        "df_test_ajeitado = ajeita_dados(df_test)\n",
        "df_test_ajeitado = enc.transform(df_test_ajeitado)"
      ],
      "metadata": {
        "id": "NkWawk6N1MIO"
      },
      "execution_count": null,
      "outputs": []
    },
    {
      "cell_type": "markdown",
      "source": [
        "##### Under Sampling"
      ],
      "metadata": {
        "id": "ws8BvV4N23es"
      }
    },
    {
      "cell_type": "code",
      "source": [
        "## Balanceando os dados\n",
        "from imblearn.under_sampling import RandomUnderSampler\n",
        "\n",
        "ros = RandomUnderSampler()\n",
        "\n",
        "y = df_.DS_STATUS_ITEM.map({\"Autorizado\":0, \"Negado\":1})\n",
        "X = df_.drop(columns=[\"DS_STATUS_ITEM\"])\n",
        "\n",
        "## balanceando\n",
        "X, y = ros.fit_resample(X,y)\n",
        "\n",
        "## dividindo em treino e teste\n",
        "X_train, X_test, X_val, y_train, y_test, y_val = train_val_test(X, y)"
      ],
      "metadata": {
        "id": "HlVJn3kC23Nc"
      },
      "execution_count": null,
      "outputs": []
    },
    {
      "cell_type": "code",
      "source": [
        "y_train.value_counts()"
      ],
      "metadata": {
        "colab": {
          "base_uri": "https://localhost:8080/"
        },
        "id": "VXPXU0dr1kIW",
        "outputId": "8bdb765a-d4ca-4610-cce8-93ed0294304a"
      },
      "execution_count": null,
      "outputs": [
        {
          "output_type": "execute_result",
          "data": {
            "text/plain": [
              "0    68138\n",
              "1    67978\n",
              "Name: DS_STATUS_ITEM, dtype: int64"
            ]
          },
          "metadata": {},
          "execution_count": 245
        }
      ]
    },
    {
      "cell_type": "markdown",
      "source": [
        "##### Target encoder"
      ],
      "metadata": {
        "id": "2-QHVM_d39CV"
      }
    },
    {
      "cell_type": "code",
      "source": [
        "import category_encoders as ce"
      ],
      "metadata": {
        "id": "E1mI7wF7nXEg"
      },
      "execution_count": null,
      "outputs": []
    },
    {
      "cell_type": "code",
      "source": [
        "enc = ce.TargetEncoder(return_df=True)"
      ],
      "metadata": {
        "id": "oyjTLLK3pUrb"
      },
      "execution_count": null,
      "outputs": []
    },
    {
      "cell_type": "code",
      "source": [
        "enc.fit(X_train, y_train)  # é de fundamental importância realizar esse step primeiro!!! Ele garante que o teste e val não terão data leakage"
      ],
      "metadata": {
        "colab": {
          "base_uri": "https://localhost:8080/"
        },
        "id": "AoVYBpXENQVP",
        "outputId": "d71e7239-f12e-4b8e-b603-1a16d75e0f96"
      },
      "execution_count": null,
      "outputs": [
        {
          "output_type": "execute_result",
          "data": {
            "text/plain": [
              "TargetEncoder(cols=['DS_TIPO_GUIA', 'DS_TIPO_PREST_SOLICITANTE', 'DS_CBO',\n",
              "                    'DS_CARATER_ATENDIMENTO', 'DS_TIPO_ACOMODACAO',\n",
              "                    'DS_TIPO_ATENDIMENTO', 'DS_INDICACAO_CLINICA',\n",
              "                    'DS_TIPO_ITEM', 'DS_SUBGRUPO', 'DS_GRUPO'],\n",
              "              drop_invariant=False, handle_missing='value',\n",
              "              handle_unknown='value', min_samples_leaf=1, return_df=True,\n",
              "              smoothing=1.0, verbose=0)"
            ]
          },
          "metadata": {},
          "execution_count": 371
        }
      ]
    },
    {
      "cell_type": "code",
      "source": [
        "X_train = enc.transform(X_train, y_train)"
      ],
      "metadata": {
        "id": "WsdnbrsONR2W"
      },
      "execution_count": null,
      "outputs": []
    },
    {
      "cell_type": "markdown",
      "source": [
        "> Adendo: O data leakage pode acontecer facilmente usando o target encoder, pois sua formulação se baseia na probabilidade a posteriori de uma categoria de determinada coluna ter seu rótulo (variável alvo) positivo.\n",
        "\n",
        "> Entre outras palavras, se não tomarmos cuidado, os dados de teste e validação terão a dica se serão positivos ou não, afinal, eles terão a probabilidade daquele exemplo pertencer à variável que queremos prever, o que não faz sentido pois não terá nenhuma dica na hora do deploy.\n",
        "\n",
        "> Portanto, basta realizar a separação em treino, teste e validação ANTES de passar o encoder. Também \"fittar\" primeiro o conjunto de treino, após isso realizar as transformações. \n",
        "\n"
      ],
      "metadata": {
        "id": "sVEPPnjDOxLD"
      }
    },
    {
      "cell_type": "code",
      "source": [
        "X_val = enc.transform(X_val, y_val)  # transformando o X de validação\n",
        "X_test = enc.transform(X_test, y_test)  # transformando o X de teste"
      ],
      "metadata": {
        "id": "9K1Q074EqrJ1"
      },
      "execution_count": null,
      "outputs": []
    },
    {
      "cell_type": "code",
      "source": [
        "X_val.DS_CBO.value_counts()"
      ],
      "metadata": {
        "colab": {
          "base_uri": "https://localhost:8080/"
        },
        "id": "uuQorCwDNvpG",
        "outputId": "b248949f-5f3b-4246-8254-04b5bdd73fa4"
      },
      "execution_count": null,
      "outputs": [
        {
          "output_type": "execute_result",
          "data": {
            "text/plain": [
              "0.490699    30862\n",
              "0.485638    25683\n",
              "0.570819    16434\n",
              "0.449940    15571\n",
              "0.525632     7701\n",
              "0.536835     3749\n",
              "Name: DS_CBO, dtype: int64"
            ]
          },
          "metadata": {},
          "execution_count": 377
        }
      ]
    },
    {
      "cell_type": "markdown",
      "source": [
        "#####Smote"
      ],
      "metadata": {
        "id": "w428v_x-4Er8"
      }
    },
    {
      "cell_type": "code",
      "source": [
        "## Balanceando os dados\n",
        "from imblearn.over_sampling import SMOTE\n",
        "\n",
        "ros = SMOTE()\n",
        "\n",
        "y = df_.DS_STATUS_ITEM.map({\"Autorizado\":0, \"Negado\":1})\n",
        "X = df_.drop(columns=[\"DS_STATUS_ITEM\"])\n",
        "\n",
        "## dividindo em treino e teste\n",
        "X_train, X_test, X_val, y_train, y_test, y_val = train_val_test(X, y)\n",
        "\n",
        "enc = ce.TargetEncoder(return_df=True)\n",
        "X_train = enc.fit_transform(X_train, y_train)  # transformando o X de treino\n",
        "X_val = enc.fit_transform(X_val, y_val)  # transformando o X de validação\n",
        "X_test = enc.fit_transform(X_test, y_test)  # transformando o X de teste\n",
        "\n",
        "## balanceando\n",
        "X_train, y_train = ros.fit_resample(X_train, y_train)\n",
        "X_val, y_val = ros.fit_resample(X_val, y_val)\n",
        "X_test, y_test = ros.fit_resample(X_test, y_test)"
      ],
      "metadata": {
        "id": "yH_cVDux3qB8"
      },
      "execution_count": null,
      "outputs": []
    },
    {
      "cell_type": "markdown",
      "source": [
        "#### Testando na RF com maior desempenho que obtivemos"
      ],
      "metadata": {
        "id": "Y-N1zYGbs_y7"
      }
    },
    {
      "cell_type": "code",
      "source": [
        "from sklearn.ensemble import RandomForestClassifier\n",
        "from sklearn.model_selection import cross_validate"
      ],
      "metadata": {
        "id": "KTK5NLEPs1pb"
      },
      "execution_count": null,
      "outputs": []
    },
    {
      "cell_type": "code",
      "source": [
        "clf = RandomForestClassifier(n_estimators=100, criterion=\"entropy\", max_depth=40, min_samples_split=20, n_jobs=-1)"
      ],
      "metadata": {
        "id": "ehRLIPcntVWN"
      },
      "execution_count": null,
      "outputs": []
    },
    {
      "cell_type": "code",
      "source": [
        "cval = cross_validate(clf, X_train, y_train, scoring=\"f1\", n_jobs=-1, return_train_score=True, verbose=2)"
      ],
      "metadata": {
        "colab": {
          "base_uri": "https://localhost:8080/"
        },
        "id": "IQSJfZQYtm8Y",
        "outputId": "6f158d7a-296d-4c07-e58d-ae8abe2ac40e"
      },
      "execution_count": null,
      "outputs": [
        {
          "output_type": "stream",
          "name": "stderr",
          "text": [
            "[Parallel(n_jobs=-1)]: Using backend LokyBackend with 16 concurrent workers.\n",
            "[Parallel(n_jobs=-1)]: Done   5 out of   5 | elapsed:    9.8s finished\n"
          ]
        }
      ]
    },
    {
      "cell_type": "code",
      "source": [
        "cval"
      ],
      "metadata": {
        "colab": {
          "base_uri": "https://localhost:8080/"
        },
        "id": "yS01lB4juq9-",
        "outputId": "343b6c01-7eb1-4161-f2fe-23103562deb5"
      },
      "execution_count": null,
      "outputs": [
        {
          "output_type": "execute_result",
          "data": {
            "text/plain": [
              "{'fit_time': array([7.77973032, 9.30418515, 7.80611634, 7.87718368, 7.92406535]),\n",
              " 'score_time': array([0.37873363, 0.14064956, 0.30544901, 0.37500548, 0.56251669]),\n",
              " 'test_score': array([1., 1., 1., 1., 1.]),\n",
              " 'train_score': array([1., 1., 1., 1., 1.])}"
            ]
          },
          "metadata": {},
          "execution_count": 348
        }
      ]
    },
    {
      "cell_type": "code",
      "source": [
        "## testando nos dados de validacao:\n",
        "clf.fit(X_train, y_train)\n"
      ],
      "metadata": {
        "colab": {
          "base_uri": "https://localhost:8080/"
        },
        "id": "e16HZh15u2_P",
        "outputId": "fb14359f-dd3e-4c23-eeab-22d27d4252bf"
      },
      "execution_count": null,
      "outputs": [
        {
          "output_type": "execute_result",
          "data": {
            "text/plain": [
              "RandomForestClassifier(bootstrap=True, ccp_alpha=0.0, class_weight=None,\n",
              "                       criterion='gini', max_depth=None, max_features='auto',\n",
              "                       max_leaf_nodes=None, max_samples=None,\n",
              "                       min_impurity_decrease=0.0, min_impurity_split=None,\n",
              "                       min_samples_leaf=1, min_samples_split=2,\n",
              "                       min_weight_fraction_leaf=0.0, n_estimators=100,\n",
              "                       n_jobs=-1, oob_score=False, random_state=4019, verbose=0,\n",
              "                       warm_start=False)"
            ]
          },
          "metadata": {},
          "execution_count": 384
        }
      ]
    },
    {
      "cell_type": "code",
      "source": [
        "import sklearn.metrics as mtrcs\n",
        "\n",
        "predictions = clf.predict(X_test)\n",
        "mtrcs.f1_score(y_test, predictions)"
      ],
      "metadata": {
        "colab": {
          "base_uri": "https://localhost:8080/"
        },
        "id": "rZX8NYqk5-6I",
        "outputId": "c817eea8-37e1-4f9b-81ba-fd89d7d61b73"
      },
      "execution_count": null,
      "outputs": [
        {
          "output_type": "execute_result",
          "data": {
            "text/plain": [
              "0.735818404361856"
            ]
          },
          "metadata": {},
          "execution_count": 385
        }
      ]
    },
    {
      "cell_type": "code",
      "source": [
        ""
      ],
      "metadata": {
        "id": "DtO_07fw6Cvv"
      },
      "execution_count": null,
      "outputs": []
    },
    {
      "cell_type": "markdown",
      "source": [
        "### Pycaret de novo"
      ],
      "metadata": {
        "id": "QQK5a75uvOkp"
      }
    },
    {
      "cell_type": "markdown",
      "source": [
        "#### Invocando o pycaret para nos auxiliar a encontrar modelos"
      ],
      "metadata": {
        "id": "K45kCZJbvUDv"
      }
    },
    {
      "cell_type": "code",
      "source": [
        "from pycaret.classification import *"
      ],
      "metadata": {
        "id": "cPihNfbqvUDw"
      },
      "execution_count": null,
      "outputs": []
    },
    {
      "cell_type": "code",
      "source": [
        "X_train[\"DS_STATUS_ITEM\"] = y_train"
      ],
      "metadata": {
        "id": "r45Ux_xdvc_q"
      },
      "execution_count": null,
      "outputs": []
    },
    {
      "cell_type": "code",
      "source": [
        "X_val[\"DS_STATUS_ITEM\"] = y_val"
      ],
      "metadata": {
        "id": "ubpJJz8QxkHM"
      },
      "execution_count": null,
      "outputs": []
    },
    {
      "cell_type": "code",
      "source": [
        "y_train.value_counts()"
      ],
      "metadata": {
        "colab": {
          "base_uri": "https://localhost:8080/"
        },
        "id": "fNnMTawn_ptk",
        "outputId": "24f54026-b3ab-47ab-f881-4167550d94a6"
      },
      "execution_count": null,
      "outputs": [
        {
          "output_type": "execute_result",
          "data": {
            "text/plain": [
              "1    150177\n",
              "0    149823\n",
              "Name: DS_STATUS_ITEM, dtype: int64"
            ]
          },
          "metadata": {},
          "execution_count": 343
        }
      ]
    },
    {
      "cell_type": "code",
      "source": [
        "s = setup(X_train, test_data=X_val, target = \"DS_STATUS_ITEM\", use_gpu=True, preprocess=False, numeric_features=['DS_TIPO_GUIA', 'DT_NASCIMENTO', 'DS_TIPO_PREST_SOLICITANTE', 'DS_CBO', 'DS_CARATER_ATENDIMENTO', 'DS_TIPO_ACOMODACAO', 'QT_DIA_SOLICITADO', 'DS_TIPO_ATENDIMENTO', 'DS_INDICACAO_CLINICA', 'DS_TIPO_ITEM', 'DS_SUBGRUPO', 'DS_GRUPO', 'QT_SOLICITADA'])"
      ],
      "metadata": {
        "colab": {
          "base_uri": "https://localhost:8080/",
          "height": 479,
          "referenced_widgets": [
            "7b08eb0504aa4037b57a33341a5bf8a6",
            "b3101553838d451683e409c8ac06e95f",
            "2c1487dbf270476f8fbd320da8053b3b",
            "5f1c484bd5ec43f4a694ac219b19d044",
            "54cbe9ac800a48639f41bbfd75fb504f",
            "f2572ef8071f421d84cd8efb1ff19dc9"
          ]
        },
        "outputId": "a99126ac-8ebb-4021-c2d8-9c6ca4d4f9f1",
        "id": "LaR_lAaAvUDw"
      },
      "execution_count": null,
      "outputs": [
        {
          "output_type": "display_data",
          "data": {
            "text/plain": [
              "<pandas.io.formats.style.Styler at 0x200f4134e80>"
            ],
            "text/html": [
              "<style type=\"text/css\">\n",
              "#T_86212_row15_col1 {\n",
              "  background-color: lightgreen;\n",
              "}\n",
              "</style>\n",
              "<table id=\"T_86212\">\n",
              "  <thead>\n",
              "    <tr>\n",
              "      <th class=\"blank level0\" >&nbsp;</th>\n",
              "      <th id=\"T_86212_level0_col0\" class=\"col_heading level0 col0\" >Description</th>\n",
              "      <th id=\"T_86212_level0_col1\" class=\"col_heading level0 col1\" >Value</th>\n",
              "    </tr>\n",
              "  </thead>\n",
              "  <tbody>\n",
              "    <tr>\n",
              "      <th id=\"T_86212_level0_row0\" class=\"row_heading level0 row0\" >0</th>\n",
              "      <td id=\"T_86212_row0_col0\" class=\"data row0 col0\" >session_id</td>\n",
              "      <td id=\"T_86212_row0_col1\" class=\"data row0 col1\" >4019</td>\n",
              "    </tr>\n",
              "    <tr>\n",
              "      <th id=\"T_86212_level0_row1\" class=\"row_heading level0 row1\" >1</th>\n",
              "      <td id=\"T_86212_row1_col0\" class=\"data row1 col0\" >Target</td>\n",
              "      <td id=\"T_86212_row1_col1\" class=\"data row1 col1\" >DS_STATUS_ITEM</td>\n",
              "    </tr>\n",
              "    <tr>\n",
              "      <th id=\"T_86212_level0_row2\" class=\"row_heading level0 row2\" >2</th>\n",
              "      <td id=\"T_86212_row2_col0\" class=\"data row2 col0\" >Target Type</td>\n",
              "      <td id=\"T_86212_row2_col1\" class=\"data row2 col1\" >Binary</td>\n",
              "    </tr>\n",
              "    <tr>\n",
              "      <th id=\"T_86212_level0_row3\" class=\"row_heading level0 row3\" >3</th>\n",
              "      <td id=\"T_86212_row3_col0\" class=\"data row3 col0\" >Label Encoded</td>\n",
              "      <td id=\"T_86212_row3_col1\" class=\"data row3 col1\" >None</td>\n",
              "    </tr>\n",
              "    <tr>\n",
              "      <th id=\"T_86212_level0_row4\" class=\"row_heading level0 row4\" >4</th>\n",
              "      <td id=\"T_86212_row4_col0\" class=\"data row4 col0\" >Original Data</td>\n",
              "      <td id=\"T_86212_row4_col1\" class=\"data row4 col1\" >(300000, 14)</td>\n",
              "    </tr>\n",
              "    <tr>\n",
              "      <th id=\"T_86212_level0_row5\" class=\"row_heading level0 row5\" >5</th>\n",
              "      <td id=\"T_86212_row5_col0\" class=\"data row5 col0\" >Missing Values</td>\n",
              "      <td id=\"T_86212_row5_col1\" class=\"data row5 col1\" >False</td>\n",
              "    </tr>\n",
              "    <tr>\n",
              "      <th id=\"T_86212_level0_row6\" class=\"row_heading level0 row6\" >6</th>\n",
              "      <td id=\"T_86212_row6_col0\" class=\"data row6 col0\" >Numeric Features</td>\n",
              "      <td id=\"T_86212_row6_col1\" class=\"data row6 col1\" >13</td>\n",
              "    </tr>\n",
              "    <tr>\n",
              "      <th id=\"T_86212_level0_row7\" class=\"row_heading level0 row7\" >7</th>\n",
              "      <td id=\"T_86212_row7_col0\" class=\"data row7 col0\" >Categorical Features</td>\n",
              "      <td id=\"T_86212_row7_col1\" class=\"data row7 col1\" >0</td>\n",
              "    </tr>\n",
              "    <tr>\n",
              "      <th id=\"T_86212_level0_row8\" class=\"row_heading level0 row8\" >8</th>\n",
              "      <td id=\"T_86212_row8_col0\" class=\"data row8 col0\" >Transformed Train Set</td>\n",
              "      <td id=\"T_86212_row8_col1\" class=\"data row8 col1\" >(300000, 13)</td>\n",
              "    </tr>\n",
              "    <tr>\n",
              "      <th id=\"T_86212_level0_row9\" class=\"row_heading level0 row9\" >9</th>\n",
              "      <td id=\"T_86212_row9_col0\" class=\"data row9 col0\" >Transformed Test Set</td>\n",
              "      <td id=\"T_86212_row9_col1\" class=\"data row9 col1\" >(100000, 13)</td>\n",
              "    </tr>\n",
              "    <tr>\n",
              "      <th id=\"T_86212_level0_row10\" class=\"row_heading level0 row10\" >10</th>\n",
              "      <td id=\"T_86212_row10_col0\" class=\"data row10 col0\" >Shuffle Train-Test</td>\n",
              "      <td id=\"T_86212_row10_col1\" class=\"data row10 col1\" >True</td>\n",
              "    </tr>\n",
              "    <tr>\n",
              "      <th id=\"T_86212_level0_row11\" class=\"row_heading level0 row11\" >11</th>\n",
              "      <td id=\"T_86212_row11_col0\" class=\"data row11 col0\" >Stratify Train-Test</td>\n",
              "      <td id=\"T_86212_row11_col1\" class=\"data row11 col1\" >False</td>\n",
              "    </tr>\n",
              "    <tr>\n",
              "      <th id=\"T_86212_level0_row12\" class=\"row_heading level0 row12\" >12</th>\n",
              "      <td id=\"T_86212_row12_col0\" class=\"data row12 col0\" >Fold Generator</td>\n",
              "      <td id=\"T_86212_row12_col1\" class=\"data row12 col1\" >StratifiedKFold</td>\n",
              "    </tr>\n",
              "    <tr>\n",
              "      <th id=\"T_86212_level0_row13\" class=\"row_heading level0 row13\" >13</th>\n",
              "      <td id=\"T_86212_row13_col0\" class=\"data row13 col0\" >Fold Number</td>\n",
              "      <td id=\"T_86212_row13_col1\" class=\"data row13 col1\" >10</td>\n",
              "    </tr>\n",
              "    <tr>\n",
              "      <th id=\"T_86212_level0_row14\" class=\"row_heading level0 row14\" >14</th>\n",
              "      <td id=\"T_86212_row14_col0\" class=\"data row14 col0\" >CPU Jobs</td>\n",
              "      <td id=\"T_86212_row14_col1\" class=\"data row14 col1\" >-1</td>\n",
              "    </tr>\n",
              "    <tr>\n",
              "      <th id=\"T_86212_level0_row15\" class=\"row_heading level0 row15\" >15</th>\n",
              "      <td id=\"T_86212_row15_col0\" class=\"data row15 col0\" >Use GPU</td>\n",
              "      <td id=\"T_86212_row15_col1\" class=\"data row15 col1\" >True</td>\n",
              "    </tr>\n",
              "    <tr>\n",
              "      <th id=\"T_86212_level0_row16\" class=\"row_heading level0 row16\" >16</th>\n",
              "      <td id=\"T_86212_row16_col0\" class=\"data row16 col0\" >Log Experiment</td>\n",
              "      <td id=\"T_86212_row16_col1\" class=\"data row16 col1\" >False</td>\n",
              "    </tr>\n",
              "    <tr>\n",
              "      <th id=\"T_86212_level0_row17\" class=\"row_heading level0 row17\" >17</th>\n",
              "      <td id=\"T_86212_row17_col0\" class=\"data row17 col0\" >Experiment Name</td>\n",
              "      <td id=\"T_86212_row17_col1\" class=\"data row17 col1\" >clf-default-name</td>\n",
              "    </tr>\n",
              "    <tr>\n",
              "      <th id=\"T_86212_level0_row18\" class=\"row_heading level0 row18\" >18</th>\n",
              "      <td id=\"T_86212_row18_col0\" class=\"data row18 col0\" >USI</td>\n",
              "      <td id=\"T_86212_row18_col1\" class=\"data row18 col1\" >6864</td>\n",
              "    </tr>\n",
              "    <tr>\n",
              "      <th id=\"T_86212_level0_row19\" class=\"row_heading level0 row19\" >19</th>\n",
              "      <td id=\"T_86212_row19_col0\" class=\"data row19 col0\" >Fix Imbalance</td>\n",
              "      <td id=\"T_86212_row19_col1\" class=\"data row19 col1\" >False</td>\n",
              "    </tr>\n",
              "    <tr>\n",
              "      <th id=\"T_86212_level0_row20\" class=\"row_heading level0 row20\" >20</th>\n",
              "      <td id=\"T_86212_row20_col0\" class=\"data row20 col0\" >Fix Imbalance Method</td>\n",
              "      <td id=\"T_86212_row20_col1\" class=\"data row20 col1\" >SMOTE</td>\n",
              "    </tr>\n",
              "  </tbody>\n",
              "</table>\n"
            ]
          },
          "metadata": {}
        }
      ]
    },
    {
      "cell_type": "code",
      "source": [
        "best = compare_models()"
      ],
      "metadata": {
        "colab": {
          "base_uri": "https://localhost:8080/",
          "height": 333,
          "referenced_widgets": [
            "0972dd24f9a94df1b5c21c210f9f1f70",
            "f653f512ba1a4665ade00352678671e7",
            "53c40f578c684469a25f7ef481a2b145"
          ]
        },
        "id": "VZKDW5UlzHmy",
        "outputId": "024cd0aa-0603-4963-c16f-69b9a6168706"
      },
      "execution_count": null,
      "outputs": [
        {
          "output_type": "display_data",
          "data": {
            "text/plain": [
              "<pandas.io.formats.style.Styler at 0x200f412d9a0>"
            ],
            "text/html": [
              "<style type=\"text/css\">\n",
              "#T_9f8f0 th {\n",
              "  text-align: left;\n",
              "}\n",
              "#T_9f8f0_row0_col0, #T_9f8f0_row0_col3, #T_9f8f0_row0_col4, #T_9f8f0_row1_col0, #T_9f8f0_row1_col1, #T_9f8f0_row1_col2, #T_9f8f0_row1_col3, #T_9f8f0_row1_col4, #T_9f8f0_row1_col5, #T_9f8f0_row1_col6, #T_9f8f0_row1_col7, #T_9f8f0_row2_col0, #T_9f8f0_row2_col1, #T_9f8f0_row2_col2, #T_9f8f0_row2_col3, #T_9f8f0_row2_col5, #T_9f8f0_row2_col6, #T_9f8f0_row2_col7, #T_9f8f0_row3_col0, #T_9f8f0_row3_col1, #T_9f8f0_row3_col2, #T_9f8f0_row3_col3, #T_9f8f0_row3_col4, #T_9f8f0_row3_col5, #T_9f8f0_row3_col6, #T_9f8f0_row3_col7, #T_9f8f0_row4_col0, #T_9f8f0_row4_col1, #T_9f8f0_row4_col2, #T_9f8f0_row4_col3, #T_9f8f0_row4_col4, #T_9f8f0_row4_col5, #T_9f8f0_row4_col6, #T_9f8f0_row4_col7, #T_9f8f0_row5_col0, #T_9f8f0_row5_col1, #T_9f8f0_row5_col2, #T_9f8f0_row5_col3, #T_9f8f0_row5_col4, #T_9f8f0_row5_col5, #T_9f8f0_row5_col6, #T_9f8f0_row5_col7, #T_9f8f0_row6_col0, #T_9f8f0_row6_col1, #T_9f8f0_row6_col2, #T_9f8f0_row6_col3, #T_9f8f0_row6_col4, #T_9f8f0_row6_col5, #T_9f8f0_row6_col6, #T_9f8f0_row6_col7, #T_9f8f0_row7_col0, #T_9f8f0_row7_col1, #T_9f8f0_row7_col2, #T_9f8f0_row7_col3, #T_9f8f0_row7_col4, #T_9f8f0_row7_col5, #T_9f8f0_row7_col6, #T_9f8f0_row7_col7, #T_9f8f0_row8_col0, #T_9f8f0_row8_col1, #T_9f8f0_row8_col2, #T_9f8f0_row8_col3, #T_9f8f0_row8_col4, #T_9f8f0_row8_col5, #T_9f8f0_row8_col6, #T_9f8f0_row8_col7, #T_9f8f0_row9_col0, #T_9f8f0_row9_col1, #T_9f8f0_row9_col2, #T_9f8f0_row9_col3, #T_9f8f0_row9_col4, #T_9f8f0_row9_col5, #T_9f8f0_row9_col6, #T_9f8f0_row9_col7, #T_9f8f0_row10_col0, #T_9f8f0_row10_col1, #T_9f8f0_row10_col2, #T_9f8f0_row10_col3, #T_9f8f0_row10_col4, #T_9f8f0_row10_col5, #T_9f8f0_row10_col6, #T_9f8f0_row10_col7, #T_9f8f0_row11_col0, #T_9f8f0_row11_col1, #T_9f8f0_row11_col2, #T_9f8f0_row11_col3, #T_9f8f0_row11_col4, #T_9f8f0_row11_col5, #T_9f8f0_row11_col6, #T_9f8f0_row11_col7, #T_9f8f0_row12_col0, #T_9f8f0_row12_col1, #T_9f8f0_row12_col2, #T_9f8f0_row12_col3, #T_9f8f0_row12_col4, #T_9f8f0_row12_col5, #T_9f8f0_row12_col6, #T_9f8f0_row12_col7, #T_9f8f0_row13_col0, #T_9f8f0_row13_col1, #T_9f8f0_row13_col2, #T_9f8f0_row13_col4, #T_9f8f0_row13_col5, #T_9f8f0_row13_col6, #T_9f8f0_row13_col7 {\n",
              "  text-align: left;\n",
              "}\n",
              "#T_9f8f0_row0_col1, #T_9f8f0_row0_col2, #T_9f8f0_row0_col5, #T_9f8f0_row0_col6, #T_9f8f0_row0_col7, #T_9f8f0_row2_col4, #T_9f8f0_row13_col3 {\n",
              "  text-align: left;\n",
              "  background-color: yellow;\n",
              "}\n",
              "#T_9f8f0_row0_col8, #T_9f8f0_row1_col8, #T_9f8f0_row2_col8, #T_9f8f0_row3_col8, #T_9f8f0_row4_col8, #T_9f8f0_row5_col8, #T_9f8f0_row6_col8, #T_9f8f0_row7_col8, #T_9f8f0_row8_col8, #T_9f8f0_row9_col8, #T_9f8f0_row10_col8, #T_9f8f0_row11_col8, #T_9f8f0_row12_col8 {\n",
              "  text-align: left;\n",
              "  background-color: lightgrey;\n",
              "}\n",
              "#T_9f8f0_row13_col8 {\n",
              "  text-align: left;\n",
              "  background-color: yellow;\n",
              "  background-color: lightgrey;\n",
              "}\n",
              "</style>\n",
              "<table id=\"T_9f8f0\">\n",
              "  <thead>\n",
              "    <tr>\n",
              "      <th class=\"blank level0\" >&nbsp;</th>\n",
              "      <th id=\"T_9f8f0_level0_col0\" class=\"col_heading level0 col0\" >Model</th>\n",
              "      <th id=\"T_9f8f0_level0_col1\" class=\"col_heading level0 col1\" >Accuracy</th>\n",
              "      <th id=\"T_9f8f0_level0_col2\" class=\"col_heading level0 col2\" >AUC</th>\n",
              "      <th id=\"T_9f8f0_level0_col3\" class=\"col_heading level0 col3\" >Recall</th>\n",
              "      <th id=\"T_9f8f0_level0_col4\" class=\"col_heading level0 col4\" >Prec.</th>\n",
              "      <th id=\"T_9f8f0_level0_col5\" class=\"col_heading level0 col5\" >F1</th>\n",
              "      <th id=\"T_9f8f0_level0_col6\" class=\"col_heading level0 col6\" >Kappa</th>\n",
              "      <th id=\"T_9f8f0_level0_col7\" class=\"col_heading level0 col7\" >MCC</th>\n",
              "      <th id=\"T_9f8f0_level0_col8\" class=\"col_heading level0 col8\" >TT (Sec)</th>\n",
              "    </tr>\n",
              "  </thead>\n",
              "  <tbody>\n",
              "    <tr>\n",
              "      <th id=\"T_9f8f0_level0_row0\" class=\"row_heading level0 row0\" >rf</th>\n",
              "      <td id=\"T_9f8f0_row0_col0\" class=\"data row0 col0\" >Random Forest Classifier</td>\n",
              "      <td id=\"T_9f8f0_row0_col1\" class=\"data row0 col1\" >0.7305</td>\n",
              "      <td id=\"T_9f8f0_row0_col2\" class=\"data row0 col2\" >0.8139</td>\n",
              "      <td id=\"T_9f8f0_row0_col3\" class=\"data row0 col3\" >0.7441</td>\n",
              "      <td id=\"T_9f8f0_row0_col4\" class=\"data row0 col4\" >0.7249</td>\n",
              "      <td id=\"T_9f8f0_row0_col5\" class=\"data row0 col5\" >0.7343</td>\n",
              "      <td id=\"T_9f8f0_row0_col6\" class=\"data row0 col6\" >0.4610</td>\n",
              "      <td id=\"T_9f8f0_row0_col7\" class=\"data row0 col7\" >0.4612</td>\n",
              "      <td id=\"T_9f8f0_row0_col8\" class=\"data row0 col8\" >8.8800</td>\n",
              "    </tr>\n",
              "    <tr>\n",
              "      <th id=\"T_9f8f0_level0_row1\" class=\"row_heading level0 row1\" >dt</th>\n",
              "      <td id=\"T_9f8f0_row1_col0\" class=\"data row1 col0\" >Decision Tree Classifier</td>\n",
              "      <td id=\"T_9f8f0_row1_col1\" class=\"data row1 col1\" >0.7275</td>\n",
              "      <td id=\"T_9f8f0_row1_col2\" class=\"data row1 col2\" >0.7971</td>\n",
              "      <td id=\"T_9f8f0_row1_col3\" class=\"data row1 col3\" >0.7169</td>\n",
              "      <td id=\"T_9f8f0_row1_col4\" class=\"data row1 col4\" >0.7329</td>\n",
              "      <td id=\"T_9f8f0_row1_col5\" class=\"data row1 col5\" >0.7248</td>\n",
              "      <td id=\"T_9f8f0_row1_col6\" class=\"data row1 col6\" >0.4550</td>\n",
              "      <td id=\"T_9f8f0_row1_col7\" class=\"data row1 col7\" >0.4552</td>\n",
              "      <td id=\"T_9f8f0_row1_col8\" class=\"data row1 col8\" >0.8730</td>\n",
              "    </tr>\n",
              "    <tr>\n",
              "      <th id=\"T_9f8f0_level0_row2\" class=\"row_heading level0 row2\" >et</th>\n",
              "      <td id=\"T_9f8f0_row2_col0\" class=\"data row2 col0\" >Extra Trees Classifier</td>\n",
              "      <td id=\"T_9f8f0_row2_col1\" class=\"data row2 col1\" >0.7274</td>\n",
              "      <td id=\"T_9f8f0_row2_col2\" class=\"data row2 col2\" >0.8114</td>\n",
              "      <td id=\"T_9f8f0_row2_col3\" class=\"data row2 col3\" >0.7152</td>\n",
              "      <td id=\"T_9f8f0_row2_col4\" class=\"data row2 col4\" >0.7335</td>\n",
              "      <td id=\"T_9f8f0_row2_col5\" class=\"data row2 col5\" >0.7242</td>\n",
              "      <td id=\"T_9f8f0_row2_col6\" class=\"data row2 col6\" >0.4548</td>\n",
              "      <td id=\"T_9f8f0_row2_col7\" class=\"data row2 col7\" >0.4549</td>\n",
              "      <td id=\"T_9f8f0_row2_col8\" class=\"data row2 col8\" >9.1410</td>\n",
              "    </tr>\n",
              "    <tr>\n",
              "      <th id=\"T_9f8f0_level0_row3\" class=\"row_heading level0 row3\" >knn</th>\n",
              "      <td id=\"T_9f8f0_row3_col0\" class=\"data row3 col0\" >K Neighbors Classifier</td>\n",
              "      <td id=\"T_9f8f0_row3_col1\" class=\"data row3 col1\" >0.6838</td>\n",
              "      <td id=\"T_9f8f0_row3_col2\" class=\"data row3 col2\" >0.7529</td>\n",
              "      <td id=\"T_9f8f0_row3_col3\" class=\"data row3 col3\" >0.7066</td>\n",
              "      <td id=\"T_9f8f0_row3_col4\" class=\"data row3 col4\" >0.6762</td>\n",
              "      <td id=\"T_9f8f0_row3_col5\" class=\"data row3 col5\" >0.6911</td>\n",
              "      <td id=\"T_9f8f0_row3_col6\" class=\"data row3 col6\" >0.3675</td>\n",
              "      <td id=\"T_9f8f0_row3_col7\" class=\"data row3 col7\" >0.3679</td>\n",
              "      <td id=\"T_9f8f0_row3_col8\" class=\"data row3 col8\" >7.7850</td>\n",
              "    </tr>\n",
              "    <tr>\n",
              "      <th id=\"T_9f8f0_level0_row4\" class=\"row_heading level0 row4\" >lightgbm</th>\n",
              "      <td id=\"T_9f8f0_row4_col0\" class=\"data row4 col0\" >Light Gradient Boosting Machine</td>\n",
              "      <td id=\"T_9f8f0_row4_col1\" class=\"data row4 col1\" >0.6509</td>\n",
              "      <td id=\"T_9f8f0_row4_col2\" class=\"data row4 col2\" >0.7092</td>\n",
              "      <td id=\"T_9f8f0_row4_col3\" class=\"data row4 col3\" >0.6148</td>\n",
              "      <td id=\"T_9f8f0_row4_col4\" class=\"data row4 col4\" >0.6632</td>\n",
              "      <td id=\"T_9f8f0_row4_col5\" class=\"data row4 col5\" >0.6381</td>\n",
              "      <td id=\"T_9f8f0_row4_col6\" class=\"data row4 col6\" >0.3018</td>\n",
              "      <td id=\"T_9f8f0_row4_col7\" class=\"data row4 col7\" >0.3027</td>\n",
              "      <td id=\"T_9f8f0_row4_col8\" class=\"data row4 col8\" >1.6970</td>\n",
              "    </tr>\n",
              "    <tr>\n",
              "      <th id=\"T_9f8f0_level0_row5\" class=\"row_heading level0 row5\" >gbc</th>\n",
              "      <td id=\"T_9f8f0_row5_col0\" class=\"data row5 col0\" >Gradient Boosting Classifier</td>\n",
              "      <td id=\"T_9f8f0_row5_col1\" class=\"data row5 col1\" >0.6184</td>\n",
              "      <td id=\"T_9f8f0_row5_col2\" class=\"data row5 col2\" >0.6702</td>\n",
              "      <td id=\"T_9f8f0_row5_col3\" class=\"data row5 col3\" >0.5528</td>\n",
              "      <td id=\"T_9f8f0_row5_col4\" class=\"data row5 col4\" >0.6369</td>\n",
              "      <td id=\"T_9f8f0_row5_col5\" class=\"data row5 col5\" >0.5918</td>\n",
              "      <td id=\"T_9f8f0_row5_col6\" class=\"data row5 col6\" >0.2368</td>\n",
              "      <td id=\"T_9f8f0_row5_col7\" class=\"data row5 col7\" >0.2389</td>\n",
              "      <td id=\"T_9f8f0_row5_col8\" class=\"data row5 col8\" >17.7720</td>\n",
              "    </tr>\n",
              "    <tr>\n",
              "      <th id=\"T_9f8f0_level0_row6\" class=\"row_heading level0 row6\" >ada</th>\n",
              "      <td id=\"T_9f8f0_row6_col0\" class=\"data row6 col0\" >Ada Boost Classifier</td>\n",
              "      <td id=\"T_9f8f0_row6_col1\" class=\"data row6 col1\" >0.6044</td>\n",
              "      <td id=\"T_9f8f0_row6_col2\" class=\"data row6 col2\" >0.6376</td>\n",
              "      <td id=\"T_9f8f0_row6_col3\" class=\"data row6 col3\" >0.5527</td>\n",
              "      <td id=\"T_9f8f0_row6_col4\" class=\"data row6 col4\" >0.6171</td>\n",
              "      <td id=\"T_9f8f0_row6_col5\" class=\"data row6 col5\" >0.5830</td>\n",
              "      <td id=\"T_9f8f0_row6_col6\" class=\"data row6 col6\" >0.2089</td>\n",
              "      <td id=\"T_9f8f0_row6_col7\" class=\"data row6 col7\" >0.2101</td>\n",
              "      <td id=\"T_9f8f0_row6_col8\" class=\"data row6 col8\" >5.6760</td>\n",
              "    </tr>\n",
              "    <tr>\n",
              "      <th id=\"T_9f8f0_level0_row7\" class=\"row_heading level0 row7\" >qda</th>\n",
              "      <td id=\"T_9f8f0_row7_col0\" class=\"data row7 col0\" >Quadratic Discriminant Analysis</td>\n",
              "      <td id=\"T_9f8f0_row7_col1\" class=\"data row7 col1\" >0.5960</td>\n",
              "      <td id=\"T_9f8f0_row7_col2\" class=\"data row7 col2\" >0.6365</td>\n",
              "      <td id=\"T_9f8f0_row7_col3\" class=\"data row7 col3\" >0.4760</td>\n",
              "      <td id=\"T_9f8f0_row7_col4\" class=\"data row7 col4\" >0.6271</td>\n",
              "      <td id=\"T_9f8f0_row7_col5\" class=\"data row7 col5\" >0.5412</td>\n",
              "      <td id=\"T_9f8f0_row7_col6\" class=\"data row7 col6\" >0.1922</td>\n",
              "      <td id=\"T_9f8f0_row7_col7\" class=\"data row7 col7\" >0.1981</td>\n",
              "      <td id=\"T_9f8f0_row7_col8\" class=\"data row7 col8\" >0.1950</td>\n",
              "    </tr>\n",
              "    <tr>\n",
              "      <th id=\"T_9f8f0_level0_row8\" class=\"row_heading level0 row8\" >lr</th>\n",
              "      <td id=\"T_9f8f0_row8_col0\" class=\"data row8 col0\" >Logistic Regression</td>\n",
              "      <td id=\"T_9f8f0_row8_col1\" class=\"data row8 col1\" >0.5932</td>\n",
              "      <td id=\"T_9f8f0_row8_col2\" class=\"data row8 col2\" >0.6226</td>\n",
              "      <td id=\"T_9f8f0_row8_col3\" class=\"data row8 col3\" >0.4844</td>\n",
              "      <td id=\"T_9f8f0_row8_col4\" class=\"data row8 col4\" >0.6199</td>\n",
              "      <td id=\"T_9f8f0_row8_col5\" class=\"data row8 col5\" >0.5438</td>\n",
              "      <td id=\"T_9f8f0_row8_col6\" class=\"data row8 col6\" >0.1866</td>\n",
              "      <td id=\"T_9f8f0_row8_col7\" class=\"data row8 col7\" >0.1912</td>\n",
              "      <td id=\"T_9f8f0_row8_col8\" class=\"data row8 col8\" >3.0410</td>\n",
              "    </tr>\n",
              "    <tr>\n",
              "      <th id=\"T_9f8f0_level0_row9\" class=\"row_heading level0 row9\" >ridge</th>\n",
              "      <td id=\"T_9f8f0_row9_col0\" class=\"data row9 col0\" >Ridge Classifier</td>\n",
              "      <td id=\"T_9f8f0_row9_col1\" class=\"data row9 col1\" >0.5924</td>\n",
              "      <td id=\"T_9f8f0_row9_col2\" class=\"data row9 col2\" >0.0000</td>\n",
              "      <td id=\"T_9f8f0_row9_col3\" class=\"data row9 col3\" >0.4847</td>\n",
              "      <td id=\"T_9f8f0_row9_col4\" class=\"data row9 col4\" >0.6186</td>\n",
              "      <td id=\"T_9f8f0_row9_col5\" class=\"data row9 col5\" >0.5435</td>\n",
              "      <td id=\"T_9f8f0_row9_col6\" class=\"data row9 col6\" >0.1850</td>\n",
              "      <td id=\"T_9f8f0_row9_col7\" class=\"data row9 col7\" >0.1895</td>\n",
              "      <td id=\"T_9f8f0_row9_col8\" class=\"data row9 col8\" >0.1430</td>\n",
              "    </tr>\n",
              "    <tr>\n",
              "      <th id=\"T_9f8f0_level0_row10\" class=\"row_heading level0 row10\" >lda</th>\n",
              "      <td id=\"T_9f8f0_row10_col0\" class=\"data row10 col0\" >Linear Discriminant Analysis</td>\n",
              "      <td id=\"T_9f8f0_row10_col1\" class=\"data row10 col1\" >0.5924</td>\n",
              "      <td id=\"T_9f8f0_row10_col2\" class=\"data row10 col2\" >0.6227</td>\n",
              "      <td id=\"T_9f8f0_row10_col3\" class=\"data row10 col3\" >0.4847</td>\n",
              "      <td id=\"T_9f8f0_row10_col4\" class=\"data row10 col4\" >0.6185</td>\n",
              "      <td id=\"T_9f8f0_row10_col5\" class=\"data row10 col5\" >0.5435</td>\n",
              "      <td id=\"T_9f8f0_row10_col6\" class=\"data row10 col6\" >0.1850</td>\n",
              "      <td id=\"T_9f8f0_row10_col7\" class=\"data row10 col7\" >0.1895</td>\n",
              "      <td id=\"T_9f8f0_row10_col8\" class=\"data row10 col8\" >0.4260</td>\n",
              "    </tr>\n",
              "    <tr>\n",
              "      <th id=\"T_9f8f0_level0_row11\" class=\"row_heading level0 row11\" >nb</th>\n",
              "      <td id=\"T_9f8f0_row11_col0\" class=\"data row11 col0\" >Naive Bayes</td>\n",
              "      <td id=\"T_9f8f0_row11_col1\" class=\"data row11 col1\" >0.5708</td>\n",
              "      <td id=\"T_9f8f0_row11_col2\" class=\"data row11 col2\" >0.5998</td>\n",
              "      <td id=\"T_9f8f0_row11_col3\" class=\"data row11 col3\" >0.4553</td>\n",
              "      <td id=\"T_9f8f0_row11_col4\" class=\"data row11 col4\" >0.5928</td>\n",
              "      <td id=\"T_9f8f0_row11_col5\" class=\"data row11 col5\" >0.5150</td>\n",
              "      <td id=\"T_9f8f0_row11_col6\" class=\"data row11 col6\" >0.1418</td>\n",
              "      <td id=\"T_9f8f0_row11_col7\" class=\"data row11 col7\" >0.1458</td>\n",
              "      <td id=\"T_9f8f0_row11_col8\" class=\"data row11 col8\" >0.1460</td>\n",
              "    </tr>\n",
              "    <tr>\n",
              "      <th id=\"T_9f8f0_level0_row12\" class=\"row_heading level0 row12\" >svm</th>\n",
              "      <td id=\"T_9f8f0_row12_col0\" class=\"data row12 col0\" >SVM - Linear Kernel</td>\n",
              "      <td id=\"T_9f8f0_row12_col1\" class=\"data row12 col1\" >0.5650</td>\n",
              "      <td id=\"T_9f8f0_row12_col2\" class=\"data row12 col2\" >0.0000</td>\n",
              "      <td id=\"T_9f8f0_row12_col3\" class=\"data row12 col3\" >0.4361</td>\n",
              "      <td id=\"T_9f8f0_row12_col4\" class=\"data row12 col4\" >0.6281</td>\n",
              "      <td id=\"T_9f8f0_row12_col5\" class=\"data row12 col5\" >0.4688</td>\n",
              "      <td id=\"T_9f8f0_row12_col6\" class=\"data row12 col6\" >0.1302</td>\n",
              "      <td id=\"T_9f8f0_row12_col7\" class=\"data row12 col7\" >0.1534</td>\n",
              "      <td id=\"T_9f8f0_row12_col8\" class=\"data row12 col8\" >7.7290</td>\n",
              "    </tr>\n",
              "    <tr>\n",
              "      <th id=\"T_9f8f0_level0_row13\" class=\"row_heading level0 row13\" >dummy</th>\n",
              "      <td id=\"T_9f8f0_row13_col0\" class=\"data row13 col0\" >Dummy Classifier</td>\n",
              "      <td id=\"T_9f8f0_row13_col1\" class=\"data row13 col1\" >0.5006</td>\n",
              "      <td id=\"T_9f8f0_row13_col2\" class=\"data row13 col2\" >0.5000</td>\n",
              "      <td id=\"T_9f8f0_row13_col3\" class=\"data row13 col3\" >1.0000</td>\n",
              "      <td id=\"T_9f8f0_row13_col4\" class=\"data row13 col4\" >0.5006</td>\n",
              "      <td id=\"T_9f8f0_row13_col5\" class=\"data row13 col5\" >0.6672</td>\n",
              "      <td id=\"T_9f8f0_row13_col6\" class=\"data row13 col6\" >0.0000</td>\n",
              "      <td id=\"T_9f8f0_row13_col7\" class=\"data row13 col7\" >0.0000</td>\n",
              "      <td id=\"T_9f8f0_row13_col8\" class=\"data row13 col8\" >0.0850</td>\n",
              "    </tr>\n",
              "  </tbody>\n",
              "</table>\n"
            ]
          },
          "metadata": {}
        }
      ]
    },
    {
      "cell_type": "code",
      "source": [
        "print(best)"
      ],
      "metadata": {
        "colab": {
          "base_uri": "https://localhost:8080/"
        },
        "id": "jdCsPcPEzJ3T",
        "outputId": "52a63f95-4736-4fb0-bd3d-00212ff5e611"
      },
      "execution_count": null,
      "outputs": [
        {
          "output_type": "stream",
          "name": "stdout",
          "text": [
            "RandomForestClassifier(bootstrap=True, ccp_alpha=0.0, class_weight=None,\n",
            "                       criterion='gini', max_depth=None, max_features='auto',\n",
            "                       max_leaf_nodes=None, max_samples=None,\n",
            "                       min_impurity_decrease=0.0, min_impurity_split=None,\n",
            "                       min_samples_leaf=1, min_samples_split=2,\n",
            "                       min_weight_fraction_leaf=0.0, n_estimators=100,\n",
            "                       n_jobs=-1, oob_score=False, random_state=4019, verbose=0,\n",
            "                       warm_start=False)\n"
          ]
        }
      ]
    },
    {
      "cell_type": "markdown",
      "source": [
        "##### Testando o melhor modelo"
      ],
      "metadata": {
        "id": "jFPa8c6aIzWO"
      }
    },
    {
      "cell_type": "code",
      "source": [
        "clf = RandomForestClassifier(bootstrap=True, ccp_alpha=0.0, class_weight=None,\n",
        "                       criterion='gini', max_depth=None, max_features='auto',\n",
        "                       max_leaf_nodes=None, max_samples=None,\n",
        "                       min_impurity_decrease=0.0, min_impurity_split=None,\n",
        "                       min_samples_leaf=1, min_samples_split=2,\n",
        "                       min_weight_fraction_leaf=0.0, n_estimators=100,\n",
        "                       n_jobs=-1, oob_score=False, random_state=4019, verbose=0,\n",
        "                       warm_start=False)"
      ],
      "metadata": {
        "id": "ToMWnREdIzDR"
      },
      "execution_count": null,
      "outputs": []
    },
    {
      "cell_type": "code",
      "source": [
        "clf.fit(X_train, y_train)"
      ],
      "metadata": {
        "colab": {
          "base_uri": "https://localhost:8080/"
        },
        "id": "sEC6eGNhIoQi",
        "outputId": "10e0ac90-c8c0-4daa-93cb-97aa811c62b3"
      },
      "execution_count": null,
      "outputs": [
        {
          "output_type": "execute_result",
          "data": {
            "text/plain": [
              "RandomForestClassifier(bootstrap=True, ccp_alpha=0.0, class_weight=None,\n",
              "                       criterion='gini', max_depth=None, max_features='auto',\n",
              "                       max_leaf_nodes=None, max_samples=None,\n",
              "                       min_impurity_decrease=0.0, min_impurity_split=None,\n",
              "                       min_samples_leaf=1, min_samples_split=2,\n",
              "                       min_weight_fraction_leaf=0.0, n_estimators=100,\n",
              "                       n_jobs=-1, oob_score=False, random_state=4019, verbose=0,\n",
              "                       warm_start=False)"
            ]
          },
          "metadata": {},
          "execution_count": 391
        }
      ]
    },
    {
      "cell_type": "code",
      "source": [
        "predictions = clf.predict(X_test)\n",
        "mtrcs.f1_score(y_test, predictions)"
      ],
      "metadata": {
        "colab": {
          "base_uri": "https://localhost:8080/"
        },
        "id": "omHFEukBI9IQ",
        "outputId": "30c075f6-3c89-464d-f653-234caa22bac1"
      },
      "execution_count": null,
      "outputs": [
        {
          "output_type": "execute_result",
          "data": {
            "text/plain": [
              "0.735818404361856"
            ]
          },
          "metadata": {},
          "execution_count": 392
        }
      ]
    },
    {
      "cell_type": "markdown",
      "source": [
        "#### Submissão 4:"
      ],
      "metadata": {
        "id": "8jKOBrynKIio"
      }
    },
    {
      "cell_type": "code",
      "source": [
        "df_test_ajeitado.head()  # já é ajeitado na seção de oversampling"
      ],
      "metadata": {
        "colab": {
          "base_uri": "https://localhost:8080/",
          "height": 226
        },
        "id": "Ka4M052zJGwd",
        "outputId": "19d22f3c-de06-45c4-879c-21c886371b53"
      },
      "execution_count": null,
      "outputs": [
        {
          "output_type": "execute_result",
          "data": {
            "text/plain": [
              "   DS_TIPO_GUIA  DT_NASCIMENTO  DS_TIPO_PREST_SOLICITANTE    DS_CBO  \\\n",
              "0      0.460883           72.0                   0.447668  0.447613   \n",
              "1      0.615689           12.0                   0.587946  0.491749   \n",
              "2      0.460883           51.0                   0.447668  0.571841   \n",
              "3      0.460883           40.0                   0.473078  0.447613   \n",
              "4      0.460883           68.0                   0.472789  0.491749   \n",
              "\n",
              "   DS_CARATER_ATENDIMENTO  DS_TIPO_ACOMODACAO  QT_DIA_SOLICITADO  \\\n",
              "0                0.473408            0.460972                0.0   \n",
              "1                0.565799            0.630451                3.0   \n",
              "2                0.473408            0.460972                0.0   \n",
              "3                0.473408            0.460972                0.0   \n",
              "4                0.473408            0.460972                0.0   \n",
              "\n",
              "   DS_TIPO_ATENDIMENTO  DS_INDICACAO_CLINICA  DS_TIPO_ITEM  DS_SUBGRUPO  \\\n",
              "0             0.451168              0.445639      0.479598     0.442823   \n",
              "1             0.596401              0.523912      0.479598     0.491475   \n",
              "2             0.717065              0.523912      0.594264     0.607502   \n",
              "3             0.451168              0.445639      0.479598     0.442823   \n",
              "4             0.451168              0.533762      0.479598     0.520678   \n",
              "\n",
              "   DS_GRUPO  QT_SOLICITADA  \n",
              "0  0.462392            1.0  \n",
              "1  0.510640            2.0  \n",
              "2  0.609330            1.0  \n",
              "3  0.462392            1.0  \n",
              "4  0.462392            1.0  "
            ],
            "text/html": [
              "<div>\n",
              "<style scoped>\n",
              "    .dataframe tbody tr th:only-of-type {\n",
              "        vertical-align: middle;\n",
              "    }\n",
              "\n",
              "    .dataframe tbody tr th {\n",
              "        vertical-align: top;\n",
              "    }\n",
              "\n",
              "    .dataframe thead th {\n",
              "        text-align: right;\n",
              "    }\n",
              "</style>\n",
              "<table border=\"1\" class=\"dataframe\">\n",
              "  <thead>\n",
              "    <tr style=\"text-align: right;\">\n",
              "      <th></th>\n",
              "      <th>DS_TIPO_GUIA</th>\n",
              "      <th>DT_NASCIMENTO</th>\n",
              "      <th>DS_TIPO_PREST_SOLICITANTE</th>\n",
              "      <th>DS_CBO</th>\n",
              "      <th>DS_CARATER_ATENDIMENTO</th>\n",
              "      <th>DS_TIPO_ACOMODACAO</th>\n",
              "      <th>QT_DIA_SOLICITADO</th>\n",
              "      <th>DS_TIPO_ATENDIMENTO</th>\n",
              "      <th>DS_INDICACAO_CLINICA</th>\n",
              "      <th>DS_TIPO_ITEM</th>\n",
              "      <th>DS_SUBGRUPO</th>\n",
              "      <th>DS_GRUPO</th>\n",
              "      <th>QT_SOLICITADA</th>\n",
              "    </tr>\n",
              "  </thead>\n",
              "  <tbody>\n",
              "    <tr>\n",
              "      <th>0</th>\n",
              "      <td>0.460883</td>\n",
              "      <td>72.0</td>\n",
              "      <td>0.447668</td>\n",
              "      <td>0.447613</td>\n",
              "      <td>0.473408</td>\n",
              "      <td>0.460972</td>\n",
              "      <td>0.0</td>\n",
              "      <td>0.451168</td>\n",
              "      <td>0.445639</td>\n",
              "      <td>0.479598</td>\n",
              "      <td>0.442823</td>\n",
              "      <td>0.462392</td>\n",
              "      <td>1.0</td>\n",
              "    </tr>\n",
              "    <tr>\n",
              "      <th>1</th>\n",
              "      <td>0.615689</td>\n",
              "      <td>12.0</td>\n",
              "      <td>0.587946</td>\n",
              "      <td>0.491749</td>\n",
              "      <td>0.565799</td>\n",
              "      <td>0.630451</td>\n",
              "      <td>3.0</td>\n",
              "      <td>0.596401</td>\n",
              "      <td>0.523912</td>\n",
              "      <td>0.479598</td>\n",
              "      <td>0.491475</td>\n",
              "      <td>0.510640</td>\n",
              "      <td>2.0</td>\n",
              "    </tr>\n",
              "    <tr>\n",
              "      <th>2</th>\n",
              "      <td>0.460883</td>\n",
              "      <td>51.0</td>\n",
              "      <td>0.447668</td>\n",
              "      <td>0.571841</td>\n",
              "      <td>0.473408</td>\n",
              "      <td>0.460972</td>\n",
              "      <td>0.0</td>\n",
              "      <td>0.717065</td>\n",
              "      <td>0.523912</td>\n",
              "      <td>0.594264</td>\n",
              "      <td>0.607502</td>\n",
              "      <td>0.609330</td>\n",
              "      <td>1.0</td>\n",
              "    </tr>\n",
              "    <tr>\n",
              "      <th>3</th>\n",
              "      <td>0.460883</td>\n",
              "      <td>40.0</td>\n",
              "      <td>0.473078</td>\n",
              "      <td>0.447613</td>\n",
              "      <td>0.473408</td>\n",
              "      <td>0.460972</td>\n",
              "      <td>0.0</td>\n",
              "      <td>0.451168</td>\n",
              "      <td>0.445639</td>\n",
              "      <td>0.479598</td>\n",
              "      <td>0.442823</td>\n",
              "      <td>0.462392</td>\n",
              "      <td>1.0</td>\n",
              "    </tr>\n",
              "    <tr>\n",
              "      <th>4</th>\n",
              "      <td>0.460883</td>\n",
              "      <td>68.0</td>\n",
              "      <td>0.472789</td>\n",
              "      <td>0.491749</td>\n",
              "      <td>0.473408</td>\n",
              "      <td>0.460972</td>\n",
              "      <td>0.0</td>\n",
              "      <td>0.451168</td>\n",
              "      <td>0.533762</td>\n",
              "      <td>0.479598</td>\n",
              "      <td>0.520678</td>\n",
              "      <td>0.462392</td>\n",
              "      <td>1.0</td>\n",
              "    </tr>\n",
              "  </tbody>\n",
              "</table>\n",
              "</div>"
            ]
          },
          "metadata": {},
          "execution_count": 380
        }
      ]
    },
    {
      "cell_type": "markdown",
      "source": [
        "###### Apenas ajeitando todos os dados para treinar"
      ],
      "metadata": {
        "id": "gkxlijNQSCD8"
      }
    },
    {
      "cell_type": "code",
      "source": [
        "## Balanceando os dados\n",
        "from imblearn.over_sampling import RandomOverSampler\n",
        "import category_encoders as ce\n",
        "\n",
        "ros = RandomOverSampler()\n",
        "\n",
        "y = df_.DS_STATUS_ITEM.map({\"Autorizado\":0, \"Negado\":1})\n",
        "X = df_.drop(columns=[\"DS_STATUS_ITEM\"])\n",
        "\n",
        "## balanceando\n",
        "X, y = ros.fit_resample(X,y)\n",
        "\n",
        "enc = ce.TargetEncoder(return_df=True)\n",
        "enc.fit(X, y)\n",
        "\n",
        "X = enc.transform(X)\n",
        "\n",
        "## já tranformando o df_test tambem\n",
        "df_test_ajeitado = ajeita_dados(df_test)\n",
        "df_test_ajeitado = enc.transform(df_test_ajeitado)"
      ],
      "metadata": {
        "id": "2UPA51cNSBA7"
      },
      "execution_count": null,
      "outputs": []
    },
    {
      "cell_type": "markdown",
      "source": [
        "###### treinando o modelo em cima de tooodos os dados do dataset:"
      ],
      "metadata": {
        "id": "T9bLxBbuTR9d"
      }
    },
    {
      "cell_type": "code",
      "source": [
        "clf.fit(X, y)"
      ],
      "metadata": {
        "colab": {
          "base_uri": "https://localhost:8080/"
        },
        "id": "wp702H7PTWsD",
        "outputId": "62227a68-b0c9-4583-efa4-89c9d5deea72"
      },
      "execution_count": null,
      "outputs": [
        {
          "output_type": "execute_result",
          "data": {
            "text/plain": [
              "RandomForestClassifier(bootstrap=True, ccp_alpha=0.0, class_weight=None,\n",
              "                       criterion='gini', max_depth=None, max_features='auto',\n",
              "                       max_leaf_nodes=None, max_samples=None,\n",
              "                       min_impurity_decrease=0.0, min_impurity_split=None,\n",
              "                       min_samples_leaf=1, min_samples_split=2,\n",
              "                       min_weight_fraction_leaf=0.0, n_estimators=100,\n",
              "                       n_jobs=-1, oob_score=False, random_state=4019, verbose=0,\n",
              "                       warm_start=False)"
            ]
          },
          "metadata": {},
          "execution_count": 388
        }
      ]
    },
    {
      "cell_type": "code",
      "source": [
        "predicitions = clf.predict(df_test_ajeitado)"
      ],
      "metadata": {
        "id": "esAzUZAjTctS"
      },
      "execution_count": null,
      "outputs": []
    },
    {
      "cell_type": "code",
      "source": [
        "submeta_papai(\"submissao5\", predicitions)"
      ],
      "metadata": {
        "id": "4-PbnUN_ThRy"
      },
      "execution_count": null,
      "outputs": []
    },
    {
      "cell_type": "markdown",
      "source": [
        "> Picareta mentiroso, deu 0.61 no kaggle... Vamos fazer cross val na mão."
      ],
      "metadata": {
        "id": "U4mKNZ_WUeV3"
      }
    },
    {
      "cell_type": "markdown",
      "source": [
        "#### Cross validation"
      ],
      "metadata": {
        "id": "JjDDNOjzUjO8"
      }
    },
    {
      "cell_type": "code",
      "source": [
        "clf = RandomForestClassifier(n_estimators=100, criterion=\"gini\", max_depth=50, min_samples_split=10, n_jobs=-1)"
      ],
      "metadata": {
        "id": "JRBMYSnNUwBb"
      },
      "execution_count": null,
      "outputs": []
    },
    {
      "cell_type": "code",
      "source": [
        "cval = cross_validate(clf, X_train, y_train, scoring=\"f1\", n_jobs=-1, return_train_score=True, verbose=2)"
      ],
      "metadata": {
        "colab": {
          "base_uri": "https://localhost:8080/"
        },
        "id": "GjuJPixrUcdV",
        "outputId": "4f4f5ea5-2934-461c-cd37-4c3280635cd4"
      },
      "execution_count": null,
      "outputs": [
        {
          "output_type": "stream",
          "name": "stderr",
          "text": [
            "[Parallel(n_jobs=-1)]: Using backend LokyBackend with 16 concurrent workers.\n",
            "[Parallel(n_jobs=-1)]: Done   5 out of   5 | elapsed:   26.3s finished\n"
          ]
        }
      ]
    },
    {
      "cell_type": "code",
      "source": [
        "cval"
      ],
      "metadata": {
        "colab": {
          "base_uri": "https://localhost:8080/"
        },
        "id": "RoqTeOmRUzZE",
        "outputId": "782a1242-04e9-46f8-a825-2d88a50de61e"
      },
      "execution_count": null,
      "outputs": [
        {
          "output_type": "execute_result",
          "data": {
            "text/plain": [
              "{'fit_time': array([20.63887644, 20.77520943, 20.77537274, 21.5237639 , 20.71873164]),\n",
              " 'score_time': array([0.42740917, 0.83852577, 0.95545673, 0.54353666, 0.8485198 ]),\n",
              " 'test_score': array([0.7191135 , 0.71812749, 0.72048137, 0.71651339, 0.72186056]),\n",
              " 'train_score': array([0.79868031, 0.80021045, 0.79956688, 0.79916034, 0.79957307])}"
            ]
          },
          "metadata": {},
          "execution_count": 419
        }
      ]
    },
    {
      "cell_type": "code",
      "source": [
        "clf.fit(X_train, y_train)"
      ],
      "metadata": {
        "colab": {
          "base_uri": "https://localhost:8080/"
        },
        "id": "thAdlgm6U0Jd",
        "outputId": "32f644e0-1e8a-4cb0-9e46-51bf7bd913ea"
      },
      "execution_count": null,
      "outputs": [
        {
          "output_type": "execute_result",
          "data": {
            "text/plain": [
              "RandomForestClassifier(bootstrap=True, ccp_alpha=0.0, class_weight=None,\n",
              "                       criterion='gini', max_depth=50, max_features='auto',\n",
              "                       max_leaf_nodes=None, max_samples=None,\n",
              "                       min_impurity_decrease=0.0, min_impurity_split=None,\n",
              "                       min_samples_leaf=1, min_samples_split=10,\n",
              "                       min_weight_fraction_leaf=0.0, n_estimators=100,\n",
              "                       n_jobs=-1, oob_score=False, random_state=None, verbose=0,\n",
              "                       warm_start=False)"
            ]
          },
          "metadata": {},
          "execution_count": 420
        }
      ]
    },
    {
      "cell_type": "code",
      "source": [
        "pred = clf.predict(X_test)\n",
        "\n",
        "mtrcs.f1_score(y_test, pred)"
      ],
      "metadata": {
        "colab": {
          "base_uri": "https://localhost:8080/"
        },
        "id": "SuSVDmuKWHd_",
        "outputId": "46d2771a-a762-428e-b6c8-1e4297e9253c"
      },
      "execution_count": null,
      "outputs": [
        {
          "output_type": "execute_result",
          "data": {
            "text/plain": [
              "0.7249729924378827"
            ]
          },
          "metadata": {},
          "execution_count": 421
        }
      ]
    },
    {
      "cell_type": "code",
      "source": [
        ""
      ],
      "metadata": {
        "id": "V83qicmYWRM_"
      },
      "execution_count": null,
      "outputs": []
    },
    {
      "cell_type": "markdown",
      "source": [
        "#### Submissão 5:"
      ],
      "metadata": {
        "id": "VZXsumKCWo80"
      }
    },
    {
      "cell_type": "markdown",
      "source": [
        "###### Apenas ajeitando todos os dados para treinar"
      ],
      "metadata": {
        "id": "QThaK8iiWo81"
      }
    },
    {
      "cell_type": "code",
      "source": [
        "## Balanceando os dados\n",
        "from imblearn.over_sampling import RandomOverSampler\n",
        "import category_encoders as ce\n",
        "\n",
        "ros = RandomOverSampler()\n",
        "\n",
        "y = df_.DS_STATUS_ITEM.map({\"Autorizado\":0, \"Negado\":1})\n",
        "X = df_.drop(columns=[\"DS_STATUS_ITEM\"])\n",
        "\n",
        "## balanceando\n",
        "X, y = ros.fit_resample(X,y)\n",
        "\n",
        "enc = ce.TargetEncoder(return_df=True)\n",
        "enc.fit(X, y)\n",
        "\n",
        "X = enc.transform(X)\n",
        "\n",
        "## já tranformando o df_test tambem\n",
        "df_test_ajeitado = ajeita_dados(df_test)\n",
        "df_test_ajeitado = enc.transform(df_test_ajeitado)"
      ],
      "metadata": {
        "id": "2iNe3gJzWo81"
      },
      "execution_count": null,
      "outputs": []
    },
    {
      "cell_type": "markdown",
      "source": [
        "###### treinando o modelo em cima de tooodos os dados do dataset:"
      ],
      "metadata": {
        "id": "9u2MAPooWo81"
      }
    },
    {
      "cell_type": "code",
      "source": [
        "clf.fit(X, y)"
      ],
      "metadata": {
        "colab": {
          "base_uri": "https://localhost:8080/"
        },
        "outputId": "887992b6-4120-4bcf-d91c-a7640e821e8a",
        "id": "kC8usiShWo81"
      },
      "execution_count": null,
      "outputs": [
        {
          "output_type": "execute_result",
          "data": {
            "text/plain": [
              "RandomForestClassifier(bootstrap=True, ccp_alpha=0.0, class_weight=None,\n",
              "                       criterion='gini', max_depth=50, max_features='auto',\n",
              "                       max_leaf_nodes=None, max_samples=None,\n",
              "                       min_impurity_decrease=0.0, min_impurity_split=None,\n",
              "                       min_samples_leaf=1, min_samples_split=10,\n",
              "                       min_weight_fraction_leaf=0.0, n_estimators=100,\n",
              "                       n_jobs=-1, oob_score=False, random_state=None, verbose=0,\n",
              "                       warm_start=False)"
            ]
          },
          "metadata": {},
          "execution_count": 424
        }
      ]
    },
    {
      "cell_type": "code",
      "source": [
        "predicitions = clf.predict(df_test_ajeitado)"
      ],
      "metadata": {
        "id": "Q75AWWYOWo81"
      },
      "execution_count": null,
      "outputs": []
    },
    {
      "cell_type": "code",
      "source": [
        "submeta_papai(\"submissao5\", predicitions)"
      ],
      "metadata": {
        "id": "98CKAQtMWo81"
      },
      "execution_count": null,
      "outputs": []
    },
    {
      "cell_type": "markdown",
      "source": [
        "> 0.64 no kaggle... F"
      ],
      "metadata": {
        "id": "vdY0TaM5XR2v"
      }
    },
    {
      "cell_type": "markdown",
      "source": [
        "### James stein encoder"
      ],
      "metadata": {
        "id": "mONo1QvqXVVy"
      }
    },
    {
      "cell_type": "markdown",
      "source": [
        "#### Random Over sampling + james stein encoder"
      ],
      "metadata": {
        "id": "DCXGm9cRXa5g"
      }
    },
    {
      "cell_type": "code",
      "source": [
        "## Balanceando os dados\n",
        "from imblearn.over_sampling import RandomOverSampler\n",
        "import category_encoders\n",
        "\n",
        "ros = RandomOverSampler()\n",
        "\n",
        "y = df_.DS_STATUS_ITEM.map({\"Autorizado\":0, \"Negado\":1})\n",
        "X = df_.drop(columns=[\"DS_STATUS_ITEM\"])\n",
        "\n",
        "## balanceando\n",
        "X, y = ros.fit_resample(X,y)\n",
        "\n",
        "## dividindo em treino e teste\n",
        "X_train, X_test, X_val, y_train, y_test, y_val = train_val_test(X, y)\n",
        "\n",
        "enc = category_encoders.james_stein.JamesSteinEncoder()\n",
        "\n",
        "enc.fit(X_train, y_train)\n",
        "\n",
        "X_train = enc.transform(X_train, y_train)\n",
        "X_val = enc.transform(X_val, y_val)\n",
        "X_test = enc.transform(X_test, y_test)\n",
        "\n",
        "## já tranformando o df_test tambem\n",
        "df_test_ajeitado = ajeita_dados(df_test)\n",
        "df_test_ajeitado = enc.transform(df_test_ajeitado)"
      ],
      "metadata": {
        "id": "7Qw7uo6LXa5g"
      },
      "execution_count": null,
      "outputs": []
    },
    {
      "cell_type": "markdown",
      "source": [
        "#### Modelando"
      ],
      "metadata": {
        "id": "xIfwNVtUZHOo"
      }
    },
    {
      "cell_type": "markdown",
      "source": [
        "##### Random Forest"
      ],
      "metadata": {
        "id": "5RbwsdfXbIkA"
      }
    },
    {
      "cell_type": "code",
      "source": [
        "clf = RandomForestClassifier(n_estimators=100, criterion=\"gini\", max_depth=None, min_samples_split=20, n_jobs=1)"
      ],
      "metadata": {
        "id": "UHa_-4TiZGJv"
      },
      "execution_count": null,
      "outputs": []
    },
    {
      "cell_type": "code",
      "source": [
        "cval = cross_validate(clf, X_train, y_train, scoring=\"f1\", n_jobs=-1, return_train_score=True, verbose=2)"
      ],
      "metadata": {
        "colab": {
          "base_uri": "https://localhost:8080/"
        },
        "id": "Cabxy7A8ZZh0",
        "outputId": "65ffe9dd-8b6a-45e8-f554-f71cd4ad4089"
      },
      "execution_count": null,
      "outputs": [
        {
          "output_type": "stream",
          "name": "stderr",
          "text": [
            "[Parallel(n_jobs=-1)]: Using backend LokyBackend with 16 concurrent workers.\n",
            "[Parallel(n_jobs=-1)]: Done   5 out of   5 | elapsed:   25.1s finished\n"
          ]
        }
      ]
    },
    {
      "cell_type": "code",
      "source": [
        "cval"
      ],
      "metadata": {
        "colab": {
          "base_uri": "https://localhost:8080/"
        },
        "id": "hPF5TlIgZwkJ",
        "outputId": "d3f5d09f-8db1-45be-cad4-ed7ec27da883"
      },
      "execution_count": null,
      "outputs": [
        {
          "output_type": "execute_result",
          "data": {
            "text/plain": [
              "{'fit_time': array([20.15172815, 21.19513202, 19.98768115, 20.04297829, 20.18150425]),\n",
              " 'score_time': array([0.69575357, 1.35907865, 0.45343709, 0.42849541, 0.68097997]),\n",
              " 'test_score': array([0.71269584, 0.71432614, 0.71383669, 0.71336479, 0.71090758]),\n",
              " 'train_score': array([0.7765196 , 0.77701605, 0.77552712, 0.77719593, 0.77614086])}"
            ]
          },
          "metadata": {},
          "execution_count": 434
        }
      ]
    },
    {
      "cell_type": "code",
      "source": [
        ""
      ],
      "metadata": {
        "id": "f9bckv8kaNEX"
      },
      "execution_count": null,
      "outputs": []
    },
    {
      "cell_type": "markdown",
      "source": [
        "##### Catboost"
      ],
      "metadata": {
        "id": "_hWM6vUMbK4b"
      }
    },
    {
      "cell_type": "code",
      "source": [
        "!pip install catboost"
      ],
      "metadata": {
        "colab": {
          "base_uri": "https://localhost:8080/"
        },
        "id": "NoltdGNqbjQv",
        "outputId": "4c9ed3d7-e326-420d-d2f1-8ffb0b9920e4"
      },
      "execution_count": null,
      "outputs": [
        {
          "output_type": "stream",
          "name": "stdout",
          "text": [
            "Collecting catboost\n",
            "  Downloading catboost-1.0.5-cp38-none-win_amd64.whl (73.9 MB)\n",
            "Requirement already satisfied: matplotlib in c:\\users\\alexv\\anaconda3\\envs\\picareta\\lib\\site-packages (from catboost) (3.5.1)\n",
            "Requirement already satisfied: six in c:\\users\\alexv\\anaconda3\\envs\\picareta\\lib\\site-packages (from catboost) (1.16.0)\n",
            "Collecting graphviz\n",
            "  Using cached graphviz-0.20-py3-none-any.whl (46 kB)\n",
            "Requirement already satisfied: scipy in c:\\users\\alexv\\anaconda3\\envs\\picareta\\lib\\site-packages (from catboost) (1.5.4)\n",
            "Requirement already satisfied: pandas>=0.24.0 in c:\\users\\alexv\\anaconda3\\envs\\picareta\\lib\\site-packages (from catboost) (1.4.2)\n",
            "Requirement already satisfied: numpy>=1.16.0 in c:\\users\\alexv\\anaconda3\\envs\\picareta\\lib\\site-packages (from catboost) (1.19.5)\n",
            "Requirement already satisfied: plotly in c:\\users\\alexv\\anaconda3\\envs\\picareta\\lib\\site-packages (from catboost) (5.7.0)\n",
            "Requirement already satisfied: pytz>=2020.1 in c:\\users\\alexv\\anaconda3\\envs\\picareta\\lib\\site-packages (from pandas>=0.24.0->catboost) (2022.1)\n",
            "Requirement already satisfied: python-dateutil>=2.8.1 in c:\\users\\alexv\\anaconda3\\envs\\picareta\\lib\\site-packages (from pandas>=0.24.0->catboost) (2.8.2)\n",
            "Requirement already satisfied: packaging>=20.0 in c:\\users\\alexv\\anaconda3\\envs\\picareta\\lib\\site-packages (from matplotlib->catboost) (21.3)\n",
            "Requirement already satisfied: fonttools>=4.22.0 in c:\\users\\alexv\\anaconda3\\envs\\picareta\\lib\\site-packages (from matplotlib->catboost) (4.32.0)\n",
            "Requirement already satisfied: cycler>=0.10 in c:\\users\\alexv\\anaconda3\\envs\\picareta\\lib\\site-packages (from matplotlib->catboost) (0.11.0)\n",
            "Requirement already satisfied: pillow>=6.2.0 in c:\\users\\alexv\\anaconda3\\envs\\picareta\\lib\\site-packages (from matplotlib->catboost) (9.1.0)\n",
            "Requirement already satisfied: kiwisolver>=1.0.1 in c:\\users\\alexv\\anaconda3\\envs\\picareta\\lib\\site-packages (from matplotlib->catboost) (1.4.2)\n",
            "Requirement already satisfied: pyparsing>=2.2.1 in c:\\users\\alexv\\anaconda3\\envs\\picareta\\lib\\site-packages (from matplotlib->catboost) (3.0.8)\n",
            "Requirement already satisfied: tenacity>=6.2.0 in c:\\users\\alexv\\anaconda3\\envs\\picareta\\lib\\site-packages (from plotly->catboost) (8.0.1)\n",
            "Installing collected packages: graphviz, catboost\n",
            "Successfully installed catboost-1.0.5 graphviz-0.20\n"
          ]
        }
      ]
    },
    {
      "cell_type": "code",
      "source": [
        "from catboost import CatBoostClassifier"
      ],
      "metadata": {
        "id": "qYx-Y8vqbMaO"
      },
      "execution_count": null,
      "outputs": []
    },
    {
      "cell_type": "code",
      "source": [
        "clf = CatBoostClassifier(iterations=10, learning_rate=0.0001, loss_function=\"CrossEntropy\", \n",
        "                         task_type=\"GPU\",\n",
        "                         verbose=True)"
      ],
      "metadata": {
        "id": "SLX-7qVUbio4"
      },
      "execution_count": null,
      "outputs": []
    },
    {
      "cell_type": "code",
      "source": [
        "clf.fit(X_train, y_train, eval_set=(X_val, y_val), plot=True)"
      ],
      "metadata": {
        "colab": {
          "base_uri": "https://localhost:8080/",
          "height": 242,
          "referenced_widgets": [
            "a8cdf9f7e6264b05bec3707c96f3b340"
          ]
        },
        "id": "qVivsQt8gU6v",
        "outputId": "095b6b24-6e0d-4e8b-ac5d-52a73e0620a7"
      },
      "execution_count": null,
      "outputs": [
        {
          "output_type": "display_data",
          "data": {
            "text/plain": [
              "MetricVisualizer(layout=Layout(align_self='stretch', height='500px'))"
            ],
            "application/vnd.jupyter.widget-view+json": {
              "version_major": 2,
              "version_minor": 0,
              "model_id": "a8cdf9f7e6264b05bec3707c96f3b340"
            }
          },
          "metadata": {}
        },
        {
          "output_type": "stream",
          "name": "stdout",
          "text": [
            "0:\tlearn: 0.6931423\ttest: 0.6931414\tbest: 0.6931414 (0)\ttotal: 5.5ms\tremaining: 49.5ms\n",
            "1:\tlearn: 0.6931339\ttest: 0.6931351\tbest: 0.6931351 (1)\ttotal: 10.3ms\tremaining: 41.4ms\n",
            "2:\tlearn: 0.6931296\ttest: 0.6931290\tbest: 0.6931290 (2)\ttotal: 15.2ms\tremaining: 35.6ms\n",
            "3:\tlearn: 0.6931237\ttest: 0.6931230\tbest: 0.6931230 (3)\ttotal: 20.2ms\tremaining: 30.3ms\n",
            "4:\tlearn: 0.6931170\ttest: 0.6931169\tbest: 0.6931169 (4)\ttotal: 25ms\tremaining: 25ms\n",
            "5:\tlearn: 0.6931115\ttest: 0.6931110\tbest: 0.6931110 (5)\ttotal: 29.6ms\tremaining: 19.8ms\n",
            "6:\tlearn: 0.6931052\ttest: 0.6931049\tbest: 0.6931049 (6)\ttotal: 34.4ms\tremaining: 14.7ms\n",
            "7:\tlearn: 0.6930995\ttest: 0.6930990\tbest: 0.6930990 (7)\ttotal: 38.7ms\tremaining: 9.68ms\n",
            "8:\tlearn: 0.6930934\ttest: 0.6930932\tbest: 0.6930932 (8)\ttotal: 43.2ms\tremaining: 4.8ms\n",
            "9:\tlearn: 0.6930875\ttest: 0.6930877\tbest: 0.6930877 (9)\ttotal: 47.8ms\tremaining: 0us\n",
            "bestTest = 0.6930877344\n",
            "bestIteration = 9\n"
          ]
        },
        {
          "output_type": "execute_result",
          "data": {
            "text/plain": [
              "<catboost.core.CatBoostClassifier at 0x200f3df74f0>"
            ]
          },
          "metadata": {},
          "execution_count": 467
        }
      ]
    },
    {
      "cell_type": "code",
      "source": [
        ""
      ],
      "metadata": {
        "id": "gLHoGY63iraO"
      },
      "execution_count": null,
      "outputs": []
    },
    {
      "cell_type": "markdown",
      "source": [
        "##### Fazer um feature selection para as árvores"
      ],
      "metadata": {
        "id": "98yVhedTit1i"
      }
    },
    {
      "cell_type": "code",
      "source": [
        "from mlxtend.feature_selection import SequentialFeatureSelector as SFS"
      ],
      "metadata": {
        "id": "UqiV78TfiyWj"
      },
      "execution_count": null,
      "outputs": []
    },
    {
      "cell_type": "code",
      "source": [
        "clf = RandomForestClassifier(n_estimators=100, criterion=\"gini\", max_depth=None, min_samples_split=20, n_jobs=-1)"
      ],
      "metadata": {
        "id": "WmNnumLwk8pF"
      },
      "execution_count": null,
      "outputs": []
    },
    {
      "cell_type": "code",
      "source": [
        "## 1 feature\n",
        "sfs = SFS(clf, forward=True, cv=5, n_jobs=-1, k_features=1, verbose=2)\n",
        "sfs.fit(X_train, y_train)"
      ],
      "metadata": {
        "colab": {
          "base_uri": "https://localhost:8080/"
        },
        "outputId": "76c8e31f-61f1-416a-99ac-0da44133768d",
        "id": "wfIBj6nOkc48"
      },
      "execution_count": null,
      "outputs": [
        {
          "output_type": "stream",
          "name": "stderr",
          "text": [
            "[Parallel(n_jobs=-1)]: Using backend LokyBackend with 16 concurrent workers.\n",
            "[Parallel(n_jobs=-1)]: Done   3 out of  13 | elapsed:  1.0min remaining:  3.4min\n",
            "[Parallel(n_jobs=-1)]: Done  10 out of  13 | elapsed:  1.1min remaining:   20.0s\n",
            "[Parallel(n_jobs=-1)]: Done  13 out of  13 | elapsed:  1.2min finished\n",
            "\n",
            "[2022-04-21 21:08:59] Features: 1/1 -- score: 0.57824"
          ]
        },
        {
          "output_type": "execute_result",
          "data": {
            "text/plain": [
              "SequentialFeatureSelector(clone_estimator=True, cv=5,\n",
              "                          estimator=RandomForestClassifier(bootstrap=True,\n",
              "                                                           ccp_alpha=0.0,\n",
              "                                                           class_weight=None,\n",
              "                                                           criterion='gini',\n",
              "                                                           max_depth=None,\n",
              "                                                           max_features='auto',\n",
              "                                                           max_leaf_nodes=None,\n",
              "                                                           max_samples=None,\n",
              "                                                           min_impurity_decrease=0.0,\n",
              "                                                           min_impurity_split=None,\n",
              "                                                           min_samples_leaf=1,\n",
              "                                                           min_samples_split=20,\n",
              "                                                           min_weight_fraction_leaf=0.0,\n",
              "                                                           n_estimators=100,\n",
              "                                                           n_jobs=-1,\n",
              "                                                           oob_score=False,\n",
              "                                                           random_state=None,\n",
              "                                                           verbose=0,\n",
              "                                                           warm_start=False),\n",
              "                          fixed_features=None, floating=False, forward=True,\n",
              "                          k_features=1, n_jobs=-1, pre_dispatch='2*n_jobs',\n",
              "                          scoring=None, verbose=2)"
            ]
          },
          "metadata": {},
          "execution_count": 475
        }
      ]
    },
    {
      "cell_type": "code",
      "source": [
        "sfs.k_feature_names_, sfs.k_score_"
      ],
      "metadata": {
        "colab": {
          "base_uri": "https://localhost:8080/"
        },
        "outputId": "ea8a82dc-331f-4c49-8458-7d454c0bc7fb",
        "id": "e6gk8Wxikc48"
      },
      "execution_count": null,
      "outputs": [
        {
          "output_type": "execute_result",
          "data": {
            "text/plain": [
              "(('DS_TIPO_ATENDIMENTO',), 0.57824)"
            ]
          },
          "metadata": {},
          "execution_count": 476
        }
      ]
    },
    {
      "cell_type": "code",
      "source": [
        "## 5 features\n",
        "sfs = SFS(clf, forward=True, cv=5, n_jobs=-1, k_features=5, verbose=2, fixed_features=sfs.k_feature_names_)\n",
        "sfs.fit(X_train, y_train)"
      ],
      "metadata": {
        "colab": {
          "base_uri": "https://localhost:8080/"
        },
        "id": "pM5fpQCkmdJJ",
        "outputId": "9bf29812-44e9-4782-8558-e5becb0b77b5"
      },
      "execution_count": null,
      "outputs": [
        {
          "output_type": "stream",
          "name": "stderr",
          "text": [
            "[Parallel(n_jobs=-1)]: Using backend LokyBackend with 16 concurrent workers.\n",
            "[Parallel(n_jobs=-1)]: Done   2 out of  12 | elapsed:  1.2min remaining:  5.8min\n",
            "[Parallel(n_jobs=-1)]: Done   9 out of  12 | elapsed:  1.3min remaining:   26.8s\n",
            "[Parallel(n_jobs=-1)]: Done  12 out of  12 | elapsed:  1.4min finished\n",
            "\n",
            "[2022-04-21 21:12:06] Features: 2/5 -- score: 0.5900299999999999[Parallel(n_jobs=-1)]: Using backend LokyBackend with 16 concurrent workers.\n",
            "[Parallel(n_jobs=-1)]: Done   4 out of  11 | elapsed:  1.6min remaining:  2.7min\n",
            "[Parallel(n_jobs=-1)]: Done  11 out of  11 | elapsed:  1.6min finished\n",
            "\n",
            "[2022-04-21 21:13:44] Features: 3/5 -- score: 0.60926[Parallel(n_jobs=-1)]: Using backend LokyBackend with 16 concurrent workers.\n",
            "[Parallel(n_jobs=-1)]: Done   3 out of  10 | elapsed:  2.6min remaining:  6.0min\n",
            "[Parallel(n_jobs=-1)]: Done  10 out of  10 | elapsed:  2.6min finished\n",
            "\n",
            "[2022-04-21 21:16:21] Features: 4/5 -- score: 0.6370133333333333[Parallel(n_jobs=-1)]: Using backend LokyBackend with 16 concurrent workers.\n",
            "[Parallel(n_jobs=-1)]: Done   3 out of   9 | elapsed:  2.4min remaining:  4.7min\n",
            "[Parallel(n_jobs=-1)]: Done   9 out of   9 | elapsed:  2.4min finished\n",
            "\n",
            "[2022-04-21 21:18:46] Features: 5/5 -- score: 0.6779666666666666"
          ]
        },
        {
          "output_type": "execute_result",
          "data": {
            "text/plain": [
              "SequentialFeatureSelector(clone_estimator=True, cv=5,\n",
              "                          estimator=RandomForestClassifier(bootstrap=True,\n",
              "                                                           ccp_alpha=0.0,\n",
              "                                                           class_weight=None,\n",
              "                                                           criterion='gini',\n",
              "                                                           max_depth=None,\n",
              "                                                           max_features='auto',\n",
              "                                                           max_leaf_nodes=None,\n",
              "                                                           max_samples=None,\n",
              "                                                           min_impurity_decrease=0.0,\n",
              "                                                           min_impurity_split=None,\n",
              "                                                           min_samples_leaf=1,\n",
              "                                                           min_samples_split=20,\n",
              "                                                           min_weight_fraction_leaf=0.0,\n",
              "                                                           n_estimators=100,\n",
              "                                                           n_jobs=-1,\n",
              "                                                           oob_score=False,\n",
              "                                                           random_state=None,\n",
              "                                                           verbose=0,\n",
              "                                                           warm_start=False),\n",
              "                          fixed_features=('DS_TIPO_ATENDIMENTO',),\n",
              "                          floating=False, forward=True, k_features=5, n_jobs=-1,\n",
              "                          pre_dispatch='2*n_jobs', scoring=None, verbose=2)"
            ]
          },
          "metadata": {},
          "execution_count": 477
        }
      ]
    },
    {
      "cell_type": "code",
      "source": [
        "sfs.k_feature_names_, sfs.k_score_"
      ],
      "metadata": {
        "colab": {
          "base_uri": "https://localhost:8080/"
        },
        "id": "hp68_o4AmzXn",
        "outputId": "828a6713-8238-4508-94ce-3a4c8573741c"
      },
      "execution_count": null,
      "outputs": [
        {
          "output_type": "execute_result",
          "data": {
            "text/plain": [
              "(('DT_NASCIMENTO',\n",
              "  'DS_TIPO_PREST_SOLICITANTE',\n",
              "  'DS_CBO',\n",
              "  'DS_TIPO_ATENDIMENTO',\n",
              "  'DS_INDICACAO_CLINICA'),\n",
              " 0.6779666666666666)"
            ]
          },
          "metadata": {},
          "execution_count": 478
        }
      ]
    },
    {
      "cell_type": "code",
      "source": [
        "sfs.subsets_"
      ],
      "metadata": {
        "colab": {
          "base_uri": "https://localhost:8080/"
        },
        "id": "DbO7xUzbox0a",
        "outputId": "2ae8949d-777f-49af-cd2c-0b3e7d6c16e1"
      },
      "execution_count": null,
      "outputs": [
        {
          "output_type": "execute_result",
          "data": {
            "text/plain": [
              "{1: {'feature_idx': (7,),\n",
              "  'cv_scores': array([0.5765    , 0.57768333, 0.58283333, 0.5775    , 0.57668333]),\n",
              "  'avg_score': 0.57824,\n",
              "  'feature_names': ('DS_TIPO_ATENDIMENTO',)},\n",
              " 2: {'feature_idx': (2, 7),\n",
              "  'cv_scores': array([0.58733333, 0.58986667, 0.5943    , 0.5909    , 0.58775   ]),\n",
              "  'avg_score': 0.5900299999999999,\n",
              "  'feature_names': ('DS_TIPO_PREST_SOLICITANTE', 'DS_TIPO_ATENDIMENTO')},\n",
              " 3: {'feature_idx': (1, 2, 7),\n",
              "  'cv_scores': array([0.60465   , 0.60998333, 0.61238333, 0.60986667, 0.60941667]),\n",
              "  'avg_score': 0.60926,\n",
              "  'feature_names': ('DT_NASCIMENTO',\n",
              "   'DS_TIPO_PREST_SOLICITANTE',\n",
              "   'DS_TIPO_ATENDIMENTO')},\n",
              " 4: {'feature_idx': (1, 2, 7, 8),\n",
              "  'cv_scores': array([0.63503333, 0.63901667, 0.63681667, 0.63648333, 0.63771667]),\n",
              "  'avg_score': 0.6370133333333333,\n",
              "  'feature_names': ('DT_NASCIMENTO',\n",
              "   'DS_TIPO_PREST_SOLICITANTE',\n",
              "   'DS_TIPO_ATENDIMENTO',\n",
              "   'DS_INDICACAO_CLINICA')},\n",
              " 5: {'feature_idx': (1, 2, 3, 7, 8),\n",
              "  'cv_scores': array([0.6754    , 0.67893333, 0.68111667, 0.67726667, 0.67711667]),\n",
              "  'avg_score': 0.6779666666666666,\n",
              "  'feature_names': ('DT_NASCIMENTO',\n",
              "   'DS_TIPO_PREST_SOLICITANTE',\n",
              "   'DS_CBO',\n",
              "   'DS_TIPO_ATENDIMENTO',\n",
              "   'DS_INDICACAO_CLINICA')}}"
            ]
          },
          "metadata": {},
          "execution_count": 481
        }
      ]
    },
    {
      "cell_type": "code",
      "source": [
        "## 10 features\n",
        "sfs = SFS(clf, forward=True, cv=5, n_jobs=-1, k_features=10, verbose=2, fixed_features=sfs.k_feature_names_)\n",
        "sfs.fit(X_train, y_train)"
      ],
      "metadata": {
        "colab": {
          "base_uri": "https://localhost:8080/"
        },
        "id": "A8ZB0EaTo1QP",
        "outputId": "736aaa5e-6bb8-41ce-97ab-8103c40d0079"
      },
      "execution_count": null,
      "outputs": [
        {
          "output_type": "stream",
          "name": "stderr",
          "text": [
            "[Parallel(n_jobs=-1)]: Using backend LokyBackend with 16 concurrent workers.\n",
            "[Parallel(n_jobs=-1)]: Done   2 out of   8 | elapsed:  1.9min remaining:  5.8min\n",
            "[Parallel(n_jobs=-1)]: Done   8 out of   8 | elapsed:  2.1min finished\n",
            "\n",
            "[2022-04-21 21:25:24] Features: 6/10 -- score: 0.6929166666666666[Parallel(n_jobs=-1)]: Using backend LokyBackend with 16 concurrent workers.\n",
            "[Parallel(n_jobs=-1)]: Done   4 out of   7 | elapsed:  2.1min remaining:  1.6min\n",
            "[Parallel(n_jobs=-1)]: Done   7 out of   7 | elapsed:  2.1min finished\n",
            "\n",
            "[2022-04-21 21:27:30] Features: 7/10 -- score: 0.7014666666666667[Parallel(n_jobs=-1)]: Using backend LokyBackend with 16 concurrent workers.\n",
            "[Parallel(n_jobs=-1)]: Done   3 out of   6 | elapsed:  1.6min remaining:  1.6min\n",
            "[Parallel(n_jobs=-1)]: Done   6 out of   6 | elapsed:  1.6min finished\n",
            "\n",
            "[2022-04-21 21:29:08] Features: 8/10 -- score: 0.7052366666666667[Parallel(n_jobs=-1)]: Using backend LokyBackend with 16 concurrent workers.\n",
            "[Parallel(n_jobs=-1)]: Done   5 out of   5 | elapsed:  1.6min finished\n",
            "\n",
            "[2022-04-21 21:30:45] Features: 9/10 -- score: 0.7078[Parallel(n_jobs=-1)]: Using backend LokyBackend with 16 concurrent workers.\n",
            "[Parallel(n_jobs=-1)]: Done   4 out of   4 | elapsed:  1.3min finished\n",
            "\n",
            "[2022-04-21 21:32:06] Features: 10/10 -- score: 0.7105766666666666"
          ]
        },
        {
          "output_type": "execute_result",
          "data": {
            "text/plain": [
              "SequentialFeatureSelector(clone_estimator=True, cv=5,\n",
              "                          estimator=RandomForestClassifier(bootstrap=True,\n",
              "                                                           ccp_alpha=0.0,\n",
              "                                                           class_weight=None,\n",
              "                                                           criterion='gini',\n",
              "                                                           max_depth=None,\n",
              "                                                           max_features='auto',\n",
              "                                                           max_leaf_nodes=None,\n",
              "                                                           max_samples=None,\n",
              "                                                           min_impurity_decrease=0.0,\n",
              "                                                           min_impurity_split=None,\n",
              "                                                           min_samples_leaf=1,\n",
              "                                                           min_samples_split=20,\n",
              "                                                           min_weight_fraction_leaf=0.0,\n",
              "                                                           n_estimators=100,\n",
              "                                                           n_jobs=-1,\n",
              "                                                           oob_score=False,\n",
              "                                                           random_state=None,\n",
              "                                                           verbose=0,\n",
              "                                                           warm_start=False),\n",
              "                          fixed_features=('DT_NASCIMENTO',\n",
              "                                          'DS_TIPO_PREST_SOLICITANTE', 'DS_CBO',\n",
              "                                          'DS_TIPO_ATENDIMENTO',\n",
              "                                          'DS_INDICACAO_CLINICA'),\n",
              "                          floating=False, forward=True, k_features=10,\n",
              "                          n_jobs=-1, pre_dispatch='2*n_jobs', scoring=None,\n",
              "                          verbose=2)"
            ]
          },
          "metadata": {},
          "execution_count": 483
        }
      ]
    },
    {
      "cell_type": "code",
      "source": [
        "sfs.subsets_"
      ],
      "metadata": {
        "colab": {
          "base_uri": "https://localhost:8080/"
        },
        "id": "PaGKxipprwCL",
        "outputId": "cbc32fe9-4ef4-46b6-9055-931089cdb8ea"
      },
      "execution_count": null,
      "outputs": [
        {
          "output_type": "execute_result",
          "data": {
            "text/plain": [
              "{5: {'feature_idx': (1, 2, 3, 7, 8),\n",
              "  'cv_scores': array([0.67508333, 0.67931667, 0.68158333, 0.6779    , 0.6761    ]),\n",
              "  'avg_score': 0.6779966666666667,\n",
              "  'feature_names': ('DT_NASCIMENTO',\n",
              "   'DS_TIPO_PREST_SOLICITANTE',\n",
              "   'DS_CBO',\n",
              "   'DS_TIPO_ATENDIMENTO',\n",
              "   'DS_INDICACAO_CLINICA')},\n",
              " 6: {'feature_idx': (1, 2, 3, 6, 7, 8),\n",
              "  'cv_scores': array([0.69145   , 0.69365   , 0.69596667, 0.69161667, 0.6919    ]),\n",
              "  'avg_score': 0.6929166666666666,\n",
              "  'feature_names': ('DT_NASCIMENTO',\n",
              "   'DS_TIPO_PREST_SOLICITANTE',\n",
              "   'DS_CBO',\n",
              "   'QT_DIA_SOLICITADO',\n",
              "   'DS_TIPO_ATENDIMENTO',\n",
              "   'DS_INDICACAO_CLINICA')},\n",
              " 7: {'feature_idx': (1, 2, 3, 4, 6, 7, 8),\n",
              "  'cv_scores': array([0.70126667, 0.70205   , 0.70383333, 0.69918333, 0.701     ]),\n",
              "  'avg_score': 0.7014666666666667,\n",
              "  'feature_names': ('DT_NASCIMENTO',\n",
              "   'DS_TIPO_PREST_SOLICITANTE',\n",
              "   'DS_CBO',\n",
              "   'DS_CARATER_ATENDIMENTO',\n",
              "   'QT_DIA_SOLICITADO',\n",
              "   'DS_TIPO_ATENDIMENTO',\n",
              "   'DS_INDICACAO_CLINICA')},\n",
              " 8: {'feature_idx': (1, 2, 3, 4, 5, 6, 7, 8),\n",
              "  'cv_scores': array([0.70525   , 0.70536667, 0.7068    , 0.70355   , 0.70521667]),\n",
              "  'avg_score': 0.7052366666666667,\n",
              "  'feature_names': ('DT_NASCIMENTO',\n",
              "   'DS_TIPO_PREST_SOLICITANTE',\n",
              "   'DS_CBO',\n",
              "   'DS_CARATER_ATENDIMENTO',\n",
              "   'DS_TIPO_ACOMODACAO',\n",
              "   'QT_DIA_SOLICITADO',\n",
              "   'DS_TIPO_ATENDIMENTO',\n",
              "   'DS_INDICACAO_CLINICA')},\n",
              " 9: {'feature_idx': (1, 2, 3, 4, 5, 6, 7, 8, 12),\n",
              "  'cv_scores': array([0.70726667, 0.70933333, 0.70946667, 0.706     , 0.70693333]),\n",
              "  'avg_score': 0.7078,\n",
              "  'feature_names': ('DT_NASCIMENTO',\n",
              "   'DS_TIPO_PREST_SOLICITANTE',\n",
              "   'DS_CBO',\n",
              "   'DS_CARATER_ATENDIMENTO',\n",
              "   'DS_TIPO_ACOMODACAO',\n",
              "   'QT_DIA_SOLICITADO',\n",
              "   'DS_TIPO_ATENDIMENTO',\n",
              "   'DS_INDICACAO_CLINICA',\n",
              "   'QT_SOLICITADA')},\n",
              " 10: {'feature_idx': (0, 1, 2, 3, 4, 5, 6, 7, 8, 12),\n",
              "  'cv_scores': array([0.71073333, 0.71141667, 0.71311667, 0.7091    , 0.70851667]),\n",
              "  'avg_score': 0.7105766666666666,\n",
              "  'feature_names': ('DS_TIPO_GUIA',\n",
              "   'DT_NASCIMENTO',\n",
              "   'DS_TIPO_PREST_SOLICITANTE',\n",
              "   'DS_CBO',\n",
              "   'DS_CARATER_ATENDIMENTO',\n",
              "   'DS_TIPO_ACOMODACAO',\n",
              "   'QT_DIA_SOLICITADO',\n",
              "   'DS_TIPO_ATENDIMENTO',\n",
              "   'DS_INDICACAO_CLINICA',\n",
              "   'QT_SOLICITADA')}}"
            ]
          },
          "metadata": {},
          "execution_count": 484
        }
      ]
    },
    {
      "cell_type": "code",
      "source": [
        "## usando todas as features\n",
        "sfs = SFS(clf, forward=True, cv=5, n_jobs=-1, k_features=X_train.shape[1], verbose=2, fixed_features=sfs.k_feature_names_)\n",
        "sfs.fit(X_train, y_train)"
      ],
      "metadata": {
        "colab": {
          "base_uri": "https://localhost:8080/"
        },
        "id": "HyH-0tnLrxGm",
        "outputId": "7327277f-2f93-4cb8-d313-584d75c6c434"
      },
      "execution_count": null,
      "outputs": [
        {
          "output_type": "stream",
          "name": "stderr",
          "text": [
            "[Parallel(n_jobs=-1)]: Using backend LokyBackend with 16 concurrent workers.\n",
            "[Parallel(n_jobs=-1)]: Done   3 out of  13 | elapsed:   42.7s remaining:  2.4min\n",
            "[Parallel(n_jobs=-1)]: Done  10 out of  13 | elapsed:  1.1min remaining:   20.0s\n",
            "[Parallel(n_jobs=-1)]: Done  13 out of  13 | elapsed:  1.2min finished\n",
            "\n",
            "[2022-04-21 21:36:37] Features: 1/13 -- score: 0.57824[Parallel(n_jobs=-1)]: Using backend LokyBackend with 16 concurrent workers.\n",
            "[Parallel(n_jobs=-1)]: Done   2 out of  12 | elapsed:  1.1min remaining:  5.7min\n",
            "[Parallel(n_jobs=-1)]: Done   9 out of  12 | elapsed:  1.3min remaining:   25.0s\n",
            "[Parallel(n_jobs=-1)]: Done  12 out of  12 | elapsed:  1.4min finished\n",
            "\n",
            "[2022-04-21 21:38:03] Features: 2/13 -- score: 0.5900366666666667[Parallel(n_jobs=-1)]: Using backend LokyBackend with 16 concurrent workers.\n",
            "[Parallel(n_jobs=-1)]: Done   4 out of  11 | elapsed:  1.6min remaining:  2.8min\n",
            "[Parallel(n_jobs=-1)]: Done  11 out of  11 | elapsed:  1.7min finished\n",
            "\n",
            "[2022-04-21 21:39:43] Features: 3/13 -- score: 0.6093500000000001[Parallel(n_jobs=-1)]: Using backend LokyBackend with 16 concurrent workers.\n",
            "[Parallel(n_jobs=-1)]: Done   3 out of  10 | elapsed:  2.5min remaining:  5.9min\n",
            "[Parallel(n_jobs=-1)]: Done  10 out of  10 | elapsed:  2.6min finished\n",
            "\n",
            "[2022-04-21 21:42:19] Features: 4/13 -- score: 0.63715[Parallel(n_jobs=-1)]: Using backend LokyBackend with 16 concurrent workers.\n",
            "[Parallel(n_jobs=-1)]: Done   3 out of   9 | elapsed:  2.3min remaining:  4.5min\n",
            "[Parallel(n_jobs=-1)]: Done   9 out of   9 | elapsed:  2.3min finished\n",
            "\n",
            "[2022-04-21 21:44:38] Features: 5/13 -- score: 0.6781[Parallel(n_jobs=-1)]: Using backend LokyBackend with 16 concurrent workers.\n",
            "[Parallel(n_jobs=-1)]: Done   2 out of   8 | elapsed:  2.2min remaining:  6.6min\n",
            "[Parallel(n_jobs=-1)]: Done   8 out of   8 | elapsed:  2.3min finished\n",
            "\n",
            "[2022-04-21 21:46:53] Features: 6/13 -- score: 0.6927033333333333[Parallel(n_jobs=-1)]: Using backend LokyBackend with 16 concurrent workers.\n",
            "[Parallel(n_jobs=-1)]: Done   4 out of   7 | elapsed:  1.9min remaining:  1.5min\n",
            "[Parallel(n_jobs=-1)]: Done   7 out of   7 | elapsed:  2.0min finished\n",
            "\n",
            "[2022-04-21 21:48:51] Features: 7/13 -- score: 0.7010033333333334[Parallel(n_jobs=-1)]: Using backend LokyBackend with 16 concurrent workers.\n",
            "[Parallel(n_jobs=-1)]: Done   3 out of   6 | elapsed:  1.6min remaining:  1.6min\n",
            "[Parallel(n_jobs=-1)]: Done   6 out of   6 | elapsed:  1.6min finished\n",
            "\n",
            "[2022-04-21 21:50:30] Features: 8/13 -- score: 0.7046933333333334[Parallel(n_jobs=-1)]: Using backend LokyBackend with 16 concurrent workers.\n",
            "[Parallel(n_jobs=-1)]: Done   5 out of   5 | elapsed:  1.6min finished\n",
            "\n",
            "[2022-04-21 21:52:07] Features: 9/13 -- score: 0.7081099999999999[Parallel(n_jobs=-1)]: Using backend LokyBackend with 16 concurrent workers.\n",
            "[Parallel(n_jobs=-1)]: Done   4 out of   4 | elapsed:  1.3min finished\n",
            "\n",
            "[2022-04-21 21:53:26] Features: 10/13 -- score: 0.71046[Parallel(n_jobs=-1)]: Using backend LokyBackend with 16 concurrent workers.\n",
            "[Parallel(n_jobs=-1)]: Done   3 out of   3 | elapsed:  1.0min finished\n",
            "\n",
            "[2022-04-21 21:54:27] Features: 11/13 -- score: 0.71238[Parallel(n_jobs=-1)]: Using backend LokyBackend with 16 concurrent workers.\n",
            "[Parallel(n_jobs=-1)]: Done   2 out of   2 | elapsed:   41.8s finished\n",
            "\n",
            "[2022-04-21 21:55:09] Features: 12/13 -- score: 0.7130233333333333[Parallel(n_jobs=-1)]: Using backend LokyBackend with 16 concurrent workers.\n",
            "[Parallel(n_jobs=-1)]: Done   1 out of   1 | elapsed:   20.8s finished\n",
            "\n",
            "[2022-04-21 21:55:30] Features: 13/13 -- score: 0.7126533333333335"
          ]
        },
        {
          "output_type": "execute_result",
          "data": {
            "text/plain": [
              "SequentialFeatureSelector(clone_estimator=True, cv=5,\n",
              "                          estimator=RandomForestClassifier(bootstrap=True,\n",
              "                                                           ccp_alpha=0.0,\n",
              "                                                           class_weight=None,\n",
              "                                                           criterion='gini',\n",
              "                                                           max_depth=None,\n",
              "                                                           max_features='auto',\n",
              "                                                           max_leaf_nodes=None,\n",
              "                                                           max_samples=None,\n",
              "                                                           min_impurity_decrease=0.0,\n",
              "                                                           min_impurity_split=None,\n",
              "                                                           min_samples_leaf=1,\n",
              "                                                           min_samples_split=20,\n",
              "                                                           min_weight_fraction_leaf=0.0,\n",
              "                                                           n_estimators=100,\n",
              "                                                           n_jobs=-1,\n",
              "                                                           oob_score=False,\n",
              "                                                           random_state=None,\n",
              "                                                           verbose=0,\n",
              "                                                           warm_start=False),\n",
              "                          fixed_features=None, floating=False, forward=True,\n",
              "                          k_features=13, n_jobs=-1, pre_dispatch='2*n_jobs',\n",
              "                          scoring=None, verbose=2)"
            ]
          },
          "metadata": {},
          "execution_count": 486
        }
      ]
    },
    {
      "cell_type": "code",
      "source": [
        "sfs.subsets_"
      ],
      "metadata": {
        "colab": {
          "base_uri": "https://localhost:8080/"
        },
        "id": "yATn0bO6sdPd",
        "outputId": "38b97a82-aaa2-4f6f-e3e4-93a22a84389d"
      },
      "execution_count": null,
      "outputs": [
        {
          "output_type": "execute_result",
          "data": {
            "text/plain": [
              "{1: {'feature_idx': (7,),\n",
              "  'cv_scores': array([0.5765    , 0.57768333, 0.58283333, 0.5775    , 0.57668333]),\n",
              "  'avg_score': 0.57824,\n",
              "  'feature_names': ('DS_TIPO_ATENDIMENTO',)},\n",
              " 2: {'feature_idx': (2, 7),\n",
              "  'cv_scores': array([0.58733333, 0.58986667, 0.5943    , 0.59095   , 0.58773333]),\n",
              "  'avg_score': 0.5900366666666667,\n",
              "  'feature_names': ('DS_TIPO_PREST_SOLICITANTE', 'DS_TIPO_ATENDIMENTO')},\n",
              " 3: {'feature_idx': (1, 2, 7),\n",
              "  'cv_scores': array([0.60438333, 0.6102    , 0.61273333, 0.61021667, 0.60921667]),\n",
              "  'avg_score': 0.6093500000000001,\n",
              "  'feature_names': ('DT_NASCIMENTO',\n",
              "   'DS_TIPO_PREST_SOLICITANTE',\n",
              "   'DS_TIPO_ATENDIMENTO')},\n",
              " 4: {'feature_idx': (1, 2, 7, 8),\n",
              "  'cv_scores': array([0.63551667, 0.6382    , 0.63725   , 0.63708333, 0.6377    ]),\n",
              "  'avg_score': 0.63715,\n",
              "  'feature_names': ('DT_NASCIMENTO',\n",
              "   'DS_TIPO_PREST_SOLICITANTE',\n",
              "   'DS_TIPO_ATENDIMENTO',\n",
              "   'DS_INDICACAO_CLINICA')},\n",
              " 5: {'feature_idx': (1, 2, 3, 7, 8),\n",
              "  'cv_scores': array([0.6751    , 0.67901667, 0.68186667, 0.67816667, 0.67635   ]),\n",
              "  'avg_score': 0.6781,\n",
              "  'feature_names': ('DT_NASCIMENTO',\n",
              "   'DS_TIPO_PREST_SOLICITANTE',\n",
              "   'DS_CBO',\n",
              "   'DS_TIPO_ATENDIMENTO',\n",
              "   'DS_INDICACAO_CLINICA')},\n",
              " 6: {'feature_idx': (1, 2, 3, 6, 7, 8),\n",
              "  'cv_scores': array([0.6912    , 0.69323333, 0.69521667, 0.6919    , 0.69196667]),\n",
              "  'avg_score': 0.6927033333333333,\n",
              "  'feature_names': ('DT_NASCIMENTO',\n",
              "   'DS_TIPO_PREST_SOLICITANTE',\n",
              "   'DS_CBO',\n",
              "   'QT_DIA_SOLICITADO',\n",
              "   'DS_TIPO_ATENDIMENTO',\n",
              "   'DS_INDICACAO_CLINICA')},\n",
              " 7: {'feature_idx': (1, 2, 3, 4, 6, 7, 8),\n",
              "  'cv_scores': array([0.7008    , 0.7018    , 0.70316667, 0.69823333, 0.70101667]),\n",
              "  'avg_score': 0.7010033333333334,\n",
              "  'feature_names': ('DT_NASCIMENTO',\n",
              "   'DS_TIPO_PREST_SOLICITANTE',\n",
              "   'DS_CBO',\n",
              "   'DS_CARATER_ATENDIMENTO',\n",
              "   'QT_DIA_SOLICITADO',\n",
              "   'DS_TIPO_ATENDIMENTO',\n",
              "   'DS_INDICACAO_CLINICA')},\n",
              " 8: {'feature_idx': (1, 2, 3, 4, 5, 6, 7, 8),\n",
              "  'cv_scores': array([0.7048    , 0.70526667, 0.70628333, 0.70256667, 0.70455   ]),\n",
              "  'avg_score': 0.7046933333333334,\n",
              "  'feature_names': ('DT_NASCIMENTO',\n",
              "   'DS_TIPO_PREST_SOLICITANTE',\n",
              "   'DS_CBO',\n",
              "   'DS_CARATER_ATENDIMENTO',\n",
              "   'DS_TIPO_ACOMODACAO',\n",
              "   'QT_DIA_SOLICITADO',\n",
              "   'DS_TIPO_ATENDIMENTO',\n",
              "   'DS_INDICACAO_CLINICA')},\n",
              " 9: {'feature_idx': (1, 2, 3, 4, 5, 6, 7, 8, 12),\n",
              "  'cv_scores': array([0.70776667, 0.70921667, 0.70943333, 0.706     , 0.70813333]),\n",
              "  'avg_score': 0.7081099999999999,\n",
              "  'feature_names': ('DT_NASCIMENTO',\n",
              "   'DS_TIPO_PREST_SOLICITANTE',\n",
              "   'DS_CBO',\n",
              "   'DS_CARATER_ATENDIMENTO',\n",
              "   'DS_TIPO_ACOMODACAO',\n",
              "   'QT_DIA_SOLICITADO',\n",
              "   'DS_TIPO_ATENDIMENTO',\n",
              "   'DS_INDICACAO_CLINICA',\n",
              "   'QT_SOLICITADA')},\n",
              " 10: {'feature_idx': (1, 2, 3, 4, 5, 6, 7, 8, 10, 12),\n",
              "  'cv_scores': array([0.7114    , 0.71158333, 0.71316667, 0.70815   , 0.708     ]),\n",
              "  'avg_score': 0.71046,\n",
              "  'feature_names': ('DT_NASCIMENTO',\n",
              "   'DS_TIPO_PREST_SOLICITANTE',\n",
              "   'DS_CBO',\n",
              "   'DS_CARATER_ATENDIMENTO',\n",
              "   'DS_TIPO_ACOMODACAO',\n",
              "   'QT_DIA_SOLICITADO',\n",
              "   'DS_TIPO_ATENDIMENTO',\n",
              "   'DS_INDICACAO_CLINICA',\n",
              "   'DS_SUBGRUPO',\n",
              "   'QT_SOLICITADA')},\n",
              " 11: {'feature_idx': (0, 1, 2, 3, 4, 5, 6, 7, 8, 10, 12),\n",
              "  'cv_scores': array([0.7122    , 0.71303333, 0.71431667, 0.71178333, 0.71056667]),\n",
              "  'avg_score': 0.71238,\n",
              "  'feature_names': ('DS_TIPO_GUIA',\n",
              "   'DT_NASCIMENTO',\n",
              "   'DS_TIPO_PREST_SOLICITANTE',\n",
              "   'DS_CBO',\n",
              "   'DS_CARATER_ATENDIMENTO',\n",
              "   'DS_TIPO_ACOMODACAO',\n",
              "   'QT_DIA_SOLICITADO',\n",
              "   'DS_TIPO_ATENDIMENTO',\n",
              "   'DS_INDICACAO_CLINICA',\n",
              "   'DS_SUBGRUPO',\n",
              "   'QT_SOLICITADA')},\n",
              " 12: {'feature_idx': (0, 1, 2, 3, 4, 5, 6, 7, 8, 10, 11, 12),\n",
              "  'cv_scores': array([0.71315   , 0.7146    , 0.71385   , 0.71295   , 0.71056667]),\n",
              "  'avg_score': 0.7130233333333333,\n",
              "  'feature_names': ('DS_TIPO_GUIA',\n",
              "   'DT_NASCIMENTO',\n",
              "   'DS_TIPO_PREST_SOLICITANTE',\n",
              "   'DS_CBO',\n",
              "   'DS_CARATER_ATENDIMENTO',\n",
              "   'DS_TIPO_ACOMODACAO',\n",
              "   'QT_DIA_SOLICITADO',\n",
              "   'DS_TIPO_ATENDIMENTO',\n",
              "   'DS_INDICACAO_CLINICA',\n",
              "   'DS_SUBGRUPO',\n",
              "   'DS_GRUPO',\n",
              "   'QT_SOLICITADA')},\n",
              " 13: {'feature_idx': (0, 1, 2, 3, 4, 5, 6, 7, 8, 9, 10, 11, 12),\n",
              "  'cv_scores': array([0.71143333, 0.7147    , 0.71431667, 0.71115   , 0.71166667]),\n",
              "  'avg_score': 0.7126533333333335,\n",
              "  'feature_names': ('DS_TIPO_GUIA',\n",
              "   'DT_NASCIMENTO',\n",
              "   'DS_TIPO_PREST_SOLICITANTE',\n",
              "   'DS_CBO',\n",
              "   'DS_CARATER_ATENDIMENTO',\n",
              "   'DS_TIPO_ACOMODACAO',\n",
              "   'QT_DIA_SOLICITADO',\n",
              "   'DS_TIPO_ATENDIMENTO',\n",
              "   'DS_INDICACAO_CLINICA',\n",
              "   'DS_TIPO_ITEM',\n",
              "   'DS_SUBGRUPO',\n",
              "   'DS_GRUPO',\n",
              "   'QT_SOLICITADA')}}"
            ]
          },
          "metadata": {},
          "execution_count": 488
        }
      ]
    },
    {
      "cell_type": "markdown",
      "source": [
        "### Última tentativa: usar o james stein sem diminuir as categorias em 5."
      ],
      "metadata": {
        "id": "fg63NAO0xl4A"
      }
    },
    {
      "cell_type": "code",
      "source": [
        "df.info()"
      ],
      "metadata": {
        "colab": {
          "base_uri": "https://localhost:8080/"
        },
        "id": "OOHH1-M0u52-",
        "outputId": "bf653f0e-c22f-4a09-8de5-72103a5dc5fc"
      },
      "execution_count": null,
      "outputs": [
        {
          "output_type": "stream",
          "name": "stdout",
          "text": [
            "<class 'pandas.core.frame.DataFrame'>\n",
            "Int64Index: 387659 entries, 0 to 413265\n",
            "Data columns (total 14 columns):\n",
            " #   Column                     Non-Null Count   Dtype  \n",
            "---  ------                     --------------   -----  \n",
            " 0   DS_TIPO_GUIA               387659 non-null  object \n",
            " 1   DT_NASCIMENTO              387659 non-null  int64  \n",
            " 2   DS_TIPO_PREST_SOLICITANTE  387659 non-null  object \n",
            " 3   DS_CBO                     387659 non-null  object \n",
            " 4   DS_CARATER_ATENDIMENTO     387659 non-null  object \n",
            " 5   DS_TIPO_ACOMODACAO         387659 non-null  object \n",
            " 6   QT_DIA_SOLICITADO          387659 non-null  float64\n",
            " 7   DS_TIPO_ATENDIMENTO        387659 non-null  object \n",
            " 8   DS_INDICACAO_CLINICA       387659 non-null  object \n",
            " 9   DS_TIPO_ITEM               387659 non-null  object \n",
            " 10  DS_SUBGRUPO                387659 non-null  object \n",
            " 11  DS_GRUPO                   387659 non-null  object \n",
            " 12  QT_SOLICITADA              387659 non-null  float64\n",
            " 13  DS_STATUS_ITEM             387659 non-null  object \n",
            "dtypes: float64(2), int64(1), object(11)\n",
            "memory usage: 44.4+ MB\n"
          ]
        }
      ]
    },
    {
      "cell_type": "code",
      "source": [
        "## Vou standardizar as features numericas\n",
        "df.describe()"
      ],
      "metadata": {
        "colab": {
          "base_uri": "https://localhost:8080/",
          "height": 300
        },
        "id": "HKH-ItF57oHS",
        "outputId": "25841cbf-adb9-4b77-f516-c065286bea45"
      },
      "execution_count": null,
      "outputs": [
        {
          "output_type": "execute_result",
          "data": {
            "text/plain": [
              "       DT_NASCIMENTO  QT_DIA_SOLICITADO  QT_SOLICITADA\n",
              "count  387659.000000      387659.000000  387659.000000\n",
              "mean       54.819197           0.614470       1.726837\n",
              "std        18.765835           1.146533       2.085068\n",
              "min         1.000000           0.000000       1.000000\n",
              "25%        44.000000           0.000000       1.000000\n",
              "50%        57.000000           0.000000       1.000000\n",
              "75%        68.000000           1.000000       2.000000\n",
              "max       104.000000           5.000000      25.000000"
            ],
            "text/html": [
              "<div>\n",
              "<style scoped>\n",
              "    .dataframe tbody tr th:only-of-type {\n",
              "        vertical-align: middle;\n",
              "    }\n",
              "\n",
              "    .dataframe tbody tr th {\n",
              "        vertical-align: top;\n",
              "    }\n",
              "\n",
              "    .dataframe thead th {\n",
              "        text-align: right;\n",
              "    }\n",
              "</style>\n",
              "<table border=\"1\" class=\"dataframe\">\n",
              "  <thead>\n",
              "    <tr style=\"text-align: right;\">\n",
              "      <th></th>\n",
              "      <th>DT_NASCIMENTO</th>\n",
              "      <th>QT_DIA_SOLICITADO</th>\n",
              "      <th>QT_SOLICITADA</th>\n",
              "    </tr>\n",
              "  </thead>\n",
              "  <tbody>\n",
              "    <tr>\n",
              "      <th>count</th>\n",
              "      <td>387659.000000</td>\n",
              "      <td>387659.000000</td>\n",
              "      <td>387659.000000</td>\n",
              "    </tr>\n",
              "    <tr>\n",
              "      <th>mean</th>\n",
              "      <td>54.819197</td>\n",
              "      <td>0.614470</td>\n",
              "      <td>1.726837</td>\n",
              "    </tr>\n",
              "    <tr>\n",
              "      <th>std</th>\n",
              "      <td>18.765835</td>\n",
              "      <td>1.146533</td>\n",
              "      <td>2.085068</td>\n",
              "    </tr>\n",
              "    <tr>\n",
              "      <th>min</th>\n",
              "      <td>1.000000</td>\n",
              "      <td>0.000000</td>\n",
              "      <td>1.000000</td>\n",
              "    </tr>\n",
              "    <tr>\n",
              "      <th>25%</th>\n",
              "      <td>44.000000</td>\n",
              "      <td>0.000000</td>\n",
              "      <td>1.000000</td>\n",
              "    </tr>\n",
              "    <tr>\n",
              "      <th>50%</th>\n",
              "      <td>57.000000</td>\n",
              "      <td>0.000000</td>\n",
              "      <td>1.000000</td>\n",
              "    </tr>\n",
              "    <tr>\n",
              "      <th>75%</th>\n",
              "      <td>68.000000</td>\n",
              "      <td>1.000000</td>\n",
              "      <td>2.000000</td>\n",
              "    </tr>\n",
              "    <tr>\n",
              "      <th>max</th>\n",
              "      <td>104.000000</td>\n",
              "      <td>5.000000</td>\n",
              "      <td>25.000000</td>\n",
              "    </tr>\n",
              "  </tbody>\n",
              "</table>\n",
              "</div>"
            ]
          },
          "metadata": {},
          "execution_count": 163
        }
      ]
    },
    {
      "cell_type": "code",
      "source": [
        "from sklearn.preprocessing import MinMaxScaler\n",
        "\n",
        "scaler = MinMaxScaler()\n",
        "df[[\"DT_NASCIMENTO\", \"QT_DIA_SOLICITADO\", \"QT_SOLICITADA\"]] = scaler.fit_transform(df[[\"DT_NASCIMENTO\", \"QT_DIA_SOLICITADO\", \"QT_SOLICITADA\"]])"
      ],
      "metadata": {
        "id": "e_KW4XkB7yGF"
      },
      "execution_count": null,
      "outputs": []
    },
    {
      "cell_type": "code",
      "source": [
        "## Balanceando os dados\n",
        "from imblearn.over_sampling import RandomOverSampler\n",
        "from sklearn.preprocessing import MinMaxScaler\n",
        "import category_encoders\n",
        "\n",
        "ros = RandomOverSampler()\n",
        "\n",
        "#scaler = MinMaxScaler()\n",
        "#df[[\"DT_NASCIMENTO\", \"QT_DIA_SOLICITADO\", \"QT_SOLICITADA\"]] = scaler.fit_transform(df[[\"DT_NASCIMENTO\", \"QT_DIA_SOLICITADO\", \"QT_SOLICITADA\"]])\n",
        "\n",
        "y = df.DS_STATUS_ITEM.map({\"Autorizado\":0, \"Negado\":1})\n",
        "X = df.drop(columns=[\"DS_STATUS_ITEM\"])\n",
        "\n",
        "## balanceando\n",
        "X, y = ros.fit_resample(X,y)\n",
        "\n",
        "## dividindo em treino e teste\n",
        "X_train, X_test, X_val, y_train, y_test, y_val = train_val_test(X, y)\n",
        "\n",
        "enc = category_encoders.james_stein.JamesSteinEncoder()\n",
        "\n",
        "enc.fit(X_train, y_train)\n",
        "\n",
        "X_train = enc.transform(X_train, y_train)\n",
        "X_val = enc.transform(X_val, y_val)\n",
        "X_test = enc.transform(X_test, y_test)\n",
        "\n",
        "## já tranformando o df_test tambem\n",
        "df_test_ajeitado = ajeita_dados_2(df_test)\n",
        "df_test_ajeitado = enc.transform(df_test_ajeitado)"
      ],
      "metadata": {
        "id": "RuUZsnHtyHY9"
      },
      "execution_count": null,
      "outputs": []
    },
    {
      "cell_type": "code",
      "source": [
        "from sklearn.ensemble import RandomForestClassifier\n",
        "from sklearn.model_selection import cross_validate\n",
        "import sklearn.metrics as mtrcs"
      ],
      "metadata": {
        "id": "ccj28P5A_iTb"
      },
      "execution_count": null,
      "outputs": []
    },
    {
      "cell_type": "code",
      "source": [
        "clf = RandomForestClassifier(n_estimators=100, criterion=\"entropy\", max_depth=None, min_samples_split=40, n_jobs=-1)"
      ],
      "metadata": {
        "id": "c9DekBGD1C4E"
      },
      "execution_count": null,
      "outputs": []
    },
    {
      "cell_type": "code",
      "source": [
        "cval = cross_validate(clf, X_train, y_train, scoring=\"f1\", n_jobs=-1, return_train_score=True, verbose=2)"
      ],
      "metadata": {
        "colab": {
          "base_uri": "https://localhost:8080/"
        },
        "outputId": "ab2066ba-5585-4920-a87e-9e71243ea2c0",
        "id": "MUxmWAt31C4F"
      },
      "execution_count": null,
      "outputs": [
        {
          "output_type": "stream",
          "name": "stderr",
          "text": [
            "[Parallel(n_jobs=-1)]: Using backend LokyBackend with 8 concurrent workers.\n",
            "[Parallel(n_jobs=-1)]: Done   2 out of   5 | elapsed:   25.1s remaining:   37.6s\n",
            "[Parallel(n_jobs=-1)]: Done   5 out of   5 | elapsed:   25.1s remaining:    0.0s\n",
            "[Parallel(n_jobs=-1)]: Done   5 out of   5 | elapsed:   25.1s finished\n"
          ]
        }
      ]
    },
    {
      "cell_type": "code",
      "source": [
        "cval"
      ],
      "metadata": {
        "colab": {
          "base_uri": "https://localhost:8080/"
        },
        "outputId": "ad779f2d-4f1d-4dd5-e4ed-077d75d2a64f",
        "id": "IL_Oned-1C4F"
      },
      "execution_count": null,
      "outputs": [
        {
          "output_type": "execute_result",
          "data": {
            "text/plain": [
              "{'fit_time': array([18.71839404, 18.38941312, 18.68553925, 18.68615699, 18.55137014]),\n",
              " 'score_time': array([1.07202792, 0.93941283, 1.14369988, 1.12788606, 1.05143785]),\n",
              " 'test_score': array([0.71583551, 0.7177746 , 0.71920186, 0.71982014, 0.72012715]),\n",
              " 'train_score': array([0.76868426, 0.76986225, 0.76950226, 0.76889228, 0.76965988])}"
            ]
          },
          "metadata": {},
          "execution_count": 183
        }
      ]
    },
    {
      "cell_type": "code",
      "source": [
        "clf.fit(X_train, y_train)"
      ],
      "metadata": {
        "colab": {
          "base_uri": "https://localhost:8080/"
        },
        "id": "fgbkeBas3elG",
        "outputId": "51b7f272-b025-4ea2-942a-8de947e3c9b1"
      },
      "execution_count": null,
      "outputs": [
        {
          "output_type": "execute_result",
          "data": {
            "text/plain": [
              "RandomForestClassifier(criterion='entropy', min_samples_split=40, n_jobs=-1)"
            ]
          },
          "metadata": {},
          "execution_count": 184
        }
      ]
    },
    {
      "cell_type": "code",
      "source": [
        "pred = clf.predict(X_test)"
      ],
      "metadata": {
        "id": "tMJ9k9PA3jI7"
      },
      "execution_count": null,
      "outputs": []
    },
    {
      "cell_type": "code",
      "source": [
        "mtrcs.f1_score(y_test, pred)"
      ],
      "metadata": {
        "colab": {
          "base_uri": "https://localhost:8080/"
        },
        "id": "S-p4rRN23rr9",
        "outputId": "5182dc32-be53-4630-ff3f-024807fc171d"
      },
      "execution_count": null,
      "outputs": [
        {
          "output_type": "execute_result",
          "data": {
            "text/plain": [
              "0.7249599661600749"
            ]
          },
          "metadata": {},
          "execution_count": 188
        }
      ]
    },
    {
      "cell_type": "markdown",
      "source": [
        "### Submissão 6\n"
      ],
      "metadata": {
        "id": "TipFsOsW77IL"
      }
    },
    {
      "cell_type": "code",
      "source": [
        "## Balanceando os dados\n",
        "from imblearn.over_sampling import RandomOverSampler\n",
        "import category_encoders as ce\n",
        "\n",
        "ros = RandomOverSampler()\n",
        "\n",
        "y = df_.DS_STATUS_ITEM.map({\"Autorizado\":0, \"Negado\":1})\n",
        "X = df_.drop(columns=[\"DS_STATUS_ITEM\"])\n",
        "\n",
        "## balanceando\n",
        "X, y = ros.fit_resample(X,y)\n",
        "\n",
        "enc = ce.james_stein.JamesSteinEncoder(return_df=True)\n",
        "enc.fit(X, y)\n",
        "\n",
        "X = enc.transform(X)\n",
        "\n",
        "## já tranformando o df_test tambem\n",
        "df_test_ajeitado = ajeita_dados_2(df_test)\n",
        "df_test_ajeitado = enc.transform(df_test_ajeitado)"
      ],
      "metadata": {
        "id": "ACe8gsFm7z09"
      },
      "execution_count": null,
      "outputs": []
    },
    {
      "cell_type": "code",
      "source": [
        "clf.fit(X, y)"
      ],
      "metadata": {
        "colab": {
          "base_uri": "https://localhost:8080/"
        },
        "id": "SnpdAhSh9mJ2",
        "outputId": "e5767c05-9d0d-464b-b65a-d39e0750c93f"
      },
      "execution_count": null,
      "outputs": [
        {
          "output_type": "execute_result",
          "data": {
            "text/plain": [
              "RandomForestClassifier(bootstrap=True, ccp_alpha=0.0, class_weight=None,\n",
              "                       criterion='entropy', max_depth=None, max_features='auto',\n",
              "                       max_leaf_nodes=None, max_samples=None,\n",
              "                       min_impurity_decrease=0.0, min_impurity_split=None,\n",
              "                       min_samples_leaf=1, min_samples_split=40,\n",
              "                       min_weight_fraction_leaf=0.0, n_estimators=100,\n",
              "                       n_jobs=-1, oob_score=False, random_state=None, verbose=0,\n",
              "                       warm_start=False)"
            ]
          },
          "metadata": {},
          "execution_count": 688
        }
      ]
    },
    {
      "cell_type": "code",
      "source": [
        "pred = clf.predict(df_test_ajeitado)"
      ],
      "metadata": {
        "id": "Id7uzY0m5q2r"
      },
      "execution_count": null,
      "outputs": []
    },
    {
      "cell_type": "code",
      "source": [
        "submeta_papai(\"submissao7\", pred)"
      ],
      "metadata": {
        "id": "99ea__SY9pZr"
      },
      "execution_count": null,
      "outputs": []
    },
    {
      "cell_type": "markdown",
      "source": [
        "> 0.65 no kaggle... F"
      ],
      "metadata": {
        "id": "NSpY4E7VGF1x"
      }
    },
    {
      "cell_type": "markdown",
      "source": [
        "## Outros modelos"
      ],
      "metadata": {
        "id": "HaZPPLrJGI8N"
      }
    },
    {
      "cell_type": "markdown",
      "source": [
        "Hehehehe eu não estava normalizando ou standardizando as variáveis numéricas."
      ],
      "metadata": {
        "id": "SCWC52SL8Dwg"
      }
    },
    {
      "cell_type": "markdown",
      "source": [
        "### Pycaret uma última vez"
      ],
      "metadata": {
        "id": "uc634NNa__0L"
      }
    },
    {
      "cell_type": "code",
      "source": [
        "df.info()"
      ],
      "metadata": {
        "id": "1aRVvZyzAScl",
        "colab": {
          "base_uri": "https://localhost:8080/"
        },
        "outputId": "4186cdf7-ae24-4738-836a-42cd1feda959"
      },
      "execution_count": null,
      "outputs": [
        {
          "output_type": "stream",
          "name": "stdout",
          "text": [
            "<class 'pandas.core.frame.DataFrame'>\n",
            "Int64Index: 387659 entries, 0 to 413265\n",
            "Data columns (total 14 columns):\n",
            " #   Column                     Non-Null Count   Dtype  \n",
            "---  ------                     --------------   -----  \n",
            " 0   DS_TIPO_GUIA               387659 non-null  object \n",
            " 1   DT_NASCIMENTO              387659 non-null  int64  \n",
            " 2   DS_TIPO_PREST_SOLICITANTE  387659 non-null  object \n",
            " 3   DS_CBO                     387659 non-null  object \n",
            " 4   DS_CARATER_ATENDIMENTO     387659 non-null  object \n",
            " 5   DS_TIPO_ACOMODACAO         387659 non-null  object \n",
            " 6   QT_DIA_SOLICITADO          387659 non-null  float64\n",
            " 7   DS_TIPO_ATENDIMENTO        387659 non-null  object \n",
            " 8   DS_INDICACAO_CLINICA       387659 non-null  object \n",
            " 9   DS_TIPO_ITEM               387659 non-null  object \n",
            " 10  DS_SUBGRUPO                387659 non-null  object \n",
            " 11  DS_GRUPO                   387659 non-null  object \n",
            " 12  QT_SOLICITADA              387659 non-null  float64\n",
            " 13  DS_STATUS_ITEM             387659 non-null  object \n",
            "dtypes: float64(2), int64(1), object(11)\n",
            "memory usage: 44.4+ MB\n"
          ]
        }
      ]
    },
    {
      "cell_type": "code",
      "source": [
        "## Balanceando os dados\n",
        "from imblearn.over_sampling import RandomOverSampler\n",
        "from sklearn.preprocessing import MinMaxScaler\n",
        "import category_encoders\n",
        "\n",
        "ros = RandomOverSampler()\n",
        "\n",
        "scaler = MinMaxScaler()\n",
        "scaler.fit(df[[\"DT_NASCIMENTO\", \"QT_DIA_SOLICITADO\", \"QT_SOLICITADA\"]])\n",
        "#df[[\"DT_NASCIMENTO\", \"QT_DIA_SOLICITADO\", \"QT_SOLICITADA\"]] = scaler.transform(df[[\"DT_NASCIMENTO\", \"QT_DIA_SOLICITADO\", \"QT_SOLICITADA\"]])\n",
        "\n",
        "y = df.DS_STATUS_ITEM.map({\"Autorizado\":0, \"Negado\":1})\n",
        "X = df.drop(columns=[\"DS_STATUS_ITEM\"])\n",
        "\n",
        "## balanceando\n",
        "X, y = ros.fit_resample(X,y)\n",
        "\n",
        "## dividindo em treino e teste\n",
        "X_train, X_test, X_val, y_train, y_test, y_val = train_val_test(X, y)\n",
        "\n",
        "enc = category_encoders.james_stein.JamesSteinEncoder()\n",
        "\n",
        "enc.fit(X_train, y_train)\n",
        "\n",
        "X_train = enc.transform(X_train, y_train)\n",
        "X_val = enc.transform(X_val, y_val)\n",
        "X_test = enc.transform(X_test, y_test)\n",
        "\n",
        "## já tranformando o df_test tambem\n",
        "df_test_ajeitado = ajeita_dados_2(df_test)\n",
        "df_test_ajeitado = enc.transform(df_test_ajeitado)\n",
        "\n",
        "## Deve estar bugado o proximo comando, pois deve ser transform baseado nos dados de treino\n",
        "df_test_ajeitado[[\"DT_NASCIMENTO\", \"QT_DIA_SOLICITADO\", \"QT_SOLICITADA\"]] = scaler.fit_transform(df_test_ajeitado[[\"DT_NASCIMENTO\", \"QT_DIA_SOLICITADO\", \"QT_SOLICITADA\"]])"
      ],
      "metadata": {
        "id": "qy8IDPOcEw9B"
      },
      "execution_count": null,
      "outputs": []
    },
    {
      "cell_type": "code",
      "source": [
        "from pycaret.classification import *"
      ],
      "metadata": {
        "id": "0aJpbAGGFI5P"
      },
      "execution_count": null,
      "outputs": []
    },
    {
      "cell_type": "code",
      "source": [
        "X_train[\"DS_STATUS_ITEM\"] = y_train"
      ],
      "metadata": {
        "id": "41jX3f7MFI5P"
      },
      "execution_count": null,
      "outputs": []
    },
    {
      "cell_type": "code",
      "source": [
        "X_val[\"DS_STATUS_ITEM\"] = y_val"
      ],
      "metadata": {
        "id": "KuYO1AYyFI5P"
      },
      "execution_count": null,
      "outputs": []
    },
    {
      "cell_type": "code",
      "source": [
        "y_train.value_counts()"
      ],
      "metadata": {
        "colab": {
          "base_uri": "https://localhost:8080/"
        },
        "outputId": "6647ffe2-83af-42cb-8fbb-917c1e4ca0d6",
        "id": "BZKyfC0VFI5P"
      },
      "execution_count": null,
      "outputs": [
        {
          "output_type": "execute_result",
          "data": {
            "text/plain": [
              "1    150177\n",
              "0    149823\n",
              "Name: DS_STATUS_ITEM, dtype: int64"
            ]
          },
          "metadata": {},
          "execution_count": 167
        }
      ]
    },
    {
      "cell_type": "code",
      "source": [
        "s = setup(X_train, test_data=X_val, target = \"DS_STATUS_ITEM\", use_gpu=True, preprocess=False, numeric_features=['DS_TIPO_GUIA', 'DT_NASCIMENTO', 'DS_TIPO_PREST_SOLICITANTE', 'DS_CBO', 'DS_CARATER_ATENDIMENTO', 'DS_TIPO_ACOMODACAO', 'QT_DIA_SOLICITADO', 'DS_TIPO_ATENDIMENTO', 'DS_INDICACAO_CLINICA', 'DS_TIPO_ITEM', 'DS_SUBGRUPO', 'DS_GRUPO', 'QT_SOLICITADA'])"
      ],
      "metadata": {
        "colab": {
          "base_uri": "https://localhost:8080/",
          "height": 489,
          "referenced_widgets": [
            "fe7438e1caf84d5fa5ad3d69885a4ef0",
            "ee478e38259d47fdad99b23757ef3d49",
            "d996c8e364084be8bd1d080899d25882",
            "d1d0c65266654fa0ab086c1778e3060c",
            "882441a9e65149d9a3b01b59bcb140ca",
            "7841a6b22c2b47b0bdfeaa18ffa065db"
          ]
        },
        "outputId": "81f17f27-4de2-4a69-a7a3-e2d9e6bbf136",
        "id": "51YhzDwKFI5Q"
      },
      "execution_count": null,
      "outputs": [
        {
          "output_type": "display_data",
          "data": {
            "text/plain": [
              "<pandas.io.formats.style.Styler at 0x2434de41e50>"
            ],
            "text/html": [
              "<style type=\"text/css\">\n",
              "#T_6c5c0_row15_col1 {\n",
              "  background-color: lightgreen;\n",
              "}\n",
              "</style>\n",
              "<table id=\"T_6c5c0\">\n",
              "  <thead>\n",
              "    <tr>\n",
              "      <th class=\"blank level0\" >&nbsp;</th>\n",
              "      <th id=\"T_6c5c0_level0_col0\" class=\"col_heading level0 col0\" >Description</th>\n",
              "      <th id=\"T_6c5c0_level0_col1\" class=\"col_heading level0 col1\" >Value</th>\n",
              "    </tr>\n",
              "  </thead>\n",
              "  <tbody>\n",
              "    <tr>\n",
              "      <th id=\"T_6c5c0_level0_row0\" class=\"row_heading level0 row0\" >0</th>\n",
              "      <td id=\"T_6c5c0_row0_col0\" class=\"data row0 col0\" >session_id</td>\n",
              "      <td id=\"T_6c5c0_row0_col1\" class=\"data row0 col1\" >2196</td>\n",
              "    </tr>\n",
              "    <tr>\n",
              "      <th id=\"T_6c5c0_level0_row1\" class=\"row_heading level0 row1\" >1</th>\n",
              "      <td id=\"T_6c5c0_row1_col0\" class=\"data row1 col0\" >Target</td>\n",
              "      <td id=\"T_6c5c0_row1_col1\" class=\"data row1 col1\" >DS_STATUS_ITEM</td>\n",
              "    </tr>\n",
              "    <tr>\n",
              "      <th id=\"T_6c5c0_level0_row2\" class=\"row_heading level0 row2\" >2</th>\n",
              "      <td id=\"T_6c5c0_row2_col0\" class=\"data row2 col0\" >Target Type</td>\n",
              "      <td id=\"T_6c5c0_row2_col1\" class=\"data row2 col1\" >Binary</td>\n",
              "    </tr>\n",
              "    <tr>\n",
              "      <th id=\"T_6c5c0_level0_row3\" class=\"row_heading level0 row3\" >3</th>\n",
              "      <td id=\"T_6c5c0_row3_col0\" class=\"data row3 col0\" >Label Encoded</td>\n",
              "      <td id=\"T_6c5c0_row3_col1\" class=\"data row3 col1\" >None</td>\n",
              "    </tr>\n",
              "    <tr>\n",
              "      <th id=\"T_6c5c0_level0_row4\" class=\"row_heading level0 row4\" >4</th>\n",
              "      <td id=\"T_6c5c0_row4_col0\" class=\"data row4 col0\" >Original Data</td>\n",
              "      <td id=\"T_6c5c0_row4_col1\" class=\"data row4 col1\" >(300000, 14)</td>\n",
              "    </tr>\n",
              "    <tr>\n",
              "      <th id=\"T_6c5c0_level0_row5\" class=\"row_heading level0 row5\" >5</th>\n",
              "      <td id=\"T_6c5c0_row5_col0\" class=\"data row5 col0\" >Missing Values</td>\n",
              "      <td id=\"T_6c5c0_row5_col1\" class=\"data row5 col1\" >False</td>\n",
              "    </tr>\n",
              "    <tr>\n",
              "      <th id=\"T_6c5c0_level0_row6\" class=\"row_heading level0 row6\" >6</th>\n",
              "      <td id=\"T_6c5c0_row6_col0\" class=\"data row6 col0\" >Numeric Features</td>\n",
              "      <td id=\"T_6c5c0_row6_col1\" class=\"data row6 col1\" >13</td>\n",
              "    </tr>\n",
              "    <tr>\n",
              "      <th id=\"T_6c5c0_level0_row7\" class=\"row_heading level0 row7\" >7</th>\n",
              "      <td id=\"T_6c5c0_row7_col0\" class=\"data row7 col0\" >Categorical Features</td>\n",
              "      <td id=\"T_6c5c0_row7_col1\" class=\"data row7 col1\" >0</td>\n",
              "    </tr>\n",
              "    <tr>\n",
              "      <th id=\"T_6c5c0_level0_row8\" class=\"row_heading level0 row8\" >8</th>\n",
              "      <td id=\"T_6c5c0_row8_col0\" class=\"data row8 col0\" >Transformed Train Set</td>\n",
              "      <td id=\"T_6c5c0_row8_col1\" class=\"data row8 col1\" >(300000, 13)</td>\n",
              "    </tr>\n",
              "    <tr>\n",
              "      <th id=\"T_6c5c0_level0_row9\" class=\"row_heading level0 row9\" >9</th>\n",
              "      <td id=\"T_6c5c0_row9_col0\" class=\"data row9 col0\" >Transformed Test Set</td>\n",
              "      <td id=\"T_6c5c0_row9_col1\" class=\"data row9 col1\" >(100000, 13)</td>\n",
              "    </tr>\n",
              "    <tr>\n",
              "      <th id=\"T_6c5c0_level0_row10\" class=\"row_heading level0 row10\" >10</th>\n",
              "      <td id=\"T_6c5c0_row10_col0\" class=\"data row10 col0\" >Shuffle Train-Test</td>\n",
              "      <td id=\"T_6c5c0_row10_col1\" class=\"data row10 col1\" >True</td>\n",
              "    </tr>\n",
              "    <tr>\n",
              "      <th id=\"T_6c5c0_level0_row11\" class=\"row_heading level0 row11\" >11</th>\n",
              "      <td id=\"T_6c5c0_row11_col0\" class=\"data row11 col0\" >Stratify Train-Test</td>\n",
              "      <td id=\"T_6c5c0_row11_col1\" class=\"data row11 col1\" >False</td>\n",
              "    </tr>\n",
              "    <tr>\n",
              "      <th id=\"T_6c5c0_level0_row12\" class=\"row_heading level0 row12\" >12</th>\n",
              "      <td id=\"T_6c5c0_row12_col0\" class=\"data row12 col0\" >Fold Generator</td>\n",
              "      <td id=\"T_6c5c0_row12_col1\" class=\"data row12 col1\" >StratifiedKFold</td>\n",
              "    </tr>\n",
              "    <tr>\n",
              "      <th id=\"T_6c5c0_level0_row13\" class=\"row_heading level0 row13\" >13</th>\n",
              "      <td id=\"T_6c5c0_row13_col0\" class=\"data row13 col0\" >Fold Number</td>\n",
              "      <td id=\"T_6c5c0_row13_col1\" class=\"data row13 col1\" >10</td>\n",
              "    </tr>\n",
              "    <tr>\n",
              "      <th id=\"T_6c5c0_level0_row14\" class=\"row_heading level0 row14\" >14</th>\n",
              "      <td id=\"T_6c5c0_row14_col0\" class=\"data row14 col0\" >CPU Jobs</td>\n",
              "      <td id=\"T_6c5c0_row14_col1\" class=\"data row14 col1\" >-1</td>\n",
              "    </tr>\n",
              "    <tr>\n",
              "      <th id=\"T_6c5c0_level0_row15\" class=\"row_heading level0 row15\" >15</th>\n",
              "      <td id=\"T_6c5c0_row15_col0\" class=\"data row15 col0\" >Use GPU</td>\n",
              "      <td id=\"T_6c5c0_row15_col1\" class=\"data row15 col1\" >True</td>\n",
              "    </tr>\n",
              "    <tr>\n",
              "      <th id=\"T_6c5c0_level0_row16\" class=\"row_heading level0 row16\" >16</th>\n",
              "      <td id=\"T_6c5c0_row16_col0\" class=\"data row16 col0\" >Log Experiment</td>\n",
              "      <td id=\"T_6c5c0_row16_col1\" class=\"data row16 col1\" >False</td>\n",
              "    </tr>\n",
              "    <tr>\n",
              "      <th id=\"T_6c5c0_level0_row17\" class=\"row_heading level0 row17\" >17</th>\n",
              "      <td id=\"T_6c5c0_row17_col0\" class=\"data row17 col0\" >Experiment Name</td>\n",
              "      <td id=\"T_6c5c0_row17_col1\" class=\"data row17 col1\" >clf-default-name</td>\n",
              "    </tr>\n",
              "    <tr>\n",
              "      <th id=\"T_6c5c0_level0_row18\" class=\"row_heading level0 row18\" >18</th>\n",
              "      <td id=\"T_6c5c0_row18_col0\" class=\"data row18 col0\" >USI</td>\n",
              "      <td id=\"T_6c5c0_row18_col1\" class=\"data row18 col1\" >befb</td>\n",
              "    </tr>\n",
              "    <tr>\n",
              "      <th id=\"T_6c5c0_level0_row19\" class=\"row_heading level0 row19\" >19</th>\n",
              "      <td id=\"T_6c5c0_row19_col0\" class=\"data row19 col0\" >Fix Imbalance</td>\n",
              "      <td id=\"T_6c5c0_row19_col1\" class=\"data row19 col1\" >False</td>\n",
              "    </tr>\n",
              "    <tr>\n",
              "      <th id=\"T_6c5c0_level0_row20\" class=\"row_heading level0 row20\" >20</th>\n",
              "      <td id=\"T_6c5c0_row20_col0\" class=\"data row20 col0\" >Fix Imbalance Method</td>\n",
              "      <td id=\"T_6c5c0_row20_col1\" class=\"data row20 col1\" >SMOTE</td>\n",
              "    </tr>\n",
              "  </tbody>\n",
              "</table>\n"
            ]
          },
          "metadata": {}
        }
      ]
    },
    {
      "cell_type": "code",
      "source": [
        "best = compare_models()"
      ],
      "metadata": {
        "colab": {
          "base_uri": "https://localhost:8080/",
          "height": 361,
          "referenced_widgets": [
            "831791c6a85d44d8afde35d35e11ab0e",
            "01a5fb577ae34670b5e8c7366a71c83a",
            "e4a0b5ef9da64db890fec9a33f31f44c"
          ]
        },
        "outputId": "7600de4f-c63c-4dcd-e26d-59e349e53c04",
        "id": "KG9Fi8YiFI5Q"
      },
      "execution_count": null,
      "outputs": [
        {
          "output_type": "display_data",
          "data": {
            "text/plain": [
              "<pandas.io.formats.style.Styler at 0x2434e07d7c0>"
            ],
            "text/html": [
              "<style type=\"text/css\">\n",
              "#T_58655 th {\n",
              "  text-align: left;\n",
              "}\n",
              "#T_58655_row0_col0, #T_58655_row0_col3, #T_58655_row0_col4, #T_58655_row1_col0, #T_58655_row1_col1, #T_58655_row1_col2, #T_58655_row1_col3, #T_58655_row1_col5, #T_58655_row1_col6, #T_58655_row1_col7, #T_58655_row2_col0, #T_58655_row2_col1, #T_58655_row2_col2, #T_58655_row2_col3, #T_58655_row2_col4, #T_58655_row2_col5, #T_58655_row2_col6, #T_58655_row2_col7, #T_58655_row3_col0, #T_58655_row3_col1, #T_58655_row3_col2, #T_58655_row3_col3, #T_58655_row3_col4, #T_58655_row3_col5, #T_58655_row3_col6, #T_58655_row3_col7, #T_58655_row4_col0, #T_58655_row4_col1, #T_58655_row4_col2, #T_58655_row4_col3, #T_58655_row4_col4, #T_58655_row4_col5, #T_58655_row4_col6, #T_58655_row4_col7, #T_58655_row5_col0, #T_58655_row5_col1, #T_58655_row5_col2, #T_58655_row5_col3, #T_58655_row5_col4, #T_58655_row5_col5, #T_58655_row5_col6, #T_58655_row5_col7, #T_58655_row6_col0, #T_58655_row6_col1, #T_58655_row6_col2, #T_58655_row6_col3, #T_58655_row6_col4, #T_58655_row6_col5, #T_58655_row6_col6, #T_58655_row6_col7, #T_58655_row7_col0, #T_58655_row7_col1, #T_58655_row7_col2, #T_58655_row7_col3, #T_58655_row7_col4, #T_58655_row7_col5, #T_58655_row7_col6, #T_58655_row7_col7, #T_58655_row8_col0, #T_58655_row8_col1, #T_58655_row8_col2, #T_58655_row8_col3, #T_58655_row8_col4, #T_58655_row8_col5, #T_58655_row8_col6, #T_58655_row8_col7, #T_58655_row9_col0, #T_58655_row9_col1, #T_58655_row9_col2, #T_58655_row9_col3, #T_58655_row9_col4, #T_58655_row9_col5, #T_58655_row9_col6, #T_58655_row9_col7, #T_58655_row10_col0, #T_58655_row10_col1, #T_58655_row10_col2, #T_58655_row10_col3, #T_58655_row10_col4, #T_58655_row10_col5, #T_58655_row10_col6, #T_58655_row10_col7, #T_58655_row11_col0, #T_58655_row11_col1, #T_58655_row11_col2, #T_58655_row11_col3, #T_58655_row11_col4, #T_58655_row11_col5, #T_58655_row11_col6, #T_58655_row11_col7, #T_58655_row12_col0, #T_58655_row12_col1, #T_58655_row12_col2, #T_58655_row12_col3, #T_58655_row12_col4, #T_58655_row12_col5, #T_58655_row12_col6, #T_58655_row12_col7, #T_58655_row13_col0, #T_58655_row13_col1, #T_58655_row13_col2, #T_58655_row13_col3, #T_58655_row13_col4, #T_58655_row13_col5, #T_58655_row13_col6, #T_58655_row13_col7, #T_58655_row14_col0, #T_58655_row14_col1, #T_58655_row14_col2, #T_58655_row14_col4, #T_58655_row14_col5, #T_58655_row14_col6, #T_58655_row14_col7 {\n",
              "  text-align: left;\n",
              "}\n",
              "#T_58655_row0_col1, #T_58655_row0_col2, #T_58655_row0_col5, #T_58655_row0_col6, #T_58655_row0_col7, #T_58655_row1_col4, #T_58655_row14_col3 {\n",
              "  text-align: left;\n",
              "  background-color: yellow;\n",
              "}\n",
              "#T_58655_row0_col8, #T_58655_row1_col8, #T_58655_row2_col8, #T_58655_row3_col8, #T_58655_row4_col8, #T_58655_row5_col8, #T_58655_row6_col8, #T_58655_row7_col8, #T_58655_row8_col8, #T_58655_row9_col8, #T_58655_row10_col8, #T_58655_row11_col8, #T_58655_row12_col8, #T_58655_row13_col8 {\n",
              "  text-align: left;\n",
              "  background-color: lightgrey;\n",
              "}\n",
              "#T_58655_row14_col8 {\n",
              "  text-align: left;\n",
              "  background-color: yellow;\n",
              "  background-color: lightgrey;\n",
              "}\n",
              "</style>\n",
              "<table id=\"T_58655\">\n",
              "  <thead>\n",
              "    <tr>\n",
              "      <th class=\"blank level0\" >&nbsp;</th>\n",
              "      <th id=\"T_58655_level0_col0\" class=\"col_heading level0 col0\" >Model</th>\n",
              "      <th id=\"T_58655_level0_col1\" class=\"col_heading level0 col1\" >Accuracy</th>\n",
              "      <th id=\"T_58655_level0_col2\" class=\"col_heading level0 col2\" >AUC</th>\n",
              "      <th id=\"T_58655_level0_col3\" class=\"col_heading level0 col3\" >Recall</th>\n",
              "      <th id=\"T_58655_level0_col4\" class=\"col_heading level0 col4\" >Prec.</th>\n",
              "      <th id=\"T_58655_level0_col5\" class=\"col_heading level0 col5\" >F1</th>\n",
              "      <th id=\"T_58655_level0_col6\" class=\"col_heading level0 col6\" >Kappa</th>\n",
              "      <th id=\"T_58655_level0_col7\" class=\"col_heading level0 col7\" >MCC</th>\n",
              "      <th id=\"T_58655_level0_col8\" class=\"col_heading level0 col8\" >TT (Sec)</th>\n",
              "    </tr>\n",
              "  </thead>\n",
              "  <tbody>\n",
              "    <tr>\n",
              "      <th id=\"T_58655_level0_row0\" class=\"row_heading level0 row0\" >rf</th>\n",
              "      <td id=\"T_58655_row0_col0\" class=\"data row0 col0\" >Random Forest Classifier</td>\n",
              "      <td id=\"T_58655_row0_col1\" class=\"data row0 col1\" >0.7518</td>\n",
              "      <td id=\"T_58655_row0_col2\" class=\"data row0 col2\" >0.8355</td>\n",
              "      <td id=\"T_58655_row0_col3\" class=\"data row0 col3\" >0.7711</td>\n",
              "      <td id=\"T_58655_row0_col4\" class=\"data row0 col4\" >0.7428</td>\n",
              "      <td id=\"T_58655_row0_col5\" class=\"data row0 col5\" >0.7567</td>\n",
              "      <td id=\"T_58655_row0_col6\" class=\"data row0 col6\" >0.5035</td>\n",
              "      <td id=\"T_58655_row0_col7\" class=\"data row0 col7\" >0.5039</td>\n",
              "      <td id=\"T_58655_row0_col8\" class=\"data row0 col8\" >10.4690</td>\n",
              "    </tr>\n",
              "    <tr>\n",
              "      <th id=\"T_58655_level0_row1\" class=\"row_heading level0 row1\" >et</th>\n",
              "      <td id=\"T_58655_row1_col0\" class=\"data row1 col0\" >Extra Trees Classifier</td>\n",
              "      <td id=\"T_58655_row1_col1\" class=\"data row1 col1\" >0.7475</td>\n",
              "      <td id=\"T_58655_row1_col2\" class=\"data row1 col2\" >0.8316</td>\n",
              "      <td id=\"T_58655_row1_col3\" class=\"data row1 col3\" >0.7439</td>\n",
              "      <td id=\"T_58655_row1_col4\" class=\"data row1 col4\" >0.7497</td>\n",
              "      <td id=\"T_58655_row1_col5\" class=\"data row1 col5\" >0.7468</td>\n",
              "      <td id=\"T_58655_row1_col6\" class=\"data row1 col6\" >0.4950</td>\n",
              "      <td id=\"T_58655_row1_col7\" class=\"data row1 col7\" >0.4950</td>\n",
              "      <td id=\"T_58655_row1_col8\" class=\"data row1 col8\" >11.5190</td>\n",
              "    </tr>\n",
              "    <tr>\n",
              "      <th id=\"T_58655_level0_row2\" class=\"row_heading level0 row2\" >dt</th>\n",
              "      <td id=\"T_58655_row2_col0\" class=\"data row2 col0\" >Decision Tree Classifier</td>\n",
              "      <td id=\"T_58655_row2_col1\" class=\"data row2 col1\" >0.7456</td>\n",
              "      <td id=\"T_58655_row2_col2\" class=\"data row2 col2\" >0.8069</td>\n",
              "      <td id=\"T_58655_row2_col3\" class=\"data row2 col3\" >0.7462</td>\n",
              "      <td id=\"T_58655_row2_col4\" class=\"data row2 col4\" >0.7458</td>\n",
              "      <td id=\"T_58655_row2_col5\" class=\"data row2 col5\" >0.7460</td>\n",
              "      <td id=\"T_58655_row2_col6\" class=\"data row2 col6\" >0.4912</td>\n",
              "      <td id=\"T_58655_row2_col7\" class=\"data row2 col7\" >0.4912</td>\n",
              "      <td id=\"T_58655_row2_col8\" class=\"data row2 col8\" >1.0560</td>\n",
              "    </tr>\n",
              "    <tr>\n",
              "      <th id=\"T_58655_level0_row3\" class=\"row_heading level0 row3\" >knn</th>\n",
              "      <td id=\"T_58655_row3_col0\" class=\"data row3 col0\" >K Neighbors Classifier</td>\n",
              "      <td id=\"T_58655_row3_col1\" class=\"data row3 col1\" >0.7015</td>\n",
              "      <td id=\"T_58655_row3_col2\" class=\"data row3 col2\" >0.7730</td>\n",
              "      <td id=\"T_58655_row3_col3\" class=\"data row3 col3\" >0.7261</td>\n",
              "      <td id=\"T_58655_row3_col4\" class=\"data row3 col4\" >0.6925</td>\n",
              "      <td id=\"T_58655_row3_col5\" class=\"data row3 col5\" >0.7089</td>\n",
              "      <td id=\"T_58655_row3_col6\" class=\"data row3 col6\" >0.4029</td>\n",
              "      <td id=\"T_58655_row3_col7\" class=\"data row3 col7\" >0.4034</td>\n",
              "      <td id=\"T_58655_row3_col8\" class=\"data row3 col8\" >21.3610</td>\n",
              "    </tr>\n",
              "    <tr>\n",
              "      <th id=\"T_58655_level0_row4\" class=\"row_heading level0 row4\" >lightgbm</th>\n",
              "      <td id=\"T_58655_row4_col0\" class=\"data row4 col0\" >Light Gradient Boosting Machine</td>\n",
              "      <td id=\"T_58655_row4_col1\" class=\"data row4 col1\" >0.6617</td>\n",
              "      <td id=\"T_58655_row4_col2\" class=\"data row4 col2\" >0.7215</td>\n",
              "      <td id=\"T_58655_row4_col3\" class=\"data row4 col3\" >0.6226</td>\n",
              "      <td id=\"T_58655_row4_col4\" class=\"data row4 col4\" >0.6761</td>\n",
              "      <td id=\"T_58655_row4_col5\" class=\"data row4 col5\" >0.6482</td>\n",
              "      <td id=\"T_58655_row4_col6\" class=\"data row4 col6\" >0.3236</td>\n",
              "      <td id=\"T_58655_row4_col7\" class=\"data row4 col7\" >0.3246</td>\n",
              "      <td id=\"T_58655_row4_col8\" class=\"data row4 col8\" >2.3370</td>\n",
              "    </tr>\n",
              "    <tr>\n",
              "      <th id=\"T_58655_level0_row5\" class=\"row_heading level0 row5\" >catboost</th>\n",
              "      <td id=\"T_58655_row5_col0\" class=\"data row5 col0\" >CatBoost Classifier</td>\n",
              "      <td id=\"T_58655_row5_col1\" class=\"data row5 col1\" >0.6603</td>\n",
              "      <td id=\"T_58655_row5_col2\" class=\"data row5 col2\" >0.7204</td>\n",
              "      <td id=\"T_58655_row5_col3\" class=\"data row5 col3\" >0.6267</td>\n",
              "      <td id=\"T_58655_row5_col4\" class=\"data row5 col4\" >0.6724</td>\n",
              "      <td id=\"T_58655_row5_col5\" class=\"data row5 col5\" >0.6488</td>\n",
              "      <td id=\"T_58655_row5_col6\" class=\"data row5 col6\" >0.3206</td>\n",
              "      <td id=\"T_58655_row5_col7\" class=\"data row5 col7\" >0.3214</td>\n",
              "      <td id=\"T_58655_row5_col8\" class=\"data row5 col8\" >8.0580</td>\n",
              "    </tr>\n",
              "    <tr>\n",
              "      <th id=\"T_58655_level0_row6\" class=\"row_heading level0 row6\" >gbc</th>\n",
              "      <td id=\"T_58655_row6_col0\" class=\"data row6 col0\" >Gradient Boosting Classifier</td>\n",
              "      <td id=\"T_58655_row6_col1\" class=\"data row6 col1\" >0.6288</td>\n",
              "      <td id=\"T_58655_row6_col2\" class=\"data row6 col2\" >0.6814</td>\n",
              "      <td id=\"T_58655_row6_col3\" class=\"data row6 col3\" >0.5674</td>\n",
              "      <td id=\"T_58655_row6_col4\" class=\"data row6 col4\" >0.6475</td>\n",
              "      <td id=\"T_58655_row6_col5\" class=\"data row6 col5\" >0.6048</td>\n",
              "      <td id=\"T_58655_row6_col6\" class=\"data row6 col6\" >0.2577</td>\n",
              "      <td id=\"T_58655_row6_col7\" class=\"data row6 col7\" >0.2597</td>\n",
              "      <td id=\"T_58655_row6_col8\" class=\"data row6 col8\" >20.5540</td>\n",
              "    </tr>\n",
              "    <tr>\n",
              "      <th id=\"T_58655_level0_row7\" class=\"row_heading level0 row7\" >ada</th>\n",
              "      <td id=\"T_58655_row7_col0\" class=\"data row7 col0\" >Ada Boost Classifier</td>\n",
              "      <td id=\"T_58655_row7_col1\" class=\"data row7 col1\" >0.6121</td>\n",
              "      <td id=\"T_58655_row7_col2\" class=\"data row7 col2\" >0.6530</td>\n",
              "      <td id=\"T_58655_row7_col3\" class=\"data row7 col3\" >0.5638</td>\n",
              "      <td id=\"T_58655_row7_col4\" class=\"data row7 col4\" >0.6248</td>\n",
              "      <td id=\"T_58655_row7_col5\" class=\"data row7 col5\" >0.5927</td>\n",
              "      <td id=\"T_58655_row7_col6\" class=\"data row7 col6\" >0.2243</td>\n",
              "      <td id=\"T_58655_row7_col7\" class=\"data row7 col7\" >0.2254</td>\n",
              "      <td id=\"T_58655_row7_col8\" class=\"data row7 col8\" >6.0890</td>\n",
              "    </tr>\n",
              "    <tr>\n",
              "      <th id=\"T_58655_level0_row8\" class=\"row_heading level0 row8\" >qda</th>\n",
              "      <td id=\"T_58655_row8_col0\" class=\"data row8 col0\" >Quadratic Discriminant Analysis</td>\n",
              "      <td id=\"T_58655_row8_col1\" class=\"data row8 col1\" >0.6008</td>\n",
              "      <td id=\"T_58655_row8_col2\" class=\"data row8 col2\" >0.6388</td>\n",
              "      <td id=\"T_58655_row8_col3\" class=\"data row8 col3\" >0.4773</td>\n",
              "      <td id=\"T_58655_row8_col4\" class=\"data row8 col4\" >0.6347</td>\n",
              "      <td id=\"T_58655_row8_col5\" class=\"data row8 col5\" >0.5448</td>\n",
              "      <td id=\"T_58655_row8_col6\" class=\"data row8 col6\" >0.2018</td>\n",
              "      <td id=\"T_58655_row8_col7\" class=\"data row8 col7\" >0.2084</td>\n",
              "      <td id=\"T_58655_row8_col8\" class=\"data row8 col8\" >0.2050</td>\n",
              "    </tr>\n",
              "    <tr>\n",
              "      <th id=\"T_58655_level0_row9\" class=\"row_heading level0 row9\" >lda</th>\n",
              "      <td id=\"T_58655_row9_col0\" class=\"data row9 col0\" >Linear Discriminant Analysis</td>\n",
              "      <td id=\"T_58655_row9_col1\" class=\"data row9 col1\" >0.6006</td>\n",
              "      <td id=\"T_58655_row9_col2\" class=\"data row9 col2\" >0.6393</td>\n",
              "      <td id=\"T_58655_row9_col3\" class=\"data row9 col3\" >0.5214</td>\n",
              "      <td id=\"T_58655_row9_col4\" class=\"data row9 col4\" >0.6203</td>\n",
              "      <td id=\"T_58655_row9_col5\" class=\"data row9 col5\" >0.5665</td>\n",
              "      <td id=\"T_58655_row9_col6\" class=\"data row9 col6\" >0.2014</td>\n",
              "      <td id=\"T_58655_row9_col7\" class=\"data row9 col7\" >0.2040</td>\n",
              "      <td id=\"T_58655_row9_col8\" class=\"data row9 col8\" >0.4430</td>\n",
              "    </tr>\n",
              "    <tr>\n",
              "      <th id=\"T_58655_level0_row10\" class=\"row_heading level0 row10\" >ridge</th>\n",
              "      <td id=\"T_58655_row10_col0\" class=\"data row10 col0\" >Ridge Classifier</td>\n",
              "      <td id=\"T_58655_row10_col1\" class=\"data row10 col1\" >0.6005</td>\n",
              "      <td id=\"T_58655_row10_col2\" class=\"data row10 col2\" >0.0000</td>\n",
              "      <td id=\"T_58655_row10_col3\" class=\"data row10 col3\" >0.5212</td>\n",
              "      <td id=\"T_58655_row10_col4\" class=\"data row10 col4\" >0.6201</td>\n",
              "      <td id=\"T_58655_row10_col5\" class=\"data row10 col5\" >0.5664</td>\n",
              "      <td id=\"T_58655_row10_col6\" class=\"data row10 col6\" >0.2011</td>\n",
              "      <td id=\"T_58655_row10_col7\" class=\"data row10 col7\" >0.2037</td>\n",
              "      <td id=\"T_58655_row10_col8\" class=\"data row10 col8\" >0.1480</td>\n",
              "    </tr>\n",
              "    <tr>\n",
              "      <th id=\"T_58655_level0_row11\" class=\"row_heading level0 row11\" >lr</th>\n",
              "      <td id=\"T_58655_row11_col0\" class=\"data row11 col0\" >Logistic Regression</td>\n",
              "      <td id=\"T_58655_row11_col1\" class=\"data row11 col1\" >0.5990</td>\n",
              "      <td id=\"T_58655_row11_col2\" class=\"data row11 col2\" >0.6395</td>\n",
              "      <td id=\"T_58655_row11_col3\" class=\"data row11 col3\" >0.5355</td>\n",
              "      <td id=\"T_58655_row11_col4\" class=\"data row11 col4\" >0.6140</td>\n",
              "      <td id=\"T_58655_row11_col5\" class=\"data row11 col5\" >0.5721</td>\n",
              "      <td id=\"T_58655_row11_col6\" class=\"data row11 col6\" >0.1981</td>\n",
              "      <td id=\"T_58655_row11_col7\" class=\"data row11 col7\" >0.1997</td>\n",
              "      <td id=\"T_58655_row11_col8\" class=\"data row11 col8\" >1.6170</td>\n",
              "    </tr>\n",
              "    <tr>\n",
              "      <th id=\"T_58655_level0_row12\" class=\"row_heading level0 row12\" >svm</th>\n",
              "      <td id=\"T_58655_row12_col0\" class=\"data row12 col0\" >SVM - Linear Kernel</td>\n",
              "      <td id=\"T_58655_row12_col1\" class=\"data row12 col1\" >0.5891</td>\n",
              "      <td id=\"T_58655_row12_col2\" class=\"data row12 col2\" >0.0000</td>\n",
              "      <td id=\"T_58655_row12_col3\" class=\"data row12 col3\" >0.4176</td>\n",
              "      <td id=\"T_58655_row12_col4\" class=\"data row12 col4\" >0.6368</td>\n",
              "      <td id=\"T_58655_row12_col5\" class=\"data row12 col5\" >0.5043</td>\n",
              "      <td id=\"T_58655_row12_col6\" class=\"data row12 col6\" >0.1786</td>\n",
              "      <td id=\"T_58655_row12_col7\" class=\"data row12 col7\" >0.1903</td>\n",
              "      <td id=\"T_58655_row12_col8\" class=\"data row12 col8\" >0.6520</td>\n",
              "    </tr>\n",
              "    <tr>\n",
              "      <th id=\"T_58655_level0_row13\" class=\"row_heading level0 row13\" >nb</th>\n",
              "      <td id=\"T_58655_row13_col0\" class=\"data row13 col0\" >Naive Bayes</td>\n",
              "      <td id=\"T_58655_row13_col1\" class=\"data row13 col1\" >0.5747</td>\n",
              "      <td id=\"T_58655_row13_col2\" class=\"data row13 col2\" >0.6113</td>\n",
              "      <td id=\"T_58655_row13_col3\" class=\"data row13 col3\" >0.4689</td>\n",
              "      <td id=\"T_58655_row13_col4\" class=\"data row13 col4\" >0.5956</td>\n",
              "      <td id=\"T_58655_row13_col5\" class=\"data row13 col5\" >0.5247</td>\n",
              "      <td id=\"T_58655_row13_col6\" class=\"data row13 col6\" >0.1497</td>\n",
              "      <td id=\"T_58655_row13_col7\" class=\"data row13 col7\" >0.1532</td>\n",
              "      <td id=\"T_58655_row13_col8\" class=\"data row13 col8\" >0.1470</td>\n",
              "    </tr>\n",
              "    <tr>\n",
              "      <th id=\"T_58655_level0_row14\" class=\"row_heading level0 row14\" >dummy</th>\n",
              "      <td id=\"T_58655_row14_col0\" class=\"data row14 col0\" >Dummy Classifier</td>\n",
              "      <td id=\"T_58655_row14_col1\" class=\"data row14 col1\" >0.5006</td>\n",
              "      <td id=\"T_58655_row14_col2\" class=\"data row14 col2\" >0.5000</td>\n",
              "      <td id=\"T_58655_row14_col3\" class=\"data row14 col3\" >1.0000</td>\n",
              "      <td id=\"T_58655_row14_col4\" class=\"data row14 col4\" >0.5006</td>\n",
              "      <td id=\"T_58655_row14_col5\" class=\"data row14 col5\" >0.6672</td>\n",
              "      <td id=\"T_58655_row14_col6\" class=\"data row14 col6\" >0.0000</td>\n",
              "      <td id=\"T_58655_row14_col7\" class=\"data row14 col7\" >0.0000</td>\n",
              "      <td id=\"T_58655_row14_col8\" class=\"data row14 col8\" >0.0860</td>\n",
              "    </tr>\n",
              "  </tbody>\n",
              "</table>\n"
            ]
          },
          "metadata": {}
        }
      ]
    },
    {
      "cell_type": "code",
      "source": [
        "print(best)"
      ],
      "metadata": {
        "colab": {
          "base_uri": "https://localhost:8080/"
        },
        "outputId": "a973b689-7677-419c-9a99-4d2e42cedd83",
        "id": "KsaO5JcfFI5Q"
      },
      "execution_count": null,
      "outputs": [
        {
          "output_type": "stream",
          "name": "stdout",
          "text": [
            "RandomForestClassifier(bootstrap=True, ccp_alpha=0.0, class_weight=None,\n",
            "                       criterion='gini', max_depth=None, max_features='auto',\n",
            "                       max_leaf_nodes=None, max_samples=None,\n",
            "                       min_impurity_decrease=0.0, min_impurity_split=None,\n",
            "                       min_samples_leaf=1, min_samples_split=2,\n",
            "                       min_weight_fraction_leaf=0.0, n_estimators=100,\n",
            "                       n_jobs=-1, oob_score=False, random_state=2196, verbose=0,\n",
            "                       warm_start=False)\n"
          ]
        }
      ]
    },
    {
      "cell_type": "code",
      "source": [
        "from sklearn.ensemble import RandomForestClassifier\n",
        "\n",
        "clf = RandomForestClassifier(bootstrap=True, ccp_alpha=0.0, class_weight=None,\n",
        "                       criterion='gini', max_depth=None, max_features='auto',\n",
        "                       max_leaf_nodes=None, max_samples=None,\n",
        "                       min_impurity_decrease=0.0, min_impurity_split=None,\n",
        "                       min_samples_leaf=1, min_samples_split=2,\n",
        "                       min_weight_fraction_leaf=0.0, n_estimators=100,\n",
        "                       n_jobs=-1, oob_score=False, random_state=2196, verbose=0,\n",
        "                       warm_start=False)\n",
        "clf.fit(X_train, y_train)"
      ],
      "metadata": {
        "colab": {
          "base_uri": "https://localhost:8080/"
        },
        "id": "rHZ5iY6JJv5m",
        "outputId": "ec3a2c7a-d2de-4bc3-a7e7-0c29d83ca18d"
      },
      "execution_count": null,
      "outputs": [
        {
          "output_type": "execute_result",
          "data": {
            "text/plain": [
              "RandomForestClassifier(bootstrap=True, ccp_alpha=0.0, class_weight=None,\n",
              "                       criterion='gini', max_depth=None, max_features='auto',\n",
              "                       max_leaf_nodes=None, max_samples=None,\n",
              "                       min_impurity_decrease=0.0, min_impurity_split=None,\n",
              "                       min_samples_leaf=1, min_samples_split=2,\n",
              "                       min_weight_fraction_leaf=0.0, n_estimators=100,\n",
              "                       n_jobs=-1, oob_score=False, random_state=2196, verbose=0,\n",
              "                       warm_start=False)"
            ]
          },
          "metadata": {},
          "execution_count": 177
        }
      ]
    },
    {
      "cell_type": "code",
      "source": [
        "pred = clf.predict(X_test)"
      ],
      "metadata": {
        "id": "GuKEqaj-KGkj"
      },
      "execution_count": null,
      "outputs": []
    },
    {
      "cell_type": "code",
      "source": [
        "from sklearn.metrics import f1_score\n",
        "\n",
        "f1_score(y_test, pred)"
      ],
      "metadata": {
        "colab": {
          "base_uri": "https://localhost:8080/"
        },
        "id": "VMrd8MlKKJ0a",
        "outputId": "952bbef7-b49c-434a-a964-f11ffb0be7b6"
      },
      "execution_count": null,
      "outputs": [
        {
          "output_type": "execute_result",
          "data": {
            "text/plain": [
              "0.759865622157674"
            ]
          },
          "metadata": {},
          "execution_count": 179
        }
      ]
    },
    {
      "cell_type": "markdown",
      "source": [
        "### Submissão 7 ou 8, não lembro\n"
      ],
      "metadata": {
        "id": "Sz8xoDWyMS_P"
      }
    },
    {
      "cell_type": "code",
      "source": [
        "pred = clf.predict(df_test_ajeitado)"
      ],
      "metadata": {
        "id": "4AScf5pzMWsR"
      },
      "execution_count": null,
      "outputs": []
    },
    {
      "cell_type": "code",
      "source": [
        "submeta_papai(\"submissao7ou8\", pred)"
      ],
      "metadata": {
        "id": "xAevFGS4Me8g"
      },
      "execution_count": null,
      "outputs": []
    },
    {
      "cell_type": "markdown",
      "source": [
        "### Light GBM"
      ],
      "metadata": {
        "id": "O0HjJdbmGM3v"
      }
    },
    {
      "cell_type": "markdown",
      "source": [
        "#### Testando com one hot encoder"
      ],
      "metadata": {
        "id": "RvODXtUJQf_3"
      }
    },
    {
      "cell_type": "code",
      "source": [
        "df_ = pd.read_csv(r\"C:\\Users\\alexv\\Desktop\\AuditoriaOmniSaude\\getdummies_train.csv\")"
      ],
      "metadata": {
        "id": "6B5ujEMqROvq"
      },
      "execution_count": null,
      "outputs": []
    },
    {
      "cell_type": "code",
      "source": [
        "y = df_.DS_STATUS_ITEM.map({\"Autorizado\":0, \"Negado\":1})\n",
        "X = df_.drop(columns=['DS_STATUS_ITEM'])"
      ],
      "metadata": {
        "id": "NjiAsk1ARZ81"
      },
      "execution_count": null,
      "outputs": []
    },
    {
      "cell_type": "code",
      "source": [
        "X_train, X_test, X_val, y_train, y_test, y_val = train_val_test(X, y)"
      ],
      "metadata": {
        "id": "JSNx8rSJRR9R"
      },
      "execution_count": null,
      "outputs": []
    },
    {
      "cell_type": "code",
      "source": [
        "import lightgbm as lgb\n",
        "from sklearn.model_selection import cross_validate"
      ],
      "metadata": {
        "id": "7YHDMNH3AUYi"
      },
      "execution_count": null,
      "outputs": []
    },
    {
      "cell_type": "code",
      "source": [
        "clf = lgb.sklearn.LGBMClassifier(max_depth=-1, num_leaves=31, learning_rate=1)"
      ],
      "metadata": {
        "id": "OLIQX1IqAn22"
      },
      "execution_count": null,
      "outputs": []
    },
    {
      "cell_type": "code",
      "source": [
        "cval = cross_validate(clf, X_train, y_train, scoring=\"f1\", n_jobs=-1, return_train_score=True, verbose=2)"
      ],
      "metadata": {
        "colab": {
          "base_uri": "https://localhost:8080/"
        },
        "outputId": "0a935897-2300-43a5-8f10-f2f63ca40f5a",
        "id": "Bk7CE80BOnhI"
      },
      "execution_count": null,
      "outputs": [
        {
          "output_type": "stream",
          "name": "stderr",
          "text": [
            "[Parallel(n_jobs=-1)]: Using backend LokyBackend with 16 concurrent workers.\n",
            "[Parallel(n_jobs=-1)]: Done   5 out of   5 | elapsed:    3.5s finished\n"
          ]
        }
      ]
    },
    {
      "cell_type": "code",
      "source": [
        "cval"
      ],
      "metadata": {
        "colab": {
          "base_uri": "https://localhost:8080/"
        },
        "outputId": "d1c4cc80-1a48-49d2-a739-760d5ef9601a",
        "id": "0Aq4qX5xOnhI"
      },
      "execution_count": null,
      "outputs": [
        {
          "output_type": "execute_result",
          "data": {
            "text/plain": [
              "{'fit_time': array([1.41960478, 1.48860049, 1.46160126, 1.44760036, 1.53960037]),\n",
              " 'score_time': array([0.17499542, 0.1595552 , 0.16755652, 0.16703439, 0.15255308]),\n",
              " 'test_score': array([0.44677633, 0.44683426, 0.45583055, 0.44776259, 0.44449689]),\n",
              " 'train_score': array([0.49875547, 0.5049945 , 0.50461834, 0.50001757, 0.50029945])}"
            ]
          },
          "metadata": {},
          "execution_count": 441
        }
      ]
    },
    {
      "cell_type": "code",
      "source": [
        ""
      ],
      "metadata": {
        "id": "vTBI7-qPNkWK"
      },
      "execution_count": null,
      "outputs": []
    },
    {
      "cell_type": "markdown",
      "source": [
        "#### Testando com james stein leakado"
      ],
      "metadata": {
        "id": "1RVjDK_YTfJO"
      }
    },
    {
      "cell_type": "code",
      "source": [
        "## Balanceando os dados\n",
        "from imblearn.over_sampling import RandomOverSampler\n",
        "from sklearn.preprocessing import MinMaxScaler\n",
        "import category_encoders\n",
        "\n",
        "ros = RandomOverSampler()\n",
        "\n",
        "scaler = MinMaxScaler()\n",
        "scaler.fit(df[[\"DT_NASCIMENTO\", \"QT_DIA_SOLICITADO\", \"QT_SOLICITADA\"]])\n",
        "df[[\"DT_NASCIMENTO\", \"QT_DIA_SOLICITADO\", \"QT_SOLICITADA\"]] = scaler.transform(df[[\"DT_NASCIMENTO\", \"QT_DIA_SOLICITADO\", \"QT_SOLICITADA\"]])\n",
        "\n",
        "y = df.DS_STATUS_ITEM.map({\"Autorizado\":0, \"Negado\":1})\n",
        "X = df.drop(columns=[\"DS_STATUS_ITEM\"])\n",
        "\n",
        "## balanceando\n",
        "X, y = ros.fit_resample(X,y)\n",
        "\n",
        "## dividindo em treino e teste\n",
        "X_train, X_test, X_val, y_train, y_test, y_val = train_val_test(X, y)\n",
        "\n",
        "enc = category_encoders.james_stein.JamesSteinEncoder()\n",
        "\n",
        "enc.fit(X_train, y_train)\n",
        "\n",
        "X_train = enc.fit_transform(X_train, y_train)\n",
        "X_val = enc.fit_transform(X_val, y_val)\n",
        "X_test = enc.fit_transform(X_test, y_test)\n",
        "X = enc.fit_transform(X, y)\n",
        "\n",
        "## já tranformando o df_test tambem\n",
        "df_test_ajeitado = ajeita_dados_2(df_test)\n",
        "df_test_ajeitado = enc.transform(df_test_ajeitado)\n",
        "\n",
        "## Deve estar bugado o proximo comando, pois deve ser transform baseado nos dados de treino\n",
        "df_test_ajeitado[[\"DT_NASCIMENTO\", \"QT_DIA_SOLICITADO\", \"QT_SOLICITADA\"]] = scaler.fit_transform(df_test_ajeitado[[\"DT_NASCIMENTO\", \"QT_DIA_SOLICITADO\", \"QT_SOLICITADA\"]])"
      ],
      "metadata": {
        "id": "11P4vO1MTjO-"
      },
      "execution_count": null,
      "outputs": []
    },
    {
      "cell_type": "code",
      "source": [
        "clf = lgb.sklearn.LGBMClassifier(max_depth=-1, num_leaves=61, learning_rate=1)"
      ],
      "metadata": {
        "id": "m9P6wpn0UZD2"
      },
      "execution_count": null,
      "outputs": []
    },
    {
      "cell_type": "code",
      "source": [
        "cval = cross_validate(clf, X_train, y_train, scoring=\"f1\", n_jobs=-1, return_train_score=True, verbose=2)"
      ],
      "metadata": {
        "colab": {
          "base_uri": "https://localhost:8080/"
        },
        "outputId": "afaef0f1-09cd-48d9-8fd5-3addffb36e2d",
        "id": "u4blJxkGUZD2"
      },
      "execution_count": null,
      "outputs": [
        {
          "output_type": "stream",
          "name": "stderr",
          "text": [
            "[Parallel(n_jobs=-1)]: Using backend LokyBackend with 16 concurrent workers.\n",
            "[Parallel(n_jobs=-1)]: Done   5 out of   5 | elapsed:    3.6s finished\n"
          ]
        }
      ]
    },
    {
      "cell_type": "code",
      "source": [
        "cval"
      ],
      "metadata": {
        "colab": {
          "base_uri": "https://localhost:8080/"
        },
        "outputId": "ea5b83f3-fe05-4571-b189-9c3fbb2d4a30",
        "id": "7FRG9YFtUZD2"
      },
      "execution_count": null,
      "outputs": [
        {
          "output_type": "execute_result",
          "data": {
            "text/plain": [
              "{'fit_time': array([1.57507586, 1.55507565, 1.5950768 , 1.59907556, 1.59212613]),\n",
              " 'score_time': array([0.19099879, 0.19999957, 0.19199753, 0.19099998, 0.19800258]),\n",
              " 'test_score': array([0.69264582, 0.69352459, 0.69220698, 0.69394723, 0.69578181]),\n",
              " 'train_score': array([0.72900085, 0.72744294, 0.72570823, 0.729509  , 0.73084628])}"
            ]
          },
          "metadata": {},
          "execution_count": 629
        }
      ]
    },
    {
      "cell_type": "markdown",
      "source": [
        "### Testando RF com james stein leakado"
      ],
      "metadata": {
        "id": "2xDuV521UpTl"
      }
    },
    {
      "cell_type": "code",
      "source": [
        "from sklearn.ensemble import RandomForestClassifier\n",
        "\n",
        "clf = RandomForestClassifier(n_estimators=100, criterion=\"gini\", max_depth=20, min_samples_split=40, n_jobs=1)"
      ],
      "metadata": {
        "id": "YRSArRhOUsCf"
      },
      "execution_count": null,
      "outputs": []
    },
    {
      "cell_type": "code",
      "source": [
        "cval = cross_validate(clf, X_train, y_train, scoring=\"f1\", n_jobs=-1, return_train_score=True, verbose=2)"
      ],
      "metadata": {
        "colab": {
          "base_uri": "https://localhost:8080/"
        },
        "id": "bpUsmwbXUyt2",
        "outputId": "c8e9da2b-b77f-40e8-ed27-636e84f6c166"
      },
      "execution_count": null,
      "outputs": [
        {
          "output_type": "stream",
          "name": "stderr",
          "text": [
            "[Parallel(n_jobs=-1)]: Using backend LokyBackend with 16 concurrent workers.\n",
            "[Parallel(n_jobs=-1)]: Done   5 out of   5 | elapsed:   33.1s finished\n"
          ]
        }
      ]
    },
    {
      "cell_type": "code",
      "source": [
        "cval"
      ],
      "metadata": {
        "colab": {
          "base_uri": "https://localhost:8080/"
        },
        "id": "LOXZhku_U0Op",
        "outputId": "8f14b7c5-b660-4ca4-8ed6-efcb9cd86ffc"
      },
      "execution_count": null,
      "outputs": [
        {
          "output_type": "execute_result",
          "data": {
            "text/plain": [
              "{'fit_time': array([27.19514585, 27.72644067, 27.66643715, 27.54043746, 27.69742894]),\n",
              " 'score_time': array([0.91699481, 0.95571113, 0.95771551, 0.94471693, 0.91471624]),\n",
              " 'test_score': array([0.68895268, 0.6900707 , 0.69195106, 0.69189264, 0.69053691]),\n",
              " 'train_score': array([0.72212534, 0.72096915, 0.72079099, 0.72130877, 0.72089991])}"
            ]
          },
          "metadata": {},
          "execution_count": 657
        }
      ]
    },
    {
      "cell_type": "code",
      "source": [
        "clf.fit(X_train, y_train)"
      ],
      "metadata": {
        "colab": {
          "base_uri": "https://localhost:8080/"
        },
        "id": "mDn7HzbSW4cg",
        "outputId": "a6c6ad99-aca8-417d-a523-5b65033b2a54"
      },
      "execution_count": null,
      "outputs": [
        {
          "output_type": "execute_result",
          "data": {
            "text/plain": [
              "RandomForestClassifier(bootstrap=True, ccp_alpha=0.0, class_weight=None,\n",
              "                       criterion='gini', max_depth=20, max_features='auto',\n",
              "                       max_leaf_nodes=None, max_samples=None,\n",
              "                       min_impurity_decrease=0.0, min_impurity_split=None,\n",
              "                       min_samples_leaf=1, min_samples_split=40,\n",
              "                       min_weight_fraction_leaf=0.0, n_estimators=100, n_jobs=1,\n",
              "                       oob_score=False, random_state=None, verbose=0,\n",
              "                       warm_start=False)"
            ]
          },
          "metadata": {},
          "execution_count": 658
        }
      ]
    },
    {
      "cell_type": "code",
      "source": [
        "pred= clf.predict(X_test)\n",
        "\n",
        "f1_score(y_test, pred)"
      ],
      "metadata": {
        "colab": {
          "base_uri": "https://localhost:8080/"
        },
        "id": "r4pgFjDhW7sU",
        "outputId": "1a7be8ec-21ac-43b7-83a0-85436c07044b"
      },
      "execution_count": null,
      "outputs": [
        {
          "output_type": "execute_result",
          "data": {
            "text/plain": [
              "0.6379516321720319"
            ]
          },
          "metadata": {},
          "execution_count": 659
        }
      ]
    }
  ],
  "metadata": {
    "kernelspec": {
      "display_name": "Python 3 (ipykernel)",
      "language": "python",
      "name": "python3"
    },
    "language_info": {
      "codemirror_mode": {
        "name": "ipython",
        "version": 3
      },
      "file_extension": ".py",
      "mimetype": "text/x-python",
      "name": "python",
      "nbconvert_exporter": "python",
      "pygments_lexer": "ipython3",
      "version": "3.9.7"
    },
    "colab": {
      "name": "Auditoria_oficial.ipynb",
      "provenance": [],
      "collapsed_sections": [
        "fJ9hFrCR2aBo",
        "ioa7gzDS2aBq",
        "Gux8kOS92aBs",
        "H4uTBlHa2aBu",
        "XOnRbbfL2aBv",
        "ptPI8SdU2aBw",
        "3tCr27sA2aBy",
        "2m5FwskI2aBz",
        "1yuDuuXV2aB5",
        "09saarVo2aB8",
        "l84YHC_F2aB_",
        "oYkwsUzq2aCB",
        "rpNgezWM2aCE",
        "OkHQqtuu2aCF",
        "CCG8C96_2aCG",
        "BQwnauiz2aCG",
        "dAZ-SEpY2aCH",
        "ggB9omhv2aCI",
        "ZMK00Gbc2aCI",
        "a1S9CFg72aCJ",
        "xc6QFSNo2aCK",
        "ccfdgyE82aCL",
        "sV55J57e2aCM",
        "4jAUCAnZ2aCN",
        "RQcpWD4w2aCN",
        "q9YwVMHC2aCO",
        "dC7yBtZv2aCP",
        "T4DX2Qjw2aCP",
        "guvm1dsJ2aCQ",
        "2yOmUy_R2aCQ",
        "YW0M1TxY2aCR",
        "nCbV74Fv2aCS",
        "LdzcTGpC2aCS",
        "5S-Iw4tn2aCT",
        "t9iVb7zk2aCT",
        "8jlskDDb2aCU",
        "5ouJ9Vs32aCU",
        "YFUG45fo2aCV",
        "8tS2g6152aCV",
        "91bFbkLu2aCk",
        "qGx0IpkpBOtC",
        "78mXS7Oe2aCl",
        "jpbaDshHcqbI"
      ]
    },
    "widgets": {
      "application/vnd.jupyter.widget-state+json": {
        "2e7b6a72de75441aa405574ba622be0a": {
          "model_module": "@jupyter-widgets/controls",
          "model_name": "IntProgressModel",
          "model_module_version": "1.5.0",
          "state": {
            "_dom_classes": [],
            "_model_module": "@jupyter-widgets/controls",
            "_model_module_version": "1.5.0",
            "_model_name": "IntProgressModel",
            "_view_count": null,
            "_view_module": "@jupyter-widgets/controls",
            "_view_module_version": "1.5.0",
            "_view_name": "ProgressView",
            "bar_style": "",
            "description": "Processing: ",
            "description_tooltip": null,
            "layout": "IPY_MODEL_1b935fc587c946b69ed60e5f3a72795d",
            "max": 3,
            "min": 0,
            "orientation": "horizontal",
            "style": "IPY_MODEL_7630fd318b704c849c4601fd0fdd4c09",
            "value": 3
          }
        },
        "1b935fc587c946b69ed60e5f3a72795d": {
          "model_module": "@jupyter-widgets/base",
          "model_name": "LayoutModel",
          "model_module_version": "1.2.0",
          "state": {
            "_model_module": "@jupyter-widgets/base",
            "_model_module_version": "1.2.0",
            "_model_name": "LayoutModel",
            "_view_count": null,
            "_view_module": "@jupyter-widgets/base",
            "_view_module_version": "1.2.0",
            "_view_name": "LayoutView",
            "align_content": null,
            "align_items": null,
            "align_self": null,
            "border": null,
            "bottom": null,
            "display": null,
            "flex": null,
            "flex_flow": null,
            "grid_area": null,
            "grid_auto_columns": null,
            "grid_auto_flow": null,
            "grid_auto_rows": null,
            "grid_column": null,
            "grid_gap": null,
            "grid_row": null,
            "grid_template_areas": null,
            "grid_template_columns": null,
            "grid_template_rows": null,
            "height": null,
            "justify_content": null,
            "justify_items": null,
            "left": null,
            "margin": null,
            "max_height": null,
            "max_width": null,
            "min_height": null,
            "min_width": null,
            "object_fit": null,
            "object_position": null,
            "order": null,
            "overflow": null,
            "overflow_x": null,
            "overflow_y": null,
            "padding": null,
            "right": null,
            "top": null,
            "visibility": null,
            "width": null
          }
        },
        "7630fd318b704c849c4601fd0fdd4c09": {
          "model_module": "@jupyter-widgets/controls",
          "model_name": "ProgressStyleModel",
          "model_module_version": "1.5.0",
          "state": {
            "_model_module": "@jupyter-widgets/controls",
            "_model_module_version": "1.5.0",
            "_model_name": "ProgressStyleModel",
            "_view_count": null,
            "_view_module": "@jupyter-widgets/base",
            "_view_module_version": "1.2.0",
            "_view_name": "StyleView",
            "bar_color": null,
            "description_width": ""
          }
        },
        "2588751dc5dd4b34ab9206a9adff5517": {
          "model_module": "@jupyter-widgets/controls",
          "model_name": "TextModel",
          "model_module_version": "1.5.0",
          "state": {
            "_dom_classes": [],
            "_model_module": "@jupyter-widgets/controls",
            "_model_module_version": "1.5.0",
            "_model_name": "TextModel",
            "_view_count": null,
            "_view_module": "@jupyter-widgets/controls",
            "_view_module_version": "1.5.0",
            "_view_name": "TextView",
            "continuous_update": true,
            "description": "",
            "description_tooltip": null,
            "disabled": false,
            "layout": "IPY_MODEL_8ee6816c16a34b7e9d9a55d9a3fb0b75",
            "placeholder": "​",
            "style": "IPY_MODEL_7fc860ae2ba84f2b93b03cc7072bacc8",
            "value": "Following data types have been inferred automatically, if they are correct press enter to continue or type 'quit' otherwise."
          }
        },
        "8ee6816c16a34b7e9d9a55d9a3fb0b75": {
          "model_module": "@jupyter-widgets/base",
          "model_name": "LayoutModel",
          "model_module_version": "1.2.0",
          "state": {
            "_model_module": "@jupyter-widgets/base",
            "_model_module_version": "1.2.0",
            "_model_name": "LayoutModel",
            "_view_count": null,
            "_view_module": "@jupyter-widgets/base",
            "_view_module_version": "1.2.0",
            "_view_name": "LayoutView",
            "align_content": null,
            "align_items": null,
            "align_self": null,
            "border": null,
            "bottom": null,
            "display": null,
            "flex": null,
            "flex_flow": null,
            "grid_area": null,
            "grid_auto_columns": null,
            "grid_auto_flow": null,
            "grid_auto_rows": null,
            "grid_column": null,
            "grid_gap": null,
            "grid_row": null,
            "grid_template_areas": null,
            "grid_template_columns": null,
            "grid_template_rows": null,
            "height": null,
            "justify_content": null,
            "justify_items": null,
            "left": null,
            "margin": null,
            "max_height": null,
            "max_width": null,
            "min_height": null,
            "min_width": null,
            "object_fit": null,
            "object_position": null,
            "order": null,
            "overflow": null,
            "overflow_x": null,
            "overflow_y": null,
            "padding": null,
            "right": null,
            "top": null,
            "visibility": null,
            "width": "100%"
          }
        },
        "7fc860ae2ba84f2b93b03cc7072bacc8": {
          "model_module": "@jupyter-widgets/controls",
          "model_name": "DescriptionStyleModel",
          "model_module_version": "1.5.0",
          "state": {
            "_model_module": "@jupyter-widgets/controls",
            "_model_module_version": "1.5.0",
            "_model_name": "DescriptionStyleModel",
            "_view_count": null,
            "_view_module": "@jupyter-widgets/base",
            "_view_module_version": "1.2.0",
            "_view_name": "StyleView",
            "description_width": ""
          }
        },
        "9d2b32234e684193b739b4a9813a7a25": {
          "model_module": "@jupyter-widgets/controls",
          "model_name": "IntProgressModel",
          "model_module_version": "1.5.0",
          "state": {
            "_dom_classes": [],
            "_model_module": "@jupyter-widgets/controls",
            "_model_module_version": "1.5.0",
            "_model_name": "IntProgressModel",
            "_view_count": null,
            "_view_module": "@jupyter-widgets/controls",
            "_view_module_version": "1.5.0",
            "_view_name": "ProgressView",
            "bar_style": "",
            "description": "Processing: ",
            "description_tooltip": null,
            "layout": "IPY_MODEL_ad38df3aea244b0e84cfa96bcb004b3a",
            "max": 74,
            "min": 0,
            "orientation": "horizontal",
            "style": "IPY_MODEL_ef861d231e8040cd8e3d2804012080a3",
            "value": 74
          }
        },
        "ad38df3aea244b0e84cfa96bcb004b3a": {
          "model_module": "@jupyter-widgets/base",
          "model_name": "LayoutModel",
          "model_module_version": "1.2.0",
          "state": {
            "_model_module": "@jupyter-widgets/base",
            "_model_module_version": "1.2.0",
            "_model_name": "LayoutModel",
            "_view_count": null,
            "_view_module": "@jupyter-widgets/base",
            "_view_module_version": "1.2.0",
            "_view_name": "LayoutView",
            "align_content": null,
            "align_items": null,
            "align_self": null,
            "border": null,
            "bottom": null,
            "display": null,
            "flex": null,
            "flex_flow": null,
            "grid_area": null,
            "grid_auto_columns": null,
            "grid_auto_flow": null,
            "grid_auto_rows": null,
            "grid_column": null,
            "grid_gap": null,
            "grid_row": null,
            "grid_template_areas": null,
            "grid_template_columns": null,
            "grid_template_rows": null,
            "height": null,
            "justify_content": null,
            "justify_items": null,
            "left": null,
            "margin": null,
            "max_height": null,
            "max_width": null,
            "min_height": null,
            "min_width": null,
            "object_fit": null,
            "object_position": null,
            "order": null,
            "overflow": null,
            "overflow_x": null,
            "overflow_y": null,
            "padding": null,
            "right": null,
            "top": null,
            "visibility": null,
            "width": null
          }
        },
        "ef861d231e8040cd8e3d2804012080a3": {
          "model_module": "@jupyter-widgets/controls",
          "model_name": "ProgressStyleModel",
          "model_module_version": "1.5.0",
          "state": {
            "_model_module": "@jupyter-widgets/controls",
            "_model_module_version": "1.5.0",
            "_model_name": "ProgressStyleModel",
            "_view_count": null,
            "_view_module": "@jupyter-widgets/base",
            "_view_module_version": "1.2.0",
            "_view_name": "StyleView",
            "bar_color": null,
            "description_width": ""
          }
        },
        "1ad9252ea12b4838a74f4357034137a5": {
          "model_module": "@jupyter-widgets/controls",
          "model_name": "IntProgressModel",
          "model_module_version": "1.5.0",
          "state": {
            "_dom_classes": [],
            "_model_module": "@jupyter-widgets/controls",
            "_model_module_version": "1.5.0",
            "_model_name": "IntProgressModel",
            "_view_count": null,
            "_view_module": "@jupyter-widgets/controls",
            "_view_module_version": "1.5.0",
            "_view_name": "ProgressView",
            "bar_style": "",
            "description": "Processing: ",
            "description_tooltip": null,
            "layout": "IPY_MODEL_505152af18ad408d99d9e4b40b04f16b",
            "max": 3,
            "min": 0,
            "orientation": "horizontal",
            "style": "IPY_MODEL_8268b6a0d19442d093cf0f84dfe2eac0",
            "value": 3
          }
        },
        "505152af18ad408d99d9e4b40b04f16b": {
          "model_module": "@jupyter-widgets/base",
          "model_name": "LayoutModel",
          "model_module_version": "1.2.0",
          "state": {
            "_model_module": "@jupyter-widgets/base",
            "_model_module_version": "1.2.0",
            "_model_name": "LayoutModel",
            "_view_count": null,
            "_view_module": "@jupyter-widgets/base",
            "_view_module_version": "1.2.0",
            "_view_name": "LayoutView",
            "align_content": null,
            "align_items": null,
            "align_self": null,
            "border": null,
            "bottom": null,
            "display": null,
            "flex": null,
            "flex_flow": null,
            "grid_area": null,
            "grid_auto_columns": null,
            "grid_auto_flow": null,
            "grid_auto_rows": null,
            "grid_column": null,
            "grid_gap": null,
            "grid_row": null,
            "grid_template_areas": null,
            "grid_template_columns": null,
            "grid_template_rows": null,
            "height": null,
            "justify_content": null,
            "justify_items": null,
            "left": null,
            "margin": null,
            "max_height": null,
            "max_width": null,
            "min_height": null,
            "min_width": null,
            "object_fit": null,
            "object_position": null,
            "order": null,
            "overflow": null,
            "overflow_x": null,
            "overflow_y": null,
            "padding": null,
            "right": null,
            "top": null,
            "visibility": null,
            "width": null
          }
        },
        "8268b6a0d19442d093cf0f84dfe2eac0": {
          "model_module": "@jupyter-widgets/controls",
          "model_name": "ProgressStyleModel",
          "model_module_version": "1.5.0",
          "state": {
            "_model_module": "@jupyter-widgets/controls",
            "_model_module_version": "1.5.0",
            "_model_name": "ProgressStyleModel",
            "_view_count": null,
            "_view_module": "@jupyter-widgets/base",
            "_view_module_version": "1.2.0",
            "_view_name": "StyleView",
            "bar_color": null,
            "description_width": ""
          }
        },
        "56f14da56f3e4ef496b68849b0c30bda": {
          "model_module": "@jupyter-widgets/controls",
          "model_name": "TextModel",
          "model_module_version": "1.5.0",
          "state": {
            "_dom_classes": [],
            "_model_module": "@jupyter-widgets/controls",
            "_model_module_version": "1.5.0",
            "_model_name": "TextModel",
            "_view_count": null,
            "_view_module": "@jupyter-widgets/controls",
            "_view_module_version": "1.5.0",
            "_view_name": "TextView",
            "continuous_update": true,
            "description": "",
            "description_tooltip": null,
            "disabled": false,
            "layout": "IPY_MODEL_4c720a1776d54234b94921dc8aa35cf2",
            "placeholder": "​",
            "style": "IPY_MODEL_a6ffe07a24554bdd910a07e506bf6996",
            "value": "Following data types have been inferred automatically, if they are correct press enter to continue or type 'quit' otherwise."
          }
        },
        "4c720a1776d54234b94921dc8aa35cf2": {
          "model_module": "@jupyter-widgets/base",
          "model_name": "LayoutModel",
          "model_module_version": "1.2.0",
          "state": {
            "_model_module": "@jupyter-widgets/base",
            "_model_module_version": "1.2.0",
            "_model_name": "LayoutModel",
            "_view_count": null,
            "_view_module": "@jupyter-widgets/base",
            "_view_module_version": "1.2.0",
            "_view_name": "LayoutView",
            "align_content": null,
            "align_items": null,
            "align_self": null,
            "border": null,
            "bottom": null,
            "display": null,
            "flex": null,
            "flex_flow": null,
            "grid_area": null,
            "grid_auto_columns": null,
            "grid_auto_flow": null,
            "grid_auto_rows": null,
            "grid_column": null,
            "grid_gap": null,
            "grid_row": null,
            "grid_template_areas": null,
            "grid_template_columns": null,
            "grid_template_rows": null,
            "height": null,
            "justify_content": null,
            "justify_items": null,
            "left": null,
            "margin": null,
            "max_height": null,
            "max_width": null,
            "min_height": null,
            "min_width": null,
            "object_fit": null,
            "object_position": null,
            "order": null,
            "overflow": null,
            "overflow_x": null,
            "overflow_y": null,
            "padding": null,
            "right": null,
            "top": null,
            "visibility": null,
            "width": "100%"
          }
        },
        "a6ffe07a24554bdd910a07e506bf6996": {
          "model_module": "@jupyter-widgets/controls",
          "model_name": "DescriptionStyleModel",
          "model_module_version": "1.5.0",
          "state": {
            "_model_module": "@jupyter-widgets/controls",
            "_model_module_version": "1.5.0",
            "_model_name": "DescriptionStyleModel",
            "_view_count": null,
            "_view_module": "@jupyter-widgets/base",
            "_view_module_version": "1.2.0",
            "_view_name": "StyleView",
            "description_width": ""
          }
        },
        "98d24e3b012345bda4a663e4c4b234d8": {
          "model_module": "@jupyter-widgets/controls",
          "model_name": "IntProgressModel",
          "model_module_version": "1.5.0",
          "state": {
            "_dom_classes": [],
            "_model_module": "@jupyter-widgets/controls",
            "_model_module_version": "1.5.0",
            "_model_name": "IntProgressModel",
            "_view_count": null,
            "_view_module": "@jupyter-widgets/controls",
            "_view_module_version": "1.5.0",
            "_view_name": "ProgressView",
            "bar_style": "",
            "description": "Processing: ",
            "description_tooltip": null,
            "layout": "IPY_MODEL_85c96c84e2ac429da1909a93c5a4f954",
            "max": 74,
            "min": 0,
            "orientation": "horizontal",
            "style": "IPY_MODEL_71685cb0a28f4a1c87c5cbfa016da663",
            "value": 74
          }
        },
        "85c96c84e2ac429da1909a93c5a4f954": {
          "model_module": "@jupyter-widgets/base",
          "model_name": "LayoutModel",
          "model_module_version": "1.2.0",
          "state": {
            "_model_module": "@jupyter-widgets/base",
            "_model_module_version": "1.2.0",
            "_model_name": "LayoutModel",
            "_view_count": null,
            "_view_module": "@jupyter-widgets/base",
            "_view_module_version": "1.2.0",
            "_view_name": "LayoutView",
            "align_content": null,
            "align_items": null,
            "align_self": null,
            "border": null,
            "bottom": null,
            "display": null,
            "flex": null,
            "flex_flow": null,
            "grid_area": null,
            "grid_auto_columns": null,
            "grid_auto_flow": null,
            "grid_auto_rows": null,
            "grid_column": null,
            "grid_gap": null,
            "grid_row": null,
            "grid_template_areas": null,
            "grid_template_columns": null,
            "grid_template_rows": null,
            "height": null,
            "justify_content": null,
            "justify_items": null,
            "left": null,
            "margin": null,
            "max_height": null,
            "max_width": null,
            "min_height": null,
            "min_width": null,
            "object_fit": null,
            "object_position": null,
            "order": null,
            "overflow": null,
            "overflow_x": null,
            "overflow_y": null,
            "padding": null,
            "right": null,
            "top": null,
            "visibility": null,
            "width": null
          }
        },
        "71685cb0a28f4a1c87c5cbfa016da663": {
          "model_module": "@jupyter-widgets/controls",
          "model_name": "ProgressStyleModel",
          "model_module_version": "1.5.0",
          "state": {
            "_model_module": "@jupyter-widgets/controls",
            "_model_module_version": "1.5.0",
            "_model_name": "ProgressStyleModel",
            "_view_count": null,
            "_view_module": "@jupyter-widgets/base",
            "_view_module_version": "1.2.0",
            "_view_name": "StyleView",
            "bar_color": null,
            "description_width": ""
          }
        },
        "7b08eb0504aa4037b57a33341a5bf8a6": {
          "model_module": "@jupyter-widgets/controls",
          "model_name": "IntProgressModel",
          "model_module_version": "1.5.0",
          "state": {
            "_dom_classes": [],
            "_model_module": "@jupyter-widgets/controls",
            "_model_module_version": "1.5.0",
            "_model_name": "IntProgressModel",
            "_view_count": null,
            "_view_module": "@jupyter-widgets/controls",
            "_view_module_version": "1.5.0",
            "_view_name": "ProgressView",
            "bar_style": "",
            "description": "Processing: ",
            "description_tooltip": null,
            "layout": "IPY_MODEL_b3101553838d451683e409c8ac06e95f",
            "max": 3,
            "min": 0,
            "orientation": "horizontal",
            "style": "IPY_MODEL_2c1487dbf270476f8fbd320da8053b3b",
            "value": 3
          }
        },
        "b3101553838d451683e409c8ac06e95f": {
          "model_module": "@jupyter-widgets/base",
          "model_name": "LayoutModel",
          "model_module_version": "1.2.0",
          "state": {
            "_model_module": "@jupyter-widgets/base",
            "_model_module_version": "1.2.0",
            "_model_name": "LayoutModel",
            "_view_count": null,
            "_view_module": "@jupyter-widgets/base",
            "_view_module_version": "1.2.0",
            "_view_name": "LayoutView",
            "align_content": null,
            "align_items": null,
            "align_self": null,
            "border": null,
            "bottom": null,
            "display": null,
            "flex": null,
            "flex_flow": null,
            "grid_area": null,
            "grid_auto_columns": null,
            "grid_auto_flow": null,
            "grid_auto_rows": null,
            "grid_column": null,
            "grid_gap": null,
            "grid_row": null,
            "grid_template_areas": null,
            "grid_template_columns": null,
            "grid_template_rows": null,
            "height": null,
            "justify_content": null,
            "justify_items": null,
            "left": null,
            "margin": null,
            "max_height": null,
            "max_width": null,
            "min_height": null,
            "min_width": null,
            "object_fit": null,
            "object_position": null,
            "order": null,
            "overflow": null,
            "overflow_x": null,
            "overflow_y": null,
            "padding": null,
            "right": null,
            "top": null,
            "visibility": null,
            "width": null
          }
        },
        "2c1487dbf270476f8fbd320da8053b3b": {
          "model_module": "@jupyter-widgets/controls",
          "model_name": "ProgressStyleModel",
          "model_module_version": "1.5.0",
          "state": {
            "_model_module": "@jupyter-widgets/controls",
            "_model_module_version": "1.5.0",
            "_model_name": "ProgressStyleModel",
            "_view_count": null,
            "_view_module": "@jupyter-widgets/base",
            "_view_module_version": "1.2.0",
            "_view_name": "StyleView",
            "bar_color": null,
            "description_width": ""
          }
        },
        "5f1c484bd5ec43f4a694ac219b19d044": {
          "model_module": "@jupyter-widgets/controls",
          "model_name": "TextModel",
          "model_module_version": "1.5.0",
          "state": {
            "_dom_classes": [],
            "_model_module": "@jupyter-widgets/controls",
            "_model_module_version": "1.5.0",
            "_model_name": "TextModel",
            "_view_count": null,
            "_view_module": "@jupyter-widgets/controls",
            "_view_module_version": "1.5.0",
            "_view_name": "TextView",
            "continuous_update": true,
            "description": "",
            "description_tooltip": null,
            "disabled": false,
            "layout": "IPY_MODEL_54cbe9ac800a48639f41bbfd75fb504f",
            "placeholder": "​",
            "style": "IPY_MODEL_f2572ef8071f421d84cd8efb1ff19dc9",
            "value": "Following data types have been inferred automatically, if they are correct press enter to continue or type 'quit' otherwise."
          }
        },
        "54cbe9ac800a48639f41bbfd75fb504f": {
          "model_module": "@jupyter-widgets/base",
          "model_name": "LayoutModel",
          "model_module_version": "1.2.0",
          "state": {
            "_model_module": "@jupyter-widgets/base",
            "_model_module_version": "1.2.0",
            "_model_name": "LayoutModel",
            "_view_count": null,
            "_view_module": "@jupyter-widgets/base",
            "_view_module_version": "1.2.0",
            "_view_name": "LayoutView",
            "align_content": null,
            "align_items": null,
            "align_self": null,
            "border": null,
            "bottom": null,
            "display": null,
            "flex": null,
            "flex_flow": null,
            "grid_area": null,
            "grid_auto_columns": null,
            "grid_auto_flow": null,
            "grid_auto_rows": null,
            "grid_column": null,
            "grid_gap": null,
            "grid_row": null,
            "grid_template_areas": null,
            "grid_template_columns": null,
            "grid_template_rows": null,
            "height": null,
            "justify_content": null,
            "justify_items": null,
            "left": null,
            "margin": null,
            "max_height": null,
            "max_width": null,
            "min_height": null,
            "min_width": null,
            "object_fit": null,
            "object_position": null,
            "order": null,
            "overflow": null,
            "overflow_x": null,
            "overflow_y": null,
            "padding": null,
            "right": null,
            "top": null,
            "visibility": null,
            "width": "100%"
          }
        },
        "f2572ef8071f421d84cd8efb1ff19dc9": {
          "model_module": "@jupyter-widgets/controls",
          "model_name": "DescriptionStyleModel",
          "model_module_version": "1.5.0",
          "state": {
            "_model_module": "@jupyter-widgets/controls",
            "_model_module_version": "1.5.0",
            "_model_name": "DescriptionStyleModel",
            "_view_count": null,
            "_view_module": "@jupyter-widgets/base",
            "_view_module_version": "1.2.0",
            "_view_name": "StyleView",
            "description_width": ""
          }
        },
        "0972dd24f9a94df1b5c21c210f9f1f70": {
          "model_module": "@jupyter-widgets/controls",
          "model_name": "IntProgressModel",
          "model_module_version": "1.5.0",
          "state": {
            "_dom_classes": [],
            "_model_module": "@jupyter-widgets/controls",
            "_model_module_version": "1.5.0",
            "_model_name": "IntProgressModel",
            "_view_count": null,
            "_view_module": "@jupyter-widgets/controls",
            "_view_module_version": "1.5.0",
            "_view_name": "ProgressView",
            "bar_style": "",
            "description": "Processing: ",
            "description_tooltip": null,
            "layout": "IPY_MODEL_f653f512ba1a4665ade00352678671e7",
            "max": 74,
            "min": 0,
            "orientation": "horizontal",
            "style": "IPY_MODEL_53c40f578c684469a25f7ef481a2b145",
            "value": 74
          }
        },
        "f653f512ba1a4665ade00352678671e7": {
          "model_module": "@jupyter-widgets/base",
          "model_name": "LayoutModel",
          "model_module_version": "1.2.0",
          "state": {
            "_model_module": "@jupyter-widgets/base",
            "_model_module_version": "1.2.0",
            "_model_name": "LayoutModel",
            "_view_count": null,
            "_view_module": "@jupyter-widgets/base",
            "_view_module_version": "1.2.0",
            "_view_name": "LayoutView",
            "align_content": null,
            "align_items": null,
            "align_self": null,
            "border": null,
            "bottom": null,
            "display": null,
            "flex": null,
            "flex_flow": null,
            "grid_area": null,
            "grid_auto_columns": null,
            "grid_auto_flow": null,
            "grid_auto_rows": null,
            "grid_column": null,
            "grid_gap": null,
            "grid_row": null,
            "grid_template_areas": null,
            "grid_template_columns": null,
            "grid_template_rows": null,
            "height": null,
            "justify_content": null,
            "justify_items": null,
            "left": null,
            "margin": null,
            "max_height": null,
            "max_width": null,
            "min_height": null,
            "min_width": null,
            "object_fit": null,
            "object_position": null,
            "order": null,
            "overflow": null,
            "overflow_x": null,
            "overflow_y": null,
            "padding": null,
            "right": null,
            "top": null,
            "visibility": null,
            "width": null
          }
        },
        "53c40f578c684469a25f7ef481a2b145": {
          "model_module": "@jupyter-widgets/controls",
          "model_name": "ProgressStyleModel",
          "model_module_version": "1.5.0",
          "state": {
            "_model_module": "@jupyter-widgets/controls",
            "_model_module_version": "1.5.0",
            "_model_name": "ProgressStyleModel",
            "_view_count": null,
            "_view_module": "@jupyter-widgets/base",
            "_view_module_version": "1.2.0",
            "_view_name": "StyleView",
            "bar_color": null,
            "description_width": ""
          }
        },
        "a8cdf9f7e6264b05bec3707c96f3b340": {
          "model_module": "catboost-widget",
          "model_name": "CatboostWidgetModel",
          "model_module_version": "^1.0.0",
          "state": {
            "_dom_classes": [],
            "_model_module": "catboost-widget",
            "_model_module_version": "^1.0.0",
            "_model_name": "CatboostWidgetModel",
            "_view_count": null,
            "_view_module": "catboost-widget",
            "_view_module_version": "^1.0.0",
            "_view_name": "CatboostWidgetView",
            "data": {
              "catboost_info": {
                "path": "catboost_info",
                "name": "catboost_info",
                "content": {
                  "passed_iterations": 9,
                  "total_iterations": 10,
                  "data": {
                    "iterations": [
                      {
                        "learn": [
                          0.6931422917
                        ],
                        "iteration": 0,
                        "passed_time": 0.005499000796,
                        "remaining_time": 0.04949100716,
                        "test": [
                          0.6931414062
                        ]
                      },
                      {
                        "learn": [
                          0.6931338542
                        ],
                        "iteration": 1,
                        "passed_time": 0.01034780028,
                        "remaining_time": 0.0413912011,
                        "test": [
                          0.6931350781
                        ]
                      },
                      {
                        "learn": [
                          0.6931295833
                        ],
                        "iteration": 2,
                        "passed_time": 0.01524193594,
                        "remaining_time": 0.0355645172,
                        "test": [
                          0.6931289844
                        ]
                      },
                      {
                        "learn": [
                          0.6931236979
                        ],
                        "iteration": 3,
                        "passed_time": 0.02018317211,
                        "remaining_time": 0.03027475816,
                        "test": [
                          0.6931230469
                        ]
                      },
                      {
                        "learn": [
                          0.6931170313
                        ],
                        "iteration": 4,
                        "passed_time": 0.02495512824,
                        "remaining_time": 0.02495512824,
                        "test": [
                          0.693116875
                        ]
                      },
                      {
                        "learn": [
                          0.6931114583
                        ],
                        "iteration": 5,
                        "passed_time": 0.02963893253,
                        "remaining_time": 0.01975928835,
                        "test": [
                          0.6931110156
                        ]
                      },
                      {
                        "learn": [
                          0.6931051563
                        ],
                        "iteration": 6,
                        "passed_time": 0.0343761054,
                        "remaining_time": 0.0147326166,
                        "test": [
                          0.6931049219
                        ]
                      },
                      {
                        "learn": [
                          0.6930994792
                        ],
                        "iteration": 7,
                        "passed_time": 0.03873072531,
                        "remaining_time": 0.009682681328,
                        "test": [
                          0.6930989844
                        ]
                      },
                      {
                        "learn": [
                          0.6930934375
                        ],
                        "iteration": 8,
                        "passed_time": 0.04317822173,
                        "remaining_time": 0.004797580192,
                        "test": [
                          0.6930932031
                        ]
                      },
                      {
                        "learn": [
                          0.6930875
                        ],
                        "iteration": 9,
                        "passed_time": 0.04775737924,
                        "remaining_time": 0,
                        "test": [
                          0.6930877344
                        ]
                      }
                    ],
                    "meta": {
                      "test_sets": [
                        "test"
                      ],
                      "test_metrics": [
                        {
                          "best_value": "Min",
                          "name": "CrossEntropy"
                        }
                      ],
                      "learn_metrics": [
                        {
                          "best_value": "Min",
                          "name": "CrossEntropy"
                        }
                      ],
                      "launch_mode": "Train",
                      "parameters": "",
                      "iteration_count": 10,
                      "learn_sets": [
                        "learn"
                      ],
                      "name": "experiment"
                    }
                  }
                }
              }
            },
            "layout": "IPY_MODEL_36c0ae84a3e342a6be8e97d697fd290f"
          }
        },
        "fe7438e1caf84d5fa5ad3d69885a4ef0": {
          "model_module": "@jupyter-widgets/controls",
          "model_name": "IntProgressModel",
          "model_module_version": "1.5.0",
          "state": {
            "_dom_classes": [],
            "_model_module": "@jupyter-widgets/controls",
            "_model_module_version": "1.5.0",
            "_model_name": "IntProgressModel",
            "_view_count": null,
            "_view_module": "@jupyter-widgets/controls",
            "_view_module_version": "1.5.0",
            "_view_name": "ProgressView",
            "bar_style": "",
            "description": "Processing: ",
            "description_tooltip": null,
            "layout": "IPY_MODEL_ee478e38259d47fdad99b23757ef3d49",
            "max": 3,
            "min": 0,
            "orientation": "horizontal",
            "style": "IPY_MODEL_d996c8e364084be8bd1d080899d25882",
            "value": 3
          }
        },
        "ee478e38259d47fdad99b23757ef3d49": {
          "model_module": "@jupyter-widgets/base",
          "model_name": "LayoutModel",
          "model_module_version": "1.2.0",
          "state": {
            "_model_module": "@jupyter-widgets/base",
            "_model_module_version": "1.2.0",
            "_model_name": "LayoutModel",
            "_view_count": null,
            "_view_module": "@jupyter-widgets/base",
            "_view_module_version": "1.2.0",
            "_view_name": "LayoutView",
            "align_content": null,
            "align_items": null,
            "align_self": null,
            "border": null,
            "bottom": null,
            "display": null,
            "flex": null,
            "flex_flow": null,
            "grid_area": null,
            "grid_auto_columns": null,
            "grid_auto_flow": null,
            "grid_auto_rows": null,
            "grid_column": null,
            "grid_gap": null,
            "grid_row": null,
            "grid_template_areas": null,
            "grid_template_columns": null,
            "grid_template_rows": null,
            "height": null,
            "justify_content": null,
            "justify_items": null,
            "left": null,
            "margin": null,
            "max_height": null,
            "max_width": null,
            "min_height": null,
            "min_width": null,
            "object_fit": null,
            "object_position": null,
            "order": null,
            "overflow": null,
            "overflow_x": null,
            "overflow_y": null,
            "padding": null,
            "right": null,
            "top": null,
            "visibility": null,
            "width": null
          }
        },
        "d996c8e364084be8bd1d080899d25882": {
          "model_module": "@jupyter-widgets/controls",
          "model_name": "ProgressStyleModel",
          "model_module_version": "1.5.0",
          "state": {
            "_model_module": "@jupyter-widgets/controls",
            "_model_module_version": "1.5.0",
            "_model_name": "ProgressStyleModel",
            "_view_count": null,
            "_view_module": "@jupyter-widgets/base",
            "_view_module_version": "1.2.0",
            "_view_name": "StyleView",
            "bar_color": null,
            "description_width": ""
          }
        },
        "d1d0c65266654fa0ab086c1778e3060c": {
          "model_module": "@jupyter-widgets/controls",
          "model_name": "TextModel",
          "model_module_version": "1.5.0",
          "state": {
            "_dom_classes": [],
            "_model_module": "@jupyter-widgets/controls",
            "_model_module_version": "1.5.0",
            "_model_name": "TextModel",
            "_view_count": null,
            "_view_module": "@jupyter-widgets/controls",
            "_view_module_version": "1.5.0",
            "_view_name": "TextView",
            "continuous_update": true,
            "description": "",
            "description_tooltip": null,
            "disabled": false,
            "layout": "IPY_MODEL_882441a9e65149d9a3b01b59bcb140ca",
            "placeholder": "​",
            "style": "IPY_MODEL_7841a6b22c2b47b0bdfeaa18ffa065db",
            "value": "Following data types have been inferred automatically, if they are correct press enter to continue or type 'quit' otherwise."
          }
        },
        "882441a9e65149d9a3b01b59bcb140ca": {
          "model_module": "@jupyter-widgets/base",
          "model_name": "LayoutModel",
          "model_module_version": "1.2.0",
          "state": {
            "_model_module": "@jupyter-widgets/base",
            "_model_module_version": "1.2.0",
            "_model_name": "LayoutModel",
            "_view_count": null,
            "_view_module": "@jupyter-widgets/base",
            "_view_module_version": "1.2.0",
            "_view_name": "LayoutView",
            "align_content": null,
            "align_items": null,
            "align_self": null,
            "border": null,
            "bottom": null,
            "display": null,
            "flex": null,
            "flex_flow": null,
            "grid_area": null,
            "grid_auto_columns": null,
            "grid_auto_flow": null,
            "grid_auto_rows": null,
            "grid_column": null,
            "grid_gap": null,
            "grid_row": null,
            "grid_template_areas": null,
            "grid_template_columns": null,
            "grid_template_rows": null,
            "height": null,
            "justify_content": null,
            "justify_items": null,
            "left": null,
            "margin": null,
            "max_height": null,
            "max_width": null,
            "min_height": null,
            "min_width": null,
            "object_fit": null,
            "object_position": null,
            "order": null,
            "overflow": null,
            "overflow_x": null,
            "overflow_y": null,
            "padding": null,
            "right": null,
            "top": null,
            "visibility": null,
            "width": "100%"
          }
        },
        "7841a6b22c2b47b0bdfeaa18ffa065db": {
          "model_module": "@jupyter-widgets/controls",
          "model_name": "DescriptionStyleModel",
          "model_module_version": "1.5.0",
          "state": {
            "_model_module": "@jupyter-widgets/controls",
            "_model_module_version": "1.5.0",
            "_model_name": "DescriptionStyleModel",
            "_view_count": null,
            "_view_module": "@jupyter-widgets/base",
            "_view_module_version": "1.2.0",
            "_view_name": "StyleView",
            "description_width": ""
          }
        },
        "831791c6a85d44d8afde35d35e11ab0e": {
          "model_module": "@jupyter-widgets/controls",
          "model_name": "IntProgressModel",
          "model_module_version": "1.5.0",
          "state": {
            "_dom_classes": [],
            "_model_module": "@jupyter-widgets/controls",
            "_model_module_version": "1.5.0",
            "_model_name": "IntProgressModel",
            "_view_count": null,
            "_view_module": "@jupyter-widgets/controls",
            "_view_module_version": "1.5.0",
            "_view_name": "ProgressView",
            "bar_style": "",
            "description": "Processing: ",
            "description_tooltip": null,
            "layout": "IPY_MODEL_01a5fb577ae34670b5e8c7366a71c83a",
            "max": 79,
            "min": 0,
            "orientation": "horizontal",
            "style": "IPY_MODEL_e4a0b5ef9da64db890fec9a33f31f44c",
            "value": 79
          }
        },
        "01a5fb577ae34670b5e8c7366a71c83a": {
          "model_module": "@jupyter-widgets/base",
          "model_name": "LayoutModel",
          "model_module_version": "1.2.0",
          "state": {
            "_model_module": "@jupyter-widgets/base",
            "_model_module_version": "1.2.0",
            "_model_name": "LayoutModel",
            "_view_count": null,
            "_view_module": "@jupyter-widgets/base",
            "_view_module_version": "1.2.0",
            "_view_name": "LayoutView",
            "align_content": null,
            "align_items": null,
            "align_self": null,
            "border": null,
            "bottom": null,
            "display": null,
            "flex": null,
            "flex_flow": null,
            "grid_area": null,
            "grid_auto_columns": null,
            "grid_auto_flow": null,
            "grid_auto_rows": null,
            "grid_column": null,
            "grid_gap": null,
            "grid_row": null,
            "grid_template_areas": null,
            "grid_template_columns": null,
            "grid_template_rows": null,
            "height": null,
            "justify_content": null,
            "justify_items": null,
            "left": null,
            "margin": null,
            "max_height": null,
            "max_width": null,
            "min_height": null,
            "min_width": null,
            "object_fit": null,
            "object_position": null,
            "order": null,
            "overflow": null,
            "overflow_x": null,
            "overflow_y": null,
            "padding": null,
            "right": null,
            "top": null,
            "visibility": null,
            "width": null
          }
        },
        "e4a0b5ef9da64db890fec9a33f31f44c": {
          "model_module": "@jupyter-widgets/controls",
          "model_name": "ProgressStyleModel",
          "model_module_version": "1.5.0",
          "state": {
            "_model_module": "@jupyter-widgets/controls",
            "_model_module_version": "1.5.0",
            "_model_name": "ProgressStyleModel",
            "_view_count": null,
            "_view_module": "@jupyter-widgets/base",
            "_view_module_version": "1.2.0",
            "_view_name": "StyleView",
            "bar_color": null,
            "description_width": ""
          }
        }
      }
    }
  },
  "nbformat": 4,
  "nbformat_minor": 0
}